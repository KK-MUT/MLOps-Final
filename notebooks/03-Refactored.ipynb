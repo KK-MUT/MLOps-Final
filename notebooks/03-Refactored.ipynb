{
 "cells": [
  {
   "cell_type": "code",
   "execution_count": 1,
   "id": "556f624f",
   "metadata": {},
   "outputs": [],
   "source": [
    "%load_ext autoreload\n",
    "%autoreload 2"
   ]
  },
  {
   "cell_type": "code",
   "execution_count": 2,
   "id": "13e3c32d",
   "metadata": {},
   "outputs": [],
   "source": [
    "#pip install jupyter ipython loguru"
   ]
  },
  {
   "cell_type": "code",
   "execution_count": 3,
   "id": "dd74a45d",
   "metadata": {},
   "outputs": [
    {
     "name": "stderr",
     "output_type": "stream",
     "text": [
      "\u001b[32m2025-05-08 22:17:53.605\u001b[0m | \u001b[1mINFO    \u001b[0m | \u001b[36mARISA_DSML.config\u001b[0m:\u001b[36m<module>\u001b[0m:\u001b[36m12\u001b[0m - \u001b[1mPROJ_ROOT path is: C:\\Users\\Kinga\\Documents\\ARISA\\MLOps-Final\u001b[0m\n"
     ]
    }
   ],
   "source": [
    "import sys\n",
    "import os\n",
    "\n",
    "sys.path.append(os.path.abspath(\"..\"))\n",
    "\n",
    "from ARISA_DSML.preproc import get_raw_data\n",
    "from ARISA_DSML.config import RAW_DATA_DIR, CSV_NAME, target"
   ]
  },
  {
   "cell_type": "code",
   "execution_count": 4,
   "id": "e5df2cf8",
   "metadata": {},
   "outputs": [],
   "source": [
    "import os\n",
    "from pathlib import Path\n",
    "container_check = os.getenv(\"iscontainer\")\n",
    "if container_check==\"y\":\n",
    "    config_dir = Path(\"/home/vscode/.config/kaggle\")\n",
    "    config_dir.mkdir(parents=True, exist_ok=True)\n",
    "\n",
    "    with open(config_dir / \"kaggle.json\", \"w\") as dst:\n",
    "        with open(\"../kaggle.json\", \"r\") as src:\n",
    "            dst.write(src.read())"
   ]
  },
  {
   "cell_type": "code",
   "execution_count": 5,
   "id": "60f792a8",
   "metadata": {},
   "outputs": [
    {
     "name": "stderr",
     "output_type": "stream",
     "text": [
      "\u001b[32m2025-05-08 22:17:53.928\u001b[0m | \u001b[1mINFO    \u001b[0m | \u001b[36mARISA_DSML.preproc\u001b[0m:\u001b[36mget_raw_data\u001b[0m:\u001b[36m21\u001b[0m - \u001b[1mDownloading dataset shahnawaj9/diabetes-database\u001b[0m\n"
     ]
    },
    {
     "name": "stdout",
     "output_type": "stream",
     "text": [
      "Dataset URL: https://www.kaggle.com/datasets/shahnawaj9/diabetes-database\n"
     ]
    },
    {
     "name": "stderr",
     "output_type": "stream",
     "text": [
      "\u001b[32m2025-05-08 22:17:54.542\u001b[0m | \u001b[1mINFO    \u001b[0m | \u001b[36mARISA_DSML.preproc\u001b[0m:\u001b[36mget_raw_data\u001b[0m:\u001b[36m24\u001b[0m - \u001b[1mDownload complete.\u001b[0m\n"
     ]
    }
   ],
   "source": [
    "path_csv = get_raw_data()\n",
    "# !dir \"{RAW_DATA_DIR}\""
   ]
  },
  {
   "cell_type": "code",
   "execution_count": 6,
   "id": "5df94e76",
   "metadata": {},
   "outputs": [
    {
     "name": "stderr",
     "output_type": "stream",
     "text": [
      "\u001b[32m2025-05-08 22:17:54.683\u001b[0m | \u001b[1mINFO    \u001b[0m | \u001b[36mARISA_DSML.preproc\u001b[0m:\u001b[36mpreprocess_df\u001b[0m:\u001b[36m59\u001b[0m - \u001b[1mTrain saved as train.csv, Test saved as test.csv\u001b[0m\n"
     ]
    }
   ],
   "source": [
    "from ARISA_DSML.preproc import preprocess_df\n",
    "\n",
    "train_path, test_path = preprocess_df(RAW_DATA_DIR / CSV_NAME)"
   ]
  },
  {
   "cell_type": "code",
   "execution_count": 7,
   "id": "23ff040f",
   "metadata": {},
   "outputs": [
    {
     "name": "stdout",
     "output_type": "stream",
     "text": [
      "<class 'pandas.core.frame.DataFrame'>\n",
      "RangeIndex: 614 entries, 0 to 613\n",
      "Data columns (total 9 columns):\n",
      " #   Column                    Non-Null Count  Dtype  \n",
      "---  ------                    --------------  -----  \n",
      " 0   pregnancies               614 non-null    int64  \n",
      " 1   glucose                   614 non-null    int64  \n",
      " 2   bloodpressure             614 non-null    int64  \n",
      " 3   skinthickness             614 non-null    int64  \n",
      " 4   insulin                   614 non-null    int64  \n",
      " 5   bmi                       614 non-null    float64\n",
      " 6   diabetespedigreefunction  614 non-null    float64\n",
      " 7   age                       614 non-null    int64  \n",
      " 8   outcome                   614 non-null    int64  \n",
      "dtypes: float64(2), int64(7)\n",
      "memory usage: 43.3 KB\n"
     ]
    }
   ],
   "source": [
    "import pandas as pd\n",
    "df_train = pd.read_csv(train_path)\n",
    "df_train.info()"
   ]
  },
  {
   "cell_type": "code",
   "execution_count": 8,
   "id": "4dae2afd",
   "metadata": {},
   "outputs": [],
   "source": [
    "y_train = df_train.pop(target)\n",
    "X_train = df_train"
   ]
  },
  {
   "cell_type": "code",
   "execution_count": 9,
   "id": "efe8c20c",
   "metadata": {},
   "outputs": [
    {
     "name": "stderr",
     "output_type": "stream",
     "text": [
      "C:\\Users\\Kinga\\AppData\\Roaming\\Python\\Python311\\site-packages\\mlflow\\protos\\service_pb2.py:11: UserWarning: google.protobuf.service module is deprecated. RPC implementations should provide code generator plugins which generate code specific to the RPC implementation. service.py will be removed in Jan 2025\n",
      "  from google.protobuf import service as _service\n",
      "\u001b[32m2025-05-08 22:17:55.949\u001b[0m | \u001b[1mINFO    \u001b[0m | \u001b[36mARISA_DSML.train\u001b[0m:\u001b[36mrun_hyperopt\u001b[0m:\u001b[36m71\u001b[0m - \u001b[1mBest Parameters: {'depth': 4, 'learning_rate': 0.0517580228923669, 'iterations': 184, 'l2_leaf_reg': 0.07973165549227099, 'bagging_temperature': 0.15292750595871435, 'random_strength': 0.0002482703621761438}\u001b[0m\n"
     ]
    }
   ],
   "source": [
    "from ARISA_DSML.train import run_hyperopt\n",
    "\n",
    "best_params_path = run_hyperopt(X_train, y_train)"
   ]
  },
  {
   "cell_type": "code",
   "execution_count": 10,
   "id": "9cd09885",
   "metadata": {},
   "outputs": [
    {
     "name": "stdout",
     "output_type": "stream",
     "text": [
      "Defaulting to user installation because normal site-packages is not writeable\n",
      "Requirement already satisfied: packaging in c:\\users\\kinga\\appdata\\roaming\\python\\python311\\site-packages (24.2)\n"
     ]
    },
    {
     "name": "stderr",
     "output_type": "stream",
     "text": [
      "\n",
      "[notice] A new release of pip is available: 24.0 -> 25.1.1\n",
      "[notice] To update, run: python.exe -m pip install --upgrade pip\n"
     ]
    }
   ],
   "source": [
    "!pip install packaging"
   ]
  },
  {
   "cell_type": "code",
   "execution_count": 11,
   "id": "d430440e",
   "metadata": {},
   "outputs": [
    {
     "data": {
      "text/plain": [
       "{'depth': 4,\n",
       " 'learning_rate': 0.0517580228923669,\n",
       " 'iterations': 184,\n",
       " 'l2_leaf_reg': 0.07973165549227099,\n",
       " 'bagging_temperature': 0.15292750595871435,\n",
       " 'random_strength': 0.0002482703621761438}"
      ]
     },
     "metadata": {},
     "output_type": "display_data"
    },
    {
     "data": {
      "application/vnd.jupyter.widget-view+json": {
       "model_id": "43db8a11f25644c093e16cbbe2298199",
       "version_major": 2,
       "version_minor": 0
      },
      "text/plain": [
       "MetricVisualizer(layout=Layout(align_self='stretch', height='500px'))"
      ]
     },
     "metadata": {},
     "output_type": "display_data"
    },
    {
     "name": "stdout",
     "output_type": "stream",
     "text": [
      "Training on fold [0/5]\n",
      "0:\tlearn: 0.6204620\ttest: 0.7073171\tbest: 0.7073171 (0)\ttotal: 161ms\tremaining: 29.5s\n",
      "1:\tlearn: 0.6410256\ttest: 0.7160494\tbest: 0.7160494 (1)\ttotal: 166ms\tremaining: 15.1s\n",
      "2:\tlearn: 0.6308725\ttest: 0.6842105\tbest: 0.7160494 (1)\ttotal: 170ms\tremaining: 10.3s\n",
      "3:\tlearn: 0.6462585\ttest: 0.6666667\tbest: 0.7160494 (1)\ttotal: 174ms\tremaining: 7.84s\n",
      "4:\tlearn: 0.6644951\ttest: 0.7012987\tbest: 0.7160494 (1)\ttotal: 177ms\tremaining: 6.33s\n",
      "5:\tlearn: 0.6644295\ttest: 0.6666667\tbest: 0.7160494 (1)\ttotal: 179ms\tremaining: 5.31s\n",
      "6:\tlearn: 0.6576271\ttest: 0.6666667\tbest: 0.7160494 (1)\ttotal: 181ms\tremaining: 4.57s\n",
      "7:\tlearn: 0.6644068\ttest: 0.6575342\tbest: 0.7160494 (1)\ttotal: 183ms\tremaining: 4.02s\n",
      "8:\tlearn: 0.6712329\ttest: 0.6575342\tbest: 0.7160494 (1)\ttotal: 184ms\tremaining: 3.59s\n",
      "9:\tlearn: 0.6755853\ttest: 0.6756757\tbest: 0.7160494 (1)\ttotal: 186ms\tremaining: 3.24s\n",
      "10:\tlearn: 0.6824324\ttest: 0.6575342\tbest: 0.7160494 (1)\ttotal: 188ms\tremaining: 2.95s\n",
      "11:\tlearn: 0.6912752\ttest: 0.6575342\tbest: 0.7160494 (1)\ttotal: 190ms\tremaining: 2.72s\n",
      "12:\tlearn: 0.6956522\ttest: 0.6666667\tbest: 0.7160494 (1)\ttotal: 191ms\tremaining: 2.52s\n",
      "13:\tlearn: 0.7006803\ttest: 0.6760563\tbest: 0.7160494 (1)\ttotal: 193ms\tremaining: 2.34s\n",
      "14:\tlearn: 0.7003367\ttest: 0.7027027\tbest: 0.7160494 (1)\ttotal: 195ms\tremaining: 2.19s\n",
      "15:\tlearn: 0.6849315\ttest: 0.7297297\tbest: 0.7297297 (15)\ttotal: 197ms\tremaining: 2.06s\n",
      "16:\tlearn: 0.6849315\ttest: 0.6666667\tbest: 0.7297297 (15)\ttotal: 198ms\tremaining: 1.95s\n",
      "17:\tlearn: 0.6825939\ttest: 0.6944444\tbest: 0.7297297 (15)\ttotal: 200ms\tremaining: 1.84s\n",
      "18:\tlearn: 0.6891892\ttest: 0.6756757\tbest: 0.7297297 (15)\ttotal: 202ms\tremaining: 1.75s\n",
      "19:\tlearn: 0.6965517\ttest: 0.6197183\tbest: 0.7297297 (15)\ttotal: 204ms\tremaining: 1.67s\n",
      "20:\tlearn: 0.6986301\ttest: 0.6285714\tbest: 0.7297297 (15)\ttotal: 205ms\tremaining: 1.59s\n",
      "21:\tlearn: 0.6986301\ttest: 0.6285714\tbest: 0.7297297 (15)\ttotal: 208ms\tremaining: 1.53s\n",
      "22:\tlearn: 0.7054795\ttest: 0.6478873\tbest: 0.7297297 (15)\ttotal: 210ms\tremaining: 1.47s\n",
      "23:\tlearn: 0.7034483\ttest: 0.6285714\tbest: 0.7297297 (15)\ttotal: 212ms\tremaining: 1.41s\n",
      "24:\tlearn: 0.7006803\ttest: 0.6478873\tbest: 0.7297297 (15)\ttotal: 213ms\tremaining: 1.36s\n",
      "25:\tlearn: 0.7098976\ttest: 0.6478873\tbest: 0.7297297 (15)\ttotal: 215ms\tremaining: 1.31s\n",
      "26:\tlearn: 0.7162162\ttest: 0.6575342\tbest: 0.7297297 (15)\ttotal: 217ms\tremaining: 1.26s\n",
      "27:\tlearn: 0.7030717\ttest: 0.6849315\tbest: 0.7297297 (15)\ttotal: 218ms\tremaining: 1.22s\n",
      "28:\tlearn: 0.7098976\ttest: 0.6760563\tbest: 0.7297297 (15)\ttotal: 220ms\tremaining: 1.18s\n",
      "29:\tlearn: 0.7050847\ttest: 0.6944444\tbest: 0.7297297 (15)\ttotal: 223ms\tremaining: 1.14s\n",
      "30:\tlearn: 0.7210884\ttest: 0.7123288\tbest: 0.7297297 (15)\ttotal: 224ms\tremaining: 1.11s\n",
      "31:\tlearn: 0.7210884\ttest: 0.7027027\tbest: 0.7297297 (15)\ttotal: 226ms\tremaining: 1.07s\n",
      "32:\tlearn: 0.7167235\ttest: 0.6933333\tbest: 0.7297297 (15)\ttotal: 228ms\tremaining: 1.04s\n",
      "33:\tlearn: 0.7235495\ttest: 0.6933333\tbest: 0.7297297 (15)\ttotal: 229ms\tremaining: 1.01s\n",
      "34:\tlearn: 0.7285223\ttest: 0.7027027\tbest: 0.7297297 (15)\ttotal: 231ms\tremaining: 984ms\n",
      "35:\tlearn: 0.7440273\ttest: 0.7027027\tbest: 0.7297297 (15)\ttotal: 233ms\tremaining: 957ms\n",
      "36:\tlearn: 0.7576792\ttest: 0.6849315\tbest: 0.7297297 (15)\ttotal: 235ms\tremaining: 932ms\n",
      "37:\tlearn: 0.7671233\ttest: 0.7200000\tbest: 0.7297297 (15)\ttotal: 238ms\tremaining: 913ms\n",
      "38:\tlearn: 0.7576792\ttest: 0.7200000\tbest: 0.7297297 (15)\ttotal: 239ms\tremaining: 889ms\n",
      "39:\tlearn: 0.7687075\ttest: 0.7368421\tbest: 0.7368421 (39)\ttotal: 241ms\tremaining: 867ms\n",
      "40:\tlearn: 0.7619048\ttest: 0.7631579\tbest: 0.7631579 (40)\ttotal: 243ms\tremaining: 846ms\n",
      "41:\tlearn: 0.7661017\ttest: 0.7466667\tbest: 0.7631579 (40)\ttotal: 244ms\tremaining: 826ms\n",
      "42:\tlearn: 0.7687075\ttest: 0.7631579\tbest: 0.7631579 (40)\ttotal: 246ms\tremaining: 807ms\n",
      "43:\tlearn: 0.7713311\ttest: 0.7368421\tbest: 0.7631579 (40)\ttotal: 248ms\tremaining: 788ms\n",
      "44:\tlearn: 0.7755102\ttest: 0.7368421\tbest: 0.7631579 (40)\ttotal: 250ms\tremaining: 771ms\n",
      "45:\tlearn: 0.7770270\ttest: 0.7200000\tbest: 0.7631579 (40)\ttotal: 251ms\tremaining: 754ms\n",
      "46:\tlearn: 0.7755102\ttest: 0.7272727\tbest: 0.7631579 (40)\ttotal: 253ms\tremaining: 738ms\n",
      "47:\tlearn: 0.7878788\ttest: 0.7368421\tbest: 0.7631579 (40)\ttotal: 255ms\tremaining: 722ms\n",
      "48:\tlearn: 0.7986577\ttest: 0.7200000\tbest: 0.7631579 (40)\ttotal: 257ms\tremaining: 707ms\n",
      "49:\tlearn: 0.7946128\ttest: 0.7200000\tbest: 0.7631579 (40)\ttotal: 258ms\tremaining: 692ms\n",
      "50:\tlearn: 0.7986577\ttest: 0.7368421\tbest: 0.7631579 (40)\ttotal: 260ms\tremaining: 678ms\n",
      "51:\tlearn: 0.8053691\ttest: 0.7368421\tbest: 0.7631579 (40)\ttotal: 262ms\tremaining: 664ms\n",
      "52:\tlearn: 0.8093645\ttest: 0.7368421\tbest: 0.7631579 (40)\ttotal: 264ms\tremaining: 652ms\n",
      "53:\tlearn: 0.8053691\ttest: 0.7368421\tbest: 0.7631579 (40)\ttotal: 266ms\tremaining: 640ms\n",
      "54:\tlearn: 0.8053691\ttest: 0.7368421\tbest: 0.7631579 (40)\ttotal: 267ms\tremaining: 627ms\n",
      "55:\tlearn: 0.8066667\ttest: 0.7272727\tbest: 0.7631579 (40)\ttotal: 269ms\tremaining: 615ms\n",
      "56:\tlearn: 0.8066667\ttest: 0.7435897\tbest: 0.7631579 (40)\ttotal: 271ms\tremaining: 603ms\n",
      "57:\tlearn: 0.8106312\ttest: 0.7368421\tbest: 0.7631579 (40)\ttotal: 273ms\tremaining: 592ms\n",
      "58:\tlearn: 0.8184818\ttest: 0.7532468\tbest: 0.7631579 (40)\ttotal: 274ms\tremaining: 581ms\n",
      "59:\tlearn: 0.8184818\ttest: 0.7532468\tbest: 0.7631579 (40)\ttotal: 276ms\tremaining: 570ms\n",
      "60:\tlearn: 0.8133333\ttest: 0.7368421\tbest: 0.7631579 (40)\ttotal: 278ms\tremaining: 561ms\n",
      "61:\tlearn: 0.8211921\ttest: 0.7368421\tbest: 0.7631579 (40)\ttotal: 280ms\tremaining: 551ms\n",
      "62:\tlearn: 0.8289474\ttest: 0.7368421\tbest: 0.7631579 (40)\ttotal: 282ms\tremaining: 541ms\n",
      "63:\tlearn: 0.8431373\ttest: 0.7532468\tbest: 0.7631579 (40)\ttotal: 283ms\tremaining: 531ms\n",
      "64:\tlearn: 0.8469055\ttest: 0.7532468\tbest: 0.7631579 (40)\ttotal: 285ms\tremaining: 522ms\n",
      "65:\tlearn: 0.8506494\ttest: 0.7532468\tbest: 0.7631579 (40)\ttotal: 287ms\tremaining: 513ms\n",
      "66:\tlearn: 0.8506494\ttest: 0.7532468\tbest: 0.7631579 (40)\ttotal: 288ms\tremaining: 504ms\n",
      "67:\tlearn: 0.8534202\ttest: 0.7532468\tbest: 0.7631579 (40)\ttotal: 290ms\tremaining: 495ms\n",
      "68:\tlearn: 0.8608414\ttest: 0.7532468\tbest: 0.7631579 (40)\ttotal: 292ms\tremaining: 487ms\n",
      "69:\tlearn: 0.8645161\ttest: 0.7532468\tbest: 0.7631579 (40)\ttotal: 294ms\tremaining: 480ms\n",
      "70:\tlearn: 0.8645161\ttest: 0.7532468\tbest: 0.7631579 (40)\ttotal: 296ms\tremaining: 472ms\n",
      "71:\tlearn: 0.8681672\ttest: 0.7532468\tbest: 0.7631579 (40)\ttotal: 298ms\tremaining: 464ms\n",
      "72:\tlearn: 0.8681672\ttest: 0.7532468\tbest: 0.7631579 (40)\ttotal: 300ms\tremaining: 456ms\n",
      "73:\tlearn: 0.8681672\ttest: 0.7368421\tbest: 0.7631579 (40)\ttotal: 302ms\tremaining: 448ms\n",
      "74:\tlearn: 0.8717949\ttest: 0.7368421\tbest: 0.7631579 (40)\ttotal: 304ms\tremaining: 442ms\n",
      "75:\tlearn: 0.8717949\ttest: 0.7368421\tbest: 0.7631579 (40)\ttotal: 306ms\tremaining: 434ms\n",
      "76:\tlearn: 0.8717949\ttest: 0.7272727\tbest: 0.7631579 (40)\ttotal: 307ms\tremaining: 427ms\n",
      "77:\tlearn: 0.8745981\ttest: 0.7272727\tbest: 0.7631579 (40)\ttotal: 309ms\tremaining: 420ms\n",
      "78:\tlearn: 0.8745981\ttest: 0.7272727\tbest: 0.7631579 (40)\ttotal: 311ms\tremaining: 413ms\n",
      "79:\tlearn: 0.8745981\ttest: 0.7272727\tbest: 0.7631579 (40)\ttotal: 312ms\tremaining: 406ms\n",
      "80:\tlearn: 0.8745981\ttest: 0.7272727\tbest: 0.7631579 (40)\ttotal: 314ms\tremaining: 399ms\n",
      "81:\tlearn: 0.8745981\ttest: 0.7272727\tbest: 0.7631579 (40)\ttotal: 316ms\tremaining: 393ms\n",
      "82:\tlearn: 0.8717949\ttest: 0.7272727\tbest: 0.7631579 (40)\ttotal: 317ms\tremaining: 386ms\n",
      "83:\tlearn: 0.8753994\ttest: 0.7435897\tbest: 0.7631579 (40)\ttotal: 319ms\tremaining: 380ms\n",
      "84:\tlearn: 0.8717949\ttest: 0.7435897\tbest: 0.7631579 (40)\ttotal: 321ms\tremaining: 374ms\n",
      "85:\tlearn: 0.8717949\ttest: 0.7435897\tbest: 0.7631579 (40)\ttotal: 324ms\tremaining: 369ms\n",
      "86:\tlearn: 0.8717949\ttest: 0.7435897\tbest: 0.7631579 (40)\ttotal: 326ms\tremaining: 363ms\n",
      "87:\tlearn: 0.8753994\ttest: 0.7435897\tbest: 0.7631579 (40)\ttotal: 327ms\tremaining: 357ms\n",
      "88:\tlearn: 0.8753994\ttest: 0.7272727\tbest: 0.7631579 (40)\ttotal: 329ms\tremaining: 351ms\n",
      "89:\tlearn: 0.8753994\ttest: 0.7435897\tbest: 0.7631579 (40)\ttotal: 331ms\tremaining: 346ms\n",
      "90:\tlearn: 0.8753994\ttest: 0.7435897\tbest: 0.7631579 (40)\ttotal: 333ms\tremaining: 340ms\n",
      "91:\tlearn: 0.8753994\ttest: 0.7435897\tbest: 0.7631579 (40)\ttotal: 335ms\tremaining: 335ms\n",
      "92:\tlearn: 0.8753994\ttest: 0.7435897\tbest: 0.7631579 (40)\ttotal: 336ms\tremaining: 329ms\n",
      "93:\tlearn: 0.8753994\ttest: 0.7435897\tbest: 0.7631579 (40)\ttotal: 338ms\tremaining: 324ms\n",
      "94:\tlearn: 0.8817891\ttest: 0.7594937\tbest: 0.7631579 (40)\ttotal: 340ms\tremaining: 318ms\n",
      "95:\tlearn: 0.8789809\ttest: 0.7692308\tbest: 0.7692308 (95)\ttotal: 341ms\tremaining: 313ms\n",
      "96:\tlearn: 0.8817891\ttest: 0.7692308\tbest: 0.7692308 (95)\ttotal: 343ms\tremaining: 308ms\n",
      "97:\tlearn: 0.8825397\ttest: 0.7532468\tbest: 0.7692308 (95)\ttotal: 345ms\tremaining: 302ms\n",
      "98:\tlearn: 0.8853503\ttest: 0.7532468\tbest: 0.7692308 (95)\ttotal: 346ms\tremaining: 297ms\n",
      "99:\tlearn: 0.8853503\ttest: 0.7532468\tbest: 0.7692308 (95)\ttotal: 349ms\tremaining: 293ms\n",
      "100:\tlearn: 0.8917197\ttest: 0.7532468\tbest: 0.7692308 (95)\ttotal: 351ms\tremaining: 288ms\n",
      "101:\tlearn: 0.8917197\ttest: 0.7692308\tbest: 0.7692308 (95)\ttotal: 353ms\tremaining: 283ms\n",
      "102:\tlearn: 0.8888889\ttest: 0.7692308\tbest: 0.7692308 (95)\ttotal: 354ms\tremaining: 279ms\n",
      "103:\tlearn: 0.8917197\ttest: 0.7692308\tbest: 0.7692308 (95)\ttotal: 356ms\tremaining: 274ms\n",
      "104:\tlearn: 0.8917197\ttest: 0.7692308\tbest: 0.7692308 (95)\ttotal: 358ms\tremaining: 269ms\n",
      "105:\tlearn: 0.8952381\ttest: 0.7692308\tbest: 0.7692308 (95)\ttotal: 359ms\tremaining: 264ms\n",
      "106:\tlearn: 0.8952381\ttest: 0.7692308\tbest: 0.7692308 (95)\ttotal: 361ms\tremaining: 260ms\n",
      "107:\tlearn: 0.8952381\ttest: 0.7692308\tbest: 0.7692308 (95)\ttotal: 363ms\tremaining: 255ms\n",
      "108:\tlearn: 0.8987342\ttest: 0.7594937\tbest: 0.7692308 (95)\ttotal: 365ms\tremaining: 251ms\n",
      "109:\tlearn: 0.8987342\ttest: 0.7594937\tbest: 0.7692308 (95)\ttotal: 366ms\tremaining: 246ms\n",
      "110:\tlearn: 0.8987342\ttest: 0.7594937\tbest: 0.7692308 (95)\ttotal: 368ms\tremaining: 242ms\n",
      "111:\tlearn: 0.8987342\ttest: 0.7594937\tbest: 0.7692308 (95)\ttotal: 370ms\tremaining: 238ms\n",
      "112:\tlearn: 0.8987342\ttest: 0.7750000\tbest: 0.7750000 (112)\ttotal: 371ms\tremaining: 233ms\n",
      "113:\tlearn: 0.9022082\ttest: 0.7750000\tbest: 0.7750000 (112)\ttotal: 373ms\tremaining: 229ms\n",
      "114:\tlearn: 0.9079365\ttest: 0.7750000\tbest: 0.7750000 (112)\ttotal: 375ms\tremaining: 225ms\n",
      "115:\tlearn: 0.9079365\ttest: 0.7594937\tbest: 0.7750000 (112)\ttotal: 377ms\tremaining: 221ms\n",
      "116:\tlearn: 0.9148265\ttest: 0.7692308\tbest: 0.7750000 (112)\ttotal: 380ms\tremaining: 218ms\n",
      "117:\tlearn: 0.9148265\ttest: 0.7692308\tbest: 0.7750000 (112)\ttotal: 384ms\tremaining: 215ms\n",
      "118:\tlearn: 0.9113924\ttest: 0.7692308\tbest: 0.7750000 (112)\ttotal: 386ms\tremaining: 211ms\n",
      "119:\tlearn: 0.9079365\ttest: 0.7594937\tbest: 0.7750000 (112)\ttotal: 388ms\tremaining: 207ms\n",
      "120:\tlearn: 0.9113924\ttest: 0.7692308\tbest: 0.7750000 (112)\ttotal: 391ms\tremaining: 203ms\n",
      "121:\tlearn: 0.9148265\ttest: 0.7692308\tbest: 0.7750000 (112)\ttotal: 392ms\tremaining: 199ms\n",
      "122:\tlearn: 0.9148265\ttest: 0.7692308\tbest: 0.7750000 (112)\ttotal: 395ms\tremaining: 196ms\n",
      "123:\tlearn: 0.9216301\ttest: 0.7594937\tbest: 0.7750000 (112)\ttotal: 396ms\tremaining: 192ms\n",
      "124:\tlearn: 0.9182390\ttest: 0.7750000\tbest: 0.7750000 (112)\ttotal: 398ms\tremaining: 188ms\n",
      "125:\tlearn: 0.9250000\ttest: 0.7750000\tbest: 0.7750000 (112)\ttotal: 400ms\tremaining: 184ms\n",
      "126:\tlearn: 0.9250000\ttest: 0.7901235\tbest: 0.7901235 (126)\ttotal: 401ms\tremaining: 180ms\n",
      "127:\tlearn: 0.9250000\ttest: 0.7901235\tbest: 0.7901235 (126)\ttotal: 403ms\tremaining: 176ms\n",
      "128:\tlearn: 0.9216301\ttest: 0.7901235\tbest: 0.7901235 (126)\ttotal: 405ms\tremaining: 173ms\n",
      "129:\tlearn: 0.9216301\ttest: 0.7901235\tbest: 0.7901235 (126)\ttotal: 408ms\tremaining: 169ms\n",
      "130:\tlearn: 0.9283489\ttest: 0.7901235\tbest: 0.7901235 (126)\ttotal: 410ms\tremaining: 166ms\n",
      "131:\tlearn: 0.9283489\ttest: 0.7901235\tbest: 0.7901235 (126)\ttotal: 412ms\tremaining: 162ms\n",
      "132:\tlearn: 0.9283489\ttest: 0.7901235\tbest: 0.7901235 (126)\ttotal: 414ms\tremaining: 159ms\n",
      "133:\tlearn: 0.9283489\ttest: 0.7901235\tbest: 0.7901235 (126)\ttotal: 415ms\tremaining: 155ms\n",
      "134:\tlearn: 0.9283489\ttest: 0.7901235\tbest: 0.7901235 (126)\ttotal: 417ms\tremaining: 151ms\n",
      "135:\tlearn: 0.9283489\ttest: 0.7901235\tbest: 0.7901235 (126)\ttotal: 419ms\tremaining: 148ms\n",
      "136:\tlearn: 0.9283489\ttest: 0.7901235\tbest: 0.7901235 (126)\ttotal: 421ms\tremaining: 144ms\n",
      "137:\tlearn: 0.9254658\ttest: 0.7901235\tbest: 0.7901235 (126)\ttotal: 423ms\tremaining: 141ms\n",
      "138:\tlearn: 0.9283489\ttest: 0.7901235\tbest: 0.7901235 (126)\ttotal: 425ms\tremaining: 137ms\n",
      "139:\tlearn: 0.9283489\ttest: 0.7901235\tbest: 0.7901235 (126)\ttotal: 426ms\tremaining: 134ms\n",
      "140:\tlearn: 0.9283489\ttest: 0.7901235\tbest: 0.7901235 (126)\ttotal: 428ms\tremaining: 131ms\n",
      "141:\tlearn: 0.9283489\ttest: 0.7901235\tbest: 0.7901235 (126)\ttotal: 430ms\tremaining: 127ms\n",
      "142:\tlearn: 0.9283489\ttest: 0.7901235\tbest: 0.7901235 (126)\ttotal: 431ms\tremaining: 124ms\n",
      "143:\tlearn: 0.9316770\ttest: 0.7901235\tbest: 0.7901235 (126)\ttotal: 433ms\tremaining: 120ms\n",
      "144:\tlearn: 0.9316770\ttest: 0.7901235\tbest: 0.7901235 (126)\ttotal: 435ms\tremaining: 117ms\n",
      "145:\tlearn: 0.9382716\ttest: 0.7901235\tbest: 0.7901235 (126)\ttotal: 439ms\tremaining: 114ms\n",
      "146:\tlearn: 0.9382716\ttest: 0.7901235\tbest: 0.7901235 (126)\ttotal: 443ms\tremaining: 111ms\n",
      "147:\tlearn: 0.9382716\ttest: 0.7901235\tbest: 0.7901235 (126)\ttotal: 445ms\tremaining: 108ms\n",
      "148:\tlearn: 0.9382716\ttest: 0.7901235\tbest: 0.7901235 (126)\ttotal: 447ms\tremaining: 105ms\n",
      "149:\tlearn: 0.9349845\ttest: 0.7901235\tbest: 0.7901235 (126)\ttotal: 449ms\tremaining: 102ms\n",
      "150:\tlearn: 0.9382716\ttest: 0.7901235\tbest: 0.7901235 (126)\ttotal: 450ms\tremaining: 98.4ms\n",
      "151:\tlearn: 0.9349845\ttest: 0.7901235\tbest: 0.7901235 (126)\ttotal: 452ms\tremaining: 95.2ms\n",
      "152:\tlearn: 0.9382716\ttest: 0.7901235\tbest: 0.7901235 (126)\ttotal: 454ms\tremaining: 91.9ms\n",
      "153:\tlearn: 0.9382716\ttest: 0.7901235\tbest: 0.7901235 (126)\ttotal: 455ms\tremaining: 88.7ms\n",
      "154:\tlearn: 0.9447853\ttest: 0.7901235\tbest: 0.7901235 (126)\ttotal: 457ms\tremaining: 85.5ms\n",
      "155:\tlearn: 0.9447853\ttest: 0.7901235\tbest: 0.7901235 (126)\ttotal: 459ms\tremaining: 82.4ms\n",
      "156:\tlearn: 0.9480122\ttest: 0.7901235\tbest: 0.7901235 (126)\ttotal: 461ms\tremaining: 79.3ms\n",
      "157:\tlearn: 0.9480122\ttest: 0.7901235\tbest: 0.7901235 (126)\ttotal: 463ms\tremaining: 76.1ms\n",
      "158:\tlearn: 0.9447853\ttest: 0.7750000\tbest: 0.7901235 (126)\ttotal: 464ms\tremaining: 73ms\n",
      "159:\tlearn: 0.9447853\ttest: 0.7594937\tbest: 0.7901235 (126)\ttotal: 468ms\tremaining: 70.1ms\n",
      "160:\tlearn: 0.9480122\ttest: 0.7750000\tbest: 0.7901235 (126)\ttotal: 469ms\tremaining: 67ms\n",
      "161:\tlearn: 0.9480122\ttest: 0.7750000\tbest: 0.7901235 (126)\ttotal: 471ms\tremaining: 64ms\n",
      "162:\tlearn: 0.9512195\ttest: 0.7750000\tbest: 0.7901235 (126)\ttotal: 473ms\tremaining: 60.9ms\n",
      "163:\tlearn: 0.9480122\ttest: 0.7750000\tbest: 0.7901235 (126)\ttotal: 474ms\tremaining: 57.8ms\n",
      "164:\tlearn: 0.9512195\ttest: 0.7750000\tbest: 0.7901235 (126)\ttotal: 476ms\tremaining: 54.8ms\n",
      "165:\tlearn: 0.9480122\ttest: 0.7750000\tbest: 0.7901235 (126)\ttotal: 478ms\tremaining: 51.8ms\n",
      "166:\tlearn: 0.9544073\ttest: 0.7750000\tbest: 0.7901235 (126)\ttotal: 479ms\tremaining: 48.8ms\n",
      "167:\tlearn: 0.9544073\ttest: 0.7750000\tbest: 0.7901235 (126)\ttotal: 481ms\tremaining: 45.8ms\n",
      "168:\tlearn: 0.9544073\ttest: 0.7750000\tbest: 0.7901235 (126)\ttotal: 483ms\tremaining: 42.9ms\n",
      "169:\tlearn: 0.9544073\ttest: 0.7750000\tbest: 0.7901235 (126)\ttotal: 485ms\tremaining: 39.9ms\n",
      "170:\tlearn: 0.9512195\ttest: 0.7750000\tbest: 0.7901235 (126)\ttotal: 486ms\tremaining: 37ms\n",
      "171:\tlearn: 0.9573171\ttest: 0.7901235\tbest: 0.7901235 (126)\ttotal: 488ms\tremaining: 34ms\n",
      "172:\tlearn: 0.9604863\ttest: 0.7901235\tbest: 0.7901235 (126)\ttotal: 490ms\tremaining: 31.1ms\n",
      "173:\tlearn: 0.9604863\ttest: 0.7901235\tbest: 0.7901235 (126)\ttotal: 491ms\tremaining: 28.2ms\n",
      "174:\tlearn: 0.9604863\ttest: 0.7901235\tbest: 0.7901235 (126)\ttotal: 493ms\tremaining: 25.4ms\n",
      "175:\tlearn: 0.9604863\ttest: 0.7901235\tbest: 0.7901235 (126)\ttotal: 495ms\tremaining: 22.5ms\n",
      "176:\tlearn: 0.9636364\ttest: 0.7901235\tbest: 0.7901235 (126)\ttotal: 497ms\tremaining: 19.7ms\n",
      "177:\tlearn: 0.9636364\ttest: 0.7901235\tbest: 0.7901235 (126)\ttotal: 499ms\tremaining: 16.8ms\n",
      "178:\tlearn: 0.9604863\ttest: 0.7901235\tbest: 0.7901235 (126)\ttotal: 501ms\tremaining: 14ms\n",
      "179:\tlearn: 0.9667674\ttest: 0.7901235\tbest: 0.7901235 (126)\ttotal: 502ms\tremaining: 11.2ms\n",
      "180:\tlearn: 0.9698795\ttest: 0.7901235\tbest: 0.7901235 (126)\ttotal: 504ms\tremaining: 8.36ms\n",
      "181:\tlearn: 0.9729730\ttest: 0.7901235\tbest: 0.7901235 (126)\ttotal: 506ms\tremaining: 5.56ms\n",
      "182:\tlearn: 0.9729730\ttest: 0.7901235\tbest: 0.7901235 (126)\ttotal: 508ms\tremaining: 2.77ms\n",
      "183:\tlearn: 0.9729730\ttest: 0.7901235\tbest: 0.7901235 (126)\ttotal: 509ms\tremaining: 0us\n",
      "\n",
      "bestTest = 0.7901234568\n",
      "bestIteration = 126\n",
      "\n",
      "Training on fold [1/5]\n",
      "0:\tlearn: 0.6956522\ttest: 0.5714286\tbest: 0.5714286 (0)\ttotal: 1.77ms\tremaining: 324ms\n",
      "1:\tlearn: 0.7000000\ttest: 0.5897436\tbest: 0.5897436 (1)\ttotal: 3.4ms\tremaining: 309ms\n",
      "2:\tlearn: 0.7112462\ttest: 0.6250000\tbest: 0.6250000 (2)\ttotal: 5.03ms\tremaining: 303ms\n",
      "3:\tlearn: 0.7312500\ttest: 0.6233766\tbest: 0.6250000 (2)\ttotal: 6.64ms\tremaining: 299ms\n",
      "4:\tlearn: 0.7469136\ttest: 0.5974026\tbest: 0.6250000 (2)\ttotal: 8.22ms\tremaining: 294ms\n",
      "5:\tlearn: 0.7335423\ttest: 0.6075949\tbest: 0.6250000 (2)\ttotal: 9.83ms\tremaining: 292ms\n",
      "6:\tlearn: 0.7215190\ttest: 0.5866667\tbest: 0.6250000 (2)\ttotal: 11.7ms\tremaining: 295ms\n",
      "7:\tlearn: 0.7492260\ttest: 0.5897436\tbest: 0.6250000 (2)\ttotal: 13.5ms\tremaining: 297ms\n",
      "8:\tlearn: 0.7444795\ttest: 0.5897436\tbest: 0.6250000 (2)\ttotal: 15.2ms\tremaining: 295ms\n",
      "9:\tlearn: 0.7365079\ttest: 0.5897436\tbest: 0.6250000 (2)\ttotal: 16.8ms\tremaining: 293ms\n",
      "10:\tlearn: 0.7405063\ttest: 0.5974026\tbest: 0.6250000 (2)\ttotal: 18.5ms\tremaining: 291ms\n",
      "11:\tlearn: 0.7421384\ttest: 0.5974026\tbest: 0.6250000 (2)\ttotal: 20.1ms\tremaining: 288ms\n",
      "12:\tlearn: 0.7500000\ttest: 0.5714286\tbest: 0.6250000 (2)\ttotal: 21.8ms\tremaining: 286ms\n",
      "13:\tlearn: 0.7468354\ttest: 0.5974026\tbest: 0.6250000 (2)\ttotal: 23.4ms\tremaining: 285ms\n",
      "14:\tlearn: 0.7435897\ttest: 0.5866667\tbest: 0.6250000 (2)\ttotal: 25.2ms\tremaining: 284ms\n",
      "15:\tlearn: 0.7402597\ttest: 0.5405405\tbest: 0.6250000 (2)\ttotal: 27ms\tremaining: 283ms\n",
      "16:\tlearn: 0.7475410\ttest: 0.5479452\tbest: 0.6250000 (2)\ttotal: 28.6ms\tremaining: 281ms\n",
      "17:\tlearn: 0.7350993\ttest: 0.5555556\tbest: 0.6250000 (2)\ttotal: 30.3ms\tremaining: 279ms\n",
      "18:\tlearn: 0.7500000\ttest: 0.5479452\tbest: 0.6250000 (2)\ttotal: 31.9ms\tremaining: 277ms\n",
      "19:\tlearn: 0.7565789\ttest: 0.5479452\tbest: 0.6250000 (2)\ttotal: 33.5ms\tremaining: 275ms\n",
      "20:\tlearn: 0.7631579\ttest: 0.5479452\tbest: 0.6250000 (2)\ttotal: 35.1ms\tremaining: 273ms\n",
      "21:\tlearn: 0.7737705\ttest: 0.5352113\tbest: 0.6250000 (2)\ttotal: 36.8ms\tremaining: 271ms\n",
      "22:\tlearn: 0.7882736\ttest: 0.5633803\tbest: 0.6250000 (2)\ttotal: 38.9ms\tremaining: 272ms\n",
      "23:\tlearn: 0.7817590\ttest: 0.5507246\tbest: 0.6250000 (2)\ttotal: 41ms\tremaining: 273ms\n",
      "24:\tlearn: 0.7792208\ttest: 0.5428571\tbest: 0.6250000 (2)\ttotal: 42.6ms\tremaining: 271ms\n",
      "25:\tlearn: 0.7792208\ttest: 0.5714286\tbest: 0.6250000 (2)\ttotal: 44.3ms\tremaining: 269ms\n",
      "26:\tlearn: 0.7831715\ttest: 0.5915493\tbest: 0.6250000 (2)\ttotal: 45.9ms\tremaining: 267ms\n",
      "27:\tlearn: 0.7882736\ttest: 0.5915493\tbest: 0.6250000 (2)\ttotal: 47.6ms\tremaining: 265ms\n",
      "28:\tlearn: 0.8000000\ttest: 0.5866667\tbest: 0.6250000 (2)\ttotal: 49.2ms\tremaining: 263ms\n",
      "29:\tlearn: 0.8012821\ttest: 0.5753425\tbest: 0.6250000 (2)\ttotal: 50.8ms\tremaining: 261ms\n",
      "30:\tlearn: 0.8076923\ttest: 0.5675676\tbest: 0.6250000 (2)\ttotal: 52.4ms\tremaining: 259ms\n",
      "31:\tlearn: 0.8076923\ttest: 0.5753425\tbest: 0.6250000 (2)\ttotal: 55.4ms\tremaining: 263ms\n",
      "32:\tlearn: 0.8152866\ttest: 0.5945946\tbest: 0.6250000 (2)\ttotal: 57.1ms\tremaining: 261ms\n",
      "33:\tlearn: 0.8190476\ttest: 0.5945946\tbest: 0.6250000 (2)\ttotal: 58.7ms\tremaining: 259ms\n",
      "34:\tlearn: 0.8126984\ttest: 0.5945946\tbest: 0.6250000 (2)\ttotal: 60.3ms\tremaining: 257ms\n",
      "35:\tlearn: 0.8152866\ttest: 0.5945946\tbest: 0.6250000 (2)\ttotal: 62ms\tremaining: 255ms\n",
      "36:\tlearn: 0.8152866\ttest: 0.5945946\tbest: 0.6250000 (2)\ttotal: 63.6ms\tremaining: 253ms\n",
      "37:\tlearn: 0.8190476\ttest: 0.5945946\tbest: 0.6250000 (2)\ttotal: 65.3ms\tremaining: 251ms\n",
      "38:\tlearn: 0.8190476\ttest: 0.6052632\tbest: 0.6250000 (2)\ttotal: 67ms\tremaining: 249ms\n",
      "39:\tlearn: 0.8227848\ttest: 0.6133333\tbest: 0.6250000 (2)\ttotal: 68.7ms\tremaining: 247ms\n",
      "40:\tlearn: 0.8227848\ttest: 0.6133333\tbest: 0.6250000 (2)\ttotal: 70.3ms\tremaining: 245ms\n",
      "41:\tlearn: 0.8216561\ttest: 0.6133333\tbest: 0.6250000 (2)\ttotal: 71.9ms\tremaining: 243ms\n",
      "42:\tlearn: 0.8301887\ttest: 0.6133333\tbest: 0.6250000 (2)\ttotal: 73.4ms\tremaining: 241ms\n",
      "43:\tlearn: 0.8301887\ttest: 0.6216216\tbest: 0.6250000 (2)\ttotal: 75.1ms\tremaining: 239ms\n",
      "44:\tlearn: 0.8375000\ttest: 0.6133333\tbest: 0.6250000 (2)\ttotal: 76.7ms\tremaining: 237ms\n",
      "45:\tlearn: 0.8328076\ttest: 0.6052632\tbest: 0.6250000 (2)\ttotal: 78.3ms\tremaining: 235ms\n",
      "46:\tlearn: 0.8391167\ttest: 0.6052632\tbest: 0.6250000 (2)\ttotal: 79.9ms\tremaining: 233ms\n",
      "47:\tlearn: 0.8364780\ttest: 0.6052632\tbest: 0.6250000 (2)\ttotal: 82.5ms\tremaining: 234ms\n",
      "48:\tlearn: 0.8391167\ttest: 0.6052632\tbest: 0.6250000 (2)\ttotal: 84.6ms\tremaining: 233ms\n",
      "49:\tlearn: 0.8463950\ttest: 0.6052632\tbest: 0.6250000 (2)\ttotal: 86.3ms\tremaining: 231ms\n",
      "50:\tlearn: 0.8463950\ttest: 0.6052632\tbest: 0.6250000 (2)\ttotal: 88ms\tremaining: 229ms\n",
      "51:\tlearn: 0.8500000\ttest: 0.6052632\tbest: 0.6250000 (2)\ttotal: 89.7ms\tremaining: 228ms\n",
      "52:\tlearn: 0.8526646\ttest: 0.6052632\tbest: 0.6250000 (2)\ttotal: 91.3ms\tremaining: 226ms\n",
      "53:\tlearn: 0.8490566\ttest: 0.6052632\tbest: 0.6250000 (2)\ttotal: 92.9ms\tremaining: 224ms\n",
      "54:\tlearn: 0.8500000\ttest: 0.6052632\tbest: 0.6250000 (2)\ttotal: 94.5ms\tremaining: 222ms\n",
      "55:\tlearn: 0.8526646\ttest: 0.6052632\tbest: 0.6250000 (2)\ttotal: 96.3ms\tremaining: 220ms\n",
      "56:\tlearn: 0.8526646\ttest: 0.6052632\tbest: 0.6250000 (2)\ttotal: 97.9ms\tremaining: 218ms\n",
      "57:\tlearn: 0.8562500\ttest: 0.5974026\tbest: 0.6250000 (2)\ttotal: 99.5ms\tremaining: 216ms\n",
      "58:\tlearn: 0.8562500\ttest: 0.5974026\tbest: 0.6250000 (2)\ttotal: 101ms\tremaining: 214ms\n",
      "59:\tlearn: 0.8490566\ttest: 0.6052632\tbest: 0.6250000 (2)\ttotal: 103ms\tremaining: 212ms\n",
      "60:\tlearn: 0.8526646\ttest: 0.6052632\tbest: 0.6250000 (2)\ttotal: 104ms\tremaining: 210ms\n",
      "61:\tlearn: 0.8589342\ttest: 0.6052632\tbest: 0.6250000 (2)\ttotal: 106ms\tremaining: 208ms\n",
      "62:\tlearn: 0.8765432\ttest: 0.6052632\tbest: 0.6250000 (2)\ttotal: 108ms\tremaining: 207ms\n",
      "63:\tlearn: 0.8730650\ttest: 0.6052632\tbest: 0.6250000 (2)\ttotal: 109ms\tremaining: 205ms\n",
      "64:\tlearn: 0.8730650\ttest: 0.6052632\tbest: 0.6250000 (2)\ttotal: 112ms\tremaining: 205ms\n",
      "65:\tlearn: 0.8757764\ttest: 0.6153846\tbest: 0.6250000 (2)\ttotal: 114ms\tremaining: 203ms\n",
      "66:\tlearn: 0.8757764\ttest: 0.6153846\tbest: 0.6250000 (2)\ttotal: 115ms\tremaining: 202ms\n",
      "67:\tlearn: 0.8792570\ttest: 0.6153846\tbest: 0.6250000 (2)\ttotal: 117ms\tremaining: 200ms\n",
      "68:\tlearn: 0.8792570\ttest: 0.6075949\tbest: 0.6250000 (2)\ttotal: 119ms\tremaining: 198ms\n",
      "69:\tlearn: 0.8792570\ttest: 0.6153846\tbest: 0.6250000 (2)\ttotal: 120ms\tremaining: 196ms\n",
      "70:\tlearn: 0.8792570\ttest: 0.6153846\tbest: 0.6250000 (2)\ttotal: 122ms\tremaining: 194ms\n",
      "71:\tlearn: 0.8792570\ttest: 0.6075949\tbest: 0.6250000 (2)\ttotal: 124ms\tremaining: 192ms\n",
      "72:\tlearn: 0.8888889\ttest: 0.6153846\tbest: 0.6250000 (2)\ttotal: 127ms\tremaining: 193ms\n",
      "73:\tlearn: 0.8861538\ttest: 0.6075949\tbest: 0.6250000 (2)\ttotal: 129ms\tremaining: 192ms\n",
      "74:\tlearn: 0.8957055\ttest: 0.6153846\tbest: 0.6250000 (2)\ttotal: 130ms\tremaining: 190ms\n",
      "75:\tlearn: 0.8923077\ttest: 0.6233766\tbest: 0.6250000 (2)\ttotal: 132ms\tremaining: 188ms\n",
      "76:\tlearn: 0.8923077\ttest: 0.6233766\tbest: 0.6250000 (2)\ttotal: 134ms\tremaining: 186ms\n",
      "77:\tlearn: 0.8950617\ttest: 0.6233766\tbest: 0.6250000 (2)\ttotal: 135ms\tremaining: 184ms\n",
      "78:\tlearn: 0.8950617\ttest: 0.6233766\tbest: 0.6250000 (2)\ttotal: 137ms\tremaining: 182ms\n",
      "79:\tlearn: 0.9079755\ttest: 0.6153846\tbest: 0.6250000 (2)\ttotal: 139ms\tremaining: 181ms\n",
      "80:\tlearn: 0.9046154\ttest: 0.6153846\tbest: 0.6250000 (2)\ttotal: 141ms\tremaining: 180ms\n",
      "81:\tlearn: 0.9046154\ttest: 0.6075949\tbest: 0.6250000 (2)\ttotal: 143ms\tremaining: 178ms\n",
      "82:\tlearn: 0.9046154\ttest: 0.6075949\tbest: 0.6250000 (2)\ttotal: 145ms\tremaining: 176ms\n",
      "83:\tlearn: 0.9046154\ttest: 0.6000000\tbest: 0.6250000 (2)\ttotal: 146ms\tremaining: 174ms\n",
      "84:\tlearn: 0.9046154\ttest: 0.6000000\tbest: 0.6250000 (2)\ttotal: 148ms\tremaining: 172ms\n",
      "85:\tlearn: 0.9079755\ttest: 0.6000000\tbest: 0.6250000 (2)\ttotal: 150ms\tremaining: 170ms\n",
      "86:\tlearn: 0.9113150\ttest: 0.6000000\tbest: 0.6250000 (2)\ttotal: 151ms\tremaining: 169ms\n",
      "87:\tlearn: 0.9113150\ttest: 0.6000000\tbest: 0.6250000 (2)\ttotal: 153ms\tremaining: 167ms\n",
      "88:\tlearn: 0.9113150\ttest: 0.6000000\tbest: 0.6250000 (2)\ttotal: 155ms\tremaining: 165ms\n",
      "89:\tlearn: 0.9113150\ttest: 0.6075949\tbest: 0.6250000 (2)\ttotal: 156ms\tremaining: 163ms\n",
      "90:\tlearn: 0.9113150\ttest: 0.6075949\tbest: 0.6250000 (2)\ttotal: 158ms\tremaining: 162ms\n",
      "91:\tlearn: 0.9113150\ttest: 0.6075949\tbest: 0.6250000 (2)\ttotal: 160ms\tremaining: 160ms\n",
      "92:\tlearn: 0.9113150\ttest: 0.6075949\tbest: 0.6250000 (2)\ttotal: 161ms\tremaining: 158ms\n",
      "93:\tlearn: 0.9113150\ttest: 0.6075949\tbest: 0.6250000 (2)\ttotal: 163ms\tremaining: 156ms\n",
      "94:\tlearn: 0.9113150\ttest: 0.6000000\tbest: 0.6250000 (2)\ttotal: 164ms\tremaining: 154ms\n",
      "95:\tlearn: 0.9113150\ttest: 0.6000000\tbest: 0.6250000 (2)\ttotal: 166ms\tremaining: 152ms\n",
      "96:\tlearn: 0.9113150\ttest: 0.6000000\tbest: 0.6250000 (2)\ttotal: 170ms\tremaining: 152ms\n",
      "97:\tlearn: 0.9141104\ttest: 0.6000000\tbest: 0.6250000 (2)\ttotal: 171ms\tremaining: 150ms\n",
      "98:\tlearn: 0.9174312\ttest: 0.6075949\tbest: 0.6250000 (2)\ttotal: 173ms\tremaining: 149ms\n",
      "99:\tlearn: 0.9174312\ttest: 0.6075949\tbest: 0.6250000 (2)\ttotal: 175ms\tremaining: 147ms\n",
      "100:\tlearn: 0.9207317\ttest: 0.6075949\tbest: 0.6250000 (2)\ttotal: 176ms\tremaining: 145ms\n",
      "101:\tlearn: 0.9207317\ttest: 0.6250000\tbest: 0.6250000 (2)\ttotal: 178ms\tremaining: 143ms\n",
      "102:\tlearn: 0.9272727\ttest: 0.6250000\tbest: 0.6250000 (2)\ttotal: 179ms\tremaining: 141ms\n",
      "103:\tlearn: 0.9272727\ttest: 0.6172840\tbest: 0.6250000 (2)\ttotal: 182ms\tremaining: 140ms\n",
      "104:\tlearn: 0.9300912\ttest: 0.6000000\tbest: 0.6250000 (2)\ttotal: 184ms\tremaining: 139ms\n",
      "105:\tlearn: 0.9329268\ttest: 0.6000000\tbest: 0.6250000 (2)\ttotal: 186ms\tremaining: 137ms\n",
      "106:\tlearn: 0.9329268\ttest: 0.6000000\tbest: 0.6250000 (2)\ttotal: 188ms\tremaining: 135ms\n",
      "107:\tlearn: 0.9296636\ttest: 0.6000000\tbest: 0.6250000 (2)\ttotal: 189ms\tremaining: 133ms\n",
      "108:\tlearn: 0.9296636\ttest: 0.6000000\tbest: 0.6250000 (2)\ttotal: 191ms\tremaining: 131ms\n",
      "109:\tlearn: 0.9296636\ttest: 0.6000000\tbest: 0.6250000 (2)\ttotal: 193ms\tremaining: 130ms\n",
      "110:\tlearn: 0.9296636\ttest: 0.6000000\tbest: 0.6250000 (2)\ttotal: 194ms\tremaining: 128ms\n",
      "111:\tlearn: 0.9329268\ttest: 0.6000000\tbest: 0.6250000 (2)\ttotal: 197ms\tremaining: 126ms\n",
      "112:\tlearn: 0.9329268\ttest: 0.6172840\tbest: 0.6250000 (2)\ttotal: 199ms\tremaining: 125ms\n",
      "113:\tlearn: 0.9329268\ttest: 0.6341463\tbest: 0.6341463 (113)\ttotal: 200ms\tremaining: 123ms\n",
      "114:\tlearn: 0.9329268\ttest: 0.6341463\tbest: 0.6341463 (113)\ttotal: 202ms\tremaining: 121ms\n",
      "115:\tlearn: 0.9329268\ttest: 0.6341463\tbest: 0.6341463 (113)\ttotal: 203ms\tremaining: 119ms\n",
      "116:\tlearn: 0.9425982\ttest: 0.6341463\tbest: 0.6341463 (113)\ttotal: 205ms\tremaining: 117ms\n",
      "117:\tlearn: 0.9425982\ttest: 0.6341463\tbest: 0.6341463 (113)\ttotal: 207ms\tremaining: 116ms\n",
      "118:\tlearn: 0.9397590\ttest: 0.6341463\tbest: 0.6341463 (113)\ttotal: 208ms\tremaining: 114ms\n",
      "119:\tlearn: 0.9457831\ttest: 0.6341463\tbest: 0.6341463 (113)\ttotal: 210ms\tremaining: 112ms\n",
      "120:\tlearn: 0.9457831\ttest: 0.6341463\tbest: 0.6341463 (113)\ttotal: 212ms\tremaining: 110ms\n",
      "121:\tlearn: 0.9518072\ttest: 0.6341463\tbest: 0.6341463 (113)\ttotal: 213ms\tremaining: 108ms\n",
      "122:\tlearn: 0.9518072\ttest: 0.6341463\tbest: 0.6341463 (113)\ttotal: 215ms\tremaining: 107ms\n",
      "123:\tlearn: 0.9489489\ttest: 0.6341463\tbest: 0.6341463 (113)\ttotal: 217ms\tremaining: 105ms\n",
      "124:\tlearn: 0.9489489\ttest: 0.6419753\tbest: 0.6419753 (124)\ttotal: 218ms\tremaining: 103ms\n",
      "125:\tlearn: 0.9518072\ttest: 0.6419753\tbest: 0.6419753 (124)\ttotal: 220ms\tremaining: 101ms\n",
      "126:\tlearn: 0.9518072\ttest: 0.6419753\tbest: 0.6419753 (124)\ttotal: 222ms\tremaining: 99.4ms\n",
      "127:\tlearn: 0.9549550\ttest: 0.6419753\tbest: 0.6419753 (124)\ttotal: 223ms\tremaining: 97.6ms\n",
      "128:\tlearn: 0.9520958\ttest: 0.6585366\tbest: 0.6585366 (128)\ttotal: 225ms\tremaining: 96.1ms\n",
      "129:\tlearn: 0.9549550\ttest: 0.6585366\tbest: 0.6585366 (128)\ttotal: 228ms\tremaining: 94.5ms\n",
      "130:\tlearn: 0.9549550\ttest: 0.6585366\tbest: 0.6585366 (128)\ttotal: 229ms\tremaining: 92.8ms\n",
      "131:\tlearn: 0.9578313\ttest: 0.6585366\tbest: 0.6585366 (128)\ttotal: 231ms\tremaining: 91.1ms\n",
      "132:\tlearn: 0.9638554\ttest: 0.6585366\tbest: 0.6585366 (128)\ttotal: 233ms\tremaining: 89.3ms\n",
      "133:\tlearn: 0.9638554\ttest: 0.6585366\tbest: 0.6585366 (128)\ttotal: 235ms\tremaining: 87.5ms\n",
      "134:\tlearn: 0.9638554\ttest: 0.6585366\tbest: 0.6585366 (128)\ttotal: 236ms\tremaining: 85.8ms\n",
      "135:\tlearn: 0.9638554\ttest: 0.6585366\tbest: 0.6585366 (128)\ttotal: 238ms\tremaining: 84.1ms\n",
      "136:\tlearn: 0.9640719\ttest: 0.6585366\tbest: 0.6585366 (128)\ttotal: 240ms\tremaining: 82.4ms\n",
      "137:\tlearn: 0.9669670\ttest: 0.6585366\tbest: 0.6585366 (128)\ttotal: 242ms\tremaining: 80.6ms\n",
      "138:\tlearn: 0.9669670\ttest: 0.6585366\tbest: 0.6585366 (128)\ttotal: 243ms\tremaining: 78.8ms\n",
      "139:\tlearn: 0.9669670\ttest: 0.6585366\tbest: 0.6585366 (128)\ttotal: 245ms\tremaining: 77ms\n",
      "140:\tlearn: 0.9700599\ttest: 0.6666667\tbest: 0.6666667 (140)\ttotal: 247ms\tremaining: 75.2ms\n",
      "141:\tlearn: 0.9700599\ttest: 0.6666667\tbest: 0.6666667 (140)\ttotal: 248ms\tremaining: 73.4ms\n",
      "142:\tlearn: 0.9700599\ttest: 0.6666667\tbest: 0.6666667 (140)\ttotal: 250ms\tremaining: 71.7ms\n",
      "143:\tlearn: 0.9700599\ttest: 0.6666667\tbest: 0.6666667 (140)\ttotal: 251ms\tremaining: 69.8ms\n",
      "144:\tlearn: 0.9700599\ttest: 0.6666667\tbest: 0.6666667 (140)\ttotal: 254ms\tremaining: 68.3ms\n",
      "145:\tlearn: 0.9700599\ttest: 0.6666667\tbest: 0.6666667 (140)\ttotal: 256ms\tremaining: 66.5ms\n",
      "146:\tlearn: 0.9700599\ttest: 0.6666667\tbest: 0.6666667 (140)\ttotal: 257ms\tremaining: 64.8ms\n",
      "147:\tlearn: 0.9700599\ttest: 0.6506024\tbest: 0.6666667 (140)\ttotal: 259ms\tremaining: 63ms\n",
      "148:\tlearn: 0.9700599\ttest: 0.6428571\tbest: 0.6666667 (140)\ttotal: 261ms\tremaining: 61.2ms\n",
      "149:\tlearn: 0.9729730\ttest: 0.6506024\tbest: 0.6666667 (140)\ttotal: 262ms\tremaining: 59.5ms\n",
      "150:\tlearn: 0.9729730\ttest: 0.6506024\tbest: 0.6666667 (140)\ttotal: 264ms\tremaining: 57.7ms\n",
      "151:\tlearn: 0.9700599\ttest: 0.6506024\tbest: 0.6666667 (140)\ttotal: 265ms\tremaining: 55.9ms\n",
      "152:\tlearn: 0.9700599\ttest: 0.6506024\tbest: 0.6666667 (140)\ttotal: 267ms\tremaining: 54.2ms\n",
      "153:\tlearn: 0.9760479\ttest: 0.6506024\tbest: 0.6666667 (140)\ttotal: 269ms\tremaining: 52.4ms\n",
      "154:\tlearn: 0.9731343\ttest: 0.6506024\tbest: 0.6666667 (140)\ttotal: 271ms\tremaining: 50.6ms\n",
      "155:\tlearn: 0.9731343\ttest: 0.6506024\tbest: 0.6666667 (140)\ttotal: 272ms\tremaining: 48.9ms\n",
      "156:\tlearn: 0.9731343\ttest: 0.6428571\tbest: 0.6666667 (140)\ttotal: 274ms\tremaining: 47.1ms\n",
      "157:\tlearn: 0.9760479\ttest: 0.6428571\tbest: 0.6666667 (140)\ttotal: 275ms\tremaining: 45.3ms\n",
      "158:\tlearn: 0.9791045\ttest: 0.6428571\tbest: 0.6666667 (140)\ttotal: 277ms\tremaining: 43.6ms\n",
      "159:\tlearn: 0.9760479\ttest: 0.6428571\tbest: 0.6666667 (140)\ttotal: 279ms\tremaining: 41.8ms\n",
      "160:\tlearn: 0.9760479\ttest: 0.6428571\tbest: 0.6666667 (140)\ttotal: 280ms\tremaining: 40.1ms\n",
      "161:\tlearn: 0.9789790\ttest: 0.6428571\tbest: 0.6666667 (140)\ttotal: 283ms\tremaining: 38.4ms\n",
      "162:\tlearn: 0.9820359\ttest: 0.6428571\tbest: 0.6666667 (140)\ttotal: 285ms\tremaining: 36.7ms\n",
      "163:\tlearn: 0.9820359\ttest: 0.6428571\tbest: 0.6666667 (140)\ttotal: 287ms\tremaining: 35ms\n",
      "164:\tlearn: 0.9820359\ttest: 0.6428571\tbest: 0.6666667 (140)\ttotal: 288ms\tremaining: 33.2ms\n",
      "165:\tlearn: 0.9820359\ttest: 0.6428571\tbest: 0.6666667 (140)\ttotal: 290ms\tremaining: 31.4ms\n",
      "166:\tlearn: 0.9820359\ttest: 0.6428571\tbest: 0.6666667 (140)\ttotal: 292ms\tremaining: 29.7ms\n",
      "167:\tlearn: 0.9820359\ttest: 0.6428571\tbest: 0.6666667 (140)\ttotal: 293ms\tremaining: 27.9ms\n",
      "168:\tlearn: 0.9820359\ttest: 0.6428571\tbest: 0.6666667 (140)\ttotal: 295ms\tremaining: 26.2ms\n",
      "169:\tlearn: 0.9820359\ttest: 0.6428571\tbest: 0.6666667 (140)\ttotal: 297ms\tremaining: 24.4ms\n",
      "170:\tlearn: 0.9850746\ttest: 0.6428571\tbest: 0.6666667 (140)\ttotal: 299ms\tremaining: 22.7ms\n",
      "171:\tlearn: 0.9850746\ttest: 0.6428571\tbest: 0.6666667 (140)\ttotal: 300ms\tremaining: 20.9ms\n",
      "172:\tlearn: 0.9850746\ttest: 0.6428571\tbest: 0.6666667 (140)\ttotal: 302ms\tremaining: 19.2ms\n",
      "173:\tlearn: 0.9850746\ttest: 0.6352941\tbest: 0.6666667 (140)\ttotal: 303ms\tremaining: 17.4ms\n",
      "174:\tlearn: 0.9850746\ttest: 0.6428571\tbest: 0.6666667 (140)\ttotal: 305ms\tremaining: 15.7ms\n",
      "175:\tlearn: 0.9880952\ttest: 0.6428571\tbest: 0.6666667 (140)\ttotal: 307ms\tremaining: 13.9ms\n",
      "176:\tlearn: 0.9880952\ttest: 0.6428571\tbest: 0.6666667 (140)\ttotal: 308ms\tremaining: 12.2ms\n",
      "177:\tlearn: 0.9880952\ttest: 0.6428571\tbest: 0.6666667 (140)\ttotal: 311ms\tremaining: 10.5ms\n",
      "178:\tlearn: 0.9880952\ttest: 0.6428571\tbest: 0.6666667 (140)\ttotal: 313ms\tremaining: 8.74ms\n",
      "179:\tlearn: 0.9880952\ttest: 0.6588235\tbest: 0.6666667 (140)\ttotal: 315ms\tremaining: 6.99ms\n",
      "180:\tlearn: 0.9880952\ttest: 0.6428571\tbest: 0.6666667 (140)\ttotal: 316ms\tremaining: 5.24ms\n",
      "181:\tlearn: 0.9880952\ttest: 0.6588235\tbest: 0.6666667 (140)\ttotal: 318ms\tremaining: 3.49ms\n",
      "182:\tlearn: 0.9880952\ttest: 0.6588235\tbest: 0.6666667 (140)\ttotal: 320ms\tremaining: 1.75ms\n",
      "183:\tlearn: 0.9880952\ttest: 0.6588235\tbest: 0.6666667 (140)\ttotal: 321ms\tremaining: 0us\n",
      "\n",
      "bestTest = 0.6666666667\n",
      "bestIteration = 140\n",
      "\n",
      "Training on fold [2/5]\n",
      "0:\tlearn: 0.7062315\ttest: 0.5000000\tbest: 0.5000000 (0)\ttotal: 2.14ms\tremaining: 391ms\n",
      "1:\tlearn: 0.7134503\ttest: 0.5128205\tbest: 0.5128205 (1)\ttotal: 3.98ms\tremaining: 362ms\n",
      "2:\tlearn: 0.7456647\ttest: 0.5316456\tbest: 0.5316456 (2)\ttotal: 5.67ms\tremaining: 342ms\n",
      "3:\tlearn: 0.7232704\ttest: 0.5205479\tbest: 0.5316456 (2)\ttotal: 7.39ms\tremaining: 332ms\n",
      "4:\tlearn: 0.7323077\ttest: 0.5333333\tbest: 0.5333333 (4)\ttotal: 8.99ms\tremaining: 322ms\n",
      "5:\tlearn: 0.7111111\ttest: 0.5205479\tbest: 0.5333333 (4)\ttotal: 10.6ms\tremaining: 316ms\n",
      "6:\tlearn: 0.6843854\ttest: 0.4857143\tbest: 0.5333333 (4)\ttotal: 12.3ms\tremaining: 311ms\n",
      "7:\tlearn: 0.6864686\ttest: 0.4857143\tbest: 0.5333333 (4)\ttotal: 13.9ms\tremaining: 307ms\n",
      "8:\tlearn: 0.7283951\ttest: 0.5333333\tbest: 0.5333333 (4)\ttotal: 15.6ms\tremaining: 304ms\n",
      "9:\tlearn: 0.7306502\ttest: 0.5333333\tbest: 0.5333333 (4)\ttotal: 17.3ms\tremaining: 302ms\n",
      "10:\tlearn: 0.7081967\ttest: 0.5277778\tbest: 0.5333333 (4)\ttotal: 18.9ms\tremaining: 298ms\n",
      "11:\tlearn: 0.6956522\ttest: 0.5142857\tbest: 0.5333333 (4)\ttotal: 20.6ms\tremaining: 295ms\n",
      "12:\tlearn: 0.7023411\ttest: 0.5142857\tbest: 0.5333333 (4)\ttotal: 22.3ms\tremaining: 293ms\n",
      "13:\tlearn: 0.7118644\ttest: 0.5507246\tbest: 0.5507246 (13)\ttotal: 23.9ms\tremaining: 290ms\n",
      "14:\tlearn: 0.7074830\ttest: 0.5428571\tbest: 0.5507246 (13)\ttotal: 25.5ms\tremaining: 288ms\n",
      "15:\tlearn: 0.6989619\ttest: 0.5074627\tbest: 0.5507246 (13)\ttotal: 27.2ms\tremaining: 285ms\n",
      "16:\tlearn: 0.7098976\ttest: 0.5142857\tbest: 0.5507246 (13)\ttotal: 29ms\tremaining: 285ms\n",
      "17:\tlearn: 0.7382550\ttest: 0.5142857\tbest: 0.5507246 (13)\ttotal: 32.3ms\tremaining: 298ms\n",
      "18:\tlearn: 0.7364865\ttest: 0.5217391\tbest: 0.5507246 (13)\ttotal: 34.2ms\tremaining: 297ms\n",
      "19:\tlearn: 0.7400000\ttest: 0.5142857\tbest: 0.5507246 (13)\ttotal: 36.2ms\tremaining: 297ms\n",
      "20:\tlearn: 0.7382550\ttest: 0.5070423\tbest: 0.5507246 (13)\ttotal: 37.9ms\tremaining: 294ms\n",
      "21:\tlearn: 0.7210884\ttest: 0.5217391\tbest: 0.5507246 (13)\ttotal: 39.7ms\tremaining: 292ms\n",
      "22:\tlearn: 0.7382550\ttest: 0.5428571\tbest: 0.5507246 (13)\ttotal: 41.7ms\tremaining: 292ms\n",
      "23:\tlearn: 0.7474747\ttest: 0.5633803\tbest: 0.5633803 (23)\ttotal: 44.2ms\tremaining: 295ms\n",
      "24:\tlearn: 0.7491639\ttest: 0.5833333\tbest: 0.5833333 (24)\ttotal: 46.2ms\tremaining: 294ms\n",
      "25:\tlearn: 0.7508306\ttest: 0.5833333\tbest: 0.5833333 (24)\ttotal: 47.9ms\tremaining: 291ms\n",
      "26:\tlearn: 0.7625418\ttest: 0.5833333\tbest: 0.5833333 (24)\ttotal: 49.6ms\tremaining: 288ms\n",
      "27:\tlearn: 0.7641196\ttest: 0.5833333\tbest: 0.5833333 (24)\ttotal: 51.3ms\tremaining: 286ms\n",
      "28:\tlearn: 0.7600000\ttest: 0.5833333\tbest: 0.5833333 (24)\ttotal: 52.9ms\tremaining: 283ms\n",
      "29:\tlearn: 0.7733333\ttest: 0.5833333\tbest: 0.5833333 (24)\ttotal: 54.6ms\tremaining: 280ms\n",
      "30:\tlearn: 0.7763158\ttest: 0.6027397\tbest: 0.6027397 (30)\ttotal: 56.2ms\tremaining: 278ms\n",
      "31:\tlearn: 0.7814570\ttest: 0.6216216\tbest: 0.6216216 (31)\ttotal: 59.3ms\tremaining: 281ms\n",
      "32:\tlearn: 0.7707641\ttest: 0.6216216\tbest: 0.6216216 (31)\ttotal: 61.3ms\tremaining: 280ms\n",
      "33:\tlearn: 0.7814570\ttest: 0.6301370\tbest: 0.6301370 (33)\ttotal: 62.9ms\tremaining: 277ms\n",
      "34:\tlearn: 0.7748344\ttest: 0.6301370\tbest: 0.6301370 (33)\ttotal: 64.5ms\tremaining: 275ms\n",
      "35:\tlearn: 0.7682119\ttest: 0.6027397\tbest: 0.6301370 (33)\ttotal: 66.2ms\tremaining: 272ms\n",
      "36:\tlearn: 0.7828947\ttest: 0.6216216\tbest: 0.6301370 (33)\ttotal: 67.9ms\tremaining: 270ms\n",
      "37:\tlearn: 0.7934426\ttest: 0.5945946\tbest: 0.6301370 (33)\ttotal: 70ms\tremaining: 269ms\n",
      "38:\tlearn: 0.7986799\ttest: 0.5945946\tbest: 0.6301370 (33)\ttotal: 72.6ms\tremaining: 270ms\n",
      "39:\tlearn: 0.7986799\ttest: 0.5945946\tbest: 0.6301370 (33)\ttotal: 74.2ms\tremaining: 267ms\n",
      "40:\tlearn: 0.7986799\ttest: 0.6133333\tbest: 0.6301370 (33)\ttotal: 76.4ms\tremaining: 266ms\n",
      "41:\tlearn: 0.7934426\ttest: 0.6052632\tbest: 0.6301370 (33)\ttotal: 79.7ms\tremaining: 269ms\n",
      "42:\tlearn: 0.8000000\ttest: 0.6233766\tbest: 0.6301370 (33)\ttotal: 88.9ms\tremaining: 291ms\n",
      "43:\tlearn: 0.8065574\ttest: 0.6153846\tbest: 0.6301370 (33)\ttotal: 97ms\tremaining: 309ms\n",
      "44:\tlearn: 0.8013029\ttest: 0.6052632\tbest: 0.6301370 (33)\ttotal: 98.8ms\tremaining: 305ms\n",
      "45:\tlearn: 0.8090615\ttest: 0.6052632\tbest: 0.6301370 (33)\ttotal: 100ms\tremaining: 301ms\n",
      "46:\tlearn: 0.8051948\ttest: 0.6052632\tbest: 0.6301370 (33)\ttotal: 102ms\tremaining: 298ms\n",
      "47:\tlearn: 0.8129032\ttest: 0.5974026\tbest: 0.6301370 (33)\ttotal: 104ms\tremaining: 294ms\n",
      "48:\tlearn: 0.8129032\ttest: 0.5974026\tbest: 0.6301370 (33)\ttotal: 105ms\tremaining: 290ms\n",
      "49:\tlearn: 0.8129032\ttest: 0.5974026\tbest: 0.6301370 (33)\ttotal: 107ms\tremaining: 287ms\n",
      "50:\tlearn: 0.8129032\ttest: 0.5974026\tbest: 0.6301370 (33)\ttotal: 109ms\tremaining: 283ms\n",
      "51:\tlearn: 0.8181818\ttest: 0.5789474\tbest: 0.6301370 (33)\ttotal: 110ms\tremaining: 280ms\n",
      "52:\tlearn: 0.8208469\ttest: 0.5866667\tbest: 0.6301370 (33)\ttotal: 112ms\tremaining: 276ms\n",
      "53:\tlearn: 0.8169935\ttest: 0.5866667\tbest: 0.6301370 (33)\ttotal: 113ms\tremaining: 273ms\n",
      "54:\tlearn: 0.8235294\ttest: 0.5866667\tbest: 0.6301370 (33)\ttotal: 115ms\tremaining: 270ms\n",
      "55:\tlearn: 0.8349515\ttest: 0.5866667\tbest: 0.6301370 (33)\ttotal: 118ms\tremaining: 270ms\n",
      "56:\tlearn: 0.8387097\ttest: 0.5789474\tbest: 0.6301370 (33)\ttotal: 120ms\tremaining: 267ms\n",
      "57:\tlearn: 0.8387097\ttest: 0.5789474\tbest: 0.6301370 (33)\ttotal: 121ms\tremaining: 264ms\n",
      "58:\tlearn: 0.8414239\ttest: 0.5789474\tbest: 0.6301370 (33)\ttotal: 123ms\tremaining: 260ms\n",
      "59:\tlearn: 0.8376623\ttest: 0.5789474\tbest: 0.6301370 (33)\ttotal: 124ms\tremaining: 257ms\n",
      "60:\tlearn: 0.8451613\ttest: 0.5789474\tbest: 0.6301370 (33)\ttotal: 126ms\tremaining: 254ms\n",
      "61:\tlearn: 0.8525641\ttest: 0.5789474\tbest: 0.6301370 (33)\ttotal: 128ms\tremaining: 251ms\n",
      "62:\tlearn: 0.8562300\ttest: 0.5789474\tbest: 0.6301370 (33)\ttotal: 129ms\tremaining: 248ms\n",
      "63:\tlearn: 0.8562300\ttest: 0.5789474\tbest: 0.6301370 (33)\ttotal: 132ms\tremaining: 248ms\n",
      "64:\tlearn: 0.8598726\ttest: 0.5789474\tbest: 0.6301370 (33)\ttotal: 134ms\tremaining: 245ms\n",
      "65:\tlearn: 0.8598726\ttest: 0.5789474\tbest: 0.6301370 (33)\ttotal: 136ms\tremaining: 243ms\n",
      "66:\tlearn: 0.8598726\ttest: 0.5789474\tbest: 0.6301370 (33)\ttotal: 137ms\tremaining: 240ms\n",
      "67:\tlearn: 0.8598726\ttest: 0.5789474\tbest: 0.6301370 (33)\ttotal: 139ms\tremaining: 237ms\n",
      "68:\tlearn: 0.8598726\ttest: 0.5789474\tbest: 0.6301370 (33)\ttotal: 141ms\tremaining: 234ms\n",
      "69:\tlearn: 0.8598726\ttest: 0.5789474\tbest: 0.6301370 (33)\ttotal: 142ms\tremaining: 232ms\n",
      "70:\tlearn: 0.8643533\ttest: 0.5789474\tbest: 0.6301370 (33)\ttotal: 144ms\tremaining: 229ms\n",
      "71:\tlearn: 0.8643533\ttest: 0.5789474\tbest: 0.6301370 (33)\ttotal: 146ms\tremaining: 228ms\n",
      "72:\tlearn: 0.8634921\ttest: 0.5974026\tbest: 0.6301370 (33)\ttotal: 148ms\tremaining: 225ms\n",
      "73:\tlearn: 0.8662420\ttest: 0.5974026\tbest: 0.6301370 (33)\ttotal: 150ms\tremaining: 223ms\n",
      "74:\tlearn: 0.8690096\ttest: 0.5974026\tbest: 0.6301370 (33)\ttotal: 151ms\tremaining: 220ms\n",
      "75:\tlearn: 0.8690096\ttest: 0.5974026\tbest: 0.6301370 (33)\ttotal: 153ms\tremaining: 217ms\n",
      "76:\tlearn: 0.8690096\ttest: 0.5974026\tbest: 0.6301370 (33)\ttotal: 155ms\tremaining: 215ms\n",
      "77:\tlearn: 0.8690096\ttest: 0.5974026\tbest: 0.6301370 (33)\ttotal: 156ms\tremaining: 212ms\n",
      "78:\tlearn: 0.8761905\ttest: 0.5974026\tbest: 0.6301370 (33)\ttotal: 158ms\tremaining: 210ms\n",
      "79:\tlearn: 0.8761905\ttest: 0.5974026\tbest: 0.6301370 (33)\ttotal: 160ms\tremaining: 208ms\n",
      "80:\tlearn: 0.8726115\ttest: 0.5974026\tbest: 0.6301370 (33)\ttotal: 161ms\tremaining: 205ms\n",
      "81:\tlearn: 0.8797468\ttest: 0.5974026\tbest: 0.6301370 (33)\ttotal: 163ms\tremaining: 203ms\n",
      "82:\tlearn: 0.8797468\ttest: 0.5974026\tbest: 0.6301370 (33)\ttotal: 165ms\tremaining: 200ms\n",
      "83:\tlearn: 0.8797468\ttest: 0.5974026\tbest: 0.6301370 (33)\ttotal: 166ms\tremaining: 198ms\n",
      "84:\tlearn: 0.8797468\ttest: 0.5974026\tbest: 0.6301370 (33)\ttotal: 168ms\tremaining: 195ms\n",
      "85:\tlearn: 0.8797468\ttest: 0.5974026\tbest: 0.6301370 (33)\ttotal: 169ms\tremaining: 193ms\n",
      "86:\tlearn: 0.8797468\ttest: 0.5974026\tbest: 0.6301370 (33)\ttotal: 171ms\tremaining: 191ms\n",
      "87:\tlearn: 0.8797468\ttest: 0.5974026\tbest: 0.6301370 (33)\ttotal: 173ms\tremaining: 188ms\n",
      "88:\tlearn: 0.8825397\ttest: 0.5974026\tbest: 0.6301370 (33)\ttotal: 175ms\tremaining: 187ms\n",
      "89:\tlearn: 0.8853503\ttest: 0.5974026\tbest: 0.6301370 (33)\ttotal: 177ms\tremaining: 185ms\n",
      "90:\tlearn: 0.8853503\ttest: 0.5974026\tbest: 0.6301370 (33)\ttotal: 178ms\tremaining: 182ms\n",
      "91:\tlearn: 0.8853503\ttest: 0.5974026\tbest: 0.6301370 (33)\ttotal: 180ms\tremaining: 180ms\n",
      "92:\tlearn: 0.8853503\ttest: 0.5974026\tbest: 0.6301370 (33)\ttotal: 182ms\tremaining: 178ms\n",
      "93:\tlearn: 0.8888889\ttest: 0.5974026\tbest: 0.6301370 (33)\ttotal: 184ms\tremaining: 176ms\n",
      "94:\tlearn: 0.8924051\ttest: 0.5974026\tbest: 0.6301370 (33)\ttotal: 185ms\tremaining: 174ms\n",
      "95:\tlearn: 0.8924051\ttest: 0.5974026\tbest: 0.6301370 (33)\ttotal: 187ms\tremaining: 171ms\n",
      "96:\tlearn: 0.8958991\ttest: 0.5974026\tbest: 0.6301370 (33)\ttotal: 189ms\tremaining: 169ms\n",
      "97:\tlearn: 0.9062500\ttest: 0.5974026\tbest: 0.6301370 (33)\ttotal: 190ms\tremaining: 167ms\n",
      "98:\tlearn: 0.9062500\ttest: 0.5974026\tbest: 0.6301370 (33)\ttotal: 192ms\tremaining: 165ms\n",
      "99:\tlearn: 0.9062500\ttest: 0.5974026\tbest: 0.6301370 (33)\ttotal: 194ms\tremaining: 163ms\n",
      "100:\tlearn: 0.9034268\ttest: 0.5974026\tbest: 0.6301370 (33)\ttotal: 195ms\tremaining: 161ms\n",
      "101:\tlearn: 0.9062500\ttest: 0.5974026\tbest: 0.6301370 (33)\ttotal: 197ms\tremaining: 158ms\n",
      "102:\tlearn: 0.9090909\ttest: 0.5974026\tbest: 0.6301370 (33)\ttotal: 199ms\tremaining: 156ms\n",
      "103:\tlearn: 0.9125000\ttest: 0.6052632\tbest: 0.6301370 (33)\ttotal: 200ms\tremaining: 154ms\n",
      "104:\tlearn: 0.9090909\ttest: 0.6052632\tbest: 0.6301370 (33)\ttotal: 203ms\tremaining: 153ms\n",
      "105:\tlearn: 0.9096573\ttest: 0.6052632\tbest: 0.6301370 (33)\ttotal: 205ms\tremaining: 151ms\n",
      "106:\tlearn: 0.9062500\ttest: 0.6052632\tbest: 0.6301370 (33)\ttotal: 207ms\tremaining: 149ms\n",
      "107:\tlearn: 0.9096573\ttest: 0.6052632\tbest: 0.6301370 (33)\ttotal: 208ms\tremaining: 147ms\n",
      "108:\tlearn: 0.9130435\ttest: 0.6052632\tbest: 0.6301370 (33)\ttotal: 210ms\tremaining: 144ms\n",
      "109:\tlearn: 0.9130435\ttest: 0.6052632\tbest: 0.6301370 (33)\ttotal: 212ms\tremaining: 142ms\n",
      "110:\tlearn: 0.9197531\ttest: 0.6052632\tbest: 0.6301370 (33)\ttotal: 213ms\tremaining: 140ms\n",
      "111:\tlearn: 0.9287926\ttest: 0.6052632\tbest: 0.6301370 (33)\ttotal: 215ms\tremaining: 138ms\n",
      "112:\tlearn: 0.9320988\ttest: 0.6052632\tbest: 0.6301370 (33)\ttotal: 217ms\tremaining: 136ms\n",
      "113:\tlearn: 0.9320988\ttest: 0.6052632\tbest: 0.6301370 (33)\ttotal: 218ms\tremaining: 134ms\n",
      "114:\tlearn: 0.9320988\ttest: 0.6052632\tbest: 0.6301370 (33)\ttotal: 220ms\tremaining: 132ms\n",
      "115:\tlearn: 0.9320988\ttest: 0.5789474\tbest: 0.6301370 (33)\ttotal: 222ms\tremaining: 130ms\n",
      "116:\tlearn: 0.9287926\ttest: 0.5974026\tbest: 0.6301370 (33)\ttotal: 223ms\tremaining: 128ms\n",
      "117:\tlearn: 0.9287926\ttest: 0.5974026\tbest: 0.6301370 (33)\ttotal: 225ms\tremaining: 126ms\n",
      "118:\tlearn: 0.9287926\ttest: 0.6153846\tbest: 0.6301370 (33)\ttotal: 227ms\tremaining: 124ms\n",
      "119:\tlearn: 0.9353846\ttest: 0.6153846\tbest: 0.6301370 (33)\ttotal: 228ms\tremaining: 122ms\n",
      "120:\tlearn: 0.9320988\ttest: 0.5974026\tbest: 0.6301370 (33)\ttotal: 231ms\tremaining: 120ms\n",
      "121:\tlearn: 0.9325153\ttest: 0.5974026\tbest: 0.6301370 (33)\ttotal: 233ms\tremaining: 118ms\n",
      "122:\tlearn: 0.9325153\ttest: 0.5897436\tbest: 0.6301370 (33)\ttotal: 234ms\tremaining: 116ms\n",
      "123:\tlearn: 0.9418960\ttest: 0.6075949\tbest: 0.6301370 (33)\ttotal: 236ms\tremaining: 114ms\n",
      "124:\tlearn: 0.9418960\ttest: 0.5897436\tbest: 0.6301370 (33)\ttotal: 238ms\tremaining: 112ms\n",
      "125:\tlearn: 0.9418960\ttest: 0.6153846\tbest: 0.6301370 (33)\ttotal: 239ms\tremaining: 110ms\n",
      "126:\tlearn: 0.9418960\ttest: 0.5974026\tbest: 0.6301370 (33)\ttotal: 241ms\tremaining: 108ms\n",
      "127:\tlearn: 0.9418960\ttest: 0.6153846\tbest: 0.6301370 (33)\ttotal: 243ms\tremaining: 106ms\n",
      "128:\tlearn: 0.9418960\ttest: 0.6153846\tbest: 0.6301370 (33)\ttotal: 245ms\tremaining: 105ms\n",
      "129:\tlearn: 0.9451220\ttest: 0.6153846\tbest: 0.6301370 (33)\ttotal: 247ms\tremaining: 103ms\n",
      "130:\tlearn: 0.9418960\ttest: 0.6153846\tbest: 0.6301370 (33)\ttotal: 249ms\tremaining: 101ms\n",
      "131:\tlearn: 0.9418960\ttest: 0.6153846\tbest: 0.6301370 (33)\ttotal: 250ms\tremaining: 98.6ms\n",
      "132:\tlearn: 0.9451220\ttest: 0.5974026\tbest: 0.6301370 (33)\ttotal: 252ms\tremaining: 96.7ms\n",
      "133:\tlearn: 0.9418960\ttest: 0.5897436\tbest: 0.6301370 (33)\ttotal: 254ms\tremaining: 94.7ms\n",
      "134:\tlearn: 0.9418960\ttest: 0.5897436\tbest: 0.6301370 (33)\ttotal: 256ms\tremaining: 92.8ms\n",
      "135:\tlearn: 0.9451220\ttest: 0.5974026\tbest: 0.6301370 (33)\ttotal: 257ms\tremaining: 90.8ms\n",
      "136:\tlearn: 0.9451220\ttest: 0.5974026\tbest: 0.6301370 (33)\ttotal: 260ms\tremaining: 89.1ms\n",
      "137:\tlearn: 0.9451220\ttest: 0.5974026\tbest: 0.6301370 (33)\ttotal: 262ms\tremaining: 87.2ms\n",
      "138:\tlearn: 0.9451220\ttest: 0.5974026\tbest: 0.6301370 (33)\ttotal: 263ms\tremaining: 85.2ms\n",
      "139:\tlearn: 0.9483283\ttest: 0.5974026\tbest: 0.6301370 (33)\ttotal: 265ms\tremaining: 83.2ms\n",
      "140:\tlearn: 0.9483283\ttest: 0.5974026\tbest: 0.6301370 (33)\ttotal: 266ms\tremaining: 81.2ms\n",
      "141:\tlearn: 0.9483283\ttest: 0.5974026\tbest: 0.6301370 (33)\ttotal: 268ms\tremaining: 79.3ms\n",
      "142:\tlearn: 0.9515152\ttest: 0.5974026\tbest: 0.6301370 (33)\ttotal: 270ms\tremaining: 77.4ms\n",
      "143:\tlearn: 0.9515152\ttest: 0.6153846\tbest: 0.6301370 (33)\ttotal: 272ms\tremaining: 75.4ms\n",
      "144:\tlearn: 0.9515152\ttest: 0.6153846\tbest: 0.6301370 (33)\ttotal: 273ms\tremaining: 73.5ms\n",
      "145:\tlearn: 0.9515152\ttest: 0.6075949\tbest: 0.6301370 (33)\ttotal: 275ms\tremaining: 71.6ms\n",
      "146:\tlearn: 0.9515152\ttest: 0.6153846\tbest: 0.6301370 (33)\ttotal: 277ms\tremaining: 69.6ms\n",
      "147:\tlearn: 0.9515152\ttest: 0.6075949\tbest: 0.6301370 (33)\ttotal: 278ms\tremaining: 67.7ms\n",
      "148:\tlearn: 0.9515152\ttest: 0.6250000\tbest: 0.6301370 (33)\ttotal: 280ms\tremaining: 65.7ms\n",
      "149:\tlearn: 0.9515152\ttest: 0.6250000\tbest: 0.6301370 (33)\ttotal: 282ms\tremaining: 63.8ms\n",
      "150:\tlearn: 0.9515152\ttest: 0.6153846\tbest: 0.6301370 (33)\ttotal: 283ms\tremaining: 61.9ms\n",
      "151:\tlearn: 0.9515152\ttest: 0.6075949\tbest: 0.6301370 (33)\ttotal: 285ms\tremaining: 60ms\n",
      "152:\tlearn: 0.9544073\ttest: 0.6075949\tbest: 0.6301370 (33)\ttotal: 287ms\tremaining: 58.1ms\n",
      "153:\tlearn: 0.9544073\ttest: 0.6075949\tbest: 0.6301370 (33)\ttotal: 289ms\tremaining: 56.3ms\n",
      "154:\tlearn: 0.9544073\ttest: 0.6075949\tbest: 0.6301370 (33)\ttotal: 291ms\tremaining: 54.4ms\n",
      "155:\tlearn: 0.9544073\ttest: 0.6075949\tbest: 0.6301370 (33)\ttotal: 293ms\tremaining: 52.5ms\n",
      "156:\tlearn: 0.9544073\ttest: 0.6075949\tbest: 0.6301370 (33)\ttotal: 294ms\tremaining: 50.6ms\n",
      "157:\tlearn: 0.9544073\ttest: 0.6075949\tbest: 0.6301370 (33)\ttotal: 296ms\tremaining: 48.7ms\n",
      "158:\tlearn: 0.9544073\ttest: 0.6075949\tbest: 0.6301370 (33)\ttotal: 298ms\tremaining: 46.8ms\n",
      "159:\tlearn: 0.9544073\ttest: 0.6075949\tbest: 0.6301370 (33)\ttotal: 299ms\tremaining: 44.9ms\n",
      "160:\tlearn: 0.9544073\ttest: 0.6075949\tbest: 0.6301370 (33)\ttotal: 301ms\tremaining: 43ms\n",
      "161:\tlearn: 0.9544073\ttest: 0.6075949\tbest: 0.6301370 (33)\ttotal: 303ms\tremaining: 41.1ms\n",
      "162:\tlearn: 0.9607251\ttest: 0.6075949\tbest: 0.6301370 (33)\ttotal: 305ms\tremaining: 39.2ms\n",
      "163:\tlearn: 0.9607251\ttest: 0.6075949\tbest: 0.6301370 (33)\ttotal: 306ms\tremaining: 37.3ms\n",
      "164:\tlearn: 0.9575758\ttest: 0.6075949\tbest: 0.6301370 (33)\ttotal: 308ms\tremaining: 35.4ms\n",
      "165:\tlearn: 0.9575758\ttest: 0.6075949\tbest: 0.6301370 (33)\ttotal: 309ms\tremaining: 33.5ms\n",
      "166:\tlearn: 0.9575758\ttest: 0.6075949\tbest: 0.6301370 (33)\ttotal: 311ms\tremaining: 31.7ms\n",
      "167:\tlearn: 0.9636364\ttest: 0.6075949\tbest: 0.6301370 (33)\ttotal: 313ms\tremaining: 29.8ms\n",
      "168:\tlearn: 0.9636364\ttest: 0.6075949\tbest: 0.6301370 (33)\ttotal: 314ms\tremaining: 27.9ms\n",
      "169:\tlearn: 0.9636364\ttest: 0.6075949\tbest: 0.6301370 (33)\ttotal: 317ms\tremaining: 26.1ms\n",
      "170:\tlearn: 0.9636364\ttest: 0.6075949\tbest: 0.6301370 (33)\ttotal: 319ms\tremaining: 24.3ms\n",
      "171:\tlearn: 0.9667674\ttest: 0.6075949\tbest: 0.6301370 (33)\ttotal: 321ms\tremaining: 22.4ms\n",
      "172:\tlearn: 0.9667674\ttest: 0.6075949\tbest: 0.6301370 (33)\ttotal: 323ms\tremaining: 20.5ms\n",
      "173:\tlearn: 0.9698795\ttest: 0.6075949\tbest: 0.6301370 (33)\ttotal: 324ms\tremaining: 18.6ms\n",
      "174:\tlearn: 0.9669670\ttest: 0.6153846\tbest: 0.6301370 (33)\ttotal: 326ms\tremaining: 16.8ms\n",
      "175:\tlearn: 0.9729730\ttest: 0.6153846\tbest: 0.6301370 (33)\ttotal: 327ms\tremaining: 14.9ms\n",
      "176:\tlearn: 0.9759036\ttest: 0.6153846\tbest: 0.6301370 (33)\ttotal: 329ms\tremaining: 13ms\n",
      "177:\tlearn: 0.9759036\ttest: 0.6153846\tbest: 0.6301370 (33)\ttotal: 332ms\tremaining: 11.2ms\n",
      "178:\tlearn: 0.9729730\ttest: 0.6153846\tbest: 0.6301370 (33)\ttotal: 334ms\tremaining: 9.32ms\n",
      "179:\tlearn: 0.9759036\ttest: 0.6153846\tbest: 0.6301370 (33)\ttotal: 335ms\tremaining: 7.45ms\n",
      "180:\tlearn: 0.9759036\ttest: 0.6153846\tbest: 0.6301370 (33)\ttotal: 337ms\tremaining: 5.59ms\n",
      "181:\tlearn: 0.9789790\ttest: 0.6153846\tbest: 0.6301370 (33)\ttotal: 339ms\tremaining: 3.72ms\n",
      "182:\tlearn: 0.9789790\ttest: 0.6329114\tbest: 0.6329114 (182)\ttotal: 340ms\tremaining: 1.86ms\n",
      "183:\tlearn: 0.9789790\ttest: 0.6329114\tbest: 0.6329114 (182)\ttotal: 342ms\tremaining: 0us\n",
      "\n",
      "bestTest = 0.6329113924\n",
      "bestIteration = 182\n",
      "\n",
      "Training on fold [3/5]\n",
      "0:\tlearn: 0.5101215\ttest: 0.4745763\tbest: 0.4745763 (0)\ttotal: 1.89ms\tremaining: 345ms\n",
      "1:\tlearn: 0.6626506\ttest: 0.7160494\tbest: 0.7160494 (1)\ttotal: 3.53ms\tremaining: 321ms\n",
      "2:\tlearn: 0.6513158\ttest: 0.7435897\tbest: 0.7435897 (2)\ttotal: 5.14ms\tremaining: 310ms\n",
      "3:\tlearn: 0.6228374\ttest: 0.6666667\tbest: 0.7435897 (2)\ttotal: 6.85ms\tremaining: 308ms\n",
      "4:\tlearn: 0.6397306\ttest: 0.6933333\tbest: 0.7435897 (2)\ttotal: 8.42ms\tremaining: 301ms\n",
      "5:\tlearn: 0.6297578\ttest: 0.6756757\tbest: 0.7435897 (2)\ttotal: 9.99ms\tremaining: 296ms\n",
      "6:\tlearn: 0.6341463\ttest: 0.6756757\tbest: 0.7435897 (2)\ttotal: 11.7ms\tremaining: 295ms\n",
      "7:\tlearn: 0.6315789\ttest: 0.6756757\tbest: 0.7435897 (2)\ttotal: 13.3ms\tremaining: 294ms\n",
      "8:\tlearn: 0.6319444\ttest: 0.6933333\tbest: 0.7435897 (2)\ttotal: 15.6ms\tremaining: 303ms\n",
      "9:\tlearn: 0.6297578\ttest: 0.7200000\tbest: 0.7435897 (2)\ttotal: 17.6ms\tremaining: 306ms\n",
      "10:\tlearn: 0.6388889\ttest: 0.7123288\tbest: 0.7435897 (2)\ttotal: 19.3ms\tremaining: 303ms\n",
      "11:\tlearn: 0.6526316\ttest: 0.7200000\tbest: 0.7435897 (2)\ttotal: 21ms\tremaining: 300ms\n",
      "12:\tlearn: 0.6526316\ttest: 0.7466667\tbest: 0.7466667 (12)\ttotal: 22.6ms\tremaining: 298ms\n",
      "13:\tlearn: 0.6619217\ttest: 0.7397260\tbest: 0.7466667 (12)\ttotal: 24.3ms\tremaining: 295ms\n",
      "14:\tlearn: 0.6736842\ttest: 0.7323944\tbest: 0.7466667 (12)\ttotal: 26ms\tremaining: 292ms\n",
      "15:\tlearn: 0.6714286\ttest: 0.7500000\tbest: 0.7500000 (15)\ttotal: 27.7ms\tremaining: 291ms\n",
      "16:\tlearn: 0.6714286\ttest: 0.7323944\tbest: 0.7500000 (15)\ttotal: 30.5ms\tremaining: 300ms\n",
      "17:\tlearn: 0.6784452\ttest: 0.7323944\tbest: 0.7500000 (15)\ttotal: 33.1ms\tremaining: 306ms\n",
      "18:\tlearn: 0.6810036\ttest: 0.7042254\tbest: 0.7500000 (15)\ttotal: 34.8ms\tremaining: 302ms\n",
      "19:\tlearn: 0.6785714\ttest: 0.7397260\tbest: 0.7500000 (15)\ttotal: 36.3ms\tremaining: 298ms\n",
      "20:\tlearn: 0.6947368\ttest: 0.7123288\tbest: 0.7500000 (15)\ttotal: 38ms\tremaining: 295ms\n",
      "21:\tlearn: 0.7083333\ttest: 0.7123288\tbest: 0.7500000 (15)\ttotal: 39.5ms\tremaining: 291ms\n",
      "22:\tlearn: 0.7038328\ttest: 0.7123288\tbest: 0.7500000 (15)\ttotal: 41.2ms\tremaining: 288ms\n",
      "23:\tlearn: 0.7112676\ttest: 0.7123288\tbest: 0.7500000 (15)\ttotal: 43.5ms\tremaining: 290ms\n",
      "24:\tlearn: 0.7108014\ttest: 0.7123288\tbest: 0.7500000 (15)\ttotal: 45.8ms\tremaining: 291ms\n",
      "25:\tlearn: 0.7108014\ttest: 0.7123288\tbest: 0.7500000 (15)\ttotal: 47.4ms\tremaining: 288ms\n",
      "26:\tlearn: 0.7137809\ttest: 0.7123288\tbest: 0.7500000 (15)\ttotal: 49ms\tremaining: 285ms\n",
      "27:\tlearn: 0.7222222\ttest: 0.7297297\tbest: 0.7500000 (15)\ttotal: 50.7ms\tremaining: 283ms\n",
      "28:\tlearn: 0.7241379\ttest: 0.7200000\tbest: 0.7500000 (15)\ttotal: 52.3ms\tremaining: 279ms\n",
      "29:\tlearn: 0.7379310\ttest: 0.7027027\tbest: 0.7500000 (15)\ttotal: 53.9ms\tremaining: 277ms\n",
      "30:\tlearn: 0.7291667\ttest: 0.7027027\tbest: 0.7500000 (15)\ttotal: 55.6ms\tremaining: 274ms\n",
      "31:\tlearn: 0.7335640\ttest: 0.7027027\tbest: 0.7500000 (15)\ttotal: 57.9ms\tremaining: 275ms\n",
      "32:\tlearn: 0.7335640\ttest: 0.7200000\tbest: 0.7500000 (15)\ttotal: 59.6ms\tremaining: 273ms\n",
      "33:\tlearn: 0.7517241\ttest: 0.6933333\tbest: 0.7500000 (15)\ttotal: 61.3ms\tremaining: 270ms\n",
      "34:\tlearn: 0.7576792\ttest: 0.7368421\tbest: 0.7500000 (15)\ttotal: 62.9ms\tremaining: 268ms\n",
      "35:\tlearn: 0.7619048\ttest: 0.7368421\tbest: 0.7500000 (15)\ttotal: 64.7ms\tremaining: 266ms\n",
      "36:\tlearn: 0.7785235\ttest: 0.7272727\tbest: 0.7500000 (15)\ttotal: 66.3ms\tremaining: 263ms\n",
      "37:\tlearn: 0.7785235\ttest: 0.7272727\tbest: 0.7500000 (15)\ttotal: 67.9ms\tremaining: 261ms\n",
      "38:\tlearn: 0.7826087\ttest: 0.7272727\tbest: 0.7500000 (15)\ttotal: 69.5ms\tremaining: 259ms\n",
      "39:\tlearn: 0.7785235\ttest: 0.7272727\tbest: 0.7500000 (15)\ttotal: 72.8ms\tremaining: 262ms\n",
      "40:\tlearn: 0.7826087\ttest: 0.7272727\tbest: 0.7500000 (15)\ttotal: 74.5ms\tremaining: 260ms\n",
      "41:\tlearn: 0.7800000\ttest: 0.7368421\tbest: 0.7500000 (15)\ttotal: 76.2ms\tremaining: 258ms\n",
      "42:\tlearn: 0.7840532\ttest: 0.7368421\tbest: 0.7500000 (15)\ttotal: 77.9ms\tremaining: 256ms\n",
      "43:\tlearn: 0.7960526\ttest: 0.7368421\tbest: 0.7500000 (15)\ttotal: 79.5ms\tremaining: 253ms\n",
      "44:\tlearn: 0.7894737\ttest: 0.7368421\tbest: 0.7500000 (15)\ttotal: 81.1ms\tremaining: 251ms\n",
      "45:\tlearn: 0.7973856\ttest: 0.7368421\tbest: 0.7500000 (15)\ttotal: 82.9ms\tremaining: 249ms\n",
      "46:\tlearn: 0.7934426\ttest: 0.7368421\tbest: 0.7500000 (15)\ttotal: 84.5ms\tremaining: 246ms\n",
      "47:\tlearn: 0.7934426\ttest: 0.7532468\tbest: 0.7532468 (47)\ttotal: 86.2ms\tremaining: 244ms\n",
      "48:\tlearn: 0.7934426\ttest: 0.7532468\tbest: 0.7532468 (47)\ttotal: 87.9ms\tremaining: 242ms\n",
      "49:\tlearn: 0.7947020\ttest: 0.7435897\tbest: 0.7532468 (47)\ttotal: 89.6ms\tremaining: 240ms\n",
      "50:\tlearn: 0.8039867\ttest: 0.7435897\tbest: 0.7532468 (47)\ttotal: 91.3ms\tremaining: 238ms\n",
      "51:\tlearn: 0.8157895\ttest: 0.7435897\tbest: 0.7532468 (47)\ttotal: 92.9ms\tremaining: 236ms\n",
      "52:\tlearn: 0.8196721\ttest: 0.7435897\tbest: 0.7532468 (47)\ttotal: 94.6ms\tremaining: 234ms\n",
      "53:\tlearn: 0.8092105\ttest: 0.7435897\tbest: 0.7532468 (47)\ttotal: 96.3ms\tremaining: 232ms\n",
      "54:\tlearn: 0.8052805\ttest: 0.7435897\tbest: 0.7532468 (47)\ttotal: 98ms\tremaining: 230ms\n",
      "55:\tlearn: 0.8169935\ttest: 0.7179487\tbest: 0.7532468 (47)\ttotal: 100ms\tremaining: 229ms\n",
      "56:\tlearn: 0.8208469\ttest: 0.7179487\tbest: 0.7532468 (47)\ttotal: 103ms\tremaining: 228ms\n",
      "57:\tlearn: 0.8311688\ttest: 0.7179487\tbest: 0.7532468 (47)\ttotal: 104ms\tremaining: 226ms\n",
      "58:\tlearn: 0.8349515\ttest: 0.6842105\tbest: 0.7532468 (47)\ttotal: 106ms\tremaining: 224ms\n",
      "59:\tlearn: 0.8387097\ttest: 0.6933333\tbest: 0.7532468 (47)\ttotal: 107ms\tremaining: 222ms\n",
      "60:\tlearn: 0.8376623\ttest: 0.6933333\tbest: 0.7532468 (47)\ttotal: 109ms\tremaining: 220ms\n",
      "61:\tlearn: 0.8387097\ttest: 0.7105263\tbest: 0.7532468 (47)\ttotal: 111ms\tremaining: 218ms\n",
      "62:\tlearn: 0.8478964\ttest: 0.7012987\tbest: 0.7532468 (47)\ttotal: 113ms\tremaining: 216ms\n",
      "63:\tlearn: 0.8414239\ttest: 0.6842105\tbest: 0.7532468 (47)\ttotal: 114ms\tremaining: 215ms\n",
      "64:\tlearn: 0.8553055\ttest: 0.7012987\tbest: 0.7532468 (47)\ttotal: 116ms\tremaining: 213ms\n",
      "65:\tlearn: 0.8626198\ttest: 0.7012987\tbest: 0.7532468 (47)\ttotal: 118ms\tremaining: 210ms\n",
      "66:\tlearn: 0.8653846\ttest: 0.7179487\tbest: 0.7532468 (47)\ttotal: 119ms\tremaining: 209ms\n",
      "67:\tlearn: 0.8617363\ttest: 0.7012987\tbest: 0.7532468 (47)\ttotal: 121ms\tremaining: 206ms\n",
      "68:\tlearn: 0.8726115\ttest: 0.7012987\tbest: 0.7532468 (47)\ttotal: 123ms\tremaining: 204ms\n",
      "69:\tlearn: 0.8797468\ttest: 0.6842105\tbest: 0.7532468 (47)\ttotal: 124ms\tremaining: 203ms\n",
      "70:\tlearn: 0.8825397\ttest: 0.6842105\tbest: 0.7532468 (47)\ttotal: 126ms\tremaining: 201ms\n",
      "71:\tlearn: 0.8860759\ttest: 0.6842105\tbest: 0.7532468 (47)\ttotal: 128ms\tremaining: 199ms\n",
      "72:\tlearn: 0.8895899\ttest: 0.6753247\tbest: 0.7532468 (47)\ttotal: 131ms\tremaining: 199ms\n",
      "73:\tlearn: 0.8958991\ttest: 0.6493506\tbest: 0.7532468 (47)\ttotal: 133ms\tremaining: 198ms\n",
      "74:\tlearn: 0.9028213\ttest: 0.6493506\tbest: 0.7532468 (47)\ttotal: 135ms\tremaining: 196ms\n",
      "75:\tlearn: 0.9028213\ttest: 0.6493506\tbest: 0.7532468 (47)\ttotal: 136ms\tremaining: 194ms\n",
      "76:\tlearn: 0.8993711\ttest: 0.6493506\tbest: 0.7532468 (47)\ttotal: 138ms\tremaining: 192ms\n",
      "77:\tlearn: 0.8993711\ttest: 0.6315789\tbest: 0.7532468 (47)\ttotal: 140ms\tremaining: 190ms\n",
      "78:\tlearn: 0.8924051\ttest: 0.6493506\tbest: 0.7532468 (47)\ttotal: 141ms\tremaining: 188ms\n",
      "79:\tlearn: 0.8958991\ttest: 0.6493506\tbest: 0.7532468 (47)\ttotal: 143ms\tremaining: 187ms\n",
      "80:\tlearn: 0.8924051\ttest: 0.6753247\tbest: 0.7532468 (47)\ttotal: 145ms\tremaining: 185ms\n",
      "81:\tlearn: 0.8958991\ttest: 0.6753247\tbest: 0.7532468 (47)\ttotal: 148ms\tremaining: 184ms\n",
      "82:\tlearn: 0.8993711\ttest: 0.6666667\tbest: 0.7532468 (47)\ttotal: 151ms\tremaining: 184ms\n",
      "83:\tlearn: 0.9028213\ttest: 0.6666667\tbest: 0.7532468 (47)\ttotal: 153ms\tremaining: 182ms\n",
      "84:\tlearn: 0.9028213\ttest: 0.6666667\tbest: 0.7532468 (47)\ttotal: 156ms\tremaining: 182ms\n",
      "85:\tlearn: 0.9028213\ttest: 0.6666667\tbest: 0.7532468 (47)\ttotal: 159ms\tremaining: 181ms\n",
      "86:\tlearn: 0.9062500\ttest: 0.6923077\tbest: 0.7532468 (47)\ttotal: 161ms\tremaining: 180ms\n",
      "87:\tlearn: 0.8993711\ttest: 0.6923077\tbest: 0.7532468 (47)\ttotal: 163ms\tremaining: 178ms\n",
      "88:\tlearn: 0.9062500\ttest: 0.6923077\tbest: 0.7532468 (47)\ttotal: 165ms\tremaining: 177ms\n",
      "89:\tlearn: 0.9096573\ttest: 0.6923077\tbest: 0.7532468 (47)\ttotal: 168ms\tremaining: 176ms\n",
      "90:\tlearn: 0.9096573\ttest: 0.6923077\tbest: 0.7532468 (47)\ttotal: 171ms\tremaining: 175ms\n",
      "91:\tlearn: 0.9130435\ttest: 0.6923077\tbest: 0.7532468 (47)\ttotal: 173ms\tremaining: 173ms\n",
      "92:\tlearn: 0.9130435\ttest: 0.6923077\tbest: 0.7532468 (47)\ttotal: 175ms\tremaining: 171ms\n",
      "93:\tlearn: 0.9130435\ttest: 0.7088608\tbest: 0.7532468 (47)\ttotal: 177ms\tremaining: 169ms\n",
      "94:\tlearn: 0.9164087\ttest: 0.7088608\tbest: 0.7532468 (47)\ttotal: 179ms\tremaining: 168ms\n",
      "95:\tlearn: 0.9164087\ttest: 0.7088608\tbest: 0.7532468 (47)\ttotal: 183ms\tremaining: 167ms\n",
      "96:\tlearn: 0.9164087\ttest: 0.7088608\tbest: 0.7532468 (47)\ttotal: 184ms\tremaining: 165ms\n",
      "97:\tlearn: 0.9197531\ttest: 0.7088608\tbest: 0.7532468 (47)\ttotal: 186ms\tremaining: 163ms\n",
      "98:\tlearn: 0.9197531\ttest: 0.7088608\tbest: 0.7532468 (47)\ttotal: 188ms\tremaining: 162ms\n",
      "99:\tlearn: 0.9197531\ttest: 0.7088608\tbest: 0.7532468 (47)\ttotal: 190ms\tremaining: 160ms\n",
      "100:\tlearn: 0.9197531\ttest: 0.7088608\tbest: 0.7532468 (47)\ttotal: 192ms\tremaining: 158ms\n",
      "101:\tlearn: 0.9230769\ttest: 0.7250000\tbest: 0.7532468 (47)\ttotal: 193ms\tremaining: 156ms\n",
      "102:\tlearn: 0.9230769\ttest: 0.7088608\tbest: 0.7532468 (47)\ttotal: 195ms\tremaining: 153ms\n",
      "103:\tlearn: 0.9230769\ttest: 0.7088608\tbest: 0.7532468 (47)\ttotal: 197ms\tremaining: 151ms\n",
      "104:\tlearn: 0.9230769\ttest: 0.7088608\tbest: 0.7532468 (47)\ttotal: 198ms\tremaining: 149ms\n",
      "105:\tlearn: 0.9230769\ttest: 0.7088608\tbest: 0.7532468 (47)\ttotal: 200ms\tremaining: 147ms\n",
      "106:\tlearn: 0.9263804\ttest: 0.7088608\tbest: 0.7532468 (47)\ttotal: 202ms\tremaining: 146ms\n",
      "107:\tlearn: 0.9263804\ttest: 0.7088608\tbest: 0.7532468 (47)\ttotal: 204ms\tremaining: 144ms\n",
      "108:\tlearn: 0.9263804\ttest: 0.7250000\tbest: 0.7532468 (47)\ttotal: 206ms\tremaining: 142ms\n",
      "109:\tlearn: 0.9263804\ttest: 0.7160494\tbest: 0.7532468 (47)\ttotal: 207ms\tremaining: 140ms\n",
      "110:\tlearn: 0.9263804\ttest: 0.7000000\tbest: 0.7532468 (47)\ttotal: 209ms\tremaining: 137ms\n",
      "111:\tlearn: 0.9263804\ttest: 0.7000000\tbest: 0.7532468 (47)\ttotal: 211ms\tremaining: 135ms\n",
      "112:\tlearn: 0.9296636\ttest: 0.7000000\tbest: 0.7532468 (47)\ttotal: 212ms\tremaining: 133ms\n",
      "113:\tlearn: 0.9263804\ttest: 0.7000000\tbest: 0.7532468 (47)\ttotal: 214ms\tremaining: 131ms\n",
      "114:\tlearn: 0.9263804\ttest: 0.7000000\tbest: 0.7532468 (47)\ttotal: 217ms\tremaining: 130ms\n",
      "115:\tlearn: 0.9263804\ttest: 0.7000000\tbest: 0.7532468 (47)\ttotal: 218ms\tremaining: 128ms\n",
      "116:\tlearn: 0.9263804\ttest: 0.6829268\tbest: 0.7532468 (47)\ttotal: 220ms\tremaining: 126ms\n",
      "117:\tlearn: 0.9296636\ttest: 0.6829268\tbest: 0.7532468 (47)\ttotal: 222ms\tremaining: 124ms\n",
      "118:\tlearn: 0.9296636\ttest: 0.6829268\tbest: 0.7532468 (47)\ttotal: 223ms\tremaining: 122ms\n",
      "119:\tlearn: 0.9296636\ttest: 0.6829268\tbest: 0.7532468 (47)\ttotal: 225ms\tremaining: 120ms\n",
      "120:\tlearn: 0.9393939\ttest: 0.6829268\tbest: 0.7532468 (47)\ttotal: 227ms\tremaining: 118ms\n",
      "121:\tlearn: 0.9393939\ttest: 0.6913580\tbest: 0.7532468 (47)\ttotal: 229ms\tremaining: 116ms\n",
      "122:\tlearn: 0.9393939\ttest: 0.6913580\tbest: 0.7532468 (47)\ttotal: 230ms\tremaining: 114ms\n",
      "123:\tlearn: 0.9393939\ttest: 0.6913580\tbest: 0.7532468 (47)\ttotal: 232ms\tremaining: 112ms\n",
      "124:\tlearn: 0.9390244\ttest: 0.7073171\tbest: 0.7532468 (47)\ttotal: 233ms\tremaining: 110ms\n",
      "125:\tlearn: 0.9422492\ttest: 0.7073171\tbest: 0.7532468 (47)\ttotal: 235ms\tremaining: 108ms\n",
      "126:\tlearn: 0.9422492\ttest: 0.7073171\tbest: 0.7532468 (47)\ttotal: 237ms\tremaining: 106ms\n",
      "127:\tlearn: 0.9422492\ttest: 0.7073171\tbest: 0.7532468 (47)\ttotal: 238ms\tremaining: 104ms\n",
      "128:\tlearn: 0.9422492\ttest: 0.7073171\tbest: 0.7532468 (47)\ttotal: 240ms\tremaining: 102ms\n",
      "129:\tlearn: 0.9422492\ttest: 0.7073171\tbest: 0.7532468 (47)\ttotal: 242ms\tremaining: 100ms\n",
      "130:\tlearn: 0.9422492\ttest: 0.7073171\tbest: 0.7532468 (47)\ttotal: 244ms\tremaining: 98.8ms\n",
      "131:\tlearn: 0.9422492\ttest: 0.6987952\tbest: 0.7532468 (47)\ttotal: 247ms\tremaining: 97.4ms\n",
      "132:\tlearn: 0.9454545\ttest: 0.6987952\tbest: 0.7532468 (47)\ttotal: 249ms\tremaining: 95.4ms\n",
      "133:\tlearn: 0.9454545\ttest: 0.6987952\tbest: 0.7532468 (47)\ttotal: 251ms\tremaining: 93.5ms\n",
      "134:\tlearn: 0.9486405\ttest: 0.6987952\tbest: 0.7532468 (47)\ttotal: 252ms\tremaining: 91.6ms\n",
      "135:\tlearn: 0.9486405\ttest: 0.6987952\tbest: 0.7532468 (47)\ttotal: 254ms\tremaining: 89.6ms\n",
      "136:\tlearn: 0.9518072\ttest: 0.6987952\tbest: 0.7532468 (47)\ttotal: 256ms\tremaining: 87.7ms\n",
      "137:\tlearn: 0.9518072\ttest: 0.6987952\tbest: 0.7532468 (47)\ttotal: 257ms\tremaining: 85.7ms\n",
      "138:\tlearn: 0.9518072\ttest: 0.7073171\tbest: 0.7532468 (47)\ttotal: 260ms\tremaining: 84ms\n",
      "139:\tlearn: 0.9518072\ttest: 0.7073171\tbest: 0.7532468 (47)\ttotal: 261ms\tremaining: 82.1ms\n",
      "140:\tlearn: 0.9549550\ttest: 0.7073171\tbest: 0.7532468 (47)\ttotal: 263ms\tremaining: 80.2ms\n",
      "141:\tlearn: 0.9580838\ttest: 0.7073171\tbest: 0.7532468 (47)\ttotal: 265ms\tremaining: 78.3ms\n",
      "142:\tlearn: 0.9580838\ttest: 0.6987952\tbest: 0.7532468 (47)\ttotal: 266ms\tremaining: 76.4ms\n",
      "143:\tlearn: 0.9580838\ttest: 0.6987952\tbest: 0.7532468 (47)\ttotal: 268ms\tremaining: 74.5ms\n",
      "144:\tlearn: 0.9580838\ttest: 0.6987952\tbest: 0.7532468 (47)\ttotal: 270ms\tremaining: 72.5ms\n",
      "145:\tlearn: 0.9580838\ttest: 0.6987952\tbest: 0.7532468 (47)\ttotal: 271ms\tremaining: 70.6ms\n",
      "146:\tlearn: 0.9611940\ttest: 0.6987952\tbest: 0.7532468 (47)\ttotal: 274ms\tremaining: 69ms\n",
      "147:\tlearn: 0.9611940\ttest: 0.6987952\tbest: 0.7532468 (47)\ttotal: 276ms\tremaining: 67ms\n",
      "148:\tlearn: 0.9580838\ttest: 0.7073171\tbest: 0.7532468 (47)\ttotal: 277ms\tremaining: 65.1ms\n",
      "149:\tlearn: 0.9580838\ttest: 0.7073171\tbest: 0.7532468 (47)\ttotal: 279ms\tremaining: 63.2ms\n",
      "150:\tlearn: 0.9611940\ttest: 0.6987952\tbest: 0.7532468 (47)\ttotal: 281ms\tremaining: 61.3ms\n",
      "151:\tlearn: 0.9642857\ttest: 0.6987952\tbest: 0.7532468 (47)\ttotal: 282ms\tremaining: 59.4ms\n",
      "152:\tlearn: 0.9673591\ttest: 0.6987952\tbest: 0.7532468 (47)\ttotal: 284ms\tremaining: 57.5ms\n",
      "153:\tlearn: 0.9673591\ttest: 0.6987952\tbest: 0.7532468 (47)\ttotal: 286ms\tremaining: 55.7ms\n",
      "154:\tlearn: 0.9702381\ttest: 0.6987952\tbest: 0.7532468 (47)\ttotal: 287ms\tremaining: 53.8ms\n",
      "155:\tlearn: 0.9671642\ttest: 0.6987952\tbest: 0.7532468 (47)\ttotal: 289ms\tremaining: 51.9ms\n",
      "156:\tlearn: 0.9671642\ttest: 0.6829268\tbest: 0.7532468 (47)\ttotal: 291ms\tremaining: 50ms\n",
      "157:\tlearn: 0.9638554\ttest: 0.6829268\tbest: 0.7532468 (47)\ttotal: 293ms\tremaining: 48.1ms\n",
      "158:\tlearn: 0.9731343\ttest: 0.6829268\tbest: 0.7532468 (47)\ttotal: 294ms\tremaining: 46.3ms\n",
      "159:\tlearn: 0.9700599\ttest: 0.6829268\tbest: 0.7532468 (47)\ttotal: 296ms\tremaining: 44.4ms\n",
      "160:\tlearn: 0.9700599\ttest: 0.6829268\tbest: 0.7532468 (47)\ttotal: 298ms\tremaining: 42.5ms\n",
      "161:\tlearn: 0.9700599\ttest: 0.6987952\tbest: 0.7532468 (47)\ttotal: 299ms\tremaining: 40.6ms\n",
      "162:\tlearn: 0.9761905\ttest: 0.6585366\tbest: 0.7532468 (47)\ttotal: 302ms\tremaining: 38.9ms\n",
      "163:\tlearn: 0.9731343\ttest: 0.6585366\tbest: 0.7532468 (47)\ttotal: 304ms\tremaining: 37ms\n",
      "164:\tlearn: 0.9700599\ttest: 0.6746988\tbest: 0.7532468 (47)\ttotal: 305ms\tremaining: 35.2ms\n",
      "165:\tlearn: 0.9700599\ttest: 0.6746988\tbest: 0.7532468 (47)\ttotal: 307ms\tremaining: 33.3ms\n",
      "166:\tlearn: 0.9700599\ttest: 0.6746988\tbest: 0.7532468 (47)\ttotal: 309ms\tremaining: 31.4ms\n",
      "167:\tlearn: 0.9731343\ttest: 0.6746988\tbest: 0.7532468 (47)\ttotal: 311ms\tremaining: 29.6ms\n",
      "168:\tlearn: 0.9700599\ttest: 0.6746988\tbest: 0.7532468 (47)\ttotal: 312ms\tremaining: 27.7ms\n",
      "169:\tlearn: 0.9700599\ttest: 0.6585366\tbest: 0.7532468 (47)\ttotal: 314ms\tremaining: 25.9ms\n",
      "170:\tlearn: 0.9700599\ttest: 0.6746988\tbest: 0.7532468 (47)\ttotal: 316ms\tremaining: 24ms\n",
      "171:\tlearn: 0.9731343\ttest: 0.6746988\tbest: 0.7532468 (47)\ttotal: 317ms\tremaining: 22.1ms\n",
      "172:\tlearn: 0.9761905\ttest: 0.6746988\tbest: 0.7532468 (47)\ttotal: 319ms\tremaining: 20.3ms\n",
      "173:\tlearn: 0.9761905\ttest: 0.6746988\tbest: 0.7532468 (47)\ttotal: 321ms\tremaining: 18.4ms\n",
      "174:\tlearn: 0.9761905\ttest: 0.6746988\tbest: 0.7532468 (47)\ttotal: 322ms\tremaining: 16.6ms\n",
      "175:\tlearn: 0.9761905\ttest: 0.6746988\tbest: 0.7532468 (47)\ttotal: 324ms\tremaining: 14.7ms\n",
      "176:\tlearn: 0.9761905\ttest: 0.6746988\tbest: 0.7532468 (47)\ttotal: 326ms\tremaining: 12.9ms\n",
      "177:\tlearn: 0.9761905\ttest: 0.6746988\tbest: 0.7532468 (47)\ttotal: 328ms\tremaining: 11ms\n",
      "178:\tlearn: 0.9761905\ttest: 0.6746988\tbest: 0.7532468 (47)\ttotal: 330ms\tremaining: 9.21ms\n",
      "179:\tlearn: 0.9761905\ttest: 0.6904762\tbest: 0.7532468 (47)\ttotal: 332ms\tremaining: 7.38ms\n",
      "180:\tlearn: 0.9761905\ttest: 0.6904762\tbest: 0.7532468 (47)\ttotal: 334ms\tremaining: 5.53ms\n",
      "181:\tlearn: 0.9761905\ttest: 0.6904762\tbest: 0.7532468 (47)\ttotal: 335ms\tremaining: 3.69ms\n",
      "182:\tlearn: 0.9761905\ttest: 0.6904762\tbest: 0.7532468 (47)\ttotal: 337ms\tremaining: 1.84ms\n",
      "183:\tlearn: 0.9761905\ttest: 0.6904762\tbest: 0.7532468 (47)\ttotal: 339ms\tremaining: 0us\n",
      "\n",
      "bestTest = 0.7532467532\n",
      "bestIteration = 47\n",
      "\n",
      "Training on fold [4/5]\n",
      "0:\tlearn: 0.6622951\ttest: 0.5813953\tbest: 0.5813953 (0)\ttotal: 1.88ms\tremaining: 343ms\n",
      "1:\tlearn: 0.6644518\ttest: 0.5714286\tbest: 0.5813953 (0)\ttotal: 3.82ms\tremaining: 348ms\n",
      "2:\tlearn: 0.6819672\ttest: 0.5476190\tbest: 0.5813953 (0)\ttotal: 5.61ms\tremaining: 338ms\n",
      "3:\tlearn: 0.6940063\ttest: 0.5348837\tbest: 0.5813953 (0)\ttotal: 7.33ms\tremaining: 330ms\n",
      "4:\tlearn: 0.6840391\ttest: 0.5581395\tbest: 0.5813953 (0)\ttotal: 9.05ms\tremaining: 324ms\n",
      "5:\tlearn: 0.6797386\ttest: 0.6024096\tbest: 0.6024096 (5)\ttotal: 10.8ms\tremaining: 320ms\n",
      "6:\tlearn: 0.6775244\ttest: 0.5952381\tbest: 0.6024096 (5)\ttotal: 12.5ms\tremaining: 316ms\n",
      "7:\tlearn: 0.6776316\ttest: 0.6000000\tbest: 0.6024096 (5)\ttotal: 14.2ms\tremaining: 312ms\n",
      "8:\tlearn: 0.6842105\ttest: 0.6000000\tbest: 0.6024096 (5)\ttotal: 15.9ms\tremaining: 309ms\n",
      "9:\tlearn: 0.6928105\ttest: 0.6000000\tbest: 0.6024096 (5)\ttotal: 17.6ms\tremaining: 307ms\n",
      "10:\tlearn: 0.6907895\ttest: 0.5897436\tbest: 0.6024096 (5)\ttotal: 19.4ms\tremaining: 304ms\n",
      "11:\tlearn: 0.7016393\ttest: 0.6024096\tbest: 0.6024096 (5)\ttotal: 21.1ms\tremaining: 302ms\n",
      "12:\tlearn: 0.7081967\ttest: 0.5783133\tbest: 0.6024096 (5)\ttotal: 22.8ms\tremaining: 300ms\n",
      "13:\tlearn: 0.7105263\ttest: 0.5679012\tbest: 0.6024096 (5)\ttotal: 24.5ms\tremaining: 298ms\n",
      "14:\tlearn: 0.7189542\ttest: 0.5542169\tbest: 0.6024096 (5)\ttotal: 26.3ms\tremaining: 296ms\n",
      "15:\tlearn: 0.7105263\ttest: 0.5432099\tbest: 0.6024096 (5)\ttotal: 28ms\tremaining: 294ms\n",
      "16:\tlearn: 0.7105263\ttest: 0.5641026\tbest: 0.6024096 (5)\ttotal: 29.7ms\tremaining: 291ms\n",
      "17:\tlearn: 0.7105263\ttest: 0.5316456\tbest: 0.6024096 (5)\ttotal: 32.6ms\tremaining: 300ms\n",
      "18:\tlearn: 0.7147541\ttest: 0.5542169\tbest: 0.6024096 (5)\ttotal: 35.5ms\tremaining: 308ms\n",
      "19:\tlearn: 0.7254902\ttest: 0.5432099\tbest: 0.6024096 (5)\ttotal: 37.2ms\tremaining: 305ms\n",
      "20:\tlearn: 0.7254902\ttest: 0.5569620\tbest: 0.6024096 (5)\ttotal: 38.9ms\tremaining: 302ms\n",
      "21:\tlearn: 0.7385621\ttest: 0.5641026\tbest: 0.6024096 (5)\ttotal: 40.6ms\tremaining: 299ms\n",
      "22:\tlearn: 0.7434211\ttest: 0.5679012\tbest: 0.6024096 (5)\ttotal: 42.3ms\tremaining: 296ms\n",
      "23:\tlearn: 0.7434211\ttest: 0.5679012\tbest: 0.6024096 (5)\ttotal: 44.3ms\tremaining: 295ms\n",
      "24:\tlearn: 0.7434211\ttest: 0.5750000\tbest: 0.6024096 (5)\ttotal: 46ms\tremaining: 293ms\n",
      "25:\tlearn: 0.7434211\ttest: 0.5750000\tbest: 0.6024096 (5)\ttotal: 47.7ms\tremaining: 290ms\n",
      "26:\tlearn: 0.7475410\ttest: 0.5750000\tbest: 0.6024096 (5)\ttotal: 49.4ms\tremaining: 287ms\n",
      "27:\tlearn: 0.7532468\ttest: 0.5750000\tbest: 0.6024096 (5)\ttotal: 51.1ms\tremaining: 285ms\n",
      "28:\tlearn: 0.7647059\ttest: 0.5500000\tbest: 0.6024096 (5)\ttotal: 52.8ms\tremaining: 282ms\n",
      "29:\tlearn: 0.7727273\ttest: 0.5500000\tbest: 0.6024096 (5)\ttotal: 54.5ms\tremaining: 280ms\n",
      "30:\tlearn: 0.7702265\ttest: 0.5500000\tbest: 0.6024096 (5)\ttotal: 56.2ms\tremaining: 278ms\n",
      "31:\tlearn: 0.7727273\ttest: 0.5500000\tbest: 0.6024096 (5)\ttotal: 58ms\tremaining: 275ms\n",
      "32:\tlearn: 0.7766990\ttest: 0.5750000\tbest: 0.6024096 (5)\ttotal: 60.2ms\tremaining: 275ms\n",
      "33:\tlearn: 0.7884615\ttest: 0.5750000\tbest: 0.6024096 (5)\ttotal: 62.4ms\tremaining: 275ms\n",
      "34:\tlearn: 0.7884615\ttest: 0.5750000\tbest: 0.6024096 (5)\ttotal: 64.1ms\tremaining: 273ms\n",
      "35:\tlearn: 0.7845659\ttest: 0.5750000\tbest: 0.6024096 (5)\ttotal: 65.8ms\tremaining: 271ms\n",
      "36:\tlearn: 0.7909968\ttest: 0.5897436\tbest: 0.6024096 (5)\ttotal: 67.5ms\tremaining: 268ms\n",
      "37:\tlearn: 0.7974277\ttest: 0.5897436\tbest: 0.6024096 (5)\ttotal: 69.2ms\tremaining: 266ms\n",
      "38:\tlearn: 0.7974277\ttest: 0.5822785\tbest: 0.6024096 (5)\ttotal: 70.9ms\tremaining: 264ms\n",
      "39:\tlearn: 0.7974277\ttest: 0.5822785\tbest: 0.6024096 (5)\ttotal: 72.7ms\tremaining: 262ms\n",
      "40:\tlearn: 0.8025890\ttest: 0.5897436\tbest: 0.6024096 (5)\ttotal: 75ms\tremaining: 262ms\n",
      "41:\tlearn: 0.8102894\ttest: 0.5897436\tbest: 0.6024096 (5)\ttotal: 76.9ms\tremaining: 260ms\n",
      "42:\tlearn: 0.8167203\ttest: 0.5897436\tbest: 0.6024096 (5)\ttotal: 78.6ms\tremaining: 258ms\n",
      "43:\tlearn: 0.8205128\ttest: 0.5897436\tbest: 0.6024096 (5)\ttotal: 80.3ms\tremaining: 256ms\n",
      "44:\tlearn: 0.8280255\ttest: 0.6075949\tbest: 0.6075949 (44)\ttotal: 82ms\tremaining: 253ms\n",
      "45:\tlearn: 0.8280255\ttest: 0.6075949\tbest: 0.6075949 (44)\ttotal: 83.7ms\tremaining: 251ms\n",
      "46:\tlearn: 0.8205128\ttest: 0.6075949\tbest: 0.6075949 (44)\ttotal: 85.5ms\tremaining: 249ms\n",
      "47:\tlearn: 0.8280255\ttest: 0.6153846\tbest: 0.6153846 (47)\ttotal: 87.2ms\tremaining: 247ms\n",
      "48:\tlearn: 0.8291139\ttest: 0.6000000\tbest: 0.6153846 (47)\ttotal: 89.1ms\tremaining: 246ms\n",
      "49:\tlearn: 0.8317460\ttest: 0.6075949\tbest: 0.6153846 (47)\ttotal: 91.2ms\tremaining: 244ms\n",
      "50:\tlearn: 0.8317460\ttest: 0.6000000\tbest: 0.6153846 (47)\ttotal: 92.9ms\tremaining: 242ms\n",
      "51:\tlearn: 0.8354430\ttest: 0.6075949\tbest: 0.6153846 (47)\ttotal: 95.5ms\tremaining: 242ms\n",
      "52:\tlearn: 0.8354430\ttest: 0.6000000\tbest: 0.6153846 (47)\ttotal: 97.3ms\tremaining: 240ms\n",
      "53:\tlearn: 0.8370607\ttest: 0.6000000\tbest: 0.6153846 (47)\ttotal: 98.9ms\tremaining: 238ms\n",
      "54:\tlearn: 0.8380952\ttest: 0.6000000\tbest: 0.6153846 (47)\ttotal: 101ms\tremaining: 236ms\n",
      "55:\tlearn: 0.8454259\ttest: 0.6075949\tbest: 0.6153846 (47)\ttotal: 103ms\tremaining: 234ms\n",
      "56:\tlearn: 0.8526646\ttest: 0.6075949\tbest: 0.6153846 (47)\ttotal: 104ms\tremaining: 232ms\n",
      "57:\tlearn: 0.8589342\ttest: 0.6075949\tbest: 0.6153846 (47)\ttotal: 106ms\tremaining: 230ms\n",
      "58:\tlearn: 0.8625000\ttest: 0.6075949\tbest: 0.6153846 (47)\ttotal: 108ms\tremaining: 228ms\n",
      "59:\tlearn: 0.8625000\ttest: 0.6250000\tbest: 0.6250000 (59)\ttotal: 109ms\tremaining: 226ms\n",
      "60:\tlearn: 0.8660436\ttest: 0.6250000\tbest: 0.6250000 (59)\ttotal: 111ms\tremaining: 224ms\n",
      "61:\tlearn: 0.8695652\ttest: 0.6000000\tbest: 0.6250000 (59)\ttotal: 113ms\tremaining: 222ms\n",
      "62:\tlearn: 0.8695652\ttest: 0.6000000\tbest: 0.6250000 (59)\ttotal: 114ms\tremaining: 220ms\n",
      "63:\tlearn: 0.8695652\ttest: 0.6000000\tbest: 0.6250000 (59)\ttotal: 116ms\tremaining: 218ms\n",
      "64:\tlearn: 0.8757764\ttest: 0.6000000\tbest: 0.6250000 (59)\ttotal: 118ms\tremaining: 217ms\n",
      "65:\tlearn: 0.8819876\ttest: 0.6000000\tbest: 0.6250000 (59)\ttotal: 120ms\tremaining: 215ms\n",
      "66:\tlearn: 0.8819876\ttest: 0.6000000\tbest: 0.6250000 (59)\ttotal: 122ms\tremaining: 213ms\n",
      "67:\tlearn: 0.8819876\ttest: 0.5822785\tbest: 0.6250000 (59)\ttotal: 123ms\tremaining: 211ms\n",
      "68:\tlearn: 0.8819876\ttest: 0.5822785\tbest: 0.6250000 (59)\ttotal: 125ms\tremaining: 209ms\n",
      "69:\tlearn: 0.8819876\ttest: 0.5822785\tbest: 0.6250000 (59)\ttotal: 127ms\tremaining: 207ms\n",
      "70:\tlearn: 0.8819876\ttest: 0.5822785\tbest: 0.6250000 (59)\ttotal: 129ms\tremaining: 205ms\n",
      "71:\tlearn: 0.8888889\ttest: 0.5822785\tbest: 0.6250000 (59)\ttotal: 130ms\tremaining: 203ms\n",
      "72:\tlearn: 0.8923077\ttest: 0.6000000\tbest: 0.6250000 (59)\ttotal: 132ms\tremaining: 201ms\n",
      "73:\tlearn: 0.8923077\ttest: 0.6000000\tbest: 0.6250000 (59)\ttotal: 134ms\tremaining: 199ms\n",
      "74:\tlearn: 0.8923077\ttest: 0.6000000\tbest: 0.6250000 (59)\ttotal: 135ms\tremaining: 197ms\n",
      "75:\tlearn: 0.8950617\ttest: 0.5925926\tbest: 0.6250000 (59)\ttotal: 137ms\tremaining: 195ms\n",
      "76:\tlearn: 0.9018405\ttest: 0.6097561\tbest: 0.6250000 (59)\ttotal: 139ms\tremaining: 193ms\n",
      "77:\tlearn: 0.9018405\ttest: 0.6097561\tbest: 0.6250000 (59)\ttotal: 140ms\tremaining: 191ms\n",
      "78:\tlearn: 0.9018405\ttest: 0.6097561\tbest: 0.6250000 (59)\ttotal: 142ms\tremaining: 189ms\n",
      "79:\tlearn: 0.9018405\ttest: 0.6097561\tbest: 0.6250000 (59)\ttotal: 145ms\tremaining: 188ms\n",
      "80:\tlearn: 0.9051988\ttest: 0.5925926\tbest: 0.6250000 (59)\ttotal: 147ms\tremaining: 187ms\n",
      "81:\tlearn: 0.9051988\ttest: 0.5925926\tbest: 0.6250000 (59)\ttotal: 148ms\tremaining: 185ms\n",
      "82:\tlearn: 0.9090909\ttest: 0.6265060\tbest: 0.6265060 (82)\ttotal: 150ms\tremaining: 183ms\n",
      "83:\tlearn: 0.9085366\ttest: 0.6097561\tbest: 0.6265060 (82)\ttotal: 152ms\tremaining: 181ms\n",
      "84:\tlearn: 0.9184290\ttest: 0.6265060\tbest: 0.6265060 (82)\ttotal: 154ms\tremaining: 179ms\n",
      "85:\tlearn: 0.9118541\ttest: 0.6097561\tbest: 0.6265060 (82)\ttotal: 155ms\tremaining: 177ms\n",
      "86:\tlearn: 0.9151515\ttest: 0.6097561\tbest: 0.6265060 (82)\ttotal: 157ms\tremaining: 175ms\n",
      "87:\tlearn: 0.9118541\ttest: 0.6097561\tbest: 0.6265060 (82)\ttotal: 159ms\tremaining: 173ms\n",
      "88:\tlearn: 0.9151515\ttest: 0.6265060\tbest: 0.6265060 (82)\ttotal: 161ms\tremaining: 171ms\n",
      "89:\tlearn: 0.9151515\ttest: 0.6265060\tbest: 0.6265060 (82)\ttotal: 162ms\tremaining: 170ms\n",
      "90:\tlearn: 0.9151515\ttest: 0.6265060\tbest: 0.6265060 (82)\ttotal: 164ms\tremaining: 168ms\n",
      "91:\tlearn: 0.9151515\ttest: 0.6265060\tbest: 0.6265060 (82)\ttotal: 166ms\tremaining: 166ms\n",
      "92:\tlearn: 0.9151515\ttest: 0.6265060\tbest: 0.6265060 (82)\ttotal: 168ms\tremaining: 164ms\n",
      "93:\tlearn: 0.9118541\ttest: 0.6265060\tbest: 0.6265060 (82)\ttotal: 169ms\tremaining: 162ms\n",
      "94:\tlearn: 0.9151515\ttest: 0.6097561\tbest: 0.6265060 (82)\ttotal: 171ms\tremaining: 160ms\n",
      "95:\tlearn: 0.9179331\ttest: 0.6097561\tbest: 0.6265060 (82)\ttotal: 174ms\tremaining: 160ms\n",
      "96:\tlearn: 0.9184290\ttest: 0.6097561\tbest: 0.6265060 (82)\ttotal: 177ms\tremaining: 159ms\n",
      "97:\tlearn: 0.9249249\ttest: 0.6097561\tbest: 0.6265060 (82)\ttotal: 179ms\tremaining: 157ms\n",
      "98:\tlearn: 0.9281437\ttest: 0.6097561\tbest: 0.6265060 (82)\ttotal: 180ms\tremaining: 155ms\n",
      "99:\tlearn: 0.9309309\ttest: 0.6097561\tbest: 0.6265060 (82)\ttotal: 182ms\tremaining: 153ms\n",
      "100:\tlearn: 0.9281437\ttest: 0.6097561\tbest: 0.6265060 (82)\ttotal: 184ms\tremaining: 151ms\n",
      "101:\tlearn: 0.9253731\ttest: 0.6097561\tbest: 0.6265060 (82)\ttotal: 186ms\tremaining: 149ms\n",
      "102:\tlearn: 0.9337349\ttest: 0.6265060\tbest: 0.6265060 (82)\ttotal: 187ms\tremaining: 147ms\n",
      "103:\tlearn: 0.9309309\ttest: 0.6265060\tbest: 0.6265060 (82)\ttotal: 189ms\tremaining: 145ms\n",
      "104:\tlearn: 0.9337349\ttest: 0.6265060\tbest: 0.6265060 (82)\ttotal: 191ms\tremaining: 143ms\n",
      "105:\tlearn: 0.9369369\ttest: 0.6265060\tbest: 0.6265060 (82)\ttotal: 192ms\tremaining: 142ms\n",
      "106:\tlearn: 0.9369369\ttest: 0.6265060\tbest: 0.6265060 (82)\ttotal: 194ms\tremaining: 140ms\n",
      "107:\tlearn: 0.9341317\ttest: 0.6265060\tbest: 0.6265060 (82)\ttotal: 196ms\tremaining: 138ms\n",
      "108:\tlearn: 0.9369369\ttest: 0.6265060\tbest: 0.6265060 (82)\ttotal: 198ms\tremaining: 136ms\n",
      "109:\tlearn: 0.9369369\ttest: 0.6265060\tbest: 0.6265060 (82)\ttotal: 199ms\tremaining: 134ms\n",
      "110:\tlearn: 0.9369369\ttest: 0.6265060\tbest: 0.6265060 (82)\ttotal: 202ms\tremaining: 133ms\n",
      "111:\tlearn: 0.9341317\ttest: 0.6265060\tbest: 0.6265060 (82)\ttotal: 204ms\tremaining: 131ms\n",
      "112:\tlearn: 0.9341317\ttest: 0.6265060\tbest: 0.6265060 (82)\ttotal: 206ms\tremaining: 129ms\n",
      "113:\tlearn: 0.9401198\ttest: 0.6265060\tbest: 0.6265060 (82)\ttotal: 208ms\tremaining: 128ms\n",
      "114:\tlearn: 0.9425982\ttest: 0.6097561\tbest: 0.6265060 (82)\ttotal: 210ms\tremaining: 126ms\n",
      "115:\tlearn: 0.9425982\ttest: 0.6097561\tbest: 0.6265060 (82)\ttotal: 211ms\tremaining: 124ms\n",
      "116:\tlearn: 0.9429429\ttest: 0.6097561\tbest: 0.6265060 (82)\ttotal: 213ms\tremaining: 122ms\n",
      "117:\tlearn: 0.9401198\ttest: 0.6097561\tbest: 0.6265060 (82)\ttotal: 215ms\tremaining: 120ms\n",
      "118:\tlearn: 0.9429429\ttest: 0.6097561\tbest: 0.6265060 (82)\ttotal: 216ms\tremaining: 118ms\n",
      "119:\tlearn: 0.9429429\ttest: 0.6097561\tbest: 0.6265060 (82)\ttotal: 218ms\tremaining: 116ms\n",
      "120:\tlearn: 0.9457831\ttest: 0.6265060\tbest: 0.6265060 (82)\ttotal: 220ms\tremaining: 114ms\n",
      "121:\tlearn: 0.9489489\ttest: 0.6265060\tbest: 0.6265060 (82)\ttotal: 221ms\tremaining: 113ms\n",
      "122:\tlearn: 0.9489489\ttest: 0.6097561\tbest: 0.6265060 (82)\ttotal: 223ms\tremaining: 111ms\n",
      "123:\tlearn: 0.9489489\ttest: 0.6097561\tbest: 0.6265060 (82)\ttotal: 225ms\tremaining: 109ms\n",
      "124:\tlearn: 0.9489489\ttest: 0.6024096\tbest: 0.6265060 (82)\ttotal: 227ms\tremaining: 107ms\n",
      "125:\tlearn: 0.9489489\ttest: 0.6024096\tbest: 0.6265060 (82)\ttotal: 228ms\tremaining: 105ms\n",
      "126:\tlearn: 0.9489489\ttest: 0.6024096\tbest: 0.6265060 (82)\ttotal: 231ms\tremaining: 104ms\n",
      "127:\tlearn: 0.9489489\ttest: 0.6024096\tbest: 0.6265060 (82)\ttotal: 233ms\tremaining: 102ms\n",
      "128:\tlearn: 0.9518072\ttest: 0.6024096\tbest: 0.6265060 (82)\ttotal: 235ms\tremaining: 100ms\n",
      "129:\tlearn: 0.9518072\ttest: 0.6024096\tbest: 0.6265060 (82)\ttotal: 237ms\tremaining: 98.3ms\n",
      "130:\tlearn: 0.9549550\ttest: 0.6024096\tbest: 0.6265060 (82)\ttotal: 238ms\tremaining: 96.4ms\n",
      "131:\tlearn: 0.9520958\ttest: 0.6024096\tbest: 0.6265060 (82)\ttotal: 240ms\tremaining: 94.5ms\n",
      "132:\tlearn: 0.9552239\ttest: 0.6024096\tbest: 0.6265060 (82)\ttotal: 242ms\tremaining: 92.7ms\n",
      "133:\tlearn: 0.9489489\ttest: 0.6097561\tbest: 0.6265060 (82)\ttotal: 243ms\tremaining: 90.8ms\n",
      "134:\tlearn: 0.9489489\ttest: 0.6097561\tbest: 0.6265060 (82)\ttotal: 245ms\tremaining: 89ms\n",
      "135:\tlearn: 0.9489489\ttest: 0.6097561\tbest: 0.6265060 (82)\ttotal: 247ms\tremaining: 87.2ms\n",
      "136:\tlearn: 0.9489489\ttest: 0.6097561\tbest: 0.6265060 (82)\ttotal: 249ms\tremaining: 85.3ms\n",
      "137:\tlearn: 0.9489489\ttest: 0.6097561\tbest: 0.6265060 (82)\ttotal: 251ms\tremaining: 83.5ms\n",
      "138:\tlearn: 0.9489489\ttest: 0.6097561\tbest: 0.6265060 (82)\ttotal: 252ms\tremaining: 81.7ms\n",
      "139:\tlearn: 0.9520958\ttest: 0.6097561\tbest: 0.6265060 (82)\ttotal: 254ms\tremaining: 79.8ms\n",
      "140:\tlearn: 0.9552239\ttest: 0.6097561\tbest: 0.6265060 (82)\ttotal: 256ms\tremaining: 78ms\n",
      "141:\tlearn: 0.9520958\ttest: 0.6097561\tbest: 0.6265060 (82)\ttotal: 257ms\tremaining: 76.2ms\n",
      "142:\tlearn: 0.9520958\ttest: 0.6097561\tbest: 0.6265060 (82)\ttotal: 260ms\tremaining: 74.6ms\n",
      "143:\tlearn: 0.9552239\ttest: 0.6097561\tbest: 0.6265060 (82)\ttotal: 262ms\tremaining: 72.8ms\n",
      "144:\tlearn: 0.9552239\ttest: 0.6097561\tbest: 0.6265060 (82)\ttotal: 264ms\tremaining: 70.9ms\n",
      "145:\tlearn: 0.9552239\ttest: 0.6172840\tbest: 0.6265060 (82)\ttotal: 265ms\tremaining: 69.1ms\n",
      "146:\tlearn: 0.9552239\ttest: 0.6172840\tbest: 0.6265060 (82)\ttotal: 267ms\tremaining: 67.2ms\n",
      "147:\tlearn: 0.9583333\ttest: 0.6172840\tbest: 0.6265060 (82)\ttotal: 269ms\tremaining: 65.3ms\n",
      "148:\tlearn: 0.9552239\ttest: 0.6172840\tbest: 0.6265060 (82)\ttotal: 270ms\tremaining: 63.5ms\n",
      "149:\tlearn: 0.9552239\ttest: 0.6172840\tbest: 0.6265060 (82)\ttotal: 272ms\tremaining: 61.7ms\n",
      "150:\tlearn: 0.9552239\ttest: 0.6172840\tbest: 0.6265060 (82)\ttotal: 274ms\tremaining: 59.8ms\n",
      "151:\tlearn: 0.9583333\ttest: 0.6172840\tbest: 0.6265060 (82)\ttotal: 276ms\tremaining: 58ms\n",
      "152:\tlearn: 0.9614243\ttest: 0.6172840\tbest: 0.6265060 (82)\ttotal: 277ms\tremaining: 56.2ms\n",
      "153:\tlearn: 0.9614243\ttest: 0.6172840\tbest: 0.6265060 (82)\ttotal: 279ms\tremaining: 54.3ms\n",
      "154:\tlearn: 0.9614243\ttest: 0.6172840\tbest: 0.6265060 (82)\ttotal: 281ms\tremaining: 52.5ms\n",
      "155:\tlearn: 0.9642857\ttest: 0.6172840\tbest: 0.6265060 (82)\ttotal: 282ms\tremaining: 50.6ms\n",
      "156:\tlearn: 0.9642857\ttest: 0.6172840\tbest: 0.6265060 (82)\ttotal: 284ms\tremaining: 48.8ms\n",
      "157:\tlearn: 0.9642857\ttest: 0.6172840\tbest: 0.6265060 (82)\ttotal: 286ms\tremaining: 47ms\n",
      "158:\tlearn: 0.9704142\ttest: 0.6172840\tbest: 0.6265060 (82)\ttotal: 288ms\tremaining: 45.2ms\n",
      "159:\tlearn: 0.9704142\ttest: 0.6172840\tbest: 0.6265060 (82)\ttotal: 290ms\tremaining: 43.4ms\n",
      "160:\tlearn: 0.9673591\ttest: 0.6172840\tbest: 0.6265060 (82)\ttotal: 292ms\tremaining: 41.7ms\n",
      "161:\tlearn: 0.9673591\ttest: 0.6172840\tbest: 0.6265060 (82)\ttotal: 293ms\tremaining: 39.8ms\n",
      "162:\tlearn: 0.9673591\ttest: 0.6172840\tbest: 0.6265060 (82)\ttotal: 295ms\tremaining: 38ms\n",
      "163:\tlearn: 0.9673591\ttest: 0.6172840\tbest: 0.6265060 (82)\ttotal: 297ms\tremaining: 36.2ms\n",
      "164:\tlearn: 0.9702381\ttest: 0.6172840\tbest: 0.6265060 (82)\ttotal: 298ms\tremaining: 34.4ms\n",
      "165:\tlearn: 0.9702381\ttest: 0.6097561\tbest: 0.6265060 (82)\ttotal: 300ms\tremaining: 32.5ms\n",
      "166:\tlearn: 0.9702381\ttest: 0.6172840\tbest: 0.6265060 (82)\ttotal: 302ms\tremaining: 30.8ms\n",
      "167:\tlearn: 0.9702381\ttest: 0.6097561\tbest: 0.6265060 (82)\ttotal: 305ms\tremaining: 29ms\n",
      "168:\tlearn: 0.9702381\ttest: 0.6172840\tbest: 0.6265060 (82)\ttotal: 306ms\tremaining: 27.2ms\n",
      "169:\tlearn: 0.9731343\ttest: 0.6097561\tbest: 0.6265060 (82)\ttotal: 308ms\tremaining: 25.4ms\n",
      "170:\tlearn: 0.9731343\ttest: 0.6097561\tbest: 0.6265060 (82)\ttotal: 310ms\tremaining: 23.5ms\n",
      "171:\tlearn: 0.9731343\ttest: 0.6097561\tbest: 0.6265060 (82)\ttotal: 311ms\tremaining: 21.7ms\n",
      "172:\tlearn: 0.9761905\ttest: 0.6097561\tbest: 0.6265060 (82)\ttotal: 313ms\tremaining: 19.9ms\n",
      "173:\tlearn: 0.9761905\ttest: 0.6172840\tbest: 0.6265060 (82)\ttotal: 315ms\tremaining: 18.1ms\n",
      "174:\tlearn: 0.9761905\ttest: 0.6172840\tbest: 0.6265060 (82)\ttotal: 318ms\tremaining: 16.3ms\n",
      "175:\tlearn: 0.9761905\ttest: 0.6097561\tbest: 0.6265060 (82)\ttotal: 319ms\tremaining: 14.5ms\n",
      "176:\tlearn: 0.9792285\ttest: 0.6097561\tbest: 0.6265060 (82)\ttotal: 321ms\tremaining: 12.7ms\n",
      "177:\tlearn: 0.9822485\ttest: 0.6097561\tbest: 0.6265060 (82)\ttotal: 323ms\tremaining: 10.9ms\n",
      "178:\tlearn: 0.9822485\ttest: 0.6097561\tbest: 0.6265060 (82)\ttotal: 325ms\tremaining: 9.07ms\n",
      "179:\tlearn: 0.9822485\ttest: 0.6097561\tbest: 0.6265060 (82)\ttotal: 326ms\tremaining: 7.25ms\n",
      "180:\tlearn: 0.9822485\ttest: 0.6024096\tbest: 0.6265060 (82)\ttotal: 328ms\tremaining: 5.44ms\n",
      "181:\tlearn: 0.9822485\ttest: 0.6024096\tbest: 0.6265060 (82)\ttotal: 331ms\tremaining: 3.64ms\n",
      "182:\tlearn: 0.9822485\ttest: 0.6024096\tbest: 0.6265060 (82)\ttotal: 334ms\tremaining: 1.83ms\n",
      "183:\tlearn: 0.9822485\ttest: 0.6024096\tbest: 0.6265060 (82)\ttotal: 337ms\tremaining: 0us\n",
      "\n",
      "bestTest = 0.6265060241\n",
      "bestIteration = 82\n",
      "\n"
     ]
    }
   ],
   "source": [
    "import joblib\n",
    "from ARISA_DSML.train import train_cv\n",
    "params = joblib.load(best_params_path)\n",
    "display(params)\n",
    "n_folds = 5\n",
    "cv_output_path = train_cv(X_train, y_train, params, n=n_folds)"
   ]
  },
  {
   "cell_type": "code",
   "execution_count": 12,
   "id": "d877500c",
   "metadata": {},
   "outputs": [
    {
     "data": {
      "application/vnd.plotly.v1+json": {
       "config": {
        "plotlyServerURL": "https://plot.ly"
       },
       "data": [
        {
         "line": {
          "color": "blue"
         },
         "mode": "lines",
         "name": "Mean F1 Score",
         "type": "scatter",
         "x": {
          "bdata": "AAABAAIAAwAEAAUABgAHAAgACQAKAAsADAANAA4ADwAQABEAEgATABQAFQAWABcAGAAZABoAGwAcAB0AHgAfACAAIQAiACMAJAAlACYAJwAoACkAKgArACwALQAuAC8AMAAxADIAMwA0ADUANgA3ADgAOQA6ADsAPAA9AD4APwBAAEEAQgBDAEQARQBGAEcASABJAEoASwBMAE0ATgBPAFAAUQBSAFMAVABVAFYAVwBYAFkAWgBbAFwAXQBeAF8AYABhAGIAYwBkAGUAZgBnAGgAaQBqAGsAbABtAG4AbwBwAHEAcgBzAHQAdQB2AHcAeAB5AHoAewB8AH0AfgB/AIAAgQCCAIMAhACFAIYAhwCIAIkAigCLAIwAjQCOAI8AkACRAJIAkwCUAJUAlgCXAJgAmQCaAJsAnACdAJ4AnwCgAKEAogCjAKQApQCmAKcAqACpAKoAqwCsAK0ArgCvALAAsQCyALMAtAC1ALYAtwA=",
          "dtype": "i2"
         },
         "y": {
          "bdata": "AsKfmGYk4j9mk8QsBeHjP+MdezqTC+Q/DqwGxBdH4z/qh8PIBLzjP8/XfoWhquM/53tNT4VD4z9KZ+S8ZkHjPwRFwMVZrOM/pSBmpsP14z8/MLVvHb7jP50yaodUyeM/+U+Ws/Kx4z+VDdmrKAvkP7nqAF3n9eM/Um/ux26n4z8y56tuzlzjP6qEuNabYeM/Ktep+G054z/+XSD1qvniP2QwJOzy5eI/fkKhMt304j+ekGmgfGvjP4aCw9G6WOM/1Tsn+86X4z8ope+0nsbjPwo8sSlk9+M/oEA/5slA5D9GrZvBWPHjPz3xh4+U4OM/QvREZPAQ5D8B9uiY1yzkPxLa139VguQ/KwGiSphk5D+AWNL9OrvkP7JVZr9XjuQ/uQOi1KOY5D+gsnuq0KXkPy5lzEoQq+Q/kguSQuHT5D+ksKWX7SnlPx8oKntdEeU/Ro/XvQ9K5T/3UVFebh/lP5agsyiEHuU/MvrtMLP15D8KBxOYnQHlP6r1/ygOLOU/2AY4S0H35D9ybtJl4PPkP/Qq/PAGA+U/1kv7zTvx5D9fMDP3b/HkP18wM/dv8eQ/XzAz92/x5D8WfgQzMcTkP+dJ91dH0uQ/xryPOFi65D+K6XsB8p3kP/oSII9J1uQ/weJ182i75D9RsVVznq7kPzD2xRuAn+Q/2N6eamGe5D9qJnC3YLrkP3Mnqfb1yuQ/VuOVfD3m5D92cQwF7a3kP2xtq8opoeQ/5Sk7uO2R5D/lKTu47ZHkP9sl2n0qheQ/rib7WaS+5D9leyI4cmzkP25/g3I1eeQ/0gGGpSp65D8+4rLam4bkP1WDutx9aeQ/PuKy2puG5D+y+F/Dg3nkP39I3Snzh+Q/dUR87y975D/UWd3TkKTkP7FJXbRpl+Q/LgoIItuy5D+xSV20aZfkP1FMh1RsweQ/UUyHVGzB5D9SxejnIcLkP/KjUE5P6eQ/8qNQTk/p5D/yo1BOT+nkP/KjUE5P6eQ/hsxeKm4E5T96MsbHmfbkP4Z3v9CNBuU/hne/0I0G5T9upBmiXezkP5I7OC7P+OQ/kjs4Ls/45D+SOzguz/jkP9rUD930SeU/LZT5APVK5T8otbydMUvlP3TEqzPgLuU/dMSrM+Au5T90xKsz4C7lP3TEqzPgLuU/k4BzdF055T/tAz1LsyrlP2ok5LFnEOU/aiTksWcQ5T9bNF7vIEblP95jzIjBYeU/YaMhG1BG5T9ygVejygHlP6SssFkCFOU/pKywWQIU5T8eOiuOeDHlPxH1MYWEIeU/Im1bx3Mv5T/jhBIURD3lP0BPuDpGFeU/ygiIl5Ei5T9aFNwbqjnlP/sWBrysY+U/HlxaxP1e5T+Y6dT4c3zlP2ghYUaWl+U/aCFhRpaX5T9oIWFGlpflPz40Je+fieU/xKaquils5T9ytwKjpmvlP3K3AqOma+U/mSyyDjN45T+ZLLIOM3jlP5kssg4zeOU/whnuZSmG5T/CGe5lKYblP885w2Z7k+U/zznDZnuT5T+mTIcPhYXlPx/aAUT7ouU/H9oBRPui5T+6BrJyjaLlP8MKE61Qr+U/Li07nDuI5T96tjeQBablP17f5ym2suU/ODGc1v6U5T8uLTucO4jlPy4tO5w7iOU/Li07nDuI5T8uLTucO4jlPy4tO5w7iOU/S5FHV4th5T9LkUdXi2HlP66+eBrESOU/cp8PR1wv5T+uvngaxEjlP60xvMXDYuU/hl75F84g5T+GXvkXziDlP1rrCQRJO+U/trr4mvMu5T9a6wkESTvlP7a6+JrzLuU/WusJBEk75T/iLeiueBTlP7a6+JrzLuU/U43H17pH5T9TjcfXukflPzTAMhesR+U/AcI5e9Ng5T9dkSgSflTlP12RKBJ+VOU/XZEoEn5U5T9dkSgSflTlP2rpx2CAiOU/MqEMQ05i5T+WY8AMd3zlP6ysGlAumeU/rKwaUC6Z5T8=",
          "dtype": "f8"
         }
        },
        {
         "fill": "toself",
         "fillcolor": "rgba(0, 0, 255, 0.2)",
         "line": {
          "color": "rgba(255, 255, 255, 0)"
         },
         "showlegend": false,
         "type": "scatter",
         "x": {
          "bdata": "AsKfmGYk4j9mk8QsBeHjP+MdezqTC+Q/DqwGxBdH4z/qh8PIBLzjP8/XfoWhquM/53tNT4VD4z9KZ+S8ZkHjPwRFwMVZrOM/pSBmpsP14z8/MLVvHb7jP50yaodUyeM/+U+Ws/Kx4z+VDdmrKAvkP7nqAF3n9eM/Um/ux26n4z8y56tuzlzjP6qEuNabYeM/Ktep+G054z/+XSD1qvniP2QwJOzy5eI/fkKhMt304j+ekGmgfGvjP4aCw9G6WOM/1Tsn+86X4z8ope+0nsbjPwo8sSlk9+M/oEA/5slA5D9GrZvBWPHjPz3xh4+U4OM/QvREZPAQ5D8B9uiY1yzkPxLa139VguQ/KwGiSphk5D+AWNL9OrvkP7JVZr9XjuQ/uQOi1KOY5D+gsnuq0KXkPy5lzEoQq+Q/kguSQuHT5D+ksKWX7SnlPx8oKntdEeU/Ro/XvQ9K5T/3UVFebh/lP5agsyiEHuU/MvrtMLP15D8KBxOYnQHlP6r1/ygOLOU/2AY4S0H35D9ybtJl4PPkP/Qq/PAGA+U/1kv7zTvx5D9fMDP3b/HkP18wM/dv8eQ/XzAz92/x5D8WfgQzMcTkP+dJ91dH0uQ/xryPOFi65D+K6XsB8p3kP/oSII9J1uQ/weJ182i75D9RsVVznq7kPzD2xRuAn+Q/2N6eamGe5D9qJnC3YLrkP3Mnqfb1yuQ/VuOVfD3m5D92cQwF7a3kP2xtq8opoeQ/5Sk7uO2R5D/lKTu47ZHkP9sl2n0qheQ/rib7WaS+5D9leyI4cmzkP25/g3I1eeQ/0gGGpSp65D8+4rLam4bkP1WDutx9aeQ/PuKy2puG5D+y+F/Dg3nkP39I3Snzh+Q/dUR87y975D/UWd3TkKTkP7FJXbRpl+Q/LgoIItuy5D+xSV20aZfkP1FMh1RsweQ/UUyHVGzB5D9SxejnIcLkP/KjUE5P6eQ/8qNQTk/p5D/yo1BOT+nkP/KjUE5P6eQ/hsxeKm4E5T96MsbHmfbkP4Z3v9CNBuU/hne/0I0G5T9upBmiXezkP5I7OC7P+OQ/kjs4Ls/45D+SOzguz/jkP9rUD930SeU/LZT5APVK5T8otbydMUvlP3TEqzPgLuU/dMSrM+Au5T90xKsz4C7lP3TEqzPgLuU/k4BzdF055T/tAz1LsyrlP2ok5LFnEOU/aiTksWcQ5T9bNF7vIEblP95jzIjBYeU/YaMhG1BG5T9ygVejygHlP6SssFkCFOU/pKywWQIU5T8eOiuOeDHlPxH1MYWEIeU/Im1bx3Mv5T/jhBIURD3lP0BPuDpGFeU/ygiIl5Ei5T9aFNwbqjnlP/sWBrysY+U/HlxaxP1e5T+Y6dT4c3zlP2ghYUaWl+U/aCFhRpaX5T9oIWFGlpflPz40Je+fieU/xKaquils5T9ytwKjpmvlP3K3AqOma+U/mSyyDjN45T+ZLLIOM3jlP5kssg4zeOU/whnuZSmG5T/CGe5lKYblP885w2Z7k+U/zznDZnuT5T+mTIcPhYXlPx/aAUT7ouU/H9oBRPui5T+6BrJyjaLlP8MKE61Qr+U/Li07nDuI5T96tjeQBablP17f5ym2suU/ODGc1v6U5T8uLTucO4jlPy4tO5w7iOU/Li07nDuI5T8uLTucO4jlPy4tO5w7iOU/S5FHV4th5T9LkUdXi2HlP66+eBrESOU/cp8PR1wv5T+uvngaxEjlP60xvMXDYuU/hl75F84g5T+GXvkXziDlP1rrCQRJO+U/trr4mvMu5T9a6wkESTvlP7a6+JrzLuU/WusJBEk75T/iLeiueBTlP7a6+JrzLuU/U43H17pH5T9TjcfXukflPzTAMhesR+U/AcI5e9Ng5T9dkSgSflTlP12RKBJ+VOU/XZEoEn5U5T9dkSgSflTlP2rpx2CAiOU/MqEMQ05i5T+WY8AMd3zlP6ysGlAumeU/rKwaUC6Z5T8AAAAAAOBmQAAAAAAAwGZAAAAAAACgZkAAAAAAAIBmQAAAAAAAYGZAAAAAAABAZkAAAAAAACBmQAAAAAAAAGZAAAAAAADgZUAAAAAAAMBlQAAAAAAAoGVAAAAAAACAZUAAAAAAAGBlQAAAAAAAQGVAAAAAAAAgZUAAAAAAAABlQAAAAAAA4GRAAAAAAADAZEAAAAAAAKBkQAAAAAAAgGRAAAAAAABgZEAAAAAAAEBkQAAAAAAAIGRAAAAAAAAAZEAAAAAAAOBjQAAAAAAAwGNAAAAAAACgY0AAAAAAAIBjQAAAAAAAYGNAAAAAAABAY0AAAAAAACBjQAAAAAAAAGNAAAAAAADgYkAAAAAAAMBiQAAAAAAAoGJAAAAAAACAYkAAAAAAAGBiQAAAAAAAQGJAAAAAAAAgYkAAAAAAAABiQAAAAAAA4GFAAAAAAADAYUAAAAAAAKBhQAAAAAAAgGFAAAAAAABgYUAAAAAAAEBhQAAAAAAAIGFAAAAAAAAAYUAAAAAAAOBgQAAAAAAAwGBAAAAAAACgYEAAAAAAAIBgQAAAAAAAYGBAAAAAAABAYEAAAAAAACBgQAAAAAAAAGBAAAAAAADAX0AAAAAAAIBfQAAAAAAAQF9AAAAAAAAAX0AAAAAAAMBeQAAAAAAAgF5AAAAAAABAXkAAAAAAAABeQAAAAAAAwF1AAAAAAACAXUAAAAAAAEBdQAAAAAAAAF1AAAAAAADAXEAAAAAAAIBcQAAAAAAAQFxAAAAAAAAAXEAAAAAAAMBbQAAAAAAAgFtAAAAAAABAW0AAAAAAAABbQAAAAAAAwFpAAAAAAACAWkAAAAAAAEBaQAAAAAAAAFpAAAAAAADAWUAAAAAAAIBZQAAAAAAAQFlAAAAAAAAAWUAAAAAAAMBYQAAAAAAAgFhAAAAAAABAWEAAAAAAAABYQAAAAAAAwFdAAAAAAACAV0AAAAAAAEBXQAAAAAAAAFdAAAAAAADAVkAAAAAAAIBWQAAAAAAAQFZAAAAAAAAAVkAAAAAAAMBVQAAAAAAAgFVAAAAAAABAVUAAAAAAAABVQAAAAAAAwFRAAAAAAACAVEAAAAAAAEBUQAAAAAAAAFRAAAAAAADAU0AAAAAAAIBTQAAAAAAAQFNAAAAAAAAAU0AAAAAAAMBSQAAAAAAAgFJAAAAAAABAUkAAAAAAAABSQAAAAAAAwFFAAAAAAACAUUAAAAAAAEBRQAAAAAAAAFFAAAAAAADAUEAAAAAAAIBQQAAAAAAAQFBAAAAAAAAAUEAAAAAAAIBPQAAAAAAAAE9AAAAAAACATkAAAAAAAABOQAAAAAAAgE1AAAAAAAAATUAAAAAAAIBMQAAAAAAAAExAAAAAAACAS0AAAAAAAABLQAAAAAAAgEpAAAAAAAAASkAAAAAAAIBJQAAAAAAAAElAAAAAAACASEAAAAAAAABIQAAAAAAAgEdAAAAAAAAAR0AAAAAAAIBGQAAAAAAAAEZAAAAAAACARUAAAAAAAABFQAAAAAAAgERAAAAAAAAAREAAAAAAAIBDQAAAAAAAAENAAAAAAACAQkAAAAAAAABCQAAAAAAAgEFAAAAAAAAAQUAAAAAAAIBAQAAAAAAAAEBAAAAAAAAAP0AAAAAAAAA+QAAAAAAAAD1AAAAAAAAAPEAAAAAAAAA7QAAAAAAAADpAAAAAAAAAOUAAAAAAAAA4QAAAAAAAADdAAAAAAAAANkAAAAAAAAA1QAAAAAAAADRAAAAAAAAAM0AAAAAAAAAyQAAAAAAAADFAAAAAAAAAMEAAAAAAAAAuQAAAAAAAACxAAAAAAAAAKkAAAAAAAAAoQAAAAAAAACZAAAAAAAAAJEAAAAAAAAAiQAAAAAAAACBAAAAAAAAAHEAAAAAAAAAYQAAAAAAAABRAAAAAAAAAEEAAAAAAAAAIQAAAAAAAAABAAAAAAAAA8D8AAAAAAAAAAA==",
          "dtype": "f8"
         },
         "y": {
          "bdata": "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",
          "dtype": "f8"
         }
        }
       ],
       "layout": {
        "template": {
         "data": {
          "bar": [
           {
            "error_x": {
             "color": "#2a3f5f"
            },
            "error_y": {
             "color": "#2a3f5f"
            },
            "marker": {
             "line": {
              "color": "white",
              "width": 0.5
             },
             "pattern": {
              "fillmode": "overlay",
              "size": 10,
              "solidity": 0.2
             }
            },
            "type": "bar"
           }
          ],
          "barpolar": [
           {
            "marker": {
             "line": {
              "color": "white",
              "width": 0.5
             },
             "pattern": {
              "fillmode": "overlay",
              "size": 10,
              "solidity": 0.2
             }
            },
            "type": "barpolar"
           }
          ],
          "carpet": [
           {
            "aaxis": {
             "endlinecolor": "#2a3f5f",
             "gridcolor": "#C8D4E3",
             "linecolor": "#C8D4E3",
             "minorgridcolor": "#C8D4E3",
             "startlinecolor": "#2a3f5f"
            },
            "baxis": {
             "endlinecolor": "#2a3f5f",
             "gridcolor": "#C8D4E3",
             "linecolor": "#C8D4E3",
             "minorgridcolor": "#C8D4E3",
             "startlinecolor": "#2a3f5f"
            },
            "type": "carpet"
           }
          ],
          "choropleth": [
           {
            "colorbar": {
             "outlinewidth": 0,
             "ticks": ""
            },
            "type": "choropleth"
           }
          ],
          "contour": [
           {
            "colorbar": {
             "outlinewidth": 0,
             "ticks": ""
            },
            "colorscale": [
             [
              0,
              "#0d0887"
             ],
             [
              0.1111111111111111,
              "#46039f"
             ],
             [
              0.2222222222222222,
              "#7201a8"
             ],
             [
              0.3333333333333333,
              "#9c179e"
             ],
             [
              0.4444444444444444,
              "#bd3786"
             ],
             [
              0.5555555555555556,
              "#d8576b"
             ],
             [
              0.6666666666666666,
              "#ed7953"
             ],
             [
              0.7777777777777778,
              "#fb9f3a"
             ],
             [
              0.8888888888888888,
              "#fdca26"
             ],
             [
              1,
              "#f0f921"
             ]
            ],
            "type": "contour"
           }
          ],
          "contourcarpet": [
           {
            "colorbar": {
             "outlinewidth": 0,
             "ticks": ""
            },
            "type": "contourcarpet"
           }
          ],
          "heatmap": [
           {
            "colorbar": {
             "outlinewidth": 0,
             "ticks": ""
            },
            "colorscale": [
             [
              0,
              "#0d0887"
             ],
             [
              0.1111111111111111,
              "#46039f"
             ],
             [
              0.2222222222222222,
              "#7201a8"
             ],
             [
              0.3333333333333333,
              "#9c179e"
             ],
             [
              0.4444444444444444,
              "#bd3786"
             ],
             [
              0.5555555555555556,
              "#d8576b"
             ],
             [
              0.6666666666666666,
              "#ed7953"
             ],
             [
              0.7777777777777778,
              "#fb9f3a"
             ],
             [
              0.8888888888888888,
              "#fdca26"
             ],
             [
              1,
              "#f0f921"
             ]
            ],
            "type": "heatmap"
           }
          ],
          "histogram": [
           {
            "marker": {
             "pattern": {
              "fillmode": "overlay",
              "size": 10,
              "solidity": 0.2
             }
            },
            "type": "histogram"
           }
          ],
          "histogram2d": [
           {
            "colorbar": {
             "outlinewidth": 0,
             "ticks": ""
            },
            "colorscale": [
             [
              0,
              "#0d0887"
             ],
             [
              0.1111111111111111,
              "#46039f"
             ],
             [
              0.2222222222222222,
              "#7201a8"
             ],
             [
              0.3333333333333333,
              "#9c179e"
             ],
             [
              0.4444444444444444,
              "#bd3786"
             ],
             [
              0.5555555555555556,
              "#d8576b"
             ],
             [
              0.6666666666666666,
              "#ed7953"
             ],
             [
              0.7777777777777778,
              "#fb9f3a"
             ],
             [
              0.8888888888888888,
              "#fdca26"
             ],
             [
              1,
              "#f0f921"
             ]
            ],
            "type": "histogram2d"
           }
          ],
          "histogram2dcontour": [
           {
            "colorbar": {
             "outlinewidth": 0,
             "ticks": ""
            },
            "colorscale": [
             [
              0,
              "#0d0887"
             ],
             [
              0.1111111111111111,
              "#46039f"
             ],
             [
              0.2222222222222222,
              "#7201a8"
             ],
             [
              0.3333333333333333,
              "#9c179e"
             ],
             [
              0.4444444444444444,
              "#bd3786"
             ],
             [
              0.5555555555555556,
              "#d8576b"
             ],
             [
              0.6666666666666666,
              "#ed7953"
             ],
             [
              0.7777777777777778,
              "#fb9f3a"
             ],
             [
              0.8888888888888888,
              "#fdca26"
             ],
             [
              1,
              "#f0f921"
             ]
            ],
            "type": "histogram2dcontour"
           }
          ],
          "mesh3d": [
           {
            "colorbar": {
             "outlinewidth": 0,
             "ticks": ""
            },
            "type": "mesh3d"
           }
          ],
          "parcoords": [
           {
            "line": {
             "colorbar": {
              "outlinewidth": 0,
              "ticks": ""
             }
            },
            "type": "parcoords"
           }
          ],
          "pie": [
           {
            "automargin": true,
            "type": "pie"
           }
          ],
          "scatter": [
           {
            "fillpattern": {
             "fillmode": "overlay",
             "size": 10,
             "solidity": 0.2
            },
            "type": "scatter"
           }
          ],
          "scatter3d": [
           {
            "line": {
             "colorbar": {
              "outlinewidth": 0,
              "ticks": ""
             }
            },
            "marker": {
             "colorbar": {
              "outlinewidth": 0,
              "ticks": ""
             }
            },
            "type": "scatter3d"
           }
          ],
          "scattercarpet": [
           {
            "marker": {
             "colorbar": {
              "outlinewidth": 0,
              "ticks": ""
             }
            },
            "type": "scattercarpet"
           }
          ],
          "scattergeo": [
           {
            "marker": {
             "colorbar": {
              "outlinewidth": 0,
              "ticks": ""
             }
            },
            "type": "scattergeo"
           }
          ],
          "scattergl": [
           {
            "marker": {
             "colorbar": {
              "outlinewidth": 0,
              "ticks": ""
             }
            },
            "type": "scattergl"
           }
          ],
          "scattermap": [
           {
            "marker": {
             "colorbar": {
              "outlinewidth": 0,
              "ticks": ""
             }
            },
            "type": "scattermap"
           }
          ],
          "scattermapbox": [
           {
            "marker": {
             "colorbar": {
              "outlinewidth": 0,
              "ticks": ""
             }
            },
            "type": "scattermapbox"
           }
          ],
          "scatterpolar": [
           {
            "marker": {
             "colorbar": {
              "outlinewidth": 0,
              "ticks": ""
             }
            },
            "type": "scatterpolar"
           }
          ],
          "scatterpolargl": [
           {
            "marker": {
             "colorbar": {
              "outlinewidth": 0,
              "ticks": ""
             }
            },
            "type": "scatterpolargl"
           }
          ],
          "scatterternary": [
           {
            "marker": {
             "colorbar": {
              "outlinewidth": 0,
              "ticks": ""
             }
            },
            "type": "scatterternary"
           }
          ],
          "surface": [
           {
            "colorbar": {
             "outlinewidth": 0,
             "ticks": ""
            },
            "colorscale": [
             [
              0,
              "#0d0887"
             ],
             [
              0.1111111111111111,
              "#46039f"
             ],
             [
              0.2222222222222222,
              "#7201a8"
             ],
             [
              0.3333333333333333,
              "#9c179e"
             ],
             [
              0.4444444444444444,
              "#bd3786"
             ],
             [
              0.5555555555555556,
              "#d8576b"
             ],
             [
              0.6666666666666666,
              "#ed7953"
             ],
             [
              0.7777777777777778,
              "#fb9f3a"
             ],
             [
              0.8888888888888888,
              "#fdca26"
             ],
             [
              1,
              "#f0f921"
             ]
            ],
            "type": "surface"
           }
          ],
          "table": [
           {
            "cells": {
             "fill": {
              "color": "#EBF0F8"
             },
             "line": {
              "color": "white"
             }
            },
            "header": {
             "fill": {
              "color": "#C8D4E3"
             },
             "line": {
              "color": "white"
             }
            },
            "type": "table"
           }
          ]
         },
         "layout": {
          "annotationdefaults": {
           "arrowcolor": "#2a3f5f",
           "arrowhead": 0,
           "arrowwidth": 1
          },
          "autotypenumbers": "strict",
          "coloraxis": {
           "colorbar": {
            "outlinewidth": 0,
            "ticks": ""
           }
          },
          "colorscale": {
           "diverging": [
            [
             0,
             "#8e0152"
            ],
            [
             0.1,
             "#c51b7d"
            ],
            [
             0.2,
             "#de77ae"
            ],
            [
             0.3,
             "#f1b6da"
            ],
            [
             0.4,
             "#fde0ef"
            ],
            [
             0.5,
             "#f7f7f7"
            ],
            [
             0.6,
             "#e6f5d0"
            ],
            [
             0.7,
             "#b8e186"
            ],
            [
             0.8,
             "#7fbc41"
            ],
            [
             0.9,
             "#4d9221"
            ],
            [
             1,
             "#276419"
            ]
           ],
           "sequential": [
            [
             0,
             "#0d0887"
            ],
            [
             0.1111111111111111,
             "#46039f"
            ],
            [
             0.2222222222222222,
             "#7201a8"
            ],
            [
             0.3333333333333333,
             "#9c179e"
            ],
            [
             0.4444444444444444,
             "#bd3786"
            ],
            [
             0.5555555555555556,
             "#d8576b"
            ],
            [
             0.6666666666666666,
             "#ed7953"
            ],
            [
             0.7777777777777778,
             "#fb9f3a"
            ],
            [
             0.8888888888888888,
             "#fdca26"
            ],
            [
             1,
             "#f0f921"
            ]
           ],
           "sequentialminus": [
            [
             0,
             "#0d0887"
            ],
            [
             0.1111111111111111,
             "#46039f"
            ],
            [
             0.2222222222222222,
             "#7201a8"
            ],
            [
             0.3333333333333333,
             "#9c179e"
            ],
            [
             0.4444444444444444,
             "#bd3786"
            ],
            [
             0.5555555555555556,
             "#d8576b"
            ],
            [
             0.6666666666666666,
             "#ed7953"
            ],
            [
             0.7777777777777778,
             "#fb9f3a"
            ],
            [
             0.8888888888888888,
             "#fdca26"
            ],
            [
             1,
             "#f0f921"
            ]
           ]
          },
          "colorway": [
           "#636efa",
           "#EF553B",
           "#00cc96",
           "#ab63fa",
           "#FFA15A",
           "#19d3f3",
           "#FF6692",
           "#B6E880",
           "#FF97FF",
           "#FECB52"
          ],
          "font": {
           "color": "#2a3f5f"
          },
          "geo": {
           "bgcolor": "white",
           "lakecolor": "white",
           "landcolor": "white",
           "showlakes": true,
           "showland": true,
           "subunitcolor": "#C8D4E3"
          },
          "hoverlabel": {
           "align": "left"
          },
          "hovermode": "closest",
          "mapbox": {
           "style": "light"
          },
          "paper_bgcolor": "white",
          "plot_bgcolor": "white",
          "polar": {
           "angularaxis": {
            "gridcolor": "#EBF0F8",
            "linecolor": "#EBF0F8",
            "ticks": ""
           },
           "bgcolor": "white",
           "radialaxis": {
            "gridcolor": "#EBF0F8",
            "linecolor": "#EBF0F8",
            "ticks": ""
           }
          },
          "scene": {
           "xaxis": {
            "backgroundcolor": "white",
            "gridcolor": "#DFE8F3",
            "gridwidth": 2,
            "linecolor": "#EBF0F8",
            "showbackground": true,
            "ticks": "",
            "zerolinecolor": "#EBF0F8"
           },
           "yaxis": {
            "backgroundcolor": "white",
            "gridcolor": "#DFE8F3",
            "gridwidth": 2,
            "linecolor": "#EBF0F8",
            "showbackground": true,
            "ticks": "",
            "zerolinecolor": "#EBF0F8"
           },
           "zaxis": {
            "backgroundcolor": "white",
            "gridcolor": "#DFE8F3",
            "gridwidth": 2,
            "linecolor": "#EBF0F8",
            "showbackground": true,
            "ticks": "",
            "zerolinecolor": "#EBF0F8"
           }
          },
          "shapedefaults": {
           "line": {
            "color": "#2a3f5f"
           }
          },
          "ternary": {
           "aaxis": {
            "gridcolor": "#DFE8F3",
            "linecolor": "#A2B1C6",
            "ticks": ""
           },
           "baxis": {
            "gridcolor": "#DFE8F3",
            "linecolor": "#A2B1C6",
            "ticks": ""
           },
           "bgcolor": "white",
           "caxis": {
            "gridcolor": "#DFE8F3",
            "linecolor": "#A2B1C6",
            "ticks": ""
           }
          },
          "title": {
           "x": 0.05
          },
          "xaxis": {
           "automargin": true,
           "gridcolor": "#EBF0F8",
           "linecolor": "#EBF0F8",
           "ticks": "",
           "title": {
            "standoff": 15
           },
           "zerolinecolor": "#EBF0F8",
           "zerolinewidth": 2
          },
          "yaxis": {
           "automargin": true,
           "gridcolor": "#EBF0F8",
           "linecolor": "#EBF0F8",
           "ticks": "",
           "title": {
            "standoff": 15
           },
           "zerolinecolor": "#EBF0F8",
           "zerolinewidth": 2
          }
         }
        },
        "title": {
         "text": "Cross-Validation (N=5) Mean F1 score with Error Bands"
        },
        "xaxis": {
         "title": {
          "text": "Training Steps"
         }
        },
        "yaxis": {
         "range": [
          0.5,
          1
         ],
         "title": {
          "text": "Performance Score"
         }
        }
       }
      }
     },
     "metadata": {},
     "output_type": "display_data"
    },
    {
     "data": {
      "application/vnd.plotly.v1+json": {
       "config": {
        "plotlyServerURL": "https://plot.ly"
       },
       "data": [
        {
         "line": {
          "color": "blue"
         },
         "mode": "lines",
         "name": "Mean F1 Score",
         "type": "scatter",
         "x": {
          "bdata": "AAABAAIAAwAEAAUABgAHAAgACQAKAAsADAANAA4ADwAQABEAEgATABQAFQAWABcAGAAZABoAGwAcAB0AHgAfACAAIQAiACMAJAAlACYAJwAoACkAKgArACwALQAuAC8AMAAxADIAMwA0ADUANgA3ADgAOQA6ADsAPAA9AD4APwBAAEEAQgBDAEQARQBGAEcASABJAEoASwBMAE0ATgBPAFAAUQBSAFMAVABVAFYAVwBYAFkAWgBbAFwAXQBeAF8AYABhAGIAYwBkAGUAZgBnAGgAaQBqAGsAbABtAG4AbwBwAHEAcgBzAHQAdQB2AHcAeAB5AHoAewB8AH0AfgB/AIAAgQCCAIMAhACFAIYAhwCIAIkAigCLAIwAjQCOAI8AkACRAJIAkwCUAJUAlgCXAJgAmQCaAJsAnACdAJ4AnwCgAKEAogCjAKQApQCmAKcAqACpAKoAqwCsAK0ArgCvALAAsQCyALMAtAC1ALYAtwA=",
          "dtype": "i2"
         },
         "y": {
          "bdata": "AsKfmGYk4j9mk8QsBeHjP+MdezqTC+Q/DqwGxBdH4z/qh8PIBLzjP8/XfoWhquM/53tNT4VD4z9KZ+S8ZkHjPwRFwMVZrOM/pSBmpsP14z8/MLVvHb7jP50yaodUyeM/+U+Ws/Kx4z+VDdmrKAvkP7nqAF3n9eM/Um/ux26n4z8y56tuzlzjP6qEuNabYeM/Ktep+G054z/+XSD1qvniP2QwJOzy5eI/fkKhMt304j+ekGmgfGvjP4aCw9G6WOM/1Tsn+86X4z8ope+0nsbjPwo8sSlk9+M/oEA/5slA5D9GrZvBWPHjPz3xh4+U4OM/QvREZPAQ5D8B9uiY1yzkPxLa139VguQ/KwGiSphk5D+AWNL9OrvkP7JVZr9XjuQ/uQOi1KOY5D+gsnuq0KXkPy5lzEoQq+Q/kguSQuHT5D+ksKWX7SnlPx8oKntdEeU/Ro/XvQ9K5T/3UVFebh/lP5agsyiEHuU/MvrtMLP15D8KBxOYnQHlP6r1/ygOLOU/2AY4S0H35D9ybtJl4PPkP/Qq/PAGA+U/1kv7zTvx5D9fMDP3b/HkP18wM/dv8eQ/XzAz92/x5D8WfgQzMcTkP+dJ91dH0uQ/xryPOFi65D+K6XsB8p3kP/oSII9J1uQ/weJ182i75D9RsVVznq7kPzD2xRuAn+Q/2N6eamGe5D9qJnC3YLrkP3Mnqfb1yuQ/VuOVfD3m5D92cQwF7a3kP2xtq8opoeQ/5Sk7uO2R5D/lKTu47ZHkP9sl2n0qheQ/rib7WaS+5D9leyI4cmzkP25/g3I1eeQ/0gGGpSp65D8+4rLam4bkP1WDutx9aeQ/PuKy2puG5D+y+F/Dg3nkP39I3Snzh+Q/dUR87y975D/UWd3TkKTkP7FJXbRpl+Q/LgoIItuy5D+xSV20aZfkP1FMh1RsweQ/UUyHVGzB5D9SxejnIcLkP/KjUE5P6eQ/8qNQTk/p5D/yo1BOT+nkP/KjUE5P6eQ/hsxeKm4E5T96MsbHmfbkP4Z3v9CNBuU/hne/0I0G5T9upBmiXezkP5I7OC7P+OQ/kjs4Ls/45D+SOzguz/jkP9rUD930SeU/LZT5APVK5T8otbydMUvlP3TEqzPgLuU/dMSrM+Au5T90xKsz4C7lP3TEqzPgLuU/k4BzdF055T/tAz1LsyrlP2ok5LFnEOU/aiTksWcQ5T9bNF7vIEblP95jzIjBYeU/YaMhG1BG5T9ygVejygHlP6SssFkCFOU/pKywWQIU5T8eOiuOeDHlPxH1MYWEIeU/Im1bx3Mv5T/jhBIURD3lP0BPuDpGFeU/ygiIl5Ei5T9aFNwbqjnlP/sWBrysY+U/HlxaxP1e5T+Y6dT4c3zlP2ghYUaWl+U/aCFhRpaX5T9oIWFGlpflPz40Je+fieU/xKaquils5T9ytwKjpmvlP3K3AqOma+U/mSyyDjN45T+ZLLIOM3jlP5kssg4zeOU/whnuZSmG5T/CGe5lKYblP885w2Z7k+U/zznDZnuT5T+mTIcPhYXlPx/aAUT7ouU/H9oBRPui5T+6BrJyjaLlP8MKE61Qr+U/Li07nDuI5T96tjeQBablP17f5ym2suU/ODGc1v6U5T8uLTucO4jlPy4tO5w7iOU/Li07nDuI5T8uLTucO4jlPy4tO5w7iOU/S5FHV4th5T9LkUdXi2HlP66+eBrESOU/cp8PR1wv5T+uvngaxEjlP60xvMXDYuU/hl75F84g5T+GXvkXziDlP1rrCQRJO+U/trr4mvMu5T9a6wkESTvlP7a6+JrzLuU/WusJBEk75T/iLeiueBTlP7a6+JrzLuU/U43H17pH5T9TjcfXukflPzTAMhesR+U/AcI5e9Ng5T9dkSgSflTlP12RKBJ+VOU/XZEoEn5U5T9dkSgSflTlP2rpx2CAiOU/MqEMQ05i5T+WY8AMd3zlP6ysGlAumeU/rKwaUC6Z5T8=",
          "dtype": "f8"
         }
        },
        {
         "fill": "toself",
         "fillcolor": "rgba(0, 0, 255, 0.2)",
         "line": {
          "color": "rgba(255, 255, 255, 0)"
         },
         "showlegend": false,
         "type": "scatter",
         "x": {
          "bdata": "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",
          "dtype": "f8"
         },
         "y": {
          "bdata": "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",
          "dtype": "f8"
         }
        }
       ],
       "layout": {
        "template": {
         "data": {
          "bar": [
           {
            "error_x": {
             "color": "#2a3f5f"
            },
            "error_y": {
             "color": "#2a3f5f"
            },
            "marker": {
             "line": {
              "color": "white",
              "width": 0.5
             },
             "pattern": {
              "fillmode": "overlay",
              "size": 10,
              "solidity": 0.2
             }
            },
            "type": "bar"
           }
          ],
          "barpolar": [
           {
            "marker": {
             "line": {
              "color": "white",
              "width": 0.5
             },
             "pattern": {
              "fillmode": "overlay",
              "size": 10,
              "solidity": 0.2
             }
            },
            "type": "barpolar"
           }
          ],
          "carpet": [
           {
            "aaxis": {
             "endlinecolor": "#2a3f5f",
             "gridcolor": "#C8D4E3",
             "linecolor": "#C8D4E3",
             "minorgridcolor": "#C8D4E3",
             "startlinecolor": "#2a3f5f"
            },
            "baxis": {
             "endlinecolor": "#2a3f5f",
             "gridcolor": "#C8D4E3",
             "linecolor": "#C8D4E3",
             "minorgridcolor": "#C8D4E3",
             "startlinecolor": "#2a3f5f"
            },
            "type": "carpet"
           }
          ],
          "choropleth": [
           {
            "colorbar": {
             "outlinewidth": 0,
             "ticks": ""
            },
            "type": "choropleth"
           }
          ],
          "contour": [
           {
            "colorbar": {
             "outlinewidth": 0,
             "ticks": ""
            },
            "colorscale": [
             [
              0,
              "#0d0887"
             ],
             [
              0.1111111111111111,
              "#46039f"
             ],
             [
              0.2222222222222222,
              "#7201a8"
             ],
             [
              0.3333333333333333,
              "#9c179e"
             ],
             [
              0.4444444444444444,
              "#bd3786"
             ],
             [
              0.5555555555555556,
              "#d8576b"
             ],
             [
              0.6666666666666666,
              "#ed7953"
             ],
             [
              0.7777777777777778,
              "#fb9f3a"
             ],
             [
              0.8888888888888888,
              "#fdca26"
             ],
             [
              1,
              "#f0f921"
             ]
            ],
            "type": "contour"
           }
          ],
          "contourcarpet": [
           {
            "colorbar": {
             "outlinewidth": 0,
             "ticks": ""
            },
            "type": "contourcarpet"
           }
          ],
          "heatmap": [
           {
            "colorbar": {
             "outlinewidth": 0,
             "ticks": ""
            },
            "colorscale": [
             [
              0,
              "#0d0887"
             ],
             [
              0.1111111111111111,
              "#46039f"
             ],
             [
              0.2222222222222222,
              "#7201a8"
             ],
             [
              0.3333333333333333,
              "#9c179e"
             ],
             [
              0.4444444444444444,
              "#bd3786"
             ],
             [
              0.5555555555555556,
              "#d8576b"
             ],
             [
              0.6666666666666666,
              "#ed7953"
             ],
             [
              0.7777777777777778,
              "#fb9f3a"
             ],
             [
              0.8888888888888888,
              "#fdca26"
             ],
             [
              1,
              "#f0f921"
             ]
            ],
            "type": "heatmap"
           }
          ],
          "histogram": [
           {
            "marker": {
             "pattern": {
              "fillmode": "overlay",
              "size": 10,
              "solidity": 0.2
             }
            },
            "type": "histogram"
           }
          ],
          "histogram2d": [
           {
            "colorbar": {
             "outlinewidth": 0,
             "ticks": ""
            },
            "colorscale": [
             [
              0,
              "#0d0887"
             ],
             [
              0.1111111111111111,
              "#46039f"
             ],
             [
              0.2222222222222222,
              "#7201a8"
             ],
             [
              0.3333333333333333,
              "#9c179e"
             ],
             [
              0.4444444444444444,
              "#bd3786"
             ],
             [
              0.5555555555555556,
              "#d8576b"
             ],
             [
              0.6666666666666666,
              "#ed7953"
             ],
             [
              0.7777777777777778,
              "#fb9f3a"
             ],
             [
              0.8888888888888888,
              "#fdca26"
             ],
             [
              1,
              "#f0f921"
             ]
            ],
            "type": "histogram2d"
           }
          ],
          "histogram2dcontour": [
           {
            "colorbar": {
             "outlinewidth": 0,
             "ticks": ""
            },
            "colorscale": [
             [
              0,
              "#0d0887"
             ],
             [
              0.1111111111111111,
              "#46039f"
             ],
             [
              0.2222222222222222,
              "#7201a8"
             ],
             [
              0.3333333333333333,
              "#9c179e"
             ],
             [
              0.4444444444444444,
              "#bd3786"
             ],
             [
              0.5555555555555556,
              "#d8576b"
             ],
             [
              0.6666666666666666,
              "#ed7953"
             ],
             [
              0.7777777777777778,
              "#fb9f3a"
             ],
             [
              0.8888888888888888,
              "#fdca26"
             ],
             [
              1,
              "#f0f921"
             ]
            ],
            "type": "histogram2dcontour"
           }
          ],
          "mesh3d": [
           {
            "colorbar": {
             "outlinewidth": 0,
             "ticks": ""
            },
            "type": "mesh3d"
           }
          ],
          "parcoords": [
           {
            "line": {
             "colorbar": {
              "outlinewidth": 0,
              "ticks": ""
             }
            },
            "type": "parcoords"
           }
          ],
          "pie": [
           {
            "automargin": true,
            "type": "pie"
           }
          ],
          "scatter": [
           {
            "fillpattern": {
             "fillmode": "overlay",
             "size": 10,
             "solidity": 0.2
            },
            "type": "scatter"
           }
          ],
          "scatter3d": [
           {
            "line": {
             "colorbar": {
              "outlinewidth": 0,
              "ticks": ""
             }
            },
            "marker": {
             "colorbar": {
              "outlinewidth": 0,
              "ticks": ""
             }
            },
            "type": "scatter3d"
           }
          ],
          "scattercarpet": [
           {
            "marker": {
             "colorbar": {
              "outlinewidth": 0,
              "ticks": ""
             }
            },
            "type": "scattercarpet"
           }
          ],
          "scattergeo": [
           {
            "marker": {
             "colorbar": {
              "outlinewidth": 0,
              "ticks": ""
             }
            },
            "type": "scattergeo"
           }
          ],
          "scattergl": [
           {
            "marker": {
             "colorbar": {
              "outlinewidth": 0,
              "ticks": ""
             }
            },
            "type": "scattergl"
           }
          ],
          "scattermap": [
           {
            "marker": {
             "colorbar": {
              "outlinewidth": 0,
              "ticks": ""
             }
            },
            "type": "scattermap"
           }
          ],
          "scattermapbox": [
           {
            "marker": {
             "colorbar": {
              "outlinewidth": 0,
              "ticks": ""
             }
            },
            "type": "scattermapbox"
           }
          ],
          "scatterpolar": [
           {
            "marker": {
             "colorbar": {
              "outlinewidth": 0,
              "ticks": ""
             }
            },
            "type": "scatterpolar"
           }
          ],
          "scatterpolargl": [
           {
            "marker": {
             "colorbar": {
              "outlinewidth": 0,
              "ticks": ""
             }
            },
            "type": "scatterpolargl"
           }
          ],
          "scatterternary": [
           {
            "marker": {
             "colorbar": {
              "outlinewidth": 0,
              "ticks": ""
             }
            },
            "type": "scatterternary"
           }
          ],
          "surface": [
           {
            "colorbar": {
             "outlinewidth": 0,
             "ticks": ""
            },
            "colorscale": [
             [
              0,
              "#0d0887"
             ],
             [
              0.1111111111111111,
              "#46039f"
             ],
             [
              0.2222222222222222,
              "#7201a8"
             ],
             [
              0.3333333333333333,
              "#9c179e"
             ],
             [
              0.4444444444444444,
              "#bd3786"
             ],
             [
              0.5555555555555556,
              "#d8576b"
             ],
             [
              0.6666666666666666,
              "#ed7953"
             ],
             [
              0.7777777777777778,
              "#fb9f3a"
             ],
             [
              0.8888888888888888,
              "#fdca26"
             ],
             [
              1,
              "#f0f921"
             ]
            ],
            "type": "surface"
           }
          ],
          "table": [
           {
            "cells": {
             "fill": {
              "color": "#EBF0F8"
             },
             "line": {
              "color": "white"
             }
            },
            "header": {
             "fill": {
              "color": "#C8D4E3"
             },
             "line": {
              "color": "white"
             }
            },
            "type": "table"
           }
          ]
         },
         "layout": {
          "annotationdefaults": {
           "arrowcolor": "#2a3f5f",
           "arrowhead": 0,
           "arrowwidth": 1
          },
          "autotypenumbers": "strict",
          "coloraxis": {
           "colorbar": {
            "outlinewidth": 0,
            "ticks": ""
           }
          },
          "colorscale": {
           "diverging": [
            [
             0,
             "#8e0152"
            ],
            [
             0.1,
             "#c51b7d"
            ],
            [
             0.2,
             "#de77ae"
            ],
            [
             0.3,
             "#f1b6da"
            ],
            [
             0.4,
             "#fde0ef"
            ],
            [
             0.5,
             "#f7f7f7"
            ],
            [
             0.6,
             "#e6f5d0"
            ],
            [
             0.7,
             "#b8e186"
            ],
            [
             0.8,
             "#7fbc41"
            ],
            [
             0.9,
             "#4d9221"
            ],
            [
             1,
             "#276419"
            ]
           ],
           "sequential": [
            [
             0,
             "#0d0887"
            ],
            [
             0.1111111111111111,
             "#46039f"
            ],
            [
             0.2222222222222222,
             "#7201a8"
            ],
            [
             0.3333333333333333,
             "#9c179e"
            ],
            [
             0.4444444444444444,
             "#bd3786"
            ],
            [
             0.5555555555555556,
             "#d8576b"
            ],
            [
             0.6666666666666666,
             "#ed7953"
            ],
            [
             0.7777777777777778,
             "#fb9f3a"
            ],
            [
             0.8888888888888888,
             "#fdca26"
            ],
            [
             1,
             "#f0f921"
            ]
           ],
           "sequentialminus": [
            [
             0,
             "#0d0887"
            ],
            [
             0.1111111111111111,
             "#46039f"
            ],
            [
             0.2222222222222222,
             "#7201a8"
            ],
            [
             0.3333333333333333,
             "#9c179e"
            ],
            [
             0.4444444444444444,
             "#bd3786"
            ],
            [
             0.5555555555555556,
             "#d8576b"
            ],
            [
             0.6666666666666666,
             "#ed7953"
            ],
            [
             0.7777777777777778,
             "#fb9f3a"
            ],
            [
             0.8888888888888888,
             "#fdca26"
            ],
            [
             1,
             "#f0f921"
            ]
           ]
          },
          "colorway": [
           "#636efa",
           "#EF553B",
           "#00cc96",
           "#ab63fa",
           "#FFA15A",
           "#19d3f3",
           "#FF6692",
           "#B6E880",
           "#FF97FF",
           "#FECB52"
          ],
          "font": {
           "color": "#2a3f5f"
          },
          "geo": {
           "bgcolor": "white",
           "lakecolor": "white",
           "landcolor": "white",
           "showlakes": true,
           "showland": true,
           "subunitcolor": "#C8D4E3"
          },
          "hoverlabel": {
           "align": "left"
          },
          "hovermode": "closest",
          "mapbox": {
           "style": "light"
          },
          "paper_bgcolor": "white",
          "plot_bgcolor": "white",
          "polar": {
           "angularaxis": {
            "gridcolor": "#EBF0F8",
            "linecolor": "#EBF0F8",
            "ticks": ""
           },
           "bgcolor": "white",
           "radialaxis": {
            "gridcolor": "#EBF0F8",
            "linecolor": "#EBF0F8",
            "ticks": ""
           }
          },
          "scene": {
           "xaxis": {
            "backgroundcolor": "white",
            "gridcolor": "#DFE8F3",
            "gridwidth": 2,
            "linecolor": "#EBF0F8",
            "showbackground": true,
            "ticks": "",
            "zerolinecolor": "#EBF0F8"
           },
           "yaxis": {
            "backgroundcolor": "white",
            "gridcolor": "#DFE8F3",
            "gridwidth": 2,
            "linecolor": "#EBF0F8",
            "showbackground": true,
            "ticks": "",
            "zerolinecolor": "#EBF0F8"
           },
           "zaxis": {
            "backgroundcolor": "white",
            "gridcolor": "#DFE8F3",
            "gridwidth": 2,
            "linecolor": "#EBF0F8",
            "showbackground": true,
            "ticks": "",
            "zerolinecolor": "#EBF0F8"
           }
          },
          "shapedefaults": {
           "line": {
            "color": "#2a3f5f"
           }
          },
          "ternary": {
           "aaxis": {
            "gridcolor": "#DFE8F3",
            "linecolor": "#A2B1C6",
            "ticks": ""
           },
           "baxis": {
            "gridcolor": "#DFE8F3",
            "linecolor": "#A2B1C6",
            "ticks": ""
           },
           "bgcolor": "white",
           "caxis": {
            "gridcolor": "#DFE8F3",
            "linecolor": "#A2B1C6",
            "ticks": ""
           }
          },
          "title": {
           "x": 0.05
          },
          "xaxis": {
           "automargin": true,
           "gridcolor": "#EBF0F8",
           "linecolor": "#EBF0F8",
           "ticks": "",
           "title": {
            "standoff": 15
           },
           "zerolinecolor": "#EBF0F8",
           "zerolinewidth": 2
          },
          "yaxis": {
           "automargin": true,
           "gridcolor": "#EBF0F8",
           "linecolor": "#EBF0F8",
           "ticks": "",
           "title": {
            "standoff": 15
           },
           "zerolinecolor": "#EBF0F8",
           "zerolinewidth": 2
          }
         }
        },
        "title": {
         "text": "Cross-Validation (N=5) Mean F1 score with Error Bands"
        },
        "xaxis": {
         "title": {
          "text": "Training Steps"
         }
        },
        "yaxis": {
         "range": [
          0.5,
          1
         ],
         "title": {
          "text": "Performance Score"
         }
        }
       }
      }
     },
     "metadata": {},
     "output_type": "display_data"
    }
   ],
   "source": [
    "from ARISA_DSML.train import plot_error_scatter\n",
    "cv_results = pd.read_csv(cv_output_path)\n",
    "plot_error_scatter(\n",
    "    df_plot=cv_results,\n",
    "    name=\"Mean F1 Score\",\n",
    "    title=\"Cross-Validation (N=5) Mean F1 score with Error Bands\",\n",
    "    xtitle=\"Training Steps\",\n",
    "    ytitle=\"Performance Score\",\n",
    "    yaxis_range=[0.5, 1],\n",
    ")"
   ]
  },
  {
   "cell_type": "code",
   "execution_count": 13,
   "id": "5521d83a",
   "metadata": {},
   "outputs": [
    {
     "data": {
      "application/vnd.plotly.v1+json": {
       "config": {
        "plotlyServerURL": "https://plot.ly"
       },
       "data": [
        {
         "line": {
          "color": "blue"
         },
         "mode": "lines",
         "name": "Mean logloss",
         "type": "scatter",
         "x": {
          "bdata": "AAABAAIAAwAEAAUABgAHAAgACQAKAAsADAANAA4ADwAQABEAEgATABQAFQAWABcAGAAZABoAGwAcAB0AHgAfACAAIQAiACMAJAAlACYAJwAoACkAKgArACwALQAuAC8AMAAxADIAMwA0ADUANgA3ADgAOQA6ADsAPAA9AD4APwBAAEEAQgBDAEQARQBGAEcASABJAEoASwBMAE0ATgBPAFAAUQBSAFMAVABVAFYAVwBYAFkAWgBbAFwAXQBeAF8AYABhAGIAYwBkAGUAZgBnAGgAaQBqAGsAbABtAG4AbwBwAHEAcgBzAHQAdQB2AHcAeAB5AHoAewB8AH0AfgB/AIAAgQCCAIMAhACFAIYAhwCIAIkAigCLAIwAjQCOAI8AkACRAJIAkwCUAJUAlgCXAJgAmQCaAJsAnACdAJ4AnwCgAKEAogCjAKQApQCmAKcAqACpAKoAqwCsAK0ArgCvALAAsQCyALMAtAC1ALYAtwA=",
          "dtype": "i2"
         },
         "y": {
          "bdata": "976L90Ys5T86yDBBwCvkP5K8V1wWluM/ipaZH9UP4z+C+kDUkYfiP3jgT1U5H+I/CLC3I8LJ4T+GnMVh04LhPz2kFU2uNeE/nuYUWuf44D/WgN7/5srgPxggqfpRnOA/+0NRS3V24D/CMshVYU/gPwA8laP7KOA/OcXy6vsL4D9dad16M9rfP5KD2Fvkqt8/MclwtxSK3z+HLWJAQ23fPzaBFy/kQt8/2UtSIEEV3z/gAblASuzeP4f3BY6cy94/SeRqRxSv3j9LNNzGVn/eP3YuYJTZY94/SdUh9qxD3j8iOu+NTzzePwXecO/YH94/bvkAxloO3j/d3CRnh+rdP+qqbJ/C7N0/TZBgVvXY3T9Pc/n8W9vdPw5wmQCZ2t0/ffujwUnS3T/YA9DcOt/dPyfP7ghg8N0/YEPl6yHZ3T/hSGJbxcXdP9YnT1w0v90/zTpKWHiz3T9CtIV8baTdPwCiu7sUr90/NQWiHCWr3T9HayHuVaXdP5WXeg2Oo90/EBSgjjaZ3T+u1rgYmozdPw8Bhh1Mdt0/ir7BP/Fs3T+khKj+q2fdP8LQFK5QVd0/oPqF1AVb3T8Tket4gl/dP2Hkk/dNU90/BqP2Vo1H3T/Yk1z/pE7dP5NKyENgO90/gQB5EZov3T+CCUybDindP/VhcJx6Jd0/wtZ67+gT3T+D/cKaCRvdP2+PGB6iJ90/D4zPS2Eg3T/Kz0YXkizdPwUAIMubKd0/8nsS8qst3T+qItxBhSfdP2U7BtfIKt0/sxT6KLUx3T98072xwjLdP42x7RIXLN0/nI/WWNoo3T8evhTApSfdP2K3F/LJMN0/9UZzeMIz3T9iRd2+1U3dP9VUWBxUOd0/0fEmIpdC3T/leeNqNELdPwqiBSITU90/XPce3AZS3T/jzVAMdUvdP0M7Oa8/QN0/uYsUflxA3T+mCqvxmj3dP6rYui+UNd0/BVWU8zcx3T+BY0BTCEDdP8jM9EGzRN0/1Tbv91NC3T9oL6Wg+kXdPwKBWywRSN0/FdVI/WVZ3T+yZlpPHUndP8o6/fQOUd0/8trhgnRN3T86MbxeglndP8Ce4DbWbd0//bTEzEZo3T/aULmu5G7dP3Lw0Z5zbN0/H+QseyFm3T9dmIIMUmPdP1UNSSiGZN0/rbdYWrVW3T9X6YbgalzdP/JmJXfgYN0/Mw+A3FBW3T/B9/Rx2GfdPzi4SG1uXd0/mtxGFsxX3T8T04/0dWrdP8JOc7B4Zd0/BvrNJmlb3T/MC5RWKXPdP9N4UUWcYd0/Mq3RzNxw3T/AqSHJS2TdP3j676JHZt0/gtviZnBl3T/empXaTF7dP5TKOIhWY90/uli1fuNl3T/ejSAyhmjdPw5jE1BjW90/K8tGnTpY3T9xeycEgWndP1q0/TLpdd0/Ran6WOOE3T8ZAieA6HvdP6zUt2xyfN0/QjGysv+D3T+Mc8HrzIrdP7Wa/Amkkd0/nQBSMNeB3T/27t5xH5DdP1Ziqls9kt0/eJyM+JGW3T+z8ipkYZ3dPwF/APp5kt0/9pY1qdid3T85tCdAEJXdP+BrHzvgld0/moCWhuCW3T8oR2hY6abdP95Jyk4frN0/YAx2ZPmp3T8INFgmTrDdP38dUJ4gtN0/g9dk4DS93T9BG/AuZLvdP9iz2NfJu90/u/vZmYO93T+dsfN998bdP+HuuXQ5yt0/RR+A/JrL3T8iWjFBmtTdP39wBRlz0N0/uNcx+Xvi3T8lbzTpZNndP4MylXYq490/dfwnNajs3T8yc5Ac2vXdP5hpTb2m/N0/a2kJSaf33T8C7X49mvrdP9p5TdSN8t0/tNmxfej63T+skoecvPPdP21f1wNX7d0/n3D39kn03T807G9YXQXeP+YXBTDPDN4/Lxvfj6AW3j+d2XVngAbeP3VYdXH4C94/ypBewO4L3j/GCVqocw7eP7KG7/dBFN4/mseKKgMc3j8=",
          "dtype": "f8"
         }
        },
        {
         "fill": "toself",
         "fillcolor": "rgba(0, 0, 255, 0.2)",
         "line": {
          "color": "rgba(255, 255, 255, 0)"
         },
         "showlegend": false,
         "type": "scatter",
         "x": {
          "bdata": "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",
          "dtype": "f8"
         },
         "y": {
          "bdata": "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",
          "dtype": "f8"
         }
        }
       ],
       "layout": {
        "template": {
         "data": {
          "bar": [
           {
            "error_x": {
             "color": "#2a3f5f"
            },
            "error_y": {
             "color": "#2a3f5f"
            },
            "marker": {
             "line": {
              "color": "white",
              "width": 0.5
             },
             "pattern": {
              "fillmode": "overlay",
              "size": 10,
              "solidity": 0.2
             }
            },
            "type": "bar"
           }
          ],
          "barpolar": [
           {
            "marker": {
             "line": {
              "color": "white",
              "width": 0.5
             },
             "pattern": {
              "fillmode": "overlay",
              "size": 10,
              "solidity": 0.2
             }
            },
            "type": "barpolar"
           }
          ],
          "carpet": [
           {
            "aaxis": {
             "endlinecolor": "#2a3f5f",
             "gridcolor": "#C8D4E3",
             "linecolor": "#C8D4E3",
             "minorgridcolor": "#C8D4E3",
             "startlinecolor": "#2a3f5f"
            },
            "baxis": {
             "endlinecolor": "#2a3f5f",
             "gridcolor": "#C8D4E3",
             "linecolor": "#C8D4E3",
             "minorgridcolor": "#C8D4E3",
             "startlinecolor": "#2a3f5f"
            },
            "type": "carpet"
           }
          ],
          "choropleth": [
           {
            "colorbar": {
             "outlinewidth": 0,
             "ticks": ""
            },
            "type": "choropleth"
           }
          ],
          "contour": [
           {
            "colorbar": {
             "outlinewidth": 0,
             "ticks": ""
            },
            "colorscale": [
             [
              0,
              "#0d0887"
             ],
             [
              0.1111111111111111,
              "#46039f"
             ],
             [
              0.2222222222222222,
              "#7201a8"
             ],
             [
              0.3333333333333333,
              "#9c179e"
             ],
             [
              0.4444444444444444,
              "#bd3786"
             ],
             [
              0.5555555555555556,
              "#d8576b"
             ],
             [
              0.6666666666666666,
              "#ed7953"
             ],
             [
              0.7777777777777778,
              "#fb9f3a"
             ],
             [
              0.8888888888888888,
              "#fdca26"
             ],
             [
              1,
              "#f0f921"
             ]
            ],
            "type": "contour"
           }
          ],
          "contourcarpet": [
           {
            "colorbar": {
             "outlinewidth": 0,
             "ticks": ""
            },
            "type": "contourcarpet"
           }
          ],
          "heatmap": [
           {
            "colorbar": {
             "outlinewidth": 0,
             "ticks": ""
            },
            "colorscale": [
             [
              0,
              "#0d0887"
             ],
             [
              0.1111111111111111,
              "#46039f"
             ],
             [
              0.2222222222222222,
              "#7201a8"
             ],
             [
              0.3333333333333333,
              "#9c179e"
             ],
             [
              0.4444444444444444,
              "#bd3786"
             ],
             [
              0.5555555555555556,
              "#d8576b"
             ],
             [
              0.6666666666666666,
              "#ed7953"
             ],
             [
              0.7777777777777778,
              "#fb9f3a"
             ],
             [
              0.8888888888888888,
              "#fdca26"
             ],
             [
              1,
              "#f0f921"
             ]
            ],
            "type": "heatmap"
           }
          ],
          "histogram": [
           {
            "marker": {
             "pattern": {
              "fillmode": "overlay",
              "size": 10,
              "solidity": 0.2
             }
            },
            "type": "histogram"
           }
          ],
          "histogram2d": [
           {
            "colorbar": {
             "outlinewidth": 0,
             "ticks": ""
            },
            "colorscale": [
             [
              0,
              "#0d0887"
             ],
             [
              0.1111111111111111,
              "#46039f"
             ],
             [
              0.2222222222222222,
              "#7201a8"
             ],
             [
              0.3333333333333333,
              "#9c179e"
             ],
             [
              0.4444444444444444,
              "#bd3786"
             ],
             [
              0.5555555555555556,
              "#d8576b"
             ],
             [
              0.6666666666666666,
              "#ed7953"
             ],
             [
              0.7777777777777778,
              "#fb9f3a"
             ],
             [
              0.8888888888888888,
              "#fdca26"
             ],
             [
              1,
              "#f0f921"
             ]
            ],
            "type": "histogram2d"
           }
          ],
          "histogram2dcontour": [
           {
            "colorbar": {
             "outlinewidth": 0,
             "ticks": ""
            },
            "colorscale": [
             [
              0,
              "#0d0887"
             ],
             [
              0.1111111111111111,
              "#46039f"
             ],
             [
              0.2222222222222222,
              "#7201a8"
             ],
             [
              0.3333333333333333,
              "#9c179e"
             ],
             [
              0.4444444444444444,
              "#bd3786"
             ],
             [
              0.5555555555555556,
              "#d8576b"
             ],
             [
              0.6666666666666666,
              "#ed7953"
             ],
             [
              0.7777777777777778,
              "#fb9f3a"
             ],
             [
              0.8888888888888888,
              "#fdca26"
             ],
             [
              1,
              "#f0f921"
             ]
            ],
            "type": "histogram2dcontour"
           }
          ],
          "mesh3d": [
           {
            "colorbar": {
             "outlinewidth": 0,
             "ticks": ""
            },
            "type": "mesh3d"
           }
          ],
          "parcoords": [
           {
            "line": {
             "colorbar": {
              "outlinewidth": 0,
              "ticks": ""
             }
            },
            "type": "parcoords"
           }
          ],
          "pie": [
           {
            "automargin": true,
            "type": "pie"
           }
          ],
          "scatter": [
           {
            "fillpattern": {
             "fillmode": "overlay",
             "size": 10,
             "solidity": 0.2
            },
            "type": "scatter"
           }
          ],
          "scatter3d": [
           {
            "line": {
             "colorbar": {
              "outlinewidth": 0,
              "ticks": ""
             }
            },
            "marker": {
             "colorbar": {
              "outlinewidth": 0,
              "ticks": ""
             }
            },
            "type": "scatter3d"
           }
          ],
          "scattercarpet": [
           {
            "marker": {
             "colorbar": {
              "outlinewidth": 0,
              "ticks": ""
             }
            },
            "type": "scattercarpet"
           }
          ],
          "scattergeo": [
           {
            "marker": {
             "colorbar": {
              "outlinewidth": 0,
              "ticks": ""
             }
            },
            "type": "scattergeo"
           }
          ],
          "scattergl": [
           {
            "marker": {
             "colorbar": {
              "outlinewidth": 0,
              "ticks": ""
             }
            },
            "type": "scattergl"
           }
          ],
          "scattermap": [
           {
            "marker": {
             "colorbar": {
              "outlinewidth": 0,
              "ticks": ""
             }
            },
            "type": "scattermap"
           }
          ],
          "scattermapbox": [
           {
            "marker": {
             "colorbar": {
              "outlinewidth": 0,
              "ticks": ""
             }
            },
            "type": "scattermapbox"
           }
          ],
          "scatterpolar": [
           {
            "marker": {
             "colorbar": {
              "outlinewidth": 0,
              "ticks": ""
             }
            },
            "type": "scatterpolar"
           }
          ],
          "scatterpolargl": [
           {
            "marker": {
             "colorbar": {
              "outlinewidth": 0,
              "ticks": ""
             }
            },
            "type": "scatterpolargl"
           }
          ],
          "scatterternary": [
           {
            "marker": {
             "colorbar": {
              "outlinewidth": 0,
              "ticks": ""
             }
            },
            "type": "scatterternary"
           }
          ],
          "surface": [
           {
            "colorbar": {
             "outlinewidth": 0,
             "ticks": ""
            },
            "colorscale": [
             [
              0,
              "#0d0887"
             ],
             [
              0.1111111111111111,
              "#46039f"
             ],
             [
              0.2222222222222222,
              "#7201a8"
             ],
             [
              0.3333333333333333,
              "#9c179e"
             ],
             [
              0.4444444444444444,
              "#bd3786"
             ],
             [
              0.5555555555555556,
              "#d8576b"
             ],
             [
              0.6666666666666666,
              "#ed7953"
             ],
             [
              0.7777777777777778,
              "#fb9f3a"
             ],
             [
              0.8888888888888888,
              "#fdca26"
             ],
             [
              1,
              "#f0f921"
             ]
            ],
            "type": "surface"
           }
          ],
          "table": [
           {
            "cells": {
             "fill": {
              "color": "#EBF0F8"
             },
             "line": {
              "color": "white"
             }
            },
            "header": {
             "fill": {
              "color": "#C8D4E3"
             },
             "line": {
              "color": "white"
             }
            },
            "type": "table"
           }
          ]
         },
         "layout": {
          "annotationdefaults": {
           "arrowcolor": "#2a3f5f",
           "arrowhead": 0,
           "arrowwidth": 1
          },
          "autotypenumbers": "strict",
          "coloraxis": {
           "colorbar": {
            "outlinewidth": 0,
            "ticks": ""
           }
          },
          "colorscale": {
           "diverging": [
            [
             0,
             "#8e0152"
            ],
            [
             0.1,
             "#c51b7d"
            ],
            [
             0.2,
             "#de77ae"
            ],
            [
             0.3,
             "#f1b6da"
            ],
            [
             0.4,
             "#fde0ef"
            ],
            [
             0.5,
             "#f7f7f7"
            ],
            [
             0.6,
             "#e6f5d0"
            ],
            [
             0.7,
             "#b8e186"
            ],
            [
             0.8,
             "#7fbc41"
            ],
            [
             0.9,
             "#4d9221"
            ],
            [
             1,
             "#276419"
            ]
           ],
           "sequential": [
            [
             0,
             "#0d0887"
            ],
            [
             0.1111111111111111,
             "#46039f"
            ],
            [
             0.2222222222222222,
             "#7201a8"
            ],
            [
             0.3333333333333333,
             "#9c179e"
            ],
            [
             0.4444444444444444,
             "#bd3786"
            ],
            [
             0.5555555555555556,
             "#d8576b"
            ],
            [
             0.6666666666666666,
             "#ed7953"
            ],
            [
             0.7777777777777778,
             "#fb9f3a"
            ],
            [
             0.8888888888888888,
             "#fdca26"
            ],
            [
             1,
             "#f0f921"
            ]
           ],
           "sequentialminus": [
            [
             0,
             "#0d0887"
            ],
            [
             0.1111111111111111,
             "#46039f"
            ],
            [
             0.2222222222222222,
             "#7201a8"
            ],
            [
             0.3333333333333333,
             "#9c179e"
            ],
            [
             0.4444444444444444,
             "#bd3786"
            ],
            [
             0.5555555555555556,
             "#d8576b"
            ],
            [
             0.6666666666666666,
             "#ed7953"
            ],
            [
             0.7777777777777778,
             "#fb9f3a"
            ],
            [
             0.8888888888888888,
             "#fdca26"
            ],
            [
             1,
             "#f0f921"
            ]
           ]
          },
          "colorway": [
           "#636efa",
           "#EF553B",
           "#00cc96",
           "#ab63fa",
           "#FFA15A",
           "#19d3f3",
           "#FF6692",
           "#B6E880",
           "#FF97FF",
           "#FECB52"
          ],
          "font": {
           "color": "#2a3f5f"
          },
          "geo": {
           "bgcolor": "white",
           "lakecolor": "white",
           "landcolor": "white",
           "showlakes": true,
           "showland": true,
           "subunitcolor": "#C8D4E3"
          },
          "hoverlabel": {
           "align": "left"
          },
          "hovermode": "closest",
          "mapbox": {
           "style": "light"
          },
          "paper_bgcolor": "white",
          "plot_bgcolor": "white",
          "polar": {
           "angularaxis": {
            "gridcolor": "#EBF0F8",
            "linecolor": "#EBF0F8",
            "ticks": ""
           },
           "bgcolor": "white",
           "radialaxis": {
            "gridcolor": "#EBF0F8",
            "linecolor": "#EBF0F8",
            "ticks": ""
           }
          },
          "scene": {
           "xaxis": {
            "backgroundcolor": "white",
            "gridcolor": "#DFE8F3",
            "gridwidth": 2,
            "linecolor": "#EBF0F8",
            "showbackground": true,
            "ticks": "",
            "zerolinecolor": "#EBF0F8"
           },
           "yaxis": {
            "backgroundcolor": "white",
            "gridcolor": "#DFE8F3",
            "gridwidth": 2,
            "linecolor": "#EBF0F8",
            "showbackground": true,
            "ticks": "",
            "zerolinecolor": "#EBF0F8"
           },
           "zaxis": {
            "backgroundcolor": "white",
            "gridcolor": "#DFE8F3",
            "gridwidth": 2,
            "linecolor": "#EBF0F8",
            "showbackground": true,
            "ticks": "",
            "zerolinecolor": "#EBF0F8"
           }
          },
          "shapedefaults": {
           "line": {
            "color": "#2a3f5f"
           }
          },
          "ternary": {
           "aaxis": {
            "gridcolor": "#DFE8F3",
            "linecolor": "#A2B1C6",
            "ticks": ""
           },
           "baxis": {
            "gridcolor": "#DFE8F3",
            "linecolor": "#A2B1C6",
            "ticks": ""
           },
           "bgcolor": "white",
           "caxis": {
            "gridcolor": "#DFE8F3",
            "linecolor": "#A2B1C6",
            "ticks": ""
           }
          },
          "title": {
           "x": 0.05
          },
          "xaxis": {
           "automargin": true,
           "gridcolor": "#EBF0F8",
           "linecolor": "#EBF0F8",
           "ticks": "",
           "title": {
            "standoff": 15
           },
           "zerolinecolor": "#EBF0F8",
           "zerolinewidth": 2
          },
          "yaxis": {
           "automargin": true,
           "gridcolor": "#EBF0F8",
           "linecolor": "#EBF0F8",
           "ticks": "",
           "title": {
            "standoff": 15
           },
           "zerolinecolor": "#EBF0F8",
           "zerolinewidth": 2
          }
         }
        },
        "title": {
         "text": "Cross-Validation (N=5) Mean Logloss with Error Bands"
        },
        "xaxis": {
         "title": {
          "text": "Training Steps"
         }
        },
        "yaxis": {
         "title": {
          "text": "Logloss"
         }
        }
       }
      }
     },
     "metadata": {},
     "output_type": "display_data"
    },
    {
     "data": {
      "application/vnd.plotly.v1+json": {
       "config": {
        "plotlyServerURL": "https://plot.ly"
       },
       "data": [
        {
         "line": {
          "color": "blue"
         },
         "mode": "lines",
         "name": "Mean logloss",
         "type": "scatter",
         "x": {
          "bdata": "AAABAAIAAwAEAAUABgAHAAgACQAKAAsADAANAA4ADwAQABEAEgATABQAFQAWABcAGAAZABoAGwAcAB0AHgAfACAAIQAiACMAJAAlACYAJwAoACkAKgArACwALQAuAC8AMAAxADIAMwA0ADUANgA3ADgAOQA6ADsAPAA9AD4APwBAAEEAQgBDAEQARQBGAEcASABJAEoASwBMAE0ATgBPAFAAUQBSAFMAVABVAFYAVwBYAFkAWgBbAFwAXQBeAF8AYABhAGIAYwBkAGUAZgBnAGgAaQBqAGsAbABtAG4AbwBwAHEAcgBzAHQAdQB2AHcAeAB5AHoAewB8AH0AfgB/AIAAgQCCAIMAhACFAIYAhwCIAIkAigCLAIwAjQCOAI8AkACRAJIAkwCUAJUAlgCXAJgAmQCaAJsAnACdAJ4AnwCgAKEAogCjAKQApQCmAKcAqACpAKoAqwCsAK0ArgCvALAAsQCyALMAtAC1ALYAtwA=",
          "dtype": "i2"
         },
         "y": {
          "bdata": "976L90Ys5T86yDBBwCvkP5K8V1wWluM/ipaZH9UP4z+C+kDUkYfiP3jgT1U5H+I/CLC3I8LJ4T+GnMVh04LhPz2kFU2uNeE/nuYUWuf44D/WgN7/5srgPxggqfpRnOA/+0NRS3V24D/CMshVYU/gPwA8laP7KOA/OcXy6vsL4D9dad16M9rfP5KD2Fvkqt8/MclwtxSK3z+HLWJAQ23fPzaBFy/kQt8/2UtSIEEV3z/gAblASuzeP4f3BY6cy94/SeRqRxSv3j9LNNzGVn/eP3YuYJTZY94/SdUh9qxD3j8iOu+NTzzePwXecO/YH94/bvkAxloO3j/d3CRnh+rdP+qqbJ/C7N0/TZBgVvXY3T9Pc/n8W9vdPw5wmQCZ2t0/ffujwUnS3T/YA9DcOt/dPyfP7ghg8N0/YEPl6yHZ3T/hSGJbxcXdP9YnT1w0v90/zTpKWHiz3T9CtIV8baTdPwCiu7sUr90/NQWiHCWr3T9HayHuVaXdP5WXeg2Oo90/EBSgjjaZ3T+u1rgYmozdPw8Bhh1Mdt0/ir7BP/Fs3T+khKj+q2fdP8LQFK5QVd0/oPqF1AVb3T8Tket4gl/dP2Hkk/dNU90/BqP2Vo1H3T/Yk1z/pE7dP5NKyENgO90/gQB5EZov3T+CCUybDindP/VhcJx6Jd0/wtZ67+gT3T+D/cKaCRvdP2+PGB6iJ90/D4zPS2Eg3T/Kz0YXkizdPwUAIMubKd0/8nsS8qst3T+qItxBhSfdP2U7BtfIKt0/sxT6KLUx3T98072xwjLdP42x7RIXLN0/nI/WWNoo3T8evhTApSfdP2K3F/LJMN0/9UZzeMIz3T9iRd2+1U3dP9VUWBxUOd0/0fEmIpdC3T/leeNqNELdPwqiBSITU90/XPce3AZS3T/jzVAMdUvdP0M7Oa8/QN0/uYsUflxA3T+mCqvxmj3dP6rYui+UNd0/BVWU8zcx3T+BY0BTCEDdP8jM9EGzRN0/1Tbv91NC3T9oL6Wg+kXdPwKBWywRSN0/FdVI/WVZ3T+yZlpPHUndP8o6/fQOUd0/8trhgnRN3T86MbxeglndP8Ce4DbWbd0//bTEzEZo3T/aULmu5G7dP3Lw0Z5zbN0/H+QseyFm3T9dmIIMUmPdP1UNSSiGZN0/rbdYWrVW3T9X6YbgalzdP/JmJXfgYN0/Mw+A3FBW3T/B9/Rx2GfdPzi4SG1uXd0/mtxGFsxX3T8T04/0dWrdP8JOc7B4Zd0/BvrNJmlb3T/MC5RWKXPdP9N4UUWcYd0/Mq3RzNxw3T/AqSHJS2TdP3j676JHZt0/gtviZnBl3T/empXaTF7dP5TKOIhWY90/uli1fuNl3T/ejSAyhmjdPw5jE1BjW90/K8tGnTpY3T9xeycEgWndP1q0/TLpdd0/Ran6WOOE3T8ZAieA6HvdP6zUt2xyfN0/QjGysv+D3T+Mc8HrzIrdP7Wa/Amkkd0/nQBSMNeB3T/27t5xH5DdP1Ziqls9kt0/eJyM+JGW3T+z8ipkYZ3dPwF/APp5kt0/9pY1qdid3T85tCdAEJXdP+BrHzvgld0/moCWhuCW3T8oR2hY6abdP95Jyk4frN0/YAx2ZPmp3T8INFgmTrDdP38dUJ4gtN0/g9dk4DS93T9BG/AuZLvdP9iz2NfJu90/u/vZmYO93T+dsfN998bdP+HuuXQ5yt0/RR+A/JrL3T8iWjFBmtTdP39wBRlz0N0/uNcx+Xvi3T8lbzTpZNndP4MylXYq490/dfwnNajs3T8yc5Ac2vXdP5hpTb2m/N0/a2kJSaf33T8C7X49mvrdP9p5TdSN8t0/tNmxfej63T+skoecvPPdP21f1wNX7d0/n3D39kn03T807G9YXQXeP+YXBTDPDN4/Lxvfj6AW3j+d2XVngAbeP3VYdXH4C94/ypBewO4L3j/GCVqocw7eP7KG7/dBFN4/mseKKgMc3j8=",
          "dtype": "f8"
         }
        },
        {
         "fill": "toself",
         "fillcolor": "rgba(0, 0, 255, 0.2)",
         "line": {
          "color": "rgba(255, 255, 255, 0)"
         },
         "showlegend": false,
         "type": "scatter",
         "x": {
          "bdata": "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",
          "dtype": "f8"
         },
         "y": {
          "bdata": "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",
          "dtype": "f8"
         }
        }
       ],
       "layout": {
        "template": {
         "data": {
          "bar": [
           {
            "error_x": {
             "color": "#2a3f5f"
            },
            "error_y": {
             "color": "#2a3f5f"
            },
            "marker": {
             "line": {
              "color": "white",
              "width": 0.5
             },
             "pattern": {
              "fillmode": "overlay",
              "size": 10,
              "solidity": 0.2
             }
            },
            "type": "bar"
           }
          ],
          "barpolar": [
           {
            "marker": {
             "line": {
              "color": "white",
              "width": 0.5
             },
             "pattern": {
              "fillmode": "overlay",
              "size": 10,
              "solidity": 0.2
             }
            },
            "type": "barpolar"
           }
          ],
          "carpet": [
           {
            "aaxis": {
             "endlinecolor": "#2a3f5f",
             "gridcolor": "#C8D4E3",
             "linecolor": "#C8D4E3",
             "minorgridcolor": "#C8D4E3",
             "startlinecolor": "#2a3f5f"
            },
            "baxis": {
             "endlinecolor": "#2a3f5f",
             "gridcolor": "#C8D4E3",
             "linecolor": "#C8D4E3",
             "minorgridcolor": "#C8D4E3",
             "startlinecolor": "#2a3f5f"
            },
            "type": "carpet"
           }
          ],
          "choropleth": [
           {
            "colorbar": {
             "outlinewidth": 0,
             "ticks": ""
            },
            "type": "choropleth"
           }
          ],
          "contour": [
           {
            "colorbar": {
             "outlinewidth": 0,
             "ticks": ""
            },
            "colorscale": [
             [
              0,
              "#0d0887"
             ],
             [
              0.1111111111111111,
              "#46039f"
             ],
             [
              0.2222222222222222,
              "#7201a8"
             ],
             [
              0.3333333333333333,
              "#9c179e"
             ],
             [
              0.4444444444444444,
              "#bd3786"
             ],
             [
              0.5555555555555556,
              "#d8576b"
             ],
             [
              0.6666666666666666,
              "#ed7953"
             ],
             [
              0.7777777777777778,
              "#fb9f3a"
             ],
             [
              0.8888888888888888,
              "#fdca26"
             ],
             [
              1,
              "#f0f921"
             ]
            ],
            "type": "contour"
           }
          ],
          "contourcarpet": [
           {
            "colorbar": {
             "outlinewidth": 0,
             "ticks": ""
            },
            "type": "contourcarpet"
           }
          ],
          "heatmap": [
           {
            "colorbar": {
             "outlinewidth": 0,
             "ticks": ""
            },
            "colorscale": [
             [
              0,
              "#0d0887"
             ],
             [
              0.1111111111111111,
              "#46039f"
             ],
             [
              0.2222222222222222,
              "#7201a8"
             ],
             [
              0.3333333333333333,
              "#9c179e"
             ],
             [
              0.4444444444444444,
              "#bd3786"
             ],
             [
              0.5555555555555556,
              "#d8576b"
             ],
             [
              0.6666666666666666,
              "#ed7953"
             ],
             [
              0.7777777777777778,
              "#fb9f3a"
             ],
             [
              0.8888888888888888,
              "#fdca26"
             ],
             [
              1,
              "#f0f921"
             ]
            ],
            "type": "heatmap"
           }
          ],
          "histogram": [
           {
            "marker": {
             "pattern": {
              "fillmode": "overlay",
              "size": 10,
              "solidity": 0.2
             }
            },
            "type": "histogram"
           }
          ],
          "histogram2d": [
           {
            "colorbar": {
             "outlinewidth": 0,
             "ticks": ""
            },
            "colorscale": [
             [
              0,
              "#0d0887"
             ],
             [
              0.1111111111111111,
              "#46039f"
             ],
             [
              0.2222222222222222,
              "#7201a8"
             ],
             [
              0.3333333333333333,
              "#9c179e"
             ],
             [
              0.4444444444444444,
              "#bd3786"
             ],
             [
              0.5555555555555556,
              "#d8576b"
             ],
             [
              0.6666666666666666,
              "#ed7953"
             ],
             [
              0.7777777777777778,
              "#fb9f3a"
             ],
             [
              0.8888888888888888,
              "#fdca26"
             ],
             [
              1,
              "#f0f921"
             ]
            ],
            "type": "histogram2d"
           }
          ],
          "histogram2dcontour": [
           {
            "colorbar": {
             "outlinewidth": 0,
             "ticks": ""
            },
            "colorscale": [
             [
              0,
              "#0d0887"
             ],
             [
              0.1111111111111111,
              "#46039f"
             ],
             [
              0.2222222222222222,
              "#7201a8"
             ],
             [
              0.3333333333333333,
              "#9c179e"
             ],
             [
              0.4444444444444444,
              "#bd3786"
             ],
             [
              0.5555555555555556,
              "#d8576b"
             ],
             [
              0.6666666666666666,
              "#ed7953"
             ],
             [
              0.7777777777777778,
              "#fb9f3a"
             ],
             [
              0.8888888888888888,
              "#fdca26"
             ],
             [
              1,
              "#f0f921"
             ]
            ],
            "type": "histogram2dcontour"
           }
          ],
          "mesh3d": [
           {
            "colorbar": {
             "outlinewidth": 0,
             "ticks": ""
            },
            "type": "mesh3d"
           }
          ],
          "parcoords": [
           {
            "line": {
             "colorbar": {
              "outlinewidth": 0,
              "ticks": ""
             }
            },
            "type": "parcoords"
           }
          ],
          "pie": [
           {
            "automargin": true,
            "type": "pie"
           }
          ],
          "scatter": [
           {
            "fillpattern": {
             "fillmode": "overlay",
             "size": 10,
             "solidity": 0.2
            },
            "type": "scatter"
           }
          ],
          "scatter3d": [
           {
            "line": {
             "colorbar": {
              "outlinewidth": 0,
              "ticks": ""
             }
            },
            "marker": {
             "colorbar": {
              "outlinewidth": 0,
              "ticks": ""
             }
            },
            "type": "scatter3d"
           }
          ],
          "scattercarpet": [
           {
            "marker": {
             "colorbar": {
              "outlinewidth": 0,
              "ticks": ""
             }
            },
            "type": "scattercarpet"
           }
          ],
          "scattergeo": [
           {
            "marker": {
             "colorbar": {
              "outlinewidth": 0,
              "ticks": ""
             }
            },
            "type": "scattergeo"
           }
          ],
          "scattergl": [
           {
            "marker": {
             "colorbar": {
              "outlinewidth": 0,
              "ticks": ""
             }
            },
            "type": "scattergl"
           }
          ],
          "scattermap": [
           {
            "marker": {
             "colorbar": {
              "outlinewidth": 0,
              "ticks": ""
             }
            },
            "type": "scattermap"
           }
          ],
          "scattermapbox": [
           {
            "marker": {
             "colorbar": {
              "outlinewidth": 0,
              "ticks": ""
             }
            },
            "type": "scattermapbox"
           }
          ],
          "scatterpolar": [
           {
            "marker": {
             "colorbar": {
              "outlinewidth": 0,
              "ticks": ""
             }
            },
            "type": "scatterpolar"
           }
          ],
          "scatterpolargl": [
           {
            "marker": {
             "colorbar": {
              "outlinewidth": 0,
              "ticks": ""
             }
            },
            "type": "scatterpolargl"
           }
          ],
          "scatterternary": [
           {
            "marker": {
             "colorbar": {
              "outlinewidth": 0,
              "ticks": ""
             }
            },
            "type": "scatterternary"
           }
          ],
          "surface": [
           {
            "colorbar": {
             "outlinewidth": 0,
             "ticks": ""
            },
            "colorscale": [
             [
              0,
              "#0d0887"
             ],
             [
              0.1111111111111111,
              "#46039f"
             ],
             [
              0.2222222222222222,
              "#7201a8"
             ],
             [
              0.3333333333333333,
              "#9c179e"
             ],
             [
              0.4444444444444444,
              "#bd3786"
             ],
             [
              0.5555555555555556,
              "#d8576b"
             ],
             [
              0.6666666666666666,
              "#ed7953"
             ],
             [
              0.7777777777777778,
              "#fb9f3a"
             ],
             [
              0.8888888888888888,
              "#fdca26"
             ],
             [
              1,
              "#f0f921"
             ]
            ],
            "type": "surface"
           }
          ],
          "table": [
           {
            "cells": {
             "fill": {
              "color": "#EBF0F8"
             },
             "line": {
              "color": "white"
             }
            },
            "header": {
             "fill": {
              "color": "#C8D4E3"
             },
             "line": {
              "color": "white"
             }
            },
            "type": "table"
           }
          ]
         },
         "layout": {
          "annotationdefaults": {
           "arrowcolor": "#2a3f5f",
           "arrowhead": 0,
           "arrowwidth": 1
          },
          "autotypenumbers": "strict",
          "coloraxis": {
           "colorbar": {
            "outlinewidth": 0,
            "ticks": ""
           }
          },
          "colorscale": {
           "diverging": [
            [
             0,
             "#8e0152"
            ],
            [
             0.1,
             "#c51b7d"
            ],
            [
             0.2,
             "#de77ae"
            ],
            [
             0.3,
             "#f1b6da"
            ],
            [
             0.4,
             "#fde0ef"
            ],
            [
             0.5,
             "#f7f7f7"
            ],
            [
             0.6,
             "#e6f5d0"
            ],
            [
             0.7,
             "#b8e186"
            ],
            [
             0.8,
             "#7fbc41"
            ],
            [
             0.9,
             "#4d9221"
            ],
            [
             1,
             "#276419"
            ]
           ],
           "sequential": [
            [
             0,
             "#0d0887"
            ],
            [
             0.1111111111111111,
             "#46039f"
            ],
            [
             0.2222222222222222,
             "#7201a8"
            ],
            [
             0.3333333333333333,
             "#9c179e"
            ],
            [
             0.4444444444444444,
             "#bd3786"
            ],
            [
             0.5555555555555556,
             "#d8576b"
            ],
            [
             0.6666666666666666,
             "#ed7953"
            ],
            [
             0.7777777777777778,
             "#fb9f3a"
            ],
            [
             0.8888888888888888,
             "#fdca26"
            ],
            [
             1,
             "#f0f921"
            ]
           ],
           "sequentialminus": [
            [
             0,
             "#0d0887"
            ],
            [
             0.1111111111111111,
             "#46039f"
            ],
            [
             0.2222222222222222,
             "#7201a8"
            ],
            [
             0.3333333333333333,
             "#9c179e"
            ],
            [
             0.4444444444444444,
             "#bd3786"
            ],
            [
             0.5555555555555556,
             "#d8576b"
            ],
            [
             0.6666666666666666,
             "#ed7953"
            ],
            [
             0.7777777777777778,
             "#fb9f3a"
            ],
            [
             0.8888888888888888,
             "#fdca26"
            ],
            [
             1,
             "#f0f921"
            ]
           ]
          },
          "colorway": [
           "#636efa",
           "#EF553B",
           "#00cc96",
           "#ab63fa",
           "#FFA15A",
           "#19d3f3",
           "#FF6692",
           "#B6E880",
           "#FF97FF",
           "#FECB52"
          ],
          "font": {
           "color": "#2a3f5f"
          },
          "geo": {
           "bgcolor": "white",
           "lakecolor": "white",
           "landcolor": "white",
           "showlakes": true,
           "showland": true,
           "subunitcolor": "#C8D4E3"
          },
          "hoverlabel": {
           "align": "left"
          },
          "hovermode": "closest",
          "mapbox": {
           "style": "light"
          },
          "paper_bgcolor": "white",
          "plot_bgcolor": "white",
          "polar": {
           "angularaxis": {
            "gridcolor": "#EBF0F8",
            "linecolor": "#EBF0F8",
            "ticks": ""
           },
           "bgcolor": "white",
           "radialaxis": {
            "gridcolor": "#EBF0F8",
            "linecolor": "#EBF0F8",
            "ticks": ""
           }
          },
          "scene": {
           "xaxis": {
            "backgroundcolor": "white",
            "gridcolor": "#DFE8F3",
            "gridwidth": 2,
            "linecolor": "#EBF0F8",
            "showbackground": true,
            "ticks": "",
            "zerolinecolor": "#EBF0F8"
           },
           "yaxis": {
            "backgroundcolor": "white",
            "gridcolor": "#DFE8F3",
            "gridwidth": 2,
            "linecolor": "#EBF0F8",
            "showbackground": true,
            "ticks": "",
            "zerolinecolor": "#EBF0F8"
           },
           "zaxis": {
            "backgroundcolor": "white",
            "gridcolor": "#DFE8F3",
            "gridwidth": 2,
            "linecolor": "#EBF0F8",
            "showbackground": true,
            "ticks": "",
            "zerolinecolor": "#EBF0F8"
           }
          },
          "shapedefaults": {
           "line": {
            "color": "#2a3f5f"
           }
          },
          "ternary": {
           "aaxis": {
            "gridcolor": "#DFE8F3",
            "linecolor": "#A2B1C6",
            "ticks": ""
           },
           "baxis": {
            "gridcolor": "#DFE8F3",
            "linecolor": "#A2B1C6",
            "ticks": ""
           },
           "bgcolor": "white",
           "caxis": {
            "gridcolor": "#DFE8F3",
            "linecolor": "#A2B1C6",
            "ticks": ""
           }
          },
          "title": {
           "x": 0.05
          },
          "xaxis": {
           "automargin": true,
           "gridcolor": "#EBF0F8",
           "linecolor": "#EBF0F8",
           "ticks": "",
           "title": {
            "standoff": 15
           },
           "zerolinecolor": "#EBF0F8",
           "zerolinewidth": 2
          },
          "yaxis": {
           "automargin": true,
           "gridcolor": "#EBF0F8",
           "linecolor": "#EBF0F8",
           "ticks": "",
           "title": {
            "standoff": 15
           },
           "zerolinecolor": "#EBF0F8",
           "zerolinewidth": 2
          }
         }
        },
        "title": {
         "text": "Cross-Validation (N=5) Mean Logloss with Error Bands"
        },
        "xaxis": {
         "title": {
          "text": "Training Steps"
         }
        },
        "yaxis": {
         "title": {
          "text": "Logloss"
         }
        }
       }
      }
     },
     "metadata": {},
     "output_type": "display_data"
    }
   ],
   "source": [
    "plot_error_scatter(\n",
    "    df_plot=cv_results,\n",
    "    x=\"iterations\",\n",
    "    y=\"test-Logloss-mean\",\n",
    "    err=\"test-Logloss-std\",\n",
    "    name=\"Mean logloss\",\n",
    "    title=\"Cross-Validation (N=5) Mean Logloss with Error Bands\",\n",
    "    xtitle=\"Training Steps\",\n",
    "    ytitle=\"Logloss\",\n",
    ")"
   ]
  },
  {
   "cell_type": "code",
   "execution_count": 14,
   "id": "9151f339",
   "metadata": {},
   "outputs": [
    {
     "data": {
      "application/vnd.jupyter.widget-view+json": {
       "model_id": "8fc0d2b13e444720be0c11e36cc26d4e",
       "version_major": 2,
       "version_minor": 0
      },
      "text/plain": [
       "MetricVisualizer(layout=Layout(align_self='stretch', height='500px'))"
      ]
     },
     "metadata": {},
     "output_type": "display_data"
    },
    {
     "name": "stdout",
     "output_type": "stream",
     "text": [
      "0:\tlearn: 0.6494845\ttotal: 1.06ms\tremaining: 194ms\n",
      "50:\tlearn: 0.7124011\ttotal: 43.7ms\tremaining: 114ms\n",
      "100:\tlearn: 0.8112245\ttotal: 85ms\tremaining: 69.9ms\n",
      "150:\tlearn: 0.8506329\ttotal: 129ms\tremaining: 28.1ms\n",
      "183:\tlearn: 0.8822055\ttotal: 158ms\tremaining: 0us\n"
     ]
    },
    {
     "name": "stderr",
     "output_type": "stream",
     "text": [
      "C:\\Users\\Kinga\\AppData\\Roaming\\Python\\Python311\\site-packages\\mlflow\\types\\utils.py:394: UserWarning:\n",
      "\n",
      "Hint: Inferred schema contains integer column(s). Integer columns in Python cannot represent missing values. If your input data contains missing values at inference time, it will be encoded as floats and will cause a schema enforcement error. The best way to avoid this problem is to infer the model schema based on a realistic data sample (training dataset) that includes missing values. Alternatively, you can declare integer columns as doubles (float64) whenever these columns may have missing values. See `Handling Integers With Missing Values <https://www.mlflow.org/docs/latest/models.html#handling-integers-with-missing-values>`_ for more details.\n",
      "\n",
      "Registered model 'diabetes-bclass' already exists. Creating a new version of this model...\n",
      "Created version '2' of model 'diabetes-bclass'.\n",
      "c:\\Users\\Kinga\\Documents\\ARISA\\MLOPs-Final\\ARISA_DSML\\train.py:178: FutureWarning:\n",
      "\n",
      "``mlflow.tracking.client.MlflowClient.get_latest_versions`` is deprecated since 2.9.0. Model registry stages will be removed in a future major release. To learn more about the deprecation of model registry stages, see our migration guide here: https://mlflow.org/docs/2.12.1/model-registry.html#migrating-from-stages\n",
      "\n"
     ]
    }
   ],
   "source": [
    "from ARISA_DSML.train import train\n",
    "model_path, model_params_path = train(X_train, y_train, params)"
   ]
  },
  {
   "cell_type": "code",
   "execution_count": 15,
   "id": "5c0312bc",
   "metadata": {},
   "outputs": [
    {
     "data": {
      "text/html": [
       "<div>\n",
       "<style scoped>\n",
       "    .dataframe tbody tr th:only-of-type {\n",
       "        vertical-align: middle;\n",
       "    }\n",
       "\n",
       "    .dataframe tbody tr th {\n",
       "        vertical-align: top;\n",
       "    }\n",
       "\n",
       "    .dataframe thead th {\n",
       "        text-align: right;\n",
       "    }\n",
       "</style>\n",
       "<table border=\"1\" class=\"dataframe\">\n",
       "  <thead>\n",
       "    <tr style=\"text-align: right;\">\n",
       "      <th></th>\n",
       "      <th>pregnancies</th>\n",
       "      <th>glucose</th>\n",
       "      <th>bloodpressure</th>\n",
       "      <th>skinthickness</th>\n",
       "      <th>insulin</th>\n",
       "      <th>bmi</th>\n",
       "      <th>diabetespedigreefunction</th>\n",
       "      <th>age</th>\n",
       "      <th>outcome</th>\n",
       "    </tr>\n",
       "  </thead>\n",
       "  <tbody>\n",
       "    <tr>\n",
       "      <th>0</th>\n",
       "      <td>6</td>\n",
       "      <td>98</td>\n",
       "      <td>58</td>\n",
       "      <td>33</td>\n",
       "      <td>190</td>\n",
       "      <td>34.0</td>\n",
       "      <td>0.430</td>\n",
       "      <td>43</td>\n",
       "      <td>0</td>\n",
       "    </tr>\n",
       "    <tr>\n",
       "      <th>1</th>\n",
       "      <td>2</td>\n",
       "      <td>112</td>\n",
       "      <td>75</td>\n",
       "      <td>32</td>\n",
       "      <td>0</td>\n",
       "      <td>35.7</td>\n",
       "      <td>0.148</td>\n",
       "      <td>21</td>\n",
       "      <td>0</td>\n",
       "    </tr>\n",
       "    <tr>\n",
       "      <th>2</th>\n",
       "      <td>2</td>\n",
       "      <td>108</td>\n",
       "      <td>64</td>\n",
       "      <td>0</td>\n",
       "      <td>0</td>\n",
       "      <td>30.8</td>\n",
       "      <td>0.158</td>\n",
       "      <td>21</td>\n",
       "      <td>0</td>\n",
       "    </tr>\n",
       "    <tr>\n",
       "      <th>3</th>\n",
       "      <td>8</td>\n",
       "      <td>107</td>\n",
       "      <td>80</td>\n",
       "      <td>0</td>\n",
       "      <td>0</td>\n",
       "      <td>24.6</td>\n",
       "      <td>0.856</td>\n",
       "      <td>34</td>\n",
       "      <td>0</td>\n",
       "    </tr>\n",
       "    <tr>\n",
       "      <th>4</th>\n",
       "      <td>7</td>\n",
       "      <td>136</td>\n",
       "      <td>90</td>\n",
       "      <td>0</td>\n",
       "      <td>0</td>\n",
       "      <td>29.9</td>\n",
       "      <td>0.210</td>\n",
       "      <td>50</td>\n",
       "      <td>0</td>\n",
       "    </tr>\n",
       "  </tbody>\n",
       "</table>\n",
       "</div>"
      ],
      "text/plain": [
       "   pregnancies  glucose  bloodpressure  skinthickness  insulin   bmi  \\\n",
       "0            6       98             58             33      190  34.0   \n",
       "1            2      112             75             32        0  35.7   \n",
       "2            2      108             64              0        0  30.8   \n",
       "3            8      107             80              0        0  24.6   \n",
       "4            7      136             90              0        0  29.9   \n",
       "\n",
       "   diabetespedigreefunction  age  outcome  \n",
       "0                     0.430   43        0  \n",
       "1                     0.148   21        0  \n",
       "2                     0.158   21        0  \n",
       "3                     0.856   34        0  \n",
       "4                     0.210   50        0  "
      ]
     },
     "execution_count": 15,
     "metadata": {},
     "output_type": "execute_result"
    }
   ],
   "source": [
    "df_test = pd.read_csv(test_path)\n",
    "\n",
    "df_test.head()"
   ]
  },
  {
   "cell_type": "code",
   "execution_count": 16,
   "id": "2b25d827",
   "metadata": {},
   "outputs": [],
   "source": [
    "y_test = df_test.pop(target)\n",
    "X_test = df_test"
   ]
  },
  {
   "cell_type": "code",
   "execution_count": 17,
   "id": "f63db2b9",
   "metadata": {},
   "outputs": [
    {
     "data": {
      "text/html": [
       "<div>\n",
       "<style scoped>\n",
       "    .dataframe tbody tr th:only-of-type {\n",
       "        vertical-align: middle;\n",
       "    }\n",
       "\n",
       "    .dataframe tbody tr th {\n",
       "        vertical-align: top;\n",
       "    }\n",
       "\n",
       "    .dataframe thead th {\n",
       "        text-align: right;\n",
       "    }\n",
       "</style>\n",
       "<table border=\"1\" class=\"dataframe\">\n",
       "  <thead>\n",
       "    <tr style=\"text-align: right;\">\n",
       "      <th></th>\n",
       "      <th>pregnancies</th>\n",
       "      <th>glucose</th>\n",
       "      <th>bloodpressure</th>\n",
       "      <th>skinthickness</th>\n",
       "      <th>insulin</th>\n",
       "      <th>bmi</th>\n",
       "      <th>diabetespedigreefunction</th>\n",
       "      <th>age</th>\n",
       "    </tr>\n",
       "  </thead>\n",
       "  <tbody>\n",
       "    <tr>\n",
       "      <th>0</th>\n",
       "      <td>6</td>\n",
       "      <td>98</td>\n",
       "      <td>58</td>\n",
       "      <td>33</td>\n",
       "      <td>190</td>\n",
       "      <td>34.0</td>\n",
       "      <td>0.430</td>\n",
       "      <td>43</td>\n",
       "    </tr>\n",
       "    <tr>\n",
       "      <th>1</th>\n",
       "      <td>2</td>\n",
       "      <td>112</td>\n",
       "      <td>75</td>\n",
       "      <td>32</td>\n",
       "      <td>0</td>\n",
       "      <td>35.7</td>\n",
       "      <td>0.148</td>\n",
       "      <td>21</td>\n",
       "    </tr>\n",
       "    <tr>\n",
       "      <th>2</th>\n",
       "      <td>2</td>\n",
       "      <td>108</td>\n",
       "      <td>64</td>\n",
       "      <td>0</td>\n",
       "      <td>0</td>\n",
       "      <td>30.8</td>\n",
       "      <td>0.158</td>\n",
       "      <td>21</td>\n",
       "    </tr>\n",
       "    <tr>\n",
       "      <th>3</th>\n",
       "      <td>8</td>\n",
       "      <td>107</td>\n",
       "      <td>80</td>\n",
       "      <td>0</td>\n",
       "      <td>0</td>\n",
       "      <td>24.6</td>\n",
       "      <td>0.856</td>\n",
       "      <td>34</td>\n",
       "    </tr>\n",
       "    <tr>\n",
       "      <th>4</th>\n",
       "      <td>7</td>\n",
       "      <td>136</td>\n",
       "      <td>90</td>\n",
       "      <td>0</td>\n",
       "      <td>0</td>\n",
       "      <td>29.9</td>\n",
       "      <td>0.210</td>\n",
       "      <td>50</td>\n",
       "    </tr>\n",
       "  </tbody>\n",
       "</table>\n",
       "</div>"
      ],
      "text/plain": [
       "   pregnancies  glucose  bloodpressure  skinthickness  insulin   bmi  \\\n",
       "0            6       98             58             33      190  34.0   \n",
       "1            2      112             75             32        0  35.7   \n",
       "2            2      108             64              0        0  30.8   \n",
       "3            8      107             80              0        0  24.6   \n",
       "4            7      136             90              0        0  29.9   \n",
       "\n",
       "   diabetespedigreefunction  age  \n",
       "0                     0.430   43  \n",
       "1                     0.148   21  \n",
       "2                     0.158   21  \n",
       "3                     0.856   34  \n",
       "4                     0.210   50  "
      ]
     },
     "execution_count": 17,
     "metadata": {},
     "output_type": "execute_result"
    }
   ],
   "source": [
    "df_test.head()"
   ]
  },
  {
   "cell_type": "code",
   "execution_count": 18,
   "id": "9eb90c79",
   "metadata": {},
   "outputs": [
    {
     "data": {
      "text/html": [
       "<div>\n",
       "<style scoped>\n",
       "    .dataframe tbody tr th:only-of-type {\n",
       "        vertical-align: middle;\n",
       "    }\n",
       "\n",
       "    .dataframe tbody tr th {\n",
       "        vertical-align: top;\n",
       "    }\n",
       "\n",
       "    .dataframe thead th {\n",
       "        text-align: right;\n",
       "    }\n",
       "</style>\n",
       "<table border=\"1\" class=\"dataframe\">\n",
       "  <thead>\n",
       "    <tr style=\"text-align: right;\">\n",
       "      <th></th>\n",
       "      <th>pregnancies</th>\n",
       "      <th>glucose</th>\n",
       "      <th>bloodpressure</th>\n",
       "      <th>skinthickness</th>\n",
       "      <th>insulin</th>\n",
       "      <th>bmi</th>\n",
       "      <th>diabetespedigreefunction</th>\n",
       "      <th>age</th>\n",
       "    </tr>\n",
       "  </thead>\n",
       "  <tbody>\n",
       "    <tr>\n",
       "      <th>0</th>\n",
       "      <td>2</td>\n",
       "      <td>84</td>\n",
       "      <td>0</td>\n",
       "      <td>0</td>\n",
       "      <td>0</td>\n",
       "      <td>0.0</td>\n",
       "      <td>0.304</td>\n",
       "      <td>21</td>\n",
       "    </tr>\n",
       "    <tr>\n",
       "      <th>1</th>\n",
       "      <td>9</td>\n",
       "      <td>112</td>\n",
       "      <td>82</td>\n",
       "      <td>24</td>\n",
       "      <td>0</td>\n",
       "      <td>28.2</td>\n",
       "      <td>1.282</td>\n",
       "      <td>50</td>\n",
       "    </tr>\n",
       "    <tr>\n",
       "      <th>2</th>\n",
       "      <td>1</td>\n",
       "      <td>139</td>\n",
       "      <td>46</td>\n",
       "      <td>19</td>\n",
       "      <td>83</td>\n",
       "      <td>28.7</td>\n",
       "      <td>0.654</td>\n",
       "      <td>22</td>\n",
       "    </tr>\n",
       "    <tr>\n",
       "      <th>3</th>\n",
       "      <td>0</td>\n",
       "      <td>161</td>\n",
       "      <td>50</td>\n",
       "      <td>0</td>\n",
       "      <td>0</td>\n",
       "      <td>21.9</td>\n",
       "      <td>0.254</td>\n",
       "      <td>65</td>\n",
       "    </tr>\n",
       "    <tr>\n",
       "      <th>4</th>\n",
       "      <td>6</td>\n",
       "      <td>134</td>\n",
       "      <td>80</td>\n",
       "      <td>37</td>\n",
       "      <td>370</td>\n",
       "      <td>46.2</td>\n",
       "      <td>0.238</td>\n",
       "      <td>46</td>\n",
       "    </tr>\n",
       "  </tbody>\n",
       "</table>\n",
       "</div>"
      ],
      "text/plain": [
       "   pregnancies  glucose  bloodpressure  skinthickness  insulin   bmi  \\\n",
       "0            2       84              0              0        0   0.0   \n",
       "1            9      112             82             24        0  28.2   \n",
       "2            1      139             46             19       83  28.7   \n",
       "3            0      161             50              0        0  21.9   \n",
       "4            6      134             80             37      370  46.2   \n",
       "\n",
       "   diabetespedigreefunction  age  \n",
       "0                     0.304   21  \n",
       "1                     1.282   50  \n",
       "2                     0.654   22  \n",
       "3                     0.254   65  \n",
       "4                     0.238   46  "
      ]
     },
     "execution_count": 18,
     "metadata": {},
     "output_type": "execute_result"
    }
   ],
   "source": [
    "df_train.head()"
   ]
  },
  {
   "cell_type": "code",
   "execution_count": 19,
   "id": "a9af33cb",
   "metadata": {},
   "outputs": [
    {
     "data": {
      "text/plain": [
       "{'depth': 4,\n",
       " 'learning_rate': 0.0517580228923669,\n",
       " 'iterations': 184,\n",
       " 'l2_leaf_reg': 0.07973165549227099,\n",
       " 'bagging_temperature': 0.15292750595871435,\n",
       " 'random_strength': 0.0002482703621761438,\n",
       " 'eval_metric': 'F1',\n",
       " 'loss_function': 'Logloss',\n",
       " 'feature_columns': ['pregnancies',\n",
       "  'glucose',\n",
       "  'bloodpressure',\n",
       "  'skinthickness',\n",
       "  'insulin',\n",
       "  'bmi',\n",
       "  'diabetespedigreefunction',\n",
       "  'age'],\n",
       " 'ignored_features': [0]}"
      ]
     },
     "metadata": {},
     "output_type": "display_data"
    },
    {
     "data": {
      "image/png": "[encoded data removed]",
      "text/plain": [
       "<Figure size 800x470 with 2 Axes>"
      ]
     },
     "metadata": {},
     "output_type": "display_data"
    }
   ],
   "source": [
    "from ARISA_DSML.predict import predict\n",
    "from catboost import CatBoostClassifier\n",
    "\n",
    "params = joblib.load(model_params_path)\n",
    "display(params)\n",
    "from_file = CatBoostClassifier()\n",
    "model = from_file.load_model(str(model_path))\n",
    "preds_path = predict(model, df_test, params)"
   ]
  },
  {
   "cell_type": "code",
   "execution_count": null,
   "id": "e93fbd8c",
   "metadata": {},
   "outputs": [],
   "source": []
  }
 ],
 "metadata": {
  "kernelspec": {
   "display_name": "Python 3",
   "language": "python",
   "name": "python3"
  },
  "language_info": {
   "codemirror_mode": {
    "name": "ipython",
    "version": 3
   },
   "file_extension": ".py",
   "mimetype": "text/x-python",
   "name": "python",
   "nbconvert_exporter": "python",
   "pygments_lexer": "ipython3",
   "version": "3.11.9"
  }
 },
 "nbformat": 4,
 "nbformat_minor": 5
}
