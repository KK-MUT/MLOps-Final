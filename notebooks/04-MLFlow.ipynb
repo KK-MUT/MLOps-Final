{
 "cells": [
  {
   "cell_type": "code",
   "execution_count": 1,
   "id": "1e94e1e6",
   "metadata": {},
   "outputs": [],
   "source": [
    "import os\n",
    "from pathlib import Path\n",
    "container_check = os.getenv(\"iscontainer\")\n",
    "if container_check==\"y\":\n",
    "    config_dir = Path(\"/home/vscode/.config/kaggle\")\n",
    "    config_dir.mkdir(parents=True, exist_ok=True)\n",
    "\n",
    "    with open(config_dir / \"kaggle.json\", \"w\") as dst:\n",
    "        with open(\"../kaggle.json\", \"r\") as src:\n",
    "            dst.write(src.read())"
   ]
  },
  {
   "cell_type": "code",
   "execution_count": 19,
   "id": "a036419c",
   "metadata": {},
   "outputs": [],
   "source": [
    "import os\n",
    "import sys\n",
    "\n",
    "sys.path.append(os.path.abspath(\"..\"))\n",
    "\n",
    "from ARISA_DSML.config import RAW_DATA_DIR, CSV_NAME, MODEL_NAME, target\n",
    "from ARISA_DSML.preproc import get_raw_data"
   ]
  },
  {
   "cell_type": "code",
   "execution_count": 3,
   "id": "5a872e8d",
   "metadata": {},
   "outputs": [
    {
     "data": {
      "text/plain": [
       "'68f5a4f7c8986003e3b00e5fb2e36490a03ce956'"
      ]
     },
     "execution_count": 3,
     "metadata": {},
     "output_type": "execute_result"
    }
   ],
   "source": [
    "from ARISA_DSML.helpers import get_active_branch_name, get_git_commit_hash\n",
    "\n",
    "get_active_branch_name(\"..\")  # need \"..\" because we are not in root\n",
    "get_git_commit_hash()"
   ]
  },
  {
   "cell_type": "code",
   "execution_count": 4,
   "id": "31731c27",
   "metadata": {},
   "outputs": [
    {
     "name": "stderr",
     "output_type": "stream",
     "text": [
      "\u001b[32m2025-05-07 21:29:47.676\u001b[0m | \u001b[1mINFO    \u001b[0m | \u001b[36mARISA_DSML.preproc\u001b[0m:\u001b[36mget_raw_data\u001b[0m:\u001b[36m21\u001b[0m - \u001b[1mDownloading dataset shahnawaj9/diabetes-database to C:\\Users\\Wojciech\\Documents\\WWSI\\ARISA-MLOps-Assignment-KK\\data\\raw\u001b[0m\n"
     ]
    },
    {
     "name": "stdout",
     "output_type": "stream",
     "text": [
      "Dataset URL: https://www.kaggle.com/datasets/shahnawaj9/diabetes-database\n"
     ]
    },
    {
     "name": "stderr",
     "output_type": "stream",
     "text": [
      "\u001b[32m2025-05-07 21:29:48.172\u001b[0m | \u001b[1mINFO    \u001b[0m | \u001b[36mARISA_DSML.preproc\u001b[0m:\u001b[36mget_raw_data\u001b[0m:\u001b[36m24\u001b[0m - \u001b[1mDownload complete.\u001b[0m\n"
     ]
    },
    {
     "name": "stdout",
     "output_type": "stream",
     "text": [
      " Volume in drive C has no label.\n",
      " Volume Serial Number is D0EF-588E\n",
      "\n",
      " Directory of C:\\Users\\Wojciech\\Documents\\WWSI\\ARISA-MLOps-Assignment-KK\\data\\raw\n",
      "\n",
      "07.05.2025  21:29    <DIR>          .\n",
      "07.05.2025  21:29    <DIR>          ..\n",
      "07.05.2025  21:29            23�873 diabetes.csv\n",
      "07.05.2025  21:29            23�290 diabetes_Dataset_cleaned.csv\n",
      "               2 File(s)         47�163 bytes\n",
      "               2 Dir(s)  110�649�307�136 bytes free\n"
     ]
    }
   ],
   "source": [
    "get_raw_data()\n",
    "!dir \"{RAW_DATA_DIR}\""
   ]
  },
  {
   "cell_type": "code",
   "execution_count": 7,
   "id": "aec1cb7e",
   "metadata": {},
   "outputs": [
    {
     "name": "stderr",
     "output_type": "stream",
     "text": [
      "\u001b[32m2025-05-07 21:31:08.132\u001b[0m | \u001b[1mINFO    \u001b[0m | \u001b[36mARISA_DSML.preproc\u001b[0m:\u001b[36mpreprocess_df\u001b[0m:\u001b[36m59\u001b[0m - \u001b[1mTrain saved to C:\\Users\\Wojciech\\Documents\\WWSI\\ARISA-MLOps-Assignment-KK\\data\\processed\\train.csv, Test saved to C:\\Users\\Wojciech\\Documents\\WWSI\\ARISA-MLOps-Assignment-KK\\data\\processed\\test.csv\u001b[0m\n"
     ]
    }
   ],
   "source": [
    "from ARISA_DSML.preproc import preprocess_df\n",
    "\n",
    "train_path, test_path = preprocess_df(RAW_DATA_DIR / CSV_NAME)"
   ]
  },
  {
   "cell_type": "code",
   "execution_count": 8,
   "id": "a08fdff8",
   "metadata": {},
   "outputs": [
    {
     "name": "stdout",
     "output_type": "stream",
     "text": [
      "<class 'pandas.core.frame.DataFrame'>\n",
      "RangeIndex: 614 entries, 0 to 613\n",
      "Data columns (total 9 columns):\n",
      " #   Column                    Non-Null Count  Dtype  \n",
      "---  ------                    --------------  -----  \n",
      " 0   pregnancies               614 non-null    int64  \n",
      " 1   glucose                   614 non-null    int64  \n",
      " 2   bloodpressure             614 non-null    int64  \n",
      " 3   skinthickness             614 non-null    int64  \n",
      " 4   insulin                   614 non-null    int64  \n",
      " 5   bmi                       614 non-null    float64\n",
      " 6   diabetespedigreefunction  614 non-null    float64\n",
      " 7   age                       614 non-null    int64  \n",
      " 8   outcome                   614 non-null    int64  \n",
      "dtypes: float64(2), int64(7)\n",
      "memory usage: 43.3 KB\n"
     ]
    }
   ],
   "source": [
    "import pandas as pd\n",
    "df_train = pd.read_csv(train_path)\n",
    "df_train.info()"
   ]
  },
  {
   "cell_type": "code",
   "execution_count": 9,
   "id": "5139ca25",
   "metadata": {},
   "outputs": [],
   "source": [
    "y_train = df_train.pop(target)\n",
    "X_train = df_train"
   ]
  },
  {
   "cell_type": "code",
   "execution_count": 11,
   "id": "13d28bec",
   "metadata": {},
   "outputs": [
    {
     "name": "stderr",
     "output_type": "stream",
     "text": [
      "\u001b[32m2025-05-07 21:35:46.984\u001b[0m | \u001b[1mINFO    \u001b[0m | \u001b[36mARISA_DSML.train\u001b[0m:\u001b[36mrun_hyperopt\u001b[0m:\u001b[36m71\u001b[0m - \u001b[1mBest Parameters: {'depth': 6, 'learning_rate': 0.2997467303248517, 'iterations': 258, 'l2_leaf_reg': 29.31565918827504, 'bagging_temperature': 0.5200854166591251, 'random_strength': 0.0057443330613406365}\u001b[0m\n"
     ]
    }
   ],
   "source": [
    "import mlflow\n",
    "from ARISA_DSML.train import run_hyperopt, get_or_create_experiment\n",
    "\n",
    "mlflow.set_tracking_uri(f\"http://127.0.0.1:5000\")\n",
    "\n",
    "experiment_id = get_or_create_experiment(\"diabetes_hyperparam_tuning\")\n",
    "mlflow.set_experiment(experiment_id=experiment_id)\n",
    "best_params_path = run_hyperopt(X_train, y_train)"
   ]
  },
  {
   "cell_type": "code",
   "execution_count": 12,
   "id": "1fcdaef1",
   "metadata": {},
   "outputs": [
    {
     "data": {
      "application/vnd.jupyter.widget-view+json": {
       "model_id": "d9ff952e840d481b9530464e2cb7b09a",
       "version_major": 2,
       "version_minor": 0
      },
      "text/plain": [
       "MetricVisualizer(layout=Layout(align_self='stretch', height='500px'))"
      ]
     },
     "metadata": {},
     "output_type": "display_data"
    },
    {
     "name": "stdout",
     "output_type": "stream",
     "text": [
      "Training on fold [0/5]\n",
      "0:\tlearn: 0.6948640\ttest: 0.7126437\tbest: 0.7126437 (0)\ttotal: 149ms\tremaining: 38.2s\n",
      "1:\tlearn: 0.7084639\ttest: 0.6666667\tbest: 0.7126437 (0)\ttotal: 150ms\tremaining: 19.2s\n",
      "2:\tlearn: 0.7378049\ttest: 0.7228916\tbest: 0.7228916 (2)\ttotal: 152ms\tremaining: 12.9s\n",
      "3:\tlearn: 0.7324841\ttest: 0.6493506\tbest: 0.7228916 (2)\ttotal: 153ms\tremaining: 9.7s\n",
      "4:\tlearn: 0.7515924\ttest: 0.6493506\tbest: 0.7228916 (2)\ttotal: 154ms\tremaining: 7.8s\n",
      "5:\tlearn: 0.7483871\ttest: 0.6400000\tbest: 0.7228916 (2)\ttotal: 155ms\tremaining: 6.52s\n",
      "6:\tlearn: 0.7721519\ttest: 0.6400000\tbest: 0.7228916 (2)\ttotal: 157ms\tremaining: 5.61s\n",
      "7:\tlearn: 0.7731629\ttest: 0.6329114\tbest: 0.7228916 (2)\ttotal: 158ms\tremaining: 4.93s\n",
      "8:\tlearn: 0.7848101\ttest: 0.6329114\tbest: 0.7228916 (2)\ttotal: 159ms\tremaining: 4.4s\n",
      "9:\tlearn: 0.7934426\ttest: 0.6153846\tbest: 0.7228916 (2)\ttotal: 160ms\tremaining: 3.97s\n",
      "10:\tlearn: 0.7934426\ttest: 0.6153846\tbest: 0.7228916 (2)\ttotal: 161ms\tremaining: 3.63s\n",
      "11:\tlearn: 0.8013029\ttest: 0.6329114\tbest: 0.7228916 (2)\ttotal: 163ms\tremaining: 3.33s\n",
      "12:\tlearn: 0.7973856\ttest: 0.6329114\tbest: 0.7228916 (2)\ttotal: 164ms\tremaining: 3.09s\n",
      "13:\tlearn: 0.8013029\ttest: 0.6329114\tbest: 0.7228916 (2)\ttotal: 165ms\tremaining: 2.88s\n",
      "14:\tlearn: 0.8231511\ttest: 0.6500000\tbest: 0.7228916 (2)\ttotal: 167ms\tremaining: 2.7s\n",
      "15:\tlearn: 0.8269231\ttest: 0.6582278\tbest: 0.7228916 (2)\ttotal: 168ms\tremaining: 2.54s\n",
      "16:\tlearn: 0.8454259\ttest: 0.6582278\tbest: 0.7228916 (2)\ttotal: 169ms\tremaining: 2.4s\n",
      "17:\tlearn: 0.8500000\ttest: 0.6582278\tbest: 0.7228916 (2)\ttotal: 170ms\tremaining: 2.27s\n",
      "18:\tlearn: 0.8562500\ttest: 0.6582278\tbest: 0.7228916 (2)\ttotal: 172ms\tremaining: 2.16s\n",
      "19:\tlearn: 0.8616352\ttest: 0.6582278\tbest: 0.7228916 (2)\ttotal: 173ms\tremaining: 2.06s\n",
      "20:\tlearn: 0.8652038\ttest: 0.6582278\tbest: 0.7228916 (2)\ttotal: 174ms\tremaining: 1.97s\n",
      "21:\tlearn: 0.8660436\ttest: 0.6500000\tbest: 0.7228916 (2)\ttotal: 176ms\tremaining: 1.88s\n",
      "22:\tlearn: 0.8819876\ttest: 0.6666667\tbest: 0.7228916 (2)\ttotal: 177ms\tremaining: 1.81s\n",
      "23:\tlearn: 0.8854489\ttest: 0.6666667\tbest: 0.7228916 (2)\ttotal: 178ms\tremaining: 1.74s\n",
      "24:\tlearn: 0.8854489\ttest: 0.6666667\tbest: 0.7228916 (2)\ttotal: 181ms\tremaining: 1.69s\n",
      "25:\tlearn: 0.8881988\ttest: 0.6666667\tbest: 0.7228916 (2)\ttotal: 182ms\tremaining: 1.63s\n",
      "26:\tlearn: 0.8881988\ttest: 0.6666667\tbest: 0.7228916 (2)\ttotal: 184ms\tremaining: 1.57s\n",
      "27:\tlearn: 0.8875000\ttest: 0.6750000\tbest: 0.7228916 (2)\ttotal: 185ms\tremaining: 1.52s\n",
      "28:\tlearn: 0.8875000\ttest: 0.6750000\tbest: 0.7228916 (2)\ttotal: 186ms\tremaining: 1.47s\n",
      "29:\tlearn: 0.8902821\ttest: 0.6750000\tbest: 0.7228916 (2)\ttotal: 187ms\tremaining: 1.42s\n",
      "30:\tlearn: 0.8875000\ttest: 0.6750000\tbest: 0.7228916 (2)\ttotal: 188ms\tremaining: 1.38s\n",
      "31:\tlearn: 0.8875000\ttest: 0.6750000\tbest: 0.7228916 (2)\ttotal: 189ms\tremaining: 1.34s\n",
      "32:\tlearn: 0.8875000\ttest: 0.6750000\tbest: 0.7228916 (2)\ttotal: 191ms\tremaining: 1.3s\n",
      "33:\tlearn: 0.8875000\ttest: 0.6750000\tbest: 0.7228916 (2)\ttotal: 192ms\tremaining: 1.26s\n",
      "34:\tlearn: 0.8875000\ttest: 0.6750000\tbest: 0.7228916 (2)\ttotal: 193ms\tremaining: 1.23s\n",
      "35:\tlearn: 0.8965517\ttest: 0.6750000\tbest: 0.7228916 (2)\ttotal: 194ms\tremaining: 1.2s\n",
      "36:\tlearn: 0.8965517\ttest: 0.6750000\tbest: 0.7228916 (2)\ttotal: 195ms\tremaining: 1.17s\n",
      "37:\tlearn: 0.8965517\ttest: 0.6582278\tbest: 0.7228916 (2)\ttotal: 197ms\tremaining: 1.14s\n",
      "38:\tlearn: 0.9056604\ttest: 0.6750000\tbest: 0.7228916 (2)\ttotal: 198ms\tremaining: 1.11s\n",
      "39:\tlearn: 0.9056604\ttest: 0.6582278\tbest: 0.7228916 (2)\ttotal: 199ms\tremaining: 1.08s\n",
      "40:\tlearn: 0.9125000\ttest: 0.6410256\tbest: 0.7228916 (2)\ttotal: 201ms\tremaining: 1.06s\n",
      "41:\tlearn: 0.9221184\ttest: 0.6410256\tbest: 0.7228916 (2)\ttotal: 202ms\tremaining: 1.04s\n",
      "42:\tlearn: 0.9192547\ttest: 0.6410256\tbest: 0.7228916 (2)\ttotal: 203ms\tremaining: 1.01s\n",
      "43:\tlearn: 0.9221184\ttest: 0.6410256\tbest: 0.7228916 (2)\ttotal: 204ms\tremaining: 993ms\n",
      "44:\tlearn: 0.9221184\ttest: 0.6410256\tbest: 0.7228916 (2)\ttotal: 205ms\tremaining: 972ms\n",
      "45:\tlearn: 0.9320988\ttest: 0.6582278\tbest: 0.7228916 (2)\ttotal: 206ms\tremaining: 951ms\n",
      "46:\tlearn: 0.9320988\ttest: 0.6750000\tbest: 0.7228916 (2)\ttotal: 208ms\tremaining: 932ms\n",
      "47:\tlearn: 0.9418960\ttest: 0.6750000\tbest: 0.7228916 (2)\ttotal: 209ms\tremaining: 914ms\n",
      "48:\tlearn: 0.9418960\ttest: 0.6750000\tbest: 0.7228916 (2)\ttotal: 211ms\tremaining: 900ms\n",
      "49:\tlearn: 0.9451220\ttest: 0.6750000\tbest: 0.7228916 (2)\ttotal: 212ms\tremaining: 883ms\n",
      "50:\tlearn: 0.9483283\ttest: 0.6913580\tbest: 0.7228916 (2)\ttotal: 213ms\tremaining: 867ms\n",
      "51:\tlearn: 0.9483283\ttest: 0.6913580\tbest: 0.7228916 (2)\ttotal: 215ms\tremaining: 852ms\n",
      "52:\tlearn: 0.9483283\ttest: 0.6750000\tbest: 0.7228916 (2)\ttotal: 218ms\tremaining: 843ms\n",
      "53:\tlearn: 0.9483283\ttest: 0.6750000\tbest: 0.7228916 (2)\ttotal: 219ms\tremaining: 828ms\n",
      "54:\tlearn: 0.9483283\ttest: 0.6750000\tbest: 0.7228916 (2)\ttotal: 221ms\tremaining: 816ms\n",
      "55:\tlearn: 0.9512195\ttest: 0.6913580\tbest: 0.7228916 (2)\ttotal: 224ms\tremaining: 810ms\n",
      "56:\tlearn: 0.9512195\ttest: 0.6913580\tbest: 0.7228916 (2)\ttotal: 226ms\tremaining: 798ms\n",
      "57:\tlearn: 0.9512195\ttest: 0.6913580\tbest: 0.7228916 (2)\ttotal: 228ms\tremaining: 787ms\n",
      "58:\tlearn: 0.9512195\ttest: 0.6913580\tbest: 0.7228916 (2)\ttotal: 230ms\tremaining: 776ms\n",
      "59:\tlearn: 0.9512195\ttest: 0.6913580\tbest: 0.7228916 (2)\ttotal: 232ms\tremaining: 766ms\n",
      "60:\tlearn: 0.9544073\ttest: 0.6913580\tbest: 0.7228916 (2)\ttotal: 234ms\tremaining: 756ms\n",
      "61:\tlearn: 0.9575758\ttest: 0.7073171\tbest: 0.7228916 (2)\ttotal: 235ms\tremaining: 743ms\n",
      "62:\tlearn: 0.9636364\ttest: 0.7228916\tbest: 0.7228916 (2)\ttotal: 237ms\tremaining: 732ms\n",
      "63:\tlearn: 0.9636364\ttest: 0.7228916\tbest: 0.7228916 (2)\ttotal: 238ms\tremaining: 721ms\n",
      "64:\tlearn: 0.9636364\ttest: 0.7228916\tbest: 0.7228916 (2)\ttotal: 239ms\tremaining: 709ms\n",
      "65:\tlearn: 0.9636364\ttest: 0.7228916\tbest: 0.7228916 (2)\ttotal: 240ms\tremaining: 698ms\n",
      "66:\tlearn: 0.9607251\ttest: 0.7228916\tbest: 0.7228916 (2)\ttotal: 241ms\tremaining: 687ms\n",
      "67:\tlearn: 0.9636364\ttest: 0.7228916\tbest: 0.7228916 (2)\ttotal: 244ms\tremaining: 681ms\n",
      "68:\tlearn: 0.9636364\ttest: 0.7228916\tbest: 0.7228916 (2)\ttotal: 245ms\tremaining: 670ms\n",
      "69:\tlearn: 0.9636364\ttest: 0.7228916\tbest: 0.7228916 (2)\ttotal: 246ms\tremaining: 660ms\n",
      "70:\tlearn: 0.9667674\ttest: 0.7228916\tbest: 0.7228916 (2)\ttotal: 247ms\tremaining: 651ms\n",
      "71:\tlearn: 0.9667674\ttest: 0.7073171\tbest: 0.7228916 (2)\ttotal: 248ms\tremaining: 641ms\n",
      "72:\tlearn: 0.9667674\ttest: 0.7228916\tbest: 0.7228916 (2)\ttotal: 249ms\tremaining: 632ms\n",
      "73:\tlearn: 0.9667674\ttest: 0.7228916\tbest: 0.7228916 (2)\ttotal: 251ms\tremaining: 624ms\n",
      "74:\tlearn: 0.9698795\ttest: 0.7228916\tbest: 0.7228916 (2)\ttotal: 252ms\tremaining: 616ms\n",
      "75:\tlearn: 0.9698795\ttest: 0.7228916\tbest: 0.7228916 (2)\ttotal: 255ms\tremaining: 610ms\n",
      "76:\tlearn: 0.9698795\ttest: 0.7228916\tbest: 0.7228916 (2)\ttotal: 256ms\tremaining: 603ms\n",
      "77:\tlearn: 0.9698795\ttest: 0.7228916\tbest: 0.7228916 (2)\ttotal: 258ms\tremaining: 596ms\n",
      "78:\tlearn: 0.9698795\ttest: 0.7228916\tbest: 0.7228916 (2)\ttotal: 260ms\tremaining: 589ms\n",
      "79:\tlearn: 0.9698795\ttest: 0.7228916\tbest: 0.7228916 (2)\ttotal: 262ms\tremaining: 583ms\n",
      "80:\tlearn: 0.9698795\ttest: 0.7228916\tbest: 0.7228916 (2)\ttotal: 263ms\tremaining: 575ms\n",
      "81:\tlearn: 0.9698795\ttest: 0.7228916\tbest: 0.7228916 (2)\ttotal: 265ms\tremaining: 568ms\n",
      "82:\tlearn: 0.9760479\ttest: 0.7228916\tbest: 0.7228916 (2)\ttotal: 266ms\tremaining: 561ms\n",
      "83:\tlearn: 0.9760479\ttest: 0.7228916\tbest: 0.7228916 (2)\ttotal: 269ms\tremaining: 557ms\n",
      "84:\tlearn: 0.9791045\ttest: 0.7228916\tbest: 0.7228916 (2)\ttotal: 270ms\tremaining: 550ms\n",
      "85:\tlearn: 0.9729730\ttest: 0.7228916\tbest: 0.7228916 (2)\ttotal: 272ms\tremaining: 544ms\n",
      "86:\tlearn: 0.9729730\ttest: 0.7228916\tbest: 0.7228916 (2)\ttotal: 274ms\tremaining: 540ms\n",
      "87:\tlearn: 0.9729730\ttest: 0.7228916\tbest: 0.7228916 (2)\ttotal: 276ms\tremaining: 534ms\n",
      "88:\tlearn: 0.9729730\ttest: 0.7228916\tbest: 0.7228916 (2)\ttotal: 278ms\tremaining: 528ms\n",
      "89:\tlearn: 0.9729730\ttest: 0.7228916\tbest: 0.7228916 (2)\ttotal: 280ms\tremaining: 523ms\n",
      "90:\tlearn: 0.9759036\ttest: 0.7228916\tbest: 0.7228916 (2)\ttotal: 282ms\tremaining: 517ms\n",
      "91:\tlearn: 0.9789790\ttest: 0.7228916\tbest: 0.7228916 (2)\ttotal: 283ms\tremaining: 511ms\n",
      "92:\tlearn: 0.9789790\ttest: 0.7228916\tbest: 0.7228916 (2)\ttotal: 285ms\tremaining: 506ms\n",
      "93:\tlearn: 0.9759036\ttest: 0.7228916\tbest: 0.7228916 (2)\ttotal: 288ms\tremaining: 502ms\n",
      "94:\tlearn: 0.9759036\ttest: 0.7228916\tbest: 0.7228916 (2)\ttotal: 290ms\tremaining: 497ms\n",
      "95:\tlearn: 0.9759036\ttest: 0.7228916\tbest: 0.7228916 (2)\ttotal: 291ms\tremaining: 492ms\n",
      "96:\tlearn: 0.9820359\ttest: 0.7228916\tbest: 0.7228916 (2)\ttotal: 294ms\tremaining: 487ms\n",
      "97:\tlearn: 0.9820359\ttest: 0.7228916\tbest: 0.7228916 (2)\ttotal: 296ms\tremaining: 483ms\n",
      "98:\tlearn: 0.9820359\ttest: 0.7228916\tbest: 0.7228916 (2)\ttotal: 297ms\tremaining: 477ms\n",
      "99:\tlearn: 0.9820359\ttest: 0.7228916\tbest: 0.7228916 (2)\ttotal: 301ms\tremaining: 475ms\n",
      "100:\tlearn: 0.9850746\ttest: 0.7228916\tbest: 0.7228916 (2)\ttotal: 303ms\tremaining: 471ms\n",
      "101:\tlearn: 0.9820359\ttest: 0.7228916\tbest: 0.7228916 (2)\ttotal: 306ms\tremaining: 469ms\n",
      "102:\tlearn: 0.9820359\ttest: 0.7228916\tbest: 0.7228916 (2)\ttotal: 309ms\tremaining: 466ms\n",
      "103:\tlearn: 0.9880952\ttest: 0.7073171\tbest: 0.7228916 (2)\ttotal: 312ms\tremaining: 462ms\n",
      "104:\tlearn: 0.9880952\ttest: 0.7073171\tbest: 0.7228916 (2)\ttotal: 314ms\tremaining: 458ms\n",
      "105:\tlearn: 0.9880952\ttest: 0.7073171\tbest: 0.7228916 (2)\ttotal: 316ms\tremaining: 453ms\n",
      "106:\tlearn: 0.9880952\ttest: 0.7073171\tbest: 0.7228916 (2)\ttotal: 319ms\tremaining: 450ms\n",
      "107:\tlearn: 0.9850746\ttest: 0.7073171\tbest: 0.7228916 (2)\ttotal: 321ms\tremaining: 446ms\n",
      "108:\tlearn: 0.9850746\ttest: 0.7073171\tbest: 0.7228916 (2)\ttotal: 323ms\tremaining: 442ms\n",
      "109:\tlearn: 0.9850746\ttest: 0.7073171\tbest: 0.7228916 (2)\ttotal: 326ms\tremaining: 439ms\n",
      "110:\tlearn: 0.9880952\ttest: 0.7073171\tbest: 0.7228916 (2)\ttotal: 328ms\tremaining: 434ms\n",
      "111:\tlearn: 0.9880952\ttest: 0.7073171\tbest: 0.7228916 (2)\ttotal: 329ms\tremaining: 429ms\n",
      "112:\tlearn: 0.9880952\ttest: 0.7073171\tbest: 0.7228916 (2)\ttotal: 330ms\tremaining: 423ms\n",
      "113:\tlearn: 0.9880952\ttest: 0.7073171\tbest: 0.7228916 (2)\ttotal: 331ms\tremaining: 418ms\n",
      "114:\tlearn: 0.9880952\ttest: 0.7073171\tbest: 0.7228916 (2)\ttotal: 332ms\tremaining: 413ms\n",
      "115:\tlearn: 0.9910979\ttest: 0.7073171\tbest: 0.7228916 (2)\ttotal: 333ms\tremaining: 408ms\n",
      "116:\tlearn: 0.9910979\ttest: 0.7073171\tbest: 0.7228916 (2)\ttotal: 335ms\tremaining: 403ms\n",
      "117:\tlearn: 0.9940828\ttest: 0.7073171\tbest: 0.7228916 (2)\ttotal: 336ms\tremaining: 398ms\n",
      "118:\tlearn: 0.9940828\ttest: 0.7073171\tbest: 0.7228916 (2)\ttotal: 338ms\tremaining: 395ms\n",
      "119:\tlearn: 0.9940828\ttest: 0.7073171\tbest: 0.7228916 (2)\ttotal: 341ms\tremaining: 392ms\n",
      "120:\tlearn: 0.9940828\ttest: 0.6987952\tbest: 0.7228916 (2)\ttotal: 342ms\tremaining: 388ms\n",
      "121:\tlearn: 0.9940828\ttest: 0.6987952\tbest: 0.7228916 (2)\ttotal: 343ms\tremaining: 383ms\n",
      "122:\tlearn: 0.9940828\ttest: 0.6987952\tbest: 0.7228916 (2)\ttotal: 345ms\tremaining: 378ms\n",
      "123:\tlearn: 0.9940828\ttest: 0.6987952\tbest: 0.7228916 (2)\ttotal: 346ms\tremaining: 374ms\n",
      "124:\tlearn: 0.9940828\ttest: 0.6987952\tbest: 0.7228916 (2)\ttotal: 347ms\tremaining: 369ms\n",
      "125:\tlearn: 0.9940828\ttest: 0.6987952\tbest: 0.7228916 (2)\ttotal: 348ms\tremaining: 365ms\n",
      "126:\tlearn: 0.9940828\ttest: 0.6987952\tbest: 0.7228916 (2)\ttotal: 349ms\tremaining: 360ms\n",
      "127:\tlearn: 0.9940828\ttest: 0.6987952\tbest: 0.7228916 (2)\ttotal: 350ms\tremaining: 356ms\n",
      "128:\tlearn: 0.9940828\ttest: 0.6987952\tbest: 0.7228916 (2)\ttotal: 351ms\tremaining: 351ms\n",
      "129:\tlearn: 0.9940828\ttest: 0.6987952\tbest: 0.7228916 (2)\ttotal: 353ms\tremaining: 347ms\n",
      "130:\tlearn: 0.9940828\ttest: 0.6987952\tbest: 0.7228916 (2)\ttotal: 354ms\tremaining: 343ms\n",
      "131:\tlearn: 0.9940828\ttest: 0.6987952\tbest: 0.7228916 (2)\ttotal: 355ms\tremaining: 339ms\n",
      "132:\tlearn: 0.9940828\ttest: 0.7073171\tbest: 0.7228916 (2)\ttotal: 356ms\tremaining: 335ms\n",
      "133:\tlearn: 0.9940828\ttest: 0.7073171\tbest: 0.7228916 (2)\ttotal: 357ms\tremaining: 330ms\n",
      "134:\tlearn: 0.9940828\ttest: 0.7073171\tbest: 0.7228916 (2)\ttotal: 358ms\tremaining: 327ms\n",
      "135:\tlearn: 0.9940828\ttest: 0.7073171\tbest: 0.7228916 (2)\ttotal: 360ms\tremaining: 323ms\n",
      "136:\tlearn: 0.9940828\ttest: 0.7073171\tbest: 0.7228916 (2)\ttotal: 361ms\tremaining: 319ms\n",
      "137:\tlearn: 0.9940828\ttest: 0.7228916\tbest: 0.7228916 (2)\ttotal: 362ms\tremaining: 315ms\n",
      "138:\tlearn: 0.9940828\ttest: 0.7228916\tbest: 0.7228916 (2)\ttotal: 363ms\tremaining: 311ms\n",
      "139:\tlearn: 0.9940828\ttest: 0.7228916\tbest: 0.7228916 (2)\ttotal: 364ms\tremaining: 307ms\n",
      "140:\tlearn: 0.9940828\ttest: 0.7228916\tbest: 0.7228916 (2)\ttotal: 365ms\tremaining: 303ms\n",
      "141:\tlearn: 0.9940828\ttest: 0.7228916\tbest: 0.7228916 (2)\ttotal: 366ms\tremaining: 299ms\n",
      "142:\tlearn: 0.9940828\ttest: 0.7228916\tbest: 0.7228916 (2)\ttotal: 368ms\tremaining: 296ms\n",
      "143:\tlearn: 0.9940828\ttest: 0.7228916\tbest: 0.7228916 (2)\ttotal: 369ms\tremaining: 292ms\n",
      "144:\tlearn: 0.9940828\ttest: 0.7228916\tbest: 0.7228916 (2)\ttotal: 370ms\tremaining: 288ms\n",
      "145:\tlearn: 0.9940828\ttest: 0.7228916\tbest: 0.7228916 (2)\ttotal: 371ms\tremaining: 285ms\n",
      "146:\tlearn: 0.9970501\ttest: 0.7228916\tbest: 0.7228916 (2)\ttotal: 372ms\tremaining: 281ms\n",
      "147:\tlearn: 0.9970501\ttest: 0.7228916\tbest: 0.7228916 (2)\ttotal: 373ms\tremaining: 278ms\n",
      "148:\tlearn: 0.9970501\ttest: 0.7142857\tbest: 0.7228916 (2)\ttotal: 375ms\tremaining: 274ms\n",
      "149:\tlearn: 0.9970501\ttest: 0.7142857\tbest: 0.7228916 (2)\ttotal: 376ms\tremaining: 271ms\n",
      "150:\tlearn: 0.9970501\ttest: 0.7228916\tbest: 0.7228916 (2)\ttotal: 377ms\tremaining: 267ms\n",
      "151:\tlearn: 0.9970501\ttest: 0.7228916\tbest: 0.7228916 (2)\ttotal: 378ms\tremaining: 264ms\n",
      "152:\tlearn: 0.9970501\ttest: 0.7228916\tbest: 0.7228916 (2)\ttotal: 379ms\tremaining: 260ms\n",
      "153:\tlearn: 0.9970501\ttest: 0.7228916\tbest: 0.7228916 (2)\ttotal: 380ms\tremaining: 257ms\n",
      "154:\tlearn: 0.9970501\ttest: 0.7142857\tbest: 0.7228916 (2)\ttotal: 382ms\tremaining: 254ms\n",
      "155:\tlearn: 0.9970501\ttest: 0.7228916\tbest: 0.7228916 (2)\ttotal: 384ms\tremaining: 251ms\n",
      "156:\tlearn: 0.9970501\ttest: 0.7228916\tbest: 0.7228916 (2)\ttotal: 385ms\tremaining: 248ms\n",
      "157:\tlearn: 0.9970501\ttest: 0.7228916\tbest: 0.7228916 (2)\ttotal: 386ms\tremaining: 244ms\n",
      "158:\tlearn: 0.9970501\ttest: 0.7142857\tbest: 0.7228916 (2)\ttotal: 387ms\tremaining: 241ms\n",
      "159:\tlearn: 0.9970501\ttest: 0.7228916\tbest: 0.7228916 (2)\ttotal: 388ms\tremaining: 238ms\n",
      "160:\tlearn: 0.9970501\ttest: 0.7228916\tbest: 0.7228916 (2)\ttotal: 390ms\tremaining: 235ms\n",
      "161:\tlearn: 0.9970501\ttest: 0.7228916\tbest: 0.7228916 (2)\ttotal: 391ms\tremaining: 232ms\n",
      "162:\tlearn: 0.9970501\ttest: 0.7228916\tbest: 0.7228916 (2)\ttotal: 392ms\tremaining: 228ms\n",
      "163:\tlearn: 0.9970501\ttest: 0.7142857\tbest: 0.7228916 (2)\ttotal: 393ms\tremaining: 225ms\n",
      "164:\tlearn: 0.9970501\ttest: 0.7142857\tbest: 0.7228916 (2)\ttotal: 394ms\tremaining: 222ms\n",
      "165:\tlearn: 0.9970501\ttest: 0.7142857\tbest: 0.7228916 (2)\ttotal: 395ms\tremaining: 219ms\n",
      "166:\tlearn: 0.9970501\ttest: 0.7142857\tbest: 0.7228916 (2)\ttotal: 397ms\tremaining: 216ms\n",
      "167:\tlearn: 0.9970501\ttest: 0.7142857\tbest: 0.7228916 (2)\ttotal: 398ms\tremaining: 213ms\n",
      "168:\tlearn: 0.9970501\ttest: 0.7228916\tbest: 0.7228916 (2)\ttotal: 399ms\tremaining: 210ms\n",
      "169:\tlearn: 0.9970501\ttest: 0.7228916\tbest: 0.7228916 (2)\ttotal: 400ms\tremaining: 207ms\n",
      "170:\tlearn: 0.9970501\ttest: 0.7228916\tbest: 0.7228916 (2)\ttotal: 402ms\tremaining: 204ms\n",
      "171:\tlearn: 0.9970501\ttest: 0.7228916\tbest: 0.7228916 (2)\ttotal: 404ms\tremaining: 202ms\n",
      "172:\tlearn: 0.9970501\ttest: 0.7228916\tbest: 0.7228916 (2)\ttotal: 405ms\tremaining: 199ms\n",
      "173:\tlearn: 0.9970501\ttest: 0.7228916\tbest: 0.7228916 (2)\ttotal: 408ms\tremaining: 197ms\n",
      "174:\tlearn: 0.9970501\ttest: 0.7228916\tbest: 0.7228916 (2)\ttotal: 409ms\tremaining: 194ms\n",
      "175:\tlearn: 1.0000000\ttest: 0.7228916\tbest: 0.7228916 (2)\ttotal: 410ms\tremaining: 191ms\n",
      "176:\tlearn: 1.0000000\ttest: 0.7228916\tbest: 0.7228916 (2)\ttotal: 412ms\tremaining: 188ms\n",
      "177:\tlearn: 1.0000000\ttest: 0.7228916\tbest: 0.7228916 (2)\ttotal: 416ms\tremaining: 187ms\n",
      "178:\tlearn: 1.0000000\ttest: 0.7228916\tbest: 0.7228916 (2)\ttotal: 418ms\tremaining: 185ms\n",
      "179:\tlearn: 1.0000000\ttest: 0.7228916\tbest: 0.7228916 (2)\ttotal: 421ms\tremaining: 182ms\n",
      "180:\tlearn: 1.0000000\ttest: 0.7228916\tbest: 0.7228916 (2)\ttotal: 422ms\tremaining: 180ms\n",
      "181:\tlearn: 1.0000000\ttest: 0.7228916\tbest: 0.7228916 (2)\ttotal: 424ms\tremaining: 177ms\n",
      "182:\tlearn: 1.0000000\ttest: 0.7228916\tbest: 0.7228916 (2)\ttotal: 428ms\tremaining: 175ms\n",
      "183:\tlearn: 1.0000000\ttest: 0.7228916\tbest: 0.7228916 (2)\ttotal: 431ms\tremaining: 173ms\n",
      "184:\tlearn: 1.0000000\ttest: 0.7228916\tbest: 0.7228916 (2)\ttotal: 433ms\tremaining: 171ms\n",
      "185:\tlearn: 1.0000000\ttest: 0.7228916\tbest: 0.7228916 (2)\ttotal: 435ms\tremaining: 168ms\n",
      "186:\tlearn: 1.0000000\ttest: 0.7228916\tbest: 0.7228916 (2)\ttotal: 436ms\tremaining: 166ms\n",
      "187:\tlearn: 1.0000000\ttest: 0.7228916\tbest: 0.7228916 (2)\ttotal: 437ms\tremaining: 163ms\n",
      "188:\tlearn: 1.0000000\ttest: 0.7228916\tbest: 0.7228916 (2)\ttotal: 438ms\tremaining: 160ms\n",
      "189:\tlearn: 1.0000000\ttest: 0.7228916\tbest: 0.7228916 (2)\ttotal: 440ms\tremaining: 157ms\n",
      "190:\tlearn: 1.0000000\ttest: 0.7228916\tbest: 0.7228916 (2)\ttotal: 441ms\tremaining: 155ms\n",
      "191:\tlearn: 1.0000000\ttest: 0.7228916\tbest: 0.7228916 (2)\ttotal: 442ms\tremaining: 152ms\n",
      "192:\tlearn: 1.0000000\ttest: 0.7228916\tbest: 0.7228916 (2)\ttotal: 443ms\tremaining: 149ms\n",
      "193:\tlearn: 1.0000000\ttest: 0.7228916\tbest: 0.7228916 (2)\ttotal: 445ms\tremaining: 147ms\n",
      "194:\tlearn: 1.0000000\ttest: 0.7228916\tbest: 0.7228916 (2)\ttotal: 446ms\tremaining: 144ms\n",
      "195:\tlearn: 1.0000000\ttest: 0.7228916\tbest: 0.7228916 (2)\ttotal: 447ms\tremaining: 141ms\n",
      "196:\tlearn: 1.0000000\ttest: 0.7228916\tbest: 0.7228916 (2)\ttotal: 448ms\tremaining: 139ms\n",
      "197:\tlearn: 1.0000000\ttest: 0.7228916\tbest: 0.7228916 (2)\ttotal: 450ms\tremaining: 136ms\n",
      "198:\tlearn: 1.0000000\ttest: 0.7228916\tbest: 0.7228916 (2)\ttotal: 451ms\tremaining: 134ms\n",
      "199:\tlearn: 1.0000000\ttest: 0.7228916\tbest: 0.7228916 (2)\ttotal: 452ms\tremaining: 131ms\n",
      "200:\tlearn: 1.0000000\ttest: 0.7228916\tbest: 0.7228916 (2)\ttotal: 453ms\tremaining: 128ms\n",
      "201:\tlearn: 1.0000000\ttest: 0.7228916\tbest: 0.7228916 (2)\ttotal: 454ms\tremaining: 126ms\n",
      "202:\tlearn: 1.0000000\ttest: 0.7228916\tbest: 0.7228916 (2)\ttotal: 455ms\tremaining: 123ms\n",
      "203:\tlearn: 1.0000000\ttest: 0.7228916\tbest: 0.7228916 (2)\ttotal: 457ms\tremaining: 121ms\n",
      "204:\tlearn: 1.0000000\ttest: 0.7228916\tbest: 0.7228916 (2)\ttotal: 458ms\tremaining: 118ms\n",
      "205:\tlearn: 1.0000000\ttest: 0.7228916\tbest: 0.7228916 (2)\ttotal: 459ms\tremaining: 116ms\n",
      "206:\tlearn: 1.0000000\ttest: 0.7228916\tbest: 0.7228916 (2)\ttotal: 461ms\tremaining: 113ms\n",
      "207:\tlearn: 1.0000000\ttest: 0.7228916\tbest: 0.7228916 (2)\ttotal: 462ms\tremaining: 111ms\n",
      "208:\tlearn: 1.0000000\ttest: 0.7228916\tbest: 0.7228916 (2)\ttotal: 463ms\tremaining: 109ms\n",
      "209:\tlearn: 1.0000000\ttest: 0.7228916\tbest: 0.7228916 (2)\ttotal: 464ms\tremaining: 106ms\n",
      "210:\tlearn: 1.0000000\ttest: 0.7228916\tbest: 0.7228916 (2)\ttotal: 465ms\tremaining: 104ms\n",
      "211:\tlearn: 1.0000000\ttest: 0.7228916\tbest: 0.7228916 (2)\ttotal: 467ms\tremaining: 101ms\n",
      "212:\tlearn: 1.0000000\ttest: 0.7228916\tbest: 0.7228916 (2)\ttotal: 468ms\tremaining: 98.8ms\n",
      "213:\tlearn: 1.0000000\ttest: 0.7228916\tbest: 0.7228916 (2)\ttotal: 469ms\tremaining: 96.4ms\n",
      "214:\tlearn: 1.0000000\ttest: 0.7228916\tbest: 0.7228916 (2)\ttotal: 470ms\tremaining: 94ms\n",
      "215:\tlearn: 1.0000000\ttest: 0.7228916\tbest: 0.7228916 (2)\ttotal: 471ms\tremaining: 91.6ms\n",
      "216:\tlearn: 1.0000000\ttest: 0.7228916\tbest: 0.7228916 (2)\ttotal: 472ms\tremaining: 89.3ms\n",
      "217:\tlearn: 1.0000000\ttest: 0.7228916\tbest: 0.7228916 (2)\ttotal: 474ms\tremaining: 86.9ms\n",
      "218:\tlearn: 1.0000000\ttest: 0.7228916\tbest: 0.7228916 (2)\ttotal: 475ms\tremaining: 84.6ms\n",
      "219:\tlearn: 1.0000000\ttest: 0.7228916\tbest: 0.7228916 (2)\ttotal: 476ms\tremaining: 82.3ms\n",
      "220:\tlearn: 1.0000000\ttest: 0.7228916\tbest: 0.7228916 (2)\ttotal: 477ms\tremaining: 79.9ms\n",
      "221:\tlearn: 1.0000000\ttest: 0.7228916\tbest: 0.7228916 (2)\ttotal: 479ms\tremaining: 77.6ms\n",
      "222:\tlearn: 1.0000000\ttest: 0.7228916\tbest: 0.7228916 (2)\ttotal: 480ms\tremaining: 75.3ms\n",
      "223:\tlearn: 1.0000000\ttest: 0.7228916\tbest: 0.7228916 (2)\ttotal: 481ms\tremaining: 73ms\n",
      "224:\tlearn: 1.0000000\ttest: 0.7228916\tbest: 0.7228916 (2)\ttotal: 482ms\tremaining: 70.7ms\n",
      "225:\tlearn: 1.0000000\ttest: 0.7228916\tbest: 0.7228916 (2)\ttotal: 483ms\tremaining: 68.4ms\n",
      "226:\tlearn: 1.0000000\ttest: 0.7228916\tbest: 0.7228916 (2)\ttotal: 485ms\tremaining: 66.2ms\n",
      "227:\tlearn: 1.0000000\ttest: 0.7228916\tbest: 0.7228916 (2)\ttotal: 486ms\tremaining: 63.9ms\n",
      "228:\tlearn: 1.0000000\ttest: 0.7228916\tbest: 0.7228916 (2)\ttotal: 487ms\tremaining: 61.7ms\n",
      "229:\tlearn: 1.0000000\ttest: 0.7228916\tbest: 0.7228916 (2)\ttotal: 488ms\tremaining: 59.4ms\n",
      "230:\tlearn: 1.0000000\ttest: 0.7228916\tbest: 0.7228916 (2)\ttotal: 489ms\tremaining: 57.2ms\n",
      "231:\tlearn: 1.0000000\ttest: 0.7228916\tbest: 0.7228916 (2)\ttotal: 491ms\tremaining: 55ms\n",
      "232:\tlearn: 1.0000000\ttest: 0.7228916\tbest: 0.7228916 (2)\ttotal: 492ms\tremaining: 52.8ms\n",
      "233:\tlearn: 1.0000000\ttest: 0.7228916\tbest: 0.7228916 (2)\ttotal: 493ms\tremaining: 50.6ms\n",
      "234:\tlearn: 1.0000000\ttest: 0.7228916\tbest: 0.7228916 (2)\ttotal: 494ms\tremaining: 48.4ms\n",
      "235:\tlearn: 1.0000000\ttest: 0.7228916\tbest: 0.7228916 (2)\ttotal: 496ms\tremaining: 46.2ms\n",
      "236:\tlearn: 1.0000000\ttest: 0.7228916\tbest: 0.7228916 (2)\ttotal: 497ms\tremaining: 44ms\n",
      "237:\tlearn: 1.0000000\ttest: 0.7228916\tbest: 0.7228916 (2)\ttotal: 498ms\tremaining: 41.8ms\n",
      "238:\tlearn: 1.0000000\ttest: 0.7228916\tbest: 0.7228916 (2)\ttotal: 499ms\tremaining: 39.7ms\n",
      "239:\tlearn: 1.0000000\ttest: 0.7228916\tbest: 0.7228916 (2)\ttotal: 500ms\tremaining: 37.5ms\n",
      "240:\tlearn: 1.0000000\ttest: 0.7228916\tbest: 0.7228916 (2)\ttotal: 502ms\tremaining: 35.4ms\n",
      "241:\tlearn: 1.0000000\ttest: 0.7228916\tbest: 0.7228916 (2)\ttotal: 503ms\tremaining: 33.2ms\n",
      "242:\tlearn: 1.0000000\ttest: 0.7228916\tbest: 0.7228916 (2)\ttotal: 504ms\tremaining: 31.1ms\n",
      "243:\tlearn: 1.0000000\ttest: 0.7228916\tbest: 0.7228916 (2)\ttotal: 505ms\tremaining: 29ms\n",
      "244:\tlearn: 1.0000000\ttest: 0.7228916\tbest: 0.7228916 (2)\ttotal: 507ms\tremaining: 26.9ms\n",
      "245:\tlearn: 1.0000000\ttest: 0.7228916\tbest: 0.7228916 (2)\ttotal: 509ms\tremaining: 24.8ms\n",
      "246:\tlearn: 1.0000000\ttest: 0.7228916\tbest: 0.7228916 (2)\ttotal: 511ms\tremaining: 22.7ms\n",
      "247:\tlearn: 1.0000000\ttest: 0.7228916\tbest: 0.7228916 (2)\ttotal: 512ms\tremaining: 20.7ms\n",
      "248:\tlearn: 1.0000000\ttest: 0.7228916\tbest: 0.7228916 (2)\ttotal: 514ms\tremaining: 18.6ms\n",
      "249:\tlearn: 1.0000000\ttest: 0.7228916\tbest: 0.7228916 (2)\ttotal: 515ms\tremaining: 16.5ms\n",
      "250:\tlearn: 1.0000000\ttest: 0.7228916\tbest: 0.7228916 (2)\ttotal: 516ms\tremaining: 14.4ms\n",
      "251:\tlearn: 1.0000000\ttest: 0.7228916\tbest: 0.7228916 (2)\ttotal: 517ms\tremaining: 12.3ms\n",
      "252:\tlearn: 1.0000000\ttest: 0.7228916\tbest: 0.7228916 (2)\ttotal: 519ms\tremaining: 10.3ms\n",
      "253:\tlearn: 1.0000000\ttest: 0.7228916\tbest: 0.7228916 (2)\ttotal: 520ms\tremaining: 8.19ms\n",
      "254:\tlearn: 1.0000000\ttest: 0.7228916\tbest: 0.7228916 (2)\ttotal: 522ms\tremaining: 6.14ms\n",
      "255:\tlearn: 1.0000000\ttest: 0.7228916\tbest: 0.7228916 (2)\ttotal: 523ms\tremaining: 4.08ms\n",
      "256:\tlearn: 1.0000000\ttest: 0.7228916\tbest: 0.7228916 (2)\ttotal: 525ms\tremaining: 2.04ms\n",
      "257:\tlearn: 1.0000000\ttest: 0.7228916\tbest: 0.7228916 (2)\ttotal: 526ms\tremaining: 0us\n",
      "\n",
      "bestTest = 0.7228915663\n",
      "bestIteration = 2\n",
      "\n",
      "Training on fold [1/5]\n",
      "0:\tlearn: 0.6930091\ttest: 0.5365854\tbest: 0.5365854 (0)\ttotal: 1.37ms\tremaining: 352ms\n",
      "1:\tlearn: 0.7550432\ttest: 0.6373626\tbest: 0.6373626 (1)\ttotal: 2.55ms\tremaining: 326ms\n",
      "2:\tlearn: 0.7378049\ttest: 0.6097561\tbest: 0.6373626 (1)\ttotal: 3.71ms\tremaining: 316ms\n",
      "3:\tlearn: 0.7391304\ttest: 0.5679012\tbest: 0.6373626 (1)\ttotal: 4.87ms\tremaining: 310ms\n",
      "4:\tlearn: 0.7368421\ttest: 0.5822785\tbest: 0.6373626 (1)\ttotal: 6.05ms\tremaining: 306ms\n",
      "5:\tlearn: 0.7388535\ttest: 0.6250000\tbest: 0.6373626 (1)\ttotal: 7.39ms\tremaining: 310ms\n",
      "6:\tlearn: 0.7721519\ttest: 0.5822785\tbest: 0.6373626 (1)\ttotal: 8.59ms\tremaining: 308ms\n",
      "7:\tlearn: 0.7899687\ttest: 0.5853659\tbest: 0.6373626 (1)\ttotal: 9.75ms\tremaining: 305ms\n",
      "8:\tlearn: 0.8000000\ttest: 0.5853659\tbest: 0.6373626 (1)\ttotal: 10.9ms\tremaining: 302ms\n",
      "9:\tlearn: 0.8187500\ttest: 0.5925926\tbest: 0.6373626 (1)\ttotal: 12.1ms\tremaining: 299ms\n",
      "10:\tlearn: 0.8328076\ttest: 0.5853659\tbest: 0.6373626 (1)\ttotal: 13.2ms\tremaining: 297ms\n",
      "11:\tlearn: 0.8427673\ttest: 0.5925926\tbest: 0.6373626 (1)\ttotal: 14.5ms\tremaining: 297ms\n",
      "12:\tlearn: 0.8411215\ttest: 0.5925926\tbest: 0.6373626 (1)\ttotal: 15.6ms\tremaining: 295ms\n",
      "13:\tlearn: 0.8580247\ttest: 0.5853659\tbest: 0.6373626 (1)\ttotal: 16.8ms\tremaining: 293ms\n",
      "14:\tlearn: 0.8571429\ttest: 0.6000000\tbest: 0.6373626 (1)\ttotal: 18ms\tremaining: 291ms\n",
      "15:\tlearn: 0.8571429\ttest: 0.6000000\tbest: 0.6373626 (1)\ttotal: 19.2ms\tremaining: 290ms\n",
      "16:\tlearn: 0.8571429\ttest: 0.6000000\tbest: 0.6373626 (1)\ttotal: 20.3ms\tremaining: 288ms\n",
      "17:\tlearn: 0.8571429\ttest: 0.6000000\tbest: 0.6373626 (1)\ttotal: 21.5ms\tremaining: 287ms\n",
      "18:\tlearn: 0.8571429\ttest: 0.6000000\tbest: 0.6373626 (1)\ttotal: 23.2ms\tremaining: 292ms\n",
      "19:\tlearn: 0.8738462\ttest: 0.5925926\tbest: 0.6373626 (1)\ttotal: 24.8ms\tremaining: 295ms\n",
      "20:\tlearn: 0.8730650\ttest: 0.5925926\tbest: 0.6373626 (1)\ttotal: 26ms\tremaining: 293ms\n",
      "21:\tlearn: 0.8888889\ttest: 0.5853659\tbest: 0.6373626 (1)\ttotal: 27.1ms\tremaining: 291ms\n",
      "22:\tlearn: 0.8923077\ttest: 0.6097561\tbest: 0.6373626 (1)\ttotal: 28.3ms\tremaining: 289ms\n",
      "23:\tlearn: 0.8923077\ttest: 0.6097561\tbest: 0.6373626 (1)\ttotal: 29.5ms\tremaining: 288ms\n",
      "24:\tlearn: 0.8888889\ttest: 0.6097561\tbest: 0.6373626 (1)\ttotal: 30.6ms\tremaining: 286ms\n",
      "25:\tlearn: 0.8957055\ttest: 0.5853659\tbest: 0.6373626 (1)\ttotal: 31.8ms\tremaining: 284ms\n",
      "26:\tlearn: 0.8957055\ttest: 0.5853659\tbest: 0.6373626 (1)\ttotal: 32.9ms\tremaining: 282ms\n",
      "27:\tlearn: 0.8957055\ttest: 0.5853659\tbest: 0.6373626 (1)\ttotal: 34.1ms\tremaining: 280ms\n",
      "28:\tlearn: 0.9244713\ttest: 0.5853659\tbest: 0.6373626 (1)\ttotal: 35.3ms\tremaining: 279ms\n",
      "29:\tlearn: 0.9277108\ttest: 0.5853659\tbest: 0.6373626 (1)\ttotal: 36.5ms\tremaining: 277ms\n",
      "30:\tlearn: 0.9277108\ttest: 0.5853659\tbest: 0.6373626 (1)\ttotal: 38.4ms\tremaining: 281ms\n",
      "31:\tlearn: 0.9305136\ttest: 0.5853659\tbest: 0.6373626 (1)\ttotal: 40.7ms\tremaining: 287ms\n",
      "32:\tlearn: 0.9333333\ttest: 0.5679012\tbest: 0.6373626 (1)\ttotal: 42ms\tremaining: 286ms\n",
      "33:\tlearn: 0.9489489\ttest: 0.5853659\tbest: 0.6373626 (1)\ttotal: 43.7ms\tremaining: 288ms\n",
      "34:\tlearn: 0.9520958\ttest: 0.5853659\tbest: 0.6373626 (1)\ttotal: 46ms\tremaining: 293ms\n",
      "35:\tlearn: 0.9520958\ttest: 0.5853659\tbest: 0.6373626 (1)\ttotal: 47.3ms\tremaining: 291ms\n",
      "36:\tlearn: 0.9520958\ttest: 0.5853659\tbest: 0.6373626 (1)\ttotal: 48.8ms\tremaining: 292ms\n",
      "37:\tlearn: 0.9520958\ttest: 0.5783133\tbest: 0.6373626 (1)\ttotal: 50.1ms\tremaining: 290ms\n",
      "38:\tlearn: 0.9552239\ttest: 0.5783133\tbest: 0.6373626 (1)\ttotal: 51.4ms\tremaining: 289ms\n",
      "39:\tlearn: 0.9580838\ttest: 0.5783133\tbest: 0.6373626 (1)\ttotal: 53.7ms\tremaining: 292ms\n",
      "40:\tlearn: 0.9611940\ttest: 0.5714286\tbest: 0.6373626 (1)\ttotal: 55.7ms\tremaining: 295ms\n",
      "41:\tlearn: 0.9611940\ttest: 0.5783133\tbest: 0.6373626 (1)\ttotal: 57.6ms\tremaining: 296ms\n",
      "42:\tlearn: 0.9580838\ttest: 0.5783133\tbest: 0.6373626 (1)\ttotal: 59.1ms\tremaining: 296ms\n",
      "43:\tlearn: 0.9552239\ttest: 0.5609756\tbest: 0.6373626 (1)\ttotal: 60.5ms\tremaining: 294ms\n",
      "44:\tlearn: 0.9580838\ttest: 0.5542169\tbest: 0.6373626 (1)\ttotal: 61.8ms\tremaining: 292ms\n",
      "45:\tlearn: 0.9580838\ttest: 0.5542169\tbest: 0.6373626 (1)\ttotal: 63ms\tremaining: 290ms\n",
      "46:\tlearn: 0.9642857\ttest: 0.5542169\tbest: 0.6373626 (1)\ttotal: 64.2ms\tremaining: 288ms\n",
      "47:\tlearn: 0.9673591\ttest: 0.5542169\tbest: 0.6373626 (1)\ttotal: 65.4ms\tremaining: 286ms\n",
      "48:\tlearn: 0.9732938\ttest: 0.5542169\tbest: 0.6373626 (1)\ttotal: 67.2ms\tremaining: 286ms\n",
      "49:\tlearn: 0.9732938\ttest: 0.5542169\tbest: 0.6373626 (1)\ttotal: 68.9ms\tremaining: 287ms\n",
      "50:\tlearn: 0.9702381\ttest: 0.5542169\tbest: 0.6373626 (1)\ttotal: 70.4ms\tremaining: 286ms\n",
      "51:\tlearn: 0.9702381\ttest: 0.5542169\tbest: 0.6373626 (1)\ttotal: 71.8ms\tremaining: 285ms\n",
      "52:\tlearn: 0.9702381\ttest: 0.5542169\tbest: 0.6373626 (1)\ttotal: 73.5ms\tremaining: 284ms\n",
      "53:\tlearn: 0.9702381\ttest: 0.5542169\tbest: 0.6373626 (1)\ttotal: 74.9ms\tremaining: 283ms\n",
      "54:\tlearn: 0.9702381\ttest: 0.5542169\tbest: 0.6373626 (1)\ttotal: 76.1ms\tremaining: 281ms\n",
      "55:\tlearn: 0.9732938\ttest: 0.5542169\tbest: 0.6373626 (1)\ttotal: 77.5ms\tremaining: 279ms\n",
      "56:\tlearn: 0.9732938\ttest: 0.5542169\tbest: 0.6373626 (1)\ttotal: 78.8ms\tremaining: 278ms\n",
      "57:\tlearn: 0.9732938\ttest: 0.5542169\tbest: 0.6373626 (1)\ttotal: 79.9ms\tremaining: 276ms\n",
      "58:\tlearn: 0.9732938\ttest: 0.5542169\tbest: 0.6373626 (1)\ttotal: 81.1ms\tremaining: 273ms\n",
      "59:\tlearn: 0.9732938\ttest: 0.5542169\tbest: 0.6373626 (1)\ttotal: 82.3ms\tremaining: 272ms\n",
      "60:\tlearn: 0.9732938\ttest: 0.5542169\tbest: 0.6373626 (1)\ttotal: 83.8ms\tremaining: 271ms\n",
      "61:\tlearn: 0.9732938\ttest: 0.5542169\tbest: 0.6373626 (1)\ttotal: 85.5ms\tremaining: 270ms\n",
      "62:\tlearn: 0.9702381\ttest: 0.5542169\tbest: 0.6373626 (1)\ttotal: 86.7ms\tremaining: 268ms\n",
      "63:\tlearn: 0.9763314\ttest: 0.5542169\tbest: 0.6373626 (1)\ttotal: 88.1ms\tremaining: 267ms\n",
      "64:\tlearn: 0.9793510\ttest: 0.5542169\tbest: 0.6373626 (1)\ttotal: 90.7ms\tremaining: 269ms\n",
      "65:\tlearn: 0.9793510\ttest: 0.5542169\tbest: 0.6373626 (1)\ttotal: 92.8ms\tremaining: 270ms\n",
      "66:\tlearn: 0.9793510\ttest: 0.5542169\tbest: 0.6373626 (1)\ttotal: 94.1ms\tremaining: 268ms\n",
      "67:\tlearn: 0.9793510\ttest: 0.5542169\tbest: 0.6373626 (1)\ttotal: 95.3ms\tremaining: 266ms\n",
      "68:\tlearn: 0.9793510\ttest: 0.5476190\tbest: 0.6373626 (1)\ttotal: 96.5ms\tremaining: 264ms\n",
      "69:\tlearn: 0.9793510\ttest: 0.5476190\tbest: 0.6373626 (1)\ttotal: 97.7ms\tremaining: 262ms\n",
      "70:\tlearn: 0.9822485\ttest: 0.5476190\tbest: 0.6373626 (1)\ttotal: 98.9ms\tremaining: 260ms\n",
      "71:\tlearn: 0.9822485\ttest: 0.5476190\tbest: 0.6373626 (1)\ttotal: 101ms\tremaining: 261ms\n",
      "72:\tlearn: 0.9822485\ttest: 0.5542169\tbest: 0.6373626 (1)\ttotal: 102ms\tremaining: 259ms\n",
      "73:\tlearn: 0.9822485\ttest: 0.5542169\tbest: 0.6373626 (1)\ttotal: 103ms\tremaining: 257ms\n",
      "74:\tlearn: 0.9822485\ttest: 0.5542169\tbest: 0.6373626 (1)\ttotal: 105ms\tremaining: 255ms\n",
      "75:\tlearn: 0.9822485\ttest: 0.5542169\tbest: 0.6373626 (1)\ttotal: 106ms\tremaining: 253ms\n",
      "76:\tlearn: 0.9822485\ttest: 0.5542169\tbest: 0.6373626 (1)\ttotal: 107ms\tremaining: 251ms\n",
      "77:\tlearn: 0.9822485\ttest: 0.5542169\tbest: 0.6373626 (1)\ttotal: 108ms\tremaining: 249ms\n",
      "78:\tlearn: 0.9822485\ttest: 0.5542169\tbest: 0.6373626 (1)\ttotal: 109ms\tremaining: 247ms\n",
      "79:\tlearn: 0.9822485\ttest: 0.5542169\tbest: 0.6373626 (1)\ttotal: 110ms\tremaining: 245ms\n",
      "80:\tlearn: 0.9822485\ttest: 0.5542169\tbest: 0.6373626 (1)\ttotal: 111ms\tremaining: 243ms\n",
      "81:\tlearn: 0.9852507\ttest: 0.5476190\tbest: 0.6373626 (1)\ttotal: 112ms\tremaining: 241ms\n",
      "82:\tlearn: 0.9852507\ttest: 0.5476190\tbest: 0.6373626 (1)\ttotal: 114ms\tremaining: 240ms\n",
      "83:\tlearn: 0.9852507\ttest: 0.5476190\tbest: 0.6373626 (1)\ttotal: 115ms\tremaining: 239ms\n",
      "84:\tlearn: 0.9852507\ttest: 0.5476190\tbest: 0.6373626 (1)\ttotal: 117ms\tremaining: 238ms\n",
      "85:\tlearn: 0.9881657\ttest: 0.5301205\tbest: 0.6373626 (1)\ttotal: 118ms\tremaining: 236ms\n",
      "86:\tlearn: 0.9910979\ttest: 0.5238095\tbest: 0.6373626 (1)\ttotal: 119ms\tremaining: 234ms\n",
      "87:\tlearn: 0.9910979\ttest: 0.5238095\tbest: 0.6373626 (1)\ttotal: 120ms\tremaining: 232ms\n",
      "88:\tlearn: 0.9910979\ttest: 0.5301205\tbest: 0.6373626 (1)\ttotal: 121ms\tremaining: 231ms\n",
      "89:\tlearn: 0.9910979\ttest: 0.5301205\tbest: 0.6373626 (1)\ttotal: 123ms\tremaining: 229ms\n",
      "90:\tlearn: 0.9910979\ttest: 0.5301205\tbest: 0.6373626 (1)\ttotal: 124ms\tremaining: 228ms\n",
      "91:\tlearn: 0.9910979\ttest: 0.5301205\tbest: 0.6373626 (1)\ttotal: 125ms\tremaining: 226ms\n",
      "92:\tlearn: 0.9910979\ttest: 0.5301205\tbest: 0.6373626 (1)\ttotal: 126ms\tremaining: 224ms\n",
      "93:\tlearn: 0.9910979\ttest: 0.5301205\tbest: 0.6373626 (1)\ttotal: 127ms\tremaining: 222ms\n",
      "94:\tlearn: 0.9940828\ttest: 0.5301205\tbest: 0.6373626 (1)\ttotal: 129ms\tremaining: 221ms\n",
      "95:\tlearn: 0.9940828\ttest: 0.5365854\tbest: 0.6373626 (1)\ttotal: 130ms\tremaining: 220ms\n",
      "96:\tlearn: 0.9940828\ttest: 0.5365854\tbest: 0.6373626 (1)\ttotal: 132ms\tremaining: 219ms\n",
      "97:\tlearn: 0.9940828\ttest: 0.5365854\tbest: 0.6373626 (1)\ttotal: 133ms\tremaining: 217ms\n",
      "98:\tlearn: 0.9940828\ttest: 0.5238095\tbest: 0.6373626 (1)\ttotal: 134ms\tremaining: 216ms\n",
      "99:\tlearn: 0.9940828\ttest: 0.5238095\tbest: 0.6373626 (1)\ttotal: 135ms\tremaining: 214ms\n",
      "100:\tlearn: 0.9970501\ttest: 0.5238095\tbest: 0.6373626 (1)\ttotal: 137ms\tremaining: 213ms\n",
      "101:\tlearn: 0.9940828\ttest: 0.5238095\tbest: 0.6373626 (1)\ttotal: 138ms\tremaining: 211ms\n",
      "102:\tlearn: 0.9940828\ttest: 0.5238095\tbest: 0.6373626 (1)\ttotal: 139ms\tremaining: 209ms\n",
      "103:\tlearn: 0.9940828\ttest: 0.5238095\tbest: 0.6373626 (1)\ttotal: 140ms\tremaining: 208ms\n",
      "104:\tlearn: 0.9940828\ttest: 0.5238095\tbest: 0.6373626 (1)\ttotal: 141ms\tremaining: 206ms\n",
      "105:\tlearn: 0.9940828\ttest: 0.5238095\tbest: 0.6373626 (1)\ttotal: 143ms\tremaining: 204ms\n",
      "106:\tlearn: 0.9940828\ttest: 0.5238095\tbest: 0.6373626 (1)\ttotal: 144ms\tremaining: 203ms\n",
      "107:\tlearn: 0.9940828\ttest: 0.5238095\tbest: 0.6373626 (1)\ttotal: 145ms\tremaining: 202ms\n",
      "108:\tlearn: 0.9940828\ttest: 0.5238095\tbest: 0.6373626 (1)\ttotal: 147ms\tremaining: 201ms\n",
      "109:\tlearn: 0.9970501\ttest: 0.5238095\tbest: 0.6373626 (1)\ttotal: 148ms\tremaining: 199ms\n",
      "110:\tlearn: 0.9970501\ttest: 0.5238095\tbest: 0.6373626 (1)\ttotal: 150ms\tremaining: 198ms\n",
      "111:\tlearn: 0.9970501\ttest: 0.5238095\tbest: 0.6373626 (1)\ttotal: 151ms\tremaining: 197ms\n",
      "112:\tlearn: 0.9970501\ttest: 0.5238095\tbest: 0.6373626 (1)\ttotal: 152ms\tremaining: 196ms\n",
      "113:\tlearn: 0.9970501\ttest: 0.5238095\tbest: 0.6373626 (1)\ttotal: 154ms\tremaining: 195ms\n",
      "114:\tlearn: 0.9970501\ttest: 0.5238095\tbest: 0.6373626 (1)\ttotal: 156ms\tremaining: 193ms\n",
      "115:\tlearn: 0.9970501\ttest: 0.5238095\tbest: 0.6373626 (1)\ttotal: 157ms\tremaining: 192ms\n",
      "116:\tlearn: 0.9970501\ttest: 0.5238095\tbest: 0.6373626 (1)\ttotal: 158ms\tremaining: 191ms\n",
      "117:\tlearn: 0.9970501\ttest: 0.5238095\tbest: 0.6373626 (1)\ttotal: 160ms\tremaining: 190ms\n",
      "118:\tlearn: 0.9970501\ttest: 0.5238095\tbest: 0.6373626 (1)\ttotal: 161ms\tremaining: 189ms\n",
      "119:\tlearn: 0.9970501\ttest: 0.5238095\tbest: 0.6373626 (1)\ttotal: 164ms\tremaining: 188ms\n",
      "120:\tlearn: 0.9970501\ttest: 0.5238095\tbest: 0.6373626 (1)\ttotal: 165ms\tremaining: 187ms\n",
      "121:\tlearn: 0.9970501\ttest: 0.5238095\tbest: 0.6373626 (1)\ttotal: 167ms\tremaining: 186ms\n",
      "122:\tlearn: 0.9970501\ttest: 0.5238095\tbest: 0.6373626 (1)\ttotal: 168ms\tremaining: 184ms\n",
      "123:\tlearn: 0.9970501\ttest: 0.5238095\tbest: 0.6373626 (1)\ttotal: 170ms\tremaining: 184ms\n",
      "124:\tlearn: 0.9970501\ttest: 0.5238095\tbest: 0.6373626 (1)\ttotal: 171ms\tremaining: 182ms\n",
      "125:\tlearn: 0.9970501\ttest: 0.5238095\tbest: 0.6373626 (1)\ttotal: 173ms\tremaining: 181ms\n",
      "126:\tlearn: 0.9970501\ttest: 0.5301205\tbest: 0.6373626 (1)\ttotal: 174ms\tremaining: 179ms\n",
      "127:\tlearn: 0.9970501\ttest: 0.5301205\tbest: 0.6373626 (1)\ttotal: 175ms\tremaining: 178ms\n",
      "128:\tlearn: 0.9970501\ttest: 0.5301205\tbest: 0.6373626 (1)\ttotal: 178ms\tremaining: 178ms\n",
      "129:\tlearn: 0.9970501\ttest: 0.5301205\tbest: 0.6373626 (1)\ttotal: 180ms\tremaining: 177ms\n",
      "130:\tlearn: 0.9970501\ttest: 0.5301205\tbest: 0.6373626 (1)\ttotal: 182ms\tremaining: 176ms\n",
      "131:\tlearn: 0.9970501\ttest: 0.5301205\tbest: 0.6373626 (1)\ttotal: 183ms\tremaining: 174ms\n",
      "132:\tlearn: 0.9970501\ttest: 0.5301205\tbest: 0.6373626 (1)\ttotal: 185ms\tremaining: 174ms\n",
      "133:\tlearn: 0.9970501\ttest: 0.5301205\tbest: 0.6373626 (1)\ttotal: 187ms\tremaining: 173ms\n",
      "134:\tlearn: 0.9970501\ttest: 0.5301205\tbest: 0.6373626 (1)\ttotal: 188ms\tremaining: 171ms\n",
      "135:\tlearn: 0.9970501\ttest: 0.5301205\tbest: 0.6373626 (1)\ttotal: 189ms\tremaining: 170ms\n",
      "136:\tlearn: 0.9970501\ttest: 0.5176471\tbest: 0.6373626 (1)\ttotal: 191ms\tremaining: 168ms\n",
      "137:\tlearn: 0.9970501\ttest: 0.5176471\tbest: 0.6373626 (1)\ttotal: 192ms\tremaining: 167ms\n",
      "138:\tlearn: 0.9970501\ttest: 0.5238095\tbest: 0.6373626 (1)\ttotal: 194ms\tremaining: 166ms\n",
      "139:\tlearn: 0.9970501\ttest: 0.5238095\tbest: 0.6373626 (1)\ttotal: 196ms\tremaining: 165ms\n",
      "140:\tlearn: 0.9970501\ttest: 0.5238095\tbest: 0.6373626 (1)\ttotal: 197ms\tremaining: 164ms\n",
      "141:\tlearn: 0.9970501\ttest: 0.5238095\tbest: 0.6373626 (1)\ttotal: 199ms\tremaining: 163ms\n",
      "142:\tlearn: 0.9970501\ttest: 0.5238095\tbest: 0.6373626 (1)\ttotal: 201ms\tremaining: 162ms\n",
      "143:\tlearn: 0.9970501\ttest: 0.5238095\tbest: 0.6373626 (1)\ttotal: 203ms\tremaining: 160ms\n",
      "144:\tlearn: 0.9970501\ttest: 0.5238095\tbest: 0.6373626 (1)\ttotal: 204ms\tremaining: 159ms\n",
      "145:\tlearn: 0.9970501\ttest: 0.5176471\tbest: 0.6373626 (1)\ttotal: 206ms\tremaining: 158ms\n",
      "146:\tlearn: 0.9970501\ttest: 0.5176471\tbest: 0.6373626 (1)\ttotal: 207ms\tremaining: 156ms\n",
      "147:\tlearn: 0.9970501\ttest: 0.5176471\tbest: 0.6373626 (1)\ttotal: 208ms\tremaining: 155ms\n",
      "148:\tlearn: 0.9970501\ttest: 0.5176471\tbest: 0.6373626 (1)\ttotal: 210ms\tremaining: 154ms\n",
      "149:\tlearn: 0.9970501\ttest: 0.5176471\tbest: 0.6373626 (1)\ttotal: 212ms\tremaining: 153ms\n",
      "150:\tlearn: 0.9970501\ttest: 0.5176471\tbest: 0.6373626 (1)\ttotal: 214ms\tremaining: 152ms\n",
      "151:\tlearn: 0.9970501\ttest: 0.5176471\tbest: 0.6373626 (1)\ttotal: 215ms\tremaining: 150ms\n",
      "152:\tlearn: 0.9970501\ttest: 0.5411765\tbest: 0.6373626 (1)\ttotal: 217ms\tremaining: 149ms\n",
      "153:\tlearn: 0.9970501\ttest: 0.5411765\tbest: 0.6373626 (1)\ttotal: 218ms\tremaining: 147ms\n",
      "154:\tlearn: 0.9970501\ttest: 0.5411765\tbest: 0.6373626 (1)\ttotal: 219ms\tremaining: 146ms\n",
      "155:\tlearn: 0.9970501\ttest: 0.5411765\tbest: 0.6373626 (1)\ttotal: 221ms\tremaining: 144ms\n",
      "156:\tlearn: 0.9970501\ttest: 0.5411765\tbest: 0.6373626 (1)\ttotal: 222ms\tremaining: 143ms\n",
      "157:\tlearn: 0.9970501\ttest: 0.5411765\tbest: 0.6373626 (1)\ttotal: 223ms\tremaining: 141ms\n",
      "158:\tlearn: 0.9970501\ttest: 0.5411765\tbest: 0.6373626 (1)\ttotal: 225ms\tremaining: 140ms\n",
      "159:\tlearn: 0.9970501\ttest: 0.5348837\tbest: 0.6373626 (1)\ttotal: 226ms\tremaining: 139ms\n",
      "160:\tlearn: 0.9970501\ttest: 0.5348837\tbest: 0.6373626 (1)\ttotal: 227ms\tremaining: 137ms\n",
      "161:\tlearn: 0.9970501\ttest: 0.5348837\tbest: 0.6373626 (1)\ttotal: 229ms\tremaining: 135ms\n",
      "162:\tlearn: 0.9970501\ttest: 0.5176471\tbest: 0.6373626 (1)\ttotal: 230ms\tremaining: 134ms\n",
      "163:\tlearn: 0.9970501\ttest: 0.5176471\tbest: 0.6373626 (1)\ttotal: 231ms\tremaining: 132ms\n",
      "164:\tlearn: 0.9970501\ttest: 0.5176471\tbest: 0.6373626 (1)\ttotal: 232ms\tremaining: 131ms\n",
      "165:\tlearn: 0.9970501\ttest: 0.5176471\tbest: 0.6373626 (1)\ttotal: 233ms\tremaining: 129ms\n",
      "166:\tlearn: 0.9970501\ttest: 0.5176471\tbest: 0.6373626 (1)\ttotal: 234ms\tremaining: 128ms\n",
      "167:\tlearn: 0.9970501\ttest: 0.5411765\tbest: 0.6373626 (1)\ttotal: 236ms\tremaining: 126ms\n",
      "168:\tlearn: 0.9970501\ttest: 0.5238095\tbest: 0.6373626 (1)\ttotal: 237ms\tremaining: 125ms\n",
      "169:\tlearn: 0.9970501\ttest: 0.5238095\tbest: 0.6373626 (1)\ttotal: 238ms\tremaining: 123ms\n",
      "170:\tlearn: 0.9970501\ttest: 0.5238095\tbest: 0.6373626 (1)\ttotal: 239ms\tremaining: 122ms\n",
      "171:\tlearn: 0.9970501\ttest: 0.5238095\tbest: 0.6373626 (1)\ttotal: 241ms\tremaining: 120ms\n",
      "172:\tlearn: 0.9970501\ttest: 0.5238095\tbest: 0.6373626 (1)\ttotal: 242ms\tremaining: 119ms\n",
      "173:\tlearn: 0.9970501\ttest: 0.5238095\tbest: 0.6373626 (1)\ttotal: 243ms\tremaining: 117ms\n",
      "174:\tlearn: 0.9970501\ttest: 0.5238095\tbest: 0.6373626 (1)\ttotal: 245ms\tremaining: 116ms\n",
      "175:\tlearn: 0.9970501\ttest: 0.5238095\tbest: 0.6373626 (1)\ttotal: 246ms\tremaining: 115ms\n",
      "176:\tlearn: 1.0000000\ttest: 0.5411765\tbest: 0.6373626 (1)\ttotal: 247ms\tremaining: 113ms\n",
      "177:\tlearn: 1.0000000\ttest: 0.5176471\tbest: 0.6373626 (1)\ttotal: 248ms\tremaining: 112ms\n",
      "178:\tlearn: 1.0000000\ttest: 0.5176471\tbest: 0.6373626 (1)\ttotal: 250ms\tremaining: 110ms\n",
      "179:\tlearn: 1.0000000\ttest: 0.5176471\tbest: 0.6373626 (1)\ttotal: 251ms\tremaining: 109ms\n",
      "180:\tlearn: 1.0000000\ttest: 0.5176471\tbest: 0.6373626 (1)\ttotal: 253ms\tremaining: 108ms\n",
      "181:\tlearn: 1.0000000\ttest: 0.5176471\tbest: 0.6373626 (1)\ttotal: 256ms\tremaining: 107ms\n",
      "182:\tlearn: 1.0000000\ttest: 0.5176471\tbest: 0.6373626 (1)\ttotal: 257ms\tremaining: 105ms\n",
      "183:\tlearn: 1.0000000\ttest: 0.5176471\tbest: 0.6373626 (1)\ttotal: 259ms\tremaining: 104ms\n",
      "184:\tlearn: 1.0000000\ttest: 0.5176471\tbest: 0.6373626 (1)\ttotal: 260ms\tremaining: 103ms\n",
      "185:\tlearn: 1.0000000\ttest: 0.5176471\tbest: 0.6373626 (1)\ttotal: 261ms\tremaining: 101ms\n",
      "186:\tlearn: 1.0000000\ttest: 0.5348837\tbest: 0.6373626 (1)\ttotal: 263ms\tremaining: 99.8ms\n",
      "187:\tlearn: 1.0000000\ttest: 0.5348837\tbest: 0.6373626 (1)\ttotal: 264ms\tremaining: 98.3ms\n",
      "188:\tlearn: 1.0000000\ttest: 0.5348837\tbest: 0.6373626 (1)\ttotal: 265ms\tremaining: 96.9ms\n",
      "189:\tlearn: 1.0000000\ttest: 0.5348837\tbest: 0.6373626 (1)\ttotal: 267ms\tremaining: 95.4ms\n",
      "190:\tlearn: 1.0000000\ttest: 0.5176471\tbest: 0.6373626 (1)\ttotal: 268ms\tremaining: 93.9ms\n",
      "191:\tlearn: 1.0000000\ttest: 0.5176471\tbest: 0.6373626 (1)\ttotal: 269ms\tremaining: 92.5ms\n",
      "192:\tlearn: 1.0000000\ttest: 0.5176471\tbest: 0.6373626 (1)\ttotal: 271ms\tremaining: 91.4ms\n",
      "193:\tlearn: 1.0000000\ttest: 0.5176471\tbest: 0.6373626 (1)\ttotal: 274ms\tremaining: 90.2ms\n",
      "194:\tlearn: 1.0000000\ttest: 0.5348837\tbest: 0.6373626 (1)\ttotal: 275ms\tremaining: 88.8ms\n",
      "195:\tlearn: 1.0000000\ttest: 0.5348837\tbest: 0.6373626 (1)\ttotal: 276ms\tremaining: 87.4ms\n",
      "196:\tlearn: 1.0000000\ttest: 0.5348837\tbest: 0.6373626 (1)\ttotal: 277ms\tremaining: 85.9ms\n",
      "197:\tlearn: 1.0000000\ttest: 0.5348837\tbest: 0.6373626 (1)\ttotal: 279ms\tremaining: 84.4ms\n",
      "198:\tlearn: 1.0000000\ttest: 0.5348837\tbest: 0.6373626 (1)\ttotal: 280ms\tremaining: 83ms\n",
      "199:\tlearn: 1.0000000\ttest: 0.5348837\tbest: 0.6373626 (1)\ttotal: 281ms\tremaining: 81.5ms\n",
      "200:\tlearn: 1.0000000\ttest: 0.5348837\tbest: 0.6373626 (1)\ttotal: 282ms\tremaining: 80ms\n",
      "201:\tlearn: 1.0000000\ttest: 0.5348837\tbest: 0.6373626 (1)\ttotal: 283ms\tremaining: 78.6ms\n",
      "202:\tlearn: 1.0000000\ttest: 0.5348837\tbest: 0.6373626 (1)\ttotal: 285ms\tremaining: 77.1ms\n",
      "203:\tlearn: 1.0000000\ttest: 0.5348837\tbest: 0.6373626 (1)\ttotal: 286ms\tremaining: 75.7ms\n",
      "204:\tlearn: 1.0000000\ttest: 0.5348837\tbest: 0.6373626 (1)\ttotal: 288ms\tremaining: 74.3ms\n",
      "205:\tlearn: 1.0000000\ttest: 0.5348837\tbest: 0.6373626 (1)\ttotal: 290ms\tremaining: 73.2ms\n",
      "206:\tlearn: 1.0000000\ttest: 0.5348837\tbest: 0.6373626 (1)\ttotal: 291ms\tremaining: 71.7ms\n",
      "207:\tlearn: 1.0000000\ttest: 0.5348837\tbest: 0.6373626 (1)\ttotal: 293ms\tremaining: 70.3ms\n",
      "208:\tlearn: 1.0000000\ttest: 0.5348837\tbest: 0.6373626 (1)\ttotal: 294ms\tremaining: 69ms\n",
      "209:\tlearn: 1.0000000\ttest: 0.5348837\tbest: 0.6373626 (1)\ttotal: 296ms\tremaining: 67.5ms\n",
      "210:\tlearn: 1.0000000\ttest: 0.5348837\tbest: 0.6373626 (1)\ttotal: 297ms\tremaining: 66.2ms\n",
      "211:\tlearn: 1.0000000\ttest: 0.5348837\tbest: 0.6373626 (1)\ttotal: 299ms\tremaining: 64.8ms\n",
      "212:\tlearn: 1.0000000\ttest: 0.5348837\tbest: 0.6373626 (1)\ttotal: 300ms\tremaining: 63.5ms\n",
      "213:\tlearn: 1.0000000\ttest: 0.5348837\tbest: 0.6373626 (1)\ttotal: 302ms\tremaining: 62.1ms\n",
      "214:\tlearn: 1.0000000\ttest: 0.5348837\tbest: 0.6373626 (1)\ttotal: 303ms\tremaining: 60.7ms\n",
      "215:\tlearn: 1.0000000\ttest: 0.5348837\tbest: 0.6373626 (1)\ttotal: 305ms\tremaining: 59.2ms\n",
      "216:\tlearn: 1.0000000\ttest: 0.5348837\tbest: 0.6373626 (1)\ttotal: 306ms\tremaining: 57.8ms\n",
      "217:\tlearn: 1.0000000\ttest: 0.5348837\tbest: 0.6373626 (1)\ttotal: 307ms\tremaining: 56.4ms\n",
      "218:\tlearn: 1.0000000\ttest: 0.5348837\tbest: 0.6373626 (1)\ttotal: 309ms\tremaining: 54.9ms\n",
      "219:\tlearn: 1.0000000\ttest: 0.5348837\tbest: 0.6373626 (1)\ttotal: 310ms\tremaining: 53.5ms\n",
      "220:\tlearn: 1.0000000\ttest: 0.5348837\tbest: 0.6373626 (1)\ttotal: 311ms\tremaining: 52ms\n",
      "221:\tlearn: 1.0000000\ttest: 0.5348837\tbest: 0.6373626 (1)\ttotal: 312ms\tremaining: 50.6ms\n",
      "222:\tlearn: 1.0000000\ttest: 0.5348837\tbest: 0.6373626 (1)\ttotal: 313ms\tremaining: 49.1ms\n",
      "223:\tlearn: 1.0000000\ttest: 0.5348837\tbest: 0.6373626 (1)\ttotal: 314ms\tremaining: 47.7ms\n",
      "224:\tlearn: 1.0000000\ttest: 0.5348837\tbest: 0.6373626 (1)\ttotal: 316ms\tremaining: 46.3ms\n",
      "225:\tlearn: 1.0000000\ttest: 0.5348837\tbest: 0.6373626 (1)\ttotal: 318ms\tremaining: 45ms\n",
      "226:\tlearn: 1.0000000\ttest: 0.5348837\tbest: 0.6373626 (1)\ttotal: 319ms\tremaining: 43.6ms\n",
      "227:\tlearn: 1.0000000\ttest: 0.5348837\tbest: 0.6373626 (1)\ttotal: 320ms\tremaining: 42.1ms\n",
      "228:\tlearn: 1.0000000\ttest: 0.5348837\tbest: 0.6373626 (1)\ttotal: 321ms\tremaining: 40.7ms\n",
      "229:\tlearn: 1.0000000\ttest: 0.5348837\tbest: 0.6373626 (1)\ttotal: 323ms\tremaining: 39.3ms\n",
      "230:\tlearn: 1.0000000\ttest: 0.5348837\tbest: 0.6373626 (1)\ttotal: 324ms\tremaining: 37.9ms\n",
      "231:\tlearn: 1.0000000\ttest: 0.5348837\tbest: 0.6373626 (1)\ttotal: 325ms\tremaining: 36.4ms\n",
      "232:\tlearn: 1.0000000\ttest: 0.5348837\tbest: 0.6373626 (1)\ttotal: 326ms\tremaining: 35ms\n",
      "233:\tlearn: 1.0000000\ttest: 0.5176471\tbest: 0.6373626 (1)\ttotal: 327ms\tremaining: 33.6ms\n",
      "234:\tlearn: 1.0000000\ttest: 0.5176471\tbest: 0.6373626 (1)\ttotal: 329ms\tremaining: 32.2ms\n",
      "235:\tlearn: 1.0000000\ttest: 0.5176471\tbest: 0.6373626 (1)\ttotal: 330ms\tremaining: 30.7ms\n",
      "236:\tlearn: 1.0000000\ttest: 0.5238095\tbest: 0.6373626 (1)\ttotal: 331ms\tremaining: 29.3ms\n",
      "237:\tlearn: 1.0000000\ttest: 0.5238095\tbest: 0.6373626 (1)\ttotal: 333ms\tremaining: 28ms\n",
      "238:\tlearn: 1.0000000\ttest: 0.5238095\tbest: 0.6373626 (1)\ttotal: 334ms\tremaining: 26.5ms\n",
      "239:\tlearn: 1.0000000\ttest: 0.5238095\tbest: 0.6373626 (1)\ttotal: 335ms\tremaining: 25.1ms\n",
      "240:\tlearn: 1.0000000\ttest: 0.5238095\tbest: 0.6373626 (1)\ttotal: 336ms\tremaining: 23.7ms\n",
      "241:\tlearn: 1.0000000\ttest: 0.5238095\tbest: 0.6373626 (1)\ttotal: 337ms\tremaining: 22.3ms\n",
      "242:\tlearn: 1.0000000\ttest: 0.5238095\tbest: 0.6373626 (1)\ttotal: 339ms\tremaining: 20.9ms\n",
      "243:\tlearn: 1.0000000\ttest: 0.5238095\tbest: 0.6373626 (1)\ttotal: 340ms\tremaining: 19.5ms\n",
      "244:\tlearn: 1.0000000\ttest: 0.5238095\tbest: 0.6373626 (1)\ttotal: 341ms\tremaining: 18.1ms\n",
      "245:\tlearn: 1.0000000\ttest: 0.5238095\tbest: 0.6373626 (1)\ttotal: 342ms\tremaining: 16.7ms\n",
      "246:\tlearn: 1.0000000\ttest: 0.5238095\tbest: 0.6373626 (1)\ttotal: 343ms\tremaining: 15.3ms\n",
      "247:\tlearn: 1.0000000\ttest: 0.5238095\tbest: 0.6373626 (1)\ttotal: 345ms\tremaining: 13.9ms\n",
      "248:\tlearn: 1.0000000\ttest: 0.5238095\tbest: 0.6373626 (1)\ttotal: 346ms\tremaining: 12.5ms\n",
      "249:\tlearn: 1.0000000\ttest: 0.5238095\tbest: 0.6373626 (1)\ttotal: 347ms\tremaining: 11.1ms\n",
      "250:\tlearn: 1.0000000\ttest: 0.5238095\tbest: 0.6373626 (1)\ttotal: 349ms\tremaining: 9.73ms\n",
      "251:\tlearn: 1.0000000\ttest: 0.5238095\tbest: 0.6373626 (1)\ttotal: 350ms\tremaining: 8.34ms\n",
      "252:\tlearn: 1.0000000\ttest: 0.5238095\tbest: 0.6373626 (1)\ttotal: 351ms\tremaining: 6.94ms\n",
      "253:\tlearn: 1.0000000\ttest: 0.5060241\tbest: 0.6373626 (1)\ttotal: 352ms\tremaining: 5.55ms\n",
      "254:\tlearn: 1.0000000\ttest: 0.5000000\tbest: 0.6373626 (1)\ttotal: 354ms\tremaining: 4.16ms\n",
      "255:\tlearn: 1.0000000\ttest: 0.5000000\tbest: 0.6373626 (1)\ttotal: 355ms\tremaining: 2.77ms\n",
      "256:\tlearn: 1.0000000\ttest: 0.5000000\tbest: 0.6373626 (1)\ttotal: 356ms\tremaining: 1.39ms\n",
      "257:\tlearn: 1.0000000\ttest: 0.5000000\tbest: 0.6373626 (1)\ttotal: 358ms\tremaining: 0us\n",
      "\n",
      "bestTest = 0.6373626374\n",
      "bestIteration = 1\n",
      "\n",
      "Training on fold [2/5]\n",
      "0:\tlearn: 0.6967742\ttest: 0.5294118\tbest: 0.5294118 (0)\ttotal: 1.39ms\tremaining: 356ms\n",
      "1:\tlearn: 0.7329193\ttest: 0.6410256\tbest: 0.6410256 (1)\ttotal: 2.75ms\tremaining: 352ms\n",
      "2:\tlearn: 0.7475410\ttest: 0.5479452\tbest: 0.6410256 (1)\ttotal: 4.01ms\tremaining: 341ms\n",
      "3:\tlearn: 0.7579618\ttest: 0.5633803\tbest: 0.6410256 (1)\ttotal: 5.39ms\tremaining: 342ms\n",
      "4:\tlearn: 0.7483444\ttest: 0.5915493\tbest: 0.6410256 (1)\ttotal: 6.74ms\tremaining: 341ms\n",
      "5:\tlearn: 0.7631579\ttest: 0.5915493\tbest: 0.6410256 (1)\ttotal: 7.99ms\tremaining: 335ms\n",
      "6:\tlearn: 0.7712418\ttest: 0.5714286\tbest: 0.6410256 (1)\ttotal: 9.37ms\tremaining: 336ms\n",
      "7:\tlearn: 0.7733333\ttest: 0.5945946\tbest: 0.6410256 (1)\ttotal: 10.6ms\tremaining: 332ms\n",
      "8:\tlearn: 0.7828947\ttest: 0.5428571\tbest: 0.6410256 (1)\ttotal: 11.9ms\tremaining: 328ms\n",
      "9:\tlearn: 0.7894737\ttest: 0.5070423\tbest: 0.6410256 (1)\ttotal: 13.9ms\tremaining: 346ms\n",
      "10:\tlearn: 0.8051948\ttest: 0.5352113\tbest: 0.6410256 (1)\ttotal: 15.2ms\tremaining: 341ms\n",
      "11:\tlearn: 0.8343949\ttest: 0.5205479\tbest: 0.6410256 (1)\ttotal: 16.4ms\tremaining: 335ms\n",
      "12:\tlearn: 0.8306709\ttest: 0.5945946\tbest: 0.6410256 (1)\ttotal: 17.6ms\tremaining: 331ms\n",
      "13:\tlearn: 0.8333333\ttest: 0.5945946\tbest: 0.6410256 (1)\ttotal: 18.8ms\tremaining: 327ms\n",
      "14:\tlearn: 0.8397436\ttest: 0.6027397\tbest: 0.6410256 (1)\ttotal: 20ms\tremaining: 323ms\n",
      "15:\tlearn: 0.8544304\ttest: 0.6027397\tbest: 0.6410256 (1)\ttotal: 21.1ms\tremaining: 320ms\n",
      "16:\tlearn: 0.8544304\ttest: 0.6027397\tbest: 0.6410256 (1)\ttotal: 22.3ms\tremaining: 316ms\n",
      "17:\tlearn: 0.8607595\ttest: 0.6027397\tbest: 0.6410256 (1)\ttotal: 24.9ms\tremaining: 332ms\n",
      "18:\tlearn: 0.8498403\ttest: 0.6027397\tbest: 0.6410256 (1)\ttotal: 26.1ms\tremaining: 329ms\n",
      "19:\tlearn: 0.8535032\ttest: 0.6027397\tbest: 0.6410256 (1)\ttotal: 27.3ms\tremaining: 325ms\n",
      "20:\tlearn: 0.8498403\ttest: 0.5833333\tbest: 0.6410256 (1)\ttotal: 28.7ms\tremaining: 324ms\n",
      "21:\tlearn: 0.8616352\ttest: 0.6400000\tbest: 0.6410256 (1)\ttotal: 29.9ms\tremaining: 321ms\n",
      "22:\tlearn: 0.8616352\ttest: 0.6400000\tbest: 0.6410256 (1)\ttotal: 31.1ms\tremaining: 317ms\n",
      "23:\tlearn: 0.8616352\ttest: 0.6400000\tbest: 0.6410256 (1)\ttotal: 36.8ms\tremaining: 359ms\n",
      "24:\tlearn: 0.8616352\ttest: 0.6400000\tbest: 0.6410256 (1)\ttotal: 38.7ms\tremaining: 361ms\n",
      "25:\tlearn: 0.8580442\ttest: 0.6027397\tbest: 0.6410256 (1)\ttotal: 43.5ms\tremaining: 388ms\n",
      "26:\tlearn: 0.8687500\ttest: 0.5866667\tbest: 0.6410256 (1)\ttotal: 44.7ms\tremaining: 383ms\n",
      "27:\tlearn: 0.8660436\ttest: 0.6052632\tbest: 0.6410256 (1)\ttotal: 46ms\tremaining: 378ms\n",
      "28:\tlearn: 0.8660436\ttest: 0.6052632\tbest: 0.6410256 (1)\ttotal: 46.8ms\tremaining: 370ms\n",
      "29:\tlearn: 0.8800000\ttest: 0.5675676\tbest: 0.6410256 (1)\ttotal: 48.3ms\tremaining: 367ms\n",
      "30:\tlearn: 0.8800000\ttest: 0.5675676\tbest: 0.6410256 (1)\ttotal: 49.6ms\tremaining: 363ms\n",
      "31:\tlearn: 0.8827160\ttest: 0.5675676\tbest: 0.6410256 (1)\ttotal: 50.5ms\tremaining: 357ms\n",
      "32:\tlearn: 0.8888889\ttest: 0.5675676\tbest: 0.6410256 (1)\ttotal: 51.8ms\tremaining: 353ms\n",
      "33:\tlearn: 0.8923077\ttest: 0.5675676\tbest: 0.6410256 (1)\ttotal: 53ms\tremaining: 349ms\n",
      "34:\tlearn: 0.8854489\ttest: 0.5600000\tbest: 0.6410256 (1)\ttotal: 54.2ms\tremaining: 345ms\n",
      "35:\tlearn: 0.8854489\ttest: 0.5600000\tbest: 0.6410256 (1)\ttotal: 55.4ms\tremaining: 341ms\n",
      "36:\tlearn: 0.8978328\ttest: 0.5526316\tbest: 0.6410256 (1)\ttotal: 56.5ms\tremaining: 338ms\n",
      "37:\tlearn: 0.9068323\ttest: 0.5600000\tbest: 0.6410256 (1)\ttotal: 57.7ms\tremaining: 334ms\n",
      "38:\tlearn: 0.9107692\ttest: 0.5526316\tbest: 0.6410256 (1)\ttotal: 58.9ms\tremaining: 331ms\n",
      "39:\tlearn: 0.9135802\ttest: 0.5600000\tbest: 0.6410256 (1)\ttotal: 60.1ms\tremaining: 328ms\n",
      "40:\tlearn: 0.9107692\ttest: 0.5600000\tbest: 0.6410256 (1)\ttotal: 61.3ms\tremaining: 324ms\n",
      "41:\tlearn: 0.9135802\ttest: 0.5789474\tbest: 0.6410256 (1)\ttotal: 62.5ms\tremaining: 321ms\n",
      "42:\tlearn: 0.9135802\ttest: 0.5600000\tbest: 0.6410256 (1)\ttotal: 63.8ms\tremaining: 319ms\n",
      "43:\tlearn: 0.9164087\ttest: 0.5600000\tbest: 0.6410256 (1)\ttotal: 65.1ms\tremaining: 316ms\n",
      "44:\tlearn: 0.9164087\ttest: 0.5600000\tbest: 0.6410256 (1)\ttotal: 66.3ms\tremaining: 314ms\n",
      "45:\tlearn: 0.9192547\ttest: 0.5600000\tbest: 0.6410256 (1)\ttotal: 67.5ms\tremaining: 311ms\n",
      "46:\tlearn: 0.9192547\ttest: 0.5600000\tbest: 0.6410256 (1)\ttotal: 68.6ms\tremaining: 308ms\n",
      "47:\tlearn: 0.9192547\ttest: 0.5600000\tbest: 0.6410256 (1)\ttotal: 69.8ms\tremaining: 305ms\n",
      "48:\tlearn: 0.9259259\ttest: 0.5789474\tbest: 0.6410256 (1)\ttotal: 71.2ms\tremaining: 304ms\n",
      "49:\tlearn: 0.9259259\ttest: 0.5789474\tbest: 0.6410256 (1)\ttotal: 73.9ms\tremaining: 308ms\n",
      "50:\tlearn: 0.9259259\ttest: 0.5789474\tbest: 0.6410256 (1)\ttotal: 76.7ms\tremaining: 311ms\n",
      "51:\tlearn: 0.9292308\ttest: 0.5974026\tbest: 0.6410256 (1)\ttotal: 78.4ms\tremaining: 310ms\n",
      "52:\tlearn: 0.9320988\ttest: 0.6153846\tbest: 0.6410256 (1)\ttotal: 81.1ms\tremaining: 314ms\n",
      "53:\tlearn: 0.9292308\ttest: 0.6153846\tbest: 0.6410256 (1)\ttotal: 83.1ms\tremaining: 314ms\n",
      "54:\tlearn: 0.9386503\ttest: 0.5714286\tbest: 0.6410256 (1)\ttotal: 85.5ms\tremaining: 316ms\n",
      "55:\tlearn: 0.9386503\ttest: 0.5714286\tbest: 0.6410256 (1)\ttotal: 86.8ms\tremaining: 313ms\n",
      "56:\tlearn: 0.9386503\ttest: 0.5714286\tbest: 0.6410256 (1)\ttotal: 88.3ms\tremaining: 311ms\n",
      "57:\tlearn: 0.9418960\ttest: 0.5714286\tbest: 0.6410256 (1)\ttotal: 89.4ms\tremaining: 308ms\n",
      "58:\tlearn: 0.9386503\ttest: 0.5526316\tbest: 0.6410256 (1)\ttotal: 90.6ms\tremaining: 306ms\n",
      "59:\tlearn: 0.9418960\ttest: 0.5526316\tbest: 0.6410256 (1)\ttotal: 91.7ms\tremaining: 303ms\n",
      "60:\tlearn: 0.9483283\ttest: 0.5526316\tbest: 0.6410256 (1)\ttotal: 92.9ms\tremaining: 300ms\n",
      "61:\tlearn: 0.9480122\ttest: 0.5714286\tbest: 0.6410256 (1)\ttotal: 94.2ms\tremaining: 298ms\n",
      "62:\tlearn: 0.9447853\ttest: 0.5714286\tbest: 0.6410256 (1)\ttotal: 95.7ms\tremaining: 296ms\n",
      "63:\tlearn: 0.9480122\ttest: 0.5714286\tbest: 0.6410256 (1)\ttotal: 97.1ms\tremaining: 294ms\n",
      "64:\tlearn: 0.9480122\ttest: 0.5714286\tbest: 0.6410256 (1)\ttotal: 98.3ms\tremaining: 292ms\n",
      "65:\tlearn: 0.9415385\ttest: 0.5526316\tbest: 0.6410256 (1)\ttotal: 99.4ms\tremaining: 289ms\n",
      "66:\tlearn: 0.9447853\ttest: 0.5526316\tbest: 0.6410256 (1)\ttotal: 101ms\tremaining: 287ms\n",
      "67:\tlearn: 0.9544073\ttest: 0.5714286\tbest: 0.6410256 (1)\ttotal: 102ms\tremaining: 284ms\n",
      "68:\tlearn: 0.9512195\ttest: 0.5714286\tbest: 0.6410256 (1)\ttotal: 103ms\tremaining: 283ms\n",
      "69:\tlearn: 0.9512195\ttest: 0.5897436\tbest: 0.6410256 (1)\ttotal: 104ms\tremaining: 280ms\n",
      "70:\tlearn: 0.9544073\ttest: 0.5789474\tbest: 0.6410256 (1)\ttotal: 106ms\tremaining: 278ms\n",
      "71:\tlearn: 0.9575758\ttest: 0.5526316\tbest: 0.6410256 (1)\ttotal: 107ms\tremaining: 276ms\n",
      "72:\tlearn: 0.9638554\ttest: 0.5714286\tbest: 0.6410256 (1)\ttotal: 108ms\tremaining: 273ms\n",
      "73:\tlearn: 0.9698795\ttest: 0.5714286\tbest: 0.6410256 (1)\ttotal: 109ms\tremaining: 271ms\n",
      "74:\tlearn: 0.9698795\ttest: 0.5333333\tbest: 0.6410256 (1)\ttotal: 112ms\tremaining: 272ms\n",
      "75:\tlearn: 0.9698795\ttest: 0.5333333\tbest: 0.6410256 (1)\ttotal: 113ms\tremaining: 270ms\n",
      "76:\tlearn: 0.9698795\ttest: 0.5333333\tbest: 0.6410256 (1)\ttotal: 114ms\tremaining: 268ms\n",
      "77:\tlearn: 0.9698795\ttest: 0.5526316\tbest: 0.6410256 (1)\ttotal: 115ms\tremaining: 265ms\n",
      "78:\tlearn: 0.9698795\ttest: 0.5526316\tbest: 0.6410256 (1)\ttotal: 116ms\tremaining: 263ms\n",
      "79:\tlearn: 0.9698795\ttest: 0.5526316\tbest: 0.6410256 (1)\ttotal: 117ms\tremaining: 260ms\n",
      "80:\tlearn: 0.9698795\ttest: 0.5333333\tbest: 0.6410256 (1)\ttotal: 118ms\tremaining: 258ms\n",
      "81:\tlearn: 0.9698795\ttest: 0.5526316\tbest: 0.6410256 (1)\ttotal: 119ms\tremaining: 256ms\n",
      "82:\tlearn: 0.9698795\ttest: 0.5526316\tbest: 0.6410256 (1)\ttotal: 120ms\tremaining: 254ms\n",
      "83:\tlearn: 0.9698795\ttest: 0.5526316\tbest: 0.6410256 (1)\ttotal: 122ms\tremaining: 252ms\n",
      "84:\tlearn: 0.9698795\ttest: 0.5526316\tbest: 0.6410256 (1)\ttotal: 123ms\tremaining: 250ms\n",
      "85:\tlearn: 0.9698795\ttest: 0.5526316\tbest: 0.6410256 (1)\ttotal: 124ms\tremaining: 248ms\n",
      "86:\tlearn: 0.9698795\ttest: 0.5526316\tbest: 0.6410256 (1)\ttotal: 125ms\tremaining: 246ms\n",
      "87:\tlearn: 0.9698795\ttest: 0.5526316\tbest: 0.6410256 (1)\ttotal: 127ms\tremaining: 246ms\n",
      "88:\tlearn: 0.9729730\ttest: 0.5526316\tbest: 0.6410256 (1)\ttotal: 128ms\tremaining: 244ms\n",
      "89:\tlearn: 0.9729730\ttest: 0.5526316\tbest: 0.6410256 (1)\ttotal: 130ms\tremaining: 242ms\n",
      "90:\tlearn: 0.9729730\ttest: 0.5526316\tbest: 0.6410256 (1)\ttotal: 131ms\tremaining: 240ms\n",
      "91:\tlearn: 0.9760479\ttest: 0.5526316\tbest: 0.6410256 (1)\ttotal: 132ms\tremaining: 238ms\n",
      "92:\tlearn: 0.9791045\ttest: 0.5526316\tbest: 0.6410256 (1)\ttotal: 133ms\tremaining: 236ms\n",
      "93:\tlearn: 0.9760479\ttest: 0.5526316\tbest: 0.6410256 (1)\ttotal: 134ms\tremaining: 234ms\n",
      "94:\tlearn: 0.9791045\ttest: 0.5526316\tbest: 0.6410256 (1)\ttotal: 135ms\tremaining: 232ms\n",
      "95:\tlearn: 0.9851632\ttest: 0.5526316\tbest: 0.6410256 (1)\ttotal: 137ms\tremaining: 230ms\n",
      "96:\tlearn: 0.9851632\ttest: 0.5526316\tbest: 0.6410256 (1)\ttotal: 138ms\tremaining: 228ms\n",
      "97:\tlearn: 0.9851632\ttest: 0.5526316\tbest: 0.6410256 (1)\ttotal: 139ms\tremaining: 227ms\n",
      "98:\tlearn: 0.9851632\ttest: 0.5526316\tbest: 0.6410256 (1)\ttotal: 141ms\tremaining: 226ms\n",
      "99:\tlearn: 0.9880952\ttest: 0.5714286\tbest: 0.6410256 (1)\ttotal: 142ms\tremaining: 225ms\n",
      "100:\tlearn: 0.9880952\ttest: 0.5714286\tbest: 0.6410256 (1)\ttotal: 143ms\tremaining: 223ms\n",
      "101:\tlearn: 0.9880952\ttest: 0.5526316\tbest: 0.6410256 (1)\ttotal: 145ms\tremaining: 221ms\n",
      "102:\tlearn: 0.9880952\ttest: 0.5526316\tbest: 0.6410256 (1)\ttotal: 146ms\tremaining: 219ms\n",
      "103:\tlearn: 0.9940828\ttest: 0.5526316\tbest: 0.6410256 (1)\ttotal: 147ms\tremaining: 218ms\n",
      "104:\tlearn: 0.9940828\ttest: 0.5526316\tbest: 0.6410256 (1)\ttotal: 148ms\tremaining: 216ms\n",
      "105:\tlearn: 0.9910979\ttest: 0.5333333\tbest: 0.6410256 (1)\ttotal: 150ms\tremaining: 215ms\n",
      "106:\tlearn: 0.9910979\ttest: 0.5526316\tbest: 0.6410256 (1)\ttotal: 151ms\tremaining: 213ms\n",
      "107:\tlearn: 0.9940828\ttest: 0.5526316\tbest: 0.6410256 (1)\ttotal: 152ms\tremaining: 211ms\n",
      "108:\tlearn: 0.9940828\ttest: 0.5526316\tbest: 0.6410256 (1)\ttotal: 153ms\tremaining: 209ms\n",
      "109:\tlearn: 0.9940828\ttest: 0.5600000\tbest: 0.6410256 (1)\ttotal: 154ms\tremaining: 208ms\n",
      "110:\tlearn: 0.9910979\ttest: 0.5600000\tbest: 0.6410256 (1)\ttotal: 156ms\tremaining: 207ms\n",
      "111:\tlearn: 0.9970501\ttest: 0.5600000\tbest: 0.6410256 (1)\ttotal: 158ms\tremaining: 205ms\n",
      "112:\tlearn: 0.9970501\ttest: 0.5600000\tbest: 0.6410256 (1)\ttotal: 159ms\tremaining: 204ms\n",
      "113:\tlearn: 0.9970501\ttest: 0.5600000\tbest: 0.6410256 (1)\ttotal: 160ms\tremaining: 202ms\n",
      "114:\tlearn: 0.9970501\ttest: 0.5600000\tbest: 0.6410256 (1)\ttotal: 161ms\tremaining: 200ms\n",
      "115:\tlearn: 0.9970501\ttest: 0.5600000\tbest: 0.6410256 (1)\ttotal: 162ms\tremaining: 198ms\n",
      "116:\tlearn: 0.9970501\ttest: 0.5600000\tbest: 0.6410256 (1)\ttotal: 163ms\tremaining: 197ms\n",
      "117:\tlearn: 0.9970501\ttest: 0.5600000\tbest: 0.6410256 (1)\ttotal: 164ms\tremaining: 195ms\n",
      "118:\tlearn: 0.9970501\ttest: 0.5526316\tbest: 0.6410256 (1)\ttotal: 166ms\tremaining: 193ms\n",
      "119:\tlearn: 0.9970501\ttest: 0.5600000\tbest: 0.6410256 (1)\ttotal: 167ms\tremaining: 192ms\n",
      "120:\tlearn: 0.9970501\ttest: 0.5600000\tbest: 0.6410256 (1)\ttotal: 168ms\tremaining: 190ms\n",
      "121:\tlearn: 0.9970501\ttest: 0.5600000\tbest: 0.6410256 (1)\ttotal: 169ms\tremaining: 188ms\n",
      "122:\tlearn: 0.9970501\ttest: 0.5600000\tbest: 0.6410256 (1)\ttotal: 170ms\tremaining: 187ms\n",
      "123:\tlearn: 0.9970501\ttest: 0.5600000\tbest: 0.6410256 (1)\ttotal: 172ms\tremaining: 186ms\n",
      "124:\tlearn: 0.9970501\ttest: 0.5600000\tbest: 0.6410256 (1)\ttotal: 174ms\tremaining: 185ms\n",
      "125:\tlearn: 0.9970501\ttest: 0.5789474\tbest: 0.6410256 (1)\ttotal: 175ms\tremaining: 184ms\n",
      "126:\tlearn: 0.9970501\ttest: 0.5789474\tbest: 0.6410256 (1)\ttotal: 176ms\tremaining: 182ms\n",
      "127:\tlearn: 0.9970501\ttest: 0.5789474\tbest: 0.6410256 (1)\ttotal: 178ms\tremaining: 180ms\n",
      "128:\tlearn: 0.9970501\ttest: 0.5789474\tbest: 0.6410256 (1)\ttotal: 179ms\tremaining: 179ms\n",
      "129:\tlearn: 0.9970501\ttest: 0.5789474\tbest: 0.6410256 (1)\ttotal: 180ms\tremaining: 177ms\n",
      "130:\tlearn: 0.9970501\ttest: 0.5789474\tbest: 0.6410256 (1)\ttotal: 181ms\tremaining: 176ms\n",
      "131:\tlearn: 0.9970501\ttest: 0.5600000\tbest: 0.6410256 (1)\ttotal: 182ms\tremaining: 174ms\n",
      "132:\tlearn: 0.9970501\ttest: 0.5600000\tbest: 0.6410256 (1)\ttotal: 183ms\tremaining: 172ms\n",
      "133:\tlearn: 0.9970501\ttest: 0.5600000\tbest: 0.6410256 (1)\ttotal: 185ms\tremaining: 171ms\n",
      "134:\tlearn: 0.9970501\ttest: 0.5600000\tbest: 0.6410256 (1)\ttotal: 186ms\tremaining: 169ms\n",
      "135:\tlearn: 0.9970501\ttest: 0.5600000\tbest: 0.6410256 (1)\ttotal: 189ms\tremaining: 169ms\n",
      "136:\tlearn: 0.9970501\ttest: 0.5789474\tbest: 0.6410256 (1)\ttotal: 190ms\tremaining: 168ms\n",
      "137:\tlearn: 0.9970501\ttest: 0.5789474\tbest: 0.6410256 (1)\ttotal: 192ms\tremaining: 167ms\n",
      "138:\tlearn: 0.9970501\ttest: 0.5789474\tbest: 0.6410256 (1)\ttotal: 193ms\tremaining: 166ms\n",
      "139:\tlearn: 0.9970501\ttest: 0.5789474\tbest: 0.6410256 (1)\ttotal: 195ms\tremaining: 164ms\n",
      "140:\tlearn: 0.9970501\ttest: 0.5789474\tbest: 0.6410256 (1)\ttotal: 196ms\tremaining: 163ms\n",
      "141:\tlearn: 0.9970501\ttest: 0.5789474\tbest: 0.6410256 (1)\ttotal: 197ms\tremaining: 161ms\n",
      "142:\tlearn: 0.9970501\ttest: 0.5789474\tbest: 0.6410256 (1)\ttotal: 198ms\tremaining: 160ms\n",
      "143:\tlearn: 0.9970501\ttest: 0.5789474\tbest: 0.6410256 (1)\ttotal: 200ms\tremaining: 158ms\n",
      "144:\tlearn: 0.9970501\ttest: 0.5789474\tbest: 0.6410256 (1)\ttotal: 201ms\tremaining: 156ms\n",
      "145:\tlearn: 0.9970501\ttest: 0.5789474\tbest: 0.6410256 (1)\ttotal: 202ms\tremaining: 155ms\n",
      "146:\tlearn: 0.9970501\ttest: 0.5789474\tbest: 0.6410256 (1)\ttotal: 203ms\tremaining: 154ms\n",
      "147:\tlearn: 0.9970501\ttest: 0.5789474\tbest: 0.6410256 (1)\ttotal: 205ms\tremaining: 152ms\n",
      "148:\tlearn: 1.0000000\ttest: 0.5789474\tbest: 0.6410256 (1)\ttotal: 206ms\tremaining: 151ms\n",
      "149:\tlearn: 1.0000000\ttest: 0.5789474\tbest: 0.6410256 (1)\ttotal: 207ms\tremaining: 149ms\n",
      "150:\tlearn: 1.0000000\ttest: 0.5789474\tbest: 0.6410256 (1)\ttotal: 208ms\tremaining: 148ms\n",
      "151:\tlearn: 1.0000000\ttest: 0.5789474\tbest: 0.6410256 (1)\ttotal: 209ms\tremaining: 146ms\n",
      "152:\tlearn: 1.0000000\ttest: 0.5789474\tbest: 0.6410256 (1)\ttotal: 211ms\tremaining: 145ms\n",
      "153:\tlearn: 1.0000000\ttest: 0.5789474\tbest: 0.6410256 (1)\ttotal: 212ms\tremaining: 143ms\n",
      "154:\tlearn: 1.0000000\ttest: 0.5789474\tbest: 0.6410256 (1)\ttotal: 213ms\tremaining: 141ms\n",
      "155:\tlearn: 1.0000000\ttest: 0.5789474\tbest: 0.6410256 (1)\ttotal: 214ms\tremaining: 140ms\n",
      "156:\tlearn: 1.0000000\ttest: 0.5789474\tbest: 0.6410256 (1)\ttotal: 215ms\tremaining: 138ms\n",
      "157:\tlearn: 1.0000000\ttest: 0.5789474\tbest: 0.6410256 (1)\ttotal: 216ms\tremaining: 137ms\n",
      "158:\tlearn: 1.0000000\ttest: 0.5789474\tbest: 0.6410256 (1)\ttotal: 217ms\tremaining: 135ms\n",
      "159:\tlearn: 1.0000000\ttest: 0.5789474\tbest: 0.6410256 (1)\ttotal: 219ms\tremaining: 134ms\n",
      "160:\tlearn: 1.0000000\ttest: 0.5789474\tbest: 0.6410256 (1)\ttotal: 221ms\tremaining: 133ms\n",
      "161:\tlearn: 1.0000000\ttest: 0.5789474\tbest: 0.6410256 (1)\ttotal: 222ms\tremaining: 131ms\n",
      "162:\tlearn: 1.0000000\ttest: 0.5600000\tbest: 0.6410256 (1)\ttotal: 223ms\tremaining: 130ms\n",
      "163:\tlearn: 1.0000000\ttest: 0.5789474\tbest: 0.6410256 (1)\ttotal: 225ms\tremaining: 129ms\n",
      "164:\tlearn: 1.0000000\ttest: 0.5789474\tbest: 0.6410256 (1)\ttotal: 226ms\tremaining: 127ms\n",
      "165:\tlearn: 1.0000000\ttest: 0.5789474\tbest: 0.6410256 (1)\ttotal: 227ms\tremaining: 126ms\n",
      "166:\tlearn: 1.0000000\ttest: 0.5600000\tbest: 0.6410256 (1)\ttotal: 228ms\tremaining: 124ms\n",
      "167:\tlearn: 1.0000000\ttest: 0.5600000\tbest: 0.6410256 (1)\ttotal: 229ms\tremaining: 123ms\n",
      "168:\tlearn: 1.0000000\ttest: 0.5600000\tbest: 0.6410256 (1)\ttotal: 230ms\tremaining: 121ms\n",
      "169:\tlearn: 1.0000000\ttest: 0.5600000\tbest: 0.6410256 (1)\ttotal: 231ms\tremaining: 120ms\n",
      "170:\tlearn: 1.0000000\ttest: 0.5600000\tbest: 0.6410256 (1)\ttotal: 232ms\tremaining: 118ms\n",
      "171:\tlearn: 1.0000000\ttest: 0.5600000\tbest: 0.6410256 (1)\ttotal: 234ms\tremaining: 117ms\n",
      "172:\tlearn: 1.0000000\ttest: 0.5789474\tbest: 0.6410256 (1)\ttotal: 236ms\tremaining: 116ms\n",
      "173:\tlearn: 1.0000000\ttest: 0.5405405\tbest: 0.6410256 (1)\ttotal: 237ms\tremaining: 114ms\n",
      "174:\tlearn: 1.0000000\ttest: 0.5600000\tbest: 0.6410256 (1)\ttotal: 238ms\tremaining: 113ms\n",
      "175:\tlearn: 1.0000000\ttest: 0.5600000\tbest: 0.6410256 (1)\ttotal: 239ms\tremaining: 111ms\n",
      "176:\tlearn: 1.0000000\ttest: 0.5789474\tbest: 0.6410256 (1)\ttotal: 240ms\tremaining: 110ms\n",
      "177:\tlearn: 1.0000000\ttest: 0.5789474\tbest: 0.6410256 (1)\ttotal: 242ms\tremaining: 109ms\n",
      "178:\tlearn: 1.0000000\ttest: 0.5789474\tbest: 0.6410256 (1)\ttotal: 243ms\tremaining: 107ms\n",
      "179:\tlearn: 1.0000000\ttest: 0.5600000\tbest: 0.6410256 (1)\ttotal: 244ms\tremaining: 106ms\n",
      "180:\tlearn: 1.0000000\ttest: 0.5600000\tbest: 0.6410256 (1)\ttotal: 245ms\tremaining: 104ms\n",
      "181:\tlearn: 1.0000000\ttest: 0.5205479\tbest: 0.6410256 (1)\ttotal: 246ms\tremaining: 103ms\n",
      "182:\tlearn: 1.0000000\ttest: 0.5205479\tbest: 0.6410256 (1)\ttotal: 247ms\tremaining: 101ms\n",
      "183:\tlearn: 1.0000000\ttest: 0.5205479\tbest: 0.6410256 (1)\ttotal: 250ms\tremaining: 100ms\n",
      "184:\tlearn: 1.0000000\ttest: 0.5205479\tbest: 0.6410256 (1)\ttotal: 252ms\tremaining: 99.4ms\n",
      "185:\tlearn: 1.0000000\ttest: 0.5205479\tbest: 0.6410256 (1)\ttotal: 254ms\tremaining: 98.2ms\n",
      "186:\tlearn: 1.0000000\ttest: 0.5205479\tbest: 0.6410256 (1)\ttotal: 255ms\tremaining: 96.8ms\n",
      "187:\tlearn: 1.0000000\ttest: 0.5205479\tbest: 0.6410256 (1)\ttotal: 256ms\tremaining: 95.3ms\n",
      "188:\tlearn: 1.0000000\ttest: 0.5205479\tbest: 0.6410256 (1)\ttotal: 257ms\tremaining: 93.9ms\n",
      "189:\tlearn: 1.0000000\ttest: 0.5205479\tbest: 0.6410256 (1)\ttotal: 258ms\tremaining: 92.5ms\n",
      "190:\tlearn: 1.0000000\ttest: 0.5600000\tbest: 0.6410256 (1)\ttotal: 260ms\tremaining: 91ms\n",
      "191:\tlearn: 1.0000000\ttest: 0.5600000\tbest: 0.6410256 (1)\ttotal: 261ms\tremaining: 89.7ms\n",
      "192:\tlearn: 1.0000000\ttest: 0.5600000\tbest: 0.6410256 (1)\ttotal: 262ms\tremaining: 88.2ms\n",
      "193:\tlearn: 1.0000000\ttest: 0.5600000\tbest: 0.6410256 (1)\ttotal: 263ms\tremaining: 86.8ms\n",
      "194:\tlearn: 1.0000000\ttest: 0.5405405\tbest: 0.6410256 (1)\ttotal: 264ms\tremaining: 85.4ms\n",
      "195:\tlearn: 1.0000000\ttest: 0.5600000\tbest: 0.6410256 (1)\ttotal: 267ms\tremaining: 84.4ms\n",
      "196:\tlearn: 1.0000000\ttest: 0.5600000\tbest: 0.6410256 (1)\ttotal: 268ms\tremaining: 83.1ms\n",
      "197:\tlearn: 1.0000000\ttest: 0.5600000\tbest: 0.6410256 (1)\ttotal: 270ms\tremaining: 81.8ms\n",
      "198:\tlearn: 1.0000000\ttest: 0.5600000\tbest: 0.6410256 (1)\ttotal: 272ms\tremaining: 80.6ms\n",
      "199:\tlearn: 1.0000000\ttest: 0.5405405\tbest: 0.6410256 (1)\ttotal: 273ms\tremaining: 79.3ms\n",
      "200:\tlearn: 1.0000000\ttest: 0.5205479\tbest: 0.6410256 (1)\ttotal: 274ms\tremaining: 77.8ms\n",
      "201:\tlearn: 1.0000000\ttest: 0.5405405\tbest: 0.6410256 (1)\ttotal: 276ms\tremaining: 76.4ms\n",
      "202:\tlearn: 1.0000000\ttest: 0.5405405\tbest: 0.6410256 (1)\ttotal: 277ms\tremaining: 75ms\n",
      "203:\tlearn: 1.0000000\ttest: 0.5405405\tbest: 0.6410256 (1)\ttotal: 278ms\tremaining: 73.6ms\n",
      "204:\tlearn: 1.0000000\ttest: 0.5405405\tbest: 0.6410256 (1)\ttotal: 280ms\tremaining: 72.3ms\n",
      "205:\tlearn: 1.0000000\ttest: 0.5205479\tbest: 0.6410256 (1)\ttotal: 281ms\tremaining: 71ms\n",
      "206:\tlearn: 1.0000000\ttest: 0.5205479\tbest: 0.6410256 (1)\ttotal: 283ms\tremaining: 69.6ms\n",
      "207:\tlearn: 1.0000000\ttest: 0.5000000\tbest: 0.6410256 (1)\ttotal: 284ms\tremaining: 68.2ms\n",
      "208:\tlearn: 1.0000000\ttest: 0.5405405\tbest: 0.6410256 (1)\ttotal: 285ms\tremaining: 66.8ms\n",
      "209:\tlearn: 1.0000000\ttest: 0.5405405\tbest: 0.6410256 (1)\ttotal: 286ms\tremaining: 65.5ms\n",
      "210:\tlearn: 1.0000000\ttest: 0.5205479\tbest: 0.6410256 (1)\ttotal: 288ms\tremaining: 64ms\n",
      "211:\tlearn: 1.0000000\ttest: 0.5405405\tbest: 0.6410256 (1)\ttotal: 289ms\tremaining: 62.7ms\n",
      "212:\tlearn: 1.0000000\ttest: 0.5405405\tbest: 0.6410256 (1)\ttotal: 290ms\tremaining: 61.3ms\n",
      "213:\tlearn: 1.0000000\ttest: 0.5405405\tbest: 0.6410256 (1)\ttotal: 291ms\tremaining: 59.9ms\n",
      "214:\tlearn: 1.0000000\ttest: 0.5405405\tbest: 0.6410256 (1)\ttotal: 292ms\tremaining: 58.4ms\n",
      "215:\tlearn: 1.0000000\ttest: 0.5600000\tbest: 0.6410256 (1)\ttotal: 293ms\tremaining: 57ms\n",
      "216:\tlearn: 1.0000000\ttest: 0.5600000\tbest: 0.6410256 (1)\ttotal: 294ms\tremaining: 55.6ms\n",
      "217:\tlearn: 1.0000000\ttest: 0.5600000\tbest: 0.6410256 (1)\ttotal: 296ms\tremaining: 54.3ms\n",
      "218:\tlearn: 1.0000000\ttest: 0.5600000\tbest: 0.6410256 (1)\ttotal: 297ms\tremaining: 52.9ms\n",
      "219:\tlearn: 1.0000000\ttest: 0.5600000\tbest: 0.6410256 (1)\ttotal: 298ms\tremaining: 51.6ms\n",
      "220:\tlearn: 1.0000000\ttest: 0.5600000\tbest: 0.6410256 (1)\ttotal: 300ms\tremaining: 50.2ms\n",
      "221:\tlearn: 1.0000000\ttest: 0.5600000\tbest: 0.6410256 (1)\ttotal: 301ms\tremaining: 48.8ms\n",
      "222:\tlearn: 1.0000000\ttest: 0.5600000\tbest: 0.6410256 (1)\ttotal: 302ms\tremaining: 47.4ms\n",
      "223:\tlearn: 1.0000000\ttest: 0.5600000\tbest: 0.6410256 (1)\ttotal: 303ms\tremaining: 46ms\n",
      "224:\tlearn: 1.0000000\ttest: 0.5600000\tbest: 0.6410256 (1)\ttotal: 304ms\tremaining: 44.6ms\n",
      "225:\tlearn: 1.0000000\ttest: 0.5405405\tbest: 0.6410256 (1)\ttotal: 305ms\tremaining: 43.2ms\n",
      "226:\tlearn: 1.0000000\ttest: 0.5405405\tbest: 0.6410256 (1)\ttotal: 307ms\tremaining: 41.9ms\n",
      "227:\tlearn: 1.0000000\ttest: 0.5405405\tbest: 0.6410256 (1)\ttotal: 308ms\tremaining: 40.5ms\n",
      "228:\tlearn: 1.0000000\ttest: 0.5600000\tbest: 0.6410256 (1)\ttotal: 309ms\tremaining: 39.1ms\n",
      "229:\tlearn: 1.0000000\ttest: 0.5600000\tbest: 0.6410256 (1)\ttotal: 310ms\tremaining: 37.8ms\n",
      "230:\tlearn: 1.0000000\ttest: 0.5405405\tbest: 0.6410256 (1)\ttotal: 312ms\tremaining: 36.5ms\n",
      "231:\tlearn: 1.0000000\ttest: 0.5405405\tbest: 0.6410256 (1)\ttotal: 313ms\tremaining: 35.1ms\n",
      "232:\tlearn: 1.0000000\ttest: 0.5405405\tbest: 0.6410256 (1)\ttotal: 315ms\tremaining: 33.8ms\n",
      "233:\tlearn: 1.0000000\ttest: 0.5600000\tbest: 0.6410256 (1)\ttotal: 317ms\tremaining: 32.5ms\n",
      "234:\tlearn: 1.0000000\ttest: 0.5405405\tbest: 0.6410256 (1)\ttotal: 318ms\tremaining: 31.1ms\n",
      "235:\tlearn: 1.0000000\ttest: 0.5600000\tbest: 0.6410256 (1)\ttotal: 319ms\tremaining: 29.8ms\n",
      "236:\tlearn: 1.0000000\ttest: 0.5600000\tbest: 0.6410256 (1)\ttotal: 320ms\tremaining: 28.4ms\n",
      "237:\tlearn: 1.0000000\ttest: 0.5789474\tbest: 0.6410256 (1)\ttotal: 322ms\tremaining: 27ms\n",
      "238:\tlearn: 1.0000000\ttest: 0.5789474\tbest: 0.6410256 (1)\ttotal: 323ms\tremaining: 25.7ms\n",
      "239:\tlearn: 1.0000000\ttest: 0.5789474\tbest: 0.6410256 (1)\ttotal: 324ms\tremaining: 24.3ms\n",
      "240:\tlearn: 1.0000000\ttest: 0.5789474\tbest: 0.6410256 (1)\ttotal: 325ms\tremaining: 22.9ms\n",
      "241:\tlearn: 1.0000000\ttest: 0.5789474\tbest: 0.6410256 (1)\ttotal: 327ms\tremaining: 21.6ms\n",
      "242:\tlearn: 1.0000000\ttest: 0.5789474\tbest: 0.6410256 (1)\ttotal: 329ms\tremaining: 20.3ms\n",
      "243:\tlearn: 1.0000000\ttest: 0.5789474\tbest: 0.6410256 (1)\ttotal: 330ms\tremaining: 18.9ms\n",
      "244:\tlearn: 1.0000000\ttest: 0.5600000\tbest: 0.6410256 (1)\ttotal: 331ms\tremaining: 17.6ms\n",
      "245:\tlearn: 1.0000000\ttest: 0.5600000\tbest: 0.6410256 (1)\ttotal: 332ms\tremaining: 16.2ms\n",
      "246:\tlearn: 1.0000000\ttest: 0.5600000\tbest: 0.6410256 (1)\ttotal: 333ms\tremaining: 14.8ms\n",
      "247:\tlearn: 1.0000000\ttest: 0.5600000\tbest: 0.6410256 (1)\ttotal: 335ms\tremaining: 13.5ms\n",
      "248:\tlearn: 1.0000000\ttest: 0.5600000\tbest: 0.6410256 (1)\ttotal: 336ms\tremaining: 12.1ms\n",
      "249:\tlearn: 1.0000000\ttest: 0.5600000\tbest: 0.6410256 (1)\ttotal: 337ms\tremaining: 10.8ms\n",
      "250:\tlearn: 1.0000000\ttest: 0.5600000\tbest: 0.6410256 (1)\ttotal: 338ms\tremaining: 9.43ms\n",
      "251:\tlearn: 1.0000000\ttest: 0.5600000\tbest: 0.6410256 (1)\ttotal: 339ms\tremaining: 8.07ms\n",
      "252:\tlearn: 1.0000000\ttest: 0.5600000\tbest: 0.6410256 (1)\ttotal: 340ms\tremaining: 6.72ms\n",
      "253:\tlearn: 1.0000000\ttest: 0.5600000\tbest: 0.6410256 (1)\ttotal: 342ms\tremaining: 5.38ms\n",
      "254:\tlearn: 1.0000000\ttest: 0.5789474\tbest: 0.6410256 (1)\ttotal: 344ms\tremaining: 4.04ms\n",
      "255:\tlearn: 1.0000000\ttest: 0.5789474\tbest: 0.6410256 (1)\ttotal: 346ms\tremaining: 2.7ms\n",
      "256:\tlearn: 1.0000000\ttest: 0.5600000\tbest: 0.6410256 (1)\ttotal: 348ms\tremaining: 1.35ms\n",
      "257:\tlearn: 1.0000000\ttest: 0.5600000\tbest: 0.6410256 (1)\ttotal: 349ms\tremaining: 0us\n",
      "\n",
      "bestTest = 0.641025641\n",
      "bestIteration = 1\n",
      "\n",
      "Training on fold [3/5]\n",
      "0:\tlearn: 0.6751592\ttest: 0.6750000\tbest: 0.6750000 (0)\ttotal: 1.33ms\tremaining: 343ms\n",
      "1:\tlearn: 0.6875000\ttest: 0.6666667\tbest: 0.6750000 (0)\ttotal: 2.52ms\tremaining: 323ms\n",
      "2:\tlearn: 0.6964856\ttest: 0.6329114\tbest: 0.6750000 (0)\ttotal: 3.89ms\tremaining: 331ms\n",
      "3:\tlearn: 0.7329193\ttest: 0.6829268\tbest: 0.6829268 (3)\ttotal: 5.12ms\tremaining: 325ms\n",
      "4:\tlearn: 0.7066667\ttest: 0.6756757\tbest: 0.6829268 (3)\ttotal: 6.37ms\tremaining: 322ms\n",
      "5:\tlearn: 0.7109635\ttest: 0.6578947\tbest: 0.6829268 (3)\ttotal: 7.59ms\tremaining: 319ms\n",
      "6:\tlearn: 0.7409836\ttest: 0.7105263\tbest: 0.7105263 (6)\ttotal: 8.8ms\tremaining: 316ms\n",
      "7:\tlearn: 0.7579618\ttest: 0.7012987\tbest: 0.7105263 (6)\ttotal: 10.2ms\tremaining: 318ms\n",
      "8:\tlearn: 0.7628205\ttest: 0.6923077\tbest: 0.7105263 (6)\ttotal: 11.4ms\tremaining: 315ms\n",
      "9:\tlearn: 0.7508091\ttest: 0.7105263\tbest: 0.7105263 (6)\ttotal: 12.6ms\tremaining: 311ms\n",
      "10:\tlearn: 0.7717042\ttest: 0.7272727\tbest: 0.7272727 (10)\ttotal: 13.7ms\tremaining: 308ms\n",
      "11:\tlearn: 0.7987220\ttest: 0.7368421\tbest: 0.7368421 (11)\ttotal: 14.9ms\tremaining: 305ms\n",
      "12:\tlearn: 0.7948718\ttest: 0.7368421\tbest: 0.7368421 (11)\ttotal: 16ms\tremaining: 302ms\n",
      "13:\tlearn: 0.7948718\ttest: 0.7368421\tbest: 0.7368421 (11)\ttotal: 17.2ms\tremaining: 300ms\n",
      "14:\tlearn: 0.7948718\ttest: 0.7200000\tbest: 0.7368421 (11)\ttotal: 18.4ms\tremaining: 297ms\n",
      "15:\tlearn: 0.7948718\ttest: 0.7200000\tbest: 0.7368421 (11)\ttotal: 19.6ms\tremaining: 297ms\n",
      "16:\tlearn: 0.8141026\ttest: 0.7200000\tbest: 0.7368421 (11)\ttotal: 20.8ms\tremaining: 296ms\n",
      "17:\tlearn: 0.8328076\ttest: 0.7105263\tbest: 0.7368421 (11)\ttotal: 22ms\tremaining: 294ms\n",
      "18:\tlearn: 0.8343949\ttest: 0.6842105\tbest: 0.7368421 (11)\ttotal: 23.2ms\tremaining: 292ms\n",
      "19:\tlearn: 0.8427673\ttest: 0.7272727\tbest: 0.7368421 (11)\ttotal: 24.4ms\tremaining: 290ms\n",
      "20:\tlearn: 0.8625000\ttest: 0.7012987\tbest: 0.7368421 (11)\ttotal: 25.6ms\tremaining: 288ms\n",
      "21:\tlearn: 0.8738462\ttest: 0.7088608\tbest: 0.7368421 (11)\ttotal: 26.7ms\tremaining: 287ms\n",
      "22:\tlearn: 0.8738462\ttest: 0.7088608\tbest: 0.7368421 (11)\ttotal: 27.9ms\tremaining: 285ms\n",
      "23:\tlearn: 0.8738462\ttest: 0.7088608\tbest: 0.7368421 (11)\ttotal: 28.8ms\tremaining: 281ms\n",
      "24:\tlearn: 0.8703704\ttest: 0.7088608\tbest: 0.7368421 (11)\ttotal: 29.7ms\tremaining: 276ms\n",
      "25:\tlearn: 0.8695652\ttest: 0.7179487\tbest: 0.7368421 (11)\ttotal: 30.8ms\tremaining: 275ms\n",
      "26:\tlearn: 0.8695652\ttest: 0.7179487\tbest: 0.7368421 (11)\ttotal: 31.7ms\tremaining: 271ms\n",
      "27:\tlearn: 0.8800000\ttest: 0.7012987\tbest: 0.7368421 (11)\ttotal: 32.8ms\tremaining: 269ms\n",
      "28:\tlearn: 0.8834356\ttest: 0.7088608\tbest: 0.7368421 (11)\ttotal: 33.9ms\tremaining: 268ms\n",
      "29:\tlearn: 0.8834356\ttest: 0.7088608\tbest: 0.7368421 (11)\ttotal: 35.3ms\tremaining: 268ms\n",
      "30:\tlearn: 0.8834356\ttest: 0.7088608\tbest: 0.7368421 (11)\ttotal: 36.5ms\tremaining: 267ms\n",
      "31:\tlearn: 0.8888889\ttest: 0.7179487\tbest: 0.7368421 (11)\ttotal: 37.6ms\tremaining: 266ms\n",
      "32:\tlearn: 0.8923077\ttest: 0.7000000\tbest: 0.7368421 (11)\ttotal: 38.8ms\tremaining: 264ms\n",
      "33:\tlearn: 0.8895706\ttest: 0.6835443\tbest: 0.7368421 (11)\ttotal: 39.9ms\tremaining: 263ms\n",
      "34:\tlearn: 0.8916409\ttest: 0.6835443\tbest: 0.7368421 (11)\ttotal: 41.1ms\tremaining: 262ms\n",
      "35:\tlearn: 0.9051988\ttest: 0.6835443\tbest: 0.7368421 (11)\ttotal: 42.3ms\tremaining: 261ms\n",
      "36:\tlearn: 0.9085366\ttest: 0.6835443\tbest: 0.7368421 (11)\ttotal: 43.4ms\tremaining: 259ms\n",
      "37:\tlearn: 0.9240122\ttest: 0.6666667\tbest: 0.7368421 (11)\ttotal: 44.6ms\tremaining: 258ms\n",
      "38:\tlearn: 0.9240122\ttest: 0.6666667\tbest: 0.7368421 (11)\ttotal: 45.8ms\tremaining: 257ms\n",
      "39:\tlearn: 0.9240122\ttest: 0.6666667\tbest: 0.7368421 (11)\ttotal: 46.6ms\tremaining: 254ms\n",
      "40:\tlearn: 0.9337349\ttest: 0.6666667\tbest: 0.7368421 (11)\ttotal: 47.8ms\tremaining: 253ms\n",
      "41:\tlearn: 0.9365559\ttest: 0.6750000\tbest: 0.7368421 (11)\ttotal: 49.3ms\tremaining: 253ms\n",
      "42:\tlearn: 0.9397590\ttest: 0.6666667\tbest: 0.7368421 (11)\ttotal: 50.9ms\tremaining: 254ms\n",
      "43:\tlearn: 0.9393939\ttest: 0.6585366\tbest: 0.7368421 (11)\ttotal: 52.1ms\tremaining: 253ms\n",
      "44:\tlearn: 0.9393939\ttest: 0.6585366\tbest: 0.7368421 (11)\ttotal: 53.2ms\tremaining: 252ms\n",
      "45:\tlearn: 0.9457831\ttest: 0.6585366\tbest: 0.7368421 (11)\ttotal: 54.4ms\tremaining: 251ms\n",
      "46:\tlearn: 0.9483283\ttest: 0.6585366\tbest: 0.7368421 (11)\ttotal: 55.6ms\tremaining: 250ms\n",
      "47:\tlearn: 0.9515152\ttest: 0.6666667\tbest: 0.7368421 (11)\ttotal: 56.7ms\tremaining: 248ms\n",
      "48:\tlearn: 0.9578313\ttest: 0.6746988\tbest: 0.7368421 (11)\ttotal: 57.9ms\tremaining: 247ms\n",
      "49:\tlearn: 0.9578313\ttest: 0.6746988\tbest: 0.7368421 (11)\ttotal: 59.1ms\tremaining: 246ms\n",
      "50:\tlearn: 0.9546828\ttest: 0.6829268\tbest: 0.7368421 (11)\ttotal: 60.2ms\tremaining: 244ms\n",
      "51:\tlearn: 0.9607251\ttest: 0.6913580\tbest: 0.7368421 (11)\ttotal: 61.4ms\tremaining: 243ms\n",
      "52:\tlearn: 0.9607251\ttest: 0.6913580\tbest: 0.7368421 (11)\ttotal: 62.6ms\tremaining: 242ms\n",
      "53:\tlearn: 0.9607251\ttest: 0.6913580\tbest: 0.7368421 (11)\ttotal: 63.9ms\tremaining: 241ms\n",
      "54:\tlearn: 0.9607251\ttest: 0.6913580\tbest: 0.7368421 (11)\ttotal: 65.4ms\tremaining: 241ms\n",
      "55:\tlearn: 0.9607251\ttest: 0.6913580\tbest: 0.7368421 (11)\ttotal: 66.7ms\tremaining: 241ms\n",
      "56:\tlearn: 0.9607251\ttest: 0.6913580\tbest: 0.7368421 (11)\ttotal: 67.9ms\tremaining: 239ms\n",
      "57:\tlearn: 0.9667674\ttest: 0.7073171\tbest: 0.7368421 (11)\ttotal: 69.1ms\tremaining: 238ms\n",
      "58:\tlearn: 0.9698795\ttest: 0.7000000\tbest: 0.7368421 (11)\ttotal: 70.2ms\tremaining: 237ms\n",
      "59:\tlearn: 0.9698795\ttest: 0.7000000\tbest: 0.7368421 (11)\ttotal: 71.4ms\tremaining: 235ms\n",
      "60:\tlearn: 0.9791045\ttest: 0.7000000\tbest: 0.7368421 (11)\ttotal: 72.5ms\tremaining: 234ms\n",
      "61:\tlearn: 0.9760479\ttest: 0.7160494\tbest: 0.7368421 (11)\ttotal: 73.7ms\tremaining: 233ms\n",
      "62:\tlearn: 0.9760479\ttest: 0.6913580\tbest: 0.7368421 (11)\ttotal: 74.8ms\tremaining: 232ms\n",
      "63:\tlearn: 0.9791045\ttest: 0.6913580\tbest: 0.7368421 (11)\ttotal: 76ms\tremaining: 230ms\n",
      "64:\tlearn: 0.9821429\ttest: 0.6913580\tbest: 0.7368421 (11)\ttotal: 77.1ms\tremaining: 229ms\n",
      "65:\tlearn: 0.9821429\ttest: 0.6913580\tbest: 0.7368421 (11)\ttotal: 78.3ms\tremaining: 228ms\n",
      "66:\tlearn: 0.9821429\ttest: 0.6913580\tbest: 0.7368421 (11)\ttotal: 79.4ms\tremaining: 226ms\n",
      "67:\tlearn: 0.9821429\ttest: 0.6913580\tbest: 0.7368421 (11)\ttotal: 81ms\tremaining: 226ms\n",
      "68:\tlearn: 0.9791045\ttest: 0.6913580\tbest: 0.7368421 (11)\ttotal: 82.2ms\tremaining: 225ms\n",
      "69:\tlearn: 0.9851632\ttest: 0.7000000\tbest: 0.7368421 (11)\ttotal: 83.4ms\tremaining: 224ms\n",
      "70:\tlearn: 0.9851632\ttest: 0.6913580\tbest: 0.7368421 (11)\ttotal: 84.6ms\tremaining: 223ms\n",
      "71:\tlearn: 0.9851632\ttest: 0.6913580\tbest: 0.7368421 (11)\ttotal: 85.7ms\tremaining: 221ms\n",
      "72:\tlearn: 0.9851632\ttest: 0.6913580\tbest: 0.7368421 (11)\ttotal: 86.9ms\tremaining: 220ms\n",
      "73:\tlearn: 0.9821429\ttest: 0.6913580\tbest: 0.7368421 (11)\ttotal: 88ms\tremaining: 219ms\n",
      "74:\tlearn: 0.9851632\ttest: 0.6913580\tbest: 0.7368421 (11)\ttotal: 89.2ms\tremaining: 218ms\n",
      "75:\tlearn: 0.9791045\ttest: 0.6987952\tbest: 0.7368421 (11)\ttotal: 90.4ms\tremaining: 217ms\n",
      "76:\tlearn: 0.9791045\ttest: 0.6987952\tbest: 0.7368421 (11)\ttotal: 91.8ms\tremaining: 216ms\n",
      "77:\tlearn: 0.9791045\ttest: 0.7073171\tbest: 0.7368421 (11)\ttotal: 93.5ms\tremaining: 216ms\n",
      "78:\tlearn: 0.9791045\ttest: 0.6750000\tbest: 0.7368421 (11)\ttotal: 95.1ms\tremaining: 215ms\n",
      "79:\tlearn: 0.9791045\ttest: 0.6666667\tbest: 0.7368421 (11)\ttotal: 97.6ms\tremaining: 217ms\n",
      "80:\tlearn: 0.9791045\ttest: 0.6750000\tbest: 0.7368421 (11)\ttotal: 99.1ms\tremaining: 217ms\n",
      "81:\tlearn: 0.9821429\ttest: 0.6829268\tbest: 0.7368421 (11)\ttotal: 101ms\tremaining: 217ms\n",
      "82:\tlearn: 0.9821429\ttest: 0.6829268\tbest: 0.7368421 (11)\ttotal: 103ms\tremaining: 217ms\n",
      "83:\tlearn: 0.9851632\ttest: 0.6829268\tbest: 0.7368421 (11)\ttotal: 104ms\tremaining: 216ms\n",
      "84:\tlearn: 0.9851632\ttest: 0.6666667\tbest: 0.7368421 (11)\ttotal: 106ms\tremaining: 216ms\n",
      "85:\tlearn: 0.9851632\ttest: 0.6666667\tbest: 0.7368421 (11)\ttotal: 108ms\tremaining: 215ms\n",
      "86:\tlearn: 0.9851632\ttest: 0.6666667\tbest: 0.7368421 (11)\ttotal: 109ms\tremaining: 215ms\n",
      "87:\tlearn: 0.9851632\ttest: 0.6666667\tbest: 0.7368421 (11)\ttotal: 111ms\tremaining: 214ms\n",
      "88:\tlearn: 0.9851632\ttest: 0.6666667\tbest: 0.7368421 (11)\ttotal: 113ms\tremaining: 214ms\n",
      "89:\tlearn: 0.9881657\ttest: 0.6829268\tbest: 0.7368421 (11)\ttotal: 115ms\tremaining: 215ms\n",
      "90:\tlearn: 0.9881657\ttest: 0.6987952\tbest: 0.7368421 (11)\ttotal: 116ms\tremaining: 213ms\n",
      "91:\tlearn: 0.9881657\ttest: 0.6987952\tbest: 0.7368421 (11)\ttotal: 117ms\tremaining: 212ms\n",
      "92:\tlearn: 0.9881657\ttest: 0.6987952\tbest: 0.7368421 (11)\ttotal: 118ms\tremaining: 210ms\n",
      "93:\tlearn: 0.9881657\ttest: 0.6987952\tbest: 0.7368421 (11)\ttotal: 120ms\tremaining: 209ms\n",
      "94:\tlearn: 0.9881657\ttest: 0.6987952\tbest: 0.7368421 (11)\ttotal: 121ms\tremaining: 207ms\n",
      "95:\tlearn: 0.9881657\ttest: 0.6987952\tbest: 0.7368421 (11)\ttotal: 122ms\tremaining: 206ms\n",
      "96:\tlearn: 0.9881657\ttest: 0.6987952\tbest: 0.7368421 (11)\ttotal: 123ms\tremaining: 204ms\n",
      "97:\tlearn: 0.9881657\ttest: 0.6829268\tbest: 0.7368421 (11)\ttotal: 124ms\tremaining: 203ms\n",
      "98:\tlearn: 0.9881657\ttest: 0.6987952\tbest: 0.7368421 (11)\ttotal: 125ms\tremaining: 201ms\n",
      "99:\tlearn: 0.9881657\ttest: 0.6666667\tbest: 0.7368421 (11)\ttotal: 127ms\tremaining: 200ms\n",
      "100:\tlearn: 0.9881657\ttest: 0.6666667\tbest: 0.7368421 (11)\ttotal: 128ms\tremaining: 200ms\n",
      "101:\tlearn: 0.9881657\ttest: 0.6829268\tbest: 0.7368421 (11)\ttotal: 130ms\tremaining: 199ms\n",
      "102:\tlearn: 0.9881657\ttest: 0.6829268\tbest: 0.7368421 (11)\ttotal: 131ms\tremaining: 197ms\n",
      "103:\tlearn: 0.9881657\ttest: 0.6987952\tbest: 0.7368421 (11)\ttotal: 132ms\tremaining: 196ms\n",
      "104:\tlearn: 0.9881657\ttest: 0.6987952\tbest: 0.7368421 (11)\ttotal: 133ms\tremaining: 195ms\n",
      "105:\tlearn: 0.9881657\ttest: 0.6987952\tbest: 0.7368421 (11)\ttotal: 135ms\tremaining: 193ms\n",
      "106:\tlearn: 0.9881657\ttest: 0.6987952\tbest: 0.7368421 (11)\ttotal: 136ms\tremaining: 192ms\n",
      "107:\tlearn: 0.9881657\ttest: 0.6987952\tbest: 0.7368421 (11)\ttotal: 137ms\tremaining: 190ms\n",
      "108:\tlearn: 0.9881657\ttest: 0.6987952\tbest: 0.7368421 (11)\ttotal: 138ms\tremaining: 189ms\n",
      "109:\tlearn: 0.9881657\ttest: 0.7142857\tbest: 0.7368421 (11)\ttotal: 139ms\tremaining: 187ms\n",
      "110:\tlearn: 0.9881657\ttest: 0.7142857\tbest: 0.7368421 (11)\ttotal: 140ms\tremaining: 186ms\n",
      "111:\tlearn: 0.9881657\ttest: 0.7142857\tbest: 0.7368421 (11)\ttotal: 142ms\tremaining: 185ms\n",
      "112:\tlearn: 0.9881657\ttest: 0.7142857\tbest: 0.7368421 (11)\ttotal: 143ms\tremaining: 183ms\n",
      "113:\tlearn: 0.9881657\ttest: 0.6987952\tbest: 0.7368421 (11)\ttotal: 144ms\tremaining: 182ms\n",
      "114:\tlearn: 0.9911504\ttest: 0.6987952\tbest: 0.7368421 (11)\ttotal: 145ms\tremaining: 181ms\n",
      "115:\tlearn: 0.9911504\ttest: 0.6829268\tbest: 0.7368421 (11)\ttotal: 147ms\tremaining: 179ms\n",
      "116:\tlearn: 0.9941176\ttest: 0.6987952\tbest: 0.7368421 (11)\ttotal: 148ms\tremaining: 178ms\n",
      "117:\tlearn: 0.9941176\ttest: 0.6987952\tbest: 0.7368421 (11)\ttotal: 149ms\tremaining: 177ms\n",
      "118:\tlearn: 0.9941176\ttest: 0.6987952\tbest: 0.7368421 (11)\ttotal: 150ms\tremaining: 175ms\n",
      "119:\tlearn: 0.9941176\ttest: 0.6987952\tbest: 0.7368421 (11)\ttotal: 151ms\tremaining: 174ms\n",
      "120:\tlearn: 0.9941176\ttest: 0.6987952\tbest: 0.7368421 (11)\ttotal: 152ms\tremaining: 172ms\n",
      "121:\tlearn: 0.9941176\ttest: 0.6987952\tbest: 0.7368421 (11)\ttotal: 153ms\tremaining: 171ms\n",
      "122:\tlearn: 0.9941176\ttest: 0.6829268\tbest: 0.7368421 (11)\ttotal: 155ms\tremaining: 170ms\n",
      "123:\tlearn: 0.9970674\ttest: 0.6666667\tbest: 0.7368421 (11)\ttotal: 156ms\tremaining: 168ms\n",
      "124:\tlearn: 0.9970674\ttest: 0.6829268\tbest: 0.7368421 (11)\ttotal: 157ms\tremaining: 167ms\n",
      "125:\tlearn: 0.9970674\ttest: 0.6829268\tbest: 0.7368421 (11)\ttotal: 159ms\tremaining: 166ms\n",
      "126:\tlearn: 0.9970674\ttest: 0.6829268\tbest: 0.7368421 (11)\ttotal: 160ms\tremaining: 165ms\n",
      "127:\tlearn: 0.9970674\ttest: 0.6829268\tbest: 0.7368421 (11)\ttotal: 161ms\tremaining: 164ms\n",
      "128:\tlearn: 0.9970674\ttest: 0.7000000\tbest: 0.7368421 (11)\ttotal: 162ms\tremaining: 162ms\n",
      "129:\tlearn: 0.9970674\ttest: 0.7000000\tbest: 0.7368421 (11)\ttotal: 163ms\tremaining: 161ms\n",
      "130:\tlearn: 0.9970674\ttest: 0.7000000\tbest: 0.7368421 (11)\ttotal: 165ms\tremaining: 160ms\n",
      "131:\tlearn: 0.9970674\ttest: 0.7000000\tbest: 0.7368421 (11)\ttotal: 166ms\tremaining: 158ms\n",
      "132:\tlearn: 0.9970674\ttest: 0.7160494\tbest: 0.7368421 (11)\ttotal: 167ms\tremaining: 157ms\n",
      "133:\tlearn: 0.9970674\ttest: 0.7160494\tbest: 0.7368421 (11)\ttotal: 168ms\tremaining: 155ms\n",
      "134:\tlearn: 0.9970674\ttest: 0.7160494\tbest: 0.7368421 (11)\ttotal: 169ms\tremaining: 154ms\n",
      "135:\tlearn: 0.9970674\ttest: 0.7000000\tbest: 0.7368421 (11)\ttotal: 170ms\tremaining: 153ms\n",
      "136:\tlearn: 0.9970674\ttest: 0.6913580\tbest: 0.7368421 (11)\ttotal: 171ms\tremaining: 151ms\n",
      "137:\tlearn: 0.9970674\ttest: 0.7160494\tbest: 0.7368421 (11)\ttotal: 173ms\tremaining: 150ms\n",
      "138:\tlearn: 0.9970674\ttest: 0.7000000\tbest: 0.7368421 (11)\ttotal: 174ms\tremaining: 149ms\n",
      "139:\tlearn: 0.9970674\ttest: 0.6835443\tbest: 0.7368421 (11)\ttotal: 176ms\tremaining: 148ms\n",
      "140:\tlearn: 0.9970674\ttest: 0.6835443\tbest: 0.7368421 (11)\ttotal: 177ms\tremaining: 147ms\n",
      "141:\tlearn: 0.9970674\ttest: 0.6835443\tbest: 0.7368421 (11)\ttotal: 178ms\tremaining: 145ms\n",
      "142:\tlearn: 0.9970674\ttest: 0.6835443\tbest: 0.7368421 (11)\ttotal: 179ms\tremaining: 144ms\n",
      "143:\tlearn: 0.9970674\ttest: 0.6913580\tbest: 0.7368421 (11)\ttotal: 180ms\tremaining: 143ms\n",
      "144:\tlearn: 0.9970674\ttest: 0.6913580\tbest: 0.7368421 (11)\ttotal: 181ms\tremaining: 141ms\n",
      "145:\tlearn: 0.9970674\ttest: 0.6913580\tbest: 0.7368421 (11)\ttotal: 183ms\tremaining: 140ms\n",
      "146:\tlearn: 0.9970674\ttest: 0.6913580\tbest: 0.7368421 (11)\ttotal: 184ms\tremaining: 139ms\n",
      "147:\tlearn: 0.9970674\ttest: 0.6913580\tbest: 0.7368421 (11)\ttotal: 185ms\tremaining: 137ms\n",
      "148:\tlearn: 0.9970674\ttest: 0.6913580\tbest: 0.7368421 (11)\ttotal: 186ms\tremaining: 136ms\n",
      "149:\tlearn: 0.9970674\ttest: 0.6913580\tbest: 0.7368421 (11)\ttotal: 187ms\tremaining: 135ms\n",
      "150:\tlearn: 0.9970674\ttest: 0.6913580\tbest: 0.7368421 (11)\ttotal: 189ms\tremaining: 134ms\n",
      "151:\tlearn: 0.9970674\ttest: 0.6750000\tbest: 0.7368421 (11)\ttotal: 190ms\tremaining: 133ms\n",
      "152:\tlearn: 0.9970674\ttest: 0.6913580\tbest: 0.7368421 (11)\ttotal: 192ms\tremaining: 132ms\n",
      "153:\tlearn: 0.9970674\ttest: 0.6913580\tbest: 0.7368421 (11)\ttotal: 193ms\tremaining: 130ms\n",
      "154:\tlearn: 0.9970674\ttest: 0.6835443\tbest: 0.7368421 (11)\ttotal: 194ms\tremaining: 129ms\n",
      "155:\tlearn: 0.9970674\ttest: 0.6750000\tbest: 0.7368421 (11)\ttotal: 195ms\tremaining: 128ms\n",
      "156:\tlearn: 0.9970674\ttest: 0.6750000\tbest: 0.7368421 (11)\ttotal: 196ms\tremaining: 126ms\n",
      "157:\tlearn: 0.9970674\ttest: 0.6750000\tbest: 0.7368421 (11)\ttotal: 197ms\tremaining: 125ms\n",
      "158:\tlearn: 0.9970674\ttest: 0.6750000\tbest: 0.7368421 (11)\ttotal: 199ms\tremaining: 124ms\n",
      "159:\tlearn: 0.9970674\ttest: 0.6750000\tbest: 0.7368421 (11)\ttotal: 200ms\tremaining: 122ms\n",
      "160:\tlearn: 0.9970674\ttest: 0.6750000\tbest: 0.7368421 (11)\ttotal: 201ms\tremaining: 121ms\n",
      "161:\tlearn: 1.0000000\ttest: 0.6835443\tbest: 0.7368421 (11)\ttotal: 202ms\tremaining: 120ms\n",
      "162:\tlearn: 0.9970674\ttest: 0.6913580\tbest: 0.7368421 (11)\ttotal: 203ms\tremaining: 118ms\n",
      "163:\tlearn: 1.0000000\ttest: 0.6835443\tbest: 0.7368421 (11)\ttotal: 205ms\tremaining: 118ms\n",
      "164:\tlearn: 1.0000000\ttest: 0.6835443\tbest: 0.7368421 (11)\ttotal: 206ms\tremaining: 116ms\n",
      "165:\tlearn: 1.0000000\ttest: 0.7000000\tbest: 0.7368421 (11)\ttotal: 207ms\tremaining: 115ms\n",
      "166:\tlearn: 1.0000000\ttest: 0.7000000\tbest: 0.7368421 (11)\ttotal: 208ms\tremaining: 114ms\n",
      "167:\tlearn: 1.0000000\ttest: 0.7000000\tbest: 0.7368421 (11)\ttotal: 210ms\tremaining: 112ms\n",
      "168:\tlearn: 1.0000000\ttest: 0.7000000\tbest: 0.7368421 (11)\ttotal: 211ms\tremaining: 111ms\n",
      "169:\tlearn: 1.0000000\ttest: 0.7000000\tbest: 0.7368421 (11)\ttotal: 212ms\tremaining: 110ms\n",
      "170:\tlearn: 1.0000000\ttest: 0.7160494\tbest: 0.7368421 (11)\ttotal: 213ms\tremaining: 108ms\n",
      "171:\tlearn: 1.0000000\ttest: 0.7160494\tbest: 0.7368421 (11)\ttotal: 214ms\tremaining: 107ms\n",
      "172:\tlearn: 1.0000000\ttest: 0.7160494\tbest: 0.7368421 (11)\ttotal: 215ms\tremaining: 106ms\n",
      "173:\tlearn: 1.0000000\ttest: 0.7160494\tbest: 0.7368421 (11)\ttotal: 216ms\tremaining: 105ms\n",
      "174:\tlearn: 1.0000000\ttest: 0.7160494\tbest: 0.7368421 (11)\ttotal: 218ms\tremaining: 103ms\n",
      "175:\tlearn: 1.0000000\ttest: 0.7160494\tbest: 0.7368421 (11)\ttotal: 219ms\tremaining: 102ms\n",
      "176:\tlearn: 1.0000000\ttest: 0.7160494\tbest: 0.7368421 (11)\ttotal: 220ms\tremaining: 101ms\n",
      "177:\tlearn: 1.0000000\ttest: 0.7317073\tbest: 0.7368421 (11)\ttotal: 222ms\tremaining: 100ms\n",
      "178:\tlearn: 1.0000000\ttest: 0.7317073\tbest: 0.7368421 (11)\ttotal: 224ms\tremaining: 98.9ms\n",
      "179:\tlearn: 1.0000000\ttest: 0.7317073\tbest: 0.7368421 (11)\ttotal: 225ms\tremaining: 97.6ms\n",
      "180:\tlearn: 1.0000000\ttest: 0.7317073\tbest: 0.7368421 (11)\ttotal: 226ms\tremaining: 96.3ms\n",
      "181:\tlearn: 1.0000000\ttest: 0.7317073\tbest: 0.7368421 (11)\ttotal: 227ms\tremaining: 95ms\n",
      "182:\tlearn: 1.0000000\ttest: 0.7228916\tbest: 0.7368421 (11)\ttotal: 229ms\tremaining: 93.7ms\n",
      "183:\tlearn: 1.0000000\ttest: 0.7317073\tbest: 0.7368421 (11)\ttotal: 230ms\tremaining: 92.4ms\n",
      "184:\tlearn: 1.0000000\ttest: 0.7317073\tbest: 0.7368421 (11)\ttotal: 231ms\tremaining: 91.1ms\n",
      "185:\tlearn: 1.0000000\ttest: 0.7317073\tbest: 0.7368421 (11)\ttotal: 232ms\tremaining: 89.8ms\n",
      "186:\tlearn: 1.0000000\ttest: 0.7317073\tbest: 0.7368421 (11)\ttotal: 233ms\tremaining: 88.5ms\n",
      "187:\tlearn: 1.0000000\ttest: 0.7317073\tbest: 0.7368421 (11)\ttotal: 234ms\tremaining: 87.3ms\n",
      "188:\tlearn: 1.0000000\ttest: 0.7317073\tbest: 0.7368421 (11)\ttotal: 236ms\tremaining: 86.2ms\n",
      "189:\tlearn: 1.0000000\ttest: 0.7317073\tbest: 0.7368421 (11)\ttotal: 237ms\tremaining: 84.9ms\n",
      "190:\tlearn: 1.0000000\ttest: 0.7317073\tbest: 0.7368421 (11)\ttotal: 238ms\tremaining: 83.6ms\n",
      "191:\tlearn: 1.0000000\ttest: 0.7317073\tbest: 0.7368421 (11)\ttotal: 240ms\tremaining: 82.4ms\n",
      "192:\tlearn: 1.0000000\ttest: 0.7317073\tbest: 0.7368421 (11)\ttotal: 241ms\tremaining: 81.1ms\n",
      "193:\tlearn: 1.0000000\ttest: 0.7317073\tbest: 0.7368421 (11)\ttotal: 242ms\tremaining: 79.8ms\n",
      "194:\tlearn: 1.0000000\ttest: 0.7317073\tbest: 0.7368421 (11)\ttotal: 243ms\tremaining: 78.5ms\n",
      "195:\tlearn: 1.0000000\ttest: 0.7317073\tbest: 0.7368421 (11)\ttotal: 244ms\tremaining: 77.2ms\n",
      "196:\tlearn: 1.0000000\ttest: 0.7317073\tbest: 0.7368421 (11)\ttotal: 245ms\tremaining: 76ms\n",
      "197:\tlearn: 1.0000000\ttest: 0.7317073\tbest: 0.7368421 (11)\ttotal: 246ms\tremaining: 74.7ms\n",
      "198:\tlearn: 1.0000000\ttest: 0.7317073\tbest: 0.7368421 (11)\ttotal: 248ms\tremaining: 73.4ms\n",
      "199:\tlearn: 1.0000000\ttest: 0.7317073\tbest: 0.7368421 (11)\ttotal: 249ms\tremaining: 72.2ms\n",
      "200:\tlearn: 1.0000000\ttest: 0.7317073\tbest: 0.7368421 (11)\ttotal: 250ms\tremaining: 71ms\n",
      "201:\tlearn: 1.0000000\ttest: 0.7317073\tbest: 0.7368421 (11)\ttotal: 252ms\tremaining: 69.8ms\n",
      "202:\tlearn: 1.0000000\ttest: 0.7317073\tbest: 0.7368421 (11)\ttotal: 253ms\tremaining: 68.5ms\n",
      "203:\tlearn: 1.0000000\ttest: 0.7317073\tbest: 0.7368421 (11)\ttotal: 254ms\tremaining: 67.3ms\n",
      "204:\tlearn: 1.0000000\ttest: 0.7317073\tbest: 0.7368421 (11)\ttotal: 255ms\tremaining: 66ms\n",
      "205:\tlearn: 1.0000000\ttest: 0.7160494\tbest: 0.7368421 (11)\ttotal: 256ms\tremaining: 64.7ms\n",
      "206:\tlearn: 1.0000000\ttest: 0.7160494\tbest: 0.7368421 (11)\ttotal: 258ms\tremaining: 63.4ms\n",
      "207:\tlearn: 1.0000000\ttest: 0.7160494\tbest: 0.7368421 (11)\ttotal: 259ms\tremaining: 62.2ms\n",
      "208:\tlearn: 1.0000000\ttest: 0.7160494\tbest: 0.7368421 (11)\ttotal: 260ms\tremaining: 60.9ms\n",
      "209:\tlearn: 1.0000000\ttest: 0.7160494\tbest: 0.7368421 (11)\ttotal: 261ms\tremaining: 59.6ms\n",
      "210:\tlearn: 1.0000000\ttest: 0.7160494\tbest: 0.7368421 (11)\ttotal: 262ms\tremaining: 58.3ms\n",
      "211:\tlearn: 1.0000000\ttest: 0.7160494\tbest: 0.7368421 (11)\ttotal: 263ms\tremaining: 57.1ms\n",
      "212:\tlearn: 1.0000000\ttest: 0.7160494\tbest: 0.7368421 (11)\ttotal: 264ms\tremaining: 55.8ms\n",
      "213:\tlearn: 1.0000000\ttest: 0.7160494\tbest: 0.7368421 (11)\ttotal: 265ms\tremaining: 54.5ms\n",
      "214:\tlearn: 1.0000000\ttest: 0.7160494\tbest: 0.7368421 (11)\ttotal: 267ms\tremaining: 53.4ms\n",
      "215:\tlearn: 1.0000000\ttest: 0.7160494\tbest: 0.7368421 (11)\ttotal: 268ms\tremaining: 52.2ms\n",
      "216:\tlearn: 1.0000000\ttest: 0.7160494\tbest: 0.7368421 (11)\ttotal: 269ms\tremaining: 50.9ms\n",
      "217:\tlearn: 1.0000000\ttest: 0.7160494\tbest: 0.7368421 (11)\ttotal: 271ms\tremaining: 49.7ms\n",
      "218:\tlearn: 1.0000000\ttest: 0.7073171\tbest: 0.7368421 (11)\ttotal: 272ms\tremaining: 48.4ms\n",
      "219:\tlearn: 1.0000000\ttest: 0.7073171\tbest: 0.7368421 (11)\ttotal: 273ms\tremaining: 47.1ms\n",
      "220:\tlearn: 1.0000000\ttest: 0.7073171\tbest: 0.7368421 (11)\ttotal: 274ms\tremaining: 45.9ms\n",
      "221:\tlearn: 1.0000000\ttest: 0.7073171\tbest: 0.7368421 (11)\ttotal: 275ms\tremaining: 44.6ms\n",
      "222:\tlearn: 1.0000000\ttest: 0.7073171\tbest: 0.7368421 (11)\ttotal: 276ms\tremaining: 43.4ms\n",
      "223:\tlearn: 1.0000000\ttest: 0.7073171\tbest: 0.7368421 (11)\ttotal: 278ms\tremaining: 42.1ms\n",
      "224:\tlearn: 1.0000000\ttest: 0.7073171\tbest: 0.7368421 (11)\ttotal: 279ms\tremaining: 40.9ms\n",
      "225:\tlearn: 1.0000000\ttest: 0.7073171\tbest: 0.7368421 (11)\ttotal: 280ms\tremaining: 39.6ms\n",
      "226:\tlearn: 1.0000000\ttest: 0.7073171\tbest: 0.7368421 (11)\ttotal: 281ms\tremaining: 38.4ms\n",
      "227:\tlearn: 1.0000000\ttest: 0.7073171\tbest: 0.7368421 (11)\ttotal: 283ms\tremaining: 37.3ms\n",
      "228:\tlearn: 1.0000000\ttest: 0.7073171\tbest: 0.7368421 (11)\ttotal: 287ms\tremaining: 36.3ms\n",
      "229:\tlearn: 1.0000000\ttest: 0.7073171\tbest: 0.7368421 (11)\ttotal: 289ms\tremaining: 35.2ms\n",
      "230:\tlearn: 1.0000000\ttest: 0.7073171\tbest: 0.7368421 (11)\ttotal: 290ms\tremaining: 33.9ms\n",
      "231:\tlearn: 1.0000000\ttest: 0.7073171\tbest: 0.7368421 (11)\ttotal: 292ms\tremaining: 32.7ms\n",
      "232:\tlearn: 1.0000000\ttest: 0.7073171\tbest: 0.7368421 (11)\ttotal: 293ms\tremaining: 31.4ms\n",
      "233:\tlearn: 1.0000000\ttest: 0.7073171\tbest: 0.7368421 (11)\ttotal: 294ms\tremaining: 30.1ms\n",
      "234:\tlearn: 1.0000000\ttest: 0.7073171\tbest: 0.7368421 (11)\ttotal: 295ms\tremaining: 28.9ms\n",
      "235:\tlearn: 1.0000000\ttest: 0.7073171\tbest: 0.7368421 (11)\ttotal: 296ms\tremaining: 27.6ms\n",
      "236:\tlearn: 1.0000000\ttest: 0.7073171\tbest: 0.7368421 (11)\ttotal: 298ms\tremaining: 26.4ms\n",
      "237:\tlearn: 1.0000000\ttest: 0.7073171\tbest: 0.7368421 (11)\ttotal: 300ms\tremaining: 25.2ms\n",
      "238:\tlearn: 1.0000000\ttest: 0.7073171\tbest: 0.7368421 (11)\ttotal: 301ms\tremaining: 23.9ms\n",
      "239:\tlearn: 1.0000000\ttest: 0.7073171\tbest: 0.7368421 (11)\ttotal: 302ms\tremaining: 22.6ms\n",
      "240:\tlearn: 1.0000000\ttest: 0.7073171\tbest: 0.7368421 (11)\ttotal: 303ms\tremaining: 21.4ms\n",
      "241:\tlearn: 1.0000000\ttest: 0.7073171\tbest: 0.7368421 (11)\ttotal: 304ms\tremaining: 20.1ms\n",
      "242:\tlearn: 1.0000000\ttest: 0.7073171\tbest: 0.7368421 (11)\ttotal: 305ms\tremaining: 18.8ms\n",
      "243:\tlearn: 1.0000000\ttest: 0.7073171\tbest: 0.7368421 (11)\ttotal: 306ms\tremaining: 17.6ms\n",
      "244:\tlearn: 1.0000000\ttest: 0.6913580\tbest: 0.7368421 (11)\ttotal: 308ms\tremaining: 16.3ms\n",
      "245:\tlearn: 1.0000000\ttest: 0.6913580\tbest: 0.7368421 (11)\ttotal: 309ms\tremaining: 15.1ms\n",
      "246:\tlearn: 1.0000000\ttest: 0.7073171\tbest: 0.7368421 (11)\ttotal: 310ms\tremaining: 13.8ms\n",
      "247:\tlearn: 1.0000000\ttest: 0.7073171\tbest: 0.7368421 (11)\ttotal: 311ms\tremaining: 12.5ms\n",
      "248:\tlearn: 1.0000000\ttest: 0.7073171\tbest: 0.7368421 (11)\ttotal: 312ms\tremaining: 11.3ms\n",
      "249:\tlearn: 1.0000000\ttest: 0.6913580\tbest: 0.7368421 (11)\ttotal: 314ms\tremaining: 10.1ms\n",
      "250:\tlearn: 1.0000000\ttest: 0.7073171\tbest: 0.7368421 (11)\ttotal: 316ms\tremaining: 8.82ms\n",
      "251:\tlearn: 1.0000000\ttest: 0.7073171\tbest: 0.7368421 (11)\ttotal: 317ms\tremaining: 7.55ms\n",
      "252:\tlearn: 1.0000000\ttest: 0.7073171\tbest: 0.7368421 (11)\ttotal: 318ms\tremaining: 6.29ms\n",
      "253:\tlearn: 1.0000000\ttest: 0.7073171\tbest: 0.7368421 (11)\ttotal: 320ms\tremaining: 5.03ms\n",
      "254:\tlearn: 1.0000000\ttest: 0.7073171\tbest: 0.7368421 (11)\ttotal: 321ms\tremaining: 3.77ms\n",
      "255:\tlearn: 1.0000000\ttest: 0.7073171\tbest: 0.7368421 (11)\ttotal: 322ms\tremaining: 2.51ms\n",
      "256:\tlearn: 1.0000000\ttest: 0.7073171\tbest: 0.7368421 (11)\ttotal: 323ms\tremaining: 1.26ms\n",
      "257:\tlearn: 1.0000000\ttest: 0.7073171\tbest: 0.7368421 (11)\ttotal: 324ms\tremaining: 0us\n",
      "\n",
      "bestTest = 0.7368421053\n",
      "bestIteration = 11\n",
      "\n",
      "Training on fold [4/5]\n",
      "0:\tlearn: 0.6773163\ttest: 0.6024096\tbest: 0.6024096 (0)\ttotal: 1.44ms\tremaining: 370ms\n",
      "1:\tlearn: 0.7278107\ttest: 0.6136364\tbest: 0.6136364 (1)\ttotal: 2.63ms\tremaining: 337ms\n",
      "2:\tlearn: 0.7179487\ttest: 0.6172840\tbest: 0.6172840 (2)\ttotal: 3.83ms\tremaining: 326ms\n",
      "3:\tlearn: 0.7430341\ttest: 0.5925926\tbest: 0.6172840 (2)\ttotal: 5.03ms\tremaining: 319ms\n",
      "4:\tlearn: 0.7469136\ttest: 0.5925926\tbest: 0.6172840 (2)\ttotal: 6.2ms\tremaining: 314ms\n",
      "5:\tlearn: 0.7654321\ttest: 0.5679012\tbest: 0.6172840 (2)\ttotal: 7.38ms\tremaining: 310ms\n",
      "6:\tlearn: 0.7658228\ttest: 0.5750000\tbest: 0.6172840 (2)\ttotal: 8.54ms\tremaining: 306ms\n",
      "7:\tlearn: 0.7760252\ttest: 0.5897436\tbest: 0.6172840 (2)\ttotal: 9.71ms\tremaining: 303ms\n",
      "8:\tlearn: 0.7974684\ttest: 0.5714286\tbest: 0.6172840 (2)\ttotal: 10.9ms\tremaining: 301ms\n",
      "9:\tlearn: 0.8000000\ttest: 0.5750000\tbest: 0.6172840 (2)\ttotal: 12ms\tremaining: 298ms\n",
      "10:\tlearn: 0.8136646\ttest: 0.5750000\tbest: 0.6172840 (2)\ttotal: 13.2ms\tremaining: 297ms\n",
      "11:\tlearn: 0.8198758\ttest: 0.5750000\tbest: 0.6172840 (2)\ttotal: 14.4ms\tremaining: 296ms\n",
      "12:\tlearn: 0.8198758\ttest: 0.5500000\tbest: 0.6172840 (2)\ttotal: 15.6ms\tremaining: 294ms\n",
      "13:\tlearn: 0.8333333\ttest: 0.5432099\tbest: 0.6172840 (2)\ttotal: 16.8ms\tremaining: 292ms\n",
      "14:\tlearn: 0.8369231\ttest: 0.5365854\tbest: 0.6172840 (2)\ttotal: 18ms\tremaining: 291ms\n",
      "15:\tlearn: 0.8395062\ttest: 0.5542169\tbest: 0.6172840 (2)\ttotal: 19.1ms\tremaining: 289ms\n",
      "16:\tlearn: 0.8430769\ttest: 0.5365854\tbest: 0.6172840 (2)\ttotal: 20.3ms\tremaining: 287ms\n",
      "17:\tlearn: 0.8430769\ttest: 0.5542169\tbest: 0.6172840 (2)\ttotal: 21.4ms\tremaining: 285ms\n",
      "18:\tlearn: 0.8510638\ttest: 0.5609756\tbest: 0.6172840 (2)\ttotal: 22.6ms\tremaining: 284ms\n",
      "19:\tlearn: 0.8648649\ttest: 0.5853659\tbest: 0.6172840 (2)\ttotal: 23.7ms\tremaining: 282ms\n",
      "20:\tlearn: 0.8674699\ttest: 0.5853659\tbest: 0.6172840 (2)\ttotal: 24.9ms\tremaining: 281ms\n",
      "21:\tlearn: 0.8828829\ttest: 0.5853659\tbest: 0.6172840 (2)\ttotal: 26ms\tremaining: 279ms\n",
      "22:\tlearn: 0.8814590\ttest: 0.5783133\tbest: 0.6172840 (2)\ttotal: 27.2ms\tremaining: 278ms\n",
      "23:\tlearn: 0.8848485\ttest: 0.5783133\tbest: 0.6172840 (2)\ttotal: 28.3ms\tremaining: 276ms\n",
      "24:\tlearn: 0.8814590\ttest: 0.5783133\tbest: 0.6172840 (2)\ttotal: 30.8ms\tremaining: 287ms\n",
      "25:\tlearn: 0.8915663\ttest: 0.5952381\tbest: 0.6172840 (2)\ttotal: 32.6ms\tremaining: 291ms\n",
      "26:\tlearn: 0.8942598\ttest: 0.5783133\tbest: 0.6172840 (2)\ttotal: 34.3ms\tremaining: 294ms\n",
      "27:\tlearn: 0.8969697\ttest: 0.5952381\tbest: 0.6172840 (2)\ttotal: 36.6ms\tremaining: 301ms\n",
      "28:\tlearn: 0.9041916\ttest: 0.5952381\tbest: 0.6172840 (2)\ttotal: 37.8ms\tremaining: 299ms\n",
      "29:\tlearn: 0.9041916\ttest: 0.5952381\tbest: 0.6172840 (2)\ttotal: 39ms\tremaining: 296ms\n",
      "30:\tlearn: 0.8982036\ttest: 0.6024096\tbest: 0.6172840 (2)\ttotal: 40.3ms\tremaining: 295ms\n",
      "31:\tlearn: 0.9009009\ttest: 0.6024096\tbest: 0.6172840 (2)\ttotal: 41.6ms\tremaining: 294ms\n",
      "32:\tlearn: 0.9036145\ttest: 0.5853659\tbest: 0.6172840 (2)\ttotal: 42.7ms\tremaining: 291ms\n",
      "33:\tlearn: 0.9036145\ttest: 0.6024096\tbest: 0.6172840 (2)\ttotal: 43.9ms\tremaining: 289ms\n",
      "34:\tlearn: 0.9069069\ttest: 0.5952381\tbest: 0.6172840 (2)\ttotal: 45.8ms\tremaining: 292ms\n",
      "35:\tlearn: 0.9036145\ttest: 0.5952381\tbest: 0.6172840 (2)\ttotal: 47.4ms\tremaining: 292ms\n",
      "36:\tlearn: 0.9063444\ttest: 0.5952381\tbest: 0.6172840 (2)\ttotal: 48.7ms\tremaining: 291ms\n",
      "37:\tlearn: 0.9146341\ttest: 0.5952381\tbest: 0.6172840 (2)\ttotal: 50.1ms\tremaining: 290ms\n",
      "38:\tlearn: 0.9146341\ttest: 0.5952381\tbest: 0.6172840 (2)\ttotal: 51.4ms\tremaining: 289ms\n",
      "39:\tlearn: 0.9240122\ttest: 0.6024096\tbest: 0.6172840 (2)\ttotal: 52.6ms\tremaining: 286ms\n",
      "40:\tlearn: 0.9240122\ttest: 0.6024096\tbest: 0.6172840 (2)\ttotal: 53.7ms\tremaining: 284ms\n",
      "41:\tlearn: 0.9240122\ttest: 0.5952381\tbest: 0.6172840 (2)\ttotal: 54.8ms\tremaining: 282ms\n",
      "42:\tlearn: 0.9240122\ttest: 0.5952381\tbest: 0.6172840 (2)\ttotal: 56ms\tremaining: 280ms\n",
      "43:\tlearn: 0.9300912\ttest: 0.6117647\tbest: 0.6172840 (2)\ttotal: 57.2ms\tremaining: 278ms\n",
      "44:\tlearn: 0.9300912\ttest: 0.5952381\tbest: 0.6172840 (2)\ttotal: 58.3ms\tremaining: 276ms\n",
      "45:\tlearn: 0.9300912\ttest: 0.5952381\tbest: 0.6172840 (2)\ttotal: 59.5ms\tremaining: 274ms\n",
      "46:\tlearn: 0.9300912\ttest: 0.6117647\tbest: 0.6172840 (2)\ttotal: 60.8ms\tremaining: 273ms\n",
      "47:\tlearn: 0.9300912\ttest: 0.5952381\tbest: 0.6172840 (2)\ttotal: 62.7ms\tremaining: 274ms\n",
      "48:\tlearn: 0.9365559\ttest: 0.5952381\tbest: 0.6172840 (2)\ttotal: 64.2ms\tremaining: 274ms\n",
      "49:\tlearn: 0.9365559\ttest: 0.5952381\tbest: 0.6172840 (2)\ttotal: 66.8ms\tremaining: 278ms\n",
      "50:\tlearn: 0.9365559\ttest: 0.6024096\tbest: 0.6172840 (2)\ttotal: 68ms\tremaining: 276ms\n",
      "51:\tlearn: 0.9397590\ttest: 0.6190476\tbest: 0.6190476 (51)\ttotal: 69.3ms\tremaining: 275ms\n",
      "52:\tlearn: 0.9365559\ttest: 0.6190476\tbest: 0.6190476 (51)\ttotal: 70.8ms\tremaining: 274ms\n",
      "53:\tlearn: 0.9397590\ttest: 0.5853659\tbest: 0.6190476 (51)\ttotal: 71.9ms\tremaining: 272ms\n",
      "54:\tlearn: 0.9397590\ttest: 0.5853659\tbest: 0.6190476 (51)\ttotal: 73.1ms\tremaining: 270ms\n",
      "55:\tlearn: 0.9457831\ttest: 0.5952381\tbest: 0.6190476 (51)\ttotal: 74.3ms\tremaining: 268ms\n",
      "56:\tlearn: 0.9457831\ttest: 0.6117647\tbest: 0.6190476 (51)\ttotal: 75.6ms\tremaining: 267ms\n",
      "57:\tlearn: 0.9457831\ttest: 0.6117647\tbest: 0.6190476 (51)\ttotal: 77.3ms\tremaining: 267ms\n",
      "58:\tlearn: 0.9461078\ttest: 0.6117647\tbest: 0.6190476 (51)\ttotal: 78.9ms\tremaining: 266ms\n",
      "59:\tlearn: 0.9518072\ttest: 0.5952381\tbest: 0.6190476 (51)\ttotal: 80.5ms\tremaining: 266ms\n",
      "60:\tlearn: 0.9518072\ttest: 0.5952381\tbest: 0.6190476 (51)\ttotal: 81.9ms\tremaining: 265ms\n",
      "61:\tlearn: 0.9518072\ttest: 0.5952381\tbest: 0.6190476 (51)\ttotal: 83.3ms\tremaining: 263ms\n",
      "62:\tlearn: 0.9518072\ttest: 0.5952381\tbest: 0.6190476 (51)\ttotal: 84.5ms\tremaining: 262ms\n",
      "63:\tlearn: 0.9549550\ttest: 0.6117647\tbest: 0.6190476 (51)\ttotal: 85.8ms\tremaining: 260ms\n",
      "64:\tlearn: 0.9546828\ttest: 0.6117647\tbest: 0.6190476 (51)\ttotal: 87.2ms\tremaining: 259ms\n",
      "65:\tlearn: 0.9546828\ttest: 0.6117647\tbest: 0.6190476 (51)\ttotal: 88.4ms\tremaining: 257ms\n",
      "66:\tlearn: 0.9546828\ttest: 0.6206897\tbest: 0.6206897 (66)\ttotal: 90ms\tremaining: 257ms\n",
      "67:\tlearn: 0.9578313\ttest: 0.6117647\tbest: 0.6206897 (66)\ttotal: 91.4ms\tremaining: 255ms\n",
      "68:\tlearn: 0.9578313\ttest: 0.6117647\tbest: 0.6206897 (66)\ttotal: 93.1ms\tremaining: 255ms\n",
      "69:\tlearn: 0.9578313\ttest: 0.6117647\tbest: 0.6206897 (66)\ttotal: 94.3ms\tremaining: 253ms\n",
      "70:\tlearn: 0.9609610\ttest: 0.5952381\tbest: 0.6206897 (66)\ttotal: 95.5ms\tremaining: 251ms\n",
      "71:\tlearn: 0.9640719\ttest: 0.5882353\tbest: 0.6206897 (66)\ttotal: 96.7ms\tremaining: 250ms\n",
      "72:\tlearn: 0.9640719\ttest: 0.5882353\tbest: 0.6206897 (66)\ttotal: 97.9ms\tremaining: 248ms\n",
      "73:\tlearn: 0.9731343\ttest: 0.5952381\tbest: 0.6206897 (66)\ttotal: 99.5ms\tremaining: 247ms\n",
      "74:\tlearn: 0.9731343\ttest: 0.5952381\tbest: 0.6206897 (66)\ttotal: 101ms\tremaining: 246ms\n",
      "75:\tlearn: 0.9731343\ttest: 0.5783133\tbest: 0.6206897 (66)\ttotal: 102ms\tremaining: 244ms\n",
      "76:\tlearn: 0.9731343\ttest: 0.5952381\tbest: 0.6206897 (66)\ttotal: 103ms\tremaining: 242ms\n",
      "77:\tlearn: 0.9700599\ttest: 0.5952381\tbest: 0.6206897 (66)\ttotal: 104ms\tremaining: 240ms\n",
      "78:\tlearn: 0.9700599\ttest: 0.5952381\tbest: 0.6206897 (66)\ttotal: 106ms\tremaining: 239ms\n",
      "79:\tlearn: 0.9700599\ttest: 0.5783133\tbest: 0.6206897 (66)\ttotal: 107ms\tremaining: 239ms\n",
      "80:\tlearn: 0.9700599\ttest: 0.5783133\tbest: 0.6206897 (66)\ttotal: 109ms\tremaining: 238ms\n",
      "81:\tlearn: 0.9761905\ttest: 0.5952381\tbest: 0.6206897 (66)\ttotal: 110ms\tremaining: 237ms\n",
      "82:\tlearn: 0.9791045\ttest: 0.5952381\tbest: 0.6206897 (66)\ttotal: 111ms\tremaining: 235ms\n",
      "83:\tlearn: 0.9791045\ttest: 0.5952381\tbest: 0.6206897 (66)\ttotal: 113ms\tremaining: 233ms\n",
      "84:\tlearn: 0.9791045\ttest: 0.5952381\tbest: 0.6206897 (66)\ttotal: 114ms\tremaining: 231ms\n",
      "85:\tlearn: 0.9791045\ttest: 0.5952381\tbest: 0.6206897 (66)\ttotal: 114ms\tremaining: 229ms\n",
      "86:\tlearn: 0.9791045\ttest: 0.5952381\tbest: 0.6206897 (66)\ttotal: 116ms\tremaining: 227ms\n",
      "87:\tlearn: 0.9791045\ttest: 0.5714286\tbest: 0.6206897 (66)\ttotal: 117ms\tremaining: 226ms\n",
      "88:\tlearn: 0.9791045\ttest: 0.5714286\tbest: 0.6206897 (66)\ttotal: 118ms\tremaining: 224ms\n",
      "89:\tlearn: 0.9851632\ttest: 0.5882353\tbest: 0.6206897 (66)\ttotal: 119ms\tremaining: 222ms\n",
      "90:\tlearn: 0.9851632\ttest: 0.5882353\tbest: 0.6206897 (66)\ttotal: 120ms\tremaining: 221ms\n",
      "91:\tlearn: 0.9821429\ttest: 0.5882353\tbest: 0.6206897 (66)\ttotal: 121ms\tremaining: 219ms\n",
      "92:\tlearn: 0.9821429\ttest: 0.5952381\tbest: 0.6206897 (66)\ttotal: 123ms\tremaining: 218ms\n",
      "93:\tlearn: 0.9821429\ttest: 0.5952381\tbest: 0.6206897 (66)\ttotal: 124ms\tremaining: 216ms\n",
      "94:\tlearn: 0.9881657\ttest: 0.5882353\tbest: 0.6206897 (66)\ttotal: 125ms\tremaining: 215ms\n",
      "95:\tlearn: 0.9881657\ttest: 0.5882353\tbest: 0.6206897 (66)\ttotal: 126ms\tremaining: 213ms\n",
      "96:\tlearn: 0.9851632\ttest: 0.5882353\tbest: 0.6206897 (66)\ttotal: 128ms\tremaining: 212ms\n",
      "97:\tlearn: 0.9851632\ttest: 0.5882353\tbest: 0.6206897 (66)\ttotal: 129ms\tremaining: 210ms\n",
      "98:\tlearn: 0.9851632\ttest: 0.5882353\tbest: 0.6206897 (66)\ttotal: 130ms\tremaining: 209ms\n",
      "99:\tlearn: 0.9881657\ttest: 0.5882353\tbest: 0.6206897 (66)\ttotal: 131ms\tremaining: 207ms\n",
      "100:\tlearn: 0.9881657\ttest: 0.5882353\tbest: 0.6206897 (66)\ttotal: 132ms\tremaining: 206ms\n",
      "101:\tlearn: 0.9881657\ttest: 0.5882353\tbest: 0.6206897 (66)\ttotal: 133ms\tremaining: 204ms\n",
      "102:\tlearn: 0.9881657\ttest: 0.6046512\tbest: 0.6206897 (66)\ttotal: 135ms\tremaining: 203ms\n",
      "103:\tlearn: 0.9881657\ttest: 0.6046512\tbest: 0.6206897 (66)\ttotal: 136ms\tremaining: 201ms\n",
      "104:\tlearn: 0.9881657\ttest: 0.5977011\tbest: 0.6206897 (66)\ttotal: 137ms\tremaining: 200ms\n",
      "105:\tlearn: 0.9941176\ttest: 0.5977011\tbest: 0.6206897 (66)\ttotal: 139ms\tremaining: 199ms\n",
      "106:\tlearn: 0.9941176\ttest: 0.5977011\tbest: 0.6206897 (66)\ttotal: 141ms\tremaining: 198ms\n",
      "107:\tlearn: 0.9941176\ttest: 0.5977011\tbest: 0.6206897 (66)\ttotal: 142ms\tremaining: 198ms\n",
      "108:\tlearn: 0.9941176\ttest: 0.5977011\tbest: 0.6206897 (66)\ttotal: 147ms\tremaining: 201ms\n",
      "109:\tlearn: 0.9941176\ttest: 0.6206897\tbest: 0.6206897 (66)\ttotal: 152ms\tremaining: 204ms\n",
      "110:\tlearn: 0.9941176\ttest: 0.6206897\tbest: 0.6206897 (66)\ttotal: 157ms\tremaining: 208ms\n",
      "111:\tlearn: 0.9970674\ttest: 0.6279070\tbest: 0.6279070 (111)\ttotal: 163ms\tremaining: 212ms\n",
      "112:\tlearn: 0.9970674\ttest: 0.6117647\tbest: 0.6279070 (111)\ttotal: 168ms\tremaining: 215ms\n",
      "113:\tlearn: 0.9941176\ttest: 0.6279070\tbest: 0.6279070 (111)\ttotal: 170ms\tremaining: 214ms\n",
      "114:\tlearn: 0.9941176\ttest: 0.5977011\tbest: 0.6279070 (111)\ttotal: 171ms\tremaining: 213ms\n",
      "115:\tlearn: 0.9970674\ttest: 0.6046512\tbest: 0.6279070 (111)\ttotal: 173ms\tremaining: 212ms\n",
      "116:\tlearn: 0.9970674\ttest: 0.6046512\tbest: 0.6279070 (111)\ttotal: 174ms\tremaining: 210ms\n",
      "117:\tlearn: 1.0000000\ttest: 0.5977011\tbest: 0.6279070 (111)\ttotal: 179ms\tremaining: 212ms\n",
      "118:\tlearn: 1.0000000\ttest: 0.5977011\tbest: 0.6279070 (111)\ttotal: 181ms\tremaining: 211ms\n",
      "119:\tlearn: 1.0000000\ttest: 0.6136364\tbest: 0.6279070 (111)\ttotal: 182ms\tremaining: 209ms\n",
      "120:\tlearn: 1.0000000\ttest: 0.6206897\tbest: 0.6279070 (111)\ttotal: 183ms\tremaining: 207ms\n",
      "121:\tlearn: 1.0000000\ttest: 0.6279070\tbest: 0.6279070 (111)\ttotal: 184ms\tremaining: 205ms\n",
      "122:\tlearn: 1.0000000\ttest: 0.6136364\tbest: 0.6279070 (111)\ttotal: 185ms\tremaining: 204ms\n",
      "123:\tlearn: 1.0000000\ttest: 0.5977011\tbest: 0.6279070 (111)\ttotal: 187ms\tremaining: 202ms\n",
      "124:\tlearn: 1.0000000\ttest: 0.5977011\tbest: 0.6279070 (111)\ttotal: 188ms\tremaining: 201ms\n",
      "125:\tlearn: 1.0000000\ttest: 0.5977011\tbest: 0.6279070 (111)\ttotal: 190ms\tremaining: 199ms\n",
      "126:\tlearn: 1.0000000\ttest: 0.5977011\tbest: 0.6279070 (111)\ttotal: 191ms\tremaining: 197ms\n",
      "127:\tlearn: 1.0000000\ttest: 0.5977011\tbest: 0.6279070 (111)\ttotal: 192ms\tremaining: 195ms\n",
      "128:\tlearn: 1.0000000\ttest: 0.5977011\tbest: 0.6279070 (111)\ttotal: 193ms\tremaining: 193ms\n",
      "129:\tlearn: 1.0000000\ttest: 0.5977011\tbest: 0.6279070 (111)\ttotal: 194ms\tremaining: 191ms\n",
      "130:\tlearn: 1.0000000\ttest: 0.5977011\tbest: 0.6279070 (111)\ttotal: 195ms\tremaining: 189ms\n",
      "131:\tlearn: 1.0000000\ttest: 0.5977011\tbest: 0.6279070 (111)\ttotal: 196ms\tremaining: 188ms\n",
      "132:\tlearn: 1.0000000\ttest: 0.5977011\tbest: 0.6279070 (111)\ttotal: 198ms\tremaining: 186ms\n",
      "133:\tlearn: 1.0000000\ttest: 0.5977011\tbest: 0.6279070 (111)\ttotal: 199ms\tremaining: 184ms\n",
      "134:\tlearn: 1.0000000\ttest: 0.6136364\tbest: 0.6279070 (111)\ttotal: 200ms\tremaining: 182ms\n",
      "135:\tlearn: 1.0000000\ttest: 0.6136364\tbest: 0.6279070 (111)\ttotal: 201ms\tremaining: 180ms\n",
      "136:\tlearn: 1.0000000\ttest: 0.6292135\tbest: 0.6292135 (136)\ttotal: 203ms\tremaining: 179ms\n",
      "137:\tlearn: 1.0000000\ttest: 0.6292135\tbest: 0.6292135 (136)\ttotal: 205ms\tremaining: 178ms\n",
      "138:\tlearn: 1.0000000\ttest: 0.6292135\tbest: 0.6292135 (136)\ttotal: 206ms\tremaining: 177ms\n",
      "139:\tlearn: 1.0000000\ttest: 0.6136364\tbest: 0.6292135 (136)\ttotal: 208ms\tremaining: 175ms\n",
      "140:\tlearn: 1.0000000\ttest: 0.6136364\tbest: 0.6292135 (136)\ttotal: 209ms\tremaining: 173ms\n",
      "141:\tlearn: 1.0000000\ttest: 0.6136364\tbest: 0.6292135 (136)\ttotal: 210ms\tremaining: 171ms\n",
      "142:\tlearn: 1.0000000\ttest: 0.6136364\tbest: 0.6292135 (136)\ttotal: 211ms\tremaining: 170ms\n",
      "143:\tlearn: 1.0000000\ttest: 0.6363636\tbest: 0.6363636 (143)\ttotal: 212ms\tremaining: 168ms\n",
      "144:\tlearn: 1.0000000\ttest: 0.6363636\tbest: 0.6363636 (143)\ttotal: 213ms\tremaining: 166ms\n",
      "145:\tlearn: 1.0000000\ttest: 0.6363636\tbest: 0.6363636 (143)\ttotal: 214ms\tremaining: 164ms\n",
      "146:\tlearn: 1.0000000\ttest: 0.6363636\tbest: 0.6363636 (143)\ttotal: 216ms\tremaining: 163ms\n",
      "147:\tlearn: 1.0000000\ttest: 0.6363636\tbest: 0.6363636 (143)\ttotal: 217ms\tremaining: 161ms\n",
      "148:\tlearn: 1.0000000\ttest: 0.6292135\tbest: 0.6363636 (143)\ttotal: 218ms\tremaining: 160ms\n",
      "149:\tlearn: 1.0000000\ttest: 0.6292135\tbest: 0.6363636 (143)\ttotal: 219ms\tremaining: 158ms\n",
      "150:\tlearn: 1.0000000\ttest: 0.6292135\tbest: 0.6363636 (143)\ttotal: 220ms\tremaining: 156ms\n",
      "151:\tlearn: 1.0000000\ttest: 0.6292135\tbest: 0.6363636 (143)\ttotal: 222ms\tremaining: 155ms\n",
      "152:\tlearn: 1.0000000\ttest: 0.6363636\tbest: 0.6363636 (143)\ttotal: 223ms\tremaining: 153ms\n",
      "153:\tlearn: 1.0000000\ttest: 0.6363636\tbest: 0.6363636 (143)\ttotal: 224ms\tremaining: 152ms\n",
      "154:\tlearn: 1.0000000\ttest: 0.6363636\tbest: 0.6363636 (143)\ttotal: 226ms\tremaining: 150ms\n",
      "155:\tlearn: 1.0000000\ttest: 0.6363636\tbest: 0.6363636 (143)\ttotal: 228ms\tremaining: 149ms\n",
      "156:\tlearn: 1.0000000\ttest: 0.6292135\tbest: 0.6363636 (143)\ttotal: 229ms\tremaining: 147ms\n",
      "157:\tlearn: 1.0000000\ttest: 0.6292135\tbest: 0.6363636 (143)\ttotal: 230ms\tremaining: 146ms\n",
      "158:\tlearn: 1.0000000\ttest: 0.6292135\tbest: 0.6363636 (143)\ttotal: 231ms\tremaining: 144ms\n",
      "159:\tlearn: 1.0000000\ttest: 0.6292135\tbest: 0.6363636 (143)\ttotal: 233ms\tremaining: 143ms\n",
      "160:\tlearn: 1.0000000\ttest: 0.6292135\tbest: 0.6363636 (143)\ttotal: 234ms\tremaining: 141ms\n",
      "161:\tlearn: 1.0000000\ttest: 0.6292135\tbest: 0.6363636 (143)\ttotal: 235ms\tremaining: 139ms\n",
      "162:\tlearn: 1.0000000\ttest: 0.6292135\tbest: 0.6363636 (143)\ttotal: 236ms\tremaining: 138ms\n",
      "163:\tlearn: 1.0000000\ttest: 0.6292135\tbest: 0.6363636 (143)\ttotal: 237ms\tremaining: 136ms\n",
      "164:\tlearn: 1.0000000\ttest: 0.6292135\tbest: 0.6363636 (143)\ttotal: 239ms\tremaining: 134ms\n",
      "165:\tlearn: 1.0000000\ttest: 0.6292135\tbest: 0.6363636 (143)\ttotal: 240ms\tremaining: 133ms\n",
      "166:\tlearn: 1.0000000\ttest: 0.6292135\tbest: 0.6363636 (143)\ttotal: 242ms\tremaining: 132ms\n",
      "167:\tlearn: 1.0000000\ttest: 0.6292135\tbest: 0.6363636 (143)\ttotal: 244ms\tremaining: 131ms\n",
      "168:\tlearn: 1.0000000\ttest: 0.6292135\tbest: 0.6363636 (143)\ttotal: 245ms\tremaining: 129ms\n",
      "169:\tlearn: 1.0000000\ttest: 0.6292135\tbest: 0.6363636 (143)\ttotal: 247ms\tremaining: 128ms\n",
      "170:\tlearn: 1.0000000\ttest: 0.6292135\tbest: 0.6363636 (143)\ttotal: 249ms\tremaining: 127ms\n",
      "171:\tlearn: 1.0000000\ttest: 0.6292135\tbest: 0.6363636 (143)\ttotal: 250ms\tremaining: 125ms\n",
      "172:\tlearn: 1.0000000\ttest: 0.6292135\tbest: 0.6363636 (143)\ttotal: 251ms\tremaining: 123ms\n",
      "173:\tlearn: 1.0000000\ttest: 0.6292135\tbest: 0.6363636 (143)\ttotal: 252ms\tremaining: 122ms\n",
      "174:\tlearn: 1.0000000\ttest: 0.6292135\tbest: 0.6363636 (143)\ttotal: 253ms\tremaining: 120ms\n",
      "175:\tlearn: 1.0000000\ttest: 0.6292135\tbest: 0.6363636 (143)\ttotal: 255ms\tremaining: 119ms\n",
      "176:\tlearn: 1.0000000\ttest: 0.6292135\tbest: 0.6363636 (143)\ttotal: 256ms\tremaining: 117ms\n",
      "177:\tlearn: 1.0000000\ttest: 0.6292135\tbest: 0.6363636 (143)\ttotal: 257ms\tremaining: 116ms\n",
      "178:\tlearn: 1.0000000\ttest: 0.6292135\tbest: 0.6363636 (143)\ttotal: 258ms\tremaining: 114ms\n",
      "179:\tlearn: 1.0000000\ttest: 0.6292135\tbest: 0.6363636 (143)\ttotal: 259ms\tremaining: 112ms\n",
      "180:\tlearn: 1.0000000\ttest: 0.6292135\tbest: 0.6363636 (143)\ttotal: 261ms\tremaining: 111ms\n",
      "181:\tlearn: 1.0000000\ttest: 0.6292135\tbest: 0.6363636 (143)\ttotal: 262ms\tremaining: 109ms\n",
      "182:\tlearn: 1.0000000\ttest: 0.6292135\tbest: 0.6363636 (143)\ttotal: 263ms\tremaining: 108ms\n",
      "183:\tlearn: 1.0000000\ttest: 0.6292135\tbest: 0.6363636 (143)\ttotal: 265ms\tremaining: 107ms\n",
      "184:\tlearn: 1.0000000\ttest: 0.6292135\tbest: 0.6363636 (143)\ttotal: 266ms\tremaining: 105ms\n",
      "185:\tlearn: 1.0000000\ttest: 0.6292135\tbest: 0.6363636 (143)\ttotal: 268ms\tremaining: 104ms\n",
      "186:\tlearn: 1.0000000\ttest: 0.6292135\tbest: 0.6363636 (143)\ttotal: 270ms\tremaining: 103ms\n",
      "187:\tlearn: 1.0000000\ttest: 0.6292135\tbest: 0.6363636 (143)\ttotal: 272ms\tremaining: 101ms\n",
      "188:\tlearn: 1.0000000\ttest: 0.6292135\tbest: 0.6363636 (143)\ttotal: 273ms\tremaining: 99.7ms\n",
      "189:\tlearn: 1.0000000\ttest: 0.6292135\tbest: 0.6363636 (143)\ttotal: 274ms\tremaining: 98.2ms\n",
      "190:\tlearn: 1.0000000\ttest: 0.6292135\tbest: 0.6363636 (143)\ttotal: 276ms\tremaining: 96.7ms\n",
      "191:\tlearn: 1.0000000\ttest: 0.6292135\tbest: 0.6363636 (143)\ttotal: 278ms\tremaining: 95.4ms\n",
      "192:\tlearn: 1.0000000\ttest: 0.6292135\tbest: 0.6363636 (143)\ttotal: 279ms\tremaining: 93.9ms\n",
      "193:\tlearn: 1.0000000\ttest: 0.6292135\tbest: 0.6363636 (143)\ttotal: 280ms\tremaining: 92.5ms\n",
      "194:\tlearn: 1.0000000\ttest: 0.6292135\tbest: 0.6363636 (143)\ttotal: 282ms\tremaining: 91ms\n",
      "195:\tlearn: 1.0000000\ttest: 0.6292135\tbest: 0.6363636 (143)\ttotal: 283ms\tremaining: 89.4ms\n",
      "196:\tlearn: 1.0000000\ttest: 0.6292135\tbest: 0.6363636 (143)\ttotal: 284ms\tremaining: 87.9ms\n",
      "197:\tlearn: 1.0000000\ttest: 0.6292135\tbest: 0.6363636 (143)\ttotal: 287ms\tremaining: 86.8ms\n",
      "198:\tlearn: 1.0000000\ttest: 0.6292135\tbest: 0.6363636 (143)\ttotal: 288ms\tremaining: 85.3ms\n",
      "199:\tlearn: 1.0000000\ttest: 0.6292135\tbest: 0.6363636 (143)\ttotal: 289ms\tremaining: 83.8ms\n",
      "200:\tlearn: 1.0000000\ttest: 0.6292135\tbest: 0.6363636 (143)\ttotal: 290ms\tremaining: 82.3ms\n",
      "201:\tlearn: 1.0000000\ttest: 0.6292135\tbest: 0.6363636 (143)\ttotal: 291ms\tremaining: 80.8ms\n",
      "202:\tlearn: 1.0000000\ttest: 0.6292135\tbest: 0.6363636 (143)\ttotal: 292ms\tremaining: 79.2ms\n",
      "203:\tlearn: 1.0000000\ttest: 0.6292135\tbest: 0.6363636 (143)\ttotal: 294ms\tremaining: 77.7ms\n",
      "204:\tlearn: 1.0000000\ttest: 0.6292135\tbest: 0.6363636 (143)\ttotal: 295ms\tremaining: 76.2ms\n",
      "205:\tlearn: 1.0000000\ttest: 0.6292135\tbest: 0.6363636 (143)\ttotal: 296ms\tremaining: 74.7ms\n",
      "206:\tlearn: 1.0000000\ttest: 0.6292135\tbest: 0.6363636 (143)\ttotal: 297ms\tremaining: 73.2ms\n",
      "207:\tlearn: 1.0000000\ttest: 0.6292135\tbest: 0.6363636 (143)\ttotal: 298ms\tremaining: 71.7ms\n",
      "208:\tlearn: 1.0000000\ttest: 0.6292135\tbest: 0.6363636 (143)\ttotal: 300ms\tremaining: 70.3ms\n",
      "209:\tlearn: 1.0000000\ttest: 0.6136364\tbest: 0.6363636 (143)\ttotal: 301ms\tremaining: 68.8ms\n",
      "210:\tlearn: 1.0000000\ttest: 0.6136364\tbest: 0.6363636 (143)\ttotal: 302ms\tremaining: 67.3ms\n",
      "211:\tlearn: 1.0000000\ttest: 0.6136364\tbest: 0.6363636 (143)\ttotal: 304ms\tremaining: 66ms\n",
      "212:\tlearn: 1.0000000\ttest: 0.6136364\tbest: 0.6363636 (143)\ttotal: 305ms\tremaining: 64.5ms\n",
      "213:\tlearn: 1.0000000\ttest: 0.6136364\tbest: 0.6363636 (143)\ttotal: 306ms\tremaining: 63ms\n",
      "214:\tlearn: 1.0000000\ttest: 0.6136364\tbest: 0.6363636 (143)\ttotal: 308ms\tremaining: 61.5ms\n",
      "215:\tlearn: 1.0000000\ttest: 0.6136364\tbest: 0.6363636 (143)\ttotal: 309ms\tremaining: 60.1ms\n",
      "216:\tlearn: 1.0000000\ttest: 0.6136364\tbest: 0.6363636 (143)\ttotal: 311ms\tremaining: 58.7ms\n",
      "217:\tlearn: 1.0000000\ttest: 0.6136364\tbest: 0.6363636 (143)\ttotal: 312ms\tremaining: 57.3ms\n",
      "218:\tlearn: 1.0000000\ttest: 0.6206897\tbest: 0.6363636 (143)\ttotal: 313ms\tremaining: 55.8ms\n",
      "219:\tlearn: 1.0000000\ttest: 0.6206897\tbest: 0.6363636 (143)\ttotal: 315ms\tremaining: 54.3ms\n",
      "220:\tlearn: 1.0000000\ttest: 0.6206897\tbest: 0.6363636 (143)\ttotal: 316ms\tremaining: 52.9ms\n",
      "221:\tlearn: 1.0000000\ttest: 0.6206897\tbest: 0.6363636 (143)\ttotal: 317ms\tremaining: 51.4ms\n",
      "222:\tlearn: 1.0000000\ttest: 0.6136364\tbest: 0.6363636 (143)\ttotal: 319ms\tremaining: 50ms\n",
      "223:\tlearn: 1.0000000\ttest: 0.6206897\tbest: 0.6363636 (143)\ttotal: 326ms\tremaining: 49.5ms\n",
      "224:\tlearn: 1.0000000\ttest: 0.6206897\tbest: 0.6363636 (143)\ttotal: 327ms\tremaining: 48ms\n",
      "225:\tlearn: 1.0000000\ttest: 0.6206897\tbest: 0.6363636 (143)\ttotal: 329ms\tremaining: 46.5ms\n",
      "226:\tlearn: 1.0000000\ttest: 0.6206897\tbest: 0.6363636 (143)\ttotal: 330ms\tremaining: 45.1ms\n",
      "227:\tlearn: 1.0000000\ttest: 0.6206897\tbest: 0.6363636 (143)\ttotal: 331ms\tremaining: 43.6ms\n",
      "228:\tlearn: 1.0000000\ttest: 0.6206897\tbest: 0.6363636 (143)\ttotal: 332ms\tremaining: 42.1ms\n",
      "229:\tlearn: 1.0000000\ttest: 0.6206897\tbest: 0.6363636 (143)\ttotal: 334ms\tremaining: 40.6ms\n",
      "230:\tlearn: 1.0000000\ttest: 0.6206897\tbest: 0.6363636 (143)\ttotal: 335ms\tremaining: 39.1ms\n",
      "231:\tlearn: 1.0000000\ttest: 0.6206897\tbest: 0.6363636 (143)\ttotal: 336ms\tremaining: 37.7ms\n",
      "232:\tlearn: 1.0000000\ttest: 0.6206897\tbest: 0.6363636 (143)\ttotal: 337ms\tremaining: 36.2ms\n",
      "233:\tlearn: 1.0000000\ttest: 0.6206897\tbest: 0.6363636 (143)\ttotal: 338ms\tremaining: 34.7ms\n",
      "234:\tlearn: 1.0000000\ttest: 0.6136364\tbest: 0.6363636 (143)\ttotal: 341ms\tremaining: 33.4ms\n",
      "235:\tlearn: 1.0000000\ttest: 0.6136364\tbest: 0.6363636 (143)\ttotal: 344ms\tremaining: 32.1ms\n",
      "236:\tlearn: 1.0000000\ttest: 0.6136364\tbest: 0.6363636 (143)\ttotal: 346ms\tremaining: 30.6ms\n",
      "237:\tlearn: 1.0000000\ttest: 0.6136364\tbest: 0.6363636 (143)\ttotal: 347ms\tremaining: 29.1ms\n",
      "238:\tlearn: 1.0000000\ttest: 0.6206897\tbest: 0.6363636 (143)\ttotal: 348ms\tremaining: 27.7ms\n",
      "239:\tlearn: 1.0000000\ttest: 0.6206897\tbest: 0.6363636 (143)\ttotal: 349ms\tremaining: 26.2ms\n",
      "240:\tlearn: 1.0000000\ttest: 0.6206897\tbest: 0.6363636 (143)\ttotal: 351ms\tremaining: 24.7ms\n",
      "241:\tlearn: 1.0000000\ttest: 0.6206897\tbest: 0.6363636 (143)\ttotal: 353ms\tremaining: 23.3ms\n",
      "242:\tlearn: 1.0000000\ttest: 0.6206897\tbest: 0.6363636 (143)\ttotal: 354ms\tremaining: 21.8ms\n",
      "243:\tlearn: 1.0000000\ttest: 0.6206897\tbest: 0.6363636 (143)\ttotal: 355ms\tremaining: 20.4ms\n",
      "244:\tlearn: 1.0000000\ttest: 0.6206897\tbest: 0.6363636 (143)\ttotal: 356ms\tremaining: 18.9ms\n",
      "245:\tlearn: 1.0000000\ttest: 0.6206897\tbest: 0.6363636 (143)\ttotal: 358ms\tremaining: 17.5ms\n",
      "246:\tlearn: 1.0000000\ttest: 0.6206897\tbest: 0.6363636 (143)\ttotal: 359ms\tremaining: 16ms\n",
      "247:\tlearn: 1.0000000\ttest: 0.6206897\tbest: 0.6363636 (143)\ttotal: 361ms\tremaining: 14.5ms\n",
      "248:\tlearn: 1.0000000\ttest: 0.6206897\tbest: 0.6363636 (143)\ttotal: 362ms\tremaining: 13.1ms\n",
      "249:\tlearn: 1.0000000\ttest: 0.6206897\tbest: 0.6363636 (143)\ttotal: 363ms\tremaining: 11.6ms\n",
      "250:\tlearn: 1.0000000\ttest: 0.6206897\tbest: 0.6363636 (143)\ttotal: 365ms\tremaining: 10.2ms\n",
      "251:\tlearn: 1.0000000\ttest: 0.6206897\tbest: 0.6363636 (143)\ttotal: 366ms\tremaining: 8.71ms\n",
      "252:\tlearn: 1.0000000\ttest: 0.6206897\tbest: 0.6363636 (143)\ttotal: 367ms\tremaining: 7.25ms\n",
      "253:\tlearn: 1.0000000\ttest: 0.6046512\tbest: 0.6363636 (143)\ttotal: 369ms\tremaining: 5.81ms\n",
      "254:\tlearn: 1.0000000\ttest: 0.6206897\tbest: 0.6363636 (143)\ttotal: 370ms\tremaining: 4.36ms\n",
      "255:\tlearn: 1.0000000\ttest: 0.6206897\tbest: 0.6363636 (143)\ttotal: 374ms\tremaining: 2.92ms\n",
      "256:\tlearn: 1.0000000\ttest: 0.6206897\tbest: 0.6363636 (143)\ttotal: 377ms\tremaining: 1.47ms\n",
      "257:\tlearn: 1.0000000\ttest: 0.6206897\tbest: 0.6363636 (143)\ttotal: 379ms\tremaining: 0us\n",
      "\n",
      "bestTest = 0.6363636364\n",
      "bestIteration = 143\n",
      "\n"
     ]
    }
   ],
   "source": [
    "import joblib\n",
    "from ARISA_DSML.train import train_cv\n",
    "params = joblib.load(best_params_path)\n",
    "n_folds = 5\n",
    "cv_output_path = train_cv(X_train, y_train, params, n=n_folds)"
   ]
  },
  {
   "cell_type": "code",
   "execution_count": 13,
   "id": "8d2ca8c0",
   "metadata": {},
   "outputs": [
    {
     "data": {
      "application/vnd.plotly.v1+json": {
       "config": {
        "plotlyServerURL": "https://plot.ly"
       },
       "data": [
        {
         "line": {
          "color": "blue"
         },
         "mode": "lines",
         "name": "Mean F1 Score",
         "type": "scatter",
         "x": {
          "bdata": "AAABAAIAAwAEAAUABgAHAAgACQAKAAsADAANAA4ADwAQABEAEgATABQAFQAWABcAGAAZABoAGwAcAB0AHgAfACAAIQAiACMAJAAlACYAJwAoACkAKgArACwALQAuAC8AMAAxADIAMwA0ADUANgA3ADgAOQA6ADsAPAA9AD4APwBAAEEAQgBDAEQARQBGAEcASABJAEoASwBMAE0ATgBPAFAAUQBSAFMAVABVAFYAVwBYAFkAWgBbAFwAXQBeAF8AYABhAGIAYwBkAGUAZgBnAGgAaQBqAGsAbABtAG4AbwBwAHEAcgBzAHQAdQB2AHcAeAB5AHoAewB8AH0AfgB/AIAAgQCCAIMAhACFAIYAhwCIAIkAigCLAIwAjQCOAI8AkACRAJIAkwCUAJUAlgCXAJgAmQCaAJsAnACdAJ4AnwCgAKEAogCjAKQApQCmAKcAqACpAKoAqwCsAK0ArgCvALAAsQCyALMAtAC1ALYAtwC4ALkAugC7ALwAvQC+AL8AwADBAMIAwwDEAMUAxgDHAMgAyQDKAMsAzADNAM4AzwDQANEA0gDTANQA1QDWANcA2ADZANoA2wDcAN0A3gDfAOAA4QDiAOMA5ADlAOYA5wDoAOkA6gDrAOwA7QDuAO8A8ADxAPIA8wD0APUA9gD3APgA+QD6APsA/AD9AP4A/wAAAQEB",
          "dtype": "i2"
         },
         "y": {
          "bdata": "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",
          "dtype": "f8"
         }
        },
        {
         "fill": "toself",
         "fillcolor": "rgba(0, 0, 255, 0.2)",
         "line": {
          "color": "rgba(255, 255, 255, 0)"
         },
         "showlegend": false,
         "type": "scatter",
         "x": {
          "bdata": "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",
          "dtype": "f8"
         },
         "y": {
          "bdata": "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",
          "dtype": "f8"
         }
        }
       ],
       "layout": {
        "template": {
         "data": {
          "bar": [
           {
            "error_x": {
             "color": "#2a3f5f"
            },
            "error_y": {
             "color": "#2a3f5f"
            },
            "marker": {
             "line": {
              "color": "white",
              "width": 0.5
             },
             "pattern": {
              "fillmode": "overlay",
              "size": 10,
              "solidity": 0.2
             }
            },
            "type": "bar"
           }
          ],
          "barpolar": [
           {
            "marker": {
             "line": {
              "color": "white",
              "width": 0.5
             },
             "pattern": {
              "fillmode": "overlay",
              "size": 10,
              "solidity": 0.2
             }
            },
            "type": "barpolar"
           }
          ],
          "carpet": [
           {
            "aaxis": {
             "endlinecolor": "#2a3f5f",
             "gridcolor": "#C8D4E3",
             "linecolor": "#C8D4E3",
             "minorgridcolor": "#C8D4E3",
             "startlinecolor": "#2a3f5f"
            },
            "baxis": {
             "endlinecolor": "#2a3f5f",
             "gridcolor": "#C8D4E3",
             "linecolor": "#C8D4E3",
             "minorgridcolor": "#C8D4E3",
             "startlinecolor": "#2a3f5f"
            },
            "type": "carpet"
           }
          ],
          "choropleth": [
           {
            "colorbar": {
             "outlinewidth": 0,
             "ticks": ""
            },
            "type": "choropleth"
           }
          ],
          "contour": [
           {
            "colorbar": {
             "outlinewidth": 0,
             "ticks": ""
            },
            "colorscale": [
             [
              0,
              "#0d0887"
             ],
             [
              0.1111111111111111,
              "#46039f"
             ],
             [
              0.2222222222222222,
              "#7201a8"
             ],
             [
              0.3333333333333333,
              "#9c179e"
             ],
             [
              0.4444444444444444,
              "#bd3786"
             ],
             [
              0.5555555555555556,
              "#d8576b"
             ],
             [
              0.6666666666666666,
              "#ed7953"
             ],
             [
              0.7777777777777778,
              "#fb9f3a"
             ],
             [
              0.8888888888888888,
              "#fdca26"
             ],
             [
              1,
              "#f0f921"
             ]
            ],
            "type": "contour"
           }
          ],
          "contourcarpet": [
           {
            "colorbar": {
             "outlinewidth": 0,
             "ticks": ""
            },
            "type": "contourcarpet"
           }
          ],
          "heatmap": [
           {
            "colorbar": {
             "outlinewidth": 0,
             "ticks": ""
            },
            "colorscale": [
             [
              0,
              "#0d0887"
             ],
             [
              0.1111111111111111,
              "#46039f"
             ],
             [
              0.2222222222222222,
              "#7201a8"
             ],
             [
              0.3333333333333333,
              "#9c179e"
             ],
             [
              0.4444444444444444,
              "#bd3786"
             ],
             [
              0.5555555555555556,
              "#d8576b"
             ],
             [
              0.6666666666666666,
              "#ed7953"
             ],
             [
              0.7777777777777778,
              "#fb9f3a"
             ],
             [
              0.8888888888888888,
              "#fdca26"
             ],
             [
              1,
              "#f0f921"
             ]
            ],
            "type": "heatmap"
           }
          ],
          "histogram": [
           {
            "marker": {
             "pattern": {
              "fillmode": "overlay",
              "size": 10,
              "solidity": 0.2
             }
            },
            "type": "histogram"
           }
          ],
          "histogram2d": [
           {
            "colorbar": {
             "outlinewidth": 0,
             "ticks": ""
            },
            "colorscale": [
             [
              0,
              "#0d0887"
             ],
             [
              0.1111111111111111,
              "#46039f"
             ],
             [
              0.2222222222222222,
              "#7201a8"
             ],
             [
              0.3333333333333333,
              "#9c179e"
             ],
             [
              0.4444444444444444,
              "#bd3786"
             ],
             [
              0.5555555555555556,
              "#d8576b"
             ],
             [
              0.6666666666666666,
              "#ed7953"
             ],
             [
              0.7777777777777778,
              "#fb9f3a"
             ],
             [
              0.8888888888888888,
              "#fdca26"
             ],
             [
              1,
              "#f0f921"
             ]
            ],
            "type": "histogram2d"
           }
          ],
          "histogram2dcontour": [
           {
            "colorbar": {
             "outlinewidth": 0,
             "ticks": ""
            },
            "colorscale": [
             [
              0,
              "#0d0887"
             ],
             [
              0.1111111111111111,
              "#46039f"
             ],
             [
              0.2222222222222222,
              "#7201a8"
             ],
             [
              0.3333333333333333,
              "#9c179e"
             ],
             [
              0.4444444444444444,
              "#bd3786"
             ],
             [
              0.5555555555555556,
              "#d8576b"
             ],
             [
              0.6666666666666666,
              "#ed7953"
             ],
             [
              0.7777777777777778,
              "#fb9f3a"
             ],
             [
              0.8888888888888888,
              "#fdca26"
             ],
             [
              1,
              "#f0f921"
             ]
            ],
            "type": "histogram2dcontour"
           }
          ],
          "mesh3d": [
           {
            "colorbar": {
             "outlinewidth": 0,
             "ticks": ""
            },
            "type": "mesh3d"
           }
          ],
          "parcoords": [
           {
            "line": {
             "colorbar": {
              "outlinewidth": 0,
              "ticks": ""
             }
            },
            "type": "parcoords"
           }
          ],
          "pie": [
           {
            "automargin": true,
            "type": "pie"
           }
          ],
          "scatter": [
           {
            "fillpattern": {
             "fillmode": "overlay",
             "size": 10,
             "solidity": 0.2
            },
            "type": "scatter"
           }
          ],
          "scatter3d": [
           {
            "line": {
             "colorbar": {
              "outlinewidth": 0,
              "ticks": ""
             }
            },
            "marker": {
             "colorbar": {
              "outlinewidth": 0,
              "ticks": ""
             }
            },
            "type": "scatter3d"
           }
          ],
          "scattercarpet": [
           {
            "marker": {
             "colorbar": {
              "outlinewidth": 0,
              "ticks": ""
             }
            },
            "type": "scattercarpet"
           }
          ],
          "scattergeo": [
           {
            "marker": {
             "colorbar": {
              "outlinewidth": 0,
              "ticks": ""
             }
            },
            "type": "scattergeo"
           }
          ],
          "scattergl": [
           {
            "marker": {
             "colorbar": {
              "outlinewidth": 0,
              "ticks": ""
             }
            },
            "type": "scattergl"
           }
          ],
          "scattermap": [
           {
            "marker": {
             "colorbar": {
              "outlinewidth": 0,
              "ticks": ""
             }
            },
            "type": "scattermap"
           }
          ],
          "scattermapbox": [
           {
            "marker": {
             "colorbar": {
              "outlinewidth": 0,
              "ticks": ""
             }
            },
            "type": "scattermapbox"
           }
          ],
          "scatterpolar": [
           {
            "marker": {
             "colorbar": {
              "outlinewidth": 0,
              "ticks": ""
             }
            },
            "type": "scatterpolar"
           }
          ],
          "scatterpolargl": [
           {
            "marker": {
             "colorbar": {
              "outlinewidth": 0,
              "ticks": ""
             }
            },
            "type": "scatterpolargl"
           }
          ],
          "scatterternary": [
           {
            "marker": {
             "colorbar": {
              "outlinewidth": 0,
              "ticks": ""
             }
            },
            "type": "scatterternary"
           }
          ],
          "surface": [
           {
            "colorbar": {
             "outlinewidth": 0,
             "ticks": ""
            },
            "colorscale": [
             [
              0,
              "#0d0887"
             ],
             [
              0.1111111111111111,
              "#46039f"
             ],
             [
              0.2222222222222222,
              "#7201a8"
             ],
             [
              0.3333333333333333,
              "#9c179e"
             ],
             [
              0.4444444444444444,
              "#bd3786"
             ],
             [
              0.5555555555555556,
              "#d8576b"
             ],
             [
              0.6666666666666666,
              "#ed7953"
             ],
             [
              0.7777777777777778,
              "#fb9f3a"
             ],
             [
              0.8888888888888888,
              "#fdca26"
             ],
             [
              1,
              "#f0f921"
             ]
            ],
            "type": "surface"
           }
          ],
          "table": [
           {
            "cells": {
             "fill": {
              "color": "#EBF0F8"
             },
             "line": {
              "color": "white"
             }
            },
            "header": {
             "fill": {
              "color": "#C8D4E3"
             },
             "line": {
              "color": "white"
             }
            },
            "type": "table"
           }
          ]
         },
         "layout": {
          "annotationdefaults": {
           "arrowcolor": "#2a3f5f",
           "arrowhead": 0,
           "arrowwidth": 1
          },
          "autotypenumbers": "strict",
          "coloraxis": {
           "colorbar": {
            "outlinewidth": 0,
            "ticks": ""
           }
          },
          "colorscale": {
           "diverging": [
            [
             0,
             "#8e0152"
            ],
            [
             0.1,
             "#c51b7d"
            ],
            [
             0.2,
             "#de77ae"
            ],
            [
             0.3,
             "#f1b6da"
            ],
            [
             0.4,
             "#fde0ef"
            ],
            [
             0.5,
             "#f7f7f7"
            ],
            [
             0.6,
             "#e6f5d0"
            ],
            [
             0.7,
             "#b8e186"
            ],
            [
             0.8,
             "#7fbc41"
            ],
            [
             0.9,
             "#4d9221"
            ],
            [
             1,
             "#276419"
            ]
           ],
           "sequential": [
            [
             0,
             "#0d0887"
            ],
            [
             0.1111111111111111,
             "#46039f"
            ],
            [
             0.2222222222222222,
             "#7201a8"
            ],
            [
             0.3333333333333333,
             "#9c179e"
            ],
            [
             0.4444444444444444,
             "#bd3786"
            ],
            [
             0.5555555555555556,
             "#d8576b"
            ],
            [
             0.6666666666666666,
             "#ed7953"
            ],
            [
             0.7777777777777778,
             "#fb9f3a"
            ],
            [
             0.8888888888888888,
             "#fdca26"
            ],
            [
             1,
             "#f0f921"
            ]
           ],
           "sequentialminus": [
            [
             0,
             "#0d0887"
            ],
            [
             0.1111111111111111,
             "#46039f"
            ],
            [
             0.2222222222222222,
             "#7201a8"
            ],
            [
             0.3333333333333333,
             "#9c179e"
            ],
            [
             0.4444444444444444,
             "#bd3786"
            ],
            [
             0.5555555555555556,
             "#d8576b"
            ],
            [
             0.6666666666666666,
             "#ed7953"
            ],
            [
             0.7777777777777778,
             "#fb9f3a"
            ],
            [
             0.8888888888888888,
             "#fdca26"
            ],
            [
             1,
             "#f0f921"
            ]
           ]
          },
          "colorway": [
           "#636efa",
           "#EF553B",
           "#00cc96",
           "#ab63fa",
           "#FFA15A",
           "#19d3f3",
           "#FF6692",
           "#B6E880",
           "#FF97FF",
           "#FECB52"
          ],
          "font": {
           "color": "#2a3f5f"
          },
          "geo": {
           "bgcolor": "white",
           "lakecolor": "white",
           "landcolor": "white",
           "showlakes": true,
           "showland": true,
           "subunitcolor": "#C8D4E3"
          },
          "hoverlabel": {
           "align": "left"
          },
          "hovermode": "closest",
          "mapbox": {
           "style": "light"
          },
          "paper_bgcolor": "white",
          "plot_bgcolor": "white",
          "polar": {
           "angularaxis": {
            "gridcolor": "#EBF0F8",
            "linecolor": "#EBF0F8",
            "ticks": ""
           },
           "bgcolor": "white",
           "radialaxis": {
            "gridcolor": "#EBF0F8",
            "linecolor": "#EBF0F8",
            "ticks": ""
           }
          },
          "scene": {
           "xaxis": {
            "backgroundcolor": "white",
            "gridcolor": "#DFE8F3",
            "gridwidth": 2,
            "linecolor": "#EBF0F8",
            "showbackground": true,
            "ticks": "",
            "zerolinecolor": "#EBF0F8"
           },
           "yaxis": {
            "backgroundcolor": "white",
            "gridcolor": "#DFE8F3",
            "gridwidth": 2,
            "linecolor": "#EBF0F8",
            "showbackground": true,
            "ticks": "",
            "zerolinecolor": "#EBF0F8"
           },
           "zaxis": {
            "backgroundcolor": "white",
            "gridcolor": "#DFE8F3",
            "gridwidth": 2,
            "linecolor": "#EBF0F8",
            "showbackground": true,
            "ticks": "",
            "zerolinecolor": "#EBF0F8"
           }
          },
          "shapedefaults": {
           "line": {
            "color": "#2a3f5f"
           }
          },
          "ternary": {
           "aaxis": {
            "gridcolor": "#DFE8F3",
            "linecolor": "#A2B1C6",
            "ticks": ""
           },
           "baxis": {
            "gridcolor": "#DFE8F3",
            "linecolor": "#A2B1C6",
            "ticks": ""
           },
           "bgcolor": "white",
           "caxis": {
            "gridcolor": "#DFE8F3",
            "linecolor": "#A2B1C6",
            "ticks": ""
           }
          },
          "title": {
           "x": 0.05
          },
          "xaxis": {
           "automargin": true,
           "gridcolor": "#EBF0F8",
           "linecolor": "#EBF0F8",
           "ticks": "",
           "title": {
            "standoff": 15
           },
           "zerolinecolor": "#EBF0F8",
           "zerolinewidth": 2
          },
          "yaxis": {
           "automargin": true,
           "gridcolor": "#EBF0F8",
           "linecolor": "#EBF0F8",
           "ticks": "",
           "title": {
            "standoff": 15
           },
           "zerolinecolor": "#EBF0F8",
           "zerolinewidth": 2
          }
         }
        },
        "title": {
         "text": "Cross-Validation (N=5) Mean F1 score with Error Bands"
        },
        "xaxis": {
         "title": {
          "text": "Training Steps"
         }
        },
        "yaxis": {
         "range": [
          0.5,
          1
         ],
         "title": {
          "text": "Performance Score"
         }
        }
       }
      }
     },
     "metadata": {},
     "output_type": "display_data"
    },
    {
     "data": {
      "application/vnd.plotly.v1+json": {
       "config": {
        "plotlyServerURL": "https://plot.ly"
       },
       "data": [
        {
         "line": {
          "color": "blue"
         },
         "mode": "lines",
         "name": "Mean F1 Score",
         "type": "scatter",
         "x": {
          "bdata": "AAABAAIAAwAEAAUABgAHAAgACQAKAAsADAANAA4ADwAQABEAEgATABQAFQAWABcAGAAZABoAGwAcAB0AHgAfACAAIQAiACMAJAAlACYAJwAoACkAKgArACwALQAuAC8AMAAxADIAMwA0ADUANgA3ADgAOQA6ADsAPAA9AD4APwBAAEEAQgBDAEQARQBGAEcASABJAEoASwBMAE0ATgBPAFAAUQBSAFMAVABVAFYAVwBYAFkAWgBbAFwAXQBeAF8AYABhAGIAYwBkAGUAZgBnAGgAaQBqAGsAbABtAG4AbwBwAHEAcgBzAHQAdQB2AHcAeAB5AHoAewB8AH0AfgB/AIAAgQCCAIMAhACFAIYAhwCIAIkAigCLAIwAjQCOAI8AkACRAJIAkwCUAJUAlgCXAJgAmQCaAJsAnACdAJ4AnwCgAKEAogCjAKQApQCmAKcAqACpAKoAqwCsAK0ArgCvALAAsQCyALMAtAC1ALYAtwC4ALkAugC7ALwAvQC+AL8AwADBAMIAwwDEAMUAxgDHAMgAyQDKAMsAzADNAM4AzwDQANEA0gDTANQA1QDWANcA2ADZANoA2wDcAN0A3gDfAOAA4QDiAOMA5ADlAOYA5wDoAOkA6gDrAOwA7QDuAO8A8ADxAPIA8wD0APUA9gD3APgA+QD6APsA/AD9AP4A/wAAAQEB",
          "dtype": "i2"
         },
         "y": {
          "bdata": "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",
          "dtype": "f8"
         }
        },
        {
         "fill": "toself",
         "fillcolor": "rgba(0, 0, 255, 0.2)",
         "line": {
          "color": "rgba(255, 255, 255, 0)"
         },
         "showlegend": false,
         "type": "scatter",
         "x": {
          "bdata": "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",
          "dtype": "f8"
         },
         "y": {
          "bdata": "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",
          "dtype": "f8"
         }
        }
       ],
       "layout": {
        "template": {
         "data": {
          "bar": [
           {
            "error_x": {
             "color": "#2a3f5f"
            },
            "error_y": {
             "color": "#2a3f5f"
            },
            "marker": {
             "line": {
              "color": "white",
              "width": 0.5
             },
             "pattern": {
              "fillmode": "overlay",
              "size": 10,
              "solidity": 0.2
             }
            },
            "type": "bar"
           }
          ],
          "barpolar": [
           {
            "marker": {
             "line": {
              "color": "white",
              "width": 0.5
             },
             "pattern": {
              "fillmode": "overlay",
              "size": 10,
              "solidity": 0.2
             }
            },
            "type": "barpolar"
           }
          ],
          "carpet": [
           {
            "aaxis": {
             "endlinecolor": "#2a3f5f",
             "gridcolor": "#C8D4E3",
             "linecolor": "#C8D4E3",
             "minorgridcolor": "#C8D4E3",
             "startlinecolor": "#2a3f5f"
            },
            "baxis": {
             "endlinecolor": "#2a3f5f",
             "gridcolor": "#C8D4E3",
             "linecolor": "#C8D4E3",
             "minorgridcolor": "#C8D4E3",
             "startlinecolor": "#2a3f5f"
            },
            "type": "carpet"
           }
          ],
          "choropleth": [
           {
            "colorbar": {
             "outlinewidth": 0,
             "ticks": ""
            },
            "type": "choropleth"
           }
          ],
          "contour": [
           {
            "colorbar": {
             "outlinewidth": 0,
             "ticks": ""
            },
            "colorscale": [
             [
              0,
              "#0d0887"
             ],
             [
              0.1111111111111111,
              "#46039f"
             ],
             [
              0.2222222222222222,
              "#7201a8"
             ],
             [
              0.3333333333333333,
              "#9c179e"
             ],
             [
              0.4444444444444444,
              "#bd3786"
             ],
             [
              0.5555555555555556,
              "#d8576b"
             ],
             [
              0.6666666666666666,
              "#ed7953"
             ],
             [
              0.7777777777777778,
              "#fb9f3a"
             ],
             [
              0.8888888888888888,
              "#fdca26"
             ],
             [
              1,
              "#f0f921"
             ]
            ],
            "type": "contour"
           }
          ],
          "contourcarpet": [
           {
            "colorbar": {
             "outlinewidth": 0,
             "ticks": ""
            },
            "type": "contourcarpet"
           }
          ],
          "heatmap": [
           {
            "colorbar": {
             "outlinewidth": 0,
             "ticks": ""
            },
            "colorscale": [
             [
              0,
              "#0d0887"
             ],
             [
              0.1111111111111111,
              "#46039f"
             ],
             [
              0.2222222222222222,
              "#7201a8"
             ],
             [
              0.3333333333333333,
              "#9c179e"
             ],
             [
              0.4444444444444444,
              "#bd3786"
             ],
             [
              0.5555555555555556,
              "#d8576b"
             ],
             [
              0.6666666666666666,
              "#ed7953"
             ],
             [
              0.7777777777777778,
              "#fb9f3a"
             ],
             [
              0.8888888888888888,
              "#fdca26"
             ],
             [
              1,
              "#f0f921"
             ]
            ],
            "type": "heatmap"
           }
          ],
          "histogram": [
           {
            "marker": {
             "pattern": {
              "fillmode": "overlay",
              "size": 10,
              "solidity": 0.2
             }
            },
            "type": "histogram"
           }
          ],
          "histogram2d": [
           {
            "colorbar": {
             "outlinewidth": 0,
             "ticks": ""
            },
            "colorscale": [
             [
              0,
              "#0d0887"
             ],
             [
              0.1111111111111111,
              "#46039f"
             ],
             [
              0.2222222222222222,
              "#7201a8"
             ],
             [
              0.3333333333333333,
              "#9c179e"
             ],
             [
              0.4444444444444444,
              "#bd3786"
             ],
             [
              0.5555555555555556,
              "#d8576b"
             ],
             [
              0.6666666666666666,
              "#ed7953"
             ],
             [
              0.7777777777777778,
              "#fb9f3a"
             ],
             [
              0.8888888888888888,
              "#fdca26"
             ],
             [
              1,
              "#f0f921"
             ]
            ],
            "type": "histogram2d"
           }
          ],
          "histogram2dcontour": [
           {
            "colorbar": {
             "outlinewidth": 0,
             "ticks": ""
            },
            "colorscale": [
             [
              0,
              "#0d0887"
             ],
             [
              0.1111111111111111,
              "#46039f"
             ],
             [
              0.2222222222222222,
              "#7201a8"
             ],
             [
              0.3333333333333333,
              "#9c179e"
             ],
             [
              0.4444444444444444,
              "#bd3786"
             ],
             [
              0.5555555555555556,
              "#d8576b"
             ],
             [
              0.6666666666666666,
              "#ed7953"
             ],
             [
              0.7777777777777778,
              "#fb9f3a"
             ],
             [
              0.8888888888888888,
              "#fdca26"
             ],
             [
              1,
              "#f0f921"
             ]
            ],
            "type": "histogram2dcontour"
           }
          ],
          "mesh3d": [
           {
            "colorbar": {
             "outlinewidth": 0,
             "ticks": ""
            },
            "type": "mesh3d"
           }
          ],
          "parcoords": [
           {
            "line": {
             "colorbar": {
              "outlinewidth": 0,
              "ticks": ""
             }
            },
            "type": "parcoords"
           }
          ],
          "pie": [
           {
            "automargin": true,
            "type": "pie"
           }
          ],
          "scatter": [
           {
            "fillpattern": {
             "fillmode": "overlay",
             "size": 10,
             "solidity": 0.2
            },
            "type": "scatter"
           }
          ],
          "scatter3d": [
           {
            "line": {
             "colorbar": {
              "outlinewidth": 0,
              "ticks": ""
             }
            },
            "marker": {
             "colorbar": {
              "outlinewidth": 0,
              "ticks": ""
             }
            },
            "type": "scatter3d"
           }
          ],
          "scattercarpet": [
           {
            "marker": {
             "colorbar": {
              "outlinewidth": 0,
              "ticks": ""
             }
            },
            "type": "scattercarpet"
           }
          ],
          "scattergeo": [
           {
            "marker": {
             "colorbar": {
              "outlinewidth": 0,
              "ticks": ""
             }
            },
            "type": "scattergeo"
           }
          ],
          "scattergl": [
           {
            "marker": {
             "colorbar": {
              "outlinewidth": 0,
              "ticks": ""
             }
            },
            "type": "scattergl"
           }
          ],
          "scattermap": [
           {
            "marker": {
             "colorbar": {
              "outlinewidth": 0,
              "ticks": ""
             }
            },
            "type": "scattermap"
           }
          ],
          "scattermapbox": [
           {
            "marker": {
             "colorbar": {
              "outlinewidth": 0,
              "ticks": ""
             }
            },
            "type": "scattermapbox"
           }
          ],
          "scatterpolar": [
           {
            "marker": {
             "colorbar": {
              "outlinewidth": 0,
              "ticks": ""
             }
            },
            "type": "scatterpolar"
           }
          ],
          "scatterpolargl": [
           {
            "marker": {
             "colorbar": {
              "outlinewidth": 0,
              "ticks": ""
             }
            },
            "type": "scatterpolargl"
           }
          ],
          "scatterternary": [
           {
            "marker": {
             "colorbar": {
              "outlinewidth": 0,
              "ticks": ""
             }
            },
            "type": "scatterternary"
           }
          ],
          "surface": [
           {
            "colorbar": {
             "outlinewidth": 0,
             "ticks": ""
            },
            "colorscale": [
             [
              0,
              "#0d0887"
             ],
             [
              0.1111111111111111,
              "#46039f"
             ],
             [
              0.2222222222222222,
              "#7201a8"
             ],
             [
              0.3333333333333333,
              "#9c179e"
             ],
             [
              0.4444444444444444,
              "#bd3786"
             ],
             [
              0.5555555555555556,
              "#d8576b"
             ],
             [
              0.6666666666666666,
              "#ed7953"
             ],
             [
              0.7777777777777778,
              "#fb9f3a"
             ],
             [
              0.8888888888888888,
              "#fdca26"
             ],
             [
              1,
              "#f0f921"
             ]
            ],
            "type": "surface"
           }
          ],
          "table": [
           {
            "cells": {
             "fill": {
              "color": "#EBF0F8"
             },
             "line": {
              "color": "white"
             }
            },
            "header": {
             "fill": {
              "color": "#C8D4E3"
             },
             "line": {
              "color": "white"
             }
            },
            "type": "table"
           }
          ]
         },
         "layout": {
          "annotationdefaults": {
           "arrowcolor": "#2a3f5f",
           "arrowhead": 0,
           "arrowwidth": 1
          },
          "autotypenumbers": "strict",
          "coloraxis": {
           "colorbar": {
            "outlinewidth": 0,
            "ticks": ""
           }
          },
          "colorscale": {
           "diverging": [
            [
             0,
             "#8e0152"
            ],
            [
             0.1,
             "#c51b7d"
            ],
            [
             0.2,
             "#de77ae"
            ],
            [
             0.3,
             "#f1b6da"
            ],
            [
             0.4,
             "#fde0ef"
            ],
            [
             0.5,
             "#f7f7f7"
            ],
            [
             0.6,
             "#e6f5d0"
            ],
            [
             0.7,
             "#b8e186"
            ],
            [
             0.8,
             "#7fbc41"
            ],
            [
             0.9,
             "#4d9221"
            ],
            [
             1,
             "#276419"
            ]
           ],
           "sequential": [
            [
             0,
             "#0d0887"
            ],
            [
             0.1111111111111111,
             "#46039f"
            ],
            [
             0.2222222222222222,
             "#7201a8"
            ],
            [
             0.3333333333333333,
             "#9c179e"
            ],
            [
             0.4444444444444444,
             "#bd3786"
            ],
            [
             0.5555555555555556,
             "#d8576b"
            ],
            [
             0.6666666666666666,
             "#ed7953"
            ],
            [
             0.7777777777777778,
             "#fb9f3a"
            ],
            [
             0.8888888888888888,
             "#fdca26"
            ],
            [
             1,
             "#f0f921"
            ]
           ],
           "sequentialminus": [
            [
             0,
             "#0d0887"
            ],
            [
             0.1111111111111111,
             "#46039f"
            ],
            [
             0.2222222222222222,
             "#7201a8"
            ],
            [
             0.3333333333333333,
             "#9c179e"
            ],
            [
             0.4444444444444444,
             "#bd3786"
            ],
            [
             0.5555555555555556,
             "#d8576b"
            ],
            [
             0.6666666666666666,
             "#ed7953"
            ],
            [
             0.7777777777777778,
             "#fb9f3a"
            ],
            [
             0.8888888888888888,
             "#fdca26"
            ],
            [
             1,
             "#f0f921"
            ]
           ]
          },
          "colorway": [
           "#636efa",
           "#EF553B",
           "#00cc96",
           "#ab63fa",
           "#FFA15A",
           "#19d3f3",
           "#FF6692",
           "#B6E880",
           "#FF97FF",
           "#FECB52"
          ],
          "font": {
           "color": "#2a3f5f"
          },
          "geo": {
           "bgcolor": "white",
           "lakecolor": "white",
           "landcolor": "white",
           "showlakes": true,
           "showland": true,
           "subunitcolor": "#C8D4E3"
          },
          "hoverlabel": {
           "align": "left"
          },
          "hovermode": "closest",
          "mapbox": {
           "style": "light"
          },
          "paper_bgcolor": "white",
          "plot_bgcolor": "white",
          "polar": {
           "angularaxis": {
            "gridcolor": "#EBF0F8",
            "linecolor": "#EBF0F8",
            "ticks": ""
           },
           "bgcolor": "white",
           "radialaxis": {
            "gridcolor": "#EBF0F8",
            "linecolor": "#EBF0F8",
            "ticks": ""
           }
          },
          "scene": {
           "xaxis": {
            "backgroundcolor": "white",
            "gridcolor": "#DFE8F3",
            "gridwidth": 2,
            "linecolor": "#EBF0F8",
            "showbackground": true,
            "ticks": "",
            "zerolinecolor": "#EBF0F8"
           },
           "yaxis": {
            "backgroundcolor": "white",
            "gridcolor": "#DFE8F3",
            "gridwidth": 2,
            "linecolor": "#EBF0F8",
            "showbackground": true,
            "ticks": "",
            "zerolinecolor": "#EBF0F8"
           },
           "zaxis": {
            "backgroundcolor": "white",
            "gridcolor": "#DFE8F3",
            "gridwidth": 2,
            "linecolor": "#EBF0F8",
            "showbackground": true,
            "ticks": "",
            "zerolinecolor": "#EBF0F8"
           }
          },
          "shapedefaults": {
           "line": {
            "color": "#2a3f5f"
           }
          },
          "ternary": {
           "aaxis": {
            "gridcolor": "#DFE8F3",
            "linecolor": "#A2B1C6",
            "ticks": ""
           },
           "baxis": {
            "gridcolor": "#DFE8F3",
            "linecolor": "#A2B1C6",
            "ticks": ""
           },
           "bgcolor": "white",
           "caxis": {
            "gridcolor": "#DFE8F3",
            "linecolor": "#A2B1C6",
            "ticks": ""
           }
          },
          "title": {
           "x": 0.05
          },
          "xaxis": {
           "automargin": true,
           "gridcolor": "#EBF0F8",
           "linecolor": "#EBF0F8",
           "ticks": "",
           "title": {
            "standoff": 15
           },
           "zerolinecolor": "#EBF0F8",
           "zerolinewidth": 2
          },
          "yaxis": {
           "automargin": true,
           "gridcolor": "#EBF0F8",
           "linecolor": "#EBF0F8",
           "ticks": "",
           "title": {
            "standoff": 15
           },
           "zerolinecolor": "#EBF0F8",
           "zerolinewidth": 2
          }
         }
        },
        "title": {
         "text": "Cross-Validation (N=5) Mean F1 score with Error Bands"
        },
        "xaxis": {
         "title": {
          "text": "Training Steps"
         }
        },
        "yaxis": {
         "range": [
          0.5,
          1
         ],
         "title": {
          "text": "Performance Score"
         }
        }
       }
      }
     },
     "metadata": {},
     "output_type": "display_data"
    }
   ],
   "source": [
    "from ARISA_DSML.train import plot_error_scatter\n",
    "cv_results = pd.read_csv(cv_output_path)\n",
    "plot_error_scatter(\n",
    "    df_plot=cv_results, \n",
    "    name=\"Mean F1 Score\", \n",
    "    title=\"Cross-Validation (N=5) Mean F1 score with Error Bands\",\n",
    "    xtitle=\"Training Steps\",\n",
    "    ytitle=\"Performance Score\",\n",
    "    yaxis_range=[0.5, 1]\n",
    ")"
   ]
  },
  {
   "cell_type": "code",
   "execution_count": 14,
   "id": "63b1fda4",
   "metadata": {},
   "outputs": [
    {
     "data": {
      "application/vnd.plotly.v1+json": {
       "config": {
        "plotlyServerURL": "https://plot.ly"
       },
       "data": [
        {
         "line": {
          "color": "blue"
         },
         "mode": "lines",
         "name": "Mean logloss",
         "type": "scatter",
         "x": {
          "bdata": "AAABAAIAAwAEAAUABgAHAAgACQAKAAsADAANAA4ADwAQABEAEgATABQAFQAWABcAGAAZABoAGwAcAB0AHgAfACAAIQAiACMAJAAlACYAJwAoACkAKgArACwALQAuAC8AMAAxADIAMwA0ADUANgA3ADgAOQA6ADsAPAA9AD4APwBAAEEAQgBDAEQARQBGAEcASABJAEoASwBMAE0ATgBPAFAAUQBSAFMAVABVAFYAVwBYAFkAWgBbAFwAXQBeAF8AYABhAGIAYwBkAGUAZgBnAGgAaQBqAGsAbABtAG4AbwBwAHEAcgBzAHQAdQB2AHcAeAB5AHoAewB8AH0AfgB/AIAAgQCCAIMAhACFAIYAhwCIAIkAigCLAIwAjQCOAI8AkACRAJIAkwCUAJUAlgCXAJgAmQCaAJsAnACdAJ4AnwCgAKEAogCjAKQApQCmAKcAqACpAKoAqwCsAK0ArgCvALAAsQCyALMAtAC1ALYAtwC4ALkAugC7ALwAvQC+AL8AwADBAMIAwwDEAMUAxgDHAMgAyQDKAMsAzADNAM4AzwDQANEA0gDTANQA1QDWANcA2ADZANoA2wDcAN0A3gDfAOAA4QDiAOMA5ADlAOYA5wDoAOkA6gDrAOwA7QDuAO8A8ADxAPIA8wD0APUA9gD3APgA+QD6APsA/AD9AP4A/wAAAQEB",
          "dtype": "i2"
         },
         "y": {
          "bdata": "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",
          "dtype": "f8"
         }
        },
        {
         "fill": "toself",
         "fillcolor": "rgba(0, 0, 255, 0.2)",
         "line": {
          "color": "rgba(255, 255, 255, 0)"
         },
         "showlegend": false,
         "type": "scatter",
         "x": {
          "bdata": "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",
          "dtype": "f8"
         },
         "y": {
          "bdata": "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",
          "dtype": "f8"
         }
        }
       ],
       "layout": {
        "template": {
         "data": {
          "bar": [
           {
            "error_x": {
             "color": "#2a3f5f"
            },
            "error_y": {
             "color": "#2a3f5f"
            },
            "marker": {
             "line": {
              "color": "white",
              "width": 0.5
             },
             "pattern": {
              "fillmode": "overlay",
              "size": 10,
              "solidity": 0.2
             }
            },
            "type": "bar"
           }
          ],
          "barpolar": [
           {
            "marker": {
             "line": {
              "color": "white",
              "width": 0.5
             },
             "pattern": {
              "fillmode": "overlay",
              "size": 10,
              "solidity": 0.2
             }
            },
            "type": "barpolar"
           }
          ],
          "carpet": [
           {
            "aaxis": {
             "endlinecolor": "#2a3f5f",
             "gridcolor": "#C8D4E3",
             "linecolor": "#C8D4E3",
             "minorgridcolor": "#C8D4E3",
             "startlinecolor": "#2a3f5f"
            },
            "baxis": {
             "endlinecolor": "#2a3f5f",
             "gridcolor": "#C8D4E3",
             "linecolor": "#C8D4E3",
             "minorgridcolor": "#C8D4E3",
             "startlinecolor": "#2a3f5f"
            },
            "type": "carpet"
           }
          ],
          "choropleth": [
           {
            "colorbar": {
             "outlinewidth": 0,
             "ticks": ""
            },
            "type": "choropleth"
           }
          ],
          "contour": [
           {
            "colorbar": {
             "outlinewidth": 0,
             "ticks": ""
            },
            "colorscale": [
             [
              0,
              "#0d0887"
             ],
             [
              0.1111111111111111,
              "#46039f"
             ],
             [
              0.2222222222222222,
              "#7201a8"
             ],
             [
              0.3333333333333333,
              "#9c179e"
             ],
             [
              0.4444444444444444,
              "#bd3786"
             ],
             [
              0.5555555555555556,
              "#d8576b"
             ],
             [
              0.6666666666666666,
              "#ed7953"
             ],
             [
              0.7777777777777778,
              "#fb9f3a"
             ],
             [
              0.8888888888888888,
              "#fdca26"
             ],
             [
              1,
              "#f0f921"
             ]
            ],
            "type": "contour"
           }
          ],
          "contourcarpet": [
           {
            "colorbar": {
             "outlinewidth": 0,
             "ticks": ""
            },
            "type": "contourcarpet"
           }
          ],
          "heatmap": [
           {
            "colorbar": {
             "outlinewidth": 0,
             "ticks": ""
            },
            "colorscale": [
             [
              0,
              "#0d0887"
             ],
             [
              0.1111111111111111,
              "#46039f"
             ],
             [
              0.2222222222222222,
              "#7201a8"
             ],
             [
              0.3333333333333333,
              "#9c179e"
             ],
             [
              0.4444444444444444,
              "#bd3786"
             ],
             [
              0.5555555555555556,
              "#d8576b"
             ],
             [
              0.6666666666666666,
              "#ed7953"
             ],
             [
              0.7777777777777778,
              "#fb9f3a"
             ],
             [
              0.8888888888888888,
              "#fdca26"
             ],
             [
              1,
              "#f0f921"
             ]
            ],
            "type": "heatmap"
           }
          ],
          "histogram": [
           {
            "marker": {
             "pattern": {
              "fillmode": "overlay",
              "size": 10,
              "solidity": 0.2
             }
            },
            "type": "histogram"
           }
          ],
          "histogram2d": [
           {
            "colorbar": {
             "outlinewidth": 0,
             "ticks": ""
            },
            "colorscale": [
             [
              0,
              "#0d0887"
             ],
             [
              0.1111111111111111,
              "#46039f"
             ],
             [
              0.2222222222222222,
              "#7201a8"
             ],
             [
              0.3333333333333333,
              "#9c179e"
             ],
             [
              0.4444444444444444,
              "#bd3786"
             ],
             [
              0.5555555555555556,
              "#d8576b"
             ],
             [
              0.6666666666666666,
              "#ed7953"
             ],
             [
              0.7777777777777778,
              "#fb9f3a"
             ],
             [
              0.8888888888888888,
              "#fdca26"
             ],
             [
              1,
              "#f0f921"
             ]
            ],
            "type": "histogram2d"
           }
          ],
          "histogram2dcontour": [
           {
            "colorbar": {
             "outlinewidth": 0,
             "ticks": ""
            },
            "colorscale": [
             [
              0,
              "#0d0887"
             ],
             [
              0.1111111111111111,
              "#46039f"
             ],
             [
              0.2222222222222222,
              "#7201a8"
             ],
             [
              0.3333333333333333,
              "#9c179e"
             ],
             [
              0.4444444444444444,
              "#bd3786"
             ],
             [
              0.5555555555555556,
              "#d8576b"
             ],
             [
              0.6666666666666666,
              "#ed7953"
             ],
             [
              0.7777777777777778,
              "#fb9f3a"
             ],
             [
              0.8888888888888888,
              "#fdca26"
             ],
             [
              1,
              "#f0f921"
             ]
            ],
            "type": "histogram2dcontour"
           }
          ],
          "mesh3d": [
           {
            "colorbar": {
             "outlinewidth": 0,
             "ticks": ""
            },
            "type": "mesh3d"
           }
          ],
          "parcoords": [
           {
            "line": {
             "colorbar": {
              "outlinewidth": 0,
              "ticks": ""
             }
            },
            "type": "parcoords"
           }
          ],
          "pie": [
           {
            "automargin": true,
            "type": "pie"
           }
          ],
          "scatter": [
           {
            "fillpattern": {
             "fillmode": "overlay",
             "size": 10,
             "solidity": 0.2
            },
            "type": "scatter"
           }
          ],
          "scatter3d": [
           {
            "line": {
             "colorbar": {
              "outlinewidth": 0,
              "ticks": ""
             }
            },
            "marker": {
             "colorbar": {
              "outlinewidth": 0,
              "ticks": ""
             }
            },
            "type": "scatter3d"
           }
          ],
          "scattercarpet": [
           {
            "marker": {
             "colorbar": {
              "outlinewidth": 0,
              "ticks": ""
             }
            },
            "type": "scattercarpet"
           }
          ],
          "scattergeo": [
           {
            "marker": {
             "colorbar": {
              "outlinewidth": 0,
              "ticks": ""
             }
            },
            "type": "scattergeo"
           }
          ],
          "scattergl": [
           {
            "marker": {
             "colorbar": {
              "outlinewidth": 0,
              "ticks": ""
             }
            },
            "type": "scattergl"
           }
          ],
          "scattermap": [
           {
            "marker": {
             "colorbar": {
              "outlinewidth": 0,
              "ticks": ""
             }
            },
            "type": "scattermap"
           }
          ],
          "scattermapbox": [
           {
            "marker": {
             "colorbar": {
              "outlinewidth": 0,
              "ticks": ""
             }
            },
            "type": "scattermapbox"
           }
          ],
          "scatterpolar": [
           {
            "marker": {
             "colorbar": {
              "outlinewidth": 0,
              "ticks": ""
             }
            },
            "type": "scatterpolar"
           }
          ],
          "scatterpolargl": [
           {
            "marker": {
             "colorbar": {
              "outlinewidth": 0,
              "ticks": ""
             }
            },
            "type": "scatterpolargl"
           }
          ],
          "scatterternary": [
           {
            "marker": {
             "colorbar": {
              "outlinewidth": 0,
              "ticks": ""
             }
            },
            "type": "scatterternary"
           }
          ],
          "surface": [
           {
            "colorbar": {
             "outlinewidth": 0,
             "ticks": ""
            },
            "colorscale": [
             [
              0,
              "#0d0887"
             ],
             [
              0.1111111111111111,
              "#46039f"
             ],
             [
              0.2222222222222222,
              "#7201a8"
             ],
             [
              0.3333333333333333,
              "#9c179e"
             ],
             [
              0.4444444444444444,
              "#bd3786"
             ],
             [
              0.5555555555555556,
              "#d8576b"
             ],
             [
              0.6666666666666666,
              "#ed7953"
             ],
             [
              0.7777777777777778,
              "#fb9f3a"
             ],
             [
              0.8888888888888888,
              "#fdca26"
             ],
             [
              1,
              "#f0f921"
             ]
            ],
            "type": "surface"
           }
          ],
          "table": [
           {
            "cells": {
             "fill": {
              "color": "#EBF0F8"
             },
             "line": {
              "color": "white"
             }
            },
            "header": {
             "fill": {
              "color": "#C8D4E3"
             },
             "line": {
              "color": "white"
             }
            },
            "type": "table"
           }
          ]
         },
         "layout": {
          "annotationdefaults": {
           "arrowcolor": "#2a3f5f",
           "arrowhead": 0,
           "arrowwidth": 1
          },
          "autotypenumbers": "strict",
          "coloraxis": {
           "colorbar": {
            "outlinewidth": 0,
            "ticks": ""
           }
          },
          "colorscale": {
           "diverging": [
            [
             0,
             "#8e0152"
            ],
            [
             0.1,
             "#c51b7d"
            ],
            [
             0.2,
             "#de77ae"
            ],
            [
             0.3,
             "#f1b6da"
            ],
            [
             0.4,
             "#fde0ef"
            ],
            [
             0.5,
             "#f7f7f7"
            ],
            [
             0.6,
             "#e6f5d0"
            ],
            [
             0.7,
             "#b8e186"
            ],
            [
             0.8,
             "#7fbc41"
            ],
            [
             0.9,
             "#4d9221"
            ],
            [
             1,
             "#276419"
            ]
           ],
           "sequential": [
            [
             0,
             "#0d0887"
            ],
            [
             0.1111111111111111,
             "#46039f"
            ],
            [
             0.2222222222222222,
             "#7201a8"
            ],
            [
             0.3333333333333333,
             "#9c179e"
            ],
            [
             0.4444444444444444,
             "#bd3786"
            ],
            [
             0.5555555555555556,
             "#d8576b"
            ],
            [
             0.6666666666666666,
             "#ed7953"
            ],
            [
             0.7777777777777778,
             "#fb9f3a"
            ],
            [
             0.8888888888888888,
             "#fdca26"
            ],
            [
             1,
             "#f0f921"
            ]
           ],
           "sequentialminus": [
            [
             0,
             "#0d0887"
            ],
            [
             0.1111111111111111,
             "#46039f"
            ],
            [
             0.2222222222222222,
             "#7201a8"
            ],
            [
             0.3333333333333333,
             "#9c179e"
            ],
            [
             0.4444444444444444,
             "#bd3786"
            ],
            [
             0.5555555555555556,
             "#d8576b"
            ],
            [
             0.6666666666666666,
             "#ed7953"
            ],
            [
             0.7777777777777778,
             "#fb9f3a"
            ],
            [
             0.8888888888888888,
             "#fdca26"
            ],
            [
             1,
             "#f0f921"
            ]
           ]
          },
          "colorway": [
           "#636efa",
           "#EF553B",
           "#00cc96",
           "#ab63fa",
           "#FFA15A",
           "#19d3f3",
           "#FF6692",
           "#B6E880",
           "#FF97FF",
           "#FECB52"
          ],
          "font": {
           "color": "#2a3f5f"
          },
          "geo": {
           "bgcolor": "white",
           "lakecolor": "white",
           "landcolor": "white",
           "showlakes": true,
           "showland": true,
           "subunitcolor": "#C8D4E3"
          },
          "hoverlabel": {
           "align": "left"
          },
          "hovermode": "closest",
          "mapbox": {
           "style": "light"
          },
          "paper_bgcolor": "white",
          "plot_bgcolor": "white",
          "polar": {
           "angularaxis": {
            "gridcolor": "#EBF0F8",
            "linecolor": "#EBF0F8",
            "ticks": ""
           },
           "bgcolor": "white",
           "radialaxis": {
            "gridcolor": "#EBF0F8",
            "linecolor": "#EBF0F8",
            "ticks": ""
           }
          },
          "scene": {
           "xaxis": {
            "backgroundcolor": "white",
            "gridcolor": "#DFE8F3",
            "gridwidth": 2,
            "linecolor": "#EBF0F8",
            "showbackground": true,
            "ticks": "",
            "zerolinecolor": "#EBF0F8"
           },
           "yaxis": {
            "backgroundcolor": "white",
            "gridcolor": "#DFE8F3",
            "gridwidth": 2,
            "linecolor": "#EBF0F8",
            "showbackground": true,
            "ticks": "",
            "zerolinecolor": "#EBF0F8"
           },
           "zaxis": {
            "backgroundcolor": "white",
            "gridcolor": "#DFE8F3",
            "gridwidth": 2,
            "linecolor": "#EBF0F8",
            "showbackground": true,
            "ticks": "",
            "zerolinecolor": "#EBF0F8"
           }
          },
          "shapedefaults": {
           "line": {
            "color": "#2a3f5f"
           }
          },
          "ternary": {
           "aaxis": {
            "gridcolor": "#DFE8F3",
            "linecolor": "#A2B1C6",
            "ticks": ""
           },
           "baxis": {
            "gridcolor": "#DFE8F3",
            "linecolor": "#A2B1C6",
            "ticks": ""
           },
           "bgcolor": "white",
           "caxis": {
            "gridcolor": "#DFE8F3",
            "linecolor": "#A2B1C6",
            "ticks": ""
           }
          },
          "title": {
           "x": 0.05
          },
          "xaxis": {
           "automargin": true,
           "gridcolor": "#EBF0F8",
           "linecolor": "#EBF0F8",
           "ticks": "",
           "title": {
            "standoff": 15
           },
           "zerolinecolor": "#EBF0F8",
           "zerolinewidth": 2
          },
          "yaxis": {
           "automargin": true,
           "gridcolor": "#EBF0F8",
           "linecolor": "#EBF0F8",
           "ticks": "",
           "title": {
            "standoff": 15
           },
           "zerolinecolor": "#EBF0F8",
           "zerolinewidth": 2
          }
         }
        },
        "title": {
         "text": "Cross-Validation (N=5) Mean Logloss with Error Bands"
        },
        "xaxis": {
         "title": {
          "text": "Training Steps"
         }
        },
        "yaxis": {
         "title": {
          "text": "Logloss"
         }
        }
       }
      }
     },
     "metadata": {},
     "output_type": "display_data"
    },
    {
     "data": {
      "application/vnd.plotly.v1+json": {
       "config": {
        "plotlyServerURL": "https://plot.ly"
       },
       "data": [
        {
         "line": {
          "color": "blue"
         },
         "mode": "lines",
         "name": "Mean logloss",
         "type": "scatter",
         "x": {
          "bdata": "AAABAAIAAwAEAAUABgAHAAgACQAKAAsADAANAA4ADwAQABEAEgATABQAFQAWABcAGAAZABoAGwAcAB0AHgAfACAAIQAiACMAJAAlACYAJwAoACkAKgArACwALQAuAC8AMAAxADIAMwA0ADUANgA3ADgAOQA6ADsAPAA9AD4APwBAAEEAQgBDAEQARQBGAEcASABJAEoASwBMAE0ATgBPAFAAUQBSAFMAVABVAFYAVwBYAFkAWgBbAFwAXQBeAF8AYABhAGIAYwBkAGUAZgBnAGgAaQBqAGsAbABtAG4AbwBwAHEAcgBzAHQAdQB2AHcAeAB5AHoAewB8AH0AfgB/AIAAgQCCAIMAhACFAIYAhwCIAIkAigCLAIwAjQCOAI8AkACRAJIAkwCUAJUAlgCXAJgAmQCaAJsAnACdAJ4AnwCgAKEAogCjAKQApQCmAKcAqACpAKoAqwCsAK0ArgCvALAAsQCyALMAtAC1ALYAtwC4ALkAugC7ALwAvQC+AL8AwADBAMIAwwDEAMUAxgDHAMgAyQDKAMsAzADNAM4AzwDQANEA0gDTANQA1QDWANcA2ADZANoA2wDcAN0A3gDfAOAA4QDiAOMA5ADlAOYA5wDoAOkA6gDrAOwA7QDuAO8A8ADxAPIA8wD0APUA9gD3APgA+QD6APsA/AD9AP4A/wAAAQEB",
          "dtype": "i2"
         },
         "y": {
          "bdata": "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",
          "dtype": "f8"
         }
        },
        {
         "fill": "toself",
         "fillcolor": "rgba(0, 0, 255, 0.2)",
         "line": {
          "color": "rgba(255, 255, 255, 0)"
         },
         "showlegend": false,
         "type": "scatter",
         "x": {
          "bdata": "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",
          "dtype": "f8"
         },
         "y": {
          "bdata": "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",
          "dtype": "f8"
         }
        }
       ],
       "layout": {
        "template": {
         "data": {
          "bar": [
           {
            "error_x": {
             "color": "#2a3f5f"
            },
            "error_y": {
             "color": "#2a3f5f"
            },
            "marker": {
             "line": {
              "color": "white",
              "width": 0.5
             },
             "pattern": {
              "fillmode": "overlay",
              "size": 10,
              "solidity": 0.2
             }
            },
            "type": "bar"
           }
          ],
          "barpolar": [
           {
            "marker": {
             "line": {
              "color": "white",
              "width": 0.5
             },
             "pattern": {
              "fillmode": "overlay",
              "size": 10,
              "solidity": 0.2
             }
            },
            "type": "barpolar"
           }
          ],
          "carpet": [
           {
            "aaxis": {
             "endlinecolor": "#2a3f5f",
             "gridcolor": "#C8D4E3",
             "linecolor": "#C8D4E3",
             "minorgridcolor": "#C8D4E3",
             "startlinecolor": "#2a3f5f"
            },
            "baxis": {
             "endlinecolor": "#2a3f5f",
             "gridcolor": "#C8D4E3",
             "linecolor": "#C8D4E3",
             "minorgridcolor": "#C8D4E3",
             "startlinecolor": "#2a3f5f"
            },
            "type": "carpet"
           }
          ],
          "choropleth": [
           {
            "colorbar": {
             "outlinewidth": 0,
             "ticks": ""
            },
            "type": "choropleth"
           }
          ],
          "contour": [
           {
            "colorbar": {
             "outlinewidth": 0,
             "ticks": ""
            },
            "colorscale": [
             [
              0,
              "#0d0887"
             ],
             [
              0.1111111111111111,
              "#46039f"
             ],
             [
              0.2222222222222222,
              "#7201a8"
             ],
             [
              0.3333333333333333,
              "#9c179e"
             ],
             [
              0.4444444444444444,
              "#bd3786"
             ],
             [
              0.5555555555555556,
              "#d8576b"
             ],
             [
              0.6666666666666666,
              "#ed7953"
             ],
             [
              0.7777777777777778,
              "#fb9f3a"
             ],
             [
              0.8888888888888888,
              "#fdca26"
             ],
             [
              1,
              "#f0f921"
             ]
            ],
            "type": "contour"
           }
          ],
          "contourcarpet": [
           {
            "colorbar": {
             "outlinewidth": 0,
             "ticks": ""
            },
            "type": "contourcarpet"
           }
          ],
          "heatmap": [
           {
            "colorbar": {
             "outlinewidth": 0,
             "ticks": ""
            },
            "colorscale": [
             [
              0,
              "#0d0887"
             ],
             [
              0.1111111111111111,
              "#46039f"
             ],
             [
              0.2222222222222222,
              "#7201a8"
             ],
             [
              0.3333333333333333,
              "#9c179e"
             ],
             [
              0.4444444444444444,
              "#bd3786"
             ],
             [
              0.5555555555555556,
              "#d8576b"
             ],
             [
              0.6666666666666666,
              "#ed7953"
             ],
             [
              0.7777777777777778,
              "#fb9f3a"
             ],
             [
              0.8888888888888888,
              "#fdca26"
             ],
             [
              1,
              "#f0f921"
             ]
            ],
            "type": "heatmap"
           }
          ],
          "histogram": [
           {
            "marker": {
             "pattern": {
              "fillmode": "overlay",
              "size": 10,
              "solidity": 0.2
             }
            },
            "type": "histogram"
           }
          ],
          "histogram2d": [
           {
            "colorbar": {
             "outlinewidth": 0,
             "ticks": ""
            },
            "colorscale": [
             [
              0,
              "#0d0887"
             ],
             [
              0.1111111111111111,
              "#46039f"
             ],
             [
              0.2222222222222222,
              "#7201a8"
             ],
             [
              0.3333333333333333,
              "#9c179e"
             ],
             [
              0.4444444444444444,
              "#bd3786"
             ],
             [
              0.5555555555555556,
              "#d8576b"
             ],
             [
              0.6666666666666666,
              "#ed7953"
             ],
             [
              0.7777777777777778,
              "#fb9f3a"
             ],
             [
              0.8888888888888888,
              "#fdca26"
             ],
             [
              1,
              "#f0f921"
             ]
            ],
            "type": "histogram2d"
           }
          ],
          "histogram2dcontour": [
           {
            "colorbar": {
             "outlinewidth": 0,
             "ticks": ""
            },
            "colorscale": [
             [
              0,
              "#0d0887"
             ],
             [
              0.1111111111111111,
              "#46039f"
             ],
             [
              0.2222222222222222,
              "#7201a8"
             ],
             [
              0.3333333333333333,
              "#9c179e"
             ],
             [
              0.4444444444444444,
              "#bd3786"
             ],
             [
              0.5555555555555556,
              "#d8576b"
             ],
             [
              0.6666666666666666,
              "#ed7953"
             ],
             [
              0.7777777777777778,
              "#fb9f3a"
             ],
             [
              0.8888888888888888,
              "#fdca26"
             ],
             [
              1,
              "#f0f921"
             ]
            ],
            "type": "histogram2dcontour"
           }
          ],
          "mesh3d": [
           {
            "colorbar": {
             "outlinewidth": 0,
             "ticks": ""
            },
            "type": "mesh3d"
           }
          ],
          "parcoords": [
           {
            "line": {
             "colorbar": {
              "outlinewidth": 0,
              "ticks": ""
             }
            },
            "type": "parcoords"
           }
          ],
          "pie": [
           {
            "automargin": true,
            "type": "pie"
           }
          ],
          "scatter": [
           {
            "fillpattern": {
             "fillmode": "overlay",
             "size": 10,
             "solidity": 0.2
            },
            "type": "scatter"
           }
          ],
          "scatter3d": [
           {
            "line": {
             "colorbar": {
              "outlinewidth": 0,
              "ticks": ""
             }
            },
            "marker": {
             "colorbar": {
              "outlinewidth": 0,
              "ticks": ""
             }
            },
            "type": "scatter3d"
           }
          ],
          "scattercarpet": [
           {
            "marker": {
             "colorbar": {
              "outlinewidth": 0,
              "ticks": ""
             }
            },
            "type": "scattercarpet"
           }
          ],
          "scattergeo": [
           {
            "marker": {
             "colorbar": {
              "outlinewidth": 0,
              "ticks": ""
             }
            },
            "type": "scattergeo"
           }
          ],
          "scattergl": [
           {
            "marker": {
             "colorbar": {
              "outlinewidth": 0,
              "ticks": ""
             }
            },
            "type": "scattergl"
           }
          ],
          "scattermap": [
           {
            "marker": {
             "colorbar": {
              "outlinewidth": 0,
              "ticks": ""
             }
            },
            "type": "scattermap"
           }
          ],
          "scattermapbox": [
           {
            "marker": {
             "colorbar": {
              "outlinewidth": 0,
              "ticks": ""
             }
            },
            "type": "scattermapbox"
           }
          ],
          "scatterpolar": [
           {
            "marker": {
             "colorbar": {
              "outlinewidth": 0,
              "ticks": ""
             }
            },
            "type": "scatterpolar"
           }
          ],
          "scatterpolargl": [
           {
            "marker": {
             "colorbar": {
              "outlinewidth": 0,
              "ticks": ""
             }
            },
            "type": "scatterpolargl"
           }
          ],
          "scatterternary": [
           {
            "marker": {
             "colorbar": {
              "outlinewidth": 0,
              "ticks": ""
             }
            },
            "type": "scatterternary"
           }
          ],
          "surface": [
           {
            "colorbar": {
             "outlinewidth": 0,
             "ticks": ""
            },
            "colorscale": [
             [
              0,
              "#0d0887"
             ],
             [
              0.1111111111111111,
              "#46039f"
             ],
             [
              0.2222222222222222,
              "#7201a8"
             ],
             [
              0.3333333333333333,
              "#9c179e"
             ],
             [
              0.4444444444444444,
              "#bd3786"
             ],
             [
              0.5555555555555556,
              "#d8576b"
             ],
             [
              0.6666666666666666,
              "#ed7953"
             ],
             [
              0.7777777777777778,
              "#fb9f3a"
             ],
             [
              0.8888888888888888,
              "#fdca26"
             ],
             [
              1,
              "#f0f921"
             ]
            ],
            "type": "surface"
           }
          ],
          "table": [
           {
            "cells": {
             "fill": {
              "color": "#EBF0F8"
             },
             "line": {
              "color": "white"
             }
            },
            "header": {
             "fill": {
              "color": "#C8D4E3"
             },
             "line": {
              "color": "white"
             }
            },
            "type": "table"
           }
          ]
         },
         "layout": {
          "annotationdefaults": {
           "arrowcolor": "#2a3f5f",
           "arrowhead": 0,
           "arrowwidth": 1
          },
          "autotypenumbers": "strict",
          "coloraxis": {
           "colorbar": {
            "outlinewidth": 0,
            "ticks": ""
           }
          },
          "colorscale": {
           "diverging": [
            [
             0,
             "#8e0152"
            ],
            [
             0.1,
             "#c51b7d"
            ],
            [
             0.2,
             "#de77ae"
            ],
            [
             0.3,
             "#f1b6da"
            ],
            [
             0.4,
             "#fde0ef"
            ],
            [
             0.5,
             "#f7f7f7"
            ],
            [
             0.6,
             "#e6f5d0"
            ],
            [
             0.7,
             "#b8e186"
            ],
            [
             0.8,
             "#7fbc41"
            ],
            [
             0.9,
             "#4d9221"
            ],
            [
             1,
             "#276419"
            ]
           ],
           "sequential": [
            [
             0,
             "#0d0887"
            ],
            [
             0.1111111111111111,
             "#46039f"
            ],
            [
             0.2222222222222222,
             "#7201a8"
            ],
            [
             0.3333333333333333,
             "#9c179e"
            ],
            [
             0.4444444444444444,
             "#bd3786"
            ],
            [
             0.5555555555555556,
             "#d8576b"
            ],
            [
             0.6666666666666666,
             "#ed7953"
            ],
            [
             0.7777777777777778,
             "#fb9f3a"
            ],
            [
             0.8888888888888888,
             "#fdca26"
            ],
            [
             1,
             "#f0f921"
            ]
           ],
           "sequentialminus": [
            [
             0,
             "#0d0887"
            ],
            [
             0.1111111111111111,
             "#46039f"
            ],
            [
             0.2222222222222222,
             "#7201a8"
            ],
            [
             0.3333333333333333,
             "#9c179e"
            ],
            [
             0.4444444444444444,
             "#bd3786"
            ],
            [
             0.5555555555555556,
             "#d8576b"
            ],
            [
             0.6666666666666666,
             "#ed7953"
            ],
            [
             0.7777777777777778,
             "#fb9f3a"
            ],
            [
             0.8888888888888888,
             "#fdca26"
            ],
            [
             1,
             "#f0f921"
            ]
           ]
          },
          "colorway": [
           "#636efa",
           "#EF553B",
           "#00cc96",
           "#ab63fa",
           "#FFA15A",
           "#19d3f3",
           "#FF6692",
           "#B6E880",
           "#FF97FF",
           "#FECB52"
          ],
          "font": {
           "color": "#2a3f5f"
          },
          "geo": {
           "bgcolor": "white",
           "lakecolor": "white",
           "landcolor": "white",
           "showlakes": true,
           "showland": true,
           "subunitcolor": "#C8D4E3"
          },
          "hoverlabel": {
           "align": "left"
          },
          "hovermode": "closest",
          "mapbox": {
           "style": "light"
          },
          "paper_bgcolor": "white",
          "plot_bgcolor": "white",
          "polar": {
           "angularaxis": {
            "gridcolor": "#EBF0F8",
            "linecolor": "#EBF0F8",
            "ticks": ""
           },
           "bgcolor": "white",
           "radialaxis": {
            "gridcolor": "#EBF0F8",
            "linecolor": "#EBF0F8",
            "ticks": ""
           }
          },
          "scene": {
           "xaxis": {
            "backgroundcolor": "white",
            "gridcolor": "#DFE8F3",
            "gridwidth": 2,
            "linecolor": "#EBF0F8",
            "showbackground": true,
            "ticks": "",
            "zerolinecolor": "#EBF0F8"
           },
           "yaxis": {
            "backgroundcolor": "white",
            "gridcolor": "#DFE8F3",
            "gridwidth": 2,
            "linecolor": "#EBF0F8",
            "showbackground": true,
            "ticks": "",
            "zerolinecolor": "#EBF0F8"
           },
           "zaxis": {
            "backgroundcolor": "white",
            "gridcolor": "#DFE8F3",
            "gridwidth": 2,
            "linecolor": "#EBF0F8",
            "showbackground": true,
            "ticks": "",
            "zerolinecolor": "#EBF0F8"
           }
          },
          "shapedefaults": {
           "line": {
            "color": "#2a3f5f"
           }
          },
          "ternary": {
           "aaxis": {
            "gridcolor": "#DFE8F3",
            "linecolor": "#A2B1C6",
            "ticks": ""
           },
           "baxis": {
            "gridcolor": "#DFE8F3",
            "linecolor": "#A2B1C6",
            "ticks": ""
           },
           "bgcolor": "white",
           "caxis": {
            "gridcolor": "#DFE8F3",
            "linecolor": "#A2B1C6",
            "ticks": ""
           }
          },
          "title": {
           "x": 0.05
          },
          "xaxis": {
           "automargin": true,
           "gridcolor": "#EBF0F8",
           "linecolor": "#EBF0F8",
           "ticks": "",
           "title": {
            "standoff": 15
           },
           "zerolinecolor": "#EBF0F8",
           "zerolinewidth": 2
          },
          "yaxis": {
           "automargin": true,
           "gridcolor": "#EBF0F8",
           "linecolor": "#EBF0F8",
           "ticks": "",
           "title": {
            "standoff": 15
           },
           "zerolinecolor": "#EBF0F8",
           "zerolinewidth": 2
          }
         }
        },
        "title": {
         "text": "Cross-Validation (N=5) Mean Logloss with Error Bands"
        },
        "xaxis": {
         "title": {
          "text": "Training Steps"
         }
        },
        "yaxis": {
         "title": {
          "text": "Logloss"
         }
        }
       }
      }
     },
     "metadata": {},
     "output_type": "display_data"
    }
   ],
   "source": [
    "plot_error_scatter(\n",
    "    cv_results,\n",
    "    x=\"iterations\",\n",
    "    y=\"test-Logloss-mean\",\n",
    "    err=\"test-Logloss-std\",\n",
    "    name=\"Mean logloss\",\n",
    "    title=\"Cross-Validation (N=5) Mean Logloss with Error Bands\",\n",
    "    xtitle=\"Training Steps\",\n",
    "    ytitle=\"Logloss\",\n",
    ")"
   ]
  },
  {
   "cell_type": "code",
   "execution_count": 15,
   "id": "e233563e",
   "metadata": {},
   "outputs": [
    {
     "data": {
      "application/vnd.jupyter.widget-view+json": {
       "model_id": "e611abb002af48c8bfbc3fc61b6d6a4c",
       "version_major": 2,
       "version_minor": 0
      },
      "text/plain": [
       "MetricVisualizer(layout=Layout(align_self='stretch', height='500px'))"
      ]
     },
     "metadata": {},
     "output_type": "display_data"
    },
    {
     "name": "stdout",
     "output_type": "stream",
     "text": [
      "0:\tlearn: 0.5852251\ttotal: 1.39ms\tremaining: 356ms\n",
      "50:\tlearn: 0.2154021\ttotal: 60.6ms\tremaining: 246ms\n",
      "100:\tlearn: 0.1417086\ttotal: 118ms\tremaining: 184ms\n",
      "150:\tlearn: 0.1024030\ttotal: 176ms\tremaining: 125ms\n",
      "200:\tlearn: 0.0756838\ttotal: 235ms\tremaining: 66.5ms\n",
      "250:\tlearn: 0.0605605\ttotal: 292ms\tremaining: 8.13ms\n",
      "257:\tlearn: 0.0576874\ttotal: 300ms\tremaining: 0us\n"
     ]
    },
    {
     "data": {
      "application/vnd.plotly.v1+json": {
       "config": {
        "plotlyServerURL": "https://plot.ly"
       },
       "data": [
        {
         "line": {
          "color": "blue"
         },
         "mode": "lines",
         "name": "Mean F1 Score",
         "type": "scatter",
         "x": {
          "bdata": "AAABAAIAAwAEAAUABgAHAAgACQAKAAsADAANAA4ADwAQABEAEgATABQAFQAWABcAGAAZABoAGwAcAB0AHgAfACAAIQAiACMAJAAlACYAJwAoACkAKgArACwALQAuAC8AMAAxADIAMwA0ADUANgA3ADgAOQA6ADsAPAA9AD4APwBAAEEAQgBDAEQARQBGAEcASABJAEoASwBMAE0ATgBPAFAAUQBSAFMAVABVAFYAVwBYAFkAWgBbAFwAXQBeAF8AYABhAGIAYwBkAGUAZgBnAGgAaQBqAGsAbABtAG4AbwBwAHEAcgBzAHQAdQB2AHcAeAB5AHoAewB8AH0AfgB/AIAAgQCCAIMAhACFAIYAhwCIAIkAigCLAIwAjQCOAI8AkACRAJIAkwCUAJUAlgCXAJgAmQCaAJsAnACdAJ4AnwCgAKEAogCjAKQApQCmAKcAqACpAKoAqwCsAK0ArgCvALAAsQCyALMAtAC1ALYAtwC4ALkAugC7ALwAvQC+AL8AwADBAMIAwwDEAMUAxgDHAMgAyQDKAMsAzADNAM4AzwDQANEA0gDTANQA1QDWANcA2ADZANoA2wDcAN0A3gDfAOAA4QDiAOMA5ADlAOYA5wDoAOkA6gDrAOwA7QDuAO8A8ADxAPIA8wD0APUA9gD3APgA+QD6APsA/AD9AP4A/wAAAQEB",
          "dtype": "i2"
         },
         "y": {
          "bdata": "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",
          "dtype": "f8"
         }
        },
        {
         "fill": "toself",
         "fillcolor": "rgba(0, 0, 255, 0.2)",
         "line": {
          "color": "rgba(255, 255, 255, 0)"
         },
         "showlegend": false,
         "type": "scatter",
         "x": {
          "bdata": "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",
          "dtype": "f8"
         },
         "y": {
          "bdata": "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",
          "dtype": "f8"
         }
        }
       ],
       "layout": {
        "template": {
         "data": {
          "bar": [
           {
            "error_x": {
             "color": "#2a3f5f"
            },
            "error_y": {
             "color": "#2a3f5f"
            },
            "marker": {
             "line": {
              "color": "white",
              "width": 0.5
             },
             "pattern": {
              "fillmode": "overlay",
              "size": 10,
              "solidity": 0.2
             }
            },
            "type": "bar"
           }
          ],
          "barpolar": [
           {
            "marker": {
             "line": {
              "color": "white",
              "width": 0.5
             },
             "pattern": {
              "fillmode": "overlay",
              "size": 10,
              "solidity": 0.2
             }
            },
            "type": "barpolar"
           }
          ],
          "carpet": [
           {
            "aaxis": {
             "endlinecolor": "#2a3f5f",
             "gridcolor": "#C8D4E3",
             "linecolor": "#C8D4E3",
             "minorgridcolor": "#C8D4E3",
             "startlinecolor": "#2a3f5f"
            },
            "baxis": {
             "endlinecolor": "#2a3f5f",
             "gridcolor": "#C8D4E3",
             "linecolor": "#C8D4E3",
             "minorgridcolor": "#C8D4E3",
             "startlinecolor": "#2a3f5f"
            },
            "type": "carpet"
           }
          ],
          "choropleth": [
           {
            "colorbar": {
             "outlinewidth": 0,
             "ticks": ""
            },
            "type": "choropleth"
           }
          ],
          "contour": [
           {
            "colorbar": {
             "outlinewidth": 0,
             "ticks": ""
            },
            "colorscale": [
             [
              0,
              "#0d0887"
             ],
             [
              0.1111111111111111,
              "#46039f"
             ],
             [
              0.2222222222222222,
              "#7201a8"
             ],
             [
              0.3333333333333333,
              "#9c179e"
             ],
             [
              0.4444444444444444,
              "#bd3786"
             ],
             [
              0.5555555555555556,
              "#d8576b"
             ],
             [
              0.6666666666666666,
              "#ed7953"
             ],
             [
              0.7777777777777778,
              "#fb9f3a"
             ],
             [
              0.8888888888888888,
              "#fdca26"
             ],
             [
              1,
              "#f0f921"
             ]
            ],
            "type": "contour"
           }
          ],
          "contourcarpet": [
           {
            "colorbar": {
             "outlinewidth": 0,
             "ticks": ""
            },
            "type": "contourcarpet"
           }
          ],
          "heatmap": [
           {
            "colorbar": {
             "outlinewidth": 0,
             "ticks": ""
            },
            "colorscale": [
             [
              0,
              "#0d0887"
             ],
             [
              0.1111111111111111,
              "#46039f"
             ],
             [
              0.2222222222222222,
              "#7201a8"
             ],
             [
              0.3333333333333333,
              "#9c179e"
             ],
             [
              0.4444444444444444,
              "#bd3786"
             ],
             [
              0.5555555555555556,
              "#d8576b"
             ],
             [
              0.6666666666666666,
              "#ed7953"
             ],
             [
              0.7777777777777778,
              "#fb9f3a"
             ],
             [
              0.8888888888888888,
              "#fdca26"
             ],
             [
              1,
              "#f0f921"
             ]
            ],
            "type": "heatmap"
           }
          ],
          "histogram": [
           {
            "marker": {
             "pattern": {
              "fillmode": "overlay",
              "size": 10,
              "solidity": 0.2
             }
            },
            "type": "histogram"
           }
          ],
          "histogram2d": [
           {
            "colorbar": {
             "outlinewidth": 0,
             "ticks": ""
            },
            "colorscale": [
             [
              0,
              "#0d0887"
             ],
             [
              0.1111111111111111,
              "#46039f"
             ],
             [
              0.2222222222222222,
              "#7201a8"
             ],
             [
              0.3333333333333333,
              "#9c179e"
             ],
             [
              0.4444444444444444,
              "#bd3786"
             ],
             [
              0.5555555555555556,
              "#d8576b"
             ],
             [
              0.6666666666666666,
              "#ed7953"
             ],
             [
              0.7777777777777778,
              "#fb9f3a"
             ],
             [
              0.8888888888888888,
              "#fdca26"
             ],
             [
              1,
              "#f0f921"
             ]
            ],
            "type": "histogram2d"
           }
          ],
          "histogram2dcontour": [
           {
            "colorbar": {
             "outlinewidth": 0,
             "ticks": ""
            },
            "colorscale": [
             [
              0,
              "#0d0887"
             ],
             [
              0.1111111111111111,
              "#46039f"
             ],
             [
              0.2222222222222222,
              "#7201a8"
             ],
             [
              0.3333333333333333,
              "#9c179e"
             ],
             [
              0.4444444444444444,
              "#bd3786"
             ],
             [
              0.5555555555555556,
              "#d8576b"
             ],
             [
              0.6666666666666666,
              "#ed7953"
             ],
             [
              0.7777777777777778,
              "#fb9f3a"
             ],
             [
              0.8888888888888888,
              "#fdca26"
             ],
             [
              1,
              "#f0f921"
             ]
            ],
            "type": "histogram2dcontour"
           }
          ],
          "mesh3d": [
           {
            "colorbar": {
             "outlinewidth": 0,
             "ticks": ""
            },
            "type": "mesh3d"
           }
          ],
          "parcoords": [
           {
            "line": {
             "colorbar": {
              "outlinewidth": 0,
              "ticks": ""
             }
            },
            "type": "parcoords"
           }
          ],
          "pie": [
           {
            "automargin": true,
            "type": "pie"
           }
          ],
          "scatter": [
           {
            "fillpattern": {
             "fillmode": "overlay",
             "size": 10,
             "solidity": 0.2
            },
            "type": "scatter"
           }
          ],
          "scatter3d": [
           {
            "line": {
             "colorbar": {
              "outlinewidth": 0,
              "ticks": ""
             }
            },
            "marker": {
             "colorbar": {
              "outlinewidth": 0,
              "ticks": ""
             }
            },
            "type": "scatter3d"
           }
          ],
          "scattercarpet": [
           {
            "marker": {
             "colorbar": {
              "outlinewidth": 0,
              "ticks": ""
             }
            },
            "type": "scattercarpet"
           }
          ],
          "scattergeo": [
           {
            "marker": {
             "colorbar": {
              "outlinewidth": 0,
              "ticks": ""
             }
            },
            "type": "scattergeo"
           }
          ],
          "scattergl": [
           {
            "marker": {
             "colorbar": {
              "outlinewidth": 0,
              "ticks": ""
             }
            },
            "type": "scattergl"
           }
          ],
          "scattermap": [
           {
            "marker": {
             "colorbar": {
              "outlinewidth": 0,
              "ticks": ""
             }
            },
            "type": "scattermap"
           }
          ],
          "scattermapbox": [
           {
            "marker": {
             "colorbar": {
              "outlinewidth": 0,
              "ticks": ""
             }
            },
            "type": "scattermapbox"
           }
          ],
          "scatterpolar": [
           {
            "marker": {
             "colorbar": {
              "outlinewidth": 0,
              "ticks": ""
             }
            },
            "type": "scatterpolar"
           }
          ],
          "scatterpolargl": [
           {
            "marker": {
             "colorbar": {
              "outlinewidth": 0,
              "ticks": ""
             }
            },
            "type": "scatterpolargl"
           }
          ],
          "scatterternary": [
           {
            "marker": {
             "colorbar": {
              "outlinewidth": 0,
              "ticks": ""
             }
            },
            "type": "scatterternary"
           }
          ],
          "surface": [
           {
            "colorbar": {
             "outlinewidth": 0,
             "ticks": ""
            },
            "colorscale": [
             [
              0,
              "#0d0887"
             ],
             [
              0.1111111111111111,
              "#46039f"
             ],
             [
              0.2222222222222222,
              "#7201a8"
             ],
             [
              0.3333333333333333,
              "#9c179e"
             ],
             [
              0.4444444444444444,
              "#bd3786"
             ],
             [
              0.5555555555555556,
              "#d8576b"
             ],
             [
              0.6666666666666666,
              "#ed7953"
             ],
             [
              0.7777777777777778,
              "#fb9f3a"
             ],
             [
              0.8888888888888888,
              "#fdca26"
             ],
             [
              1,
              "#f0f921"
             ]
            ],
            "type": "surface"
           }
          ],
          "table": [
           {
            "cells": {
             "fill": {
              "color": "#EBF0F8"
             },
             "line": {
              "color": "white"
             }
            },
            "header": {
             "fill": {
              "color": "#C8D4E3"
             },
             "line": {
              "color": "white"
             }
            },
            "type": "table"
           }
          ]
         },
         "layout": {
          "annotationdefaults": {
           "arrowcolor": "#2a3f5f",
           "arrowhead": 0,
           "arrowwidth": 1
          },
          "autotypenumbers": "strict",
          "coloraxis": {
           "colorbar": {
            "outlinewidth": 0,
            "ticks": ""
           }
          },
          "colorscale": {
           "diverging": [
            [
             0,
             "#8e0152"
            ],
            [
             0.1,
             "#c51b7d"
            ],
            [
             0.2,
             "#de77ae"
            ],
            [
             0.3,
             "#f1b6da"
            ],
            [
             0.4,
             "#fde0ef"
            ],
            [
             0.5,
             "#f7f7f7"
            ],
            [
             0.6,
             "#e6f5d0"
            ],
            [
             0.7,
             "#b8e186"
            ],
            [
             0.8,
             "#7fbc41"
            ],
            [
             0.9,
             "#4d9221"
            ],
            [
             1,
             "#276419"
            ]
           ],
           "sequential": [
            [
             0,
             "#0d0887"
            ],
            [
             0.1111111111111111,
             "#46039f"
            ],
            [
             0.2222222222222222,
             "#7201a8"
            ],
            [
             0.3333333333333333,
             "#9c179e"
            ],
            [
             0.4444444444444444,
             "#bd3786"
            ],
            [
             0.5555555555555556,
             "#d8576b"
            ],
            [
             0.6666666666666666,
             "#ed7953"
            ],
            [
             0.7777777777777778,
             "#fb9f3a"
            ],
            [
             0.8888888888888888,
             "#fdca26"
            ],
            [
             1,
             "#f0f921"
            ]
           ],
           "sequentialminus": [
            [
             0,
             "#0d0887"
            ],
            [
             0.1111111111111111,
             "#46039f"
            ],
            [
             0.2222222222222222,
             "#7201a8"
            ],
            [
             0.3333333333333333,
             "#9c179e"
            ],
            [
             0.4444444444444444,
             "#bd3786"
            ],
            [
             0.5555555555555556,
             "#d8576b"
            ],
            [
             0.6666666666666666,
             "#ed7953"
            ],
            [
             0.7777777777777778,
             "#fb9f3a"
            ],
            [
             0.8888888888888888,
             "#fdca26"
            ],
            [
             1,
             "#f0f921"
            ]
           ]
          },
          "colorway": [
           "#636efa",
           "#EF553B",
           "#00cc96",
           "#ab63fa",
           "#FFA15A",
           "#19d3f3",
           "#FF6692",
           "#B6E880",
           "#FF97FF",
           "#FECB52"
          ],
          "font": {
           "color": "#2a3f5f"
          },
          "geo": {
           "bgcolor": "white",
           "lakecolor": "white",
           "landcolor": "white",
           "showlakes": true,
           "showland": true,
           "subunitcolor": "#C8D4E3"
          },
          "hoverlabel": {
           "align": "left"
          },
          "hovermode": "closest",
          "mapbox": {
           "style": "light"
          },
          "paper_bgcolor": "white",
          "plot_bgcolor": "white",
          "polar": {
           "angularaxis": {
            "gridcolor": "#EBF0F8",
            "linecolor": "#EBF0F8",
            "ticks": ""
           },
           "bgcolor": "white",
           "radialaxis": {
            "gridcolor": "#EBF0F8",
            "linecolor": "#EBF0F8",
            "ticks": ""
           }
          },
          "scene": {
           "xaxis": {
            "backgroundcolor": "white",
            "gridcolor": "#DFE8F3",
            "gridwidth": 2,
            "linecolor": "#EBF0F8",
            "showbackground": true,
            "ticks": "",
            "zerolinecolor": "#EBF0F8"
           },
           "yaxis": {
            "backgroundcolor": "white",
            "gridcolor": "#DFE8F3",
            "gridwidth": 2,
            "linecolor": "#EBF0F8",
            "showbackground": true,
            "ticks": "",
            "zerolinecolor": "#EBF0F8"
           },
           "zaxis": {
            "backgroundcolor": "white",
            "gridcolor": "#DFE8F3",
            "gridwidth": 2,
            "linecolor": "#EBF0F8",
            "showbackground": true,
            "ticks": "",
            "zerolinecolor": "#EBF0F8"
           }
          },
          "shapedefaults": {
           "line": {
            "color": "#2a3f5f"
           }
          },
          "ternary": {
           "aaxis": {
            "gridcolor": "#DFE8F3",
            "linecolor": "#A2B1C6",
            "ticks": ""
           },
           "baxis": {
            "gridcolor": "#DFE8F3",
            "linecolor": "#A2B1C6",
            "ticks": ""
           },
           "bgcolor": "white",
           "caxis": {
            "gridcolor": "#DFE8F3",
            "linecolor": "#A2B1C6",
            "ticks": ""
           }
          },
          "title": {
           "x": 0.05
          },
          "xaxis": {
           "automargin": true,
           "gridcolor": "#EBF0F8",
           "linecolor": "#EBF0F8",
           "ticks": "",
           "title": {
            "standoff": 15
           },
           "zerolinecolor": "#EBF0F8",
           "zerolinewidth": 2
          },
          "yaxis": {
           "automargin": true,
           "gridcolor": "#EBF0F8",
           "linecolor": "#EBF0F8",
           "ticks": "",
           "title": {
            "standoff": 15
           },
           "zerolinecolor": "#EBF0F8",
           "zerolinewidth": 2
          }
         }
        },
        "title": {
         "text": "Cross-Validation (N=5) Mean F1 score with Error Bands"
        },
        "xaxis": {
         "title": {
          "text": "Training Steps"
         }
        },
        "yaxis": {
         "range": [
          0.5,
          1
         ],
         "title": {
          "text": "Performance Score"
         }
        }
       }
      }
     },
     "metadata": {},
     "output_type": "display_data"
    },
    {
     "data": {
      "application/vnd.plotly.v1+json": {
       "config": {
        "plotlyServerURL": "https://plot.ly"
       },
       "data": [
        {
         "line": {
          "color": "blue"
         },
         "mode": "lines",
         "name": "Mean logloss",
         "type": "scatter",
         "x": {
          "bdata": "AAABAAIAAwAEAAUABgAHAAgACQAKAAsADAANAA4ADwAQABEAEgATABQAFQAWABcAGAAZABoAGwAcAB0AHgAfACAAIQAiACMAJAAlACYAJwAoACkAKgArACwALQAuAC8AMAAxADIAMwA0ADUANgA3ADgAOQA6ADsAPAA9AD4APwBAAEEAQgBDAEQARQBGAEcASABJAEoASwBMAE0ATgBPAFAAUQBSAFMAVABVAFYAVwBYAFkAWgBbAFwAXQBeAF8AYABhAGIAYwBkAGUAZgBnAGgAaQBqAGsAbABtAG4AbwBwAHEAcgBzAHQAdQB2AHcAeAB5AHoAewB8AH0AfgB/AIAAgQCCAIMAhACFAIYAhwCIAIkAigCLAIwAjQCOAI8AkACRAJIAkwCUAJUAlgCXAJgAmQCaAJsAnACdAJ4AnwCgAKEAogCjAKQApQCmAKcAqACpAKoAqwCsAK0ArgCvALAAsQCyALMAtAC1ALYAtwC4ALkAugC7ALwAvQC+AL8AwADBAMIAwwDEAMUAxgDHAMgAyQDKAMsAzADNAM4AzwDQANEA0gDTANQA1QDWANcA2ADZANoA2wDcAN0A3gDfAOAA4QDiAOMA5ADlAOYA5wDoAOkA6gDrAOwA7QDuAO8A8ADxAPIA8wD0APUA9gD3APgA+QD6APsA/AD9AP4A/wAAAQEB",
          "dtype": "i2"
         },
         "y": {
          "bdata": "rpgTz8hm4z9Wq1yC6N7hP/Hp/An5G+E/fhmoGrCK4D8ITwb/aizgP5+oT0Fm2t8/cndqy7E83z9k/tjvDB/fP+574YPn594/I2m/Pp3p3j/hZ/O+4MTeP3j2dFmm1t4/o45Pe7fp3j8lFyX4M9TeP7vOZedrxd4/klp6joy53j+3QwtZ/qjeP6FVmmJDm94/u1KCceea3j+stx34NqjePyrYmzGTt94/gy1FuyS53j9AAD2li7veP1bLFPo1xt4/G3/Q7w/E3j/2q86DLeveP8LHkmv4394/gh5UZlvj3j8qkgZjAtveP0fgVm15xN4/1W4fAF7T3j/XVedQpdfePwEkCMso894/xhjxY7AH3z/EOqWEUxnfP7oSQfF4Jd8/OAGOKD4y3z/u8uA91EbfP3AC6MfVMt8/gwjyMHou3z/OdDr0ZDHfP4QJ5K3zOt8/dvEl+vdD3z/oqDqEbj3fPwM2KFRBQd8/Lc6N+BhA3z9D7jlaRUvfP5C/50xdYN8/BQOIFf893z9V25DHij/fP6297rNbS98/Npmi/5NM3z9oF0dffknfP2dnCwlKTt8/SgDSRxph3z/l0RPMsF7fP43GxDrdWd8/7gymnwNY3z+dDXV2Q2jfP3PmYeNdbt8/W5ANNZOF3z+SrAZ+VH7fPyNVkmp7f98/etkPkd6J3z9OB/kU7pnfPw/BD0xBnd8/2qwxSiKf3z8sl/INcavfPwYksFtWwN8/rHk1LLiz3z/QOo/1b8bfPx1fdmKi1t8/RmFjIj/g3z8xdU2HqvLfP+L2Lv198d8/oHw3CYsC4D+OIWC66QDgP9KnmPq39t8/omio/a/63z86VeELXgHgP+g92MuqAuA/+RAiM/AA4D+GFUGp0wngPyImX2hnGuA/e69to5Mb4D8ycAHyoibgPy3YUCpELuA/gEek1Y8v4D+rWfymxTDgP10Mu+5BMeA/IjFIYLEx4D8I59lJKTfgPxFzK0dsOOA/pYNWWZNA4D9qKWDc/kvgP5xeyFzeSuA/toS6qTdP4D8WI32nt1HgP9HRTD5fV+A/01wMeQZh4D9d94hdKWXgP35RzIywYeA/WuNZ7Thh4D93LiQYoGrgP4qKvHhzb+A/k8RgY9Fz4D8ikkdjN3TgP472NY48duA/bisdlqt04D+ZOAZ5inHgP12MxhoKdOA/BdX4LdR14D/1Agp6jXngP1+g9ImSgOA/yJBF8/6P4D9E4yoaNpHgP32Ihhxck+A/VqX2SmSZ4D87hzzFxJzgP30O9OW4muA/sNGfcm2n4D+lhNqA+qbgP1NdUNlVquA/Ym8dL26w4D8TN+9f7bbgPzbyrmjItuA/lU7MfKiz4D9r50TjubTgP2oTAP3EteA/GBX6JGC34D9HMXywR7vgP968gfmlvuA/ne0FmzS94D9+a0XF5MHgP2D1i0iKx+A/hM61ir7H4D9KtP1BBdLgP8gf90OKz+A/+F63v0na4D+kiwtQtt3gPxflzYDw3uA/N259YpXf4D/1oKjrpOHgP20qD0Fb5eA/5X15Chfj4D/Fi8Hiw+7gPxILY8Dm8eA/gy6icTLz4D/K9siy9P7gP2LUgaFK/eA/APDDgvwA4T+A/fPVwAjhPzjniTHUBuE/HbvrzKwK4T+8IYESuwjhP9k2uqsEDOE/I4hOO60N4T9fpkhb0grhPwgp34liD+E/uhi7t4AW4T/DCr3IJx7hP249u1d9IeE/lZMPkTUb4T/SIg9MwiLhPxROoEGEIuE/2lTHTAQm4T/WoYwNUCbhPxA9ZN5iKuE/2yPN6nct4T+KbPPcDizhPxgbCUPbLeE/JezOVw0q4T8ue3VGRy7hPz0us37/NuE/2j8Ngl834T+LyWZAEzzhP70URM2HO+E/2sEp2G9A4T8o5Thik0XhPzRbIHjsReE/qY/gmBE+4T/IW2G5Pz3hP9GXgpTUReE/43GvcDZJ4T/2YqZaSk3hPzEg2m44UOE/wugeadRS4T+a9TcfCVfhP6Uf1qQbWOE/gO1PE+lf4T+V9w/eEGDhP132kujCY+E/AJu3mudm4T/AVcHyj2nhPzwcSaRVbOE/0nz2vQVs4T9h8OLAG2zhP+3vGyALbuE/Xa/wJShw4T+MxnzAGHLhP5YoXSNSeuE/oFOYTi5+4T+GlicmO37hP8olAM/PgeE/k4c9A5SH4T9ed/heY43hP06xqap1jeE/DT3Tg8GN4T9RSEuB/43hPyCPS6D1j+E/Rk17C7qT4T+xRiRwRpbhPyT4XabRmOE/5e1Y3rWZ4T/NI2Bvz5zhP/dX0hwHoeE/8tB00vSf4T88bEcd1KXhP4aYX4sRp+E/nSFwscKi4T/oBcz6PqbhPxbzG42Gp+E/DVQaxZOp4T+O5hIyrq/hP7Rzte/bsuE/3o+JC6W14T/xDQaYfbPhP6UihOMtteE/wfgdCk+04T8yUTXXT7jhP05MPIySvOE/mPD8gmbB4T/9jnW2BMHhP7GgD3YjvOE/7mkFEAbC4T/fqtFxbcXhP2bWL2qoxOE/uP55/QnD4T8z2T70WsbhPzCTAf07yOE/GHoNdkTK4T9wgPv1HMnhPxYhHgfPzuE/6caunRHQ4T+HqgssENDhP5F0jWpj1eE/wkBKF1TW4T+7aGdNgNrhP8H38yaG3eE/yUVKHC7e4T949dNZBdvhP/nOBJXa2+E/OHz5mLHe4T8JQOb0Vt7hP0b/1JiS3+E/FimC3Q7e4T+pPHsGQtzhP2o/FyDz2+E/",
          "dtype": "f8"
         }
        },
        {
         "fill": "toself",
         "fillcolor": "rgba(0, 0, 255, 0.2)",
         "line": {
          "color": "rgba(255, 255, 255, 0)"
         },
         "showlegend": false,
         "type": "scatter",
         "x": {
          "bdata": "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",
          "dtype": "f8"
         },
         "y": {
          "bdata": "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",
          "dtype": "f8"
         }
        }
       ],
       "layout": {
        "template": {
         "data": {
          "bar": [
           {
            "error_x": {
             "color": "#2a3f5f"
            },
            "error_y": {
             "color": "#2a3f5f"
            },
            "marker": {
             "line": {
              "color": "white",
              "width": 0.5
             },
             "pattern": {
              "fillmode": "overlay",
              "size": 10,
              "solidity": 0.2
             }
            },
            "type": "bar"
           }
          ],
          "barpolar": [
           {
            "marker": {
             "line": {
              "color": "white",
              "width": 0.5
             },
             "pattern": {
              "fillmode": "overlay",
              "size": 10,
              "solidity": 0.2
             }
            },
            "type": "barpolar"
           }
          ],
          "carpet": [
           {
            "aaxis": {
             "endlinecolor": "#2a3f5f",
             "gridcolor": "#C8D4E3",
             "linecolor": "#C8D4E3",
             "minorgridcolor": "#C8D4E3",
             "startlinecolor": "#2a3f5f"
            },
            "baxis": {
             "endlinecolor": "#2a3f5f",
             "gridcolor": "#C8D4E3",
             "linecolor": "#C8D4E3",
             "minorgridcolor": "#C8D4E3",
             "startlinecolor": "#2a3f5f"
            },
            "type": "carpet"
           }
          ],
          "choropleth": [
           {
            "colorbar": {
             "outlinewidth": 0,
             "ticks": ""
            },
            "type": "choropleth"
           }
          ],
          "contour": [
           {
            "colorbar": {
             "outlinewidth": 0,
             "ticks": ""
            },
            "colorscale": [
             [
              0,
              "#0d0887"
             ],
             [
              0.1111111111111111,
              "#46039f"
             ],
             [
              0.2222222222222222,
              "#7201a8"
             ],
             [
              0.3333333333333333,
              "#9c179e"
             ],
             [
              0.4444444444444444,
              "#bd3786"
             ],
             [
              0.5555555555555556,
              "#d8576b"
             ],
             [
              0.6666666666666666,
              "#ed7953"
             ],
             [
              0.7777777777777778,
              "#fb9f3a"
             ],
             [
              0.8888888888888888,
              "#fdca26"
             ],
             [
              1,
              "#f0f921"
             ]
            ],
            "type": "contour"
           }
          ],
          "contourcarpet": [
           {
            "colorbar": {
             "outlinewidth": 0,
             "ticks": ""
            },
            "type": "contourcarpet"
           }
          ],
          "heatmap": [
           {
            "colorbar": {
             "outlinewidth": 0,
             "ticks": ""
            },
            "colorscale": [
             [
              0,
              "#0d0887"
             ],
             [
              0.1111111111111111,
              "#46039f"
             ],
             [
              0.2222222222222222,
              "#7201a8"
             ],
             [
              0.3333333333333333,
              "#9c179e"
             ],
             [
              0.4444444444444444,
              "#bd3786"
             ],
             [
              0.5555555555555556,
              "#d8576b"
             ],
             [
              0.6666666666666666,
              "#ed7953"
             ],
             [
              0.7777777777777778,
              "#fb9f3a"
             ],
             [
              0.8888888888888888,
              "#fdca26"
             ],
             [
              1,
              "#f0f921"
             ]
            ],
            "type": "heatmap"
           }
          ],
          "histogram": [
           {
            "marker": {
             "pattern": {
              "fillmode": "overlay",
              "size": 10,
              "solidity": 0.2
             }
            },
            "type": "histogram"
           }
          ],
          "histogram2d": [
           {
            "colorbar": {
             "outlinewidth": 0,
             "ticks": ""
            },
            "colorscale": [
             [
              0,
              "#0d0887"
             ],
             [
              0.1111111111111111,
              "#46039f"
             ],
             [
              0.2222222222222222,
              "#7201a8"
             ],
             [
              0.3333333333333333,
              "#9c179e"
             ],
             [
              0.4444444444444444,
              "#bd3786"
             ],
             [
              0.5555555555555556,
              "#d8576b"
             ],
             [
              0.6666666666666666,
              "#ed7953"
             ],
             [
              0.7777777777777778,
              "#fb9f3a"
             ],
             [
              0.8888888888888888,
              "#fdca26"
             ],
             [
              1,
              "#f0f921"
             ]
            ],
            "type": "histogram2d"
           }
          ],
          "histogram2dcontour": [
           {
            "colorbar": {
             "outlinewidth": 0,
             "ticks": ""
            },
            "colorscale": [
             [
              0,
              "#0d0887"
             ],
             [
              0.1111111111111111,
              "#46039f"
             ],
             [
              0.2222222222222222,
              "#7201a8"
             ],
             [
              0.3333333333333333,
              "#9c179e"
             ],
             [
              0.4444444444444444,
              "#bd3786"
             ],
             [
              0.5555555555555556,
              "#d8576b"
             ],
             [
              0.6666666666666666,
              "#ed7953"
             ],
             [
              0.7777777777777778,
              "#fb9f3a"
             ],
             [
              0.8888888888888888,
              "#fdca26"
             ],
             [
              1,
              "#f0f921"
             ]
            ],
            "type": "histogram2dcontour"
           }
          ],
          "mesh3d": [
           {
            "colorbar": {
             "outlinewidth": 0,
             "ticks": ""
            },
            "type": "mesh3d"
           }
          ],
          "parcoords": [
           {
            "line": {
             "colorbar": {
              "outlinewidth": 0,
              "ticks": ""
             }
            },
            "type": "parcoords"
           }
          ],
          "pie": [
           {
            "automargin": true,
            "type": "pie"
           }
          ],
          "scatter": [
           {
            "fillpattern": {
             "fillmode": "overlay",
             "size": 10,
             "solidity": 0.2
            },
            "type": "scatter"
           }
          ],
          "scatter3d": [
           {
            "line": {
             "colorbar": {
              "outlinewidth": 0,
              "ticks": ""
             }
            },
            "marker": {
             "colorbar": {
              "outlinewidth": 0,
              "ticks": ""
             }
            },
            "type": "scatter3d"
           }
          ],
          "scattercarpet": [
           {
            "marker": {
             "colorbar": {
              "outlinewidth": 0,
              "ticks": ""
             }
            },
            "type": "scattercarpet"
           }
          ],
          "scattergeo": [
           {
            "marker": {
             "colorbar": {
              "outlinewidth": 0,
              "ticks": ""
             }
            },
            "type": "scattergeo"
           }
          ],
          "scattergl": [
           {
            "marker": {
             "colorbar": {
              "outlinewidth": 0,
              "ticks": ""
             }
            },
            "type": "scattergl"
           }
          ],
          "scattermap": [
           {
            "marker": {
             "colorbar": {
              "outlinewidth": 0,
              "ticks": ""
             }
            },
            "type": "scattermap"
           }
          ],
          "scattermapbox": [
           {
            "marker": {
             "colorbar": {
              "outlinewidth": 0,
              "ticks": ""
             }
            },
            "type": "scattermapbox"
           }
          ],
          "scatterpolar": [
           {
            "marker": {
             "colorbar": {
              "outlinewidth": 0,
              "ticks": ""
             }
            },
            "type": "scatterpolar"
           }
          ],
          "scatterpolargl": [
           {
            "marker": {
             "colorbar": {
              "outlinewidth": 0,
              "ticks": ""
             }
            },
            "type": "scatterpolargl"
           }
          ],
          "scatterternary": [
           {
            "marker": {
             "colorbar": {
              "outlinewidth": 0,
              "ticks": ""
             }
            },
            "type": "scatterternary"
           }
          ],
          "surface": [
           {
            "colorbar": {
             "outlinewidth": 0,
             "ticks": ""
            },
            "colorscale": [
             [
              0,
              "#0d0887"
             ],
             [
              0.1111111111111111,
              "#46039f"
             ],
             [
              0.2222222222222222,
              "#7201a8"
             ],
             [
              0.3333333333333333,
              "#9c179e"
             ],
             [
              0.4444444444444444,
              "#bd3786"
             ],
             [
              0.5555555555555556,
              "#d8576b"
             ],
             [
              0.6666666666666666,
              "#ed7953"
             ],
             [
              0.7777777777777778,
              "#fb9f3a"
             ],
             [
              0.8888888888888888,
              "#fdca26"
             ],
             [
              1,
              "#f0f921"
             ]
            ],
            "type": "surface"
           }
          ],
          "table": [
           {
            "cells": {
             "fill": {
              "color": "#EBF0F8"
             },
             "line": {
              "color": "white"
             }
            },
            "header": {
             "fill": {
              "color": "#C8D4E3"
             },
             "line": {
              "color": "white"
             }
            },
            "type": "table"
           }
          ]
         },
         "layout": {
          "annotationdefaults": {
           "arrowcolor": "#2a3f5f",
           "arrowhead": 0,
           "arrowwidth": 1
          },
          "autotypenumbers": "strict",
          "coloraxis": {
           "colorbar": {
            "outlinewidth": 0,
            "ticks": ""
           }
          },
          "colorscale": {
           "diverging": [
            [
             0,
             "#8e0152"
            ],
            [
             0.1,
             "#c51b7d"
            ],
            [
             0.2,
             "#de77ae"
            ],
            [
             0.3,
             "#f1b6da"
            ],
            [
             0.4,
             "#fde0ef"
            ],
            [
             0.5,
             "#f7f7f7"
            ],
            [
             0.6,
             "#e6f5d0"
            ],
            [
             0.7,
             "#b8e186"
            ],
            [
             0.8,
             "#7fbc41"
            ],
            [
             0.9,
             "#4d9221"
            ],
            [
             1,
             "#276419"
            ]
           ],
           "sequential": [
            [
             0,
             "#0d0887"
            ],
            [
             0.1111111111111111,
             "#46039f"
            ],
            [
             0.2222222222222222,
             "#7201a8"
            ],
            [
             0.3333333333333333,
             "#9c179e"
            ],
            [
             0.4444444444444444,
             "#bd3786"
            ],
            [
             0.5555555555555556,
             "#d8576b"
            ],
            [
             0.6666666666666666,
             "#ed7953"
            ],
            [
             0.7777777777777778,
             "#fb9f3a"
            ],
            [
             0.8888888888888888,
             "#fdca26"
            ],
            [
             1,
             "#f0f921"
            ]
           ],
           "sequentialminus": [
            [
             0,
             "#0d0887"
            ],
            [
             0.1111111111111111,
             "#46039f"
            ],
            [
             0.2222222222222222,
             "#7201a8"
            ],
            [
             0.3333333333333333,
             "#9c179e"
            ],
            [
             0.4444444444444444,
             "#bd3786"
            ],
            [
             0.5555555555555556,
             "#d8576b"
            ],
            [
             0.6666666666666666,
             "#ed7953"
            ],
            [
             0.7777777777777778,
             "#fb9f3a"
            ],
            [
             0.8888888888888888,
             "#fdca26"
            ],
            [
             1,
             "#f0f921"
            ]
           ]
          },
          "colorway": [
           "#636efa",
           "#EF553B",
           "#00cc96",
           "#ab63fa",
           "#FFA15A",
           "#19d3f3",
           "#FF6692",
           "#B6E880",
           "#FF97FF",
           "#FECB52"
          ],
          "font": {
           "color": "#2a3f5f"
          },
          "geo": {
           "bgcolor": "white",
           "lakecolor": "white",
           "landcolor": "white",
           "showlakes": true,
           "showland": true,
           "subunitcolor": "#C8D4E3"
          },
          "hoverlabel": {
           "align": "left"
          },
          "hovermode": "closest",
          "mapbox": {
           "style": "light"
          },
          "paper_bgcolor": "white",
          "plot_bgcolor": "white",
          "polar": {
           "angularaxis": {
            "gridcolor": "#EBF0F8",
            "linecolor": "#EBF0F8",
            "ticks": ""
           },
           "bgcolor": "white",
           "radialaxis": {
            "gridcolor": "#EBF0F8",
            "linecolor": "#EBF0F8",
            "ticks": ""
           }
          },
          "scene": {
           "xaxis": {
            "backgroundcolor": "white",
            "gridcolor": "#DFE8F3",
            "gridwidth": 2,
            "linecolor": "#EBF0F8",
            "showbackground": true,
            "ticks": "",
            "zerolinecolor": "#EBF0F8"
           },
           "yaxis": {
            "backgroundcolor": "white",
            "gridcolor": "#DFE8F3",
            "gridwidth": 2,
            "linecolor": "#EBF0F8",
            "showbackground": true,
            "ticks": "",
            "zerolinecolor": "#EBF0F8"
           },
           "zaxis": {
            "backgroundcolor": "white",
            "gridcolor": "#DFE8F3",
            "gridwidth": 2,
            "linecolor": "#EBF0F8",
            "showbackground": true,
            "ticks": "",
            "zerolinecolor": "#EBF0F8"
           }
          },
          "shapedefaults": {
           "line": {
            "color": "#2a3f5f"
           }
          },
          "ternary": {
           "aaxis": {
            "gridcolor": "#DFE8F3",
            "linecolor": "#A2B1C6",
            "ticks": ""
           },
           "baxis": {
            "gridcolor": "#DFE8F3",
            "linecolor": "#A2B1C6",
            "ticks": ""
           },
           "bgcolor": "white",
           "caxis": {
            "gridcolor": "#DFE8F3",
            "linecolor": "#A2B1C6",
            "ticks": ""
           }
          },
          "title": {
           "x": 0.05
          },
          "xaxis": {
           "automargin": true,
           "gridcolor": "#EBF0F8",
           "linecolor": "#EBF0F8",
           "ticks": "",
           "title": {
            "standoff": 15
           },
           "zerolinecolor": "#EBF0F8",
           "zerolinewidth": 2
          },
          "yaxis": {
           "automargin": true,
           "gridcolor": "#EBF0F8",
           "linecolor": "#EBF0F8",
           "ticks": "",
           "title": {
            "standoff": 15
           },
           "zerolinecolor": "#EBF0F8",
           "zerolinewidth": 2
          }
         }
        },
        "title": {
         "text": "Cross-Validation (N=5) Mean Logloss with Error Bands"
        },
        "xaxis": {
         "title": {
          "text": "Training Steps"
         }
        },
        "yaxis": {
         "title": {
          "text": "Logloss"
         }
        }
       }
      }
     },
     "metadata": {},
     "output_type": "display_data"
    },
    {
     "name": "stderr",
     "output_type": "stream",
     "text": [
      "c:\\Users\\Wojciech\\AppData\\Local\\Programs\\Python\\Python311\\Lib\\site-packages\\mlflow\\types\\utils.py:394: UserWarning:\n",
      "\n",
      "Hint: Inferred schema contains integer column(s). Integer columns in Python cannot represent missing values. If your input data contains missing values at inference time, it will be encoded as floats and will cause a schema enforcement error. The best way to avoid this problem is to infer the model schema based on a realistic data sample (training dataset) that includes missing values. Alternatively, you can declare integer columns as doubles (float64) whenever these columns may have missing values. See `Handling Integers With Missing Values <https://www.mlflow.org/docs/latest/models.html#handling-integers-with-missing-values>`_ for more details.\n",
      "\n",
      "Successfully registered model 'diabetes-bclass'.\n",
      "2025/05/07 21:36:45 INFO mlflow.store.model_registry.abstract_store: Waiting up to 300 seconds for model version to finish creation. Model name: diabetes-bclass, version 1\n",
      "Created version '1' of model 'diabetes-bclass'.\n",
      "c:\\Users\\Wojciech\\Documents\\WWSI\\ARISA-MLOps-Assignment-KK\\ARISA_DSML\\train.py:178: FutureWarning:\n",
      "\n",
      "``mlflow.tracking.client.MlflowClient.get_latest_versions`` is deprecated since 2.9.0. Model registry stages will be removed in a future major release. To learn more about the deprecation of model registry stages, see our migration guide here: https://mlflow.org/docs/2.12.1/model-registry.html#migrating-from-stages\n",
      "\n"
     ]
    }
   ],
   "source": [
    "from ARISA_DSML.train import train\n",
    "params = joblib.load(best_params_path)\n",
    "experiment_id = get_or_create_experiment(\"diabetes_full_training\")\n",
    "mlflow.set_experiment(experiment_id=experiment_id)\n",
    "cv_results = pd.read_csv(cv_output_path)\n",
    "model_path, model_params_path = train(X_train, y_train, params, cv_results=cv_results)"
   ]
  },
  {
   "cell_type": "code",
   "execution_count": 16,
   "id": "ed9c2df9",
   "metadata": {},
   "outputs": [
    {
     "data": {
      "text/html": [
       "<div>\n",
       "<style scoped>\n",
       "    .dataframe tbody tr th:only-of-type {\n",
       "        vertical-align: middle;\n",
       "    }\n",
       "\n",
       "    .dataframe tbody tr th {\n",
       "        vertical-align: top;\n",
       "    }\n",
       "\n",
       "    .dataframe thead th {\n",
       "        text-align: right;\n",
       "    }\n",
       "</style>\n",
       "<table border=\"1\" class=\"dataframe\">\n",
       "  <thead>\n",
       "    <tr style=\"text-align: right;\">\n",
       "      <th></th>\n",
       "      <th>pregnancies</th>\n",
       "      <th>glucose</th>\n",
       "      <th>bloodpressure</th>\n",
       "      <th>skinthickness</th>\n",
       "      <th>insulin</th>\n",
       "      <th>bmi</th>\n",
       "      <th>diabetespedigreefunction</th>\n",
       "      <th>age</th>\n",
       "      <th>outcome</th>\n",
       "    </tr>\n",
       "  </thead>\n",
       "  <tbody>\n",
       "    <tr>\n",
       "      <th>0</th>\n",
       "      <td>6</td>\n",
       "      <td>98</td>\n",
       "      <td>58</td>\n",
       "      <td>33</td>\n",
       "      <td>190</td>\n",
       "      <td>34.0</td>\n",
       "      <td>0.430</td>\n",
       "      <td>43</td>\n",
       "      <td>0</td>\n",
       "    </tr>\n",
       "    <tr>\n",
       "      <th>1</th>\n",
       "      <td>2</td>\n",
       "      <td>112</td>\n",
       "      <td>75</td>\n",
       "      <td>32</td>\n",
       "      <td>0</td>\n",
       "      <td>35.7</td>\n",
       "      <td>0.148</td>\n",
       "      <td>21</td>\n",
       "      <td>0</td>\n",
       "    </tr>\n",
       "    <tr>\n",
       "      <th>2</th>\n",
       "      <td>2</td>\n",
       "      <td>108</td>\n",
       "      <td>64</td>\n",
       "      <td>0</td>\n",
       "      <td>0</td>\n",
       "      <td>30.8</td>\n",
       "      <td>0.158</td>\n",
       "      <td>21</td>\n",
       "      <td>0</td>\n",
       "    </tr>\n",
       "    <tr>\n",
       "      <th>3</th>\n",
       "      <td>8</td>\n",
       "      <td>107</td>\n",
       "      <td>80</td>\n",
       "      <td>0</td>\n",
       "      <td>0</td>\n",
       "      <td>24.6</td>\n",
       "      <td>0.856</td>\n",
       "      <td>34</td>\n",
       "      <td>0</td>\n",
       "    </tr>\n",
       "    <tr>\n",
       "      <th>4</th>\n",
       "      <td>7</td>\n",
       "      <td>136</td>\n",
       "      <td>90</td>\n",
       "      <td>0</td>\n",
       "      <td>0</td>\n",
       "      <td>29.9</td>\n",
       "      <td>0.210</td>\n",
       "      <td>50</td>\n",
       "      <td>0</td>\n",
       "    </tr>\n",
       "  </tbody>\n",
       "</table>\n",
       "</div>"
      ],
      "text/plain": [
       "   pregnancies  glucose  bloodpressure  skinthickness  insulin   bmi  \\\n",
       "0            6       98             58             33      190  34.0   \n",
       "1            2      112             75             32        0  35.7   \n",
       "2            2      108             64              0        0  30.8   \n",
       "3            8      107             80              0        0  24.6   \n",
       "4            7      136             90              0        0  29.9   \n",
       "\n",
       "   diabetespedigreefunction  age  outcome  \n",
       "0                     0.430   43        0  \n",
       "1                     0.148   21        0  \n",
       "2                     0.158   21        0  \n",
       "3                     0.856   34        0  \n",
       "4                     0.210   50        0  "
      ]
     },
     "execution_count": 16,
     "metadata": {},
     "output_type": "execute_result"
    }
   ],
   "source": [
    "df_test = pd.read_csv(test_path)\n",
    "\n",
    "df_test.head()"
   ]
  },
  {
   "cell_type": "code",
   "execution_count": 17,
   "id": "f3bbd911",
   "metadata": {},
   "outputs": [],
   "source": [
    "y_test = df_test.pop(target)\n",
    "X_test = df_test"
   ]
  },
  {
   "cell_type": "code",
   "execution_count": 20,
   "id": "0d285fcf",
   "metadata": {},
   "outputs": [
    {
     "name": "stderr",
     "output_type": "stream",
     "text": [
      "C:\\Users\\Wojciech\\AppData\\Local\\Temp\\ipykernel_10256\\2097039018.py:6: FutureWarning:\n",
      "\n",
      "``mlflow.tracking.client.MlflowClient.get_latest_versions`` is deprecated since 2.9.0. Model registry stages will be removed in a future major release. To learn more about the deprecation of model registry stages, see our migration guide here: https://mlflow.org/docs/2.12.1/model-registry.html#migrating-from-stages\n",
      "\n",
      "C:\\Users\\Wojciech\\AppData\\Local\\Temp\\ipykernel_10256\\2097039018.py:14: FutureWarning:\n",
      "\n",
      "``mlflow.tracking.client.MlflowClient.get_latest_versions`` is deprecated since 2.9.0. Model registry stages will be removed in a future major release. To learn more about the deprecation of model registry stages, see our migration guide here: https://mlflow.org/docs/2.12.1/model-registry.html#migrating-from-stages\n",
      "\n"
     ]
    },
    {
     "data": {
      "application/vnd.jupyter.widget-view+json": {
       "model_id": "8a92748a759c411292f2353658ce67b2",
       "version_major": 2,
       "version_minor": 0
      },
      "text/plain": [
       "Downloading artifacts:   0%|          | 0/10 [00:00<?, ?it/s]"
      ]
     },
     "metadata": {},
     "output_type": "display_data"
    },
    {
     "name": "stderr",
     "output_type": "stream",
     "text": [
      "2025/05/07 21:38:53 INFO mlflow.store.artifact.artifact_repo: The progress bar can be disabled by setting the environment variable MLFLOW_ENABLE_ARTIFACTS_PROGRESS_BAR to false\n"
     ]
    },
    {
     "data": {
      "image/png": "[encoded data removed]",
      "text/plain": [
       "<Figure size 800x470 with 2 Axes>"
      ]
     },
     "metadata": {},
     "output_type": "display_data"
    }
   ],
   "source": [
    "import json\n",
    "from ARISA_DSML.predict import predict\n",
    "from mlflow.client import MlflowClient\n",
    "\n",
    "client = MlflowClient(mlflow.get_tracking_uri())\n",
    "model_info = client.get_latest_versions(MODEL_NAME)[0]\n",
    "\n",
    "# extract params/metrics data for run `test_run_id` in a single dict\n",
    "run_data_dict = client.get_run(model_info.run_id).data.to_dictionary()\n",
    "run = client.get_run(model_info.run_id)\n",
    "log_model_meta = json.loads(run.data.tags['mlflow.log-model.history'])\n",
    "log_model_meta[0]['signature']\n",
    "\n",
    "latest_model = client.get_latest_versions(MODEL_NAME)\n",
    "\n",
    "_, artifact_folder = os.path.split(latest_model[0].source)\n",
    "model_uri = \"runs:/{}/{}\".format(latest_model[0].run_id, artifact_folder)\n",
    "loaded_model = mlflow.catboost.load_model(model_uri)\n",
    "\n",
    "params = run_data_dict[\"params\"]\n",
    "params[\"feature_columns\"] = [inp[\"name\"] for inp in json.loads(log_model_meta[0]['signature']['inputs'])]\n",
    "preds_path = predict(loaded_model, df_test, params)"
   ]
  },
  {
   "cell_type": "code",
   "execution_count": 21,
   "id": "c42d6c05",
   "metadata": {},
   "outputs": [],
   "source": [
    "from ARISA_DSML.resolve import get_model_by_alias\n",
    "client = MlflowClient(mlflow.get_tracking_uri())\n",
    "champ_mv = get_model_by_alias(client)\n",
    "chall_mv = get_model_by_alias(client, alias=\"challenger\")"
   ]
  },
  {
   "cell_type": "code",
   "execution_count": 22,
   "id": "6346c29f",
   "metadata": {},
   "outputs": [
    {
     "name": "stdout",
     "output_type": "stream",
     "text": [
      "No champion model, predicting using newest model\n",
      "runs:/896215f28d964b84b8695ea7dba46dc8/model\n"
     ]
    },
    {
     "name": "stderr",
     "output_type": "stream",
     "text": [
      "C:\\Users\\Wojciech\\AppData\\Local\\Temp\\ipykernel_10256\\2109093237.py:6: FutureWarning:\n",
      "\n",
      "``mlflow.tracking.client.MlflowClient.get_latest_versions`` is deprecated since 2.9.0. Model registry stages will be removed in a future major release. To learn more about the deprecation of model registry stages, see our migration guide here: https://mlflow.org/docs/2.12.1/model-registry.html#migrating-from-stages\n",
      "\n"
     ]
    },
    {
     "data": {
      "application/vnd.jupyter.widget-view+json": {
       "model_id": "4dbdbc7db07d470883423a133540d9ee",
       "version_major": 2,
       "version_minor": 0
      },
      "text/plain": [
       "Downloading artifacts:   0%|          | 0/10 [00:00<?, ?it/s]"
      ]
     },
     "metadata": {},
     "output_type": "display_data"
    },
    {
     "name": "stderr",
     "output_type": "stream",
     "text": [
      "2025/05/07 21:39:08 INFO mlflow.store.artifact.artifact_repo: The progress bar can be disabled by setting the environment variable MLFLOW_ENABLE_ARTIFACTS_PROGRESS_BAR to false\n"
     ]
    },
    {
     "data": {
      "image/png": "[encoded data removed]",
      "text/plain": [
       "<Figure size 800x470 with 2 Axes>"
      ]
     },
     "metadata": {},
     "output_type": "display_data"
    }
   ],
   "source": [
    "from ARISA_DSML.config import MODEL_NAME\n",
    "client = MlflowClient(mlflow.get_tracking_uri())\n",
    "model_info = get_model_by_alias(client, alias=\"champion\")\n",
    "if model_info is None:\n",
    "    print(\"No champion model, predicting using newest model\")\n",
    "    model_info = client.get_latest_versions(MODEL_NAME)[0]\n",
    "\n",
    "# extract params/metrics data for run `test_run_id` in a single dict \n",
    "run_data_dict = client.get_run(model_info.run_id).data.to_dictionary()\n",
    "run = client.get_run(model_info.run_id)\n",
    "log_model_meta = json.loads(run.data.tags['mlflow.log-model.history'])\n",
    "log_model_meta[0]['signature']\n",
    "\n",
    "\n",
    "_, artifact_folder = os.path.split(model_info.source)\n",
    "model_uri = \"runs:/{}/{}\".format(model_info.run_id, artifact_folder)\n",
    "print(model_uri)\n",
    "loaded_model = mlflow.catboost.load_model(model_uri)\n",
    "\n",
    "params = run_data_dict[\"params\"]\n",
    "params[\"feature_columns\"] = [inp[\"name\"] for inp in json.loads(log_model_meta[0]['signature']['inputs'])]\n",
    "preds_path = predict(loaded_model, df_test, params)"
   ]
  },
  {
   "cell_type": "code",
   "execution_count": null,
   "id": "2a145fae",
   "metadata": {},
   "outputs": [],
   "source": []
  }
 ],
 "metadata": {
  "kernelspec": {
   "display_name": "Python 3",
   "language": "python",
   "name": "python3"
  },
  "language_info": {
   "codemirror_mode": {
    "name": "ipython",
    "version": 3
   },
   "file_extension": ".py",
   "mimetype": "text/x-python",
   "name": "python",
   "nbconvert_exporter": "python",
   "pygments_lexer": "ipython3",
   "version": "3.11.9"
  }
 },
 "nbformat": 4,
 "nbformat_minor": 5
}
