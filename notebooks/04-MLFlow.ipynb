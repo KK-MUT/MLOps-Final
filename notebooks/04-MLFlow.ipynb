{
 "cells": [
  {
   "cell_type": "code",
   "execution_count": 1,
   "id": "1e94e1e6",
   "metadata": {},
   "outputs": [],
   "source": [
    "import os\n",
    "from pathlib import Path\n",
    "container_check = os.getenv(\"iscontainer\")\n",
    "if container_check==\"y\":\n",
    "    config_dir = Path(\"/home/vscode/.config/kaggle\")\n",
    "    config_dir.mkdir(parents=True, exist_ok=True)\n",
    "\n",
    "    with open(config_dir / \"kaggle.json\", \"w\") as dst:\n",
    "        with open(\"../kaggle.json\", \"r\") as src:\n",
    "            dst.write(src.read())"
   ]
  },
  {
   "cell_type": "code",
   "execution_count": 2,
   "id": "a036419c",
   "metadata": {},
   "outputs": [
    {
     "name": "stderr",
     "output_type": "stream",
     "text": [
      "\u001b[32m2025-05-09 20:54:44.329\u001b[0m | \u001b[1mINFO    \u001b[0m | \u001b[36mARISA_DSML.config\u001b[0m:\u001b[36m<module>\u001b[0m:\u001b[36m12\u001b[0m - \u001b[1mPROJ_ROOT path is: C:\\Users\\Kinga\\Documents\\ARISA\\MLOps-Final\u001b[0m\n"
     ]
    }
   ],
   "source": [
    "import os\n",
    "import sys\n",
    "\n",
    "sys.path.append(os.path.abspath(\"..\"))\n",
    "\n",
    "from ARISA_DSML.config import RAW_DATA_DIR, CSV_NAME, MODEL_NAME, target\n",
    "from ARISA_DSML.preproc import get_raw_data"
   ]
  },
  {
   "cell_type": "code",
   "execution_count": 3,
   "id": "5a872e8d",
   "metadata": {},
   "outputs": [
    {
     "data": {
      "text/plain": [
       "'b795afdd6d80e445188d1ece6d2bc0ef96338cd6'"
      ]
     },
     "execution_count": 3,
     "metadata": {},
     "output_type": "execute_result"
    }
   ],
   "source": [
    "from ARISA_DSML.helpers import get_active_branch_name, get_git_commit_hash\n",
    "\n",
    "get_active_branch_name(\"..\")  # need \"..\" because we are not in root\n",
    "get_git_commit_hash()"
   ]
  },
  {
   "cell_type": "code",
   "execution_count": 4,
   "id": "31731c27",
   "metadata": {},
   "outputs": [
    {
     "name": "stderr",
     "output_type": "stream",
     "text": [
      "\u001b[32m2025-05-09 20:54:54.609\u001b[0m | \u001b[1mINFO    \u001b[0m | \u001b[36mARISA_DSML.preproc\u001b[0m:\u001b[36mget_raw_data\u001b[0m:\u001b[36m21\u001b[0m - \u001b[1mDownloading dataset shahnawaj9/diabetes-database\u001b[0m\n"
     ]
    },
    {
     "name": "stdout",
     "output_type": "stream",
     "text": [
      "Dataset URL: https://www.kaggle.com/datasets/shahnawaj9/diabetes-database\n"
     ]
    },
    {
     "name": "stderr",
     "output_type": "stream",
     "text": [
      "\u001b[32m2025-05-09 20:54:55.343\u001b[0m | \u001b[1mINFO    \u001b[0m | \u001b[36mARISA_DSML.preproc\u001b[0m:\u001b[36mget_raw_data\u001b[0m:\u001b[36m24\u001b[0m - \u001b[1mDownload complete.\u001b[0m\n"
     ]
    },
    {
     "name": "stdout",
     "output_type": "stream",
     "text": [
      " Volume in drive C has no label.\n",
      " Volume Serial Number is A4CB-2127\n",
      "\n",
      " Directory of C:\\Users\\Kinga\\Documents\\ARISA\\MLOps-Final\\data\\raw\n",
      "\n",
      "09.05.2025  20:54    <DIR>          .\n",
      "09.05.2025  20:54    <DIR>          ..\n",
      "08.05.2025  21:26                 0 .gitkeep\n",
      "09.05.2025  20:54            23�873 diabetes.csv\n",
      "09.05.2025  20:54            23�290 diabetes_Dataset_cleaned.csv\n",
      "               3 File(s)         47�163 bytes\n",
      "               2 Dir(s)  176�790�491�136 bytes free\n"
     ]
    }
   ],
   "source": [
    "get_raw_data()\n",
    "!dir \"{RAW_DATA_DIR}\""
   ]
  },
  {
   "cell_type": "code",
   "execution_count": 5,
   "id": "aec1cb7e",
   "metadata": {},
   "outputs": [
    {
     "name": "stderr",
     "output_type": "stream",
     "text": [
      "\u001b[32m2025-05-09 20:54:55.429\u001b[0m | \u001b[1mINFO    \u001b[0m | \u001b[36mARISA_DSML.preproc\u001b[0m:\u001b[36mpreprocess_df\u001b[0m:\u001b[36m59\u001b[0m - \u001b[1mTrain saved as train.csv, Test saved as test.csv\u001b[0m\n"
     ]
    }
   ],
   "source": [
    "from ARISA_DSML.preproc import preprocess_df\n",
    "\n",
    "train_path, test_path = preprocess_df(RAW_DATA_DIR / CSV_NAME)"
   ]
  },
  {
   "cell_type": "code",
   "execution_count": 6,
   "id": "a08fdff8",
   "metadata": {},
   "outputs": [
    {
     "name": "stdout",
     "output_type": "stream",
     "text": [
      "<class 'pandas.core.frame.DataFrame'>\n",
      "RangeIndex: 614 entries, 0 to 613\n",
      "Data columns (total 9 columns):\n",
      " #   Column                    Non-Null Count  Dtype  \n",
      "---  ------                    --------------  -----  \n",
      " 0   pregnancies               614 non-null    int64  \n",
      " 1   glucose                   614 non-null    int64  \n",
      " 2   bloodpressure             614 non-null    int64  \n",
      " 3   skinthickness             614 non-null    int64  \n",
      " 4   insulin                   614 non-null    int64  \n",
      " 5   bmi                       614 non-null    float64\n",
      " 6   diabetespedigreefunction  614 non-null    float64\n",
      " 7   age                       614 non-null    int64  \n",
      " 8   outcome                   614 non-null    int64  \n",
      "dtypes: float64(2), int64(7)\n",
      "memory usage: 43.3 KB\n"
     ]
    }
   ],
   "source": [
    "import pandas as pd\n",
    "df_train = pd.read_csv(train_path)\n",
    "df_train.info()"
   ]
  },
  {
   "cell_type": "code",
   "execution_count": 7,
   "id": "5139ca25",
   "metadata": {},
   "outputs": [],
   "source": [
    "y_train = df_train.pop(target)\n",
    "X_train = df_train"
   ]
  },
  {
   "cell_type": "code",
   "execution_count": 8,
   "id": "13d28bec",
   "metadata": {},
   "outputs": [
    {
     "name": "stderr",
     "output_type": "stream",
     "text": [
      "C:\\Users\\Kinga\\AppData\\Roaming\\Python\\Python311\\site-packages\\mlflow\\protos\\service_pb2.py:11: UserWarning: google.protobuf.service module is deprecated. RPC implementations should provide code generator plugins which generate code specific to the RPC implementation. service.py will be removed in Jan 2025\n",
      "  from google.protobuf import service as _service\n",
      "\u001b[32m2025-05-09 20:54:59.293\u001b[0m | \u001b[1mINFO    \u001b[0m | \u001b[36mARISA_DSML.train\u001b[0m:\u001b[36mrun_hyperopt\u001b[0m:\u001b[36m71\u001b[0m - \u001b[1mBest Parameters: {'depth': 4, 'learning_rate': 0.0517580228923669, 'iterations': 184, 'l2_leaf_reg': 0.07973165549227099, 'bagging_temperature': 0.15292750595871435, 'random_strength': 0.0002482703621761438}\u001b[0m\n"
     ]
    }
   ],
   "source": [
    "import mlflow\n",
    "from ARISA_DSML.train import run_hyperopt, get_or_create_experiment\n",
    "\n",
    "mlflow.set_tracking_uri(f\"http://127.0.0.1:5000\")\n",
    "\n",
    "experiment_id = get_or_create_experiment(\"diabetes_hyperparam_tuning\")\n",
    "mlflow.set_experiment(experiment_id=experiment_id)\n",
    "best_params_path = run_hyperopt(X_train, y_train)"
   ]
  },
  {
   "cell_type": "code",
   "execution_count": 9,
   "id": "1fcdaef1",
   "metadata": {},
   "outputs": [
    {
     "data": {
      "application/vnd.jupyter.widget-view+json": {
       "model_id": "2670e9593f6c4de6ac91ad98690230c1",
       "version_major": 2,
       "version_minor": 0
      },
      "text/plain": [
       "MetricVisualizer(layout=Layout(align_self='stretch', height='500px'))"
      ]
     },
     "metadata": {},
     "output_type": "display_data"
    },
    {
     "name": "stdout",
     "output_type": "stream",
     "text": [
      "Training on fold [0/5]\n",
      "0:\tlearn: 0.6204620\ttest: 0.7073171\tbest: 0.7073171 (0)\ttotal: 140ms\tremaining: 25.7s\n",
      "1:\tlearn: 0.6410256\ttest: 0.7160494\tbest: 0.7160494 (1)\ttotal: 142ms\tremaining: 12.9s\n",
      "2:\tlearn: 0.6308725\ttest: 0.6842105\tbest: 0.7160494 (1)\ttotal: 144ms\tremaining: 8.66s\n",
      "3:\tlearn: 0.6462585\ttest: 0.6666667\tbest: 0.7160494 (1)\ttotal: 145ms\tremaining: 6.53s\n",
      "4:\tlearn: 0.6644951\ttest: 0.7012987\tbest: 0.7160494 (1)\ttotal: 147ms\tremaining: 5.26s\n",
      "5:\tlearn: 0.6644295\ttest: 0.6666667\tbest: 0.7160494 (1)\ttotal: 149ms\tremaining: 4.41s\n",
      "6:\tlearn: 0.6576271\ttest: 0.6666667\tbest: 0.7160494 (1)\ttotal: 150ms\tremaining: 3.8s\n",
      "7:\tlearn: 0.6644068\ttest: 0.6575342\tbest: 0.7160494 (1)\ttotal: 152ms\tremaining: 3.34s\n",
      "8:\tlearn: 0.6712329\ttest: 0.6575342\tbest: 0.7160494 (1)\ttotal: 153ms\tremaining: 2.98s\n",
      "9:\tlearn: 0.6755853\ttest: 0.6756757\tbest: 0.7160494 (1)\ttotal: 155ms\tremaining: 2.7s\n",
      "10:\tlearn: 0.6824324\ttest: 0.6575342\tbest: 0.7160494 (1)\ttotal: 157ms\tremaining: 2.46s\n",
      "11:\tlearn: 0.6912752\ttest: 0.6575342\tbest: 0.7160494 (1)\ttotal: 158ms\tremaining: 2.27s\n",
      "12:\tlearn: 0.6956522\ttest: 0.6666667\tbest: 0.7160494 (1)\ttotal: 160ms\tremaining: 2.11s\n",
      "13:\tlearn: 0.7006803\ttest: 0.6760563\tbest: 0.7160494 (1)\ttotal: 162ms\tremaining: 1.97s\n",
      "14:\tlearn: 0.7003367\ttest: 0.7027027\tbest: 0.7160494 (1)\ttotal: 164ms\tremaining: 1.84s\n",
      "15:\tlearn: 0.6849315\ttest: 0.7297297\tbest: 0.7297297 (15)\ttotal: 165ms\tremaining: 1.74s\n",
      "16:\tlearn: 0.6849315\ttest: 0.6666667\tbest: 0.7297297 (15)\ttotal: 167ms\tremaining: 1.64s\n",
      "17:\tlearn: 0.6825939\ttest: 0.6944444\tbest: 0.7297297 (15)\ttotal: 169ms\tremaining: 1.56s\n",
      "18:\tlearn: 0.6891892\ttest: 0.6756757\tbest: 0.7297297 (15)\ttotal: 170ms\tremaining: 1.48s\n",
      "19:\tlearn: 0.6965517\ttest: 0.6197183\tbest: 0.7297297 (15)\ttotal: 172ms\tremaining: 1.41s\n",
      "20:\tlearn: 0.6986301\ttest: 0.6285714\tbest: 0.7297297 (15)\ttotal: 174ms\tremaining: 1.35s\n",
      "21:\tlearn: 0.6986301\ttest: 0.6285714\tbest: 0.7297297 (15)\ttotal: 176ms\tremaining: 1.29s\n",
      "22:\tlearn: 0.7054795\ttest: 0.6478873\tbest: 0.7297297 (15)\ttotal: 178ms\tremaining: 1.25s\n",
      "23:\tlearn: 0.7034483\ttest: 0.6285714\tbest: 0.7297297 (15)\ttotal: 180ms\tremaining: 1.2s\n",
      "24:\tlearn: 0.7006803\ttest: 0.6478873\tbest: 0.7297297 (15)\ttotal: 181ms\tremaining: 1.15s\n",
      "25:\tlearn: 0.7098976\ttest: 0.6478873\tbest: 0.7297297 (15)\ttotal: 183ms\tremaining: 1.11s\n",
      "26:\tlearn: 0.7162162\ttest: 0.6575342\tbest: 0.7297297 (15)\ttotal: 185ms\tremaining: 1.07s\n",
      "27:\tlearn: 0.7030717\ttest: 0.6849315\tbest: 0.7297297 (15)\ttotal: 187ms\tremaining: 1.04s\n",
      "28:\tlearn: 0.7098976\ttest: 0.6760563\tbest: 0.7297297 (15)\ttotal: 188ms\tremaining: 1.01s\n",
      "29:\tlearn: 0.7050847\ttest: 0.6944444\tbest: 0.7297297 (15)\ttotal: 191ms\tremaining: 980ms\n",
      "30:\tlearn: 0.7210884\ttest: 0.7123288\tbest: 0.7297297 (15)\ttotal: 194ms\tremaining: 956ms\n",
      "31:\tlearn: 0.7210884\ttest: 0.7027027\tbest: 0.7297297 (15)\ttotal: 197ms\tremaining: 935ms\n",
      "32:\tlearn: 0.7167235\ttest: 0.6933333\tbest: 0.7297297 (15)\ttotal: 201ms\tremaining: 921ms\n",
      "33:\tlearn: 0.7235495\ttest: 0.6933333\tbest: 0.7297297 (15)\ttotal: 204ms\tremaining: 898ms\n",
      "34:\tlearn: 0.7285223\ttest: 0.7027027\tbest: 0.7297297 (15)\ttotal: 207ms\tremaining: 880ms\n",
      "35:\tlearn: 0.7440273\ttest: 0.7027027\tbest: 0.7297297 (15)\ttotal: 208ms\tremaining: 857ms\n",
      "36:\tlearn: 0.7576792\ttest: 0.6849315\tbest: 0.7297297 (15)\ttotal: 211ms\tremaining: 838ms\n",
      "37:\tlearn: 0.7671233\ttest: 0.7200000\tbest: 0.7297297 (15)\ttotal: 213ms\tremaining: 819ms\n",
      "38:\tlearn: 0.7576792\ttest: 0.7200000\tbest: 0.7297297 (15)\ttotal: 224ms\tremaining: 832ms\n",
      "39:\tlearn: 0.7687075\ttest: 0.7368421\tbest: 0.7368421 (39)\ttotal: 230ms\tremaining: 826ms\n",
      "40:\tlearn: 0.7619048\ttest: 0.7631579\tbest: 0.7631579 (40)\ttotal: 233ms\tremaining: 812ms\n",
      "41:\tlearn: 0.7661017\ttest: 0.7466667\tbest: 0.7631579 (40)\ttotal: 234ms\tremaining: 793ms\n",
      "42:\tlearn: 0.7687075\ttest: 0.7631579\tbest: 0.7631579 (40)\ttotal: 238ms\tremaining: 780ms\n",
      "43:\tlearn: 0.7713311\ttest: 0.7368421\tbest: 0.7631579 (40)\ttotal: 241ms\tremaining: 766ms\n",
      "44:\tlearn: 0.7755102\ttest: 0.7368421\tbest: 0.7631579 (40)\ttotal: 242ms\tremaining: 749ms\n",
      "45:\tlearn: 0.7770270\ttest: 0.7200000\tbest: 0.7631579 (40)\ttotal: 245ms\tremaining: 734ms\n",
      "46:\tlearn: 0.7755102\ttest: 0.7272727\tbest: 0.7631579 (40)\ttotal: 246ms\tremaining: 718ms\n",
      "47:\tlearn: 0.7878788\ttest: 0.7368421\tbest: 0.7631579 (40)\ttotal: 249ms\tremaining: 705ms\n",
      "48:\tlearn: 0.7986577\ttest: 0.7200000\tbest: 0.7631579 (40)\ttotal: 251ms\tremaining: 692ms\n",
      "49:\tlearn: 0.7946128\ttest: 0.7200000\tbest: 0.7631579 (40)\ttotal: 255ms\tremaining: 683ms\n",
      "50:\tlearn: 0.7986577\ttest: 0.7368421\tbest: 0.7631579 (40)\ttotal: 258ms\tremaining: 673ms\n",
      "51:\tlearn: 0.8053691\ttest: 0.7368421\tbest: 0.7631579 (40)\ttotal: 260ms\tremaining: 659ms\n",
      "52:\tlearn: 0.8093645\ttest: 0.7368421\tbest: 0.7631579 (40)\ttotal: 262ms\tremaining: 647ms\n",
      "53:\tlearn: 0.8053691\ttest: 0.7368421\tbest: 0.7631579 (40)\ttotal: 264ms\tremaining: 635ms\n",
      "54:\tlearn: 0.8053691\ttest: 0.7368421\tbest: 0.7631579 (40)\ttotal: 266ms\tremaining: 624ms\n",
      "55:\tlearn: 0.8066667\ttest: 0.7272727\tbest: 0.7631579 (40)\ttotal: 269ms\tremaining: 614ms\n",
      "56:\tlearn: 0.8066667\ttest: 0.7435897\tbest: 0.7631579 (40)\ttotal: 271ms\tremaining: 605ms\n",
      "57:\tlearn: 0.8106312\ttest: 0.7368421\tbest: 0.7631579 (40)\ttotal: 274ms\tremaining: 596ms\n",
      "58:\tlearn: 0.8184818\ttest: 0.7532468\tbest: 0.7631579 (40)\ttotal: 277ms\tremaining: 587ms\n",
      "59:\tlearn: 0.8184818\ttest: 0.7532468\tbest: 0.7631579 (40)\ttotal: 279ms\tremaining: 577ms\n",
      "60:\tlearn: 0.8133333\ttest: 0.7368421\tbest: 0.7631579 (40)\ttotal: 283ms\tremaining: 570ms\n",
      "61:\tlearn: 0.8211921\ttest: 0.7368421\tbest: 0.7631579 (40)\ttotal: 285ms\tremaining: 560ms\n",
      "62:\tlearn: 0.8289474\ttest: 0.7368421\tbest: 0.7631579 (40)\ttotal: 286ms\tremaining: 550ms\n",
      "63:\tlearn: 0.8431373\ttest: 0.7532468\tbest: 0.7631579 (40)\ttotal: 289ms\tremaining: 541ms\n",
      "64:\tlearn: 0.8469055\ttest: 0.7532468\tbest: 0.7631579 (40)\ttotal: 290ms\tremaining: 531ms\n",
      "65:\tlearn: 0.8506494\ttest: 0.7532468\tbest: 0.7631579 (40)\ttotal: 292ms\tremaining: 522ms\n",
      "66:\tlearn: 0.8506494\ttest: 0.7532468\tbest: 0.7631579 (40)\ttotal: 295ms\tremaining: 515ms\n",
      "67:\tlearn: 0.8534202\ttest: 0.7532468\tbest: 0.7631579 (40)\ttotal: 297ms\tremaining: 506ms\n",
      "68:\tlearn: 0.8608414\ttest: 0.7532468\tbest: 0.7631579 (40)\ttotal: 299ms\tremaining: 498ms\n",
      "69:\tlearn: 0.8645161\ttest: 0.7532468\tbest: 0.7631579 (40)\ttotal: 302ms\tremaining: 491ms\n",
      "70:\tlearn: 0.8645161\ttest: 0.7532468\tbest: 0.7631579 (40)\ttotal: 304ms\tremaining: 484ms\n",
      "71:\tlearn: 0.8681672\ttest: 0.7532468\tbest: 0.7631579 (40)\ttotal: 307ms\tremaining: 477ms\n",
      "72:\tlearn: 0.8681672\ttest: 0.7532468\tbest: 0.7631579 (40)\ttotal: 310ms\tremaining: 471ms\n",
      "73:\tlearn: 0.8681672\ttest: 0.7368421\tbest: 0.7631579 (40)\ttotal: 313ms\tremaining: 465ms\n",
      "74:\tlearn: 0.8717949\ttest: 0.7368421\tbest: 0.7631579 (40)\ttotal: 314ms\tremaining: 457ms\n",
      "75:\tlearn: 0.8717949\ttest: 0.7368421\tbest: 0.7631579 (40)\ttotal: 316ms\tremaining: 449ms\n",
      "76:\tlearn: 0.8717949\ttest: 0.7272727\tbest: 0.7631579 (40)\ttotal: 318ms\tremaining: 442ms\n",
      "77:\tlearn: 0.8745981\ttest: 0.7272727\tbest: 0.7631579 (40)\ttotal: 321ms\tremaining: 436ms\n",
      "78:\tlearn: 0.8745981\ttest: 0.7272727\tbest: 0.7631579 (40)\ttotal: 323ms\tremaining: 430ms\n",
      "79:\tlearn: 0.8745981\ttest: 0.7272727\tbest: 0.7631579 (40)\ttotal: 325ms\tremaining: 423ms\n",
      "80:\tlearn: 0.8745981\ttest: 0.7272727\tbest: 0.7631579 (40)\ttotal: 327ms\tremaining: 416ms\n",
      "81:\tlearn: 0.8745981\ttest: 0.7272727\tbest: 0.7631579 (40)\ttotal: 329ms\tremaining: 409ms\n",
      "82:\tlearn: 0.8717949\ttest: 0.7272727\tbest: 0.7631579 (40)\ttotal: 332ms\tremaining: 404ms\n",
      "83:\tlearn: 0.8753994\ttest: 0.7435897\tbest: 0.7631579 (40)\ttotal: 334ms\tremaining: 397ms\n",
      "84:\tlearn: 0.8717949\ttest: 0.7435897\tbest: 0.7631579 (40)\ttotal: 336ms\tremaining: 392ms\n",
      "85:\tlearn: 0.8717949\ttest: 0.7435897\tbest: 0.7631579 (40)\ttotal: 339ms\tremaining: 387ms\n",
      "86:\tlearn: 0.8717949\ttest: 0.7435897\tbest: 0.7631579 (40)\ttotal: 341ms\tremaining: 381ms\n",
      "87:\tlearn: 0.8753994\ttest: 0.7435897\tbest: 0.7631579 (40)\ttotal: 343ms\tremaining: 374ms\n",
      "88:\tlearn: 0.8753994\ttest: 0.7272727\tbest: 0.7631579 (40)\ttotal: 345ms\tremaining: 368ms\n",
      "89:\tlearn: 0.8753994\ttest: 0.7435897\tbest: 0.7631579 (40)\ttotal: 346ms\tremaining: 362ms\n",
      "90:\tlearn: 0.8753994\ttest: 0.7435897\tbest: 0.7631579 (40)\ttotal: 350ms\tremaining: 357ms\n",
      "91:\tlearn: 0.8753994\ttest: 0.7435897\tbest: 0.7631579 (40)\ttotal: 351ms\tremaining: 351ms\n",
      "92:\tlearn: 0.8753994\ttest: 0.7435897\tbest: 0.7631579 (40)\ttotal: 353ms\tremaining: 345ms\n",
      "93:\tlearn: 0.8753994\ttest: 0.7435897\tbest: 0.7631579 (40)\ttotal: 355ms\tremaining: 339ms\n",
      "94:\tlearn: 0.8817891\ttest: 0.7594937\tbest: 0.7631579 (40)\ttotal: 356ms\tremaining: 334ms\n",
      "95:\tlearn: 0.8789809\ttest: 0.7692308\tbest: 0.7692308 (95)\ttotal: 358ms\tremaining: 328ms\n",
      "96:\tlearn: 0.8817891\ttest: 0.7692308\tbest: 0.7692308 (95)\ttotal: 360ms\tremaining: 322ms\n",
      "97:\tlearn: 0.8825397\ttest: 0.7532468\tbest: 0.7692308 (95)\ttotal: 361ms\tremaining: 317ms\n",
      "98:\tlearn: 0.8853503\ttest: 0.7532468\tbest: 0.7692308 (95)\ttotal: 363ms\tremaining: 311ms\n",
      "99:\tlearn: 0.8853503\ttest: 0.7532468\tbest: 0.7692308 (95)\ttotal: 365ms\tremaining: 307ms\n",
      "100:\tlearn: 0.8917197\ttest: 0.7532468\tbest: 0.7692308 (95)\ttotal: 369ms\tremaining: 303ms\n",
      "101:\tlearn: 0.8917197\ttest: 0.7692308\tbest: 0.7692308 (95)\ttotal: 370ms\tremaining: 298ms\n",
      "102:\tlearn: 0.8888889\ttest: 0.7692308\tbest: 0.7692308 (95)\ttotal: 372ms\tremaining: 293ms\n",
      "103:\tlearn: 0.8917197\ttest: 0.7692308\tbest: 0.7692308 (95)\ttotal: 375ms\tremaining: 289ms\n",
      "104:\tlearn: 0.8917197\ttest: 0.7692308\tbest: 0.7692308 (95)\ttotal: 379ms\tremaining: 285ms\n",
      "105:\tlearn: 0.8952381\ttest: 0.7692308\tbest: 0.7692308 (95)\ttotal: 382ms\tremaining: 281ms\n",
      "106:\tlearn: 0.8952381\ttest: 0.7692308\tbest: 0.7692308 (95)\ttotal: 385ms\tremaining: 277ms\n",
      "107:\tlearn: 0.8952381\ttest: 0.7692308\tbest: 0.7692308 (95)\ttotal: 386ms\tremaining: 272ms\n",
      "108:\tlearn: 0.8987342\ttest: 0.7594937\tbest: 0.7692308 (95)\ttotal: 388ms\tremaining: 267ms\n",
      "109:\tlearn: 0.8987342\ttest: 0.7594937\tbest: 0.7692308 (95)\ttotal: 390ms\tremaining: 262ms\n",
      "110:\tlearn: 0.8987342\ttest: 0.7594937\tbest: 0.7692308 (95)\ttotal: 391ms\tremaining: 257ms\n",
      "111:\tlearn: 0.8987342\ttest: 0.7594937\tbest: 0.7692308 (95)\ttotal: 393ms\tremaining: 253ms\n",
      "112:\tlearn: 0.8987342\ttest: 0.7750000\tbest: 0.7750000 (112)\ttotal: 395ms\tremaining: 248ms\n",
      "113:\tlearn: 0.9022082\ttest: 0.7750000\tbest: 0.7750000 (112)\ttotal: 398ms\tremaining: 244ms\n",
      "114:\tlearn: 0.9079365\ttest: 0.7750000\tbest: 0.7750000 (112)\ttotal: 399ms\tremaining: 240ms\n",
      "115:\tlearn: 0.9079365\ttest: 0.7594937\tbest: 0.7750000 (112)\ttotal: 401ms\tremaining: 235ms\n",
      "116:\tlearn: 0.9148265\ttest: 0.7692308\tbest: 0.7750000 (112)\ttotal: 403ms\tremaining: 231ms\n",
      "117:\tlearn: 0.9148265\ttest: 0.7692308\tbest: 0.7750000 (112)\ttotal: 405ms\tremaining: 227ms\n",
      "118:\tlearn: 0.9113924\ttest: 0.7692308\tbest: 0.7750000 (112)\ttotal: 407ms\tremaining: 222ms\n",
      "119:\tlearn: 0.9079365\ttest: 0.7594937\tbest: 0.7750000 (112)\ttotal: 409ms\tremaining: 218ms\n",
      "120:\tlearn: 0.9113924\ttest: 0.7692308\tbest: 0.7750000 (112)\ttotal: 411ms\tremaining: 214ms\n",
      "121:\tlearn: 0.9148265\ttest: 0.7692308\tbest: 0.7750000 (112)\ttotal: 413ms\tremaining: 210ms\n",
      "122:\tlearn: 0.9148265\ttest: 0.7692308\tbest: 0.7750000 (112)\ttotal: 416ms\tremaining: 207ms\n",
      "123:\tlearn: 0.9216301\ttest: 0.7594937\tbest: 0.7750000 (112)\ttotal: 418ms\tremaining: 202ms\n",
      "124:\tlearn: 0.9182390\ttest: 0.7750000\tbest: 0.7750000 (112)\ttotal: 420ms\tremaining: 198ms\n",
      "125:\tlearn: 0.9250000\ttest: 0.7750000\tbest: 0.7750000 (112)\ttotal: 422ms\tremaining: 194ms\n",
      "126:\tlearn: 0.9250000\ttest: 0.7901235\tbest: 0.7901235 (126)\ttotal: 423ms\tremaining: 190ms\n",
      "127:\tlearn: 0.9250000\ttest: 0.7901235\tbest: 0.7901235 (126)\ttotal: 426ms\tremaining: 186ms\n",
      "128:\tlearn: 0.9216301\ttest: 0.7901235\tbest: 0.7901235 (126)\ttotal: 428ms\tremaining: 182ms\n",
      "129:\tlearn: 0.9216301\ttest: 0.7901235\tbest: 0.7901235 (126)\ttotal: 431ms\tremaining: 179ms\n",
      "130:\tlearn: 0.9283489\ttest: 0.7901235\tbest: 0.7901235 (126)\ttotal: 433ms\tremaining: 175ms\n",
      "131:\tlearn: 0.9283489\ttest: 0.7901235\tbest: 0.7901235 (126)\ttotal: 435ms\tremaining: 171ms\n",
      "132:\tlearn: 0.9283489\ttest: 0.7901235\tbest: 0.7901235 (126)\ttotal: 438ms\tremaining: 168ms\n",
      "133:\tlearn: 0.9283489\ttest: 0.7901235\tbest: 0.7901235 (126)\ttotal: 439ms\tremaining: 164ms\n",
      "134:\tlearn: 0.9283489\ttest: 0.7901235\tbest: 0.7901235 (126)\ttotal: 442ms\tremaining: 160ms\n",
      "135:\tlearn: 0.9283489\ttest: 0.7901235\tbest: 0.7901235 (126)\ttotal: 445ms\tremaining: 157ms\n",
      "136:\tlearn: 0.9283489\ttest: 0.7901235\tbest: 0.7901235 (126)\ttotal: 447ms\tremaining: 153ms\n",
      "137:\tlearn: 0.9254658\ttest: 0.7901235\tbest: 0.7901235 (126)\ttotal: 450ms\tremaining: 150ms\n",
      "138:\tlearn: 0.9283489\ttest: 0.7901235\tbest: 0.7901235 (126)\ttotal: 453ms\tremaining: 147ms\n",
      "139:\tlearn: 0.9283489\ttest: 0.7901235\tbest: 0.7901235 (126)\ttotal: 457ms\tremaining: 144ms\n",
      "140:\tlearn: 0.9283489\ttest: 0.7901235\tbest: 0.7901235 (126)\ttotal: 461ms\tremaining: 141ms\n",
      "141:\tlearn: 0.9283489\ttest: 0.7901235\tbest: 0.7901235 (126)\ttotal: 507ms\tremaining: 150ms\n",
      "142:\tlearn: 0.9283489\ttest: 0.7901235\tbest: 0.7901235 (126)\ttotal: 518ms\tremaining: 148ms\n",
      "143:\tlearn: 0.9316770\ttest: 0.7901235\tbest: 0.7901235 (126)\ttotal: 524ms\tremaining: 146ms\n",
      "144:\tlearn: 0.9316770\ttest: 0.7901235\tbest: 0.7901235 (126)\ttotal: 530ms\tremaining: 143ms\n",
      "145:\tlearn: 0.9382716\ttest: 0.7901235\tbest: 0.7901235 (126)\ttotal: 535ms\tremaining: 139ms\n",
      "146:\tlearn: 0.9382716\ttest: 0.7901235\tbest: 0.7901235 (126)\ttotal: 538ms\tremaining: 136ms\n",
      "147:\tlearn: 0.9382716\ttest: 0.7901235\tbest: 0.7901235 (126)\ttotal: 542ms\tremaining: 132ms\n",
      "148:\tlearn: 0.9382716\ttest: 0.7901235\tbest: 0.7901235 (126)\ttotal: 544ms\tremaining: 128ms\n",
      "149:\tlearn: 0.9349845\ttest: 0.7901235\tbest: 0.7901235 (126)\ttotal: 546ms\tremaining: 124ms\n",
      "150:\tlearn: 0.9382716\ttest: 0.7901235\tbest: 0.7901235 (126)\ttotal: 556ms\tremaining: 121ms\n",
      "151:\tlearn: 0.9349845\ttest: 0.7901235\tbest: 0.7901235 (126)\ttotal: 559ms\tremaining: 118ms\n",
      "152:\tlearn: 0.9382716\ttest: 0.7901235\tbest: 0.7901235 (126)\ttotal: 561ms\tremaining: 114ms\n",
      "153:\tlearn: 0.9382716\ttest: 0.7901235\tbest: 0.7901235 (126)\ttotal: 562ms\tremaining: 110ms\n",
      "154:\tlearn: 0.9447853\ttest: 0.7901235\tbest: 0.7901235 (126)\ttotal: 565ms\tremaining: 106ms\n",
      "155:\tlearn: 0.9447853\ttest: 0.7901235\tbest: 0.7901235 (126)\ttotal: 567ms\tremaining: 102ms\n",
      "156:\tlearn: 0.9480122\ttest: 0.7901235\tbest: 0.7901235 (126)\ttotal: 570ms\tremaining: 98ms\n",
      "157:\tlearn: 0.9480122\ttest: 0.7901235\tbest: 0.7901235 (126)\ttotal: 573ms\tremaining: 94.3ms\n",
      "158:\tlearn: 0.9447853\ttest: 0.7750000\tbest: 0.7901235 (126)\ttotal: 575ms\tremaining: 90.4ms\n",
      "159:\tlearn: 0.9447853\ttest: 0.7594937\tbest: 0.7901235 (126)\ttotal: 577ms\tremaining: 86.6ms\n",
      "160:\tlearn: 0.9480122\ttest: 0.7750000\tbest: 0.7901235 (126)\ttotal: 579ms\tremaining: 82.8ms\n",
      "161:\tlearn: 0.9480122\ttest: 0.7750000\tbest: 0.7901235 (126)\ttotal: 581ms\tremaining: 78.9ms\n",
      "162:\tlearn: 0.9512195\ttest: 0.7750000\tbest: 0.7901235 (126)\ttotal: 583ms\tremaining: 75.1ms\n",
      "163:\tlearn: 0.9480122\ttest: 0.7750000\tbest: 0.7901235 (126)\ttotal: 585ms\tremaining: 71.3ms\n",
      "164:\tlearn: 0.9512195\ttest: 0.7750000\tbest: 0.7901235 (126)\ttotal: 588ms\tremaining: 67.7ms\n",
      "165:\tlearn: 0.9480122\ttest: 0.7750000\tbest: 0.7901235 (126)\ttotal: 590ms\tremaining: 64ms\n",
      "166:\tlearn: 0.9544073\ttest: 0.7750000\tbest: 0.7901235 (126)\ttotal: 591ms\tremaining: 60.2ms\n",
      "167:\tlearn: 0.9544073\ttest: 0.7750000\tbest: 0.7901235 (126)\ttotal: 594ms\tremaining: 56.6ms\n",
      "168:\tlearn: 0.9544073\ttest: 0.7750000\tbest: 0.7901235 (126)\ttotal: 597ms\tremaining: 53ms\n",
      "169:\tlearn: 0.9544073\ttest: 0.7750000\tbest: 0.7901235 (126)\ttotal: 600ms\tremaining: 49.4ms\n",
      "170:\tlearn: 0.9512195\ttest: 0.7750000\tbest: 0.7901235 (126)\ttotal: 604ms\tremaining: 45.9ms\n",
      "171:\tlearn: 0.9573171\ttest: 0.7901235\tbest: 0.7901235 (126)\ttotal: 608ms\tremaining: 42.4ms\n",
      "172:\tlearn: 0.9604863\ttest: 0.7901235\tbest: 0.7901235 (126)\ttotal: 612ms\tremaining: 38.9ms\n",
      "173:\tlearn: 0.9604863\ttest: 0.7901235\tbest: 0.7901235 (126)\ttotal: 614ms\tremaining: 35.3ms\n",
      "174:\tlearn: 0.9604863\ttest: 0.7901235\tbest: 0.7901235 (126)\ttotal: 616ms\tremaining: 31.7ms\n",
      "175:\tlearn: 0.9604863\ttest: 0.7901235\tbest: 0.7901235 (126)\ttotal: 618ms\tremaining: 28.1ms\n",
      "176:\tlearn: 0.9636364\ttest: 0.7901235\tbest: 0.7901235 (126)\ttotal: 620ms\tremaining: 24.5ms\n",
      "177:\tlearn: 0.9636364\ttest: 0.7901235\tbest: 0.7901235 (126)\ttotal: 622ms\tremaining: 21ms\n",
      "178:\tlearn: 0.9604863\ttest: 0.7901235\tbest: 0.7901235 (126)\ttotal: 626ms\tremaining: 17.5ms\n",
      "179:\tlearn: 0.9667674\ttest: 0.7901235\tbest: 0.7901235 (126)\ttotal: 628ms\tremaining: 14ms\n",
      "180:\tlearn: 0.9698795\ttest: 0.7901235\tbest: 0.7901235 (126)\ttotal: 630ms\tremaining: 10.4ms\n",
      "181:\tlearn: 0.9729730\ttest: 0.7901235\tbest: 0.7901235 (126)\ttotal: 633ms\tremaining: 6.95ms\n",
      "182:\tlearn: 0.9729730\ttest: 0.7901235\tbest: 0.7901235 (126)\ttotal: 634ms\tremaining: 3.46ms\n",
      "183:\tlearn: 0.9729730\ttest: 0.7901235\tbest: 0.7901235 (126)\ttotal: 636ms\tremaining: 0us\n",
      "\n",
      "bestTest = 0.7901234568\n",
      "bestIteration = 126\n",
      "\n",
      "Training on fold [1/5]\n",
      "0:\tlearn: 0.6956522\ttest: 0.5714286\tbest: 0.5714286 (0)\ttotal: 1.93ms\tremaining: 353ms\n",
      "1:\tlearn: 0.7000000\ttest: 0.5897436\tbest: 0.5897436 (1)\ttotal: 3.83ms\tremaining: 349ms\n",
      "2:\tlearn: 0.7112462\ttest: 0.6250000\tbest: 0.6250000 (2)\ttotal: 5.72ms\tremaining: 345ms\n",
      "3:\tlearn: 0.7312500\ttest: 0.6233766\tbest: 0.6250000 (2)\ttotal: 7.58ms\tremaining: 341ms\n",
      "4:\tlearn: 0.7469136\ttest: 0.5974026\tbest: 0.6250000 (2)\ttotal: 9.4ms\tremaining: 336ms\n",
      "5:\tlearn: 0.7335423\ttest: 0.6075949\tbest: 0.6250000 (2)\ttotal: 11.3ms\tremaining: 335ms\n",
      "6:\tlearn: 0.7215190\ttest: 0.5866667\tbest: 0.6250000 (2)\ttotal: 13ms\tremaining: 329ms\n",
      "7:\tlearn: 0.7492260\ttest: 0.5897436\tbest: 0.6250000 (2)\ttotal: 14.7ms\tremaining: 323ms\n",
      "8:\tlearn: 0.7444795\ttest: 0.5897436\tbest: 0.6250000 (2)\ttotal: 16.4ms\tremaining: 319ms\n",
      "9:\tlearn: 0.7365079\ttest: 0.5897436\tbest: 0.6250000 (2)\ttotal: 18.1ms\tremaining: 315ms\n",
      "10:\tlearn: 0.7405063\ttest: 0.5974026\tbest: 0.6250000 (2)\ttotal: 19.8ms\tremaining: 311ms\n",
      "11:\tlearn: 0.7421384\ttest: 0.5974026\tbest: 0.6250000 (2)\ttotal: 21.5ms\tremaining: 308ms\n",
      "12:\tlearn: 0.7500000\ttest: 0.5714286\tbest: 0.6250000 (2)\ttotal: 23.2ms\tremaining: 305ms\n",
      "13:\tlearn: 0.7468354\ttest: 0.5974026\tbest: 0.6250000 (2)\ttotal: 25.3ms\tremaining: 307ms\n",
      "14:\tlearn: 0.7435897\ttest: 0.5866667\tbest: 0.6250000 (2)\ttotal: 28.4ms\tremaining: 320ms\n",
      "15:\tlearn: 0.7402597\ttest: 0.5405405\tbest: 0.6250000 (2)\ttotal: 31.7ms\tremaining: 333ms\n",
      "16:\tlearn: 0.7475410\ttest: 0.5479452\tbest: 0.6250000 (2)\ttotal: 35.3ms\tremaining: 347ms\n",
      "17:\tlearn: 0.7350993\ttest: 0.5555556\tbest: 0.6250000 (2)\ttotal: 37.3ms\tremaining: 344ms\n",
      "18:\tlearn: 0.7500000\ttest: 0.5479452\tbest: 0.6250000 (2)\ttotal: 39.1ms\tremaining: 339ms\n",
      "19:\tlearn: 0.7565789\ttest: 0.5479452\tbest: 0.6250000 (2)\ttotal: 41.2ms\tremaining: 338ms\n",
      "20:\tlearn: 0.7631579\ttest: 0.5479452\tbest: 0.6250000 (2)\ttotal: 44.3ms\tremaining: 344ms\n",
      "21:\tlearn: 0.7737705\ttest: 0.5352113\tbest: 0.6250000 (2)\ttotal: 46ms\tremaining: 339ms\n",
      "22:\tlearn: 0.7882736\ttest: 0.5633803\tbest: 0.6250000 (2)\ttotal: 48.4ms\tremaining: 339ms\n",
      "23:\tlearn: 0.7817590\ttest: 0.5507246\tbest: 0.6250000 (2)\ttotal: 51ms\tremaining: 340ms\n",
      "24:\tlearn: 0.7792208\ttest: 0.5428571\tbest: 0.6250000 (2)\ttotal: 53.9ms\tremaining: 343ms\n",
      "25:\tlearn: 0.7792208\ttest: 0.5714286\tbest: 0.6250000 (2)\ttotal: 57.2ms\tremaining: 348ms\n",
      "26:\tlearn: 0.7831715\ttest: 0.5915493\tbest: 0.6250000 (2)\ttotal: 60.1ms\tremaining: 350ms\n",
      "27:\tlearn: 0.7882736\ttest: 0.5915493\tbest: 0.6250000 (2)\ttotal: 63.2ms\tremaining: 352ms\n",
      "28:\tlearn: 0.8000000\ttest: 0.5866667\tbest: 0.6250000 (2)\ttotal: 65.5ms\tremaining: 350ms\n",
      "29:\tlearn: 0.8012821\ttest: 0.5753425\tbest: 0.6250000 (2)\ttotal: 69.1ms\tremaining: 355ms\n",
      "30:\tlearn: 0.8076923\ttest: 0.5675676\tbest: 0.6250000 (2)\ttotal: 73.9ms\tremaining: 365ms\n",
      "31:\tlearn: 0.8076923\ttest: 0.5753425\tbest: 0.6250000 (2)\ttotal: 76ms\tremaining: 361ms\n",
      "32:\tlearn: 0.8152866\ttest: 0.5945946\tbest: 0.6250000 (2)\ttotal: 78ms\tremaining: 357ms\n",
      "33:\tlearn: 0.8190476\ttest: 0.5945946\tbest: 0.6250000 (2)\ttotal: 79.7ms\tremaining: 352ms\n",
      "34:\tlearn: 0.8126984\ttest: 0.5945946\tbest: 0.6250000 (2)\ttotal: 81.4ms\tremaining: 347ms\n",
      "35:\tlearn: 0.8152866\ttest: 0.5945946\tbest: 0.6250000 (2)\ttotal: 83.1ms\tremaining: 342ms\n",
      "36:\tlearn: 0.8152866\ttest: 0.5945946\tbest: 0.6250000 (2)\ttotal: 84.7ms\tremaining: 337ms\n",
      "37:\tlearn: 0.8190476\ttest: 0.5945946\tbest: 0.6250000 (2)\ttotal: 86.4ms\tremaining: 332ms\n",
      "38:\tlearn: 0.8190476\ttest: 0.6052632\tbest: 0.6250000 (2)\ttotal: 88.3ms\tremaining: 328ms\n",
      "39:\tlearn: 0.8227848\ttest: 0.6133333\tbest: 0.6250000 (2)\ttotal: 90.3ms\tremaining: 325ms\n",
      "40:\tlearn: 0.8227848\ttest: 0.6133333\tbest: 0.6250000 (2)\ttotal: 92.1ms\tremaining: 321ms\n",
      "41:\tlearn: 0.8216561\ttest: 0.6133333\tbest: 0.6250000 (2)\ttotal: 93.8ms\tremaining: 317ms\n",
      "42:\tlearn: 0.8301887\ttest: 0.6133333\tbest: 0.6250000 (2)\ttotal: 95.4ms\tremaining: 313ms\n",
      "43:\tlearn: 0.8301887\ttest: 0.6216216\tbest: 0.6250000 (2)\ttotal: 97.2ms\tremaining: 309ms\n",
      "44:\tlearn: 0.8375000\ttest: 0.6133333\tbest: 0.6250000 (2)\ttotal: 99ms\tremaining: 306ms\n",
      "45:\tlearn: 0.8328076\ttest: 0.6052632\tbest: 0.6250000 (2)\ttotal: 101ms\tremaining: 303ms\n",
      "46:\tlearn: 0.8391167\ttest: 0.6052632\tbest: 0.6250000 (2)\ttotal: 105ms\tremaining: 306ms\n",
      "47:\tlearn: 0.8364780\ttest: 0.6052632\tbest: 0.6250000 (2)\ttotal: 107ms\tremaining: 304ms\n",
      "48:\tlearn: 0.8391167\ttest: 0.6052632\tbest: 0.6250000 (2)\ttotal: 109ms\tremaining: 300ms\n",
      "49:\tlearn: 0.8463950\ttest: 0.6052632\tbest: 0.6250000 (2)\ttotal: 111ms\tremaining: 297ms\n",
      "50:\tlearn: 0.8463950\ttest: 0.6052632\tbest: 0.6250000 (2)\ttotal: 113ms\tremaining: 294ms\n",
      "51:\tlearn: 0.8500000\ttest: 0.6052632\tbest: 0.6250000 (2)\ttotal: 115ms\tremaining: 291ms\n",
      "52:\tlearn: 0.8526646\ttest: 0.6052632\tbest: 0.6250000 (2)\ttotal: 116ms\tremaining: 288ms\n",
      "53:\tlearn: 0.8490566\ttest: 0.6052632\tbest: 0.6250000 (2)\ttotal: 120ms\tremaining: 290ms\n",
      "54:\tlearn: 0.8500000\ttest: 0.6052632\tbest: 0.6250000 (2)\ttotal: 124ms\tremaining: 292ms\n",
      "55:\tlearn: 0.8526646\ttest: 0.6052632\tbest: 0.6250000 (2)\ttotal: 127ms\tremaining: 291ms\n",
      "56:\tlearn: 0.8526646\ttest: 0.6052632\tbest: 0.6250000 (2)\ttotal: 131ms\tremaining: 292ms\n",
      "57:\tlearn: 0.8562500\ttest: 0.5974026\tbest: 0.6250000 (2)\ttotal: 134ms\tremaining: 291ms\n",
      "58:\tlearn: 0.8562500\ttest: 0.5974026\tbest: 0.6250000 (2)\ttotal: 136ms\tremaining: 288ms\n",
      "59:\tlearn: 0.8490566\ttest: 0.6052632\tbest: 0.6250000 (2)\ttotal: 138ms\tremaining: 286ms\n",
      "60:\tlearn: 0.8526646\ttest: 0.6052632\tbest: 0.6250000 (2)\ttotal: 140ms\tremaining: 282ms\n",
      "61:\tlearn: 0.8589342\ttest: 0.6052632\tbest: 0.6250000 (2)\ttotal: 142ms\tremaining: 279ms\n",
      "62:\tlearn: 0.8765432\ttest: 0.6052632\tbest: 0.6250000 (2)\ttotal: 144ms\tremaining: 276ms\n",
      "63:\tlearn: 0.8730650\ttest: 0.6052632\tbest: 0.6250000 (2)\ttotal: 145ms\tremaining: 272ms\n",
      "64:\tlearn: 0.8730650\ttest: 0.6052632\tbest: 0.6250000 (2)\ttotal: 148ms\tremaining: 270ms\n",
      "65:\tlearn: 0.8757764\ttest: 0.6153846\tbest: 0.6250000 (2)\ttotal: 149ms\tremaining: 267ms\n",
      "66:\tlearn: 0.8757764\ttest: 0.6153846\tbest: 0.6250000 (2)\ttotal: 151ms\tremaining: 264ms\n",
      "67:\tlearn: 0.8792570\ttest: 0.6153846\tbest: 0.6250000 (2)\ttotal: 154ms\tremaining: 262ms\n",
      "68:\tlearn: 0.8792570\ttest: 0.6075949\tbest: 0.6250000 (2)\ttotal: 157ms\tremaining: 262ms\n",
      "69:\tlearn: 0.8792570\ttest: 0.6153846\tbest: 0.6250000 (2)\ttotal: 160ms\tremaining: 261ms\n",
      "70:\tlearn: 0.8792570\ttest: 0.6153846\tbest: 0.6250000 (2)\ttotal: 162ms\tremaining: 258ms\n",
      "71:\tlearn: 0.8792570\ttest: 0.6075949\tbest: 0.6250000 (2)\ttotal: 164ms\tremaining: 255ms\n",
      "72:\tlearn: 0.8888889\ttest: 0.6153846\tbest: 0.6250000 (2)\ttotal: 165ms\tremaining: 251ms\n",
      "73:\tlearn: 0.8861538\ttest: 0.6075949\tbest: 0.6250000 (2)\ttotal: 167ms\tremaining: 248ms\n",
      "74:\tlearn: 0.8957055\ttest: 0.6153846\tbest: 0.6250000 (2)\ttotal: 169ms\tremaining: 245ms\n",
      "75:\tlearn: 0.8923077\ttest: 0.6233766\tbest: 0.6250000 (2)\ttotal: 170ms\tremaining: 242ms\n",
      "76:\tlearn: 0.8923077\ttest: 0.6233766\tbest: 0.6250000 (2)\ttotal: 172ms\tremaining: 239ms\n",
      "77:\tlearn: 0.8950617\ttest: 0.6233766\tbest: 0.6250000 (2)\ttotal: 174ms\tremaining: 236ms\n",
      "78:\tlearn: 0.8950617\ttest: 0.6233766\tbest: 0.6250000 (2)\ttotal: 177ms\tremaining: 235ms\n",
      "79:\tlearn: 0.9079755\ttest: 0.6153846\tbest: 0.6250000 (2)\ttotal: 179ms\tremaining: 233ms\n",
      "80:\tlearn: 0.9046154\ttest: 0.6153846\tbest: 0.6250000 (2)\ttotal: 181ms\tremaining: 230ms\n",
      "81:\tlearn: 0.9046154\ttest: 0.6075949\tbest: 0.6250000 (2)\ttotal: 183ms\tremaining: 228ms\n",
      "82:\tlearn: 0.9046154\ttest: 0.6075949\tbest: 0.6250000 (2)\ttotal: 185ms\tremaining: 225ms\n",
      "83:\tlearn: 0.9046154\ttest: 0.6000000\tbest: 0.6250000 (2)\ttotal: 187ms\tremaining: 222ms\n",
      "84:\tlearn: 0.9046154\ttest: 0.6000000\tbest: 0.6250000 (2)\ttotal: 190ms\tremaining: 221ms\n",
      "85:\tlearn: 0.9079755\ttest: 0.6000000\tbest: 0.6250000 (2)\ttotal: 192ms\tremaining: 218ms\n",
      "86:\tlearn: 0.9113150\ttest: 0.6000000\tbest: 0.6250000 (2)\ttotal: 193ms\tremaining: 215ms\n",
      "87:\tlearn: 0.9113150\ttest: 0.6000000\tbest: 0.6250000 (2)\ttotal: 195ms\tremaining: 213ms\n",
      "88:\tlearn: 0.9113150\ttest: 0.6000000\tbest: 0.6250000 (2)\ttotal: 197ms\tremaining: 210ms\n",
      "89:\tlearn: 0.9113150\ttest: 0.6075949\tbest: 0.6250000 (2)\ttotal: 198ms\tremaining: 207ms\n",
      "90:\tlearn: 0.9113150\ttest: 0.6075949\tbest: 0.6250000 (2)\ttotal: 200ms\tremaining: 205ms\n",
      "91:\tlearn: 0.9113150\ttest: 0.6075949\tbest: 0.6250000 (2)\ttotal: 202ms\tremaining: 202ms\n",
      "92:\tlearn: 0.9113150\ttest: 0.6075949\tbest: 0.6250000 (2)\ttotal: 206ms\tremaining: 202ms\n",
      "93:\tlearn: 0.9113150\ttest: 0.6075949\tbest: 0.6250000 (2)\ttotal: 208ms\tremaining: 199ms\n",
      "94:\tlearn: 0.9113150\ttest: 0.6000000\tbest: 0.6250000 (2)\ttotal: 210ms\tremaining: 197ms\n",
      "95:\tlearn: 0.9113150\ttest: 0.6000000\tbest: 0.6250000 (2)\ttotal: 211ms\tremaining: 194ms\n",
      "96:\tlearn: 0.9113150\ttest: 0.6000000\tbest: 0.6250000 (2)\ttotal: 213ms\tremaining: 191ms\n",
      "97:\tlearn: 0.9141104\ttest: 0.6000000\tbest: 0.6250000 (2)\ttotal: 215ms\tremaining: 189ms\n",
      "98:\tlearn: 0.9174312\ttest: 0.6075949\tbest: 0.6250000 (2)\ttotal: 217ms\tremaining: 186ms\n",
      "99:\tlearn: 0.9174312\ttest: 0.6075949\tbest: 0.6250000 (2)\ttotal: 219ms\tremaining: 184ms\n",
      "100:\tlearn: 0.9207317\ttest: 0.6075949\tbest: 0.6250000 (2)\ttotal: 221ms\tremaining: 182ms\n",
      "101:\tlearn: 0.9207317\ttest: 0.6250000\tbest: 0.6250000 (2)\ttotal: 223ms\tremaining: 179ms\n",
      "102:\tlearn: 0.9272727\ttest: 0.6250000\tbest: 0.6250000 (2)\ttotal: 224ms\tremaining: 177ms\n",
      "103:\tlearn: 0.9272727\ttest: 0.6172840\tbest: 0.6250000 (2)\ttotal: 226ms\tremaining: 174ms\n",
      "104:\tlearn: 0.9300912\ttest: 0.6000000\tbest: 0.6250000 (2)\ttotal: 228ms\tremaining: 172ms\n",
      "105:\tlearn: 0.9329268\ttest: 0.6000000\tbest: 0.6250000 (2)\ttotal: 230ms\tremaining: 169ms\n",
      "106:\tlearn: 0.9329268\ttest: 0.6000000\tbest: 0.6250000 (2)\ttotal: 231ms\tremaining: 167ms\n",
      "107:\tlearn: 0.9296636\ttest: 0.6000000\tbest: 0.6250000 (2)\ttotal: 234ms\tremaining: 165ms\n",
      "108:\tlearn: 0.9296636\ttest: 0.6000000\tbest: 0.6250000 (2)\ttotal: 236ms\tremaining: 162ms\n",
      "109:\tlearn: 0.9296636\ttest: 0.6000000\tbest: 0.6250000 (2)\ttotal: 238ms\tremaining: 160ms\n",
      "110:\tlearn: 0.9296636\ttest: 0.6000000\tbest: 0.6250000 (2)\ttotal: 239ms\tremaining: 157ms\n",
      "111:\tlearn: 0.9329268\ttest: 0.6000000\tbest: 0.6250000 (2)\ttotal: 241ms\tremaining: 155ms\n",
      "112:\tlearn: 0.9329268\ttest: 0.6172840\tbest: 0.6250000 (2)\ttotal: 243ms\tremaining: 152ms\n",
      "113:\tlearn: 0.9329268\ttest: 0.6341463\tbest: 0.6341463 (113)\ttotal: 244ms\tremaining: 150ms\n",
      "114:\tlearn: 0.9329268\ttest: 0.6341463\tbest: 0.6341463 (113)\ttotal: 246ms\tremaining: 148ms\n",
      "115:\tlearn: 0.9329268\ttest: 0.6341463\tbest: 0.6341463 (113)\ttotal: 249ms\tremaining: 146ms\n",
      "116:\tlearn: 0.9425982\ttest: 0.6341463\tbest: 0.6341463 (113)\ttotal: 252ms\tremaining: 144ms\n",
      "117:\tlearn: 0.9425982\ttest: 0.6341463\tbest: 0.6341463 (113)\ttotal: 254ms\tremaining: 142ms\n",
      "118:\tlearn: 0.9397590\ttest: 0.6341463\tbest: 0.6341463 (113)\ttotal: 258ms\tremaining: 141ms\n",
      "119:\tlearn: 0.9457831\ttest: 0.6341463\tbest: 0.6341463 (113)\ttotal: 260ms\tremaining: 139ms\n",
      "120:\tlearn: 0.9457831\ttest: 0.6341463\tbest: 0.6341463 (113)\ttotal: 263ms\tremaining: 137ms\n",
      "121:\tlearn: 0.9518072\ttest: 0.6341463\tbest: 0.6341463 (113)\ttotal: 265ms\tremaining: 135ms\n",
      "122:\tlearn: 0.9518072\ttest: 0.6341463\tbest: 0.6341463 (113)\ttotal: 267ms\tremaining: 132ms\n",
      "123:\tlearn: 0.9489489\ttest: 0.6341463\tbest: 0.6341463 (113)\ttotal: 269ms\tremaining: 130ms\n",
      "124:\tlearn: 0.9489489\ttest: 0.6419753\tbest: 0.6419753 (124)\ttotal: 270ms\tremaining: 128ms\n",
      "125:\tlearn: 0.9518072\ttest: 0.6419753\tbest: 0.6419753 (124)\ttotal: 272ms\tremaining: 125ms\n",
      "126:\tlearn: 0.9518072\ttest: 0.6419753\tbest: 0.6419753 (124)\ttotal: 276ms\tremaining: 124ms\n",
      "127:\tlearn: 0.9549550\ttest: 0.6419753\tbest: 0.6419753 (124)\ttotal: 278ms\tremaining: 122ms\n",
      "128:\tlearn: 0.9520958\ttest: 0.6585366\tbest: 0.6585366 (128)\ttotal: 280ms\tremaining: 119ms\n",
      "129:\tlearn: 0.9549550\ttest: 0.6585366\tbest: 0.6585366 (128)\ttotal: 281ms\tremaining: 117ms\n",
      "130:\tlearn: 0.9549550\ttest: 0.6585366\tbest: 0.6585366 (128)\ttotal: 283ms\tremaining: 115ms\n",
      "131:\tlearn: 0.9578313\ttest: 0.6585366\tbest: 0.6585366 (128)\ttotal: 285ms\tremaining: 112ms\n",
      "132:\tlearn: 0.9638554\ttest: 0.6585366\tbest: 0.6585366 (128)\ttotal: 287ms\tremaining: 110ms\n",
      "133:\tlearn: 0.9638554\ttest: 0.6585366\tbest: 0.6585366 (128)\ttotal: 288ms\tremaining: 108ms\n",
      "134:\tlearn: 0.9638554\ttest: 0.6585366\tbest: 0.6585366 (128)\ttotal: 292ms\tremaining: 106ms\n",
      "135:\tlearn: 0.9638554\ttest: 0.6585366\tbest: 0.6585366 (128)\ttotal: 294ms\tremaining: 104ms\n",
      "136:\tlearn: 0.9640719\ttest: 0.6585366\tbest: 0.6585366 (128)\ttotal: 296ms\tremaining: 101ms\n",
      "137:\tlearn: 0.9669670\ttest: 0.6585366\tbest: 0.6585366 (128)\ttotal: 297ms\tremaining: 99.2ms\n",
      "138:\tlearn: 0.9669670\ttest: 0.6585366\tbest: 0.6585366 (128)\ttotal: 299ms\tremaining: 96.9ms\n",
      "139:\tlearn: 0.9669670\ttest: 0.6585366\tbest: 0.6585366 (128)\ttotal: 301ms\tremaining: 94.7ms\n",
      "140:\tlearn: 0.9700599\ttest: 0.6666667\tbest: 0.6666667 (140)\ttotal: 303ms\tremaining: 92.4ms\n",
      "141:\tlearn: 0.9700599\ttest: 0.6666667\tbest: 0.6666667 (140)\ttotal: 311ms\tremaining: 92ms\n",
      "142:\tlearn: 0.9700599\ttest: 0.6666667\tbest: 0.6666667 (140)\ttotal: 313ms\tremaining: 89.7ms\n",
      "143:\tlearn: 0.9700599\ttest: 0.6666667\tbest: 0.6666667 (140)\ttotal: 315ms\tremaining: 87.4ms\n",
      "144:\tlearn: 0.9700599\ttest: 0.6666667\tbest: 0.6666667 (140)\ttotal: 317ms\tremaining: 85.1ms\n",
      "145:\tlearn: 0.9700599\ttest: 0.6666667\tbest: 0.6666667 (140)\ttotal: 318ms\tremaining: 82.9ms\n",
      "146:\tlearn: 0.9700599\ttest: 0.6666667\tbest: 0.6666667 (140)\ttotal: 320ms\tremaining: 80.6ms\n",
      "147:\tlearn: 0.9700599\ttest: 0.6506024\tbest: 0.6666667 (140)\ttotal: 322ms\tremaining: 78.3ms\n",
      "148:\tlearn: 0.9700599\ttest: 0.6428571\tbest: 0.6666667 (140)\ttotal: 324ms\tremaining: 76.1ms\n",
      "149:\tlearn: 0.9729730\ttest: 0.6506024\tbest: 0.6666667 (140)\ttotal: 326ms\tremaining: 73.8ms\n",
      "150:\tlearn: 0.9729730\ttest: 0.6506024\tbest: 0.6666667 (140)\ttotal: 328ms\tremaining: 71.6ms\n",
      "151:\tlearn: 0.9700599\ttest: 0.6506024\tbest: 0.6666667 (140)\ttotal: 330ms\tremaining: 69.4ms\n",
      "152:\tlearn: 0.9700599\ttest: 0.6506024\tbest: 0.6666667 (140)\ttotal: 332ms\tremaining: 67.2ms\n",
      "153:\tlearn: 0.9760479\ttest: 0.6506024\tbest: 0.6666667 (140)\ttotal: 333ms\tremaining: 64.9ms\n",
      "154:\tlearn: 0.9731343\ttest: 0.6506024\tbest: 0.6666667 (140)\ttotal: 336ms\tremaining: 62.9ms\n",
      "155:\tlearn: 0.9731343\ttest: 0.6506024\tbest: 0.6666667 (140)\ttotal: 339ms\tremaining: 60.9ms\n",
      "156:\tlearn: 0.9731343\ttest: 0.6428571\tbest: 0.6666667 (140)\ttotal: 343ms\tremaining: 58.9ms\n",
      "157:\tlearn: 0.9760479\ttest: 0.6428571\tbest: 0.6666667 (140)\ttotal: 347ms\tremaining: 57.1ms\n",
      "158:\tlearn: 0.9791045\ttest: 0.6428571\tbest: 0.6666667 (140)\ttotal: 350ms\tremaining: 55.1ms\n",
      "159:\tlearn: 0.9760479\ttest: 0.6428571\tbest: 0.6666667 (140)\ttotal: 353ms\tremaining: 53ms\n",
      "160:\tlearn: 0.9760479\ttest: 0.6428571\tbest: 0.6666667 (140)\ttotal: 355ms\tremaining: 50.7ms\n",
      "161:\tlearn: 0.9789790\ttest: 0.6428571\tbest: 0.6666667 (140)\ttotal: 357ms\tremaining: 48.5ms\n",
      "162:\tlearn: 0.9820359\ttest: 0.6428571\tbest: 0.6666667 (140)\ttotal: 360ms\tremaining: 46.3ms\n",
      "163:\tlearn: 0.9820359\ttest: 0.6428571\tbest: 0.6666667 (140)\ttotal: 362ms\tremaining: 44.1ms\n",
      "164:\tlearn: 0.9820359\ttest: 0.6428571\tbest: 0.6666667 (140)\ttotal: 365ms\tremaining: 42ms\n",
      "165:\tlearn: 0.9820359\ttest: 0.6428571\tbest: 0.6666667 (140)\ttotal: 367ms\tremaining: 39.8ms\n",
      "166:\tlearn: 0.9820359\ttest: 0.6428571\tbest: 0.6666667 (140)\ttotal: 370ms\tremaining: 37.7ms\n",
      "167:\tlearn: 0.9820359\ttest: 0.6428571\tbest: 0.6666667 (140)\ttotal: 373ms\tremaining: 35.5ms\n",
      "168:\tlearn: 0.9820359\ttest: 0.6428571\tbest: 0.6666667 (140)\ttotal: 375ms\tremaining: 33.3ms\n",
      "169:\tlearn: 0.9820359\ttest: 0.6428571\tbest: 0.6666667 (140)\ttotal: 379ms\tremaining: 31.2ms\n",
      "170:\tlearn: 0.9850746\ttest: 0.6428571\tbest: 0.6666667 (140)\ttotal: 383ms\tremaining: 29.1ms\n",
      "171:\tlearn: 0.9850746\ttest: 0.6428571\tbest: 0.6666667 (140)\ttotal: 386ms\tremaining: 26.9ms\n",
      "172:\tlearn: 0.9850746\ttest: 0.6428571\tbest: 0.6666667 (140)\ttotal: 390ms\tremaining: 24.8ms\n",
      "173:\tlearn: 0.9850746\ttest: 0.6352941\tbest: 0.6666667 (140)\ttotal: 394ms\tremaining: 22.6ms\n",
      "174:\tlearn: 0.9850746\ttest: 0.6428571\tbest: 0.6666667 (140)\ttotal: 396ms\tremaining: 20.4ms\n",
      "175:\tlearn: 0.9880952\ttest: 0.6428571\tbest: 0.6666667 (140)\ttotal: 401ms\tremaining: 18.2ms\n",
      "176:\tlearn: 0.9880952\ttest: 0.6428571\tbest: 0.6666667 (140)\ttotal: 404ms\tremaining: 16ms\n",
      "177:\tlearn: 0.9880952\ttest: 0.6428571\tbest: 0.6666667 (140)\ttotal: 408ms\tremaining: 13.7ms\n",
      "178:\tlearn: 0.9880952\ttest: 0.6428571\tbest: 0.6666667 (140)\ttotal: 411ms\tremaining: 11.5ms\n",
      "179:\tlearn: 0.9880952\ttest: 0.6588235\tbest: 0.6666667 (140)\ttotal: 414ms\tremaining: 9.2ms\n",
      "180:\tlearn: 0.9880952\ttest: 0.6428571\tbest: 0.6666667 (140)\ttotal: 416ms\tremaining: 6.9ms\n",
      "181:\tlearn: 0.9880952\ttest: 0.6588235\tbest: 0.6666667 (140)\ttotal: 420ms\tremaining: 4.61ms\n",
      "182:\tlearn: 0.9880952\ttest: 0.6588235\tbest: 0.6666667 (140)\ttotal: 422ms\tremaining: 2.31ms\n",
      "183:\tlearn: 0.9880952\ttest: 0.6588235\tbest: 0.6666667 (140)\ttotal: 425ms\tremaining: 0us\n",
      "\n",
      "bestTest = 0.6666666667\n",
      "bestIteration = 140\n",
      "\n",
      "Training on fold [2/5]\n",
      "0:\tlearn: 0.7062315\ttest: 0.5000000\tbest: 0.5000000 (0)\ttotal: 1.86ms\tremaining: 341ms\n",
      "1:\tlearn: 0.7134503\ttest: 0.5128205\tbest: 0.5128205 (1)\ttotal: 3.53ms\tremaining: 322ms\n",
      "2:\tlearn: 0.7456647\ttest: 0.5316456\tbest: 0.5316456 (2)\ttotal: 5.2ms\tremaining: 313ms\n",
      "3:\tlearn: 0.7232704\ttest: 0.5205479\tbest: 0.5316456 (2)\ttotal: 6.79ms\tremaining: 305ms\n",
      "4:\tlearn: 0.7323077\ttest: 0.5333333\tbest: 0.5333333 (4)\ttotal: 8.38ms\tremaining: 300ms\n",
      "5:\tlearn: 0.7111111\ttest: 0.5205479\tbest: 0.5333333 (4)\ttotal: 10ms\tremaining: 297ms\n",
      "6:\tlearn: 0.6843854\ttest: 0.4857143\tbest: 0.5333333 (4)\ttotal: 11.6ms\tremaining: 293ms\n",
      "7:\tlearn: 0.6864686\ttest: 0.4857143\tbest: 0.5333333 (4)\ttotal: 14.2ms\tremaining: 312ms\n",
      "8:\tlearn: 0.7283951\ttest: 0.5333333\tbest: 0.5333333 (4)\ttotal: 16.1ms\tremaining: 314ms\n",
      "9:\tlearn: 0.7306502\ttest: 0.5333333\tbest: 0.5333333 (4)\ttotal: 17.8ms\tremaining: 310ms\n",
      "10:\tlearn: 0.7081967\ttest: 0.5277778\tbest: 0.5333333 (4)\ttotal: 19.4ms\tremaining: 306ms\n",
      "11:\tlearn: 0.6956522\ttest: 0.5142857\tbest: 0.5333333 (4)\ttotal: 21.2ms\tremaining: 303ms\n",
      "12:\tlearn: 0.7023411\ttest: 0.5142857\tbest: 0.5333333 (4)\ttotal: 23.1ms\tremaining: 304ms\n",
      "13:\tlearn: 0.7118644\ttest: 0.5507246\tbest: 0.5507246 (13)\ttotal: 25.2ms\tremaining: 306ms\n",
      "14:\tlearn: 0.7074830\ttest: 0.5428571\tbest: 0.5507246 (13)\ttotal: 27.9ms\tremaining: 314ms\n",
      "15:\tlearn: 0.6989619\ttest: 0.5074627\tbest: 0.5507246 (13)\ttotal: 32ms\tremaining: 336ms\n",
      "16:\tlearn: 0.7098976\ttest: 0.5142857\tbest: 0.5507246 (13)\ttotal: 34.2ms\tremaining: 336ms\n",
      "17:\tlearn: 0.7382550\ttest: 0.5142857\tbest: 0.5507246 (13)\ttotal: 37.6ms\tremaining: 347ms\n",
      "18:\tlearn: 0.7364865\ttest: 0.5217391\tbest: 0.5507246 (13)\ttotal: 39.5ms\tremaining: 343ms\n",
      "19:\tlearn: 0.7400000\ttest: 0.5142857\tbest: 0.5507246 (13)\ttotal: 41.2ms\tremaining: 337ms\n",
      "20:\tlearn: 0.7382550\ttest: 0.5070423\tbest: 0.5507246 (13)\ttotal: 42.8ms\tremaining: 332ms\n",
      "21:\tlearn: 0.7210884\ttest: 0.5217391\tbest: 0.5507246 (13)\ttotal: 44.4ms\tremaining: 327ms\n",
      "22:\tlearn: 0.7382550\ttest: 0.5428571\tbest: 0.5507246 (13)\ttotal: 46ms\tremaining: 322ms\n",
      "23:\tlearn: 0.7474747\ttest: 0.5633803\tbest: 0.5633803 (23)\ttotal: 47.6ms\tremaining: 318ms\n",
      "24:\tlearn: 0.7491639\ttest: 0.5833333\tbest: 0.5833333 (24)\ttotal: 49.2ms\tremaining: 313ms\n",
      "25:\tlearn: 0.7508306\ttest: 0.5833333\tbest: 0.5833333 (24)\ttotal: 50.8ms\tremaining: 309ms\n",
      "26:\tlearn: 0.7625418\ttest: 0.5833333\tbest: 0.5833333 (24)\ttotal: 52.4ms\tremaining: 305ms\n",
      "27:\tlearn: 0.7641196\ttest: 0.5833333\tbest: 0.5833333 (24)\ttotal: 55.6ms\tremaining: 310ms\n",
      "28:\tlearn: 0.7600000\ttest: 0.5833333\tbest: 0.5833333 (24)\ttotal: 57.8ms\tremaining: 309ms\n",
      "29:\tlearn: 0.7733333\ttest: 0.5833333\tbest: 0.5833333 (24)\ttotal: 59.4ms\tremaining: 305ms\n",
      "30:\tlearn: 0.7763158\ttest: 0.6027397\tbest: 0.6027397 (30)\ttotal: 61.1ms\tremaining: 302ms\n",
      "31:\tlearn: 0.7814570\ttest: 0.6216216\tbest: 0.6216216 (31)\ttotal: 62.8ms\tremaining: 298ms\n",
      "32:\tlearn: 0.7707641\ttest: 0.6216216\tbest: 0.6216216 (31)\ttotal: 64.4ms\tremaining: 295ms\n",
      "33:\tlearn: 0.7814570\ttest: 0.6301370\tbest: 0.6301370 (33)\ttotal: 66.3ms\tremaining: 292ms\n",
      "34:\tlearn: 0.7748344\ttest: 0.6301370\tbest: 0.6301370 (33)\ttotal: 68ms\tremaining: 289ms\n",
      "35:\tlearn: 0.7682119\ttest: 0.6027397\tbest: 0.6301370 (33)\ttotal: 69.6ms\tremaining: 286ms\n",
      "36:\tlearn: 0.7828947\ttest: 0.6216216\tbest: 0.6301370 (33)\ttotal: 71.2ms\tremaining: 283ms\n",
      "37:\tlearn: 0.7934426\ttest: 0.5945946\tbest: 0.6301370 (33)\ttotal: 72.8ms\tremaining: 280ms\n",
      "38:\tlearn: 0.7986799\ttest: 0.5945946\tbest: 0.6301370 (33)\ttotal: 74.5ms\tremaining: 277ms\n",
      "39:\tlearn: 0.7986799\ttest: 0.5945946\tbest: 0.6301370 (33)\ttotal: 76.5ms\tremaining: 275ms\n",
      "40:\tlearn: 0.7986799\ttest: 0.6133333\tbest: 0.6301370 (33)\ttotal: 78.3ms\tremaining: 273ms\n",
      "41:\tlearn: 0.7934426\ttest: 0.6052632\tbest: 0.6301370 (33)\ttotal: 79.8ms\tremaining: 270ms\n",
      "42:\tlearn: 0.8000000\ttest: 0.6233766\tbest: 0.6301370 (33)\ttotal: 81.4ms\tremaining: 267ms\n",
      "43:\tlearn: 0.8065574\ttest: 0.6153846\tbest: 0.6301370 (33)\ttotal: 83.7ms\tremaining: 266ms\n",
      "44:\tlearn: 0.8013029\ttest: 0.6052632\tbest: 0.6301370 (33)\ttotal: 87.2ms\tremaining: 269ms\n",
      "45:\tlearn: 0.8090615\ttest: 0.6052632\tbest: 0.6301370 (33)\ttotal: 89.4ms\tremaining: 268ms\n",
      "46:\tlearn: 0.8051948\ttest: 0.6052632\tbest: 0.6301370 (33)\ttotal: 92.5ms\tremaining: 270ms\n",
      "47:\tlearn: 0.8129032\ttest: 0.5974026\tbest: 0.6301370 (33)\ttotal: 95.4ms\tremaining: 270ms\n",
      "48:\tlearn: 0.8129032\ttest: 0.5974026\tbest: 0.6301370 (33)\ttotal: 97ms\tremaining: 267ms\n",
      "49:\tlearn: 0.8129032\ttest: 0.5974026\tbest: 0.6301370 (33)\ttotal: 98.6ms\tremaining: 264ms\n",
      "50:\tlearn: 0.8129032\ttest: 0.5974026\tbest: 0.6301370 (33)\ttotal: 100ms\tremaining: 261ms\n",
      "51:\tlearn: 0.8181818\ttest: 0.5789474\tbest: 0.6301370 (33)\ttotal: 102ms\tremaining: 259ms\n",
      "52:\tlearn: 0.8208469\ttest: 0.5866667\tbest: 0.6301370 (33)\ttotal: 103ms\tremaining: 256ms\n",
      "53:\tlearn: 0.8169935\ttest: 0.5866667\tbest: 0.6301370 (33)\ttotal: 105ms\tremaining: 253ms\n",
      "54:\tlearn: 0.8235294\ttest: 0.5866667\tbest: 0.6301370 (33)\ttotal: 107ms\tremaining: 250ms\n",
      "55:\tlearn: 0.8349515\ttest: 0.5866667\tbest: 0.6301370 (33)\ttotal: 108ms\tremaining: 247ms\n",
      "56:\tlearn: 0.8387097\ttest: 0.5789474\tbest: 0.6301370 (33)\ttotal: 110ms\tremaining: 245ms\n",
      "57:\tlearn: 0.8387097\ttest: 0.5789474\tbest: 0.6301370 (33)\ttotal: 113ms\tremaining: 246ms\n",
      "58:\tlearn: 0.8414239\ttest: 0.5789474\tbest: 0.6301370 (33)\ttotal: 115ms\tremaining: 244ms\n",
      "59:\tlearn: 0.8376623\ttest: 0.5789474\tbest: 0.6301370 (33)\ttotal: 118ms\tremaining: 244ms\n",
      "60:\tlearn: 0.8451613\ttest: 0.5789474\tbest: 0.6301370 (33)\ttotal: 120ms\tremaining: 242ms\n",
      "61:\tlearn: 0.8525641\ttest: 0.5789474\tbest: 0.6301370 (33)\ttotal: 122ms\tremaining: 239ms\n",
      "62:\tlearn: 0.8562300\ttest: 0.5789474\tbest: 0.6301370 (33)\ttotal: 123ms\tremaining: 237ms\n",
      "63:\tlearn: 0.8562300\ttest: 0.5789474\tbest: 0.6301370 (33)\ttotal: 125ms\tremaining: 234ms\n",
      "64:\tlearn: 0.8598726\ttest: 0.5789474\tbest: 0.6301370 (33)\ttotal: 126ms\tremaining: 231ms\n",
      "65:\tlearn: 0.8598726\ttest: 0.5789474\tbest: 0.6301370 (33)\ttotal: 128ms\tremaining: 229ms\n",
      "66:\tlearn: 0.8598726\ttest: 0.5789474\tbest: 0.6301370 (33)\ttotal: 130ms\tremaining: 226ms\n",
      "67:\tlearn: 0.8598726\ttest: 0.5789474\tbest: 0.6301370 (33)\ttotal: 131ms\tremaining: 224ms\n",
      "68:\tlearn: 0.8598726\ttest: 0.5789474\tbest: 0.6301370 (33)\ttotal: 134ms\tremaining: 223ms\n",
      "69:\tlearn: 0.8598726\ttest: 0.5789474\tbest: 0.6301370 (33)\ttotal: 136ms\tremaining: 221ms\n",
      "70:\tlearn: 0.8643533\ttest: 0.5789474\tbest: 0.6301370 (33)\ttotal: 137ms\tremaining: 218ms\n",
      "71:\tlearn: 0.8643533\ttest: 0.5789474\tbest: 0.6301370 (33)\ttotal: 139ms\tremaining: 216ms\n",
      "72:\tlearn: 0.8634921\ttest: 0.5974026\tbest: 0.6301370 (33)\ttotal: 142ms\tremaining: 217ms\n",
      "73:\tlearn: 0.8662420\ttest: 0.5974026\tbest: 0.6301370 (33)\ttotal: 147ms\tremaining: 218ms\n",
      "74:\tlearn: 0.8690096\ttest: 0.5974026\tbest: 0.6301370 (33)\ttotal: 151ms\tremaining: 219ms\n",
      "75:\tlearn: 0.8690096\ttest: 0.5974026\tbest: 0.6301370 (33)\ttotal: 154ms\tremaining: 219ms\n",
      "76:\tlearn: 0.8690096\ttest: 0.5974026\tbest: 0.6301370 (33)\ttotal: 157ms\tremaining: 218ms\n",
      "77:\tlearn: 0.8690096\ttest: 0.5974026\tbest: 0.6301370 (33)\ttotal: 159ms\tremaining: 216ms\n",
      "78:\tlearn: 0.8761905\ttest: 0.5974026\tbest: 0.6301370 (33)\ttotal: 161ms\tremaining: 213ms\n",
      "79:\tlearn: 0.8761905\ttest: 0.5974026\tbest: 0.6301370 (33)\ttotal: 162ms\tremaining: 211ms\n",
      "80:\tlearn: 0.8726115\ttest: 0.5974026\tbest: 0.6301370 (33)\ttotal: 164ms\tremaining: 208ms\n",
      "81:\tlearn: 0.8797468\ttest: 0.5974026\tbest: 0.6301370 (33)\ttotal: 165ms\tremaining: 206ms\n",
      "82:\tlearn: 0.8797468\ttest: 0.5974026\tbest: 0.6301370 (33)\ttotal: 167ms\tremaining: 203ms\n",
      "83:\tlearn: 0.8797468\ttest: 0.5974026\tbest: 0.6301370 (33)\ttotal: 170ms\tremaining: 202ms\n",
      "84:\tlearn: 0.8797468\ttest: 0.5974026\tbest: 0.6301370 (33)\ttotal: 172ms\tremaining: 201ms\n",
      "85:\tlearn: 0.8797468\ttest: 0.5974026\tbest: 0.6301370 (33)\ttotal: 174ms\tremaining: 199ms\n",
      "86:\tlearn: 0.8797468\ttest: 0.5974026\tbest: 0.6301370 (33)\ttotal: 176ms\tremaining: 196ms\n",
      "87:\tlearn: 0.8797468\ttest: 0.5974026\tbest: 0.6301370 (33)\ttotal: 178ms\tremaining: 195ms\n",
      "88:\tlearn: 0.8825397\ttest: 0.5974026\tbest: 0.6301370 (33)\ttotal: 180ms\tremaining: 192ms\n",
      "89:\tlearn: 0.8853503\ttest: 0.5974026\tbest: 0.6301370 (33)\ttotal: 182ms\tremaining: 190ms\n",
      "90:\tlearn: 0.8853503\ttest: 0.5974026\tbest: 0.6301370 (33)\ttotal: 183ms\tremaining: 187ms\n",
      "91:\tlearn: 0.8853503\ttest: 0.5974026\tbest: 0.6301370 (33)\ttotal: 185ms\tremaining: 185ms\n",
      "92:\tlearn: 0.8853503\ttest: 0.5974026\tbest: 0.6301370 (33)\ttotal: 187ms\tremaining: 183ms\n",
      "93:\tlearn: 0.8888889\ttest: 0.5974026\tbest: 0.6301370 (33)\ttotal: 189ms\tremaining: 181ms\n",
      "94:\tlearn: 0.8924051\ttest: 0.5974026\tbest: 0.6301370 (33)\ttotal: 191ms\tremaining: 179ms\n",
      "95:\tlearn: 0.8924051\ttest: 0.5974026\tbest: 0.6301370 (33)\ttotal: 193ms\tremaining: 177ms\n",
      "96:\tlearn: 0.8958991\ttest: 0.5974026\tbest: 0.6301370 (33)\ttotal: 194ms\tremaining: 174ms\n",
      "97:\tlearn: 0.9062500\ttest: 0.5974026\tbest: 0.6301370 (33)\ttotal: 196ms\tremaining: 172ms\n",
      "98:\tlearn: 0.9062500\ttest: 0.5974026\tbest: 0.6301370 (33)\ttotal: 200ms\tremaining: 172ms\n",
      "99:\tlearn: 0.9062500\ttest: 0.5974026\tbest: 0.6301370 (33)\ttotal: 202ms\tremaining: 170ms\n",
      "100:\tlearn: 0.9034268\ttest: 0.5974026\tbest: 0.6301370 (33)\ttotal: 203ms\tremaining: 167ms\n",
      "101:\tlearn: 0.9062500\ttest: 0.5974026\tbest: 0.6301370 (33)\ttotal: 205ms\tremaining: 165ms\n",
      "102:\tlearn: 0.9090909\ttest: 0.5974026\tbest: 0.6301370 (33)\ttotal: 207ms\tremaining: 163ms\n",
      "103:\tlearn: 0.9125000\ttest: 0.6052632\tbest: 0.6301370 (33)\ttotal: 209ms\tremaining: 161ms\n",
      "104:\tlearn: 0.9090909\ttest: 0.6052632\tbest: 0.6301370 (33)\ttotal: 210ms\tremaining: 158ms\n",
      "105:\tlearn: 0.9096573\ttest: 0.6052632\tbest: 0.6301370 (33)\ttotal: 212ms\tremaining: 156ms\n",
      "106:\tlearn: 0.9062500\ttest: 0.6052632\tbest: 0.6301370 (33)\ttotal: 214ms\tremaining: 154ms\n",
      "107:\tlearn: 0.9096573\ttest: 0.6052632\tbest: 0.6301370 (33)\ttotal: 215ms\tremaining: 151ms\n",
      "108:\tlearn: 0.9130435\ttest: 0.6052632\tbest: 0.6301370 (33)\ttotal: 217ms\tremaining: 149ms\n",
      "109:\tlearn: 0.9130435\ttest: 0.6052632\tbest: 0.6301370 (33)\ttotal: 218ms\tremaining: 147ms\n",
      "110:\tlearn: 0.9197531\ttest: 0.6052632\tbest: 0.6301370 (33)\ttotal: 221ms\tremaining: 145ms\n",
      "111:\tlearn: 0.9287926\ttest: 0.6052632\tbest: 0.6301370 (33)\ttotal: 225ms\tremaining: 145ms\n",
      "112:\tlearn: 0.9320988\ttest: 0.6052632\tbest: 0.6301370 (33)\ttotal: 228ms\tremaining: 143ms\n",
      "113:\tlearn: 0.9320988\ttest: 0.6052632\tbest: 0.6301370 (33)\ttotal: 231ms\tremaining: 142ms\n",
      "114:\tlearn: 0.9320988\ttest: 0.6052632\tbest: 0.6301370 (33)\ttotal: 234ms\tremaining: 140ms\n",
      "115:\tlearn: 0.9320988\ttest: 0.5789474\tbest: 0.6301370 (33)\ttotal: 237ms\tremaining: 139ms\n",
      "116:\tlearn: 0.9287926\ttest: 0.5974026\tbest: 0.6301370 (33)\ttotal: 240ms\tremaining: 137ms\n",
      "117:\tlearn: 0.9287926\ttest: 0.5974026\tbest: 0.6301370 (33)\ttotal: 242ms\tremaining: 136ms\n",
      "118:\tlearn: 0.9287926\ttest: 0.6153846\tbest: 0.6301370 (33)\ttotal: 246ms\tremaining: 134ms\n",
      "119:\tlearn: 0.9353846\ttest: 0.6153846\tbest: 0.6301370 (33)\ttotal: 248ms\tremaining: 132ms\n",
      "120:\tlearn: 0.9320988\ttest: 0.5974026\tbest: 0.6301370 (33)\ttotal: 249ms\tremaining: 130ms\n",
      "121:\tlearn: 0.9325153\ttest: 0.5974026\tbest: 0.6301370 (33)\ttotal: 251ms\tremaining: 128ms\n",
      "122:\tlearn: 0.9325153\ttest: 0.5897436\tbest: 0.6301370 (33)\ttotal: 253ms\tremaining: 125ms\n",
      "123:\tlearn: 0.9418960\ttest: 0.6075949\tbest: 0.6301370 (33)\ttotal: 256ms\tremaining: 124ms\n",
      "124:\tlearn: 0.9418960\ttest: 0.5897436\tbest: 0.6301370 (33)\ttotal: 259ms\tremaining: 122ms\n",
      "125:\tlearn: 0.9418960\ttest: 0.6153846\tbest: 0.6301370 (33)\ttotal: 261ms\tremaining: 120ms\n",
      "126:\tlearn: 0.9418960\ttest: 0.5974026\tbest: 0.6301370 (33)\ttotal: 263ms\tremaining: 118ms\n",
      "127:\tlearn: 0.9418960\ttest: 0.6153846\tbest: 0.6301370 (33)\ttotal: 264ms\tremaining: 116ms\n",
      "128:\tlearn: 0.9418960\ttest: 0.6153846\tbest: 0.6301370 (33)\ttotal: 266ms\tremaining: 113ms\n",
      "129:\tlearn: 0.9451220\ttest: 0.6153846\tbest: 0.6301370 (33)\ttotal: 268ms\tremaining: 111ms\n",
      "130:\tlearn: 0.9418960\ttest: 0.6153846\tbest: 0.6301370 (33)\ttotal: 270ms\tremaining: 109ms\n",
      "131:\tlearn: 0.9418960\ttest: 0.6153846\tbest: 0.6301370 (33)\ttotal: 271ms\tremaining: 107ms\n",
      "132:\tlearn: 0.9451220\ttest: 0.5974026\tbest: 0.6301370 (33)\ttotal: 273ms\tremaining: 105ms\n",
      "133:\tlearn: 0.9418960\ttest: 0.5897436\tbest: 0.6301370 (33)\ttotal: 274ms\tremaining: 102ms\n",
      "134:\tlearn: 0.9418960\ttest: 0.5897436\tbest: 0.6301370 (33)\ttotal: 276ms\tremaining: 100ms\n",
      "135:\tlearn: 0.9451220\ttest: 0.5974026\tbest: 0.6301370 (33)\ttotal: 278ms\tremaining: 98ms\n",
      "136:\tlearn: 0.9451220\ttest: 0.5974026\tbest: 0.6301370 (33)\ttotal: 279ms\tremaining: 95.8ms\n",
      "137:\tlearn: 0.9451220\ttest: 0.5974026\tbest: 0.6301370 (33)\ttotal: 281ms\tremaining: 93.6ms\n",
      "138:\tlearn: 0.9451220\ttest: 0.5974026\tbest: 0.6301370 (33)\ttotal: 283ms\tremaining: 91.6ms\n",
      "139:\tlearn: 0.9483283\ttest: 0.5974026\tbest: 0.6301370 (33)\ttotal: 286ms\tremaining: 89.8ms\n",
      "140:\tlearn: 0.9483283\ttest: 0.5974026\tbest: 0.6301370 (33)\ttotal: 288ms\tremaining: 87.9ms\n",
      "141:\tlearn: 0.9483283\ttest: 0.5974026\tbest: 0.6301370 (33)\ttotal: 293ms\tremaining: 86.6ms\n",
      "142:\tlearn: 0.9515152\ttest: 0.5974026\tbest: 0.6301370 (33)\ttotal: 296ms\tremaining: 84.9ms\n",
      "143:\tlearn: 0.9515152\ttest: 0.6153846\tbest: 0.6301370 (33)\ttotal: 298ms\tremaining: 82.8ms\n",
      "144:\tlearn: 0.9515152\ttest: 0.6153846\tbest: 0.6301370 (33)\ttotal: 300ms\tremaining: 80.6ms\n",
      "145:\tlearn: 0.9515152\ttest: 0.6075949\tbest: 0.6301370 (33)\ttotal: 301ms\tremaining: 78.4ms\n",
      "146:\tlearn: 0.9515152\ttest: 0.6153846\tbest: 0.6301370 (33)\ttotal: 303ms\tremaining: 76.3ms\n",
      "147:\tlearn: 0.9515152\ttest: 0.6075949\tbest: 0.6301370 (33)\ttotal: 305ms\tremaining: 74.3ms\n",
      "148:\tlearn: 0.9515152\ttest: 0.6250000\tbest: 0.6301370 (33)\ttotal: 307ms\tremaining: 72.1ms\n",
      "149:\tlearn: 0.9515152\ttest: 0.6250000\tbest: 0.6301370 (33)\ttotal: 309ms\tremaining: 70.1ms\n",
      "150:\tlearn: 0.9515152\ttest: 0.6153846\tbest: 0.6301370 (33)\ttotal: 313ms\tremaining: 68.4ms\n",
      "151:\tlearn: 0.9515152\ttest: 0.6075949\tbest: 0.6301370 (33)\ttotal: 316ms\tremaining: 66.6ms\n",
      "152:\tlearn: 0.9544073\ttest: 0.6075949\tbest: 0.6301370 (33)\ttotal: 319ms\tremaining: 64.5ms\n",
      "153:\tlearn: 0.9544073\ttest: 0.6075949\tbest: 0.6301370 (33)\ttotal: 322ms\tremaining: 62.7ms\n",
      "154:\tlearn: 0.9544073\ttest: 0.6075949\tbest: 0.6301370 (33)\ttotal: 326ms\tremaining: 60.9ms\n",
      "155:\tlearn: 0.9544073\ttest: 0.6075949\tbest: 0.6301370 (33)\ttotal: 329ms\tremaining: 59ms\n",
      "156:\tlearn: 0.9544073\ttest: 0.6075949\tbest: 0.6301370 (33)\ttotal: 332ms\tremaining: 57.1ms\n",
      "157:\tlearn: 0.9544073\ttest: 0.6075949\tbest: 0.6301370 (33)\ttotal: 335ms\tremaining: 55.2ms\n",
      "158:\tlearn: 0.9544073\ttest: 0.6075949\tbest: 0.6301370 (33)\ttotal: 339ms\tremaining: 53.4ms\n",
      "159:\tlearn: 0.9544073\ttest: 0.6075949\tbest: 0.6301370 (33)\ttotal: 343ms\tremaining: 51.4ms\n",
      "160:\tlearn: 0.9544073\ttest: 0.6075949\tbest: 0.6301370 (33)\ttotal: 344ms\tremaining: 49.2ms\n",
      "161:\tlearn: 0.9544073\ttest: 0.6075949\tbest: 0.6301370 (33)\ttotal: 347ms\tremaining: 47.1ms\n",
      "162:\tlearn: 0.9607251\ttest: 0.6075949\tbest: 0.6301370 (33)\ttotal: 350ms\tremaining: 45.1ms\n",
      "163:\tlearn: 0.9607251\ttest: 0.6075949\tbest: 0.6301370 (33)\ttotal: 352ms\tremaining: 42.9ms\n",
      "164:\tlearn: 0.9575758\ttest: 0.6075949\tbest: 0.6301370 (33)\ttotal: 356ms\tremaining: 40.9ms\n",
      "165:\tlearn: 0.9575758\ttest: 0.6075949\tbest: 0.6301370 (33)\ttotal: 358ms\tremaining: 38.8ms\n",
      "166:\tlearn: 0.9575758\ttest: 0.6075949\tbest: 0.6301370 (33)\ttotal: 360ms\tremaining: 36.6ms\n",
      "167:\tlearn: 0.9636364\ttest: 0.6075949\tbest: 0.6301370 (33)\ttotal: 364ms\tremaining: 34.6ms\n",
      "168:\tlearn: 0.9636364\ttest: 0.6075949\tbest: 0.6301370 (33)\ttotal: 366ms\tremaining: 32.5ms\n",
      "169:\tlearn: 0.9636364\ttest: 0.6075949\tbest: 0.6301370 (33)\ttotal: 371ms\tremaining: 30.5ms\n",
      "170:\tlearn: 0.9636364\ttest: 0.6075949\tbest: 0.6301370 (33)\ttotal: 375ms\tremaining: 28.5ms\n",
      "171:\tlearn: 0.9667674\ttest: 0.6075949\tbest: 0.6301370 (33)\ttotal: 381ms\tremaining: 26.6ms\n",
      "172:\tlearn: 0.9667674\ttest: 0.6075949\tbest: 0.6301370 (33)\ttotal: 383ms\tremaining: 24.4ms\n",
      "173:\tlearn: 0.9698795\ttest: 0.6075949\tbest: 0.6301370 (33)\ttotal: 386ms\tremaining: 22.2ms\n",
      "174:\tlearn: 0.9669670\ttest: 0.6153846\tbest: 0.6301370 (33)\ttotal: 388ms\tremaining: 20ms\n",
      "175:\tlearn: 0.9729730\ttest: 0.6153846\tbest: 0.6301370 (33)\ttotal: 390ms\tremaining: 17.7ms\n",
      "176:\tlearn: 0.9759036\ttest: 0.6153846\tbest: 0.6301370 (33)\ttotal: 391ms\tremaining: 15.5ms\n",
      "177:\tlearn: 0.9759036\ttest: 0.6153846\tbest: 0.6301370 (33)\ttotal: 393ms\tremaining: 13.2ms\n",
      "178:\tlearn: 0.9729730\ttest: 0.6153846\tbest: 0.6301370 (33)\ttotal: 395ms\tremaining: 11ms\n",
      "179:\tlearn: 0.9759036\ttest: 0.6153846\tbest: 0.6301370 (33)\ttotal: 396ms\tremaining: 8.8ms\n",
      "180:\tlearn: 0.9759036\ttest: 0.6153846\tbest: 0.6301370 (33)\ttotal: 400ms\tremaining: 6.62ms\n",
      "181:\tlearn: 0.9789790\ttest: 0.6153846\tbest: 0.6301370 (33)\ttotal: 404ms\tremaining: 4.44ms\n",
      "182:\tlearn: 0.9789790\ttest: 0.6329114\tbest: 0.6329114 (182)\ttotal: 407ms\tremaining: 2.22ms\n",
      "183:\tlearn: 0.9789790\ttest: 0.6329114\tbest: 0.6329114 (182)\ttotal: 409ms\tremaining: 0us\n",
      "\n",
      "bestTest = 0.6329113924\n",
      "bestIteration = 182\n",
      "\n",
      "Training on fold [3/5]\n",
      "0:\tlearn: 0.5101215\ttest: 0.4745763\tbest: 0.4745763 (0)\ttotal: 4ms\tremaining: 732ms\n",
      "1:\tlearn: 0.6626506\ttest: 0.7160494\tbest: 0.7160494 (1)\ttotal: 5.75ms\tremaining: 524ms\n",
      "2:\tlearn: 0.6513158\ttest: 0.7435897\tbest: 0.7435897 (2)\ttotal: 7.35ms\tremaining: 443ms\n",
      "3:\tlearn: 0.6228374\ttest: 0.6666667\tbest: 0.7435897 (2)\ttotal: 8.94ms\tremaining: 402ms\n",
      "4:\tlearn: 0.6397306\ttest: 0.6933333\tbest: 0.7435897 (2)\ttotal: 10.6ms\tremaining: 378ms\n",
      "5:\tlearn: 0.6297578\ttest: 0.6756757\tbest: 0.7435897 (2)\ttotal: 12.1ms\tremaining: 360ms\n",
      "6:\tlearn: 0.6341463\ttest: 0.6756757\tbest: 0.7435897 (2)\ttotal: 13.7ms\tremaining: 347ms\n",
      "7:\tlearn: 0.6315789\ttest: 0.6756757\tbest: 0.7435897 (2)\ttotal: 15.3ms\tremaining: 336ms\n",
      "8:\tlearn: 0.6319444\ttest: 0.6933333\tbest: 0.7435897 (2)\ttotal: 16.9ms\tremaining: 329ms\n",
      "9:\tlearn: 0.6297578\ttest: 0.7200000\tbest: 0.7435897 (2)\ttotal: 18.7ms\tremaining: 325ms\n",
      "10:\tlearn: 0.6388889\ttest: 0.7123288\tbest: 0.7435897 (2)\ttotal: 20.4ms\tremaining: 321ms\n",
      "11:\tlearn: 0.6526316\ttest: 0.7200000\tbest: 0.7435897 (2)\ttotal: 22ms\tremaining: 316ms\n",
      "12:\tlearn: 0.6526316\ttest: 0.7466667\tbest: 0.7466667 (12)\ttotal: 23.7ms\tremaining: 312ms\n",
      "13:\tlearn: 0.6619217\ttest: 0.7397260\tbest: 0.7466667 (12)\ttotal: 26.3ms\tremaining: 319ms\n",
      "14:\tlearn: 0.6736842\ttest: 0.7323944\tbest: 0.7466667 (12)\ttotal: 28.2ms\tremaining: 317ms\n",
      "15:\tlearn: 0.6714286\ttest: 0.7500000\tbest: 0.7500000 (15)\ttotal: 29.8ms\tremaining: 313ms\n",
      "16:\tlearn: 0.6714286\ttest: 0.7323944\tbest: 0.7500000 (15)\ttotal: 31.4ms\tremaining: 309ms\n",
      "17:\tlearn: 0.6784452\ttest: 0.7323944\tbest: 0.7500000 (15)\ttotal: 33.1ms\tremaining: 305ms\n",
      "18:\tlearn: 0.6810036\ttest: 0.7042254\tbest: 0.7500000 (15)\ttotal: 34.7ms\tremaining: 302ms\n",
      "19:\tlearn: 0.6785714\ttest: 0.7397260\tbest: 0.7500000 (15)\ttotal: 36.3ms\tremaining: 298ms\n",
      "20:\tlearn: 0.6947368\ttest: 0.7123288\tbest: 0.7500000 (15)\ttotal: 38ms\tremaining: 295ms\n",
      "21:\tlearn: 0.7083333\ttest: 0.7123288\tbest: 0.7500000 (15)\ttotal: 40.1ms\tremaining: 295ms\n",
      "22:\tlearn: 0.7038328\ttest: 0.7123288\tbest: 0.7500000 (15)\ttotal: 41.7ms\tremaining: 292ms\n",
      "23:\tlearn: 0.7112676\ttest: 0.7123288\tbest: 0.7500000 (15)\ttotal: 43.3ms\tremaining: 289ms\n",
      "24:\tlearn: 0.7108014\ttest: 0.7123288\tbest: 0.7500000 (15)\ttotal: 45ms\tremaining: 286ms\n",
      "25:\tlearn: 0.7108014\ttest: 0.7123288\tbest: 0.7500000 (15)\ttotal: 46.5ms\tremaining: 283ms\n",
      "26:\tlearn: 0.7137809\ttest: 0.7123288\tbest: 0.7500000 (15)\ttotal: 48.1ms\tremaining: 280ms\n",
      "27:\tlearn: 0.7222222\ttest: 0.7297297\tbest: 0.7500000 (15)\ttotal: 49.7ms\tremaining: 277ms\n",
      "28:\tlearn: 0.7241379\ttest: 0.7200000\tbest: 0.7500000 (15)\ttotal: 51.3ms\tremaining: 274ms\n",
      "29:\tlearn: 0.7379310\ttest: 0.7027027\tbest: 0.7500000 (15)\ttotal: 54.2ms\tremaining: 278ms\n",
      "30:\tlearn: 0.7291667\ttest: 0.7027027\tbest: 0.7500000 (15)\ttotal: 56.1ms\tremaining: 277ms\n",
      "31:\tlearn: 0.7335640\ttest: 0.7027027\tbest: 0.7500000 (15)\ttotal: 58ms\tremaining: 276ms\n",
      "32:\tlearn: 0.7335640\ttest: 0.7200000\tbest: 0.7500000 (15)\ttotal: 59.8ms\tremaining: 274ms\n",
      "33:\tlearn: 0.7517241\ttest: 0.6933333\tbest: 0.7500000 (15)\ttotal: 61.4ms\tremaining: 271ms\n",
      "34:\tlearn: 0.7576792\ttest: 0.7368421\tbest: 0.7500000 (15)\ttotal: 63ms\tremaining: 268ms\n",
      "35:\tlearn: 0.7619048\ttest: 0.7368421\tbest: 0.7500000 (15)\ttotal: 64.6ms\tremaining: 266ms\n",
      "36:\tlearn: 0.7785235\ttest: 0.7272727\tbest: 0.7500000 (15)\ttotal: 66.2ms\tremaining: 263ms\n",
      "37:\tlearn: 0.7785235\ttest: 0.7272727\tbest: 0.7500000 (15)\ttotal: 67.9ms\tremaining: 261ms\n",
      "38:\tlearn: 0.7826087\ttest: 0.7272727\tbest: 0.7500000 (15)\ttotal: 69.5ms\tremaining: 258ms\n",
      "39:\tlearn: 0.7785235\ttest: 0.7272727\tbest: 0.7500000 (15)\ttotal: 71.1ms\tremaining: 256ms\n",
      "40:\tlearn: 0.7826087\ttest: 0.7272727\tbest: 0.7500000 (15)\ttotal: 72.7ms\tremaining: 254ms\n",
      "41:\tlearn: 0.7800000\ttest: 0.7368421\tbest: 0.7500000 (15)\ttotal: 74.4ms\tremaining: 251ms\n",
      "42:\tlearn: 0.7840532\ttest: 0.7368421\tbest: 0.7500000 (15)\ttotal: 75.9ms\tremaining: 249ms\n",
      "43:\tlearn: 0.7960526\ttest: 0.7368421\tbest: 0.7500000 (15)\ttotal: 77.4ms\tremaining: 246ms\n",
      "44:\tlearn: 0.7894737\ttest: 0.7368421\tbest: 0.7500000 (15)\ttotal: 79ms\tremaining: 244ms\n",
      "45:\tlearn: 0.7973856\ttest: 0.7368421\tbest: 0.7500000 (15)\ttotal: 80.6ms\tremaining: 242ms\n",
      "46:\tlearn: 0.7934426\ttest: 0.7368421\tbest: 0.7500000 (15)\ttotal: 82.9ms\tremaining: 242ms\n",
      "47:\tlearn: 0.7934426\ttest: 0.7532468\tbest: 0.7532468 (47)\ttotal: 84.6ms\tremaining: 240ms\n",
      "48:\tlearn: 0.7934426\ttest: 0.7532468\tbest: 0.7532468 (47)\ttotal: 86.2ms\tremaining: 237ms\n",
      "49:\tlearn: 0.7947020\ttest: 0.7435897\tbest: 0.7532468 (47)\ttotal: 87.8ms\tremaining: 235ms\n",
      "50:\tlearn: 0.8039867\ttest: 0.7435897\tbest: 0.7532468 (47)\ttotal: 89.3ms\tremaining: 233ms\n",
      "51:\tlearn: 0.8157895\ttest: 0.7435897\tbest: 0.7532468 (47)\ttotal: 90.9ms\tremaining: 231ms\n",
      "52:\tlearn: 0.8196721\ttest: 0.7435897\tbest: 0.7532468 (47)\ttotal: 92.6ms\tremaining: 229ms\n",
      "53:\tlearn: 0.8092105\ttest: 0.7435897\tbest: 0.7532468 (47)\ttotal: 94.2ms\tremaining: 227ms\n",
      "54:\tlearn: 0.8052805\ttest: 0.7435897\tbest: 0.7532468 (47)\ttotal: 96.4ms\tremaining: 226ms\n",
      "55:\tlearn: 0.8169935\ttest: 0.7179487\tbest: 0.7532468 (47)\ttotal: 98.2ms\tremaining: 224ms\n",
      "56:\tlearn: 0.8208469\ttest: 0.7179487\tbest: 0.7532468 (47)\ttotal: 99.9ms\tremaining: 222ms\n",
      "57:\tlearn: 0.8311688\ttest: 0.7179487\tbest: 0.7532468 (47)\ttotal: 101ms\tremaining: 220ms\n",
      "58:\tlearn: 0.8349515\ttest: 0.6842105\tbest: 0.7532468 (47)\ttotal: 103ms\tremaining: 218ms\n",
      "59:\tlearn: 0.8387097\ttest: 0.6933333\tbest: 0.7532468 (47)\ttotal: 105ms\tremaining: 217ms\n",
      "60:\tlearn: 0.8376623\ttest: 0.6933333\tbest: 0.7532468 (47)\ttotal: 106ms\tremaining: 214ms\n",
      "61:\tlearn: 0.8387097\ttest: 0.7105263\tbest: 0.7532468 (47)\ttotal: 108ms\tremaining: 212ms\n",
      "62:\tlearn: 0.8478964\ttest: 0.7012987\tbest: 0.7532468 (47)\ttotal: 110ms\tremaining: 210ms\n",
      "63:\tlearn: 0.8414239\ttest: 0.6842105\tbest: 0.7532468 (47)\ttotal: 112ms\tremaining: 210ms\n",
      "64:\tlearn: 0.8553055\ttest: 0.7012987\tbest: 0.7532468 (47)\ttotal: 114ms\tremaining: 209ms\n",
      "65:\tlearn: 0.8626198\ttest: 0.7012987\tbest: 0.7532468 (47)\ttotal: 116ms\tremaining: 207ms\n",
      "66:\tlearn: 0.8653846\ttest: 0.7179487\tbest: 0.7532468 (47)\ttotal: 117ms\tremaining: 205ms\n",
      "67:\tlearn: 0.8617363\ttest: 0.7012987\tbest: 0.7532468 (47)\ttotal: 119ms\tremaining: 203ms\n",
      "68:\tlearn: 0.8726115\ttest: 0.7012987\tbest: 0.7532468 (47)\ttotal: 121ms\tremaining: 201ms\n",
      "69:\tlearn: 0.8797468\ttest: 0.6842105\tbest: 0.7532468 (47)\ttotal: 122ms\tremaining: 199ms\n",
      "70:\tlearn: 0.8825397\ttest: 0.6842105\tbest: 0.7532468 (47)\ttotal: 124ms\tremaining: 197ms\n",
      "71:\tlearn: 0.8860759\ttest: 0.6842105\tbest: 0.7532468 (47)\ttotal: 125ms\tremaining: 195ms\n",
      "72:\tlearn: 0.8895899\ttest: 0.6753247\tbest: 0.7532468 (47)\ttotal: 127ms\tremaining: 194ms\n",
      "73:\tlearn: 0.8958991\ttest: 0.6493506\tbest: 0.7532468 (47)\ttotal: 130ms\tremaining: 193ms\n",
      "74:\tlearn: 0.9028213\ttest: 0.6493506\tbest: 0.7532468 (47)\ttotal: 133ms\tremaining: 193ms\n",
      "75:\tlearn: 0.9028213\ttest: 0.6493506\tbest: 0.7532468 (47)\ttotal: 134ms\tremaining: 191ms\n",
      "76:\tlearn: 0.8993711\ttest: 0.6493506\tbest: 0.7532468 (47)\ttotal: 136ms\tremaining: 189ms\n",
      "77:\tlearn: 0.8993711\ttest: 0.6315789\tbest: 0.7532468 (47)\ttotal: 138ms\tremaining: 187ms\n",
      "78:\tlearn: 0.8924051\ttest: 0.6493506\tbest: 0.7532468 (47)\ttotal: 140ms\tremaining: 187ms\n",
      "79:\tlearn: 0.8958991\ttest: 0.6493506\tbest: 0.7532468 (47)\ttotal: 142ms\tremaining: 185ms\n",
      "80:\tlearn: 0.8924051\ttest: 0.6753247\tbest: 0.7532468 (47)\ttotal: 144ms\tremaining: 183ms\n",
      "81:\tlearn: 0.8958991\ttest: 0.6753247\tbest: 0.7532468 (47)\ttotal: 145ms\tremaining: 181ms\n",
      "82:\tlearn: 0.8993711\ttest: 0.6666667\tbest: 0.7532468 (47)\ttotal: 147ms\tremaining: 179ms\n",
      "83:\tlearn: 0.9028213\ttest: 0.6666667\tbest: 0.7532468 (47)\ttotal: 149ms\tremaining: 177ms\n",
      "84:\tlearn: 0.9028213\ttest: 0.6666667\tbest: 0.7532468 (47)\ttotal: 150ms\tremaining: 175ms\n",
      "85:\tlearn: 0.9028213\ttest: 0.6666667\tbest: 0.7532468 (47)\ttotal: 152ms\tremaining: 173ms\n",
      "86:\tlearn: 0.9062500\ttest: 0.6923077\tbest: 0.7532468 (47)\ttotal: 154ms\tremaining: 172ms\n",
      "87:\tlearn: 0.8993711\ttest: 0.6923077\tbest: 0.7532468 (47)\ttotal: 156ms\tremaining: 170ms\n",
      "88:\tlearn: 0.9062500\ttest: 0.6923077\tbest: 0.7532468 (47)\ttotal: 158ms\tremaining: 168ms\n",
      "89:\tlearn: 0.9096573\ttest: 0.6923077\tbest: 0.7532468 (47)\ttotal: 159ms\tremaining: 166ms\n",
      "90:\tlearn: 0.9096573\ttest: 0.6923077\tbest: 0.7532468 (47)\ttotal: 161ms\tremaining: 164ms\n",
      "91:\tlearn: 0.9130435\ttest: 0.6923077\tbest: 0.7532468 (47)\ttotal: 162ms\tremaining: 162ms\n",
      "92:\tlearn: 0.9130435\ttest: 0.6923077\tbest: 0.7532468 (47)\ttotal: 164ms\tremaining: 160ms\n",
      "93:\tlearn: 0.9130435\ttest: 0.7088608\tbest: 0.7532468 (47)\ttotal: 165ms\tremaining: 158ms\n",
      "94:\tlearn: 0.9164087\ttest: 0.7088608\tbest: 0.7532468 (47)\ttotal: 169ms\tremaining: 158ms\n",
      "95:\tlearn: 0.9164087\ttest: 0.7088608\tbest: 0.7532468 (47)\ttotal: 172ms\tremaining: 158ms\n",
      "96:\tlearn: 0.9164087\ttest: 0.7088608\tbest: 0.7532468 (47)\ttotal: 175ms\tremaining: 157ms\n",
      "97:\tlearn: 0.9197531\ttest: 0.7088608\tbest: 0.7532468 (47)\ttotal: 178ms\tremaining: 156ms\n",
      "98:\tlearn: 0.9197531\ttest: 0.7088608\tbest: 0.7532468 (47)\ttotal: 180ms\tremaining: 155ms\n",
      "99:\tlearn: 0.9197531\ttest: 0.7088608\tbest: 0.7532468 (47)\ttotal: 182ms\tremaining: 153ms\n",
      "100:\tlearn: 0.9197531\ttest: 0.7088608\tbest: 0.7532468 (47)\ttotal: 184ms\tremaining: 151ms\n",
      "101:\tlearn: 0.9230769\ttest: 0.7250000\tbest: 0.7532468 (47)\ttotal: 185ms\tremaining: 149ms\n",
      "102:\tlearn: 0.9230769\ttest: 0.7088608\tbest: 0.7532468 (47)\ttotal: 187ms\tremaining: 147ms\n",
      "103:\tlearn: 0.9230769\ttest: 0.7088608\tbest: 0.7532468 (47)\ttotal: 189ms\tremaining: 145ms\n",
      "104:\tlearn: 0.9230769\ttest: 0.7088608\tbest: 0.7532468 (47)\ttotal: 190ms\tremaining: 143ms\n",
      "105:\tlearn: 0.9230769\ttest: 0.7088608\tbest: 0.7532468 (47)\ttotal: 192ms\tremaining: 141ms\n",
      "106:\tlearn: 0.9263804\ttest: 0.7088608\tbest: 0.7532468 (47)\ttotal: 193ms\tremaining: 139ms\n",
      "107:\tlearn: 0.9263804\ttest: 0.7088608\tbest: 0.7532468 (47)\ttotal: 196ms\tremaining: 138ms\n",
      "108:\tlearn: 0.9263804\ttest: 0.7250000\tbest: 0.7532468 (47)\ttotal: 199ms\tremaining: 137ms\n",
      "109:\tlearn: 0.9263804\ttest: 0.7160494\tbest: 0.7532468 (47)\ttotal: 201ms\tremaining: 135ms\n",
      "110:\tlearn: 0.9263804\ttest: 0.7000000\tbest: 0.7532468 (47)\ttotal: 203ms\tremaining: 133ms\n",
      "111:\tlearn: 0.9263804\ttest: 0.7000000\tbest: 0.7532468 (47)\ttotal: 204ms\tremaining: 131ms\n",
      "112:\tlearn: 0.9296636\ttest: 0.7000000\tbest: 0.7532468 (47)\ttotal: 206ms\tremaining: 129ms\n",
      "113:\tlearn: 0.9263804\ttest: 0.7000000\tbest: 0.7532468 (47)\ttotal: 207ms\tremaining: 127ms\n",
      "114:\tlearn: 0.9263804\ttest: 0.7000000\tbest: 0.7532468 (47)\ttotal: 209ms\tremaining: 125ms\n",
      "115:\tlearn: 0.9263804\ttest: 0.7000000\tbest: 0.7532468 (47)\ttotal: 211ms\tremaining: 123ms\n",
      "116:\tlearn: 0.9263804\ttest: 0.6829268\tbest: 0.7532468 (47)\ttotal: 212ms\tremaining: 122ms\n",
      "117:\tlearn: 0.9296636\ttest: 0.6829268\tbest: 0.7532468 (47)\ttotal: 214ms\tremaining: 120ms\n",
      "118:\tlearn: 0.9296636\ttest: 0.6829268\tbest: 0.7532468 (47)\ttotal: 215ms\tremaining: 118ms\n",
      "119:\tlearn: 0.9296636\ttest: 0.6829268\tbest: 0.7532468 (47)\ttotal: 217ms\tremaining: 116ms\n",
      "120:\tlearn: 0.9393939\ttest: 0.6829268\tbest: 0.7532468 (47)\ttotal: 219ms\tremaining: 114ms\n",
      "121:\tlearn: 0.9393939\ttest: 0.6913580\tbest: 0.7532468 (47)\ttotal: 220ms\tremaining: 112ms\n",
      "122:\tlearn: 0.9393939\ttest: 0.6913580\tbest: 0.7532468 (47)\ttotal: 222ms\tremaining: 110ms\n",
      "123:\tlearn: 0.9393939\ttest: 0.6913580\tbest: 0.7532468 (47)\ttotal: 223ms\tremaining: 108ms\n",
      "124:\tlearn: 0.9390244\ttest: 0.7073171\tbest: 0.7532468 (47)\ttotal: 226ms\tremaining: 107ms\n",
      "125:\tlearn: 0.9422492\ttest: 0.7073171\tbest: 0.7532468 (47)\ttotal: 228ms\tremaining: 105ms\n",
      "126:\tlearn: 0.9422492\ttest: 0.7073171\tbest: 0.7532468 (47)\ttotal: 230ms\tremaining: 103ms\n",
      "127:\tlearn: 0.9422492\ttest: 0.7073171\tbest: 0.7532468 (47)\ttotal: 231ms\tremaining: 101ms\n",
      "128:\tlearn: 0.9422492\ttest: 0.7073171\tbest: 0.7532468 (47)\ttotal: 234ms\tremaining: 99.7ms\n",
      "129:\tlearn: 0.9422492\ttest: 0.7073171\tbest: 0.7532468 (47)\ttotal: 236ms\tremaining: 97.9ms\n",
      "130:\tlearn: 0.9422492\ttest: 0.7073171\tbest: 0.7532468 (47)\ttotal: 237ms\tremaining: 96ms\n",
      "131:\tlearn: 0.9422492\ttest: 0.6987952\tbest: 0.7532468 (47)\ttotal: 239ms\tremaining: 94.1ms\n",
      "132:\tlearn: 0.9454545\ttest: 0.6987952\tbest: 0.7532468 (47)\ttotal: 241ms\tremaining: 92.3ms\n",
      "133:\tlearn: 0.9454545\ttest: 0.6987952\tbest: 0.7532468 (47)\ttotal: 242ms\tremaining: 90.5ms\n",
      "134:\tlearn: 0.9486405\ttest: 0.6987952\tbest: 0.7532468 (47)\ttotal: 244ms\tremaining: 88.7ms\n",
      "135:\tlearn: 0.9486405\ttest: 0.6987952\tbest: 0.7532468 (47)\ttotal: 247ms\tremaining: 87.1ms\n",
      "136:\tlearn: 0.9518072\ttest: 0.6987952\tbest: 0.7532468 (47)\ttotal: 248ms\tremaining: 85.2ms\n",
      "137:\tlearn: 0.9518072\ttest: 0.6987952\tbest: 0.7532468 (47)\ttotal: 250ms\tremaining: 83.3ms\n",
      "138:\tlearn: 0.9518072\ttest: 0.7073171\tbest: 0.7532468 (47)\ttotal: 251ms\tremaining: 81.4ms\n",
      "139:\tlearn: 0.9518072\ttest: 0.7073171\tbest: 0.7532468 (47)\ttotal: 255ms\tremaining: 80.3ms\n",
      "140:\tlearn: 0.9549550\ttest: 0.7073171\tbest: 0.7532468 (47)\ttotal: 257ms\tremaining: 78.4ms\n",
      "141:\tlearn: 0.9580838\ttest: 0.7073171\tbest: 0.7532468 (47)\ttotal: 259ms\tremaining: 76.5ms\n",
      "142:\tlearn: 0.9580838\ttest: 0.6987952\tbest: 0.7532468 (47)\ttotal: 261ms\tremaining: 74.8ms\n",
      "143:\tlearn: 0.9580838\ttest: 0.6987952\tbest: 0.7532468 (47)\ttotal: 262ms\tremaining: 72.9ms\n",
      "144:\tlearn: 0.9580838\ttest: 0.6987952\tbest: 0.7532468 (47)\ttotal: 264ms\tremaining: 71ms\n",
      "145:\tlearn: 0.9580838\ttest: 0.6987952\tbest: 0.7532468 (47)\ttotal: 266ms\tremaining: 69.1ms\n",
      "146:\tlearn: 0.9611940\ttest: 0.6987952\tbest: 0.7532468 (47)\ttotal: 267ms\tremaining: 67.3ms\n",
      "147:\tlearn: 0.9611940\ttest: 0.6987952\tbest: 0.7532468 (47)\ttotal: 269ms\tremaining: 65.6ms\n",
      "148:\tlearn: 0.9580838\ttest: 0.7073171\tbest: 0.7532468 (47)\ttotal: 271ms\tremaining: 63.7ms\n",
      "149:\tlearn: 0.9580838\ttest: 0.7073171\tbest: 0.7532468 (47)\ttotal: 273ms\tremaining: 61.8ms\n",
      "150:\tlearn: 0.9611940\ttest: 0.6987952\tbest: 0.7532468 (47)\ttotal: 275ms\tremaining: 60.1ms\n",
      "151:\tlearn: 0.9642857\ttest: 0.6987952\tbest: 0.7532468 (47)\ttotal: 277ms\tremaining: 58.2ms\n",
      "152:\tlearn: 0.9673591\ttest: 0.6987952\tbest: 0.7532468 (47)\ttotal: 278ms\tremaining: 56.4ms\n",
      "153:\tlearn: 0.9673591\ttest: 0.6987952\tbest: 0.7532468 (47)\ttotal: 280ms\tremaining: 54.5ms\n",
      "154:\tlearn: 0.9702381\ttest: 0.6987952\tbest: 0.7532468 (47)\ttotal: 282ms\tremaining: 52.8ms\n",
      "155:\tlearn: 0.9671642\ttest: 0.6987952\tbest: 0.7532468 (47)\ttotal: 285ms\tremaining: 51.2ms\n",
      "156:\tlearn: 0.9671642\ttest: 0.6829268\tbest: 0.7532468 (47)\ttotal: 287ms\tremaining: 49.3ms\n",
      "157:\tlearn: 0.9638554\ttest: 0.6829268\tbest: 0.7532468 (47)\ttotal: 288ms\tremaining: 47.4ms\n",
      "158:\tlearn: 0.9731343\ttest: 0.6829268\tbest: 0.7532468 (47)\ttotal: 290ms\tremaining: 45.6ms\n",
      "159:\tlearn: 0.9700599\ttest: 0.6829268\tbest: 0.7532468 (47)\ttotal: 292ms\tremaining: 43.7ms\n",
      "160:\tlearn: 0.9700599\ttest: 0.6829268\tbest: 0.7532468 (47)\ttotal: 293ms\tremaining: 41.9ms\n",
      "161:\tlearn: 0.9700599\ttest: 0.6987952\tbest: 0.7532468 (47)\ttotal: 295ms\tremaining: 40ms\n",
      "162:\tlearn: 0.9761905\ttest: 0.6585366\tbest: 0.7532468 (47)\ttotal: 296ms\tremaining: 38.2ms\n",
      "163:\tlearn: 0.9731343\ttest: 0.6585366\tbest: 0.7532468 (47)\ttotal: 298ms\tremaining: 36.3ms\n",
      "164:\tlearn: 0.9700599\ttest: 0.6746988\tbest: 0.7532468 (47)\ttotal: 300ms\tremaining: 34.5ms\n",
      "165:\tlearn: 0.9700599\ttest: 0.6746988\tbest: 0.7532468 (47)\ttotal: 301ms\tremaining: 32.6ms\n",
      "166:\tlearn: 0.9700599\ttest: 0.6746988\tbest: 0.7532468 (47)\ttotal: 303ms\tremaining: 30.8ms\n",
      "167:\tlearn: 0.9731343\ttest: 0.6746988\tbest: 0.7532468 (47)\ttotal: 304ms\tremaining: 29ms\n",
      "168:\tlearn: 0.9700599\ttest: 0.6746988\tbest: 0.7532468 (47)\ttotal: 306ms\tremaining: 27.1ms\n",
      "169:\tlearn: 0.9700599\ttest: 0.6585366\tbest: 0.7532468 (47)\ttotal: 307ms\tremaining: 25.3ms\n",
      "170:\tlearn: 0.9700599\ttest: 0.6746988\tbest: 0.7532468 (47)\ttotal: 309ms\tremaining: 23.5ms\n",
      "171:\tlearn: 0.9731343\ttest: 0.6746988\tbest: 0.7532468 (47)\ttotal: 312ms\tremaining: 21.8ms\n",
      "172:\tlearn: 0.9761905\ttest: 0.6746988\tbest: 0.7532468 (47)\ttotal: 314ms\tremaining: 20ms\n",
      "173:\tlearn: 0.9761905\ttest: 0.6746988\tbest: 0.7532468 (47)\ttotal: 316ms\tremaining: 18.1ms\n",
      "174:\tlearn: 0.9761905\ttest: 0.6746988\tbest: 0.7532468 (47)\ttotal: 317ms\tremaining: 16.3ms\n",
      "175:\tlearn: 0.9761905\ttest: 0.6746988\tbest: 0.7532468 (47)\ttotal: 319ms\tremaining: 14.5ms\n",
      "176:\tlearn: 0.9761905\ttest: 0.6746988\tbest: 0.7532468 (47)\ttotal: 320ms\tremaining: 12.7ms\n",
      "177:\tlearn: 0.9761905\ttest: 0.6746988\tbest: 0.7532468 (47)\ttotal: 322ms\tremaining: 10.9ms\n",
      "178:\tlearn: 0.9761905\ttest: 0.6746988\tbest: 0.7532468 (47)\ttotal: 324ms\tremaining: 9.04ms\n",
      "179:\tlearn: 0.9761905\ttest: 0.6904762\tbest: 0.7532468 (47)\ttotal: 325ms\tremaining: 7.22ms\n",
      "180:\tlearn: 0.9761905\ttest: 0.6904762\tbest: 0.7532468 (47)\ttotal: 327ms\tremaining: 5.42ms\n",
      "181:\tlearn: 0.9761905\ttest: 0.6904762\tbest: 0.7532468 (47)\ttotal: 328ms\tremaining: 3.61ms\n",
      "182:\tlearn: 0.9761905\ttest: 0.6904762\tbest: 0.7532468 (47)\ttotal: 330ms\tremaining: 1.8ms\n",
      "183:\tlearn: 0.9761905\ttest: 0.6904762\tbest: 0.7532468 (47)\ttotal: 332ms\tremaining: 0us\n",
      "\n",
      "bestTest = 0.7532467532\n",
      "bestIteration = 47\n",
      "\n",
      "Training on fold [4/5]\n",
      "0:\tlearn: 0.6622951\ttest: 0.5813953\tbest: 0.5813953 (0)\ttotal: 1.69ms\tremaining: 310ms\n",
      "1:\tlearn: 0.6644518\ttest: 0.5714286\tbest: 0.5813953 (0)\ttotal: 4.51ms\tremaining: 411ms\n",
      "2:\tlearn: 0.6819672\ttest: 0.5476190\tbest: 0.5813953 (0)\ttotal: 6.29ms\tremaining: 380ms\n",
      "3:\tlearn: 0.6940063\ttest: 0.5348837\tbest: 0.5813953 (0)\ttotal: 7.89ms\tremaining: 355ms\n",
      "4:\tlearn: 0.6840391\ttest: 0.5581395\tbest: 0.5813953 (0)\ttotal: 9.48ms\tremaining: 340ms\n",
      "5:\tlearn: 0.6797386\ttest: 0.6024096\tbest: 0.6024096 (5)\ttotal: 11.1ms\tremaining: 329ms\n",
      "6:\tlearn: 0.6775244\ttest: 0.5952381\tbest: 0.6024096 (5)\ttotal: 12.7ms\tremaining: 322ms\n",
      "7:\tlearn: 0.6776316\ttest: 0.6000000\tbest: 0.6024096 (5)\ttotal: 14.3ms\tremaining: 315ms\n",
      "8:\tlearn: 0.6842105\ttest: 0.6000000\tbest: 0.6024096 (5)\ttotal: 17.4ms\tremaining: 338ms\n",
      "9:\tlearn: 0.6928105\ttest: 0.6000000\tbest: 0.6024096 (5)\ttotal: 19.4ms\tremaining: 338ms\n",
      "10:\tlearn: 0.6907895\ttest: 0.5897436\tbest: 0.6024096 (5)\ttotal: 21.6ms\tremaining: 339ms\n",
      "11:\tlearn: 0.7016393\ttest: 0.6024096\tbest: 0.6024096 (5)\ttotal: 23.3ms\tremaining: 334ms\n",
      "12:\tlearn: 0.7081967\ttest: 0.5783133\tbest: 0.6024096 (5)\ttotal: 25ms\tremaining: 329ms\n",
      "13:\tlearn: 0.7105263\ttest: 0.5679012\tbest: 0.6024096 (5)\ttotal: 26.7ms\tremaining: 324ms\n",
      "14:\tlearn: 0.7189542\ttest: 0.5542169\tbest: 0.6024096 (5)\ttotal: 29.4ms\tremaining: 331ms\n",
      "15:\tlearn: 0.7105263\ttest: 0.5432099\tbest: 0.6024096 (5)\ttotal: 32.4ms\tremaining: 341ms\n",
      "16:\tlearn: 0.7105263\ttest: 0.5641026\tbest: 0.6024096 (5)\ttotal: 34.1ms\tremaining: 335ms\n",
      "17:\tlearn: 0.7105263\ttest: 0.5316456\tbest: 0.6024096 (5)\ttotal: 35.7ms\tremaining: 330ms\n",
      "18:\tlearn: 0.7147541\ttest: 0.5542169\tbest: 0.6024096 (5)\ttotal: 37.3ms\tremaining: 324ms\n",
      "19:\tlearn: 0.7254902\ttest: 0.5432099\tbest: 0.6024096 (5)\ttotal: 39ms\tremaining: 319ms\n",
      "20:\tlearn: 0.7254902\ttest: 0.5569620\tbest: 0.6024096 (5)\ttotal: 40.6ms\tremaining: 315ms\n",
      "21:\tlearn: 0.7385621\ttest: 0.5641026\tbest: 0.6024096 (5)\ttotal: 42.2ms\tremaining: 311ms\n",
      "22:\tlearn: 0.7434211\ttest: 0.5679012\tbest: 0.6024096 (5)\ttotal: 44.2ms\tremaining: 310ms\n",
      "23:\tlearn: 0.7434211\ttest: 0.5679012\tbest: 0.6024096 (5)\ttotal: 46.7ms\tremaining: 312ms\n",
      "24:\tlearn: 0.7434211\ttest: 0.5750000\tbest: 0.6024096 (5)\ttotal: 48.6ms\tremaining: 309ms\n",
      "25:\tlearn: 0.7434211\ttest: 0.5750000\tbest: 0.6024096 (5)\ttotal: 50.5ms\tremaining: 307ms\n",
      "26:\tlearn: 0.7475410\ttest: 0.5750000\tbest: 0.6024096 (5)\ttotal: 52.3ms\tremaining: 304ms\n",
      "27:\tlearn: 0.7532468\ttest: 0.5750000\tbest: 0.6024096 (5)\ttotal: 53.9ms\tremaining: 300ms\n",
      "28:\tlearn: 0.7647059\ttest: 0.5500000\tbest: 0.6024096 (5)\ttotal: 55.5ms\tremaining: 297ms\n",
      "29:\tlearn: 0.7727273\ttest: 0.5500000\tbest: 0.6024096 (5)\ttotal: 57.9ms\tremaining: 297ms\n",
      "30:\tlearn: 0.7702265\ttest: 0.5500000\tbest: 0.6024096 (5)\ttotal: 59.8ms\tremaining: 295ms\n",
      "31:\tlearn: 0.7727273\ttest: 0.5500000\tbest: 0.6024096 (5)\ttotal: 69ms\tremaining: 328ms\n",
      "32:\tlearn: 0.7766990\ttest: 0.5750000\tbest: 0.6024096 (5)\ttotal: 70.7ms\tremaining: 323ms\n",
      "33:\tlearn: 0.7884615\ttest: 0.5750000\tbest: 0.6024096 (5)\ttotal: 72.3ms\tremaining: 319ms\n",
      "34:\tlearn: 0.7884615\ttest: 0.5750000\tbest: 0.6024096 (5)\ttotal: 73.9ms\tremaining: 314ms\n",
      "35:\tlearn: 0.7845659\ttest: 0.5750000\tbest: 0.6024096 (5)\ttotal: 75.5ms\tremaining: 311ms\n",
      "36:\tlearn: 0.7909968\ttest: 0.5897436\tbest: 0.6024096 (5)\ttotal: 77.1ms\tremaining: 307ms\n",
      "37:\tlearn: 0.7974277\ttest: 0.5897436\tbest: 0.6024096 (5)\ttotal: 78.8ms\tremaining: 303ms\n",
      "38:\tlearn: 0.7974277\ttest: 0.5822785\tbest: 0.6024096 (5)\ttotal: 80.5ms\tremaining: 299ms\n",
      "39:\tlearn: 0.7974277\ttest: 0.5822785\tbest: 0.6024096 (5)\ttotal: 82.2ms\tremaining: 296ms\n",
      "40:\tlearn: 0.8025890\ttest: 0.5897436\tbest: 0.6024096 (5)\ttotal: 84.1ms\tremaining: 293ms\n",
      "41:\tlearn: 0.8102894\ttest: 0.5897436\tbest: 0.6024096 (5)\ttotal: 85.8ms\tremaining: 290ms\n",
      "42:\tlearn: 0.8167203\ttest: 0.5897436\tbest: 0.6024096 (5)\ttotal: 87.4ms\tremaining: 287ms\n",
      "43:\tlearn: 0.8205128\ttest: 0.5897436\tbest: 0.6024096 (5)\ttotal: 89ms\tremaining: 283ms\n",
      "44:\tlearn: 0.8280255\ttest: 0.6075949\tbest: 0.6075949 (44)\ttotal: 90.9ms\tremaining: 281ms\n",
      "45:\tlearn: 0.8280255\ttest: 0.6075949\tbest: 0.6075949 (44)\ttotal: 92.6ms\tremaining: 278ms\n",
      "46:\tlearn: 0.8205128\ttest: 0.6075949\tbest: 0.6075949 (44)\ttotal: 94.2ms\tremaining: 274ms\n",
      "47:\tlearn: 0.8280255\ttest: 0.6153846\tbest: 0.6153846 (47)\ttotal: 95.8ms\tremaining: 271ms\n",
      "48:\tlearn: 0.8291139\ttest: 0.6000000\tbest: 0.6153846 (47)\ttotal: 99.3ms\tremaining: 274ms\n",
      "49:\tlearn: 0.8317460\ttest: 0.6075949\tbest: 0.6153846 (47)\ttotal: 103ms\tremaining: 275ms\n",
      "50:\tlearn: 0.8317460\ttest: 0.6000000\tbest: 0.6153846 (47)\ttotal: 104ms\tremaining: 272ms\n",
      "51:\tlearn: 0.8354430\ttest: 0.6075949\tbest: 0.6153846 (47)\ttotal: 107ms\tremaining: 272ms\n",
      "52:\tlearn: 0.8354430\ttest: 0.6000000\tbest: 0.6153846 (47)\ttotal: 110ms\tremaining: 273ms\n",
      "53:\tlearn: 0.8370607\ttest: 0.6000000\tbest: 0.6153846 (47)\ttotal: 112ms\tremaining: 270ms\n",
      "54:\tlearn: 0.8380952\ttest: 0.6000000\tbest: 0.6153846 (47)\ttotal: 114ms\tremaining: 266ms\n",
      "55:\tlearn: 0.8454259\ttest: 0.6075949\tbest: 0.6153846 (47)\ttotal: 115ms\tremaining: 263ms\n",
      "56:\tlearn: 0.8526646\ttest: 0.6075949\tbest: 0.6153846 (47)\ttotal: 117ms\tremaining: 260ms\n",
      "57:\tlearn: 0.8589342\ttest: 0.6075949\tbest: 0.6153846 (47)\ttotal: 119ms\tremaining: 258ms\n",
      "58:\tlearn: 0.8625000\ttest: 0.6075949\tbest: 0.6153846 (47)\ttotal: 123ms\tremaining: 260ms\n",
      "59:\tlearn: 0.8625000\ttest: 0.6250000\tbest: 0.6250000 (59)\ttotal: 127ms\tremaining: 262ms\n",
      "60:\tlearn: 0.8660436\ttest: 0.6250000\tbest: 0.6250000 (59)\ttotal: 130ms\tremaining: 262ms\n",
      "61:\tlearn: 0.8695652\ttest: 0.6000000\tbest: 0.6250000 (59)\ttotal: 132ms\tremaining: 260ms\n",
      "62:\tlearn: 0.8695652\ttest: 0.6000000\tbest: 0.6250000 (59)\ttotal: 134ms\tremaining: 257ms\n",
      "63:\tlearn: 0.8695652\ttest: 0.6000000\tbest: 0.6250000 (59)\ttotal: 135ms\tremaining: 254ms\n",
      "64:\tlearn: 0.8757764\ttest: 0.6000000\tbest: 0.6250000 (59)\ttotal: 137ms\tremaining: 251ms\n",
      "65:\tlearn: 0.8819876\ttest: 0.6000000\tbest: 0.6250000 (59)\ttotal: 139ms\tremaining: 248ms\n",
      "66:\tlearn: 0.8819876\ttest: 0.6000000\tbest: 0.6250000 (59)\ttotal: 140ms\tremaining: 245ms\n",
      "67:\tlearn: 0.8819876\ttest: 0.5822785\tbest: 0.6250000 (59)\ttotal: 143ms\tremaining: 243ms\n",
      "68:\tlearn: 0.8819876\ttest: 0.5822785\tbest: 0.6250000 (59)\ttotal: 144ms\tremaining: 240ms\n",
      "69:\tlearn: 0.8819876\ttest: 0.5822785\tbest: 0.6250000 (59)\ttotal: 146ms\tremaining: 238ms\n",
      "70:\tlearn: 0.8819876\ttest: 0.5822785\tbest: 0.6250000 (59)\ttotal: 150ms\tremaining: 239ms\n",
      "71:\tlearn: 0.8888889\ttest: 0.5822785\tbest: 0.6250000 (59)\ttotal: 153ms\tremaining: 238ms\n",
      "72:\tlearn: 0.8923077\ttest: 0.6000000\tbest: 0.6250000 (59)\ttotal: 157ms\tremaining: 239ms\n",
      "73:\tlearn: 0.8923077\ttest: 0.6000000\tbest: 0.6250000 (59)\ttotal: 159ms\tremaining: 236ms\n",
      "74:\tlearn: 0.8923077\ttest: 0.6000000\tbest: 0.6250000 (59)\ttotal: 162ms\tremaining: 235ms\n",
      "75:\tlearn: 0.8950617\ttest: 0.5925926\tbest: 0.6250000 (59)\ttotal: 164ms\tremaining: 233ms\n",
      "76:\tlearn: 0.9018405\ttest: 0.6097561\tbest: 0.6250000 (59)\ttotal: 165ms\tremaining: 230ms\n",
      "77:\tlearn: 0.9018405\ttest: 0.6097561\tbest: 0.6250000 (59)\ttotal: 167ms\tremaining: 227ms\n",
      "78:\tlearn: 0.9018405\ttest: 0.6097561\tbest: 0.6250000 (59)\ttotal: 169ms\tremaining: 224ms\n",
      "79:\tlearn: 0.9018405\ttest: 0.6097561\tbest: 0.6250000 (59)\ttotal: 171ms\tremaining: 222ms\n",
      "80:\tlearn: 0.9051988\ttest: 0.5925926\tbest: 0.6250000 (59)\ttotal: 172ms\tremaining: 219ms\n",
      "81:\tlearn: 0.9051988\ttest: 0.5925926\tbest: 0.6250000 (59)\ttotal: 174ms\tremaining: 216ms\n",
      "82:\tlearn: 0.9090909\ttest: 0.6265060\tbest: 0.6265060 (82)\ttotal: 176ms\tremaining: 214ms\n",
      "83:\tlearn: 0.9085366\ttest: 0.6097561\tbest: 0.6265060 (82)\ttotal: 180ms\tremaining: 214ms\n",
      "84:\tlearn: 0.9184290\ttest: 0.6265060\tbest: 0.6265060 (82)\ttotal: 181ms\tremaining: 211ms\n",
      "85:\tlearn: 0.9118541\ttest: 0.6097561\tbest: 0.6265060 (82)\ttotal: 183ms\tremaining: 209ms\n",
      "86:\tlearn: 0.9151515\ttest: 0.6097561\tbest: 0.6265060 (82)\ttotal: 185ms\tremaining: 207ms\n",
      "87:\tlearn: 0.9118541\ttest: 0.6097561\tbest: 0.6265060 (82)\ttotal: 187ms\tremaining: 204ms\n",
      "88:\tlearn: 0.9151515\ttest: 0.6265060\tbest: 0.6265060 (82)\ttotal: 189ms\tremaining: 202ms\n",
      "89:\tlearn: 0.9151515\ttest: 0.6265060\tbest: 0.6265060 (82)\ttotal: 191ms\tremaining: 199ms\n",
      "90:\tlearn: 0.9151515\ttest: 0.6265060\tbest: 0.6265060 (82)\ttotal: 193ms\tremaining: 197ms\n",
      "91:\tlearn: 0.9151515\ttest: 0.6265060\tbest: 0.6265060 (82)\ttotal: 194ms\tremaining: 194ms\n",
      "92:\tlearn: 0.9151515\ttest: 0.6265060\tbest: 0.6265060 (82)\ttotal: 196ms\tremaining: 192ms\n",
      "93:\tlearn: 0.9118541\ttest: 0.6265060\tbest: 0.6265060 (82)\ttotal: 198ms\tremaining: 189ms\n",
      "94:\tlearn: 0.9151515\ttest: 0.6097561\tbest: 0.6265060 (82)\ttotal: 199ms\tremaining: 187ms\n",
      "95:\tlearn: 0.9179331\ttest: 0.6097561\tbest: 0.6265060 (82)\ttotal: 201ms\tremaining: 184ms\n",
      "96:\tlearn: 0.9184290\ttest: 0.6097561\tbest: 0.6265060 (82)\ttotal: 202ms\tremaining: 182ms\n",
      "97:\tlearn: 0.9249249\ttest: 0.6097561\tbest: 0.6265060 (82)\ttotal: 204ms\tremaining: 179ms\n",
      "98:\tlearn: 0.9281437\ttest: 0.6097561\tbest: 0.6265060 (82)\ttotal: 206ms\tremaining: 177ms\n",
      "99:\tlearn: 0.9309309\ttest: 0.6097561\tbest: 0.6265060 (82)\ttotal: 208ms\tremaining: 175ms\n",
      "100:\tlearn: 0.9281437\ttest: 0.6097561\tbest: 0.6265060 (82)\ttotal: 211ms\tremaining: 174ms\n",
      "101:\tlearn: 0.9253731\ttest: 0.6097561\tbest: 0.6265060 (82)\ttotal: 214ms\tremaining: 172ms\n",
      "102:\tlearn: 0.9337349\ttest: 0.6265060\tbest: 0.6265060 (82)\ttotal: 216ms\tremaining: 170ms\n",
      "103:\tlearn: 0.9309309\ttest: 0.6265060\tbest: 0.6265060 (82)\ttotal: 218ms\tremaining: 168ms\n",
      "104:\tlearn: 0.9337349\ttest: 0.6265060\tbest: 0.6265060 (82)\ttotal: 220ms\tremaining: 165ms\n",
      "105:\tlearn: 0.9369369\ttest: 0.6265060\tbest: 0.6265060 (82)\ttotal: 221ms\tremaining: 163ms\n",
      "106:\tlearn: 0.9369369\ttest: 0.6265060\tbest: 0.6265060 (82)\ttotal: 223ms\tremaining: 161ms\n",
      "107:\tlearn: 0.9341317\ttest: 0.6265060\tbest: 0.6265060 (82)\ttotal: 225ms\tremaining: 158ms\n",
      "108:\tlearn: 0.9369369\ttest: 0.6265060\tbest: 0.6265060 (82)\ttotal: 227ms\tremaining: 156ms\n",
      "109:\tlearn: 0.9369369\ttest: 0.6265060\tbest: 0.6265060 (82)\ttotal: 228ms\tremaining: 154ms\n",
      "110:\tlearn: 0.9369369\ttest: 0.6265060\tbest: 0.6265060 (82)\ttotal: 230ms\tremaining: 151ms\n",
      "111:\tlearn: 0.9341317\ttest: 0.6265060\tbest: 0.6265060 (82)\ttotal: 234ms\tremaining: 151ms\n",
      "112:\tlearn: 0.9341317\ttest: 0.6265060\tbest: 0.6265060 (82)\ttotal: 236ms\tremaining: 148ms\n",
      "113:\tlearn: 0.9401198\ttest: 0.6265060\tbest: 0.6265060 (82)\ttotal: 240ms\tremaining: 147ms\n",
      "114:\tlearn: 0.9425982\ttest: 0.6097561\tbest: 0.6265060 (82)\ttotal: 242ms\tremaining: 145ms\n",
      "115:\tlearn: 0.9425982\ttest: 0.6097561\tbest: 0.6265060 (82)\ttotal: 244ms\tremaining: 143ms\n",
      "116:\tlearn: 0.9429429\ttest: 0.6097561\tbest: 0.6265060 (82)\ttotal: 245ms\tremaining: 140ms\n",
      "117:\tlearn: 0.9401198\ttest: 0.6097561\tbest: 0.6265060 (82)\ttotal: 247ms\tremaining: 138ms\n",
      "118:\tlearn: 0.9429429\ttest: 0.6097561\tbest: 0.6265060 (82)\ttotal: 248ms\tremaining: 136ms\n",
      "119:\tlearn: 0.9429429\ttest: 0.6097561\tbest: 0.6265060 (82)\ttotal: 250ms\tremaining: 133ms\n",
      "120:\tlearn: 0.9457831\ttest: 0.6265060\tbest: 0.6265060 (82)\ttotal: 252ms\tremaining: 131ms\n",
      "121:\tlearn: 0.9489489\ttest: 0.6265060\tbest: 0.6265060 (82)\ttotal: 253ms\tremaining: 129ms\n",
      "122:\tlearn: 0.9489489\ttest: 0.6097561\tbest: 0.6265060 (82)\ttotal: 255ms\tremaining: 126ms\n",
      "123:\tlearn: 0.9489489\ttest: 0.6097561\tbest: 0.6265060 (82)\ttotal: 257ms\tremaining: 124ms\n",
      "124:\tlearn: 0.9489489\ttest: 0.6024096\tbest: 0.6265060 (82)\ttotal: 258ms\tremaining: 122ms\n",
      "125:\tlearn: 0.9489489\ttest: 0.6024096\tbest: 0.6265060 (82)\ttotal: 261ms\tremaining: 120ms\n",
      "126:\tlearn: 0.9489489\ttest: 0.6024096\tbest: 0.6265060 (82)\ttotal: 266ms\tremaining: 119ms\n",
      "127:\tlearn: 0.9489489\ttest: 0.6024096\tbest: 0.6265060 (82)\ttotal: 271ms\tremaining: 119ms\n",
      "128:\tlearn: 0.9518072\ttest: 0.6024096\tbest: 0.6265060 (82)\ttotal: 273ms\tremaining: 116ms\n",
      "129:\tlearn: 0.9518072\ttest: 0.6024096\tbest: 0.6265060 (82)\ttotal: 276ms\tremaining: 115ms\n",
      "130:\tlearn: 0.9549550\ttest: 0.6024096\tbest: 0.6265060 (82)\ttotal: 279ms\tremaining: 113ms\n",
      "131:\tlearn: 0.9520958\ttest: 0.6024096\tbest: 0.6265060 (82)\ttotal: 281ms\tremaining: 111ms\n",
      "132:\tlearn: 0.9552239\ttest: 0.6024096\tbest: 0.6265060 (82)\ttotal: 285ms\tremaining: 109ms\n",
      "133:\tlearn: 0.9489489\ttest: 0.6097561\tbest: 0.6265060 (82)\ttotal: 291ms\tremaining: 109ms\n",
      "134:\tlearn: 0.9489489\ttest: 0.6097561\tbest: 0.6265060 (82)\ttotal: 295ms\tremaining: 107ms\n",
      "135:\tlearn: 0.9489489\ttest: 0.6097561\tbest: 0.6265060 (82)\ttotal: 300ms\tremaining: 106ms\n",
      "136:\tlearn: 0.9489489\ttest: 0.6097561\tbest: 0.6265060 (82)\ttotal: 303ms\tremaining: 104ms\n",
      "137:\tlearn: 0.9489489\ttest: 0.6097561\tbest: 0.6265060 (82)\ttotal: 306ms\tremaining: 102ms\n",
      "138:\tlearn: 0.9489489\ttest: 0.6097561\tbest: 0.6265060 (82)\ttotal: 309ms\tremaining: 100ms\n",
      "139:\tlearn: 0.9520958\ttest: 0.6097561\tbest: 0.6265060 (82)\ttotal: 312ms\tremaining: 98.1ms\n",
      "140:\tlearn: 0.9552239\ttest: 0.6097561\tbest: 0.6265060 (82)\ttotal: 315ms\tremaining: 96.2ms\n",
      "141:\tlearn: 0.9520958\ttest: 0.6097561\tbest: 0.6265060 (82)\ttotal: 321ms\tremaining: 94.9ms\n",
      "142:\tlearn: 0.9520958\ttest: 0.6097561\tbest: 0.6265060 (82)\ttotal: 326ms\tremaining: 93.5ms\n",
      "143:\tlearn: 0.9552239\ttest: 0.6097561\tbest: 0.6265060 (82)\ttotal: 331ms\tremaining: 91.9ms\n",
      "144:\tlearn: 0.9552239\ttest: 0.6097561\tbest: 0.6265060 (82)\ttotal: 335ms\tremaining: 90.1ms\n",
      "145:\tlearn: 0.9552239\ttest: 0.6172840\tbest: 0.6265060 (82)\ttotal: 338ms\tremaining: 88.1ms\n",
      "146:\tlearn: 0.9552239\ttest: 0.6172840\tbest: 0.6265060 (82)\ttotal: 341ms\tremaining: 85.8ms\n",
      "147:\tlearn: 0.9583333\ttest: 0.6172840\tbest: 0.6265060 (82)\ttotal: 343ms\tremaining: 83.5ms\n",
      "148:\tlearn: 0.9552239\ttest: 0.6172840\tbest: 0.6265060 (82)\ttotal: 347ms\tremaining: 81.5ms\n",
      "149:\tlearn: 0.9552239\ttest: 0.6172840\tbest: 0.6265060 (82)\ttotal: 351ms\tremaining: 79.6ms\n",
      "150:\tlearn: 0.9552239\ttest: 0.6172840\tbest: 0.6265060 (82)\ttotal: 355ms\tremaining: 77.6ms\n",
      "151:\tlearn: 0.9583333\ttest: 0.6172840\tbest: 0.6265060 (82)\ttotal: 359ms\tremaining: 75.6ms\n",
      "152:\tlearn: 0.9614243\ttest: 0.6172840\tbest: 0.6265060 (82)\ttotal: 362ms\tremaining: 73.3ms\n",
      "153:\tlearn: 0.9614243\ttest: 0.6172840\tbest: 0.6265060 (82)\ttotal: 364ms\tremaining: 70.8ms\n",
      "154:\tlearn: 0.9614243\ttest: 0.6172840\tbest: 0.6265060 (82)\ttotal: 366ms\tremaining: 68.5ms\n",
      "155:\tlearn: 0.9642857\ttest: 0.6172840\tbest: 0.6265060 (82)\ttotal: 368ms\tremaining: 66.1ms\n",
      "156:\tlearn: 0.9642857\ttest: 0.6172840\tbest: 0.6265060 (82)\ttotal: 370ms\tremaining: 63.6ms\n",
      "157:\tlearn: 0.9642857\ttest: 0.6172840\tbest: 0.6265060 (82)\ttotal: 372ms\tremaining: 61.2ms\n",
      "158:\tlearn: 0.9704142\ttest: 0.6172840\tbest: 0.6265060 (82)\ttotal: 373ms\tremaining: 58.7ms\n",
      "159:\tlearn: 0.9704142\ttest: 0.6172840\tbest: 0.6265060 (82)\ttotal: 375ms\tremaining: 56.3ms\n",
      "160:\tlearn: 0.9673591\ttest: 0.6172840\tbest: 0.6265060 (82)\ttotal: 377ms\tremaining: 53.9ms\n",
      "161:\tlearn: 0.9673591\ttest: 0.6172840\tbest: 0.6265060 (82)\ttotal: 379ms\tremaining: 51.5ms\n",
      "162:\tlearn: 0.9673591\ttest: 0.6172840\tbest: 0.6265060 (82)\ttotal: 381ms\tremaining: 49.1ms\n",
      "163:\tlearn: 0.9673591\ttest: 0.6172840\tbest: 0.6265060 (82)\ttotal: 383ms\tremaining: 46.7ms\n",
      "164:\tlearn: 0.9702381\ttest: 0.6172840\tbest: 0.6265060 (82)\ttotal: 385ms\tremaining: 44.4ms\n",
      "165:\tlearn: 0.9702381\ttest: 0.6097561\tbest: 0.6265060 (82)\ttotal: 387ms\tremaining: 42ms\n",
      "166:\tlearn: 0.9702381\ttest: 0.6172840\tbest: 0.6265060 (82)\ttotal: 389ms\tremaining: 39.6ms\n",
      "167:\tlearn: 0.9702381\ttest: 0.6097561\tbest: 0.6265060 (82)\ttotal: 391ms\tremaining: 37.2ms\n",
      "168:\tlearn: 0.9702381\ttest: 0.6172840\tbest: 0.6265060 (82)\ttotal: 392ms\tremaining: 34.8ms\n",
      "169:\tlearn: 0.9731343\ttest: 0.6097561\tbest: 0.6265060 (82)\ttotal: 394ms\tremaining: 32.5ms\n",
      "170:\tlearn: 0.9731343\ttest: 0.6097561\tbest: 0.6265060 (82)\ttotal: 396ms\tremaining: 30.1ms\n",
      "171:\tlearn: 0.9731343\ttest: 0.6097561\tbest: 0.6265060 (82)\ttotal: 400ms\tremaining: 27.9ms\n",
      "172:\tlearn: 0.9761905\ttest: 0.6097561\tbest: 0.6265060 (82)\ttotal: 404ms\tremaining: 25.7ms\n",
      "173:\tlearn: 0.9761905\ttest: 0.6172840\tbest: 0.6265060 (82)\ttotal: 409ms\tremaining: 23.5ms\n",
      "174:\tlearn: 0.9761905\ttest: 0.6172840\tbest: 0.6265060 (82)\ttotal: 413ms\tremaining: 21.2ms\n",
      "175:\tlearn: 0.9761905\ttest: 0.6097561\tbest: 0.6265060 (82)\ttotal: 415ms\tremaining: 18.9ms\n",
      "176:\tlearn: 0.9792285\ttest: 0.6097561\tbest: 0.6265060 (82)\ttotal: 417ms\tremaining: 16.5ms\n",
      "177:\tlearn: 0.9822485\ttest: 0.6097561\tbest: 0.6265060 (82)\ttotal: 419ms\tremaining: 14.1ms\n",
      "178:\tlearn: 0.9822485\ttest: 0.6097561\tbest: 0.6265060 (82)\ttotal: 421ms\tremaining: 11.8ms\n",
      "179:\tlearn: 0.9822485\ttest: 0.6097561\tbest: 0.6265060 (82)\ttotal: 424ms\tremaining: 9.42ms\n",
      "180:\tlearn: 0.9822485\ttest: 0.6024096\tbest: 0.6265060 (82)\ttotal: 428ms\tremaining: 7.09ms\n",
      "181:\tlearn: 0.9822485\ttest: 0.6024096\tbest: 0.6265060 (82)\ttotal: 433ms\tremaining: 4.76ms\n",
      "182:\tlearn: 0.9822485\ttest: 0.6024096\tbest: 0.6265060 (82)\ttotal: 437ms\tremaining: 2.38ms\n",
      "183:\tlearn: 0.9822485\ttest: 0.6024096\tbest: 0.6265060 (82)\ttotal: 442ms\tremaining: 0us\n",
      "\n",
      "bestTest = 0.6265060241\n",
      "bestIteration = 82\n",
      "\n"
     ]
    }
   ],
   "source": [
    "import joblib\n",
    "from ARISA_DSML.train import train_cv\n",
    "params = joblib.load(best_params_path)\n",
    "n_folds = 5\n",
    "cv_output_path = train_cv(X_train, y_train, params, n=n_folds)"
   ]
  },
  {
   "cell_type": "code",
   "execution_count": 10,
   "id": "8d2ca8c0",
   "metadata": {},
   "outputs": [
    {
     "data": {
      "application/vnd.plotly.v1+json": {
       "config": {
        "plotlyServerURL": "https://plot.ly"
       },
       "data": [
        {
         "line": {
          "color": "blue"
         },
         "mode": "lines",
         "name": "Mean F1 Score",
         "type": "scatter",
         "x": {
          "bdata": "AAABAAIAAwAEAAUABgAHAAgACQAKAAsADAANAA4ADwAQABEAEgATABQAFQAWABcAGAAZABoAGwAcAB0AHgAfACAAIQAiACMAJAAlACYAJwAoACkAKgArACwALQAuAC8AMAAxADIAMwA0ADUANgA3ADgAOQA6ADsAPAA9AD4APwBAAEEAQgBDAEQARQBGAEcASABJAEoASwBMAE0ATgBPAFAAUQBSAFMAVABVAFYAVwBYAFkAWgBbAFwAXQBeAF8AYABhAGIAYwBkAGUAZgBnAGgAaQBqAGsAbABtAG4AbwBwAHEAcgBzAHQAdQB2AHcAeAB5AHoAewB8AH0AfgB/AIAAgQCCAIMAhACFAIYAhwCIAIkAigCLAIwAjQCOAI8AkACRAJIAkwCUAJUAlgCXAJgAmQCaAJsAnACdAJ4AnwCgAKEAogCjAKQApQCmAKcAqACpAKoAqwCsAK0ArgCvALAAsQCyALMAtAC1ALYAtwA=",
          "dtype": "i2"
         },
         "y": {
          "bdata": "AsKfmGYk4j9mk8QsBeHjP+MdezqTC+Q/DqwGxBdH4z/qh8PIBLzjP8/XfoWhquM/53tNT4VD4z9KZ+S8ZkHjPwRFwMVZrOM/pSBmpsP14z8/MLVvHb7jP50yaodUyeM/+U+Ws/Kx4z+VDdmrKAvkP7nqAF3n9eM/Um/ux26n4z8y56tuzlzjP6qEuNabYeM/Ktep+G054z/+XSD1qvniP2QwJOzy5eI/fkKhMt304j+ekGmgfGvjP4aCw9G6WOM/1Tsn+86X4z8ope+0nsbjPwo8sSlk9+M/oEA/5slA5D9GrZvBWPHjPz3xh4+U4OM/QvREZPAQ5D8B9uiY1yzkPxLa139VguQ/KwGiSphk5D+AWNL9OrvkP7JVZr9XjuQ/uQOi1KOY5D+gsnuq0KXkPy5lzEoQq+Q/kguSQuHT5D+ksKWX7SnlPx8oKntdEeU/Ro/XvQ9K5T/3UVFebh/lP5agsyiEHuU/MvrtMLP15D8KBxOYnQHlP6r1/ygOLOU/2AY4S0H35D9ybtJl4PPkP/Qq/PAGA+U/1kv7zTvx5D9fMDP3b/HkP18wM/dv8eQ/XzAz92/x5D8WfgQzMcTkP+dJ91dH0uQ/xryPOFi65D+K6XsB8p3kP/oSII9J1uQ/weJ182i75D9RsVVznq7kPzD2xRuAn+Q/2N6eamGe5D9qJnC3YLrkP3Mnqfb1yuQ/VuOVfD3m5D92cQwF7a3kP2xtq8opoeQ/5Sk7uO2R5D/lKTu47ZHkP9sl2n0qheQ/rib7WaS+5D9leyI4cmzkP25/g3I1eeQ/0gGGpSp65D8+4rLam4bkP1WDutx9aeQ/PuKy2puG5D+y+F/Dg3nkP39I3Snzh+Q/dUR87y975D/UWd3TkKTkP7FJXbRpl+Q/LgoIItuy5D+xSV20aZfkP1FMh1RsweQ/UUyHVGzB5D9SxejnIcLkP/KjUE5P6eQ/8qNQTk/p5D/yo1BOT+nkP/KjUE5P6eQ/hsxeKm4E5T96MsbHmfbkP4Z3v9CNBuU/hne/0I0G5T9upBmiXezkP5I7OC7P+OQ/kjs4Ls/45D+SOzguz/jkP9rUD930SeU/LZT5APVK5T8otbydMUvlP3TEqzPgLuU/dMSrM+Au5T90xKsz4C7lP3TEqzPgLuU/k4BzdF055T/tAz1LsyrlP2ok5LFnEOU/aiTksWcQ5T9bNF7vIEblP95jzIjBYeU/YaMhG1BG5T9ygVejygHlP6SssFkCFOU/pKywWQIU5T8eOiuOeDHlPxH1MYWEIeU/Im1bx3Mv5T/jhBIURD3lP0BPuDpGFeU/ygiIl5Ei5T9aFNwbqjnlP/sWBrysY+U/HlxaxP1e5T+Y6dT4c3zlP2ghYUaWl+U/aCFhRpaX5T9oIWFGlpflPz40Je+fieU/xKaquils5T9ytwKjpmvlP3K3AqOma+U/mSyyDjN45T+ZLLIOM3jlP5kssg4zeOU/whnuZSmG5T/CGe5lKYblP885w2Z7k+U/zznDZnuT5T+mTIcPhYXlPx/aAUT7ouU/H9oBRPui5T+6BrJyjaLlP8MKE61Qr+U/Li07nDuI5T96tjeQBablP17f5ym2suU/ODGc1v6U5T8uLTucO4jlPy4tO5w7iOU/Li07nDuI5T8uLTucO4jlPy4tO5w7iOU/S5FHV4th5T9LkUdXi2HlP66+eBrESOU/cp8PR1wv5T+uvngaxEjlP60xvMXDYuU/hl75F84g5T+GXvkXziDlP1rrCQRJO+U/trr4mvMu5T9a6wkESTvlP7a6+JrzLuU/WusJBEk75T/iLeiueBTlP7a6+JrzLuU/U43H17pH5T9TjcfXukflPzTAMhesR+U/AcI5e9Ng5T9dkSgSflTlP12RKBJ+VOU/XZEoEn5U5T9dkSgSflTlP2rpx2CAiOU/MqEMQ05i5T+WY8AMd3zlP6ysGlAumeU/rKwaUC6Z5T8=",
          "dtype": "f8"
         }
        },
        {
         "fill": "toself",
         "fillcolor": "rgba(0, 0, 255, 0.2)",
         "line": {
          "color": "rgba(255, 255, 255, 0)"
         },
         "showlegend": false,
         "type": "scatter",
         "x": {
          "bdata": "AsKfmGYk4j9mk8QsBeHjP+MdezqTC+Q/DqwGxBdH4z/qh8PIBLzjP8/XfoWhquM/53tNT4VD4z9KZ+S8ZkHjPwRFwMVZrOM/pSBmpsP14z8/MLVvHb7jP50yaodUyeM/+U+Ws/Kx4z+VDdmrKAvkP7nqAF3n9eM/Um/ux26n4z8y56tuzlzjP6qEuNabYeM/Ktep+G054z/+XSD1qvniP2QwJOzy5eI/fkKhMt304j+ekGmgfGvjP4aCw9G6WOM/1Tsn+86X4z8ope+0nsbjPwo8sSlk9+M/oEA/5slA5D9GrZvBWPHjPz3xh4+U4OM/QvREZPAQ5D8B9uiY1yzkPxLa139VguQ/KwGiSphk5D+AWNL9OrvkP7JVZr9XjuQ/uQOi1KOY5D+gsnuq0KXkPy5lzEoQq+Q/kguSQuHT5D+ksKWX7SnlPx8oKntdEeU/Ro/XvQ9K5T/3UVFebh/lP5agsyiEHuU/MvrtMLP15D8KBxOYnQHlP6r1/ygOLOU/2AY4S0H35D9ybtJl4PPkP/Qq/PAGA+U/1kv7zTvx5D9fMDP3b/HkP18wM/dv8eQ/XzAz92/x5D8WfgQzMcTkP+dJ91dH0uQ/xryPOFi65D+K6XsB8p3kP/oSII9J1uQ/weJ182i75D9RsVVznq7kPzD2xRuAn+Q/2N6eamGe5D9qJnC3YLrkP3Mnqfb1yuQ/VuOVfD3m5D92cQwF7a3kP2xtq8opoeQ/5Sk7uO2R5D/lKTu47ZHkP9sl2n0qheQ/rib7WaS+5D9leyI4cmzkP25/g3I1eeQ/0gGGpSp65D8+4rLam4bkP1WDutx9aeQ/PuKy2puG5D+y+F/Dg3nkP39I3Snzh+Q/dUR87y975D/UWd3TkKTkP7FJXbRpl+Q/LgoIItuy5D+xSV20aZfkP1FMh1RsweQ/UUyHVGzB5D9SxejnIcLkP/KjUE5P6eQ/8qNQTk/p5D/yo1BOT+nkP/KjUE5P6eQ/hsxeKm4E5T96MsbHmfbkP4Z3v9CNBuU/hne/0I0G5T9upBmiXezkP5I7OC7P+OQ/kjs4Ls/45D+SOzguz/jkP9rUD930SeU/LZT5APVK5T8otbydMUvlP3TEqzPgLuU/dMSrM+Au5T90xKsz4C7lP3TEqzPgLuU/k4BzdF055T/tAz1LsyrlP2ok5LFnEOU/aiTksWcQ5T9bNF7vIEblP95jzIjBYeU/YaMhG1BG5T9ygVejygHlP6SssFkCFOU/pKywWQIU5T8eOiuOeDHlPxH1MYWEIeU/Im1bx3Mv5T/jhBIURD3lP0BPuDpGFeU/ygiIl5Ei5T9aFNwbqjnlP/sWBrysY+U/HlxaxP1e5T+Y6dT4c3zlP2ghYUaWl+U/aCFhRpaX5T9oIWFGlpflPz40Je+fieU/xKaquils5T9ytwKjpmvlP3K3AqOma+U/mSyyDjN45T+ZLLIOM3jlP5kssg4zeOU/whnuZSmG5T/CGe5lKYblP885w2Z7k+U/zznDZnuT5T+mTIcPhYXlPx/aAUT7ouU/H9oBRPui5T+6BrJyjaLlP8MKE61Qr+U/Li07nDuI5T96tjeQBablP17f5ym2suU/ODGc1v6U5T8uLTucO4jlPy4tO5w7iOU/Li07nDuI5T8uLTucO4jlPy4tO5w7iOU/S5FHV4th5T9LkUdXi2HlP66+eBrESOU/cp8PR1wv5T+uvngaxEjlP60xvMXDYuU/hl75F84g5T+GXvkXziDlP1rrCQRJO+U/trr4mvMu5T9a6wkESTvlP7a6+JrzLuU/WusJBEk75T/iLeiueBTlP7a6+JrzLuU/U43H17pH5T9TjcfXukflPzTAMhesR+U/AcI5e9Ng5T9dkSgSflTlP12RKBJ+VOU/XZEoEn5U5T9dkSgSflTlP2rpx2CAiOU/MqEMQ05i5T+WY8AMd3zlP6ysGlAumeU/rKwaUC6Z5T8AAAAAAOBmQAAAAAAAwGZAAAAAAACgZkAAAAAAAIBmQAAAAAAAYGZAAAAAAABAZkAAAAAAACBmQAAAAAAAAGZAAAAAAADgZUAAAAAAAMBlQAAAAAAAoGVAAAAAAACAZUAAAAAAAGBlQAAAAAAAQGVAAAAAAAAgZUAAAAAAAABlQAAAAAAA4GRAAAAAAADAZEAAAAAAAKBkQAAAAAAAgGRAAAAAAABgZEAAAAAAAEBkQAAAAAAAIGRAAAAAAAAAZEAAAAAAAOBjQAAAAAAAwGNAAAAAAACgY0AAAAAAAIBjQAAAAAAAYGNAAAAAAABAY0AAAAAAACBjQAAAAAAAAGNAAAAAAADgYkAAAAAAAMBiQAAAAAAAoGJAAAAAAACAYkAAAAAAAGBiQAAAAAAAQGJAAAAAAAAgYkAAAAAAAABiQAAAAAAA4GFAAAAAAADAYUAAAAAAAKBhQAAAAAAAgGFAAAAAAABgYUAAAAAAAEBhQAAAAAAAIGFAAAAAAAAAYUAAAAAAAOBgQAAAAAAAwGBAAAAAAACgYEAAAAAAAIBgQAAAAAAAYGBAAAAAAABAYEAAAAAAACBgQAAAAAAAAGBAAAAAAADAX0AAAAAAAIBfQAAAAAAAQF9AAAAAAAAAX0AAAAAAAMBeQAAAAAAAgF5AAAAAAABAXkAAAAAAAABeQAAAAAAAwF1AAAAAAACAXUAAAAAAAEBdQAAAAAAAAF1AAAAAAADAXEAAAAAAAIBcQAAAAAAAQFxAAAAAAAAAXEAAAAAAAMBbQAAAAAAAgFtAAAAAAABAW0AAAAAAAABbQAAAAAAAwFpAAAAAAACAWkAAAAAAAEBaQAAAAAAAAFpAAAAAAADAWUAAAAAAAIBZQAAAAAAAQFlAAAAAAAAAWUAAAAAAAMBYQAAAAAAAgFhAAAAAAABAWEAAAAAAAABYQAAAAAAAwFdAAAAAAACAV0AAAAAAAEBXQAAAAAAAAFdAAAAAAADAVkAAAAAAAIBWQAAAAAAAQFZAAAAAAAAAVkAAAAAAAMBVQAAAAAAAgFVAAAAAAABAVUAAAAAAAABVQAAAAAAAwFRAAAAAAACAVEAAAAAAAEBUQAAAAAAAAFRAAAAAAADAU0AAAAAAAIBTQAAAAAAAQFNAAAAAAAAAU0AAAAAAAMBSQAAAAAAAgFJAAAAAAABAUkAAAAAAAABSQAAAAAAAwFFAAAAAAACAUUAAAAAAAEBRQAAAAAAAAFFAAAAAAADAUEAAAAAAAIBQQAAAAAAAQFBAAAAAAAAAUEAAAAAAAIBPQAAAAAAAAE9AAAAAAACATkAAAAAAAABOQAAAAAAAgE1AAAAAAAAATUAAAAAAAIBMQAAAAAAAAExAAAAAAACAS0AAAAAAAABLQAAAAAAAgEpAAAAAAAAASkAAAAAAAIBJQAAAAAAAAElAAAAAAACASEAAAAAAAABIQAAAAAAAgEdAAAAAAAAAR0AAAAAAAIBGQAAAAAAAAEZAAAAAAACARUAAAAAAAABFQAAAAAAAgERAAAAAAAAAREAAAAAAAIBDQAAAAAAAAENAAAAAAACAQkAAAAAAAABCQAAAAAAAgEFAAAAAAAAAQUAAAAAAAIBAQAAAAAAAAEBAAAAAAAAAP0AAAAAAAAA+QAAAAAAAAD1AAAAAAAAAPEAAAAAAAAA7QAAAAAAAADpAAAAAAAAAOUAAAAAAAAA4QAAAAAAAADdAAAAAAAAANkAAAAAAAAA1QAAAAAAAADRAAAAAAAAAM0AAAAAAAAAyQAAAAAAAADFAAAAAAAAAMEAAAAAAAAAuQAAAAAAAACxAAAAAAAAAKkAAAAAAAAAoQAAAAAAAACZAAAAAAAAAJEAAAAAAAAAiQAAAAAAAACBAAAAAAAAAHEAAAAAAAAAYQAAAAAAAABRAAAAAAAAAEEAAAAAAAAAIQAAAAAAAAABAAAAAAAAA8D8AAAAAAAAAAA==",
          "dtype": "f8"
         },
         "y": {
          "bdata": "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",
          "dtype": "f8"
         }
        }
       ],
       "layout": {
        "template": {
         "data": {
          "bar": [
           {
            "error_x": {
             "color": "#2a3f5f"
            },
            "error_y": {
             "color": "#2a3f5f"
            },
            "marker": {
             "line": {
              "color": "white",
              "width": 0.5
             },
             "pattern": {
              "fillmode": "overlay",
              "size": 10,
              "solidity": 0.2
             }
            },
            "type": "bar"
           }
          ],
          "barpolar": [
           {
            "marker": {
             "line": {
              "color": "white",
              "width": 0.5
             },
             "pattern": {
              "fillmode": "overlay",
              "size": 10,
              "solidity": 0.2
             }
            },
            "type": "barpolar"
           }
          ],
          "carpet": [
           {
            "aaxis": {
             "endlinecolor": "#2a3f5f",
             "gridcolor": "#C8D4E3",
             "linecolor": "#C8D4E3",
             "minorgridcolor": "#C8D4E3",
             "startlinecolor": "#2a3f5f"
            },
            "baxis": {
             "endlinecolor": "#2a3f5f",
             "gridcolor": "#C8D4E3",
             "linecolor": "#C8D4E3",
             "minorgridcolor": "#C8D4E3",
             "startlinecolor": "#2a3f5f"
            },
            "type": "carpet"
           }
          ],
          "choropleth": [
           {
            "colorbar": {
             "outlinewidth": 0,
             "ticks": ""
            },
            "type": "choropleth"
           }
          ],
          "contour": [
           {
            "colorbar": {
             "outlinewidth": 0,
             "ticks": ""
            },
            "colorscale": [
             [
              0,
              "#0d0887"
             ],
             [
              0.1111111111111111,
              "#46039f"
             ],
             [
              0.2222222222222222,
              "#7201a8"
             ],
             [
              0.3333333333333333,
              "#9c179e"
             ],
             [
              0.4444444444444444,
              "#bd3786"
             ],
             [
              0.5555555555555556,
              "#d8576b"
             ],
             [
              0.6666666666666666,
              "#ed7953"
             ],
             [
              0.7777777777777778,
              "#fb9f3a"
             ],
             [
              0.8888888888888888,
              "#fdca26"
             ],
             [
              1,
              "#f0f921"
             ]
            ],
            "type": "contour"
           }
          ],
          "contourcarpet": [
           {
            "colorbar": {
             "outlinewidth": 0,
             "ticks": ""
            },
            "type": "contourcarpet"
           }
          ],
          "heatmap": [
           {
            "colorbar": {
             "outlinewidth": 0,
             "ticks": ""
            },
            "colorscale": [
             [
              0,
              "#0d0887"
             ],
             [
              0.1111111111111111,
              "#46039f"
             ],
             [
              0.2222222222222222,
              "#7201a8"
             ],
             [
              0.3333333333333333,
              "#9c179e"
             ],
             [
              0.4444444444444444,
              "#bd3786"
             ],
             [
              0.5555555555555556,
              "#d8576b"
             ],
             [
              0.6666666666666666,
              "#ed7953"
             ],
             [
              0.7777777777777778,
              "#fb9f3a"
             ],
             [
              0.8888888888888888,
              "#fdca26"
             ],
             [
              1,
              "#f0f921"
             ]
            ],
            "type": "heatmap"
           }
          ],
          "histogram": [
           {
            "marker": {
             "pattern": {
              "fillmode": "overlay",
              "size": 10,
              "solidity": 0.2
             }
            },
            "type": "histogram"
           }
          ],
          "histogram2d": [
           {
            "colorbar": {
             "outlinewidth": 0,
             "ticks": ""
            },
            "colorscale": [
             [
              0,
              "#0d0887"
             ],
             [
              0.1111111111111111,
              "#46039f"
             ],
             [
              0.2222222222222222,
              "#7201a8"
             ],
             [
              0.3333333333333333,
              "#9c179e"
             ],
             [
              0.4444444444444444,
              "#bd3786"
             ],
             [
              0.5555555555555556,
              "#d8576b"
             ],
             [
              0.6666666666666666,
              "#ed7953"
             ],
             [
              0.7777777777777778,
              "#fb9f3a"
             ],
             [
              0.8888888888888888,
              "#fdca26"
             ],
             [
              1,
              "#f0f921"
             ]
            ],
            "type": "histogram2d"
           }
          ],
          "histogram2dcontour": [
           {
            "colorbar": {
             "outlinewidth": 0,
             "ticks": ""
            },
            "colorscale": [
             [
              0,
              "#0d0887"
             ],
             [
              0.1111111111111111,
              "#46039f"
             ],
             [
              0.2222222222222222,
              "#7201a8"
             ],
             [
              0.3333333333333333,
              "#9c179e"
             ],
             [
              0.4444444444444444,
              "#bd3786"
             ],
             [
              0.5555555555555556,
              "#d8576b"
             ],
             [
              0.6666666666666666,
              "#ed7953"
             ],
             [
              0.7777777777777778,
              "#fb9f3a"
             ],
             [
              0.8888888888888888,
              "#fdca26"
             ],
             [
              1,
              "#f0f921"
             ]
            ],
            "type": "histogram2dcontour"
           }
          ],
          "mesh3d": [
           {
            "colorbar": {
             "outlinewidth": 0,
             "ticks": ""
            },
            "type": "mesh3d"
           }
          ],
          "parcoords": [
           {
            "line": {
             "colorbar": {
              "outlinewidth": 0,
              "ticks": ""
             }
            },
            "type": "parcoords"
           }
          ],
          "pie": [
           {
            "automargin": true,
            "type": "pie"
           }
          ],
          "scatter": [
           {
            "fillpattern": {
             "fillmode": "overlay",
             "size": 10,
             "solidity": 0.2
            },
            "type": "scatter"
           }
          ],
          "scatter3d": [
           {
            "line": {
             "colorbar": {
              "outlinewidth": 0,
              "ticks": ""
             }
            },
            "marker": {
             "colorbar": {
              "outlinewidth": 0,
              "ticks": ""
             }
            },
            "type": "scatter3d"
           }
          ],
          "scattercarpet": [
           {
            "marker": {
             "colorbar": {
              "outlinewidth": 0,
              "ticks": ""
             }
            },
            "type": "scattercarpet"
           }
          ],
          "scattergeo": [
           {
            "marker": {
             "colorbar": {
              "outlinewidth": 0,
              "ticks": ""
             }
            },
            "type": "scattergeo"
           }
          ],
          "scattergl": [
           {
            "marker": {
             "colorbar": {
              "outlinewidth": 0,
              "ticks": ""
             }
            },
            "type": "scattergl"
           }
          ],
          "scattermap": [
           {
            "marker": {
             "colorbar": {
              "outlinewidth": 0,
              "ticks": ""
             }
            },
            "type": "scattermap"
           }
          ],
          "scattermapbox": [
           {
            "marker": {
             "colorbar": {
              "outlinewidth": 0,
              "ticks": ""
             }
            },
            "type": "scattermapbox"
           }
          ],
          "scatterpolar": [
           {
            "marker": {
             "colorbar": {
              "outlinewidth": 0,
              "ticks": ""
             }
            },
            "type": "scatterpolar"
           }
          ],
          "scatterpolargl": [
           {
            "marker": {
             "colorbar": {
              "outlinewidth": 0,
              "ticks": ""
             }
            },
            "type": "scatterpolargl"
           }
          ],
          "scatterternary": [
           {
            "marker": {
             "colorbar": {
              "outlinewidth": 0,
              "ticks": ""
             }
            },
            "type": "scatterternary"
           }
          ],
          "surface": [
           {
            "colorbar": {
             "outlinewidth": 0,
             "ticks": ""
            },
            "colorscale": [
             [
              0,
              "#0d0887"
             ],
             [
              0.1111111111111111,
              "#46039f"
             ],
             [
              0.2222222222222222,
              "#7201a8"
             ],
             [
              0.3333333333333333,
              "#9c179e"
             ],
             [
              0.4444444444444444,
              "#bd3786"
             ],
             [
              0.5555555555555556,
              "#d8576b"
             ],
             [
              0.6666666666666666,
              "#ed7953"
             ],
             [
              0.7777777777777778,
              "#fb9f3a"
             ],
             [
              0.8888888888888888,
              "#fdca26"
             ],
             [
              1,
              "#f0f921"
             ]
            ],
            "type": "surface"
           }
          ],
          "table": [
           {
            "cells": {
             "fill": {
              "color": "#EBF0F8"
             },
             "line": {
              "color": "white"
             }
            },
            "header": {
             "fill": {
              "color": "#C8D4E3"
             },
             "line": {
              "color": "white"
             }
            },
            "type": "table"
           }
          ]
         },
         "layout": {
          "annotationdefaults": {
           "arrowcolor": "#2a3f5f",
           "arrowhead": 0,
           "arrowwidth": 1
          },
          "autotypenumbers": "strict",
          "coloraxis": {
           "colorbar": {
            "outlinewidth": 0,
            "ticks": ""
           }
          },
          "colorscale": {
           "diverging": [
            [
             0,
             "#8e0152"
            ],
            [
             0.1,
             "#c51b7d"
            ],
            [
             0.2,
             "#de77ae"
            ],
            [
             0.3,
             "#f1b6da"
            ],
            [
             0.4,
             "#fde0ef"
            ],
            [
             0.5,
             "#f7f7f7"
            ],
            [
             0.6,
             "#e6f5d0"
            ],
            [
             0.7,
             "#b8e186"
            ],
            [
             0.8,
             "#7fbc41"
            ],
            [
             0.9,
             "#4d9221"
            ],
            [
             1,
             "#276419"
            ]
           ],
           "sequential": [
            [
             0,
             "#0d0887"
            ],
            [
             0.1111111111111111,
             "#46039f"
            ],
            [
             0.2222222222222222,
             "#7201a8"
            ],
            [
             0.3333333333333333,
             "#9c179e"
            ],
            [
             0.4444444444444444,
             "#bd3786"
            ],
            [
             0.5555555555555556,
             "#d8576b"
            ],
            [
             0.6666666666666666,
             "#ed7953"
            ],
            [
             0.7777777777777778,
             "#fb9f3a"
            ],
            [
             0.8888888888888888,
             "#fdca26"
            ],
            [
             1,
             "#f0f921"
            ]
           ],
           "sequentialminus": [
            [
             0,
             "#0d0887"
            ],
            [
             0.1111111111111111,
             "#46039f"
            ],
            [
             0.2222222222222222,
             "#7201a8"
            ],
            [
             0.3333333333333333,
             "#9c179e"
            ],
            [
             0.4444444444444444,
             "#bd3786"
            ],
            [
             0.5555555555555556,
             "#d8576b"
            ],
            [
             0.6666666666666666,
             "#ed7953"
            ],
            [
             0.7777777777777778,
             "#fb9f3a"
            ],
            [
             0.8888888888888888,
             "#fdca26"
            ],
            [
             1,
             "#f0f921"
            ]
           ]
          },
          "colorway": [
           "#636efa",
           "#EF553B",
           "#00cc96",
           "#ab63fa",
           "#FFA15A",
           "#19d3f3",
           "#FF6692",
           "#B6E880",
           "#FF97FF",
           "#FECB52"
          ],
          "font": {
           "color": "#2a3f5f"
          },
          "geo": {
           "bgcolor": "white",
           "lakecolor": "white",
           "landcolor": "white",
           "showlakes": true,
           "showland": true,
           "subunitcolor": "#C8D4E3"
          },
          "hoverlabel": {
           "align": "left"
          },
          "hovermode": "closest",
          "mapbox": {
           "style": "light"
          },
          "paper_bgcolor": "white",
          "plot_bgcolor": "white",
          "polar": {
           "angularaxis": {
            "gridcolor": "#EBF0F8",
            "linecolor": "#EBF0F8",
            "ticks": ""
           },
           "bgcolor": "white",
           "radialaxis": {
            "gridcolor": "#EBF0F8",
            "linecolor": "#EBF0F8",
            "ticks": ""
           }
          },
          "scene": {
           "xaxis": {
            "backgroundcolor": "white",
            "gridcolor": "#DFE8F3",
            "gridwidth": 2,
            "linecolor": "#EBF0F8",
            "showbackground": true,
            "ticks": "",
            "zerolinecolor": "#EBF0F8"
           },
           "yaxis": {
            "backgroundcolor": "white",
            "gridcolor": "#DFE8F3",
            "gridwidth": 2,
            "linecolor": "#EBF0F8",
            "showbackground": true,
            "ticks": "",
            "zerolinecolor": "#EBF0F8"
           },
           "zaxis": {
            "backgroundcolor": "white",
            "gridcolor": "#DFE8F3",
            "gridwidth": 2,
            "linecolor": "#EBF0F8",
            "showbackground": true,
            "ticks": "",
            "zerolinecolor": "#EBF0F8"
           }
          },
          "shapedefaults": {
           "line": {
            "color": "#2a3f5f"
           }
          },
          "ternary": {
           "aaxis": {
            "gridcolor": "#DFE8F3",
            "linecolor": "#A2B1C6",
            "ticks": ""
           },
           "baxis": {
            "gridcolor": "#DFE8F3",
            "linecolor": "#A2B1C6",
            "ticks": ""
           },
           "bgcolor": "white",
           "caxis": {
            "gridcolor": "#DFE8F3",
            "linecolor": "#A2B1C6",
            "ticks": ""
           }
          },
          "title": {
           "x": 0.05
          },
          "xaxis": {
           "automargin": true,
           "gridcolor": "#EBF0F8",
           "linecolor": "#EBF0F8",
           "ticks": "",
           "title": {
            "standoff": 15
           },
           "zerolinecolor": "#EBF0F8",
           "zerolinewidth": 2
          },
          "yaxis": {
           "automargin": true,
           "gridcolor": "#EBF0F8",
           "linecolor": "#EBF0F8",
           "ticks": "",
           "title": {
            "standoff": 15
           },
           "zerolinecolor": "#EBF0F8",
           "zerolinewidth": 2
          }
         }
        },
        "title": {
         "text": "Cross-Validation (N=5) Mean F1 score with Error Bands"
        },
        "xaxis": {
         "title": {
          "text": "Training Steps"
         }
        },
        "yaxis": {
         "range": [
          0.5,
          1
         ],
         "title": {
          "text": "Performance Score"
         }
        }
       }
      }
     },
     "metadata": {},
     "output_type": "display_data"
    },
    {
     "data": {
      "application/vnd.plotly.v1+json": {
       "config": {
        "plotlyServerURL": "https://plot.ly"
       },
       "data": [
        {
         "line": {
          "color": "blue"
         },
         "mode": "lines",
         "name": "Mean F1 Score",
         "type": "scatter",
         "x": {
          "bdata": "AAABAAIAAwAEAAUABgAHAAgACQAKAAsADAANAA4ADwAQABEAEgATABQAFQAWABcAGAAZABoAGwAcAB0AHgAfACAAIQAiACMAJAAlACYAJwAoACkAKgArACwALQAuAC8AMAAxADIAMwA0ADUANgA3ADgAOQA6ADsAPAA9AD4APwBAAEEAQgBDAEQARQBGAEcASABJAEoASwBMAE0ATgBPAFAAUQBSAFMAVABVAFYAVwBYAFkAWgBbAFwAXQBeAF8AYABhAGIAYwBkAGUAZgBnAGgAaQBqAGsAbABtAG4AbwBwAHEAcgBzAHQAdQB2AHcAeAB5AHoAewB8AH0AfgB/AIAAgQCCAIMAhACFAIYAhwCIAIkAigCLAIwAjQCOAI8AkACRAJIAkwCUAJUAlgCXAJgAmQCaAJsAnACdAJ4AnwCgAKEAogCjAKQApQCmAKcAqACpAKoAqwCsAK0ArgCvALAAsQCyALMAtAC1ALYAtwA=",
          "dtype": "i2"
         },
         "y": {
          "bdata": "AsKfmGYk4j9mk8QsBeHjP+MdezqTC+Q/DqwGxBdH4z/qh8PIBLzjP8/XfoWhquM/53tNT4VD4z9KZ+S8ZkHjPwRFwMVZrOM/pSBmpsP14z8/MLVvHb7jP50yaodUyeM/+U+Ws/Kx4z+VDdmrKAvkP7nqAF3n9eM/Um/ux26n4z8y56tuzlzjP6qEuNabYeM/Ktep+G054z/+XSD1qvniP2QwJOzy5eI/fkKhMt304j+ekGmgfGvjP4aCw9G6WOM/1Tsn+86X4z8ope+0nsbjPwo8sSlk9+M/oEA/5slA5D9GrZvBWPHjPz3xh4+U4OM/QvREZPAQ5D8B9uiY1yzkPxLa139VguQ/KwGiSphk5D+AWNL9OrvkP7JVZr9XjuQ/uQOi1KOY5D+gsnuq0KXkPy5lzEoQq+Q/kguSQuHT5D+ksKWX7SnlPx8oKntdEeU/Ro/XvQ9K5T/3UVFebh/lP5agsyiEHuU/MvrtMLP15D8KBxOYnQHlP6r1/ygOLOU/2AY4S0H35D9ybtJl4PPkP/Qq/PAGA+U/1kv7zTvx5D9fMDP3b/HkP18wM/dv8eQ/XzAz92/x5D8WfgQzMcTkP+dJ91dH0uQ/xryPOFi65D+K6XsB8p3kP/oSII9J1uQ/weJ182i75D9RsVVznq7kPzD2xRuAn+Q/2N6eamGe5D9qJnC3YLrkP3Mnqfb1yuQ/VuOVfD3m5D92cQwF7a3kP2xtq8opoeQ/5Sk7uO2R5D/lKTu47ZHkP9sl2n0qheQ/rib7WaS+5D9leyI4cmzkP25/g3I1eeQ/0gGGpSp65D8+4rLam4bkP1WDutx9aeQ/PuKy2puG5D+y+F/Dg3nkP39I3Snzh+Q/dUR87y975D/UWd3TkKTkP7FJXbRpl+Q/LgoIItuy5D+xSV20aZfkP1FMh1RsweQ/UUyHVGzB5D9SxejnIcLkP/KjUE5P6eQ/8qNQTk/p5D/yo1BOT+nkP/KjUE5P6eQ/hsxeKm4E5T96MsbHmfbkP4Z3v9CNBuU/hne/0I0G5T9upBmiXezkP5I7OC7P+OQ/kjs4Ls/45D+SOzguz/jkP9rUD930SeU/LZT5APVK5T8otbydMUvlP3TEqzPgLuU/dMSrM+Au5T90xKsz4C7lP3TEqzPgLuU/k4BzdF055T/tAz1LsyrlP2ok5LFnEOU/aiTksWcQ5T9bNF7vIEblP95jzIjBYeU/YaMhG1BG5T9ygVejygHlP6SssFkCFOU/pKywWQIU5T8eOiuOeDHlPxH1MYWEIeU/Im1bx3Mv5T/jhBIURD3lP0BPuDpGFeU/ygiIl5Ei5T9aFNwbqjnlP/sWBrysY+U/HlxaxP1e5T+Y6dT4c3zlP2ghYUaWl+U/aCFhRpaX5T9oIWFGlpflPz40Je+fieU/xKaquils5T9ytwKjpmvlP3K3AqOma+U/mSyyDjN45T+ZLLIOM3jlP5kssg4zeOU/whnuZSmG5T/CGe5lKYblP885w2Z7k+U/zznDZnuT5T+mTIcPhYXlPx/aAUT7ouU/H9oBRPui5T+6BrJyjaLlP8MKE61Qr+U/Li07nDuI5T96tjeQBablP17f5ym2suU/ODGc1v6U5T8uLTucO4jlPy4tO5w7iOU/Li07nDuI5T8uLTucO4jlPy4tO5w7iOU/S5FHV4th5T9LkUdXi2HlP66+eBrESOU/cp8PR1wv5T+uvngaxEjlP60xvMXDYuU/hl75F84g5T+GXvkXziDlP1rrCQRJO+U/trr4mvMu5T9a6wkESTvlP7a6+JrzLuU/WusJBEk75T/iLeiueBTlP7a6+JrzLuU/U43H17pH5T9TjcfXukflPzTAMhesR+U/AcI5e9Ng5T9dkSgSflTlP12RKBJ+VOU/XZEoEn5U5T9dkSgSflTlP2rpx2CAiOU/MqEMQ05i5T+WY8AMd3zlP6ysGlAumeU/rKwaUC6Z5T8=",
          "dtype": "f8"
         }
        },
        {
         "fill": "toself",
         "fillcolor": "rgba(0, 0, 255, 0.2)",
         "line": {
          "color": "rgba(255, 255, 255, 0)"
         },
         "showlegend": false,
         "type": "scatter",
         "x": {
          "bdata": "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",
          "dtype": "f8"
         },
         "y": {
          "bdata": "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",
          "dtype": "f8"
         }
        }
       ],
       "layout": {
        "template": {
         "data": {
          "bar": [
           {
            "error_x": {
             "color": "#2a3f5f"
            },
            "error_y": {
             "color": "#2a3f5f"
            },
            "marker": {
             "line": {
              "color": "white",
              "width": 0.5
             },
             "pattern": {
              "fillmode": "overlay",
              "size": 10,
              "solidity": 0.2
             }
            },
            "type": "bar"
           }
          ],
          "barpolar": [
           {
            "marker": {
             "line": {
              "color": "white",
              "width": 0.5
             },
             "pattern": {
              "fillmode": "overlay",
              "size": 10,
              "solidity": 0.2
             }
            },
            "type": "barpolar"
           }
          ],
          "carpet": [
           {
            "aaxis": {
             "endlinecolor": "#2a3f5f",
             "gridcolor": "#C8D4E3",
             "linecolor": "#C8D4E3",
             "minorgridcolor": "#C8D4E3",
             "startlinecolor": "#2a3f5f"
            },
            "baxis": {
             "endlinecolor": "#2a3f5f",
             "gridcolor": "#C8D4E3",
             "linecolor": "#C8D4E3",
             "minorgridcolor": "#C8D4E3",
             "startlinecolor": "#2a3f5f"
            },
            "type": "carpet"
           }
          ],
          "choropleth": [
           {
            "colorbar": {
             "outlinewidth": 0,
             "ticks": ""
            },
            "type": "choropleth"
           }
          ],
          "contour": [
           {
            "colorbar": {
             "outlinewidth": 0,
             "ticks": ""
            },
            "colorscale": [
             [
              0,
              "#0d0887"
             ],
             [
              0.1111111111111111,
              "#46039f"
             ],
             [
              0.2222222222222222,
              "#7201a8"
             ],
             [
              0.3333333333333333,
              "#9c179e"
             ],
             [
              0.4444444444444444,
              "#bd3786"
             ],
             [
              0.5555555555555556,
              "#d8576b"
             ],
             [
              0.6666666666666666,
              "#ed7953"
             ],
             [
              0.7777777777777778,
              "#fb9f3a"
             ],
             [
              0.8888888888888888,
              "#fdca26"
             ],
             [
              1,
              "#f0f921"
             ]
            ],
            "type": "contour"
           }
          ],
          "contourcarpet": [
           {
            "colorbar": {
             "outlinewidth": 0,
             "ticks": ""
            },
            "type": "contourcarpet"
           }
          ],
          "heatmap": [
           {
            "colorbar": {
             "outlinewidth": 0,
             "ticks": ""
            },
            "colorscale": [
             [
              0,
              "#0d0887"
             ],
             [
              0.1111111111111111,
              "#46039f"
             ],
             [
              0.2222222222222222,
              "#7201a8"
             ],
             [
              0.3333333333333333,
              "#9c179e"
             ],
             [
              0.4444444444444444,
              "#bd3786"
             ],
             [
              0.5555555555555556,
              "#d8576b"
             ],
             [
              0.6666666666666666,
              "#ed7953"
             ],
             [
              0.7777777777777778,
              "#fb9f3a"
             ],
             [
              0.8888888888888888,
              "#fdca26"
             ],
             [
              1,
              "#f0f921"
             ]
            ],
            "type": "heatmap"
           }
          ],
          "histogram": [
           {
            "marker": {
             "pattern": {
              "fillmode": "overlay",
              "size": 10,
              "solidity": 0.2
             }
            },
            "type": "histogram"
           }
          ],
          "histogram2d": [
           {
            "colorbar": {
             "outlinewidth": 0,
             "ticks": ""
            },
            "colorscale": [
             [
              0,
              "#0d0887"
             ],
             [
              0.1111111111111111,
              "#46039f"
             ],
             [
              0.2222222222222222,
              "#7201a8"
             ],
             [
              0.3333333333333333,
              "#9c179e"
             ],
             [
              0.4444444444444444,
              "#bd3786"
             ],
             [
              0.5555555555555556,
              "#d8576b"
             ],
             [
              0.6666666666666666,
              "#ed7953"
             ],
             [
              0.7777777777777778,
              "#fb9f3a"
             ],
             [
              0.8888888888888888,
              "#fdca26"
             ],
             [
              1,
              "#f0f921"
             ]
            ],
            "type": "histogram2d"
           }
          ],
          "histogram2dcontour": [
           {
            "colorbar": {
             "outlinewidth": 0,
             "ticks": ""
            },
            "colorscale": [
             [
              0,
              "#0d0887"
             ],
             [
              0.1111111111111111,
              "#46039f"
             ],
             [
              0.2222222222222222,
              "#7201a8"
             ],
             [
              0.3333333333333333,
              "#9c179e"
             ],
             [
              0.4444444444444444,
              "#bd3786"
             ],
             [
              0.5555555555555556,
              "#d8576b"
             ],
             [
              0.6666666666666666,
              "#ed7953"
             ],
             [
              0.7777777777777778,
              "#fb9f3a"
             ],
             [
              0.8888888888888888,
              "#fdca26"
             ],
             [
              1,
              "#f0f921"
             ]
            ],
            "type": "histogram2dcontour"
           }
          ],
          "mesh3d": [
           {
            "colorbar": {
             "outlinewidth": 0,
             "ticks": ""
            },
            "type": "mesh3d"
           }
          ],
          "parcoords": [
           {
            "line": {
             "colorbar": {
              "outlinewidth": 0,
              "ticks": ""
             }
            },
            "type": "parcoords"
           }
          ],
          "pie": [
           {
            "automargin": true,
            "type": "pie"
           }
          ],
          "scatter": [
           {
            "fillpattern": {
             "fillmode": "overlay",
             "size": 10,
             "solidity": 0.2
            },
            "type": "scatter"
           }
          ],
          "scatter3d": [
           {
            "line": {
             "colorbar": {
              "outlinewidth": 0,
              "ticks": ""
             }
            },
            "marker": {
             "colorbar": {
              "outlinewidth": 0,
              "ticks": ""
             }
            },
            "type": "scatter3d"
           }
          ],
          "scattercarpet": [
           {
            "marker": {
             "colorbar": {
              "outlinewidth": 0,
              "ticks": ""
             }
            },
            "type": "scattercarpet"
           }
          ],
          "scattergeo": [
           {
            "marker": {
             "colorbar": {
              "outlinewidth": 0,
              "ticks": ""
             }
            },
            "type": "scattergeo"
           }
          ],
          "scattergl": [
           {
            "marker": {
             "colorbar": {
              "outlinewidth": 0,
              "ticks": ""
             }
            },
            "type": "scattergl"
           }
          ],
          "scattermap": [
           {
            "marker": {
             "colorbar": {
              "outlinewidth": 0,
              "ticks": ""
             }
            },
            "type": "scattermap"
           }
          ],
          "scattermapbox": [
           {
            "marker": {
             "colorbar": {
              "outlinewidth": 0,
              "ticks": ""
             }
            },
            "type": "scattermapbox"
           }
          ],
          "scatterpolar": [
           {
            "marker": {
             "colorbar": {
              "outlinewidth": 0,
              "ticks": ""
             }
            },
            "type": "scatterpolar"
           }
          ],
          "scatterpolargl": [
           {
            "marker": {
             "colorbar": {
              "outlinewidth": 0,
              "ticks": ""
             }
            },
            "type": "scatterpolargl"
           }
          ],
          "scatterternary": [
           {
            "marker": {
             "colorbar": {
              "outlinewidth": 0,
              "ticks": ""
             }
            },
            "type": "scatterternary"
           }
          ],
          "surface": [
           {
            "colorbar": {
             "outlinewidth": 0,
             "ticks": ""
            },
            "colorscale": [
             [
              0,
              "#0d0887"
             ],
             [
              0.1111111111111111,
              "#46039f"
             ],
             [
              0.2222222222222222,
              "#7201a8"
             ],
             [
              0.3333333333333333,
              "#9c179e"
             ],
             [
              0.4444444444444444,
              "#bd3786"
             ],
             [
              0.5555555555555556,
              "#d8576b"
             ],
             [
              0.6666666666666666,
              "#ed7953"
             ],
             [
              0.7777777777777778,
              "#fb9f3a"
             ],
             [
              0.8888888888888888,
              "#fdca26"
             ],
             [
              1,
              "#f0f921"
             ]
            ],
            "type": "surface"
           }
          ],
          "table": [
           {
            "cells": {
             "fill": {
              "color": "#EBF0F8"
             },
             "line": {
              "color": "white"
             }
            },
            "header": {
             "fill": {
              "color": "#C8D4E3"
             },
             "line": {
              "color": "white"
             }
            },
            "type": "table"
           }
          ]
         },
         "layout": {
          "annotationdefaults": {
           "arrowcolor": "#2a3f5f",
           "arrowhead": 0,
           "arrowwidth": 1
          },
          "autotypenumbers": "strict",
          "coloraxis": {
           "colorbar": {
            "outlinewidth": 0,
            "ticks": ""
           }
          },
          "colorscale": {
           "diverging": [
            [
             0,
             "#8e0152"
            ],
            [
             0.1,
             "#c51b7d"
            ],
            [
             0.2,
             "#de77ae"
            ],
            [
             0.3,
             "#f1b6da"
            ],
            [
             0.4,
             "#fde0ef"
            ],
            [
             0.5,
             "#f7f7f7"
            ],
            [
             0.6,
             "#e6f5d0"
            ],
            [
             0.7,
             "#b8e186"
            ],
            [
             0.8,
             "#7fbc41"
            ],
            [
             0.9,
             "#4d9221"
            ],
            [
             1,
             "#276419"
            ]
           ],
           "sequential": [
            [
             0,
             "#0d0887"
            ],
            [
             0.1111111111111111,
             "#46039f"
            ],
            [
             0.2222222222222222,
             "#7201a8"
            ],
            [
             0.3333333333333333,
             "#9c179e"
            ],
            [
             0.4444444444444444,
             "#bd3786"
            ],
            [
             0.5555555555555556,
             "#d8576b"
            ],
            [
             0.6666666666666666,
             "#ed7953"
            ],
            [
             0.7777777777777778,
             "#fb9f3a"
            ],
            [
             0.8888888888888888,
             "#fdca26"
            ],
            [
             1,
             "#f0f921"
            ]
           ],
           "sequentialminus": [
            [
             0,
             "#0d0887"
            ],
            [
             0.1111111111111111,
             "#46039f"
            ],
            [
             0.2222222222222222,
             "#7201a8"
            ],
            [
             0.3333333333333333,
             "#9c179e"
            ],
            [
             0.4444444444444444,
             "#bd3786"
            ],
            [
             0.5555555555555556,
             "#d8576b"
            ],
            [
             0.6666666666666666,
             "#ed7953"
            ],
            [
             0.7777777777777778,
             "#fb9f3a"
            ],
            [
             0.8888888888888888,
             "#fdca26"
            ],
            [
             1,
             "#f0f921"
            ]
           ]
          },
          "colorway": [
           "#636efa",
           "#EF553B",
           "#00cc96",
           "#ab63fa",
           "#FFA15A",
           "#19d3f3",
           "#FF6692",
           "#B6E880",
           "#FF97FF",
           "#FECB52"
          ],
          "font": {
           "color": "#2a3f5f"
          },
          "geo": {
           "bgcolor": "white",
           "lakecolor": "white",
           "landcolor": "white",
           "showlakes": true,
           "showland": true,
           "subunitcolor": "#C8D4E3"
          },
          "hoverlabel": {
           "align": "left"
          },
          "hovermode": "closest",
          "mapbox": {
           "style": "light"
          },
          "paper_bgcolor": "white",
          "plot_bgcolor": "white",
          "polar": {
           "angularaxis": {
            "gridcolor": "#EBF0F8",
            "linecolor": "#EBF0F8",
            "ticks": ""
           },
           "bgcolor": "white",
           "radialaxis": {
            "gridcolor": "#EBF0F8",
            "linecolor": "#EBF0F8",
            "ticks": ""
           }
          },
          "scene": {
           "xaxis": {
            "backgroundcolor": "white",
            "gridcolor": "#DFE8F3",
            "gridwidth": 2,
            "linecolor": "#EBF0F8",
            "showbackground": true,
            "ticks": "",
            "zerolinecolor": "#EBF0F8"
           },
           "yaxis": {
            "backgroundcolor": "white",
            "gridcolor": "#DFE8F3",
            "gridwidth": 2,
            "linecolor": "#EBF0F8",
            "showbackground": true,
            "ticks": "",
            "zerolinecolor": "#EBF0F8"
           },
           "zaxis": {
            "backgroundcolor": "white",
            "gridcolor": "#DFE8F3",
            "gridwidth": 2,
            "linecolor": "#EBF0F8",
            "showbackground": true,
            "ticks": "",
            "zerolinecolor": "#EBF0F8"
           }
          },
          "shapedefaults": {
           "line": {
            "color": "#2a3f5f"
           }
          },
          "ternary": {
           "aaxis": {
            "gridcolor": "#DFE8F3",
            "linecolor": "#A2B1C6",
            "ticks": ""
           },
           "baxis": {
            "gridcolor": "#DFE8F3",
            "linecolor": "#A2B1C6",
            "ticks": ""
           },
           "bgcolor": "white",
           "caxis": {
            "gridcolor": "#DFE8F3",
            "linecolor": "#A2B1C6",
            "ticks": ""
           }
          },
          "title": {
           "x": 0.05
          },
          "xaxis": {
           "automargin": true,
           "gridcolor": "#EBF0F8",
           "linecolor": "#EBF0F8",
           "ticks": "",
           "title": {
            "standoff": 15
           },
           "zerolinecolor": "#EBF0F8",
           "zerolinewidth": 2
          },
          "yaxis": {
           "automargin": true,
           "gridcolor": "#EBF0F8",
           "linecolor": "#EBF0F8",
           "ticks": "",
           "title": {
            "standoff": 15
           },
           "zerolinecolor": "#EBF0F8",
           "zerolinewidth": 2
          }
         }
        },
        "title": {
         "text": "Cross-Validation (N=5) Mean F1 score with Error Bands"
        },
        "xaxis": {
         "title": {
          "text": "Training Steps"
         }
        },
        "yaxis": {
         "range": [
          0.5,
          1
         ],
         "title": {
          "text": "Performance Score"
         }
        }
       }
      }
     },
     "metadata": {},
     "output_type": "display_data"
    }
   ],
   "source": [
    "from ARISA_DSML.train import plot_error_scatter\n",
    "cv_results = pd.read_csv(cv_output_path)\n",
    "plot_error_scatter(\n",
    "    df_plot=cv_results, \n",
    "    name=\"Mean F1 Score\", \n",
    "    title=\"Cross-Validation (N=5) Mean F1 score with Error Bands\",\n",
    "    xtitle=\"Training Steps\",\n",
    "    ytitle=\"Performance Score\",\n",
    "    yaxis_range=[0.5, 1]\n",
    ")"
   ]
  },
  {
   "cell_type": "code",
   "execution_count": 11,
   "id": "63b1fda4",
   "metadata": {},
   "outputs": [
    {
     "data": {
      "application/vnd.plotly.v1+json": {
       "config": {
        "plotlyServerURL": "https://plot.ly"
       },
       "data": [
        {
         "line": {
          "color": "blue"
         },
         "mode": "lines",
         "name": "Mean logloss",
         "type": "scatter",
         "x": {
          "bdata": "AAABAAIAAwAEAAUABgAHAAgACQAKAAsADAANAA4ADwAQABEAEgATABQAFQAWABcAGAAZABoAGwAcAB0AHgAfACAAIQAiACMAJAAlACYAJwAoACkAKgArACwALQAuAC8AMAAxADIAMwA0ADUANgA3ADgAOQA6ADsAPAA9AD4APwBAAEEAQgBDAEQARQBGAEcASABJAEoASwBMAE0ATgBPAFAAUQBSAFMAVABVAFYAVwBYAFkAWgBbAFwAXQBeAF8AYABhAGIAYwBkAGUAZgBnAGgAaQBqAGsAbABtAG4AbwBwAHEAcgBzAHQAdQB2AHcAeAB5AHoAewB8AH0AfgB/AIAAgQCCAIMAhACFAIYAhwCIAIkAigCLAIwAjQCOAI8AkACRAJIAkwCUAJUAlgCXAJgAmQCaAJsAnACdAJ4AnwCgAKEAogCjAKQApQCmAKcAqACpAKoAqwCsAK0ArgCvALAAsQCyALMAtAC1ALYAtwA=",
          "dtype": "i2"
         },
         "y": {
          "bdata": "976L90Ys5T86yDBBwCvkP5K8V1wWluM/ipaZH9UP4z+C+kDUkYfiP3jgT1U5H+I/CLC3I8LJ4T+GnMVh04LhPz2kFU2uNeE/nuYUWuf44D/WgN7/5srgPxggqfpRnOA/+0NRS3V24D/CMshVYU/gPwA8laP7KOA/OcXy6vsL4D9dad16M9rfP5KD2Fvkqt8/MclwtxSK3z+HLWJAQ23fPzaBFy/kQt8/2UtSIEEV3z/gAblASuzeP4f3BY6cy94/SeRqRxSv3j9LNNzGVn/eP3YuYJTZY94/SdUh9qxD3j8iOu+NTzzePwXecO/YH94/bvkAxloO3j/d3CRnh+rdP+qqbJ/C7N0/TZBgVvXY3T9Pc/n8W9vdPw5wmQCZ2t0/ffujwUnS3T/YA9DcOt/dPyfP7ghg8N0/YEPl6yHZ3T/hSGJbxcXdP9YnT1w0v90/zTpKWHiz3T9CtIV8baTdPwCiu7sUr90/NQWiHCWr3T9HayHuVaXdP5WXeg2Oo90/EBSgjjaZ3T+u1rgYmozdPw8Bhh1Mdt0/ir7BP/Fs3T+khKj+q2fdP8LQFK5QVd0/oPqF1AVb3T8Tket4gl/dP2Hkk/dNU90/BqP2Vo1H3T/Yk1z/pE7dP5NKyENgO90/gQB5EZov3T+CCUybDindP/VhcJx6Jd0/wtZ67+gT3T+D/cKaCRvdP2+PGB6iJ90/D4zPS2Eg3T/Kz0YXkizdPwUAIMubKd0/8nsS8qst3T+qItxBhSfdP2U7BtfIKt0/sxT6KLUx3T98072xwjLdP42x7RIXLN0/nI/WWNoo3T8evhTApSfdP2K3F/LJMN0/9UZzeMIz3T9iRd2+1U3dP9VUWBxUOd0/0fEmIpdC3T/leeNqNELdPwqiBSITU90/XPce3AZS3T/jzVAMdUvdP0M7Oa8/QN0/uYsUflxA3T+mCqvxmj3dP6rYui+UNd0/BVWU8zcx3T+BY0BTCEDdP8jM9EGzRN0/1Tbv91NC3T9oL6Wg+kXdPwKBWywRSN0/FdVI/WVZ3T+yZlpPHUndP8o6/fQOUd0/8trhgnRN3T86MbxeglndP8Ce4DbWbd0//bTEzEZo3T/aULmu5G7dP3Lw0Z5zbN0/H+QseyFm3T9dmIIMUmPdP1UNSSiGZN0/rbdYWrVW3T9X6YbgalzdP/JmJXfgYN0/Mw+A3FBW3T/B9/Rx2GfdPzi4SG1uXd0/mtxGFsxX3T8T04/0dWrdP8JOc7B4Zd0/BvrNJmlb3T/MC5RWKXPdP9N4UUWcYd0/Mq3RzNxw3T/AqSHJS2TdP3j676JHZt0/gtviZnBl3T/empXaTF7dP5TKOIhWY90/uli1fuNl3T/ejSAyhmjdPw5jE1BjW90/K8tGnTpY3T9xeycEgWndP1q0/TLpdd0/Ran6WOOE3T8ZAieA6HvdP6zUt2xyfN0/QjGysv+D3T+Mc8HrzIrdP7Wa/Amkkd0/nQBSMNeB3T/27t5xH5DdP1Ziqls9kt0/eJyM+JGW3T+z8ipkYZ3dPwF/APp5kt0/9pY1qdid3T85tCdAEJXdP+BrHzvgld0/moCWhuCW3T8oR2hY6abdP95Jyk4frN0/YAx2ZPmp3T8INFgmTrDdP38dUJ4gtN0/g9dk4DS93T9BG/AuZLvdP9iz2NfJu90/u/vZmYO93T+dsfN998bdP+HuuXQ5yt0/RR+A/JrL3T8iWjFBmtTdP39wBRlz0N0/uNcx+Xvi3T8lbzTpZNndP4MylXYq490/dfwnNajs3T8yc5Ac2vXdP5hpTb2m/N0/a2kJSaf33T8C7X49mvrdP9p5TdSN8t0/tNmxfej63T+skoecvPPdP21f1wNX7d0/n3D39kn03T807G9YXQXeP+YXBTDPDN4/Lxvfj6AW3j+d2XVngAbeP3VYdXH4C94/ypBewO4L3j/GCVqocw7eP7KG7/dBFN4/mseKKgMc3j8=",
          "dtype": "f8"
         }
        },
        {
         "fill": "toself",
         "fillcolor": "rgba(0, 0, 255, 0.2)",
         "line": {
          "color": "rgba(255, 255, 255, 0)"
         },
         "showlegend": false,
         "type": "scatter",
         "x": {
          "bdata": "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",
          "dtype": "f8"
         },
         "y": {
          "bdata": "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",
          "dtype": "f8"
         }
        }
       ],
       "layout": {
        "template": {
         "data": {
          "bar": [
           {
            "error_x": {
             "color": "#2a3f5f"
            },
            "error_y": {
             "color": "#2a3f5f"
            },
            "marker": {
             "line": {
              "color": "white",
              "width": 0.5
             },
             "pattern": {
              "fillmode": "overlay",
              "size": 10,
              "solidity": 0.2
             }
            },
            "type": "bar"
           }
          ],
          "barpolar": [
           {
            "marker": {
             "line": {
              "color": "white",
              "width": 0.5
             },
             "pattern": {
              "fillmode": "overlay",
              "size": 10,
              "solidity": 0.2
             }
            },
            "type": "barpolar"
           }
          ],
          "carpet": [
           {
            "aaxis": {
             "endlinecolor": "#2a3f5f",
             "gridcolor": "#C8D4E3",
             "linecolor": "#C8D4E3",
             "minorgridcolor": "#C8D4E3",
             "startlinecolor": "#2a3f5f"
            },
            "baxis": {
             "endlinecolor": "#2a3f5f",
             "gridcolor": "#C8D4E3",
             "linecolor": "#C8D4E3",
             "minorgridcolor": "#C8D4E3",
             "startlinecolor": "#2a3f5f"
            },
            "type": "carpet"
           }
          ],
          "choropleth": [
           {
            "colorbar": {
             "outlinewidth": 0,
             "ticks": ""
            },
            "type": "choropleth"
           }
          ],
          "contour": [
           {
            "colorbar": {
             "outlinewidth": 0,
             "ticks": ""
            },
            "colorscale": [
             [
              0,
              "#0d0887"
             ],
             [
              0.1111111111111111,
              "#46039f"
             ],
             [
              0.2222222222222222,
              "#7201a8"
             ],
             [
              0.3333333333333333,
              "#9c179e"
             ],
             [
              0.4444444444444444,
              "#bd3786"
             ],
             [
              0.5555555555555556,
              "#d8576b"
             ],
             [
              0.6666666666666666,
              "#ed7953"
             ],
             [
              0.7777777777777778,
              "#fb9f3a"
             ],
             [
              0.8888888888888888,
              "#fdca26"
             ],
             [
              1,
              "#f0f921"
             ]
            ],
            "type": "contour"
           }
          ],
          "contourcarpet": [
           {
            "colorbar": {
             "outlinewidth": 0,
             "ticks": ""
            },
            "type": "contourcarpet"
           }
          ],
          "heatmap": [
           {
            "colorbar": {
             "outlinewidth": 0,
             "ticks": ""
            },
            "colorscale": [
             [
              0,
              "#0d0887"
             ],
             [
              0.1111111111111111,
              "#46039f"
             ],
             [
              0.2222222222222222,
              "#7201a8"
             ],
             [
              0.3333333333333333,
              "#9c179e"
             ],
             [
              0.4444444444444444,
              "#bd3786"
             ],
             [
              0.5555555555555556,
              "#d8576b"
             ],
             [
              0.6666666666666666,
              "#ed7953"
             ],
             [
              0.7777777777777778,
              "#fb9f3a"
             ],
             [
              0.8888888888888888,
              "#fdca26"
             ],
             [
              1,
              "#f0f921"
             ]
            ],
            "type": "heatmap"
           }
          ],
          "histogram": [
           {
            "marker": {
             "pattern": {
              "fillmode": "overlay",
              "size": 10,
              "solidity": 0.2
             }
            },
            "type": "histogram"
           }
          ],
          "histogram2d": [
           {
            "colorbar": {
             "outlinewidth": 0,
             "ticks": ""
            },
            "colorscale": [
             [
              0,
              "#0d0887"
             ],
             [
              0.1111111111111111,
              "#46039f"
             ],
             [
              0.2222222222222222,
              "#7201a8"
             ],
             [
              0.3333333333333333,
              "#9c179e"
             ],
             [
              0.4444444444444444,
              "#bd3786"
             ],
             [
              0.5555555555555556,
              "#d8576b"
             ],
             [
              0.6666666666666666,
              "#ed7953"
             ],
             [
              0.7777777777777778,
              "#fb9f3a"
             ],
             [
              0.8888888888888888,
              "#fdca26"
             ],
             [
              1,
              "#f0f921"
             ]
            ],
            "type": "histogram2d"
           }
          ],
          "histogram2dcontour": [
           {
            "colorbar": {
             "outlinewidth": 0,
             "ticks": ""
            },
            "colorscale": [
             [
              0,
              "#0d0887"
             ],
             [
              0.1111111111111111,
              "#46039f"
             ],
             [
              0.2222222222222222,
              "#7201a8"
             ],
             [
              0.3333333333333333,
              "#9c179e"
             ],
             [
              0.4444444444444444,
              "#bd3786"
             ],
             [
              0.5555555555555556,
              "#d8576b"
             ],
             [
              0.6666666666666666,
              "#ed7953"
             ],
             [
              0.7777777777777778,
              "#fb9f3a"
             ],
             [
              0.8888888888888888,
              "#fdca26"
             ],
             [
              1,
              "#f0f921"
             ]
            ],
            "type": "histogram2dcontour"
           }
          ],
          "mesh3d": [
           {
            "colorbar": {
             "outlinewidth": 0,
             "ticks": ""
            },
            "type": "mesh3d"
           }
          ],
          "parcoords": [
           {
            "line": {
             "colorbar": {
              "outlinewidth": 0,
              "ticks": ""
             }
            },
            "type": "parcoords"
           }
          ],
          "pie": [
           {
            "automargin": true,
            "type": "pie"
           }
          ],
          "scatter": [
           {
            "fillpattern": {
             "fillmode": "overlay",
             "size": 10,
             "solidity": 0.2
            },
            "type": "scatter"
           }
          ],
          "scatter3d": [
           {
            "line": {
             "colorbar": {
              "outlinewidth": 0,
              "ticks": ""
             }
            },
            "marker": {
             "colorbar": {
              "outlinewidth": 0,
              "ticks": ""
             }
            },
            "type": "scatter3d"
           }
          ],
          "scattercarpet": [
           {
            "marker": {
             "colorbar": {
              "outlinewidth": 0,
              "ticks": ""
             }
            },
            "type": "scattercarpet"
           }
          ],
          "scattergeo": [
           {
            "marker": {
             "colorbar": {
              "outlinewidth": 0,
              "ticks": ""
             }
            },
            "type": "scattergeo"
           }
          ],
          "scattergl": [
           {
            "marker": {
             "colorbar": {
              "outlinewidth": 0,
              "ticks": ""
             }
            },
            "type": "scattergl"
           }
          ],
          "scattermap": [
           {
            "marker": {
             "colorbar": {
              "outlinewidth": 0,
              "ticks": ""
             }
            },
            "type": "scattermap"
           }
          ],
          "scattermapbox": [
           {
            "marker": {
             "colorbar": {
              "outlinewidth": 0,
              "ticks": ""
             }
            },
            "type": "scattermapbox"
           }
          ],
          "scatterpolar": [
           {
            "marker": {
             "colorbar": {
              "outlinewidth": 0,
              "ticks": ""
             }
            },
            "type": "scatterpolar"
           }
          ],
          "scatterpolargl": [
           {
            "marker": {
             "colorbar": {
              "outlinewidth": 0,
              "ticks": ""
             }
            },
            "type": "scatterpolargl"
           }
          ],
          "scatterternary": [
           {
            "marker": {
             "colorbar": {
              "outlinewidth": 0,
              "ticks": ""
             }
            },
            "type": "scatterternary"
           }
          ],
          "surface": [
           {
            "colorbar": {
             "outlinewidth": 0,
             "ticks": ""
            },
            "colorscale": [
             [
              0,
              "#0d0887"
             ],
             [
              0.1111111111111111,
              "#46039f"
             ],
             [
              0.2222222222222222,
              "#7201a8"
             ],
             [
              0.3333333333333333,
              "#9c179e"
             ],
             [
              0.4444444444444444,
              "#bd3786"
             ],
             [
              0.5555555555555556,
              "#d8576b"
             ],
             [
              0.6666666666666666,
              "#ed7953"
             ],
             [
              0.7777777777777778,
              "#fb9f3a"
             ],
             [
              0.8888888888888888,
              "#fdca26"
             ],
             [
              1,
              "#f0f921"
             ]
            ],
            "type": "surface"
           }
          ],
          "table": [
           {
            "cells": {
             "fill": {
              "color": "#EBF0F8"
             },
             "line": {
              "color": "white"
             }
            },
            "header": {
             "fill": {
              "color": "#C8D4E3"
             },
             "line": {
              "color": "white"
             }
            },
            "type": "table"
           }
          ]
         },
         "layout": {
          "annotationdefaults": {
           "arrowcolor": "#2a3f5f",
           "arrowhead": 0,
           "arrowwidth": 1
          },
          "autotypenumbers": "strict",
          "coloraxis": {
           "colorbar": {
            "outlinewidth": 0,
            "ticks": ""
           }
          },
          "colorscale": {
           "diverging": [
            [
             0,
             "#8e0152"
            ],
            [
             0.1,
             "#c51b7d"
            ],
            [
             0.2,
             "#de77ae"
            ],
            [
             0.3,
             "#f1b6da"
            ],
            [
             0.4,
             "#fde0ef"
            ],
            [
             0.5,
             "#f7f7f7"
            ],
            [
             0.6,
             "#e6f5d0"
            ],
            [
             0.7,
             "#b8e186"
            ],
            [
             0.8,
             "#7fbc41"
            ],
            [
             0.9,
             "#4d9221"
            ],
            [
             1,
             "#276419"
            ]
           ],
           "sequential": [
            [
             0,
             "#0d0887"
            ],
            [
             0.1111111111111111,
             "#46039f"
            ],
            [
             0.2222222222222222,
             "#7201a8"
            ],
            [
             0.3333333333333333,
             "#9c179e"
            ],
            [
             0.4444444444444444,
             "#bd3786"
            ],
            [
             0.5555555555555556,
             "#d8576b"
            ],
            [
             0.6666666666666666,
             "#ed7953"
            ],
            [
             0.7777777777777778,
             "#fb9f3a"
            ],
            [
             0.8888888888888888,
             "#fdca26"
            ],
            [
             1,
             "#f0f921"
            ]
           ],
           "sequentialminus": [
            [
             0,
             "#0d0887"
            ],
            [
             0.1111111111111111,
             "#46039f"
            ],
            [
             0.2222222222222222,
             "#7201a8"
            ],
            [
             0.3333333333333333,
             "#9c179e"
            ],
            [
             0.4444444444444444,
             "#bd3786"
            ],
            [
             0.5555555555555556,
             "#d8576b"
            ],
            [
             0.6666666666666666,
             "#ed7953"
            ],
            [
             0.7777777777777778,
             "#fb9f3a"
            ],
            [
             0.8888888888888888,
             "#fdca26"
            ],
            [
             1,
             "#f0f921"
            ]
           ]
          },
          "colorway": [
           "#636efa",
           "#EF553B",
           "#00cc96",
           "#ab63fa",
           "#FFA15A",
           "#19d3f3",
           "#FF6692",
           "#B6E880",
           "#FF97FF",
           "#FECB52"
          ],
          "font": {
           "color": "#2a3f5f"
          },
          "geo": {
           "bgcolor": "white",
           "lakecolor": "white",
           "landcolor": "white",
           "showlakes": true,
           "showland": true,
           "subunitcolor": "#C8D4E3"
          },
          "hoverlabel": {
           "align": "left"
          },
          "hovermode": "closest",
          "mapbox": {
           "style": "light"
          },
          "paper_bgcolor": "white",
          "plot_bgcolor": "white",
          "polar": {
           "angularaxis": {
            "gridcolor": "#EBF0F8",
            "linecolor": "#EBF0F8",
            "ticks": ""
           },
           "bgcolor": "white",
           "radialaxis": {
            "gridcolor": "#EBF0F8",
            "linecolor": "#EBF0F8",
            "ticks": ""
           }
          },
          "scene": {
           "xaxis": {
            "backgroundcolor": "white",
            "gridcolor": "#DFE8F3",
            "gridwidth": 2,
            "linecolor": "#EBF0F8",
            "showbackground": true,
            "ticks": "",
            "zerolinecolor": "#EBF0F8"
           },
           "yaxis": {
            "backgroundcolor": "white",
            "gridcolor": "#DFE8F3",
            "gridwidth": 2,
            "linecolor": "#EBF0F8",
            "showbackground": true,
            "ticks": "",
            "zerolinecolor": "#EBF0F8"
           },
           "zaxis": {
            "backgroundcolor": "white",
            "gridcolor": "#DFE8F3",
            "gridwidth": 2,
            "linecolor": "#EBF0F8",
            "showbackground": true,
            "ticks": "",
            "zerolinecolor": "#EBF0F8"
           }
          },
          "shapedefaults": {
           "line": {
            "color": "#2a3f5f"
           }
          },
          "ternary": {
           "aaxis": {
            "gridcolor": "#DFE8F3",
            "linecolor": "#A2B1C6",
            "ticks": ""
           },
           "baxis": {
            "gridcolor": "#DFE8F3",
            "linecolor": "#A2B1C6",
            "ticks": ""
           },
           "bgcolor": "white",
           "caxis": {
            "gridcolor": "#DFE8F3",
            "linecolor": "#A2B1C6",
            "ticks": ""
           }
          },
          "title": {
           "x": 0.05
          },
          "xaxis": {
           "automargin": true,
           "gridcolor": "#EBF0F8",
           "linecolor": "#EBF0F8",
           "ticks": "",
           "title": {
            "standoff": 15
           },
           "zerolinecolor": "#EBF0F8",
           "zerolinewidth": 2
          },
          "yaxis": {
           "automargin": true,
           "gridcolor": "#EBF0F8",
           "linecolor": "#EBF0F8",
           "ticks": "",
           "title": {
            "standoff": 15
           },
           "zerolinecolor": "#EBF0F8",
           "zerolinewidth": 2
          }
         }
        },
        "title": {
         "text": "Cross-Validation (N=5) Mean Logloss with Error Bands"
        },
        "xaxis": {
         "title": {
          "text": "Training Steps"
         }
        },
        "yaxis": {
         "title": {
          "text": "Logloss"
         }
        }
       }
      }
     },
     "metadata": {},
     "output_type": "display_data"
    },
    {
     "data": {
      "application/vnd.plotly.v1+json": {
       "config": {
        "plotlyServerURL": "https://plot.ly"
       },
       "data": [
        {
         "line": {
          "color": "blue"
         },
         "mode": "lines",
         "name": "Mean logloss",
         "type": "scatter",
         "x": {
          "bdata": "AAABAAIAAwAEAAUABgAHAAgACQAKAAsADAANAA4ADwAQABEAEgATABQAFQAWABcAGAAZABoAGwAcAB0AHgAfACAAIQAiACMAJAAlACYAJwAoACkAKgArACwALQAuAC8AMAAxADIAMwA0ADUANgA3ADgAOQA6ADsAPAA9AD4APwBAAEEAQgBDAEQARQBGAEcASABJAEoASwBMAE0ATgBPAFAAUQBSAFMAVABVAFYAVwBYAFkAWgBbAFwAXQBeAF8AYABhAGIAYwBkAGUAZgBnAGgAaQBqAGsAbABtAG4AbwBwAHEAcgBzAHQAdQB2AHcAeAB5AHoAewB8AH0AfgB/AIAAgQCCAIMAhACFAIYAhwCIAIkAigCLAIwAjQCOAI8AkACRAJIAkwCUAJUAlgCXAJgAmQCaAJsAnACdAJ4AnwCgAKEAogCjAKQApQCmAKcAqACpAKoAqwCsAK0ArgCvALAAsQCyALMAtAC1ALYAtwA=",
          "dtype": "i2"
         },
         "y": {
          "bdata": "976L90Ys5T86yDBBwCvkP5K8V1wWluM/ipaZH9UP4z+C+kDUkYfiP3jgT1U5H+I/CLC3I8LJ4T+GnMVh04LhPz2kFU2uNeE/nuYUWuf44D/WgN7/5srgPxggqfpRnOA/+0NRS3V24D/CMshVYU/gPwA8laP7KOA/OcXy6vsL4D9dad16M9rfP5KD2Fvkqt8/MclwtxSK3z+HLWJAQ23fPzaBFy/kQt8/2UtSIEEV3z/gAblASuzeP4f3BY6cy94/SeRqRxSv3j9LNNzGVn/eP3YuYJTZY94/SdUh9qxD3j8iOu+NTzzePwXecO/YH94/bvkAxloO3j/d3CRnh+rdP+qqbJ/C7N0/TZBgVvXY3T9Pc/n8W9vdPw5wmQCZ2t0/ffujwUnS3T/YA9DcOt/dPyfP7ghg8N0/YEPl6yHZ3T/hSGJbxcXdP9YnT1w0v90/zTpKWHiz3T9CtIV8baTdPwCiu7sUr90/NQWiHCWr3T9HayHuVaXdP5WXeg2Oo90/EBSgjjaZ3T+u1rgYmozdPw8Bhh1Mdt0/ir7BP/Fs3T+khKj+q2fdP8LQFK5QVd0/oPqF1AVb3T8Tket4gl/dP2Hkk/dNU90/BqP2Vo1H3T/Yk1z/pE7dP5NKyENgO90/gQB5EZov3T+CCUybDindP/VhcJx6Jd0/wtZ67+gT3T+D/cKaCRvdP2+PGB6iJ90/D4zPS2Eg3T/Kz0YXkizdPwUAIMubKd0/8nsS8qst3T+qItxBhSfdP2U7BtfIKt0/sxT6KLUx3T98072xwjLdP42x7RIXLN0/nI/WWNoo3T8evhTApSfdP2K3F/LJMN0/9UZzeMIz3T9iRd2+1U3dP9VUWBxUOd0/0fEmIpdC3T/leeNqNELdPwqiBSITU90/XPce3AZS3T/jzVAMdUvdP0M7Oa8/QN0/uYsUflxA3T+mCqvxmj3dP6rYui+UNd0/BVWU8zcx3T+BY0BTCEDdP8jM9EGzRN0/1Tbv91NC3T9oL6Wg+kXdPwKBWywRSN0/FdVI/WVZ3T+yZlpPHUndP8o6/fQOUd0/8trhgnRN3T86MbxeglndP8Ce4DbWbd0//bTEzEZo3T/aULmu5G7dP3Lw0Z5zbN0/H+QseyFm3T9dmIIMUmPdP1UNSSiGZN0/rbdYWrVW3T9X6YbgalzdP/JmJXfgYN0/Mw+A3FBW3T/B9/Rx2GfdPzi4SG1uXd0/mtxGFsxX3T8T04/0dWrdP8JOc7B4Zd0/BvrNJmlb3T/MC5RWKXPdP9N4UUWcYd0/Mq3RzNxw3T/AqSHJS2TdP3j676JHZt0/gtviZnBl3T/empXaTF7dP5TKOIhWY90/uli1fuNl3T/ejSAyhmjdPw5jE1BjW90/K8tGnTpY3T9xeycEgWndP1q0/TLpdd0/Ran6WOOE3T8ZAieA6HvdP6zUt2xyfN0/QjGysv+D3T+Mc8HrzIrdP7Wa/Amkkd0/nQBSMNeB3T/27t5xH5DdP1Ziqls9kt0/eJyM+JGW3T+z8ipkYZ3dPwF/APp5kt0/9pY1qdid3T85tCdAEJXdP+BrHzvgld0/moCWhuCW3T8oR2hY6abdP95Jyk4frN0/YAx2ZPmp3T8INFgmTrDdP38dUJ4gtN0/g9dk4DS93T9BG/AuZLvdP9iz2NfJu90/u/vZmYO93T+dsfN998bdP+HuuXQ5yt0/RR+A/JrL3T8iWjFBmtTdP39wBRlz0N0/uNcx+Xvi3T8lbzTpZNndP4MylXYq490/dfwnNajs3T8yc5Ac2vXdP5hpTb2m/N0/a2kJSaf33T8C7X49mvrdP9p5TdSN8t0/tNmxfej63T+skoecvPPdP21f1wNX7d0/n3D39kn03T807G9YXQXeP+YXBTDPDN4/Lxvfj6AW3j+d2XVngAbeP3VYdXH4C94/ypBewO4L3j/GCVqocw7eP7KG7/dBFN4/mseKKgMc3j8=",
          "dtype": "f8"
         }
        },
        {
         "fill": "toself",
         "fillcolor": "rgba(0, 0, 255, 0.2)",
         "line": {
          "color": "rgba(255, 255, 255, 0)"
         },
         "showlegend": false,
         "type": "scatter",
         "x": {
          "bdata": "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",
          "dtype": "f8"
         },
         "y": {
          "bdata": "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",
          "dtype": "f8"
         }
        }
       ],
       "layout": {
        "template": {
         "data": {
          "bar": [
           {
            "error_x": {
             "color": "#2a3f5f"
            },
            "error_y": {
             "color": "#2a3f5f"
            },
            "marker": {
             "line": {
              "color": "white",
              "width": 0.5
             },
             "pattern": {
              "fillmode": "overlay",
              "size": 10,
              "solidity": 0.2
             }
            },
            "type": "bar"
           }
          ],
          "barpolar": [
           {
            "marker": {
             "line": {
              "color": "white",
              "width": 0.5
             },
             "pattern": {
              "fillmode": "overlay",
              "size": 10,
              "solidity": 0.2
             }
            },
            "type": "barpolar"
           }
          ],
          "carpet": [
           {
            "aaxis": {
             "endlinecolor": "#2a3f5f",
             "gridcolor": "#C8D4E3",
             "linecolor": "#C8D4E3",
             "minorgridcolor": "#C8D4E3",
             "startlinecolor": "#2a3f5f"
            },
            "baxis": {
             "endlinecolor": "#2a3f5f",
             "gridcolor": "#C8D4E3",
             "linecolor": "#C8D4E3",
             "minorgridcolor": "#C8D4E3",
             "startlinecolor": "#2a3f5f"
            },
            "type": "carpet"
           }
          ],
          "choropleth": [
           {
            "colorbar": {
             "outlinewidth": 0,
             "ticks": ""
            },
            "type": "choropleth"
           }
          ],
          "contour": [
           {
            "colorbar": {
             "outlinewidth": 0,
             "ticks": ""
            },
            "colorscale": [
             [
              0,
              "#0d0887"
             ],
             [
              0.1111111111111111,
              "#46039f"
             ],
             [
              0.2222222222222222,
              "#7201a8"
             ],
             [
              0.3333333333333333,
              "#9c179e"
             ],
             [
              0.4444444444444444,
              "#bd3786"
             ],
             [
              0.5555555555555556,
              "#d8576b"
             ],
             [
              0.6666666666666666,
              "#ed7953"
             ],
             [
              0.7777777777777778,
              "#fb9f3a"
             ],
             [
              0.8888888888888888,
              "#fdca26"
             ],
             [
              1,
              "#f0f921"
             ]
            ],
            "type": "contour"
           }
          ],
          "contourcarpet": [
           {
            "colorbar": {
             "outlinewidth": 0,
             "ticks": ""
            },
            "type": "contourcarpet"
           }
          ],
          "heatmap": [
           {
            "colorbar": {
             "outlinewidth": 0,
             "ticks": ""
            },
            "colorscale": [
             [
              0,
              "#0d0887"
             ],
             [
              0.1111111111111111,
              "#46039f"
             ],
             [
              0.2222222222222222,
              "#7201a8"
             ],
             [
              0.3333333333333333,
              "#9c179e"
             ],
             [
              0.4444444444444444,
              "#bd3786"
             ],
             [
              0.5555555555555556,
              "#d8576b"
             ],
             [
              0.6666666666666666,
              "#ed7953"
             ],
             [
              0.7777777777777778,
              "#fb9f3a"
             ],
             [
              0.8888888888888888,
              "#fdca26"
             ],
             [
              1,
              "#f0f921"
             ]
            ],
            "type": "heatmap"
           }
          ],
          "histogram": [
           {
            "marker": {
             "pattern": {
              "fillmode": "overlay",
              "size": 10,
              "solidity": 0.2
             }
            },
            "type": "histogram"
           }
          ],
          "histogram2d": [
           {
            "colorbar": {
             "outlinewidth": 0,
             "ticks": ""
            },
            "colorscale": [
             [
              0,
              "#0d0887"
             ],
             [
              0.1111111111111111,
              "#46039f"
             ],
             [
              0.2222222222222222,
              "#7201a8"
             ],
             [
              0.3333333333333333,
              "#9c179e"
             ],
             [
              0.4444444444444444,
              "#bd3786"
             ],
             [
              0.5555555555555556,
              "#d8576b"
             ],
             [
              0.6666666666666666,
              "#ed7953"
             ],
             [
              0.7777777777777778,
              "#fb9f3a"
             ],
             [
              0.8888888888888888,
              "#fdca26"
             ],
             [
              1,
              "#f0f921"
             ]
            ],
            "type": "histogram2d"
           }
          ],
          "histogram2dcontour": [
           {
            "colorbar": {
             "outlinewidth": 0,
             "ticks": ""
            },
            "colorscale": [
             [
              0,
              "#0d0887"
             ],
             [
              0.1111111111111111,
              "#46039f"
             ],
             [
              0.2222222222222222,
              "#7201a8"
             ],
             [
              0.3333333333333333,
              "#9c179e"
             ],
             [
              0.4444444444444444,
              "#bd3786"
             ],
             [
              0.5555555555555556,
              "#d8576b"
             ],
             [
              0.6666666666666666,
              "#ed7953"
             ],
             [
              0.7777777777777778,
              "#fb9f3a"
             ],
             [
              0.8888888888888888,
              "#fdca26"
             ],
             [
              1,
              "#f0f921"
             ]
            ],
            "type": "histogram2dcontour"
           }
          ],
          "mesh3d": [
           {
            "colorbar": {
             "outlinewidth": 0,
             "ticks": ""
            },
            "type": "mesh3d"
           }
          ],
          "parcoords": [
           {
            "line": {
             "colorbar": {
              "outlinewidth": 0,
              "ticks": ""
             }
            },
            "type": "parcoords"
           }
          ],
          "pie": [
           {
            "automargin": true,
            "type": "pie"
           }
          ],
          "scatter": [
           {
            "fillpattern": {
             "fillmode": "overlay",
             "size": 10,
             "solidity": 0.2
            },
            "type": "scatter"
           }
          ],
          "scatter3d": [
           {
            "line": {
             "colorbar": {
              "outlinewidth": 0,
              "ticks": ""
             }
            },
            "marker": {
             "colorbar": {
              "outlinewidth": 0,
              "ticks": ""
             }
            },
            "type": "scatter3d"
           }
          ],
          "scattercarpet": [
           {
            "marker": {
             "colorbar": {
              "outlinewidth": 0,
              "ticks": ""
             }
            },
            "type": "scattercarpet"
           }
          ],
          "scattergeo": [
           {
            "marker": {
             "colorbar": {
              "outlinewidth": 0,
              "ticks": ""
             }
            },
            "type": "scattergeo"
           }
          ],
          "scattergl": [
           {
            "marker": {
             "colorbar": {
              "outlinewidth": 0,
              "ticks": ""
             }
            },
            "type": "scattergl"
           }
          ],
          "scattermap": [
           {
            "marker": {
             "colorbar": {
              "outlinewidth": 0,
              "ticks": ""
             }
            },
            "type": "scattermap"
           }
          ],
          "scattermapbox": [
           {
            "marker": {
             "colorbar": {
              "outlinewidth": 0,
              "ticks": ""
             }
            },
            "type": "scattermapbox"
           }
          ],
          "scatterpolar": [
           {
            "marker": {
             "colorbar": {
              "outlinewidth": 0,
              "ticks": ""
             }
            },
            "type": "scatterpolar"
           }
          ],
          "scatterpolargl": [
           {
            "marker": {
             "colorbar": {
              "outlinewidth": 0,
              "ticks": ""
             }
            },
            "type": "scatterpolargl"
           }
          ],
          "scatterternary": [
           {
            "marker": {
             "colorbar": {
              "outlinewidth": 0,
              "ticks": ""
             }
            },
            "type": "scatterternary"
           }
          ],
          "surface": [
           {
            "colorbar": {
             "outlinewidth": 0,
             "ticks": ""
            },
            "colorscale": [
             [
              0,
              "#0d0887"
             ],
             [
              0.1111111111111111,
              "#46039f"
             ],
             [
              0.2222222222222222,
              "#7201a8"
             ],
             [
              0.3333333333333333,
              "#9c179e"
             ],
             [
              0.4444444444444444,
              "#bd3786"
             ],
             [
              0.5555555555555556,
              "#d8576b"
             ],
             [
              0.6666666666666666,
              "#ed7953"
             ],
             [
              0.7777777777777778,
              "#fb9f3a"
             ],
             [
              0.8888888888888888,
              "#fdca26"
             ],
             [
              1,
              "#f0f921"
             ]
            ],
            "type": "surface"
           }
          ],
          "table": [
           {
            "cells": {
             "fill": {
              "color": "#EBF0F8"
             },
             "line": {
              "color": "white"
             }
            },
            "header": {
             "fill": {
              "color": "#C8D4E3"
             },
             "line": {
              "color": "white"
             }
            },
            "type": "table"
           }
          ]
         },
         "layout": {
          "annotationdefaults": {
           "arrowcolor": "#2a3f5f",
           "arrowhead": 0,
           "arrowwidth": 1
          },
          "autotypenumbers": "strict",
          "coloraxis": {
           "colorbar": {
            "outlinewidth": 0,
            "ticks": ""
           }
          },
          "colorscale": {
           "diverging": [
            [
             0,
             "#8e0152"
            ],
            [
             0.1,
             "#c51b7d"
            ],
            [
             0.2,
             "#de77ae"
            ],
            [
             0.3,
             "#f1b6da"
            ],
            [
             0.4,
             "#fde0ef"
            ],
            [
             0.5,
             "#f7f7f7"
            ],
            [
             0.6,
             "#e6f5d0"
            ],
            [
             0.7,
             "#b8e186"
            ],
            [
             0.8,
             "#7fbc41"
            ],
            [
             0.9,
             "#4d9221"
            ],
            [
             1,
             "#276419"
            ]
           ],
           "sequential": [
            [
             0,
             "#0d0887"
            ],
            [
             0.1111111111111111,
             "#46039f"
            ],
            [
             0.2222222222222222,
             "#7201a8"
            ],
            [
             0.3333333333333333,
             "#9c179e"
            ],
            [
             0.4444444444444444,
             "#bd3786"
            ],
            [
             0.5555555555555556,
             "#d8576b"
            ],
            [
             0.6666666666666666,
             "#ed7953"
            ],
            [
             0.7777777777777778,
             "#fb9f3a"
            ],
            [
             0.8888888888888888,
             "#fdca26"
            ],
            [
             1,
             "#f0f921"
            ]
           ],
           "sequentialminus": [
            [
             0,
             "#0d0887"
            ],
            [
             0.1111111111111111,
             "#46039f"
            ],
            [
             0.2222222222222222,
             "#7201a8"
            ],
            [
             0.3333333333333333,
             "#9c179e"
            ],
            [
             0.4444444444444444,
             "#bd3786"
            ],
            [
             0.5555555555555556,
             "#d8576b"
            ],
            [
             0.6666666666666666,
             "#ed7953"
            ],
            [
             0.7777777777777778,
             "#fb9f3a"
            ],
            [
             0.8888888888888888,
             "#fdca26"
            ],
            [
             1,
             "#f0f921"
            ]
           ]
          },
          "colorway": [
           "#636efa",
           "#EF553B",
           "#00cc96",
           "#ab63fa",
           "#FFA15A",
           "#19d3f3",
           "#FF6692",
           "#B6E880",
           "#FF97FF",
           "#FECB52"
          ],
          "font": {
           "color": "#2a3f5f"
          },
          "geo": {
           "bgcolor": "white",
           "lakecolor": "white",
           "landcolor": "white",
           "showlakes": true,
           "showland": true,
           "subunitcolor": "#C8D4E3"
          },
          "hoverlabel": {
           "align": "left"
          },
          "hovermode": "closest",
          "mapbox": {
           "style": "light"
          },
          "paper_bgcolor": "white",
          "plot_bgcolor": "white",
          "polar": {
           "angularaxis": {
            "gridcolor": "#EBF0F8",
            "linecolor": "#EBF0F8",
            "ticks": ""
           },
           "bgcolor": "white",
           "radialaxis": {
            "gridcolor": "#EBF0F8",
            "linecolor": "#EBF0F8",
            "ticks": ""
           }
          },
          "scene": {
           "xaxis": {
            "backgroundcolor": "white",
            "gridcolor": "#DFE8F3",
            "gridwidth": 2,
            "linecolor": "#EBF0F8",
            "showbackground": true,
            "ticks": "",
            "zerolinecolor": "#EBF0F8"
           },
           "yaxis": {
            "backgroundcolor": "white",
            "gridcolor": "#DFE8F3",
            "gridwidth": 2,
            "linecolor": "#EBF0F8",
            "showbackground": true,
            "ticks": "",
            "zerolinecolor": "#EBF0F8"
           },
           "zaxis": {
            "backgroundcolor": "white",
            "gridcolor": "#DFE8F3",
            "gridwidth": 2,
            "linecolor": "#EBF0F8",
            "showbackground": true,
            "ticks": "",
            "zerolinecolor": "#EBF0F8"
           }
          },
          "shapedefaults": {
           "line": {
            "color": "#2a3f5f"
           }
          },
          "ternary": {
           "aaxis": {
            "gridcolor": "#DFE8F3",
            "linecolor": "#A2B1C6",
            "ticks": ""
           },
           "baxis": {
            "gridcolor": "#DFE8F3",
            "linecolor": "#A2B1C6",
            "ticks": ""
           },
           "bgcolor": "white",
           "caxis": {
            "gridcolor": "#DFE8F3",
            "linecolor": "#A2B1C6",
            "ticks": ""
           }
          },
          "title": {
           "x": 0.05
          },
          "xaxis": {
           "automargin": true,
           "gridcolor": "#EBF0F8",
           "linecolor": "#EBF0F8",
           "ticks": "",
           "title": {
            "standoff": 15
           },
           "zerolinecolor": "#EBF0F8",
           "zerolinewidth": 2
          },
          "yaxis": {
           "automargin": true,
           "gridcolor": "#EBF0F8",
           "linecolor": "#EBF0F8",
           "ticks": "",
           "title": {
            "standoff": 15
           },
           "zerolinecolor": "#EBF0F8",
           "zerolinewidth": 2
          }
         }
        },
        "title": {
         "text": "Cross-Validation (N=5) Mean Logloss with Error Bands"
        },
        "xaxis": {
         "title": {
          "text": "Training Steps"
         }
        },
        "yaxis": {
         "title": {
          "text": "Logloss"
         }
        }
       }
      }
     },
     "metadata": {},
     "output_type": "display_data"
    }
   ],
   "source": [
    "plot_error_scatter(\n",
    "    cv_results,\n",
    "    x=\"iterations\",\n",
    "    y=\"test-Logloss-mean\",\n",
    "    err=\"test-Logloss-std\",\n",
    "    name=\"Mean logloss\",\n",
    "    title=\"Cross-Validation (N=5) Mean Logloss with Error Bands\",\n",
    "    xtitle=\"Training Steps\",\n",
    "    ytitle=\"Logloss\",\n",
    ")"
   ]
  },
  {
   "cell_type": "code",
   "execution_count": 12,
   "id": "e233563e",
   "metadata": {},
   "outputs": [
    {
     "data": {
      "application/vnd.jupyter.widget-view+json": {
       "model_id": "ba9b7271bf6142678d3cafae227917b7",
       "version_major": 2,
       "version_minor": 0
      },
      "text/plain": [
       "MetricVisualizer(layout=Layout(align_self='stretch', height='500px'))"
      ]
     },
     "metadata": {},
     "output_type": "display_data"
    },
    {
     "name": "stdout",
     "output_type": "stream",
     "text": [
      "0:\tlearn: 0.6741855\ttotal: 1.15ms\tremaining: 211ms\n",
      "50:\tlearn: 0.3927143\ttotal: 41.8ms\tremaining: 109ms\n",
      "100:\tlearn: 0.3225161\ttotal: 82.3ms\tremaining: 67.6ms\n",
      "150:\tlearn: 0.2752042\ttotal: 123ms\tremaining: 26.9ms\n",
      "183:\tlearn: 0.2523998\ttotal: 150ms\tremaining: 0us\n"
     ]
    },
    {
     "data": {
      "application/vnd.plotly.v1+json": {
       "config": {
        "plotlyServerURL": "https://plot.ly"
       },
       "data": [
        {
         "line": {
          "color": "blue"
         },
         "mode": "lines",
         "name": "Mean F1 Score",
         "type": "scatter",
         "x": {
          "bdata": "AAABAAIAAwAEAAUABgAHAAgACQAKAAsADAANAA4ADwAQABEAEgATABQAFQAWABcAGAAZABoAGwAcAB0AHgAfACAAIQAiACMAJAAlACYAJwAoACkAKgArACwALQAuAC8AMAAxADIAMwA0ADUANgA3ADgAOQA6ADsAPAA9AD4APwBAAEEAQgBDAEQARQBGAEcASABJAEoASwBMAE0ATgBPAFAAUQBSAFMAVABVAFYAVwBYAFkAWgBbAFwAXQBeAF8AYABhAGIAYwBkAGUAZgBnAGgAaQBqAGsAbABtAG4AbwBwAHEAcgBzAHQAdQB2AHcAeAB5AHoAewB8AH0AfgB/AIAAgQCCAIMAhACFAIYAhwCIAIkAigCLAIwAjQCOAI8AkACRAJIAkwCUAJUAlgCXAJgAmQCaAJsAnACdAJ4AnwCgAKEAogCjAKQApQCmAKcAqACpAKoAqwCsAK0ArgCvALAAsQCyALMAtAC1ALYAtwA=",
          "dtype": "i2"
         },
         "y": {
          "bdata": "AsKfmGYk4j9mk8QsBeHjP+MdezqTC+Q/DqwGxBdH4z/qh8PIBLzjP8/XfoWhquM/53tNT4VD4z9KZ+S8ZkHjPwRFwMVZrOM/pSBmpsP14z8/MLVvHb7jP50yaodUyeM/+U+Ws/Kx4z+VDdmrKAvkP7nqAF3n9eM/Um/ux26n4z8y56tuzlzjP6qEuNabYeM/Ktep+G054z/+XSD1qvniP2QwJOzy5eI/fkKhMt304j+ekGmgfGvjP4aCw9G6WOM/1Tsn+86X4z8ope+0nsbjPwo8sSlk9+M/oEA/5slA5D9GrZvBWPHjPz3xh4+U4OM/QvREZPAQ5D8B9uiY1yzkPxLa139VguQ/KwGiSphk5D+AWNL9OrvkP7JVZr9XjuQ/uQOi1KOY5D+gsnuq0KXkPy5lzEoQq+Q/kguSQuHT5D+ksKWX7SnlPx8oKntdEeU/Ro/XvQ9K5T/3UVFebh/lP5agsyiEHuU/MvrtMLP15D8KBxOYnQHlP6r1/ygOLOU/2AY4S0H35D9ybtJl4PPkP/Qq/PAGA+U/1kv7zTvx5D9fMDP3b/HkP18wM/dv8eQ/XzAz92/x5D8WfgQzMcTkP+dJ91dH0uQ/xryPOFi65D+K6XsB8p3kP/oSII9J1uQ/weJ182i75D9RsVVznq7kPzD2xRuAn+Q/2N6eamGe5D9qJnC3YLrkP3Mnqfb1yuQ/VuOVfD3m5D92cQwF7a3kP2xtq8opoeQ/5Sk7uO2R5D/lKTu47ZHkP9sl2n0qheQ/rib7WaS+5D9leyI4cmzkP25/g3I1eeQ/0gGGpSp65D8+4rLam4bkP1WDutx9aeQ/PuKy2puG5D+y+F/Dg3nkP39I3Snzh+Q/dUR87y975D/UWd3TkKTkP7FJXbRpl+Q/LgoIItuy5D+xSV20aZfkP1FMh1RsweQ/UUyHVGzB5D9SxejnIcLkP/KjUE5P6eQ/8qNQTk/p5D/yo1BOT+nkP/KjUE5P6eQ/hsxeKm4E5T96MsbHmfbkP4Z3v9CNBuU/hne/0I0G5T9upBmiXezkP5I7OC7P+OQ/kjs4Ls/45D+SOzguz/jkP9rUD930SeU/LZT5APVK5T8otbydMUvlP3TEqzPgLuU/dMSrM+Au5T90xKsz4C7lP3TEqzPgLuU/k4BzdF055T/tAz1LsyrlP2ok5LFnEOU/aiTksWcQ5T9bNF7vIEblP95jzIjBYeU/YaMhG1BG5T9ygVejygHlP6SssFkCFOU/pKywWQIU5T8eOiuOeDHlPxH1MYWEIeU/Im1bx3Mv5T/jhBIURD3lP0BPuDpGFeU/ygiIl5Ei5T9aFNwbqjnlP/sWBrysY+U/HlxaxP1e5T+Y6dT4c3zlP2ghYUaWl+U/aCFhRpaX5T9oIWFGlpflPz40Je+fieU/xKaquils5T9ytwKjpmvlP3K3AqOma+U/mSyyDjN45T+ZLLIOM3jlP5kssg4zeOU/whnuZSmG5T/CGe5lKYblP885w2Z7k+U/zznDZnuT5T+mTIcPhYXlPx/aAUT7ouU/H9oBRPui5T+6BrJyjaLlP8MKE61Qr+U/Li07nDuI5T96tjeQBablP17f5ym2suU/ODGc1v6U5T8uLTucO4jlPy4tO5w7iOU/Li07nDuI5T8uLTucO4jlPy4tO5w7iOU/S5FHV4th5T9LkUdXi2HlP66+eBrESOU/cp8PR1wv5T+uvngaxEjlP60xvMXDYuU/hl75F84g5T+GXvkXziDlP1rrCQRJO+U/trr4mvMu5T9a6wkESTvlP7a6+JrzLuU/WusJBEk75T/iLeiueBTlP7a6+JrzLuU/U43H17pH5T9TjcfXukflPzTAMhesR+U/AcI5e9Ng5T9dkSgSflTlP12RKBJ+VOU/XZEoEn5U5T9dkSgSflTlP2rpx2CAiOU/MqEMQ05i5T+WY8AMd3zlP6ysGlAumeU/rKwaUC6Z5T8=",
          "dtype": "f8"
         }
        },
        {
         "fill": "toself",
         "fillcolor": "rgba(0, 0, 255, 0.2)",
         "line": {
          "color": "rgba(255, 255, 255, 0)"
         },
         "showlegend": false,
         "type": "scatter",
         "x": {
          "bdata": "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",
          "dtype": "f8"
         },
         "y": {
          "bdata": "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",
          "dtype": "f8"
         }
        }
       ],
       "layout": {
        "template": {
         "data": {
          "bar": [
           {
            "error_x": {
             "color": "#2a3f5f"
            },
            "error_y": {
             "color": "#2a3f5f"
            },
            "marker": {
             "line": {
              "color": "white",
              "width": 0.5
             },
             "pattern": {
              "fillmode": "overlay",
              "size": 10,
              "solidity": 0.2
             }
            },
            "type": "bar"
           }
          ],
          "barpolar": [
           {
            "marker": {
             "line": {
              "color": "white",
              "width": 0.5
             },
             "pattern": {
              "fillmode": "overlay",
              "size": 10,
              "solidity": 0.2
             }
            },
            "type": "barpolar"
           }
          ],
          "carpet": [
           {
            "aaxis": {
             "endlinecolor": "#2a3f5f",
             "gridcolor": "#C8D4E3",
             "linecolor": "#C8D4E3",
             "minorgridcolor": "#C8D4E3",
             "startlinecolor": "#2a3f5f"
            },
            "baxis": {
             "endlinecolor": "#2a3f5f",
             "gridcolor": "#C8D4E3",
             "linecolor": "#C8D4E3",
             "minorgridcolor": "#C8D4E3",
             "startlinecolor": "#2a3f5f"
            },
            "type": "carpet"
           }
          ],
          "choropleth": [
           {
            "colorbar": {
             "outlinewidth": 0,
             "ticks": ""
            },
            "type": "choropleth"
           }
          ],
          "contour": [
           {
            "colorbar": {
             "outlinewidth": 0,
             "ticks": ""
            },
            "colorscale": [
             [
              0,
              "#0d0887"
             ],
             [
              0.1111111111111111,
              "#46039f"
             ],
             [
              0.2222222222222222,
              "#7201a8"
             ],
             [
              0.3333333333333333,
              "#9c179e"
             ],
             [
              0.4444444444444444,
              "#bd3786"
             ],
             [
              0.5555555555555556,
              "#d8576b"
             ],
             [
              0.6666666666666666,
              "#ed7953"
             ],
             [
              0.7777777777777778,
              "#fb9f3a"
             ],
             [
              0.8888888888888888,
              "#fdca26"
             ],
             [
              1,
              "#f0f921"
             ]
            ],
            "type": "contour"
           }
          ],
          "contourcarpet": [
           {
            "colorbar": {
             "outlinewidth": 0,
             "ticks": ""
            },
            "type": "contourcarpet"
           }
          ],
          "heatmap": [
           {
            "colorbar": {
             "outlinewidth": 0,
             "ticks": ""
            },
            "colorscale": [
             [
              0,
              "#0d0887"
             ],
             [
              0.1111111111111111,
              "#46039f"
             ],
             [
              0.2222222222222222,
              "#7201a8"
             ],
             [
              0.3333333333333333,
              "#9c179e"
             ],
             [
              0.4444444444444444,
              "#bd3786"
             ],
             [
              0.5555555555555556,
              "#d8576b"
             ],
             [
              0.6666666666666666,
              "#ed7953"
             ],
             [
              0.7777777777777778,
              "#fb9f3a"
             ],
             [
              0.8888888888888888,
              "#fdca26"
             ],
             [
              1,
              "#f0f921"
             ]
            ],
            "type": "heatmap"
           }
          ],
          "histogram": [
           {
            "marker": {
             "pattern": {
              "fillmode": "overlay",
              "size": 10,
              "solidity": 0.2
             }
            },
            "type": "histogram"
           }
          ],
          "histogram2d": [
           {
            "colorbar": {
             "outlinewidth": 0,
             "ticks": ""
            },
            "colorscale": [
             [
              0,
              "#0d0887"
             ],
             [
              0.1111111111111111,
              "#46039f"
             ],
             [
              0.2222222222222222,
              "#7201a8"
             ],
             [
              0.3333333333333333,
              "#9c179e"
             ],
             [
              0.4444444444444444,
              "#bd3786"
             ],
             [
              0.5555555555555556,
              "#d8576b"
             ],
             [
              0.6666666666666666,
              "#ed7953"
             ],
             [
              0.7777777777777778,
              "#fb9f3a"
             ],
             [
              0.8888888888888888,
              "#fdca26"
             ],
             [
              1,
              "#f0f921"
             ]
            ],
            "type": "histogram2d"
           }
          ],
          "histogram2dcontour": [
           {
            "colorbar": {
             "outlinewidth": 0,
             "ticks": ""
            },
            "colorscale": [
             [
              0,
              "#0d0887"
             ],
             [
              0.1111111111111111,
              "#46039f"
             ],
             [
              0.2222222222222222,
              "#7201a8"
             ],
             [
              0.3333333333333333,
              "#9c179e"
             ],
             [
              0.4444444444444444,
              "#bd3786"
             ],
             [
              0.5555555555555556,
              "#d8576b"
             ],
             [
              0.6666666666666666,
              "#ed7953"
             ],
             [
              0.7777777777777778,
              "#fb9f3a"
             ],
             [
              0.8888888888888888,
              "#fdca26"
             ],
             [
              1,
              "#f0f921"
             ]
            ],
            "type": "histogram2dcontour"
           }
          ],
          "mesh3d": [
           {
            "colorbar": {
             "outlinewidth": 0,
             "ticks": ""
            },
            "type": "mesh3d"
           }
          ],
          "parcoords": [
           {
            "line": {
             "colorbar": {
              "outlinewidth": 0,
              "ticks": ""
             }
            },
            "type": "parcoords"
           }
          ],
          "pie": [
           {
            "automargin": true,
            "type": "pie"
           }
          ],
          "scatter": [
           {
            "fillpattern": {
             "fillmode": "overlay",
             "size": 10,
             "solidity": 0.2
            },
            "type": "scatter"
           }
          ],
          "scatter3d": [
           {
            "line": {
             "colorbar": {
              "outlinewidth": 0,
              "ticks": ""
             }
            },
            "marker": {
             "colorbar": {
              "outlinewidth": 0,
              "ticks": ""
             }
            },
            "type": "scatter3d"
           }
          ],
          "scattercarpet": [
           {
            "marker": {
             "colorbar": {
              "outlinewidth": 0,
              "ticks": ""
             }
            },
            "type": "scattercarpet"
           }
          ],
          "scattergeo": [
           {
            "marker": {
             "colorbar": {
              "outlinewidth": 0,
              "ticks": ""
             }
            },
            "type": "scattergeo"
           }
          ],
          "scattergl": [
           {
            "marker": {
             "colorbar": {
              "outlinewidth": 0,
              "ticks": ""
             }
            },
            "type": "scattergl"
           }
          ],
          "scattermap": [
           {
            "marker": {
             "colorbar": {
              "outlinewidth": 0,
              "ticks": ""
             }
            },
            "type": "scattermap"
           }
          ],
          "scattermapbox": [
           {
            "marker": {
             "colorbar": {
              "outlinewidth": 0,
              "ticks": ""
             }
            },
            "type": "scattermapbox"
           }
          ],
          "scatterpolar": [
           {
            "marker": {
             "colorbar": {
              "outlinewidth": 0,
              "ticks": ""
             }
            },
            "type": "scatterpolar"
           }
          ],
          "scatterpolargl": [
           {
            "marker": {
             "colorbar": {
              "outlinewidth": 0,
              "ticks": ""
             }
            },
            "type": "scatterpolargl"
           }
          ],
          "scatterternary": [
           {
            "marker": {
             "colorbar": {
              "outlinewidth": 0,
              "ticks": ""
             }
            },
            "type": "scatterternary"
           }
          ],
          "surface": [
           {
            "colorbar": {
             "outlinewidth": 0,
             "ticks": ""
            },
            "colorscale": [
             [
              0,
              "#0d0887"
             ],
             [
              0.1111111111111111,
              "#46039f"
             ],
             [
              0.2222222222222222,
              "#7201a8"
             ],
             [
              0.3333333333333333,
              "#9c179e"
             ],
             [
              0.4444444444444444,
              "#bd3786"
             ],
             [
              0.5555555555555556,
              "#d8576b"
             ],
             [
              0.6666666666666666,
              "#ed7953"
             ],
             [
              0.7777777777777778,
              "#fb9f3a"
             ],
             [
              0.8888888888888888,
              "#fdca26"
             ],
             [
              1,
              "#f0f921"
             ]
            ],
            "type": "surface"
           }
          ],
          "table": [
           {
            "cells": {
             "fill": {
              "color": "#EBF0F8"
             },
             "line": {
              "color": "white"
             }
            },
            "header": {
             "fill": {
              "color": "#C8D4E3"
             },
             "line": {
              "color": "white"
             }
            },
            "type": "table"
           }
          ]
         },
         "layout": {
          "annotationdefaults": {
           "arrowcolor": "#2a3f5f",
           "arrowhead": 0,
           "arrowwidth": 1
          },
          "autotypenumbers": "strict",
          "coloraxis": {
           "colorbar": {
            "outlinewidth": 0,
            "ticks": ""
           }
          },
          "colorscale": {
           "diverging": [
            [
             0,
             "#8e0152"
            ],
            [
             0.1,
             "#c51b7d"
            ],
            [
             0.2,
             "#de77ae"
            ],
            [
             0.3,
             "#f1b6da"
            ],
            [
             0.4,
             "#fde0ef"
            ],
            [
             0.5,
             "#f7f7f7"
            ],
            [
             0.6,
             "#e6f5d0"
            ],
            [
             0.7,
             "#b8e186"
            ],
            [
             0.8,
             "#7fbc41"
            ],
            [
             0.9,
             "#4d9221"
            ],
            [
             1,
             "#276419"
            ]
           ],
           "sequential": [
            [
             0,
             "#0d0887"
            ],
            [
             0.1111111111111111,
             "#46039f"
            ],
            [
             0.2222222222222222,
             "#7201a8"
            ],
            [
             0.3333333333333333,
             "#9c179e"
            ],
            [
             0.4444444444444444,
             "#bd3786"
            ],
            [
             0.5555555555555556,
             "#d8576b"
            ],
            [
             0.6666666666666666,
             "#ed7953"
            ],
            [
             0.7777777777777778,
             "#fb9f3a"
            ],
            [
             0.8888888888888888,
             "#fdca26"
            ],
            [
             1,
             "#f0f921"
            ]
           ],
           "sequentialminus": [
            [
             0,
             "#0d0887"
            ],
            [
             0.1111111111111111,
             "#46039f"
            ],
            [
             0.2222222222222222,
             "#7201a8"
            ],
            [
             0.3333333333333333,
             "#9c179e"
            ],
            [
             0.4444444444444444,
             "#bd3786"
            ],
            [
             0.5555555555555556,
             "#d8576b"
            ],
            [
             0.6666666666666666,
             "#ed7953"
            ],
            [
             0.7777777777777778,
             "#fb9f3a"
            ],
            [
             0.8888888888888888,
             "#fdca26"
            ],
            [
             1,
             "#f0f921"
            ]
           ]
          },
          "colorway": [
           "#636efa",
           "#EF553B",
           "#00cc96",
           "#ab63fa",
           "#FFA15A",
           "#19d3f3",
           "#FF6692",
           "#B6E880",
           "#FF97FF",
           "#FECB52"
          ],
          "font": {
           "color": "#2a3f5f"
          },
          "geo": {
           "bgcolor": "white",
           "lakecolor": "white",
           "landcolor": "white",
           "showlakes": true,
           "showland": true,
           "subunitcolor": "#C8D4E3"
          },
          "hoverlabel": {
           "align": "left"
          },
          "hovermode": "closest",
          "mapbox": {
           "style": "light"
          },
          "paper_bgcolor": "white",
          "plot_bgcolor": "white",
          "polar": {
           "angularaxis": {
            "gridcolor": "#EBF0F8",
            "linecolor": "#EBF0F8",
            "ticks": ""
           },
           "bgcolor": "white",
           "radialaxis": {
            "gridcolor": "#EBF0F8",
            "linecolor": "#EBF0F8",
            "ticks": ""
           }
          },
          "scene": {
           "xaxis": {
            "backgroundcolor": "white",
            "gridcolor": "#DFE8F3",
            "gridwidth": 2,
            "linecolor": "#EBF0F8",
            "showbackground": true,
            "ticks": "",
            "zerolinecolor": "#EBF0F8"
           },
           "yaxis": {
            "backgroundcolor": "white",
            "gridcolor": "#DFE8F3",
            "gridwidth": 2,
            "linecolor": "#EBF0F8",
            "showbackground": true,
            "ticks": "",
            "zerolinecolor": "#EBF0F8"
           },
           "zaxis": {
            "backgroundcolor": "white",
            "gridcolor": "#DFE8F3",
            "gridwidth": 2,
            "linecolor": "#EBF0F8",
            "showbackground": true,
            "ticks": "",
            "zerolinecolor": "#EBF0F8"
           }
          },
          "shapedefaults": {
           "line": {
            "color": "#2a3f5f"
           }
          },
          "ternary": {
           "aaxis": {
            "gridcolor": "#DFE8F3",
            "linecolor": "#A2B1C6",
            "ticks": ""
           },
           "baxis": {
            "gridcolor": "#DFE8F3",
            "linecolor": "#A2B1C6",
            "ticks": ""
           },
           "bgcolor": "white",
           "caxis": {
            "gridcolor": "#DFE8F3",
            "linecolor": "#A2B1C6",
            "ticks": ""
           }
          },
          "title": {
           "x": 0.05
          },
          "xaxis": {
           "automargin": true,
           "gridcolor": "#EBF0F8",
           "linecolor": "#EBF0F8",
           "ticks": "",
           "title": {
            "standoff": 15
           },
           "zerolinecolor": "#EBF0F8",
           "zerolinewidth": 2
          },
          "yaxis": {
           "automargin": true,
           "gridcolor": "#EBF0F8",
           "linecolor": "#EBF0F8",
           "ticks": "",
           "title": {
            "standoff": 15
           },
           "zerolinecolor": "#EBF0F8",
           "zerolinewidth": 2
          }
         }
        },
        "title": {
         "text": "Cross-Validation (N=5) Mean F1 score with Error Bands"
        },
        "xaxis": {
         "title": {
          "text": "Training Steps"
         }
        },
        "yaxis": {
         "range": [
          0.5,
          1
         ],
         "title": {
          "text": "Performance Score"
         }
        }
       }
      }
     },
     "metadata": {},
     "output_type": "display_data"
    },
    {
     "data": {
      "application/vnd.plotly.v1+json": {
       "config": {
        "plotlyServerURL": "https://plot.ly"
       },
       "data": [
        {
         "line": {
          "color": "blue"
         },
         "mode": "lines",
         "name": "Mean logloss",
         "type": "scatter",
         "x": {
          "bdata": "AAABAAIAAwAEAAUABgAHAAgACQAKAAsADAANAA4ADwAQABEAEgATABQAFQAWABcAGAAZABoAGwAcAB0AHgAfACAAIQAiACMAJAAlACYAJwAoACkAKgArACwALQAuAC8AMAAxADIAMwA0ADUANgA3ADgAOQA6ADsAPAA9AD4APwBAAEEAQgBDAEQARQBGAEcASABJAEoASwBMAE0ATgBPAFAAUQBSAFMAVABVAFYAVwBYAFkAWgBbAFwAXQBeAF8AYABhAGIAYwBkAGUAZgBnAGgAaQBqAGsAbABtAG4AbwBwAHEAcgBzAHQAdQB2AHcAeAB5AHoAewB8AH0AfgB/AIAAgQCCAIMAhACFAIYAhwCIAIkAigCLAIwAjQCOAI8AkACRAJIAkwCUAJUAlgCXAJgAmQCaAJsAnACdAJ4AnwCgAKEAogCjAKQApQCmAKcAqACpAKoAqwCsAK0ArgCvALAAsQCyALMAtAC1ALYAtwA=",
          "dtype": "i2"
         },
         "y": {
          "bdata": "976L90Ys5T86yDBBwCvkP5K8V1wWluM/ipaZH9UP4z+C+kDUkYfiP3jgT1U5H+I/CLC3I8LJ4T+GnMVh04LhPz2kFU2uNeE/nuYUWuf44D/WgN7/5srgPxggqfpRnOA/+0NRS3V24D/CMshVYU/gPwA8laP7KOA/OcXy6vsL4D9dad16M9rfP5KD2Fvkqt8/MclwtxSK3z+HLWJAQ23fPzaBFy/kQt8/2UtSIEEV3z/gAblASuzeP4f3BY6cy94/SeRqRxSv3j9LNNzGVn/eP3YuYJTZY94/SdUh9qxD3j8iOu+NTzzePwXecO/YH94/bvkAxloO3j/d3CRnh+rdP+qqbJ/C7N0/TZBgVvXY3T9Pc/n8W9vdPw5wmQCZ2t0/ffujwUnS3T/YA9DcOt/dPyfP7ghg8N0/YEPl6yHZ3T/hSGJbxcXdP9YnT1w0v90/zTpKWHiz3T9CtIV8baTdPwCiu7sUr90/NQWiHCWr3T9HayHuVaXdP5WXeg2Oo90/EBSgjjaZ3T+u1rgYmozdPw8Bhh1Mdt0/ir7BP/Fs3T+khKj+q2fdP8LQFK5QVd0/oPqF1AVb3T8Tket4gl/dP2Hkk/dNU90/BqP2Vo1H3T/Yk1z/pE7dP5NKyENgO90/gQB5EZov3T+CCUybDindP/VhcJx6Jd0/wtZ67+gT3T+D/cKaCRvdP2+PGB6iJ90/D4zPS2Eg3T/Kz0YXkizdPwUAIMubKd0/8nsS8qst3T+qItxBhSfdP2U7BtfIKt0/sxT6KLUx3T98072xwjLdP42x7RIXLN0/nI/WWNoo3T8evhTApSfdP2K3F/LJMN0/9UZzeMIz3T9iRd2+1U3dP9VUWBxUOd0/0fEmIpdC3T/leeNqNELdPwqiBSITU90/XPce3AZS3T/jzVAMdUvdP0M7Oa8/QN0/uYsUflxA3T+mCqvxmj3dP6rYui+UNd0/BVWU8zcx3T+BY0BTCEDdP8jM9EGzRN0/1Tbv91NC3T9oL6Wg+kXdPwKBWywRSN0/FdVI/WVZ3T+yZlpPHUndP8o6/fQOUd0/8trhgnRN3T86MbxeglndP8Ce4DbWbd0//bTEzEZo3T/aULmu5G7dP3Lw0Z5zbN0/H+QseyFm3T9dmIIMUmPdP1UNSSiGZN0/rbdYWrVW3T9X6YbgalzdP/JmJXfgYN0/Mw+A3FBW3T/B9/Rx2GfdPzi4SG1uXd0/mtxGFsxX3T8T04/0dWrdP8JOc7B4Zd0/BvrNJmlb3T/MC5RWKXPdP9N4UUWcYd0/Mq3RzNxw3T/AqSHJS2TdP3j676JHZt0/gtviZnBl3T/empXaTF7dP5TKOIhWY90/uli1fuNl3T/ejSAyhmjdPw5jE1BjW90/K8tGnTpY3T9xeycEgWndP1q0/TLpdd0/Ran6WOOE3T8ZAieA6HvdP6zUt2xyfN0/QjGysv+D3T+Mc8HrzIrdP7Wa/Amkkd0/nQBSMNeB3T/27t5xH5DdP1Ziqls9kt0/eJyM+JGW3T+z8ipkYZ3dPwF/APp5kt0/9pY1qdid3T85tCdAEJXdP+BrHzvgld0/moCWhuCW3T8oR2hY6abdP95Jyk4frN0/YAx2ZPmp3T8INFgmTrDdP38dUJ4gtN0/g9dk4DS93T9BG/AuZLvdP9iz2NfJu90/u/vZmYO93T+dsfN998bdP+HuuXQ5yt0/RR+A/JrL3T8iWjFBmtTdP39wBRlz0N0/uNcx+Xvi3T8lbzTpZNndP4MylXYq490/dfwnNajs3T8yc5Ac2vXdP5hpTb2m/N0/a2kJSaf33T8C7X49mvrdP9p5TdSN8t0/tNmxfej63T+skoecvPPdP21f1wNX7d0/n3D39kn03T807G9YXQXeP+YXBTDPDN4/Lxvfj6AW3j+d2XVngAbeP3VYdXH4C94/ypBewO4L3j/GCVqocw7eP7KG7/dBFN4/mseKKgMc3j8=",
          "dtype": "f8"
         }
        },
        {
         "fill": "toself",
         "fillcolor": "rgba(0, 0, 255, 0.2)",
         "line": {
          "color": "rgba(255, 255, 255, 0)"
         },
         "showlegend": false,
         "type": "scatter",
         "x": {
          "bdata": "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",
          "dtype": "f8"
         },
         "y": {
          "bdata": "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",
          "dtype": "f8"
         }
        }
       ],
       "layout": {
        "template": {
         "data": {
          "bar": [
           {
            "error_x": {
             "color": "#2a3f5f"
            },
            "error_y": {
             "color": "#2a3f5f"
            },
            "marker": {
             "line": {
              "color": "white",
              "width": 0.5
             },
             "pattern": {
              "fillmode": "overlay",
              "size": 10,
              "solidity": 0.2
             }
            },
            "type": "bar"
           }
          ],
          "barpolar": [
           {
            "marker": {
             "line": {
              "color": "white",
              "width": 0.5
             },
             "pattern": {
              "fillmode": "overlay",
              "size": 10,
              "solidity": 0.2
             }
            },
            "type": "barpolar"
           }
          ],
          "carpet": [
           {
            "aaxis": {
             "endlinecolor": "#2a3f5f",
             "gridcolor": "#C8D4E3",
             "linecolor": "#C8D4E3",
             "minorgridcolor": "#C8D4E3",
             "startlinecolor": "#2a3f5f"
            },
            "baxis": {
             "endlinecolor": "#2a3f5f",
             "gridcolor": "#C8D4E3",
             "linecolor": "#C8D4E3",
             "minorgridcolor": "#C8D4E3",
             "startlinecolor": "#2a3f5f"
            },
            "type": "carpet"
           }
          ],
          "choropleth": [
           {
            "colorbar": {
             "outlinewidth": 0,
             "ticks": ""
            },
            "type": "choropleth"
           }
          ],
          "contour": [
           {
            "colorbar": {
             "outlinewidth": 0,
             "ticks": ""
            },
            "colorscale": [
             [
              0,
              "#0d0887"
             ],
             [
              0.1111111111111111,
              "#46039f"
             ],
             [
              0.2222222222222222,
              "#7201a8"
             ],
             [
              0.3333333333333333,
              "#9c179e"
             ],
             [
              0.4444444444444444,
              "#bd3786"
             ],
             [
              0.5555555555555556,
              "#d8576b"
             ],
             [
              0.6666666666666666,
              "#ed7953"
             ],
             [
              0.7777777777777778,
              "#fb9f3a"
             ],
             [
              0.8888888888888888,
              "#fdca26"
             ],
             [
              1,
              "#f0f921"
             ]
            ],
            "type": "contour"
           }
          ],
          "contourcarpet": [
           {
            "colorbar": {
             "outlinewidth": 0,
             "ticks": ""
            },
            "type": "contourcarpet"
           }
          ],
          "heatmap": [
           {
            "colorbar": {
             "outlinewidth": 0,
             "ticks": ""
            },
            "colorscale": [
             [
              0,
              "#0d0887"
             ],
             [
              0.1111111111111111,
              "#46039f"
             ],
             [
              0.2222222222222222,
              "#7201a8"
             ],
             [
              0.3333333333333333,
              "#9c179e"
             ],
             [
              0.4444444444444444,
              "#bd3786"
             ],
             [
              0.5555555555555556,
              "#d8576b"
             ],
             [
              0.6666666666666666,
              "#ed7953"
             ],
             [
              0.7777777777777778,
              "#fb9f3a"
             ],
             [
              0.8888888888888888,
              "#fdca26"
             ],
             [
              1,
              "#f0f921"
             ]
            ],
            "type": "heatmap"
           }
          ],
          "histogram": [
           {
            "marker": {
             "pattern": {
              "fillmode": "overlay",
              "size": 10,
              "solidity": 0.2
             }
            },
            "type": "histogram"
           }
          ],
          "histogram2d": [
           {
            "colorbar": {
             "outlinewidth": 0,
             "ticks": ""
            },
            "colorscale": [
             [
              0,
              "#0d0887"
             ],
             [
              0.1111111111111111,
              "#46039f"
             ],
             [
              0.2222222222222222,
              "#7201a8"
             ],
             [
              0.3333333333333333,
              "#9c179e"
             ],
             [
              0.4444444444444444,
              "#bd3786"
             ],
             [
              0.5555555555555556,
              "#d8576b"
             ],
             [
              0.6666666666666666,
              "#ed7953"
             ],
             [
              0.7777777777777778,
              "#fb9f3a"
             ],
             [
              0.8888888888888888,
              "#fdca26"
             ],
             [
              1,
              "#f0f921"
             ]
            ],
            "type": "histogram2d"
           }
          ],
          "histogram2dcontour": [
           {
            "colorbar": {
             "outlinewidth": 0,
             "ticks": ""
            },
            "colorscale": [
             [
              0,
              "#0d0887"
             ],
             [
              0.1111111111111111,
              "#46039f"
             ],
             [
              0.2222222222222222,
              "#7201a8"
             ],
             [
              0.3333333333333333,
              "#9c179e"
             ],
             [
              0.4444444444444444,
              "#bd3786"
             ],
             [
              0.5555555555555556,
              "#d8576b"
             ],
             [
              0.6666666666666666,
              "#ed7953"
             ],
             [
              0.7777777777777778,
              "#fb9f3a"
             ],
             [
              0.8888888888888888,
              "#fdca26"
             ],
             [
              1,
              "#f0f921"
             ]
            ],
            "type": "histogram2dcontour"
           }
          ],
          "mesh3d": [
           {
            "colorbar": {
             "outlinewidth": 0,
             "ticks": ""
            },
            "type": "mesh3d"
           }
          ],
          "parcoords": [
           {
            "line": {
             "colorbar": {
              "outlinewidth": 0,
              "ticks": ""
             }
            },
            "type": "parcoords"
           }
          ],
          "pie": [
           {
            "automargin": true,
            "type": "pie"
           }
          ],
          "scatter": [
           {
            "fillpattern": {
             "fillmode": "overlay",
             "size": 10,
             "solidity": 0.2
            },
            "type": "scatter"
           }
          ],
          "scatter3d": [
           {
            "line": {
             "colorbar": {
              "outlinewidth": 0,
              "ticks": ""
             }
            },
            "marker": {
             "colorbar": {
              "outlinewidth": 0,
              "ticks": ""
             }
            },
            "type": "scatter3d"
           }
          ],
          "scattercarpet": [
           {
            "marker": {
             "colorbar": {
              "outlinewidth": 0,
              "ticks": ""
             }
            },
            "type": "scattercarpet"
           }
          ],
          "scattergeo": [
           {
            "marker": {
             "colorbar": {
              "outlinewidth": 0,
              "ticks": ""
             }
            },
            "type": "scattergeo"
           }
          ],
          "scattergl": [
           {
            "marker": {
             "colorbar": {
              "outlinewidth": 0,
              "ticks": ""
             }
            },
            "type": "scattergl"
           }
          ],
          "scattermap": [
           {
            "marker": {
             "colorbar": {
              "outlinewidth": 0,
              "ticks": ""
             }
            },
            "type": "scattermap"
           }
          ],
          "scattermapbox": [
           {
            "marker": {
             "colorbar": {
              "outlinewidth": 0,
              "ticks": ""
             }
            },
            "type": "scattermapbox"
           }
          ],
          "scatterpolar": [
           {
            "marker": {
             "colorbar": {
              "outlinewidth": 0,
              "ticks": ""
             }
            },
            "type": "scatterpolar"
           }
          ],
          "scatterpolargl": [
           {
            "marker": {
             "colorbar": {
              "outlinewidth": 0,
              "ticks": ""
             }
            },
            "type": "scatterpolargl"
           }
          ],
          "scatterternary": [
           {
            "marker": {
             "colorbar": {
              "outlinewidth": 0,
              "ticks": ""
             }
            },
            "type": "scatterternary"
           }
          ],
          "surface": [
           {
            "colorbar": {
             "outlinewidth": 0,
             "ticks": ""
            },
            "colorscale": [
             [
              0,
              "#0d0887"
             ],
             [
              0.1111111111111111,
              "#46039f"
             ],
             [
              0.2222222222222222,
              "#7201a8"
             ],
             [
              0.3333333333333333,
              "#9c179e"
             ],
             [
              0.4444444444444444,
              "#bd3786"
             ],
             [
              0.5555555555555556,
              "#d8576b"
             ],
             [
              0.6666666666666666,
              "#ed7953"
             ],
             [
              0.7777777777777778,
              "#fb9f3a"
             ],
             [
              0.8888888888888888,
              "#fdca26"
             ],
             [
              1,
              "#f0f921"
             ]
            ],
            "type": "surface"
           }
          ],
          "table": [
           {
            "cells": {
             "fill": {
              "color": "#EBF0F8"
             },
             "line": {
              "color": "white"
             }
            },
            "header": {
             "fill": {
              "color": "#C8D4E3"
             },
             "line": {
              "color": "white"
             }
            },
            "type": "table"
           }
          ]
         },
         "layout": {
          "annotationdefaults": {
           "arrowcolor": "#2a3f5f",
           "arrowhead": 0,
           "arrowwidth": 1
          },
          "autotypenumbers": "strict",
          "coloraxis": {
           "colorbar": {
            "outlinewidth": 0,
            "ticks": ""
           }
          },
          "colorscale": {
           "diverging": [
            [
             0,
             "#8e0152"
            ],
            [
             0.1,
             "#c51b7d"
            ],
            [
             0.2,
             "#de77ae"
            ],
            [
             0.3,
             "#f1b6da"
            ],
            [
             0.4,
             "#fde0ef"
            ],
            [
             0.5,
             "#f7f7f7"
            ],
            [
             0.6,
             "#e6f5d0"
            ],
            [
             0.7,
             "#b8e186"
            ],
            [
             0.8,
             "#7fbc41"
            ],
            [
             0.9,
             "#4d9221"
            ],
            [
             1,
             "#276419"
            ]
           ],
           "sequential": [
            [
             0,
             "#0d0887"
            ],
            [
             0.1111111111111111,
             "#46039f"
            ],
            [
             0.2222222222222222,
             "#7201a8"
            ],
            [
             0.3333333333333333,
             "#9c179e"
            ],
            [
             0.4444444444444444,
             "#bd3786"
            ],
            [
             0.5555555555555556,
             "#d8576b"
            ],
            [
             0.6666666666666666,
             "#ed7953"
            ],
            [
             0.7777777777777778,
             "#fb9f3a"
            ],
            [
             0.8888888888888888,
             "#fdca26"
            ],
            [
             1,
             "#f0f921"
            ]
           ],
           "sequentialminus": [
            [
             0,
             "#0d0887"
            ],
            [
             0.1111111111111111,
             "#46039f"
            ],
            [
             0.2222222222222222,
             "#7201a8"
            ],
            [
             0.3333333333333333,
             "#9c179e"
            ],
            [
             0.4444444444444444,
             "#bd3786"
            ],
            [
             0.5555555555555556,
             "#d8576b"
            ],
            [
             0.6666666666666666,
             "#ed7953"
            ],
            [
             0.7777777777777778,
             "#fb9f3a"
            ],
            [
             0.8888888888888888,
             "#fdca26"
            ],
            [
             1,
             "#f0f921"
            ]
           ]
          },
          "colorway": [
           "#636efa",
           "#EF553B",
           "#00cc96",
           "#ab63fa",
           "#FFA15A",
           "#19d3f3",
           "#FF6692",
           "#B6E880",
           "#FF97FF",
           "#FECB52"
          ],
          "font": {
           "color": "#2a3f5f"
          },
          "geo": {
           "bgcolor": "white",
           "lakecolor": "white",
           "landcolor": "white",
           "showlakes": true,
           "showland": true,
           "subunitcolor": "#C8D4E3"
          },
          "hoverlabel": {
           "align": "left"
          },
          "hovermode": "closest",
          "mapbox": {
           "style": "light"
          },
          "paper_bgcolor": "white",
          "plot_bgcolor": "white",
          "polar": {
           "angularaxis": {
            "gridcolor": "#EBF0F8",
            "linecolor": "#EBF0F8",
            "ticks": ""
           },
           "bgcolor": "white",
           "radialaxis": {
            "gridcolor": "#EBF0F8",
            "linecolor": "#EBF0F8",
            "ticks": ""
           }
          },
          "scene": {
           "xaxis": {
            "backgroundcolor": "white",
            "gridcolor": "#DFE8F3",
            "gridwidth": 2,
            "linecolor": "#EBF0F8",
            "showbackground": true,
            "ticks": "",
            "zerolinecolor": "#EBF0F8"
           },
           "yaxis": {
            "backgroundcolor": "white",
            "gridcolor": "#DFE8F3",
            "gridwidth": 2,
            "linecolor": "#EBF0F8",
            "showbackground": true,
            "ticks": "",
            "zerolinecolor": "#EBF0F8"
           },
           "zaxis": {
            "backgroundcolor": "white",
            "gridcolor": "#DFE8F3",
            "gridwidth": 2,
            "linecolor": "#EBF0F8",
            "showbackground": true,
            "ticks": "",
            "zerolinecolor": "#EBF0F8"
           }
          },
          "shapedefaults": {
           "line": {
            "color": "#2a3f5f"
           }
          },
          "ternary": {
           "aaxis": {
            "gridcolor": "#DFE8F3",
            "linecolor": "#A2B1C6",
            "ticks": ""
           },
           "baxis": {
            "gridcolor": "#DFE8F3",
            "linecolor": "#A2B1C6",
            "ticks": ""
           },
           "bgcolor": "white",
           "caxis": {
            "gridcolor": "#DFE8F3",
            "linecolor": "#A2B1C6",
            "ticks": ""
           }
          },
          "title": {
           "x": 0.05
          },
          "xaxis": {
           "automargin": true,
           "gridcolor": "#EBF0F8",
           "linecolor": "#EBF0F8",
           "ticks": "",
           "title": {
            "standoff": 15
           },
           "zerolinecolor": "#EBF0F8",
           "zerolinewidth": 2
          },
          "yaxis": {
           "automargin": true,
           "gridcolor": "#EBF0F8",
           "linecolor": "#EBF0F8",
           "ticks": "",
           "title": {
            "standoff": 15
           },
           "zerolinecolor": "#EBF0F8",
           "zerolinewidth": 2
          }
         }
        },
        "title": {
         "text": "Cross-Validation (N=5) Mean Logloss with Error Bands"
        },
        "xaxis": {
         "title": {
          "text": "Training Steps"
         }
        },
        "yaxis": {
         "title": {
          "text": "Logloss"
         }
        }
       }
      }
     },
     "metadata": {},
     "output_type": "display_data"
    },
    {
     "name": "stderr",
     "output_type": "stream",
     "text": [
      "C:\\Users\\Kinga\\AppData\\Roaming\\Python\\Python311\\site-packages\\mlflow\\types\\utils.py:394: UserWarning:\n",
      "\n",
      "Hint: Inferred schema contains integer column(s). Integer columns in Python cannot represent missing values. If your input data contains missing values at inference time, it will be encoded as floats and will cause a schema enforcement error. The best way to avoid this problem is to infer the model schema based on a realistic data sample (training dataset) that includes missing values. Alternatively, you can declare integer columns as doubles (float64) whenever these columns may have missing values. See `Handling Integers With Missing Values <https://www.mlflow.org/docs/latest/models.html#handling-integers-with-missing-values>`_ for more details.\n",
      "\n",
      "Successfully registered model 'diabetes-bclass'.\n",
      "2025/05/09 20:55:16 INFO mlflow.store.model_registry.abstract_store: Waiting up to 300 seconds for model version to finish creation. Model name: diabetes-bclass, version 1\n",
      "Created version '1' of model 'diabetes-bclass'.\n",
      "c:\\Users\\Kinga\\Documents\\ARISA\\MLOPs-Final\\ARISA_DSML\\train.py:178: FutureWarning:\n",
      "\n",
      "``mlflow.tracking.client.MlflowClient.get_latest_versions`` is deprecated since 2.9.0. Model registry stages will be removed in a future major release. To learn more about the deprecation of model registry stages, see our migration guide here: https://mlflow.org/docs/2.12.1/model-registry.html#migrating-from-stages\n",
      "\n"
     ]
    }
   ],
   "source": [
    "from ARISA_DSML.train import train\n",
    "params = joblib.load(best_params_path)\n",
    "experiment_id = get_or_create_experiment(\"diabetes_full_training\")\n",
    "mlflow.set_experiment(experiment_id=experiment_id)\n",
    "cv_results = pd.read_csv(cv_output_path)\n",
    "model_path, model_params_path = train(X_train, y_train, params, cv_results=cv_results)"
   ]
  },
  {
   "cell_type": "code",
   "execution_count": 13,
   "id": "ed9c2df9",
   "metadata": {},
   "outputs": [
    {
     "data": {
      "text/html": [
       "<div>\n",
       "<style scoped>\n",
       "    .dataframe tbody tr th:only-of-type {\n",
       "        vertical-align: middle;\n",
       "    }\n",
       "\n",
       "    .dataframe tbody tr th {\n",
       "        vertical-align: top;\n",
       "    }\n",
       "\n",
       "    .dataframe thead th {\n",
       "        text-align: right;\n",
       "    }\n",
       "</style>\n",
       "<table border=\"1\" class=\"dataframe\">\n",
       "  <thead>\n",
       "    <tr style=\"text-align: right;\">\n",
       "      <th></th>\n",
       "      <th>pregnancies</th>\n",
       "      <th>glucose</th>\n",
       "      <th>bloodpressure</th>\n",
       "      <th>skinthickness</th>\n",
       "      <th>insulin</th>\n",
       "      <th>bmi</th>\n",
       "      <th>diabetespedigreefunction</th>\n",
       "      <th>age</th>\n",
       "      <th>outcome</th>\n",
       "    </tr>\n",
       "  </thead>\n",
       "  <tbody>\n",
       "    <tr>\n",
       "      <th>0</th>\n",
       "      <td>6</td>\n",
       "      <td>98</td>\n",
       "      <td>58</td>\n",
       "      <td>33</td>\n",
       "      <td>190</td>\n",
       "      <td>34.0</td>\n",
       "      <td>0.430</td>\n",
       "      <td>43</td>\n",
       "      <td>0</td>\n",
       "    </tr>\n",
       "    <tr>\n",
       "      <th>1</th>\n",
       "      <td>2</td>\n",
       "      <td>112</td>\n",
       "      <td>75</td>\n",
       "      <td>32</td>\n",
       "      <td>0</td>\n",
       "      <td>35.7</td>\n",
       "      <td>0.148</td>\n",
       "      <td>21</td>\n",
       "      <td>0</td>\n",
       "    </tr>\n",
       "    <tr>\n",
       "      <th>2</th>\n",
       "      <td>2</td>\n",
       "      <td>108</td>\n",
       "      <td>64</td>\n",
       "      <td>0</td>\n",
       "      <td>0</td>\n",
       "      <td>30.8</td>\n",
       "      <td>0.158</td>\n",
       "      <td>21</td>\n",
       "      <td>0</td>\n",
       "    </tr>\n",
       "    <tr>\n",
       "      <th>3</th>\n",
       "      <td>8</td>\n",
       "      <td>107</td>\n",
       "      <td>80</td>\n",
       "      <td>0</td>\n",
       "      <td>0</td>\n",
       "      <td>24.6</td>\n",
       "      <td>0.856</td>\n",
       "      <td>34</td>\n",
       "      <td>0</td>\n",
       "    </tr>\n",
       "    <tr>\n",
       "      <th>4</th>\n",
       "      <td>7</td>\n",
       "      <td>136</td>\n",
       "      <td>90</td>\n",
       "      <td>0</td>\n",
       "      <td>0</td>\n",
       "      <td>29.9</td>\n",
       "      <td>0.210</td>\n",
       "      <td>50</td>\n",
       "      <td>0</td>\n",
       "    </tr>\n",
       "  </tbody>\n",
       "</table>\n",
       "</div>"
      ],
      "text/plain": [
       "   pregnancies  glucose  bloodpressure  skinthickness  insulin   bmi  \\\n",
       "0            6       98             58             33      190  34.0   \n",
       "1            2      112             75             32        0  35.7   \n",
       "2            2      108             64              0        0  30.8   \n",
       "3            8      107             80              0        0  24.6   \n",
       "4            7      136             90              0        0  29.9   \n",
       "\n",
       "   diabetespedigreefunction  age  outcome  \n",
       "0                     0.430   43        0  \n",
       "1                     0.148   21        0  \n",
       "2                     0.158   21        0  \n",
       "3                     0.856   34        0  \n",
       "4                     0.210   50        0  "
      ]
     },
     "execution_count": 13,
     "metadata": {},
     "output_type": "execute_result"
    }
   ],
   "source": [
    "df_test = pd.read_csv(test_path)\n",
    "\n",
    "df_test.head()"
   ]
  },
  {
   "cell_type": "code",
   "execution_count": 14,
   "id": "f3bbd911",
   "metadata": {},
   "outputs": [],
   "source": [
    "y_test = df_test.pop(target)\n",
    "X_test = df_test"
   ]
  },
  {
   "cell_type": "code",
   "execution_count": 15,
   "id": "0d285fcf",
   "metadata": {},
   "outputs": [
    {
     "name": "stderr",
     "output_type": "stream",
     "text": [
      "C:\\Users\\Kinga\\AppData\\Local\\Temp\\ipykernel_9096\\2097039018.py:6: FutureWarning:\n",
      "\n",
      "``mlflow.tracking.client.MlflowClient.get_latest_versions`` is deprecated since 2.9.0. Model registry stages will be removed in a future major release. To learn more about the deprecation of model registry stages, see our migration guide here: https://mlflow.org/docs/2.12.1/model-registry.html#migrating-from-stages\n",
      "\n",
      "C:\\Users\\Kinga\\AppData\\Local\\Temp\\ipykernel_9096\\2097039018.py:14: FutureWarning:\n",
      "\n",
      "``mlflow.tracking.client.MlflowClient.get_latest_versions`` is deprecated since 2.9.0. Model registry stages will be removed in a future major release. To learn more about the deprecation of model registry stages, see our migration guide here: https://mlflow.org/docs/2.12.1/model-registry.html#migrating-from-stages\n",
      "\n"
     ]
    },
    {
     "data": {
      "application/vnd.jupyter.widget-view+json": {
       "model_id": "6f625a28872542749dc844136f13810d",
       "version_major": 2,
       "version_minor": 0
      },
      "text/plain": [
       "Downloading artifacts:   0%|          | 0/10 [00:00<?, ?it/s]"
      ]
     },
     "metadata": {},
     "output_type": "display_data"
    },
    {
     "name": "stderr",
     "output_type": "stream",
     "text": [
      "2025/05/09 20:55:20 INFO mlflow.store.artifact.artifact_repo: The progress bar can be disabled by setting the environment variable MLFLOW_ENABLE_ARTIFACTS_PROGRESS_BAR to false\n"
     ]
    },
    {
     "data": {
      "image/png": "[encoded data removed]",
      "text/plain": [
       "<Figure size 800x470 with 2 Axes>"
      ]
     },
     "metadata": {},
     "output_type": "display_data"
    }
   ],
   "source": [
    "import json\n",
    "from ARISA_DSML.predict import predict\n",
    "from mlflow.client import MlflowClient\n",
    "\n",
    "client = MlflowClient(mlflow.get_tracking_uri())\n",
    "model_info = client.get_latest_versions(MODEL_NAME)[0]\n",
    "\n",
    "# extract params/metrics data for run `test_run_id` in a single dict\n",
    "run_data_dict = client.get_run(model_info.run_id).data.to_dictionary()\n",
    "run = client.get_run(model_info.run_id)\n",
    "log_model_meta = json.loads(run.data.tags['mlflow.log-model.history'])\n",
    "log_model_meta[0]['signature']\n",
    "\n",
    "latest_model = client.get_latest_versions(MODEL_NAME)\n",
    "\n",
    "_, artifact_folder = os.path.split(latest_model[0].source)\n",
    "model_uri = \"runs:/{}/{}\".format(latest_model[0].run_id, artifact_folder)\n",
    "loaded_model = mlflow.catboost.load_model(model_uri)\n",
    "\n",
    "params = run_data_dict[\"params\"]\n",
    "params[\"feature_columns\"] = [inp[\"name\"] for inp in json.loads(log_model_meta[0]['signature']['inputs'])]\n",
    "preds_path = predict(loaded_model, df_test, params)"
   ]
  },
  {
   "cell_type": "code",
   "execution_count": 16,
   "id": "c42d6c05",
   "metadata": {},
   "outputs": [],
   "source": [
    "from ARISA_DSML.resolve import get_model_by_alias\n",
    "client = MlflowClient(mlflow.get_tracking_uri())\n",
    "champ_mv = get_model_by_alias(client)\n",
    "chall_mv = get_model_by_alias(client, alias=\"challenger\")"
   ]
  },
  {
   "cell_type": "code",
   "execution_count": 17,
   "id": "6346c29f",
   "metadata": {},
   "outputs": [
    {
     "name": "stdout",
     "output_type": "stream",
     "text": [
      "No champion model, predicting using newest model\n",
      "runs:/bbe09a3b851944c0a03a9462f9fb9ea1/model\n"
     ]
    },
    {
     "name": "stderr",
     "output_type": "stream",
     "text": [
      "C:\\Users\\Kinga\\AppData\\Local\\Temp\\ipykernel_9096\\2109093237.py:6: FutureWarning:\n",
      "\n",
      "``mlflow.tracking.client.MlflowClient.get_latest_versions`` is deprecated since 2.9.0. Model registry stages will be removed in a future major release. To learn more about the deprecation of model registry stages, see our migration guide here: https://mlflow.org/docs/2.12.1/model-registry.html#migrating-from-stages\n",
      "\n"
     ]
    },
    {
     "data": {
      "application/vnd.jupyter.widget-view+json": {
       "model_id": "43bfe8ae43264b4787890c5eeaf60fa5",
       "version_major": 2,
       "version_minor": 0
      },
      "text/plain": [
       "Downloading artifacts:   0%|          | 0/10 [00:00<?, ?it/s]"
      ]
     },
     "metadata": {},
     "output_type": "display_data"
    },
    {
     "name": "stderr",
     "output_type": "stream",
     "text": [
      "2025/05/09 20:55:21 INFO mlflow.store.artifact.artifact_repo: The progress bar can be disabled by setting the environment variable MLFLOW_ENABLE_ARTIFACTS_PROGRESS_BAR to false\n"
     ]
    },
    {
     "data": {
      "image/png": "[encoded data removed]",
      "text/plain": [
       "<Figure size 800x470 with 2 Axes>"
      ]
     },
     "metadata": {},
     "output_type": "display_data"
    }
   ],
   "source": [
    "from ARISA_DSML.config import MODEL_NAME\n",
    "client = MlflowClient(mlflow.get_tracking_uri())\n",
    "model_info = get_model_by_alias(client, alias=\"champion\")\n",
    "if model_info is None:\n",
    "    print(\"No champion model, predicting using newest model\")\n",
    "    model_info = client.get_latest_versions(MODEL_NAME)[0]\n",
    "\n",
    "# extract params/metrics data for run `test_run_id` in a single dict \n",
    "run_data_dict = client.get_run(model_info.run_id).data.to_dictionary()\n",
    "run = client.get_run(model_info.run_id)\n",
    "log_model_meta = json.loads(run.data.tags['mlflow.log-model.history'])\n",
    "log_model_meta[0]['signature']\n",
    "\n",
    "\n",
    "_, artifact_folder = os.path.split(model_info.source)\n",
    "model_uri = \"runs:/{}/{}\".format(model_info.run_id, artifact_folder)\n",
    "print(model_uri)\n",
    "loaded_model = mlflow.catboost.load_model(model_uri)\n",
    "\n",
    "params = run_data_dict[\"params\"]\n",
    "params[\"feature_columns\"] = [inp[\"name\"] for inp in json.loads(log_model_meta[0]['signature']['inputs'])]\n",
    "preds_path = predict(loaded_model, df_test, params)"
   ]
  },
  {
   "cell_type": "code",
   "execution_count": null,
   "id": "2a145fae",
   "metadata": {},
   "outputs": [],
   "source": []
  }
 ],
 "metadata": {
  "kernelspec": {
   "display_name": "Python 3",
   "language": "python",
   "name": "python3"
  },
  "language_info": {
   "codemirror_mode": {
    "name": "ipython",
    "version": 3
   },
   "file_extension": ".py",
   "mimetype": "text/x-python",
   "name": "python",
   "nbconvert_exporter": "python",
   "pygments_lexer": "ipython3",
   "version": "3.11.9"
  }
 },
 "nbformat": 4,
 "nbformat_minor": 5
}
