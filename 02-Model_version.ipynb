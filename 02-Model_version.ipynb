{
 "cells": [
  {
   "cell_type": "code",
   "execution_count": 1,
   "id": "fbdaf40e",
   "metadata": {},
   "outputs": [
    {
     "name": "stdout",
     "output_type": "stream",
     "text": [
      "Defaulting to user installation because normal site-packages is not writeable\n",
      "Collecting cookiecutter-data-science\n",
      "  Downloading cookiecutter_data_science-2.2.0-py3-none-any.whl.metadata (7.1 kB)\n",
      "Collecting click (from cookiecutter-data-science)\n",
      "  Downloading click-8.1.8-py3-none-any.whl.metadata (2.3 kB)\n",
      "Collecting cookiecutter (from cookiecutter-data-science)\n",
      "  Downloading cookiecutter-2.6.0-py3-none-any.whl.metadata (7.3 kB)\n",
      "Collecting tomlkit (from cookiecutter-data-science)\n",
      "  Downloading tomlkit-0.13.2-py3-none-any.whl.metadata (2.7 kB)\n",
      "Requirement already satisfied: colorama in c:\\users\\kinga\\appdata\\roaming\\python\\python311\\site-packages (from click->cookiecutter-data-science) (0.4.6)\n",
      "Collecting binaryornot>=0.4.4 (from cookiecutter->cookiecutter-data-science)\n",
      "  Downloading binaryornot-0.4.4-py2.py3-none-any.whl.metadata (6.0 kB)\n",
      "Requirement already satisfied: Jinja2<4.0.0,>=2.7 in c:\\users\\kinga\\appdata\\roaming\\python\\python311\\site-packages (from cookiecutter->cookiecutter-data-science) (3.1.6)\n",
      "Requirement already satisfied: pyyaml>=5.3.1 in c:\\users\\kinga\\appdata\\roaming\\python\\python311\\site-packages (from cookiecutter->cookiecutter-data-science) (6.0.2)\n",
      "Requirement already satisfied: python-slugify>=4.0.0 in c:\\users\\kinga\\appdata\\roaming\\python\\python311\\site-packages (from cookiecutter->cookiecutter-data-science) (8.0.4)\n",
      "Requirement already satisfied: requests>=2.23.0 in c:\\users\\kinga\\appdata\\roaming\\python\\python311\\site-packages (from cookiecutter->cookiecutter-data-science) (2.32.3)\n",
      "Requirement already satisfied: arrow in c:\\users\\kinga\\appdata\\roaming\\python\\python311\\site-packages (from cookiecutter->cookiecutter-data-science) (1.3.0)\n",
      "Collecting rich (from cookiecutter->cookiecutter-data-science)\n",
      "  Downloading rich-14.0.0-py3-none-any.whl.metadata (18 kB)\n",
      "Collecting chardet>=3.0.2 (from binaryornot>=0.4.4->cookiecutter->cookiecutter-data-science)\n",
      "  Downloading chardet-5.2.0-py3-none-any.whl.metadata (3.4 kB)\n",
      "Requirement already satisfied: MarkupSafe>=2.0 in c:\\users\\kinga\\appdata\\roaming\\python\\python311\\site-packages (from Jinja2<4.0.0,>=2.7->cookiecutter->cookiecutter-data-science) (3.0.2)\n",
      "Requirement already satisfied: text-unidecode>=1.3 in c:\\users\\kinga\\appdata\\roaming\\python\\python311\\site-packages (from python-slugify>=4.0.0->cookiecutter->cookiecutter-data-science) (1.3)\n",
      "Requirement already satisfied: charset-normalizer<4,>=2 in c:\\users\\kinga\\appdata\\roaming\\python\\python311\\site-packages (from requests>=2.23.0->cookiecutter->cookiecutter-data-science) (3.4.2)\n",
      "Requirement already satisfied: idna<4,>=2.5 in c:\\users\\kinga\\appdata\\roaming\\python\\python311\\site-packages (from requests>=2.23.0->cookiecutter->cookiecutter-data-science) (3.10)\n",
      "Requirement already satisfied: urllib3<3,>=1.21.1 in c:\\users\\kinga\\appdata\\roaming\\python\\python311\\site-packages (from requests>=2.23.0->cookiecutter->cookiecutter-data-science) (2.4.0)\n",
      "Requirement already satisfied: certifi>=2017.4.17 in c:\\users\\kinga\\appdata\\roaming\\python\\python311\\site-packages (from requests>=2.23.0->cookiecutter->cookiecutter-data-science) (2025.4.26)\n",
      "Requirement already satisfied: python-dateutil>=2.7.0 in c:\\users\\kinga\\appdata\\roaming\\python\\python311\\site-packages (from arrow->cookiecutter->cookiecutter-data-science) (2.9.0.post0)\n",
      "Requirement already satisfied: types-python-dateutil>=2.8.10 in c:\\users\\kinga\\appdata\\roaming\\python\\python311\\site-packages (from arrow->cookiecutter->cookiecutter-data-science) (2.9.0.20241206)\n",
      "Collecting markdown-it-py>=2.2.0 (from rich->cookiecutter->cookiecutter-data-science)\n",
      "  Downloading markdown_it_py-3.0.0-py3-none-any.whl.metadata (6.9 kB)\n",
      "Requirement already satisfied: pygments<3.0.0,>=2.13.0 in c:\\users\\kinga\\appdata\\roaming\\python\\python311\\site-packages (from rich->cookiecutter->cookiecutter-data-science) (2.19.1)\n",
      "Collecting mdurl~=0.1 (from markdown-it-py>=2.2.0->rich->cookiecutter->cookiecutter-data-science)\n",
      "  Downloading mdurl-0.1.2-py3-none-any.whl.metadata (1.6 kB)\n",
      "Requirement already satisfied: six>=1.5 in c:\\users\\kinga\\appdata\\roaming\\python\\python311\\site-packages (from python-dateutil>=2.7.0->arrow->cookiecutter->cookiecutter-data-science) (1.17.0)\n",
      "Downloading cookiecutter_data_science-2.2.0-py3-none-any.whl (9.0 kB)\n",
      "Downloading click-8.1.8-py3-none-any.whl (98 kB)\n",
      "   ---------------------------------------- 0.0/98.2 kB ? eta -:--:--\n",
      "   ------------------------------------- -- 92.2/98.2 kB 1.7 MB/s eta 0:00:01\n",
      "   ---------------------------------------- 98.2/98.2 kB 1.9 MB/s eta 0:00:00\n",
      "Downloading cookiecutter-2.6.0-py3-none-any.whl (39 kB)\n",
      "Downloading tomlkit-0.13.2-py3-none-any.whl (37 kB)\n",
      "Downloading binaryornot-0.4.4-py2.py3-none-any.whl (9.0 kB)\n",
      "Downloading rich-14.0.0-py3-none-any.whl (243 kB)\n",
      "   ---------------------------------------- 0.0/243.2 kB ? eta -:--:--\n",
      "   ---------------------------------------- 243.2/243.2 kB 5.0 MB/s eta 0:00:00\n",
      "Downloading chardet-5.2.0-py3-none-any.whl (199 kB)\n",
      "   ---------------------------------------- 0.0/199.4 kB ? eta -:--:--\n",
      "   ---------------------------------------- 199.4/199.4 kB ? eta 0:00:00\n",
      "Downloading markdown_it_py-3.0.0-py3-none-any.whl (87 kB)\n",
      "   ---------------------------------------- 0.0/87.5 kB ? eta -:--:--\n",
      "   ---------------------------------------- 87.5/87.5 kB ? eta 0:00:00\n",
      "Downloading mdurl-0.1.2-py3-none-any.whl (10.0 kB)\n",
      "Installing collected packages: tomlkit, mdurl, click, chardet, markdown-it-py, binaryornot, rich, cookiecutter, cookiecutter-data-science\n",
      "Successfully installed binaryornot-0.4.4 chardet-5.2.0 click-8.1.8 cookiecutter-2.6.0 cookiecutter-data-science-2.2.0 markdown-it-py-3.0.0 mdurl-0.1.2 rich-14.0.0 tomlkit-0.13.2\n"
     ]
    },
    {
     "name": "stderr",
     "output_type": "stream",
     "text": [
      "\n",
      "[notice] A new release of pip is available: 24.0 -> 25.1.1\n",
      "[notice] To update, run: python.exe -m pip install --upgrade pip\n"
     ]
    }
   ],
   "source": [
    "!pip install cookiecutter-data-science"
   ]
  },
  {
   "cell_type": "code",
   "execution_count": 2,
   "id": "57b3eadd",
   "metadata": {},
   "outputs": [
    {
     "name": "stdout",
     "output_type": "stream",
     "text": [
      "Dataset URL: https://www.kaggle.com/datasets/shahnawaj9/diabetes-database\n"
     ]
    }
   ],
   "source": [
    "import os\n",
    "import zipfile\n",
    "from pathlib import Path\n",
    "from kaggle.api.kaggle_api_extended import KaggleApi\n",
    "\n",
    "api = KaggleApi()\n",
    "api.authenticate()\n",
    "\n",
    "dataset_name = \"shahnawaj9/diabetes-database\"\n",
    "download_folder = Path(\"data/diabetes-database\")\n",
    "download_folder.mkdir(parents=True, exist_ok=True)\n",
    "\n",
    "api.dataset_download_files(dataset_name, path=str(download_folder), unzip=True)"
   ]
  },
  {
   "cell_type": "code",
   "execution_count": 3,
   "id": "69c5f3a3",
   "metadata": {},
   "outputs": [
    {
     "name": "stdout",
     "output_type": "stream",
     "text": [
      " Volume in drive C has no label.\n",
      " Volume Serial Number is A4CB-2127\n",
      "\n",
      " Directory of c:\\Users\\Kinga\\Documents\\ARISA\\MLOPs-Final\\data\\diabetes-database\n",
      "\n",
      "08.05.2025  17:59    <DIR>          .\n",
      "08.05.2025  17:59    <DIR>          ..\n",
      "08.05.2025  17:59            23�873 diabetes.csv\n",
      "08.05.2025  17:59            23�290 diabetes_Dataset_cleaned.csv\n",
      "               2 File(s)         47�163 bytes\n",
      "               2 Dir(s)  180�057�423�872 bytes free\n"
     ]
    }
   ],
   "source": [
    "!dir \"./data/diabetes-database\""
   ]
  },
  {
   "cell_type": "code",
   "execution_count": 4,
   "id": "1a0031ba",
   "metadata": {},
   "outputs": [],
   "source": [
    "import pandas as pd\n",
    "from sklearn.model_selection import train_test_split\n",
    "\n",
    "df = pd.read_csv(download_folder / \"diabetes.csv\")\n",
    "\n",
    "df_train, df_test = train_test_split(df, test_size=0.2, random_state=42)\n",
    "\n",
    "y_train = df_train.pop(\"Outcome\")\n",
    "X_train = df_train\n",
    "\n",
    "y_test = df_test.pop(\"Outcome\")\n",
    "X_test = df_test\n"
   ]
  },
  {
   "cell_type": "code",
   "execution_count": 5,
   "id": "3543dee0",
   "metadata": {},
   "outputs": [
    {
     "name": "stdout",
     "output_type": "stream",
     "text": [
      "Best Parameters: {'depth': 2, 'learning_rate': 0.24622239796003295, 'iterations': 177, 'l2_leaf_reg': 0.2807470766695133, 'bagging_temperature': 0.26445238306400015, 'random_strength': 0.0002363854018169984}\n"
     ]
    }
   ],
   "source": [
    "import joblib\n",
    "import optuna\n",
    "from sklearn.model_selection import train_test_split\n",
    "from catboost import CatBoostClassifier, Pool, cv\n",
    "\n",
    "outfolder = Path(\"results\")\n",
    "outfolder.mkdir(parents=True, exist_ok=True)\n",
    "\n",
    "best_params_path = outfolder / \"best_params.pkl\"\n",
    "\n",
    "if not best_params_path.is_file():\n",
    "    X_train_opt, X_val_opt, y_train_opt, y_val_opt = train_test_split(X_train, y_train, test_size=0.25, random_state=42)\n",
    "    \n",
    "    def objective(trial):\n",
    "        params = {\n",
    "            \"depth\": trial.suggest_int(\"depth\", 2, 10),\n",
    "            \"learning_rate\": trial.suggest_float(\"learning_rate\", 1e-4, 0.3),\n",
    "            \"iterations\": trial.suggest_int(\"iterations\", 100, 300),\n",
    "            \"l2_leaf_reg\": trial.suggest_float(\"l2_leaf_reg\", 1e-5, 100.0, log=True),\n",
    "            \"bagging_temperature\": trial.suggest_float(\"bagging_temperature\", 0.01, 1),\n",
    "            \"random_strength\": trial.suggest_float(\"random_strength\", 1e-5, 100.0, log=True)\n",
    "        }\n",
    "        model = CatBoostClassifier(**params, verbose=0)\n",
    "        model.fit(X_train_opt, y_train_opt, eval_set=(X_val_opt, y_val_opt), early_stopping_rounds=50)\n",
    "        return model.get_best_score()[\"validation\"][\"Logloss\"]\n",
    "    study = optuna.create_study(direction=\"minimize\")\n",
    "    study.optimize(objective, n_trials=50)\n",
    "    \n",
    "    joblib.dump(study.best_params, best_params_path)\n",
    "    params = study.best_params\n",
    "else:\n",
    "    params = joblib.load(best_params_path)\n",
    "print(\"Best Parameters:\", params)"
   ]
  },
  {
   "cell_type": "code",
   "execution_count": 6,
   "id": "74081cbd",
   "metadata": {},
   "outputs": [
    {
     "name": "stdout",
     "output_type": "stream",
     "text": [
      "Training on fold [0/5]\n",
      "0:\tlearn: 0.5384615\ttest: 0.5833333\tbest: 0.5833333 (0)\ttotal: 148ms\tremaining: 26s\n",
      "1:\tlearn: 0.5898305\ttest: 0.6842105\tbest: 0.6842105 (1)\ttotal: 151ms\tremaining: 13.2s\n",
      "2:\tlearn: 0.5971223\ttest: 0.6666667\tbest: 0.6842105 (1)\ttotal: 154ms\tremaining: 8.91s\n",
      "3:\tlearn: 0.5546875\ttest: 0.5846154\tbest: 0.6842105 (1)\ttotal: 157ms\tremaining: 6.79s\n",
      "4:\tlearn: 0.5942029\ttest: 0.6849315\tbest: 0.6849315 (4)\ttotal: 160ms\tremaining: 5.51s\n",
      "5:\tlearn: 0.6197183\ttest: 0.6849315\tbest: 0.6849315 (4)\ttotal: 163ms\tremaining: 4.65s\n",
      "6:\tlearn: 0.6363636\ttest: 0.7027027\tbest: 0.7027027 (6)\ttotal: 166ms\tremaining: 4.04s\n",
      "7:\tlearn: 0.6148410\ttest: 0.6944444\tbest: 0.7027027 (6)\ttotal: 169ms\tremaining: 3.58s\n",
      "8:\tlearn: 0.6478873\ttest: 0.7027027\tbest: 0.7027027 (6)\ttotal: 173ms\tremaining: 3.23s\n",
      "9:\tlearn: 0.6411150\ttest: 0.6933333\tbest: 0.7027027 (6)\ttotal: 176ms\tremaining: 2.94s\n",
      "10:\tlearn: 0.6480836\ttest: 0.7012987\tbest: 0.7027027 (6)\ttotal: 178ms\tremaining: 2.68s\n",
      "11:\tlearn: 0.6712803\ttest: 0.6933333\tbest: 0.7027027 (6)\ttotal: 179ms\tremaining: 2.46s\n",
      "12:\tlearn: 0.6734694\ttest: 0.6842105\tbest: 0.7027027 (6)\ttotal: 180ms\tremaining: 2.28s\n",
      "13:\tlearn: 0.6849315\ttest: 0.6756757\tbest: 0.7027027 (6)\ttotal: 182ms\tremaining: 2.12s\n",
      "14:\tlearn: 0.6804124\ttest: 0.6575342\tbest: 0.7027027 (6)\ttotal: 184ms\tremaining: 1.98s\n",
      "15:\tlearn: 0.6872852\ttest: 0.6575342\tbest: 0.7027027 (6)\ttotal: 186ms\tremaining: 1.87s\n",
      "16:\tlearn: 0.6915254\ttest: 0.6842105\tbest: 0.7027027 (6)\ttotal: 188ms\tremaining: 1.77s\n",
      "17:\tlearn: 0.6915254\ttest: 0.6933333\tbest: 0.7027027 (6)\ttotal: 189ms\tremaining: 1.67s\n",
      "18:\tlearn: 0.6959459\ttest: 0.6753247\tbest: 0.7027027 (6)\ttotal: 191ms\tremaining: 1.59s\n",
      "19:\tlearn: 0.7050847\ttest: 0.6933333\tbest: 0.7027027 (6)\ttotal: 193ms\tremaining: 1.51s\n",
      "20:\tlearn: 0.7006803\ttest: 0.6666667\tbest: 0.7027027 (6)\ttotal: 194ms\tremaining: 1.44s\n",
      "21:\tlearn: 0.7147766\ttest: 0.7105263\tbest: 0.7105263 (21)\ttotal: 195ms\tremaining: 1.38s\n",
      "22:\tlearn: 0.7147766\ttest: 0.7297297\tbest: 0.7297297 (22)\ttotal: 197ms\tremaining: 1.32s\n",
      "23:\tlearn: 0.7278912\ttest: 0.7297297\tbest: 0.7297297 (22)\ttotal: 198ms\tremaining: 1.26s\n",
      "24:\tlearn: 0.7346939\ttest: 0.7123288\tbest: 0.7297297 (22)\ttotal: 200ms\tremaining: 1.21s\n",
      "25:\tlearn: 0.7382550\ttest: 0.7123288\tbest: 0.7297297 (22)\ttotal: 201ms\tremaining: 1.17s\n",
      "26:\tlearn: 0.7424749\ttest: 0.7200000\tbest: 0.7297297 (22)\ttotal: 204ms\tremaining: 1.14s\n",
      "27:\tlearn: 0.7466667\ttest: 0.7123288\tbest: 0.7297297 (22)\ttotal: 206ms\tremaining: 1.1s\n",
      "28:\tlearn: 0.7590759\ttest: 0.7200000\tbest: 0.7297297 (22)\ttotal: 209ms\tremaining: 1.07s\n",
      "29:\tlearn: 0.7600000\ttest: 0.7200000\tbest: 0.7297297 (22)\ttotal: 212ms\tremaining: 1.04s\n",
      "30:\tlearn: 0.7600000\ttest: 0.7297297\tbest: 0.7297297 (22)\ttotal: 215ms\tremaining: 1.01s\n",
      "31:\tlearn: 0.7682119\ttest: 0.7200000\tbest: 0.7297297 (22)\ttotal: 218ms\tremaining: 987ms\n",
      "32:\tlearn: 0.7682119\ttest: 0.7012987\tbest: 0.7297297 (22)\ttotal: 220ms\tremaining: 960ms\n",
      "33:\tlearn: 0.7774086\ttest: 0.7012987\tbest: 0.7297297 (22)\ttotal: 221ms\tremaining: 930ms\n",
      "34:\tlearn: 0.7814570\ttest: 0.6933333\tbest: 0.7297297 (22)\ttotal: 223ms\tremaining: 903ms\n",
      "35:\tlearn: 0.7777778\ttest: 0.6842105\tbest: 0.7297297 (22)\ttotal: 224ms\tremaining: 877ms\n",
      "36:\tlearn: 0.7763158\ttest: 0.7012987\tbest: 0.7297297 (22)\ttotal: 225ms\tremaining: 852ms\n",
      "37:\tlearn: 0.7763158\ttest: 0.7012987\tbest: 0.7297297 (22)\ttotal: 227ms\tremaining: 829ms\n",
      "38:\tlearn: 0.7737705\ttest: 0.7012987\tbest: 0.7297297 (22)\ttotal: 228ms\tremaining: 806ms\n",
      "39:\tlearn: 0.7763158\ttest: 0.7012987\tbest: 0.7297297 (22)\ttotal: 229ms\tremaining: 786ms\n",
      "40:\tlearn: 0.7763158\ttest: 0.7012987\tbest: 0.7297297 (22)\ttotal: 231ms\tremaining: 765ms\n",
      "41:\tlearn: 0.7843137\ttest: 0.7012987\tbest: 0.7297297 (22)\ttotal: 232ms\tremaining: 745ms\n",
      "42:\tlearn: 0.7843137\ttest: 0.7012987\tbest: 0.7297297 (22)\ttotal: 233ms\tremaining: 727ms\n",
      "43:\tlearn: 0.8012821\ttest: 0.6933333\tbest: 0.7297297 (22)\ttotal: 234ms\tremaining: 709ms\n",
      "44:\tlearn: 0.8038585\ttest: 0.6933333\tbest: 0.7297297 (22)\ttotal: 236ms\tremaining: 692ms\n",
      "45:\tlearn: 0.7974277\ttest: 0.7105263\tbest: 0.7297297 (22)\ttotal: 237ms\tremaining: 675ms\n",
      "46:\tlearn: 0.8012821\ttest: 0.7105263\tbest: 0.7297297 (22)\ttotal: 238ms\tremaining: 659ms\n",
      "47:\tlearn: 0.7948718\ttest: 0.7012987\tbest: 0.7297297 (22)\ttotal: 241ms\tremaining: 648ms\n",
      "48:\tlearn: 0.7987220\ttest: 0.6933333\tbest: 0.7297297 (22)\ttotal: 243ms\tremaining: 635ms\n",
      "49:\tlearn: 0.8063492\ttest: 0.6933333\tbest: 0.7297297 (22)\ttotal: 245ms\tremaining: 623ms\n",
      "50:\tlearn: 0.8138801\ttest: 0.7105263\tbest: 0.7297297 (22)\ttotal: 247ms\tremaining: 610ms\n",
      "51:\tlearn: 0.8213166\ttest: 0.7105263\tbest: 0.7297297 (22)\ttotal: 248ms\tremaining: 597ms\n",
      "52:\tlearn: 0.8227848\ttest: 0.7105263\tbest: 0.7297297 (22)\ttotal: 249ms\tremaining: 584ms\n",
      "53:\tlearn: 0.8190476\ttest: 0.6933333\tbest: 0.7297297 (22)\ttotal: 251ms\tremaining: 571ms\n",
      "54:\tlearn: 0.8227848\ttest: 0.6933333\tbest: 0.7297297 (22)\ttotal: 252ms\tremaining: 559ms\n",
      "55:\tlearn: 0.8213166\ttest: 0.6933333\tbest: 0.7297297 (22)\ttotal: 253ms\tremaining: 547ms\n",
      "56:\tlearn: 0.8264984\ttest: 0.7105263\tbest: 0.7297297 (22)\ttotal: 255ms\tremaining: 536ms\n",
      "57:\tlearn: 0.8264984\ttest: 0.7105263\tbest: 0.7297297 (22)\ttotal: 257ms\tremaining: 527ms\n",
      "58:\tlearn: 0.8301887\ttest: 0.7012987\tbest: 0.7297297 (22)\ttotal: 260ms\tremaining: 520ms\n",
      "59:\tlearn: 0.8391167\ttest: 0.7012987\tbest: 0.7297297 (22)\ttotal: 262ms\tremaining: 511ms\n",
      "60:\tlearn: 0.8391167\ttest: 0.7012987\tbest: 0.7297297 (22)\ttotal: 263ms\tremaining: 501ms\n",
      "61:\tlearn: 0.8391167\ttest: 0.7012987\tbest: 0.7297297 (22)\ttotal: 265ms\tremaining: 491ms\n",
      "62:\tlearn: 0.8401254\ttest: 0.7012987\tbest: 0.7297297 (22)\ttotal: 266ms\tremaining: 481ms\n",
      "63:\tlearn: 0.8401254\ttest: 0.7105263\tbest: 0.7297297 (22)\ttotal: 268ms\tremaining: 473ms\n",
      "64:\tlearn: 0.8427673\ttest: 0.7105263\tbest: 0.7297297 (22)\ttotal: 269ms\tremaining: 464ms\n",
      "65:\tlearn: 0.8427673\ttest: 0.7200000\tbest: 0.7297297 (22)\ttotal: 271ms\tremaining: 456ms\n",
      "66:\tlearn: 0.8427673\ttest: 0.7200000\tbest: 0.7297297 (22)\ttotal: 274ms\tremaining: 449ms\n",
      "67:\tlearn: 0.8375000\ttest: 0.7200000\tbest: 0.7297297 (22)\ttotal: 275ms\tremaining: 441ms\n",
      "68:\tlearn: 0.8375000\ttest: 0.7368421\tbest: 0.7368421 (68)\ttotal: 276ms\tremaining: 433ms\n",
      "69:\tlearn: 0.8473520\ttest: 0.7368421\tbest: 0.7368421 (68)\ttotal: 278ms\tremaining: 425ms\n",
      "70:\tlearn: 0.8500000\ttest: 0.7368421\tbest: 0.7368421 (68)\ttotal: 279ms\tremaining: 417ms\n",
      "71:\tlearn: 0.8571429\ttest: 0.7368421\tbest: 0.7368421 (68)\ttotal: 280ms\tremaining: 409ms\n",
      "72:\tlearn: 0.8633540\ttest: 0.7368421\tbest: 0.7368421 (68)\ttotal: 282ms\tremaining: 401ms\n",
      "73:\tlearn: 0.8625000\ttest: 0.7272727\tbest: 0.7368421 (68)\ttotal: 283ms\tremaining: 394ms\n",
      "74:\tlearn: 0.8625000\ttest: 0.7272727\tbest: 0.7368421 (68)\ttotal: 284ms\tremaining: 387ms\n",
      "75:\tlearn: 0.8660436\ttest: 0.7272727\tbest: 0.7368421 (68)\ttotal: 286ms\tremaining: 380ms\n",
      "76:\tlearn: 0.8625000\ttest: 0.7272727\tbest: 0.7368421 (68)\ttotal: 287ms\tremaining: 372ms\n",
      "77:\tlearn: 0.8625000\ttest: 0.7272727\tbest: 0.7368421 (68)\ttotal: 288ms\tremaining: 366ms\n",
      "78:\tlearn: 0.8589342\ttest: 0.7272727\tbest: 0.7368421 (68)\ttotal: 290ms\tremaining: 360ms\n",
      "79:\tlearn: 0.8589342\ttest: 0.7105263\tbest: 0.7368421 (68)\ttotal: 291ms\tremaining: 353ms\n",
      "80:\tlearn: 0.8589342\ttest: 0.7012987\tbest: 0.7368421 (68)\ttotal: 293ms\tremaining: 347ms\n",
      "81:\tlearn: 0.8616352\ttest: 0.7105263\tbest: 0.7368421 (68)\ttotal: 294ms\tremaining: 340ms\n",
      "82:\tlearn: 0.8616352\ttest: 0.7105263\tbest: 0.7368421 (68)\ttotal: 296ms\tremaining: 335ms\n",
      "83:\tlearn: 0.8652038\ttest: 0.7179487\tbest: 0.7368421 (68)\ttotal: 298ms\tremaining: 330ms\n",
      "84:\tlearn: 0.8722741\ttest: 0.7088608\tbest: 0.7368421 (68)\ttotal: 301ms\tremaining: 325ms\n",
      "85:\tlearn: 0.8687500\ttest: 0.7179487\tbest: 0.7368421 (68)\ttotal: 302ms\tremaining: 320ms\n",
      "86:\tlearn: 0.8687500\ttest: 0.7272727\tbest: 0.7368421 (68)\ttotal: 304ms\tremaining: 315ms\n",
      "87:\tlearn: 0.8722741\ttest: 0.7272727\tbest: 0.7368421 (68)\ttotal: 306ms\tremaining: 310ms\n",
      "88:\tlearn: 0.8750000\ttest: 0.7368421\tbest: 0.7368421 (68)\ttotal: 308ms\tremaining: 304ms\n",
      "89:\tlearn: 0.8805031\ttest: 0.7368421\tbest: 0.7368421 (68)\ttotal: 309ms\tremaining: 299ms\n",
      "90:\tlearn: 0.8805031\ttest: 0.7368421\tbest: 0.7368421 (68)\ttotal: 310ms\tremaining: 293ms\n",
      "91:\tlearn: 0.8805031\ttest: 0.7368421\tbest: 0.7368421 (68)\ttotal: 312ms\tremaining: 288ms\n",
      "92:\tlearn: 0.8805031\ttest: 0.7368421\tbest: 0.7368421 (68)\ttotal: 313ms\tremaining: 283ms\n",
      "93:\tlearn: 0.8832808\ttest: 0.7368421\tbest: 0.7368421 (68)\ttotal: 314ms\tremaining: 277ms\n",
      "94:\tlearn: 0.8832808\ttest: 0.7435897\tbest: 0.7435897 (94)\ttotal: 315ms\tremaining: 272ms\n",
      "95:\tlearn: 0.8832808\ttest: 0.7272727\tbest: 0.7435897 (94)\ttotal: 317ms\tremaining: 267ms\n",
      "96:\tlearn: 0.8832808\ttest: 0.7272727\tbest: 0.7435897 (94)\ttotal: 319ms\tremaining: 263ms\n",
      "97:\tlearn: 0.8881988\ttest: 0.7088608\tbest: 0.7435897 (94)\ttotal: 320ms\tremaining: 258ms\n",
      "98:\tlearn: 0.8881988\ttest: 0.7088608\tbest: 0.7435897 (94)\ttotal: 321ms\tremaining: 253ms\n",
      "99:\tlearn: 0.8888889\ttest: 0.7088608\tbest: 0.7435897 (94)\ttotal: 322ms\tremaining: 248ms\n",
      "100:\tlearn: 0.8888889\ttest: 0.7250000\tbest: 0.7435897 (94)\ttotal: 324ms\tremaining: 244ms\n",
      "101:\tlearn: 0.8888889\ttest: 0.7435897\tbest: 0.7435897 (94)\ttotal: 326ms\tremaining: 240ms\n",
      "102:\tlearn: 0.8861538\ttest: 0.7250000\tbest: 0.7435897 (94)\ttotal: 328ms\tremaining: 235ms\n",
      "103:\tlearn: 0.8861538\ttest: 0.7341772\tbest: 0.7435897 (94)\ttotal: 330ms\tremaining: 232ms\n",
      "104:\tlearn: 0.8916409\ttest: 0.7435897\tbest: 0.7435897 (94)\ttotal: 333ms\tremaining: 228ms\n",
      "105:\tlearn: 0.8950617\ttest: 0.7435897\tbest: 0.7435897 (94)\ttotal: 334ms\tremaining: 224ms\n",
      "106:\tlearn: 0.8984615\ttest: 0.7594937\tbest: 0.7594937 (106)\ttotal: 337ms\tremaining: 220ms\n",
      "107:\tlearn: 0.8990826\ttest: 0.7594937\tbest: 0.7594937 (106)\ttotal: 339ms\tremaining: 216ms\n",
      "108:\tlearn: 0.8996960\ttest: 0.7500000\tbest: 0.7594937 (106)\ttotal: 340ms\tremaining: 212ms\n",
      "109:\tlearn: 0.9051988\ttest: 0.7341772\tbest: 0.7594937 (106)\ttotal: 341ms\tremaining: 208ms\n",
      "110:\tlearn: 0.9079755\ttest: 0.7435897\tbest: 0.7594937 (106)\ttotal: 343ms\tremaining: 204ms\n",
      "111:\tlearn: 0.9079755\ttest: 0.7435897\tbest: 0.7594937 (106)\ttotal: 344ms\tremaining: 200ms\n",
      "112:\tlearn: 0.9074074\ttest: 0.7435897\tbest: 0.7594937 (106)\ttotal: 345ms\tremaining: 196ms\n",
      "113:\tlearn: 0.8984615\ttest: 0.7435897\tbest: 0.7594937 (106)\ttotal: 347ms\tremaining: 192ms\n",
      "114:\tlearn: 0.9012346\ttest: 0.7435897\tbest: 0.7594937 (106)\ttotal: 349ms\tremaining: 188ms\n",
      "115:\tlearn: 0.9012346\ttest: 0.7435897\tbest: 0.7594937 (106)\ttotal: 350ms\tremaining: 184ms\n",
      "116:\tlearn: 0.9046154\ttest: 0.7435897\tbest: 0.7594937 (106)\ttotal: 351ms\tremaining: 180ms\n",
      "117:\tlearn: 0.9012346\ttest: 0.7435897\tbest: 0.7594937 (106)\ttotal: 354ms\tremaining: 177ms\n",
      "118:\tlearn: 0.9012346\ttest: 0.7435897\tbest: 0.7594937 (106)\ttotal: 355ms\tremaining: 173ms\n",
      "119:\tlearn: 0.9102167\ttest: 0.7435897\tbest: 0.7594937 (106)\ttotal: 357ms\tremaining: 169ms\n",
      "120:\tlearn: 0.9107692\ttest: 0.7341772\tbest: 0.7594937 (106)\ttotal: 358ms\tremaining: 166ms\n",
      "121:\tlearn: 0.9046154\ttest: 0.7341772\tbest: 0.7594937 (106)\ttotal: 361ms\tremaining: 163ms\n",
      "122:\tlearn: 0.9079755\ttest: 0.7341772\tbest: 0.7594937 (106)\ttotal: 363ms\tremaining: 159ms\n",
      "123:\tlearn: 0.9113150\ttest: 0.7435897\tbest: 0.7594937 (106)\ttotal: 365ms\tremaining: 156ms\n",
      "124:\tlearn: 0.9141104\ttest: 0.7435897\tbest: 0.7594937 (106)\ttotal: 366ms\tremaining: 152ms\n",
      "125:\tlearn: 0.9141104\ttest: 0.7341772\tbest: 0.7594937 (106)\ttotal: 367ms\tremaining: 149ms\n",
      "126:\tlearn: 0.9141104\ttest: 0.7179487\tbest: 0.7594937 (106)\ttotal: 369ms\tremaining: 145ms\n",
      "127:\tlearn: 0.9141104\ttest: 0.7272727\tbest: 0.7594937 (106)\ttotal: 370ms\tremaining: 142ms\n",
      "128:\tlearn: 0.9141104\ttest: 0.7272727\tbest: 0.7594937 (106)\ttotal: 371ms\tremaining: 138ms\n",
      "129:\tlearn: 0.9102167\ttest: 0.7179487\tbest: 0.7594937 (106)\ttotal: 373ms\tremaining: 135ms\n",
      "130:\tlearn: 0.9074074\ttest: 0.7179487\tbest: 0.7594937 (106)\ttotal: 374ms\tremaining: 131ms\n",
      "131:\tlearn: 0.9074074\ttest: 0.7179487\tbest: 0.7594937 (106)\ttotal: 376ms\tremaining: 128ms\n",
      "132:\tlearn: 0.9074074\ttest: 0.7012987\tbest: 0.7594937 (106)\ttotal: 378ms\tremaining: 125ms\n",
      "133:\tlearn: 0.9107692\ttest: 0.7105263\tbest: 0.7594937 (106)\ttotal: 379ms\tremaining: 122ms\n",
      "134:\tlearn: 0.9141104\ttest: 0.7012987\tbest: 0.7594937 (106)\ttotal: 380ms\tremaining: 118ms\n",
      "135:\tlearn: 0.9141104\ttest: 0.7012987\tbest: 0.7594937 (106)\ttotal: 382ms\tremaining: 115ms\n",
      "136:\tlearn: 0.9174312\ttest: 0.7105263\tbest: 0.7594937 (106)\ttotal: 383ms\tremaining: 112ms\n",
      "137:\tlearn: 0.9169231\ttest: 0.7012987\tbest: 0.7594937 (106)\ttotal: 385ms\tremaining: 109ms\n",
      "138:\tlearn: 0.9179331\ttest: 0.7179487\tbest: 0.7594937 (106)\ttotal: 387ms\tremaining: 106ms\n",
      "139:\tlearn: 0.9235474\ttest: 0.7179487\tbest: 0.7594937 (106)\ttotal: 389ms\tremaining: 103ms\n",
      "140:\tlearn: 0.9207317\ttest: 0.7012987\tbest: 0.7594937 (106)\ttotal: 391ms\tremaining: 99.9ms\n",
      "141:\tlearn: 0.9235474\ttest: 0.7105263\tbest: 0.7594937 (106)\ttotal: 393ms\tremaining: 96.8ms\n",
      "142:\tlearn: 0.9268293\ttest: 0.7012987\tbest: 0.7594937 (106)\ttotal: 395ms\tremaining: 93.8ms\n",
      "143:\tlearn: 0.9268293\ttest: 0.7200000\tbest: 0.7594937 (106)\ttotal: 396ms\tremaining: 90.8ms\n",
      "144:\tlearn: 0.9300912\ttest: 0.7105263\tbest: 0.7594937 (106)\ttotal: 398ms\tremaining: 87.7ms\n",
      "145:\tlearn: 0.9300912\ttest: 0.7105263\tbest: 0.7594937 (106)\ttotal: 399ms\tremaining: 84.7ms\n",
      "146:\tlearn: 0.9268293\ttest: 0.7105263\tbest: 0.7594937 (106)\ttotal: 400ms\tremaining: 81.7ms\n",
      "147:\tlearn: 0.9268293\ttest: 0.7105263\tbest: 0.7594937 (106)\ttotal: 402ms\tremaining: 78.7ms\n",
      "148:\tlearn: 0.9300912\ttest: 0.7012987\tbest: 0.7594937 (106)\ttotal: 403ms\tremaining: 75.7ms\n",
      "149:\tlearn: 0.9300912\ttest: 0.7105263\tbest: 0.7594937 (106)\ttotal: 406ms\tremaining: 73ms\n",
      "150:\tlearn: 0.9300912\ttest: 0.7105263\tbest: 0.7594937 (106)\ttotal: 407ms\tremaining: 70.1ms\n",
      "151:\tlearn: 0.9300912\ttest: 0.7105263\tbest: 0.7594937 (106)\ttotal: 408ms\tremaining: 67.1ms\n",
      "152:\tlearn: 0.9329268\ttest: 0.7105263\tbest: 0.7594937 (106)\ttotal: 410ms\tremaining: 64.3ms\n",
      "153:\tlearn: 0.9361702\ttest: 0.7105263\tbest: 0.7594937 (106)\ttotal: 411ms\tremaining: 61.5ms\n",
      "154:\tlearn: 0.9361702\ttest: 0.7105263\tbest: 0.7594937 (106)\ttotal: 413ms\tremaining: 58.6ms\n",
      "155:\tlearn: 0.9422492\ttest: 0.7105263\tbest: 0.7594937 (106)\ttotal: 414ms\tremaining: 55.8ms\n",
      "156:\tlearn: 0.9390244\ttest: 0.7105263\tbest: 0.7594937 (106)\ttotal: 416ms\tremaining: 53ms\n",
      "157:\tlearn: 0.9454545\ttest: 0.7105263\tbest: 0.7594937 (106)\ttotal: 417ms\tremaining: 50.2ms\n",
      "158:\tlearn: 0.9454545\ttest: 0.7105263\tbest: 0.7594937 (106)\ttotal: 419ms\tremaining: 47.5ms\n",
      "159:\tlearn: 0.9454545\ttest: 0.7105263\tbest: 0.7594937 (106)\ttotal: 421ms\tremaining: 44.7ms\n",
      "160:\tlearn: 0.9454545\ttest: 0.7105263\tbest: 0.7594937 (106)\ttotal: 422ms\tremaining: 41.9ms\n",
      "161:\tlearn: 0.9454545\ttest: 0.7105263\tbest: 0.7594937 (106)\ttotal: 423ms\tremaining: 39.2ms\n",
      "162:\tlearn: 0.9454545\ttest: 0.7105263\tbest: 0.7594937 (106)\ttotal: 424ms\tremaining: 36.5ms\n",
      "163:\tlearn: 0.9486405\ttest: 0.7105263\tbest: 0.7594937 (106)\ttotal: 426ms\tremaining: 33.8ms\n",
      "164:\tlearn: 0.9486405\ttest: 0.7105263\tbest: 0.7594937 (106)\ttotal: 427ms\tremaining: 31.1ms\n",
      "165:\tlearn: 0.9486405\ttest: 0.7105263\tbest: 0.7594937 (106)\ttotal: 428ms\tremaining: 28.4ms\n",
      "166:\tlearn: 0.9486405\ttest: 0.7105263\tbest: 0.7594937 (106)\ttotal: 430ms\tremaining: 25.7ms\n",
      "167:\tlearn: 0.9515152\ttest: 0.7105263\tbest: 0.7594937 (106)\ttotal: 431ms\tremaining: 23.1ms\n",
      "168:\tlearn: 0.9486405\ttest: 0.7200000\tbest: 0.7594937 (106)\ttotal: 432ms\tremaining: 20.5ms\n",
      "169:\tlearn: 0.9515152\ttest: 0.7200000\tbest: 0.7594937 (106)\ttotal: 434ms\tremaining: 17.9ms\n",
      "170:\tlearn: 0.9518072\ttest: 0.7200000\tbest: 0.7594937 (106)\ttotal: 435ms\tremaining: 15.3ms\n",
      "171:\tlearn: 0.9549550\ttest: 0.7200000\tbest: 0.7594937 (106)\ttotal: 436ms\tremaining: 12.7ms\n",
      "172:\tlearn: 0.9515152\ttest: 0.7368421\tbest: 0.7594937 (106)\ttotal: 438ms\tremaining: 10.1ms\n",
      "173:\tlearn: 0.9515152\ttest: 0.7368421\tbest: 0.7594937 (106)\ttotal: 439ms\tremaining: 7.58ms\n",
      "174:\tlearn: 0.9515152\ttest: 0.7368421\tbest: 0.7594937 (106)\ttotal: 441ms\tremaining: 5.04ms\n",
      "175:\tlearn: 0.9486405\ttest: 0.7368421\tbest: 0.7594937 (106)\ttotal: 443ms\tremaining: 2.52ms\n",
      "176:\tlearn: 0.9518072\ttest: 0.7368421\tbest: 0.7594937 (106)\ttotal: 445ms\tremaining: 0us\n",
      "\n",
      "bestTest = 0.7594936709\n",
      "bestIteration = 106\n",
      "\n",
      "Training on fold [1/5]\n",
      "0:\tlearn: 0.5704467\ttest: 0.4477612\tbest: 0.4477612 (0)\ttotal: 1.39ms\tremaining: 245ms\n",
      "1:\tlearn: 0.6360656\ttest: 0.5428571\tbest: 0.5428571 (1)\ttotal: 2.61ms\tremaining: 228ms\n",
      "2:\tlearn: 0.5942029\ttest: 0.5151515\tbest: 0.5428571 (1)\ttotal: 3.98ms\tremaining: 231ms\n",
      "3:\tlearn: 0.5942029\ttest: 0.5151515\tbest: 0.5428571 (1)\ttotal: 5.34ms\tremaining: 231ms\n",
      "4:\tlearn: 0.6338028\ttest: 0.5294118\tbest: 0.5428571 (1)\ttotal: 6.75ms\tremaining: 232ms\n",
      "5:\tlearn: 0.6330935\ttest: 0.5373134\tbest: 0.5428571 (1)\ttotal: 8.23ms\tremaining: 235ms\n",
      "6:\tlearn: 0.6643836\ttest: 0.5373134\tbest: 0.5428571 (1)\ttotal: 9.59ms\tremaining: 233ms\n",
      "7:\tlearn: 0.7003367\ttest: 0.5205479\tbest: 0.5428571 (1)\ttotal: 10.8ms\tremaining: 228ms\n",
      "8:\tlearn: 0.6891892\ttest: 0.5217391\tbest: 0.5428571 (1)\ttotal: 12ms\tremaining: 224ms\n",
      "9:\tlearn: 0.7133333\ttest: 0.5217391\tbest: 0.5428571 (1)\ttotal: 13.3ms\tremaining: 222ms\n",
      "10:\tlearn: 0.7278689\ttest: 0.5205479\tbest: 0.5428571 (1)\ttotal: 14.5ms\tremaining: 218ms\n",
      "11:\tlearn: 0.7218543\ttest: 0.5205479\tbest: 0.5428571 (1)\ttotal: 15.6ms\tremaining: 215ms\n",
      "12:\tlearn: 0.7302632\ttest: 0.5205479\tbest: 0.5428571 (1)\ttotal: 16.8ms\tremaining: 212ms\n",
      "13:\tlearn: 0.7409836\ttest: 0.5333333\tbest: 0.5428571 (1)\ttotal: 18ms\tremaining: 210ms\n",
      "14:\tlearn: 0.7507886\ttest: 0.5600000\tbest: 0.5600000 (14)\ttotal: 19.3ms\tremaining: 209ms\n",
      "15:\tlearn: 0.7483871\ttest: 0.5405405\tbest: 0.5600000 (14)\ttotal: 20.6ms\tremaining: 208ms\n",
      "16:\tlearn: 0.7476038\ttest: 0.5600000\tbest: 0.5600000 (14)\ttotal: 21.9ms\tremaining: 206ms\n",
      "17:\tlearn: 0.7555556\ttest: 0.5600000\tbest: 0.5600000 (14)\ttotal: 23.1ms\tremaining: 204ms\n",
      "18:\tlearn: 0.7459807\ttest: 0.5352113\tbest: 0.5600000 (14)\ttotal: 24.5ms\tremaining: 204ms\n",
      "19:\tlearn: 0.7548387\ttest: 0.5070423\tbest: 0.5600000 (14)\ttotal: 25.7ms\tremaining: 202ms\n",
      "20:\tlearn: 0.7531646\ttest: 0.5479452\tbest: 0.5600000 (14)\ttotal: 26.9ms\tremaining: 200ms\n",
      "21:\tlearn: 0.7658228\ttest: 0.5277778\tbest: 0.5600000 (14)\ttotal: 28.2ms\tremaining: 199ms\n",
      "22:\tlearn: 0.7784810\ttest: 0.5277778\tbest: 0.5600000 (14)\ttotal: 29.5ms\tremaining: 197ms\n",
      "23:\tlearn: 0.7760252\ttest: 0.5479452\tbest: 0.5600000 (14)\ttotal: 31.1ms\tremaining: 198ms\n",
      "24:\tlearn: 0.7760252\ttest: 0.5479452\tbest: 0.5600000 (14)\ttotal: 33.5ms\tremaining: 204ms\n",
      "25:\tlearn: 0.7760252\ttest: 0.5479452\tbest: 0.5600000 (14)\ttotal: 35.1ms\tremaining: 204ms\n",
      "26:\tlearn: 0.7784810\ttest: 0.5277778\tbest: 0.5600000 (14)\ttotal: 36.4ms\tremaining: 202ms\n",
      "27:\tlearn: 0.7848101\ttest: 0.5675676\tbest: 0.5675676 (27)\ttotal: 38.4ms\tremaining: 204ms\n",
      "28:\tlearn: 0.7809524\ttest: 0.5866667\tbest: 0.5866667 (28)\ttotal: 39.8ms\tremaining: 203ms\n",
      "29:\tlearn: 0.7809524\ttest: 0.5789474\tbest: 0.5866667 (28)\ttotal: 41.1ms\tremaining: 202ms\n",
      "30:\tlearn: 0.7873016\ttest: 0.5789474\tbest: 0.5866667 (28)\ttotal: 42.5ms\tremaining: 200ms\n",
      "31:\tlearn: 0.7911392\ttest: 0.5974026\tbest: 0.5974026 (31)\ttotal: 43.6ms\tremaining: 198ms\n",
      "32:\tlearn: 0.7848101\ttest: 0.5714286\tbest: 0.5974026 (31)\ttotal: 44.8ms\tremaining: 196ms\n",
      "33:\tlearn: 0.7924528\ttest: 0.5714286\tbest: 0.5974026 (31)\ttotal: 46.1ms\tremaining: 194ms\n",
      "34:\tlearn: 0.7987421\ttest: 0.5641026\tbest: 0.5974026 (31)\ttotal: 47.4ms\tremaining: 192ms\n",
      "35:\tlearn: 0.7949527\ttest: 0.5641026\tbest: 0.5974026 (31)\ttotal: 48.7ms\tremaining: 191ms\n",
      "36:\tlearn: 0.7936508\ttest: 0.5714286\tbest: 0.5974026 (31)\ttotal: 49.9ms\tremaining: 189ms\n",
      "37:\tlearn: 0.7962382\ttest: 0.5714286\tbest: 0.5974026 (31)\ttotal: 51.3ms\tremaining: 188ms\n",
      "38:\tlearn: 0.8025078\ttest: 0.5714286\tbest: 0.5974026 (31)\ttotal: 52.5ms\tremaining: 186ms\n",
      "39:\tlearn: 0.8025478\ttest: 0.5526316\tbest: 0.5974026 (31)\ttotal: 54.1ms\tremaining: 185ms\n",
      "40:\tlearn: 0.8012618\ttest: 0.5526316\tbest: 0.5974026 (31)\ttotal: 55.3ms\tremaining: 184ms\n",
      "41:\tlearn: 0.8050314\ttest: 0.5714286\tbest: 0.5974026 (31)\ttotal: 56.6ms\tremaining: 182ms\n",
      "42:\tlearn: 0.8101266\ttest: 0.5526316\tbest: 0.5974026 (31)\ttotal: 57.9ms\tremaining: 180ms\n",
      "43:\tlearn: 0.8101266\ttest: 0.5526316\tbest: 0.5974026 (31)\ttotal: 59.3ms\tremaining: 179ms\n",
      "44:\tlearn: 0.8063492\ttest: 0.5526316\tbest: 0.5974026 (31)\ttotal: 60.7ms\tremaining: 178ms\n",
      "45:\tlearn: 0.8101266\ttest: 0.5454545\tbest: 0.5974026 (31)\ttotal: 62.4ms\tremaining: 178ms\n",
      "46:\tlearn: 0.8063492\ttest: 0.5384615\tbest: 0.5974026 (31)\ttotal: 64.4ms\tremaining: 178ms\n",
      "47:\tlearn: 0.8063492\ttest: 0.5569620\tbest: 0.5974026 (31)\ttotal: 65.7ms\tremaining: 177ms\n",
      "48:\tlearn: 0.8089172\ttest: 0.5569620\tbest: 0.5974026 (31)\ttotal: 67.1ms\tremaining: 175ms\n",
      "49:\tlearn: 0.8164557\ttest: 0.5384615\tbest: 0.5974026 (31)\ttotal: 68.6ms\tremaining: 174ms\n",
      "50:\tlearn: 0.8138801\ttest: 0.5384615\tbest: 0.5974026 (31)\ttotal: 69.9ms\tremaining: 173ms\n",
      "51:\tlearn: 0.8150470\ttest: 0.5384615\tbest: 0.5974026 (31)\ttotal: 71.1ms\tremaining: 171ms\n",
      "52:\tlearn: 0.8138801\ttest: 0.5384615\tbest: 0.5974026 (31)\ttotal: 72.2ms\tremaining: 169ms\n",
      "53:\tlearn: 0.8176101\ttest: 0.5128205\tbest: 0.5974026 (31)\ttotal: 73.5ms\tremaining: 167ms\n",
      "54:\tlearn: 0.8264984\ttest: 0.5384615\tbest: 0.5974026 (31)\ttotal: 74.8ms\tremaining: 166ms\n",
      "55:\tlearn: 0.8176101\ttest: 0.5384615\tbest: 0.5974026 (31)\ttotal: 76ms\tremaining: 164ms\n",
      "56:\tlearn: 0.8264984\ttest: 0.5384615\tbest: 0.5974026 (31)\ttotal: 77.3ms\tremaining: 163ms\n",
      "57:\tlearn: 0.8264984\ttest: 0.5384615\tbest: 0.5974026 (31)\ttotal: 78.6ms\tremaining: 161ms\n",
      "58:\tlearn: 0.8275862\ttest: 0.5569620\tbest: 0.5974026 (31)\ttotal: 80ms\tremaining: 160ms\n",
      "59:\tlearn: 0.8275862\ttest: 0.5384615\tbest: 0.5974026 (31)\ttotal: 81.9ms\tremaining: 160ms\n",
      "60:\tlearn: 0.8264984\ttest: 0.5384615\tbest: 0.5974026 (31)\ttotal: 83.2ms\tremaining: 158ms\n",
      "61:\tlearn: 0.8322981\ttest: 0.5263158\tbest: 0.5974026 (31)\ttotal: 84.3ms\tremaining: 156ms\n",
      "62:\tlearn: 0.8359133\ttest: 0.5194805\tbest: 0.5974026 (31)\ttotal: 85.6ms\tremaining: 155ms\n",
      "63:\tlearn: 0.8375000\ttest: 0.5194805\tbest: 0.5974026 (31)\ttotal: 86.8ms\tremaining: 153ms\n",
      "64:\tlearn: 0.8385093\ttest: 0.5384615\tbest: 0.5974026 (31)\ttotal: 88.3ms\tremaining: 152ms\n",
      "65:\tlearn: 0.8421053\ttest: 0.5316456\tbest: 0.5974026 (31)\ttotal: 90ms\tremaining: 151ms\n",
      "66:\tlearn: 0.8421053\ttest: 0.5316456\tbest: 0.5974026 (31)\ttotal: 91.9ms\tremaining: 151ms\n",
      "67:\tlearn: 0.8509317\ttest: 0.5384615\tbest: 0.5974026 (31)\ttotal: 93.5ms\tremaining: 150ms\n",
      "68:\tlearn: 0.8544892\ttest: 0.5384615\tbest: 0.5974026 (31)\ttotal: 94.9ms\tremaining: 149ms\n",
      "69:\tlearn: 0.8615385\ttest: 0.5569620\tbest: 0.5974026 (31)\ttotal: 97.4ms\tremaining: 149ms\n",
      "70:\tlearn: 0.8650307\ttest: 0.5569620\tbest: 0.5974026 (31)\ttotal: 99ms\tremaining: 148ms\n",
      "71:\tlearn: 0.8623853\ttest: 0.5569620\tbest: 0.5974026 (31)\ttotal: 100ms\tremaining: 146ms\n",
      "72:\tlearn: 0.8632219\ttest: 0.5641026\tbest: 0.5974026 (31)\ttotal: 102ms\tremaining: 145ms\n",
      "73:\tlearn: 0.8527607\ttest: 0.5500000\tbest: 0.5974026 (31)\ttotal: 103ms\tremaining: 143ms\n",
      "74:\tlearn: 0.8632219\ttest: 0.5641026\tbest: 0.5974026 (31)\ttotal: 104ms\tremaining: 142ms\n",
      "75:\tlearn: 0.8685015\ttest: 0.5454545\tbest: 0.5974026 (31)\ttotal: 105ms\tremaining: 140ms\n",
      "76:\tlearn: 0.8641975\ttest: 0.5384615\tbest: 0.5974026 (31)\ttotal: 107ms\tremaining: 138ms\n",
      "77:\tlearn: 0.8650307\ttest: 0.5194805\tbest: 0.5974026 (31)\ttotal: 108ms\tremaining: 137ms\n",
      "78:\tlearn: 0.8746177\ttest: 0.5454545\tbest: 0.5974026 (31)\ttotal: 109ms\tremaining: 135ms\n",
      "79:\tlearn: 0.8746177\ttest: 0.5316456\tbest: 0.5974026 (31)\ttotal: 110ms\tremaining: 134ms\n",
      "80:\tlearn: 0.8719512\ttest: 0.5316456\tbest: 0.5974026 (31)\ttotal: 112ms\tremaining: 132ms\n",
      "81:\tlearn: 0.8746177\ttest: 0.5250000\tbest: 0.5974026 (31)\ttotal: 113ms\tremaining: 131ms\n",
      "82:\tlearn: 0.8719512\ttest: 0.5121951\tbest: 0.5974026 (31)\ttotal: 114ms\tremaining: 129ms\n",
      "83:\tlearn: 0.8650307\ttest: 0.5185185\tbest: 0.5974026 (31)\ttotal: 116ms\tremaining: 129ms\n",
      "84:\tlearn: 0.8650307\ttest: 0.5121951\tbest: 0.5974026 (31)\ttotal: 118ms\tremaining: 127ms\n",
      "85:\tlearn: 0.8703704\ttest: 0.5185185\tbest: 0.5974026 (31)\ttotal: 119ms\tremaining: 126ms\n",
      "86:\tlearn: 0.8703704\ttest: 0.5121951\tbest: 0.5974026 (31)\ttotal: 123ms\tremaining: 127ms\n",
      "87:\tlearn: 0.8711656\ttest: 0.5316456\tbest: 0.5974026 (31)\ttotal: 125ms\tremaining: 127ms\n",
      "88:\tlearn: 0.8711656\ttest: 0.5250000\tbest: 0.5974026 (31)\ttotal: 128ms\tremaining: 127ms\n",
      "89:\tlearn: 0.8746177\ttest: 0.5185185\tbest: 0.5974026 (31)\ttotal: 131ms\tremaining: 127ms\n",
      "90:\tlearn: 0.8773006\ttest: 0.5185185\tbest: 0.5974026 (31)\ttotal: 134ms\tremaining: 126ms\n",
      "91:\tlearn: 0.8800000\ttest: 0.5185185\tbest: 0.5974026 (31)\ttotal: 135ms\tremaining: 125ms\n",
      "92:\tlearn: 0.8765432\ttest: 0.5250000\tbest: 0.5974026 (31)\ttotal: 137ms\tremaining: 124ms\n",
      "93:\tlearn: 0.8765432\ttest: 0.5185185\tbest: 0.5974026 (31)\ttotal: 138ms\tremaining: 122ms\n",
      "94:\tlearn: 0.8800000\ttest: 0.5250000\tbest: 0.5974026 (31)\ttotal: 139ms\tremaining: 120ms\n",
      "95:\tlearn: 0.8800000\ttest: 0.5250000\tbest: 0.5974026 (31)\ttotal: 141ms\tremaining: 119ms\n",
      "96:\tlearn: 0.8800000\ttest: 0.5250000\tbest: 0.5974026 (31)\ttotal: 142ms\tremaining: 117ms\n",
      "97:\tlearn: 0.8773006\ttest: 0.5250000\tbest: 0.5974026 (31)\ttotal: 143ms\tremaining: 115ms\n",
      "98:\tlearn: 0.8773006\ttest: 0.5250000\tbest: 0.5974026 (31)\ttotal: 145ms\tremaining: 114ms\n",
      "99:\tlearn: 0.8773006\ttest: 0.5316456\tbest: 0.5974026 (31)\ttotal: 148ms\tremaining: 114ms\n",
      "100:\tlearn: 0.8765432\ttest: 0.5185185\tbest: 0.5974026 (31)\ttotal: 150ms\tremaining: 113ms\n",
      "101:\tlearn: 0.8950617\ttest: 0.5185185\tbest: 0.5974026 (31)\ttotal: 153ms\tremaining: 112ms\n",
      "102:\tlearn: 0.8923077\ttest: 0.5121951\tbest: 0.5974026 (31)\ttotal: 155ms\tremaining: 111ms\n",
      "103:\tlearn: 0.8923077\ttest: 0.5185185\tbest: 0.5974026 (31)\ttotal: 156ms\tremaining: 110ms\n",
      "104:\tlearn: 0.8923077\ttest: 0.5432099\tbest: 0.5974026 (31)\ttotal: 158ms\tremaining: 108ms\n",
      "105:\tlearn: 0.8950617\ttest: 0.5432099\tbest: 0.5974026 (31)\ttotal: 159ms\tremaining: 106ms\n",
      "106:\tlearn: 0.8950617\ttest: 0.5365854\tbest: 0.5974026 (31)\ttotal: 160ms\tremaining: 105ms\n",
      "107:\tlearn: 0.8978328\ttest: 0.5301205\tbest: 0.5974026 (31)\ttotal: 162ms\tremaining: 103ms\n",
      "108:\tlearn: 0.9012346\ttest: 0.5301205\tbest: 0.5974026 (31)\ttotal: 163ms\tremaining: 102ms\n",
      "109:\tlearn: 0.9018405\ttest: 0.5365854\tbest: 0.5974026 (31)\ttotal: 164ms\tremaining: 99.9ms\n",
      "110:\tlearn: 0.9018405\ttest: 0.5365854\tbest: 0.5974026 (31)\ttotal: 165ms\tremaining: 98.4ms\n",
      "111:\tlearn: 0.9079755\ttest: 0.5500000\tbest: 0.5974026 (31)\ttotal: 167ms\tremaining: 96.8ms\n",
      "112:\tlearn: 0.9079755\ttest: 0.5500000\tbest: 0.5974026 (31)\ttotal: 168ms\tremaining: 95.2ms\n",
      "113:\tlearn: 0.9046154\ttest: 0.5500000\tbest: 0.5974026 (31)\ttotal: 169ms\tremaining: 93.7ms\n",
      "114:\tlearn: 0.9046154\ttest: 0.5365854\tbest: 0.5974026 (31)\ttotal: 171ms\tremaining: 92ms\n",
      "115:\tlearn: 0.8984615\ttest: 0.5365854\tbest: 0.5974026 (31)\ttotal: 173ms\tremaining: 90.9ms\n",
      "116:\tlearn: 0.8978328\ttest: 0.5365854\tbest: 0.5974026 (31)\ttotal: 175ms\tremaining: 89.7ms\n",
      "117:\tlearn: 0.8978328\ttest: 0.5365854\tbest: 0.5974026 (31)\ttotal: 177ms\tremaining: 88.5ms\n",
      "118:\tlearn: 0.8978328\ttest: 0.5542169\tbest: 0.5974026 (31)\ttotal: 179ms\tremaining: 87.1ms\n",
      "119:\tlearn: 0.9012346\ttest: 0.5365854\tbest: 0.5974026 (31)\ttotal: 182ms\tremaining: 86.4ms\n",
      "120:\tlearn: 0.8984615\ttest: 0.5609756\tbest: 0.5974026 (31)\ttotal: 184ms\tremaining: 85.3ms\n",
      "121:\tlearn: 0.9051988\ttest: 0.5609756\tbest: 0.5974026 (31)\ttotal: 186ms\tremaining: 83.8ms\n",
      "122:\tlearn: 0.9079755\ttest: 0.5609756\tbest: 0.5974026 (31)\ttotal: 187ms\tremaining: 82.1ms\n",
      "123:\tlearn: 0.9074074\ttest: 0.5714286\tbest: 0.5974026 (31)\ttotal: 188ms\tremaining: 80.5ms\n",
      "124:\tlearn: 0.9202454\ttest: 0.5542169\tbest: 0.5974026 (31)\ttotal: 190ms\tremaining: 78.9ms\n",
      "125:\tlearn: 0.9230769\ttest: 0.5542169\tbest: 0.5974026 (31)\ttotal: 191ms\tremaining: 77.3ms\n",
      "126:\tlearn: 0.9141104\ttest: 0.5365854\tbest: 0.5974026 (31)\ttotal: 192ms\tremaining: 75.6ms\n",
      "127:\tlearn: 0.9174312\ttest: 0.5476190\tbest: 0.5974026 (31)\ttotal: 194ms\tremaining: 74.1ms\n",
      "128:\tlearn: 0.9235474\ttest: 0.5301205\tbest: 0.5974026 (31)\ttotal: 195ms\tremaining: 72.5ms\n",
      "129:\tlearn: 0.9235474\ttest: 0.5301205\tbest: 0.5974026 (31)\ttotal: 197ms\tremaining: 71.1ms\n",
      "130:\tlearn: 0.9235474\ttest: 0.5365854\tbest: 0.5974026 (31)\ttotal: 198ms\tremaining: 69.5ms\n",
      "131:\tlearn: 0.9235474\ttest: 0.5365854\tbest: 0.5974026 (31)\ttotal: 199ms\tremaining: 67.9ms\n",
      "132:\tlearn: 0.9235474\ttest: 0.5365854\tbest: 0.5974026 (31)\ttotal: 201ms\tremaining: 66.5ms\n",
      "133:\tlearn: 0.9235474\ttest: 0.5365854\tbest: 0.5974026 (31)\ttotal: 203ms\tremaining: 65ms\n",
      "134:\tlearn: 0.9151515\ttest: 0.5542169\tbest: 0.5974026 (31)\ttotal: 204ms\tremaining: 63.5ms\n",
      "135:\tlearn: 0.9212121\ttest: 0.5365854\tbest: 0.5974026 (31)\ttotal: 206ms\tremaining: 62.2ms\n",
      "136:\tlearn: 0.9212121\ttest: 0.5365854\tbest: 0.5974026 (31)\ttotal: 208ms\tremaining: 60.8ms\n",
      "137:\tlearn: 0.9240122\ttest: 0.5365854\tbest: 0.5974026 (31)\ttotal: 210ms\tremaining: 59.5ms\n",
      "138:\tlearn: 0.9212121\ttest: 0.5176471\tbest: 0.5974026 (31)\ttotal: 213ms\tremaining: 58.2ms\n",
      "139:\tlearn: 0.9179331\ttest: 0.5365854\tbest: 0.5974026 (31)\ttotal: 215ms\tremaining: 56.9ms\n",
      "140:\tlearn: 0.9179331\ttest: 0.5238095\tbest: 0.5974026 (31)\ttotal: 217ms\tremaining: 55.5ms\n",
      "141:\tlearn: 0.9240122\ttest: 0.5365854\tbest: 0.5974026 (31)\ttotal: 219ms\tremaining: 53.9ms\n",
      "142:\tlearn: 0.9240122\ttest: 0.5365854\tbest: 0.5974026 (31)\ttotal: 220ms\tremaining: 52.3ms\n",
      "143:\tlearn: 0.9240122\ttest: 0.5365854\tbest: 0.5974026 (31)\ttotal: 221ms\tremaining: 50.7ms\n",
      "144:\tlearn: 0.9272727\ttest: 0.5542169\tbest: 0.5974026 (31)\ttotal: 223ms\tremaining: 49.1ms\n",
      "145:\tlearn: 0.9268293\ttest: 0.5476190\tbest: 0.5974026 (31)\ttotal: 224ms\tremaining: 47.5ms\n",
      "146:\tlearn: 0.9272727\ttest: 0.5476190\tbest: 0.5974026 (31)\ttotal: 225ms\tremaining: 46ms\n",
      "147:\tlearn: 0.9300912\ttest: 0.5476190\tbest: 0.5974026 (31)\ttotal: 227ms\tremaining: 44.4ms\n",
      "148:\tlearn: 0.9272727\ttest: 0.5714286\tbest: 0.5974026 (31)\ttotal: 228ms\tremaining: 42.9ms\n",
      "149:\tlearn: 0.9277108\ttest: 0.5542169\tbest: 0.5974026 (31)\ttotal: 230ms\tremaining: 41.5ms\n",
      "150:\tlearn: 0.9305136\ttest: 0.5542169\tbest: 0.5974026 (31)\ttotal: 232ms\tremaining: 40ms\n",
      "151:\tlearn: 0.9337349\ttest: 0.5542169\tbest: 0.5974026 (31)\ttotal: 235ms\tremaining: 38.6ms\n",
      "152:\tlearn: 0.9365559\ttest: 0.5542169\tbest: 0.5974026 (31)\ttotal: 237ms\tremaining: 37.2ms\n",
      "153:\tlearn: 0.9337349\ttest: 0.5542169\tbest: 0.5974026 (31)\ttotal: 240ms\tremaining: 35.9ms\n",
      "154:\tlearn: 0.9365559\ttest: 0.5476190\tbest: 0.5974026 (31)\ttotal: 241ms\tremaining: 34.3ms\n",
      "155:\tlearn: 0.9397590\ttest: 0.5476190\tbest: 0.5974026 (31)\ttotal: 243ms\tremaining: 32.7ms\n",
      "156:\tlearn: 0.9429429\ttest: 0.5476190\tbest: 0.5974026 (31)\ttotal: 244ms\tremaining: 31.1ms\n",
      "157:\tlearn: 0.9457831\ttest: 0.5476190\tbest: 0.5974026 (31)\ttotal: 246ms\tremaining: 29.5ms\n",
      "158:\tlearn: 0.9486405\ttest: 0.5476190\tbest: 0.5974026 (31)\ttotal: 247ms\tremaining: 28ms\n",
      "159:\tlearn: 0.9486405\ttest: 0.5542169\tbest: 0.5974026 (31)\ttotal: 249ms\tremaining: 26.4ms\n",
      "160:\tlearn: 0.9457831\ttest: 0.5542169\tbest: 0.5974026 (31)\ttotal: 250ms\tremaining: 24.8ms\n",
      "161:\tlearn: 0.9461078\ttest: 0.5542169\tbest: 0.5974026 (31)\ttotal: 251ms\tremaining: 23.3ms\n",
      "162:\tlearn: 0.9461078\ttest: 0.5542169\tbest: 0.5974026 (31)\ttotal: 252ms\tremaining: 21.7ms\n",
      "163:\tlearn: 0.9461078\ttest: 0.5542169\tbest: 0.5974026 (31)\ttotal: 254ms\tremaining: 20.1ms\n",
      "164:\tlearn: 0.9492537\ttest: 0.5542169\tbest: 0.5974026 (31)\ttotal: 255ms\tremaining: 18.6ms\n",
      "165:\tlearn: 0.9464286\ttest: 0.5542169\tbest: 0.5974026 (31)\ttotal: 257ms\tremaining: 17ms\n",
      "166:\tlearn: 0.9464286\ttest: 0.5542169\tbest: 0.5974026 (31)\ttotal: 259ms\tremaining: 15.5ms\n",
      "167:\tlearn: 0.9461078\ttest: 0.5647059\tbest: 0.5974026 (31)\ttotal: 261ms\tremaining: 14ms\n",
      "168:\tlearn: 0.9518072\ttest: 0.5581395\tbest: 0.5974026 (31)\ttotal: 262ms\tremaining: 12.4ms\n",
      "169:\tlearn: 0.9518072\ttest: 0.5581395\tbest: 0.5974026 (31)\ttotal: 264ms\tremaining: 10.9ms\n",
      "170:\tlearn: 0.9578313\ttest: 0.5581395\tbest: 0.5974026 (31)\ttotal: 266ms\tremaining: 9.35ms\n",
      "171:\tlearn: 0.9549550\ttest: 0.5581395\tbest: 0.5974026 (31)\ttotal: 269ms\tremaining: 7.81ms\n",
      "172:\tlearn: 0.9549550\ttest: 0.5581395\tbest: 0.5974026 (31)\ttotal: 270ms\tremaining: 6.25ms\n",
      "173:\tlearn: 0.9580838\ttest: 0.5581395\tbest: 0.5974026 (31)\ttotal: 272ms\tremaining: 4.69ms\n",
      "174:\tlearn: 0.9580838\ttest: 0.5581395\tbest: 0.5974026 (31)\ttotal: 273ms\tremaining: 3.12ms\n",
      "175:\tlearn: 0.9609610\ttest: 0.5909091\tbest: 0.5974026 (31)\ttotal: 275ms\tremaining: 1.56ms\n",
      "176:\tlearn: 0.9609610\ttest: 0.5977011\tbest: 0.5977011 (176)\ttotal: 276ms\tremaining: 0us\n",
      "\n",
      "bestTest = 0.5977011494\n",
      "bestIteration = 176\n",
      "\n",
      "Training on fold [2/5]\n",
      "0:\tlearn: 0.5503876\ttest: 0.3448276\tbest: 0.3448276 (0)\ttotal: 1.59ms\tremaining: 281ms\n",
      "1:\tlearn: 0.6490066\ttest: 0.5479452\tbest: 0.5479452 (1)\ttotal: 3.04ms\tremaining: 266ms\n",
      "2:\tlearn: 0.6442953\ttest: 0.5479452\tbest: 0.5479452 (1)\ttotal: 4.42ms\tremaining: 256ms\n",
      "3:\tlearn: 0.6418919\ttest: 0.5352113\tbest: 0.5479452 (1)\ttotal: 5.82ms\tremaining: 252ms\n",
      "4:\tlearn: 0.6510067\ttest: 0.5352113\tbest: 0.5479452 (1)\ttotal: 7.21ms\tremaining: 248ms\n",
      "5:\tlearn: 0.6574394\ttest: 0.5142857\tbest: 0.5479452 (1)\ttotal: 8.56ms\tremaining: 244ms\n",
      "6:\tlearn: 0.6755853\ttest: 0.5405405\tbest: 0.5479452 (1)\ttotal: 9.98ms\tremaining: 242ms\n",
      "7:\tlearn: 0.6802721\ttest: 0.4788732\tbest: 0.5479452 (1)\ttotal: 11.5ms\tremaining: 243ms\n",
      "8:\tlearn: 0.6910299\ttest: 0.5070423\tbest: 0.5479452 (1)\ttotal: 13ms\tremaining: 243ms\n",
      "9:\tlearn: 0.6907895\ttest: 0.5142857\tbest: 0.5479452 (1)\ttotal: 14.5ms\tremaining: 242ms\n",
      "10:\tlearn: 0.6872852\ttest: 0.5352113\tbest: 0.5479452 (1)\ttotal: 15.9ms\tremaining: 241ms\n",
      "11:\tlearn: 0.6996700\ttest: 0.5753425\tbest: 0.5753425 (11)\ttotal: 17.4ms\tremaining: 239ms\n",
      "12:\tlearn: 0.6889632\ttest: 0.5526316\tbest: 0.5753425 (11)\ttotal: 19ms\tremaining: 239ms\n",
      "13:\tlearn: 0.7105263\ttest: 0.5600000\tbest: 0.5753425 (11)\ttotal: 20.4ms\tremaining: 238ms\n",
      "14:\tlearn: 0.6956522\ttest: 0.5714286\tbest: 0.5753425 (11)\ttotal: 22ms\tremaining: 238ms\n",
      "15:\tlearn: 0.6933333\ttest: 0.5405405\tbest: 0.5753425 (11)\ttotal: 23.6ms\tremaining: 237ms\n",
      "16:\tlearn: 0.7128713\ttest: 0.5974026\tbest: 0.5974026 (16)\ttotal: 25.5ms\tremaining: 240ms\n",
      "17:\tlearn: 0.7254902\ttest: 0.5897436\tbest: 0.5974026 (16)\ttotal: 27.8ms\tremaining: 246ms\n",
      "18:\tlearn: 0.7326733\ttest: 0.5897436\tbest: 0.5974026 (16)\ttotal: 29.3ms\tremaining: 244ms\n",
      "19:\tlearn: 0.7368421\ttest: 0.5974026\tbest: 0.5974026 (16)\ttotal: 30.7ms\tremaining: 241ms\n",
      "20:\tlearn: 0.7392739\ttest: 0.6153846\tbest: 0.6153846 (20)\ttotal: 32ms\tremaining: 238ms\n",
      "21:\tlearn: 0.7434211\ttest: 0.5974026\tbest: 0.6153846 (20)\ttotal: 33.4ms\tremaining: 235ms\n",
      "22:\tlearn: 0.7597403\ttest: 0.6153846\tbest: 0.6153846 (20)\ttotal: 34.8ms\tremaining: 233ms\n",
      "23:\tlearn: 0.7532468\ttest: 0.6410256\tbest: 0.6410256 (23)\ttotal: 36.2ms\tremaining: 231ms\n",
      "24:\tlearn: 0.7628205\ttest: 0.6153846\tbest: 0.6410256 (23)\ttotal: 37.6ms\tremaining: 229ms\n",
      "25:\tlearn: 0.7667732\ttest: 0.6153846\tbest: 0.6410256 (23)\ttotal: 38.9ms\tremaining: 226ms\n",
      "26:\tlearn: 0.7628205\ttest: 0.6153846\tbest: 0.6410256 (23)\ttotal: 40.3ms\tremaining: 224ms\n",
      "27:\tlearn: 0.7770701\ttest: 0.6410256\tbest: 0.6410256 (23)\ttotal: 41.6ms\tremaining: 221ms\n",
      "28:\tlearn: 0.7667732\ttest: 0.6410256\tbest: 0.6410256 (23)\ttotal: 43ms\tremaining: 219ms\n",
      "29:\tlearn: 0.7731629\ttest: 0.6410256\tbest: 0.6410256 (23)\ttotal: 45.5ms\tremaining: 223ms\n",
      "30:\tlearn: 0.7731629\ttest: 0.6410256\tbest: 0.6410256 (23)\ttotal: 47.1ms\tremaining: 222ms\n",
      "31:\tlearn: 0.7746032\ttest: 0.6410256\tbest: 0.6410256 (23)\ttotal: 49ms\tremaining: 222ms\n",
      "32:\tlearn: 0.7848101\ttest: 0.6410256\tbest: 0.6410256 (23)\ttotal: 52ms\tremaining: 227ms\n",
      "33:\tlearn: 0.7848101\ttest: 0.6329114\tbest: 0.6410256 (23)\ttotal: 53.5ms\tremaining: 225ms\n",
      "34:\tlearn: 0.7859425\ttest: 0.6329114\tbest: 0.6410256 (23)\ttotal: 55.4ms\tremaining: 225ms\n",
      "35:\tlearn: 0.7756410\ttest: 0.6329114\tbest: 0.6410256 (23)\ttotal: 57.2ms\tremaining: 224ms\n",
      "36:\tlearn: 0.7795527\ttest: 0.6250000\tbest: 0.6410256 (23)\ttotal: 58.6ms\tremaining: 222ms\n",
      "37:\tlearn: 0.7834395\ttest: 0.6250000\tbest: 0.6410256 (23)\ttotal: 60ms\tremaining: 219ms\n",
      "38:\tlearn: 0.7923323\ttest: 0.6250000\tbest: 0.6410256 (23)\ttotal: 61.4ms\tremaining: 217ms\n",
      "39:\tlearn: 0.7948718\ttest: 0.6250000\tbest: 0.6410256 (23)\ttotal: 62.9ms\tremaining: 215ms\n",
      "40:\tlearn: 0.7948718\ttest: 0.6250000\tbest: 0.6410256 (23)\ttotal: 65.1ms\tremaining: 216ms\n",
      "41:\tlearn: 0.7974277\ttest: 0.6329114\tbest: 0.6410256 (23)\ttotal: 67.4ms\tremaining: 217ms\n",
      "42:\tlearn: 0.8051118\ttest: 0.6329114\tbest: 0.6410256 (23)\ttotal: 68.7ms\tremaining: 214ms\n",
      "43:\tlearn: 0.8000000\ttest: 0.6500000\tbest: 0.6500000 (43)\ttotal: 70.7ms\tremaining: 214ms\n",
      "44:\tlearn: 0.8000000\ttest: 0.6329114\tbest: 0.6500000 (43)\ttotal: 74.6ms\tremaining: 219ms\n",
      "45:\tlearn: 0.8113208\ttest: 0.6500000\tbest: 0.6500000 (43)\ttotal: 76.5ms\tremaining: 218ms\n",
      "46:\tlearn: 0.8075710\ttest: 0.6419753\tbest: 0.6500000 (43)\ttotal: 79ms\tremaining: 219ms\n",
      "47:\tlearn: 0.8113208\ttest: 0.6419753\tbest: 0.6500000 (43)\ttotal: 81.4ms\tremaining: 219ms\n",
      "48:\tlearn: 0.8138801\ttest: 0.6075949\tbest: 0.6500000 (43)\ttotal: 82.9ms\tremaining: 217ms\n",
      "49:\tlearn: 0.8176101\ttest: 0.6075949\tbest: 0.6500000 (43)\ttotal: 84.8ms\tremaining: 215ms\n",
      "50:\tlearn: 0.8150470\ttest: 0.6075949\tbest: 0.6500000 (43)\ttotal: 86.2ms\tremaining: 213ms\n",
      "51:\tlearn: 0.8176101\ttest: 0.6250000\tbest: 0.6500000 (43)\ttotal: 88.1ms\tremaining: 212ms\n",
      "52:\tlearn: 0.8213166\ttest: 0.6075949\tbest: 0.6500000 (43)\ttotal: 89.5ms\tremaining: 209ms\n",
      "53:\tlearn: 0.8213166\ttest: 0.6075949\tbest: 0.6500000 (43)\ttotal: 90.9ms\tremaining: 207ms\n",
      "54:\tlearn: 0.8201893\ttest: 0.6075949\tbest: 0.6500000 (43)\ttotal: 92.2ms\tremaining: 205ms\n",
      "55:\tlearn: 0.8227848\ttest: 0.5897436\tbest: 0.6500000 (43)\ttotal: 93.6ms\tremaining: 202ms\n",
      "56:\tlearn: 0.8338558\ttest: 0.5897436\tbest: 0.6500000 (43)\ttotal: 94.9ms\tremaining: 200ms\n",
      "57:\tlearn: 0.8364780\ttest: 0.5897436\tbest: 0.6500000 (43)\ttotal: 96.3ms\tremaining: 198ms\n",
      "58:\tlearn: 0.8391167\ttest: 0.5974026\tbest: 0.6500000 (43)\ttotal: 97.8ms\tremaining: 196ms\n",
      "59:\tlearn: 0.8391167\ttest: 0.5897436\tbest: 0.6500000 (43)\ttotal: 99ms\tremaining: 193ms\n",
      "60:\tlearn: 0.8391167\ttest: 0.6075949\tbest: 0.6500000 (43)\ttotal: 101ms\tremaining: 191ms\n",
      "61:\tlearn: 0.8380952\ttest: 0.6153846\tbest: 0.6500000 (43)\ttotal: 103ms\tremaining: 191ms\n",
      "62:\tlearn: 0.8417722\ttest: 0.6153846\tbest: 0.6500000 (43)\ttotal: 105ms\tremaining: 189ms\n",
      "63:\tlearn: 0.8417722\ttest: 0.6075949\tbest: 0.6500000 (43)\ttotal: 106ms\tremaining: 188ms\n",
      "64:\tlearn: 0.8417722\ttest: 0.6075949\tbest: 0.6500000 (43)\ttotal: 108ms\tremaining: 186ms\n",
      "65:\tlearn: 0.8354430\ttest: 0.6075949\tbest: 0.6500000 (43)\ttotal: 110ms\tremaining: 186ms\n",
      "66:\tlearn: 0.8391167\ttest: 0.6000000\tbest: 0.6500000 (43)\ttotal: 112ms\tremaining: 184ms\n",
      "67:\tlearn: 0.8437500\ttest: 0.5822785\tbest: 0.6500000 (43)\ttotal: 113ms\tremaining: 182ms\n",
      "68:\tlearn: 0.8473520\ttest: 0.5897436\tbest: 0.6500000 (43)\ttotal: 115ms\tremaining: 180ms\n",
      "69:\tlearn: 0.8500000\ttest: 0.5641026\tbest: 0.6500000 (43)\ttotal: 116ms\tremaining: 177ms\n",
      "70:\tlearn: 0.8427673\ttest: 0.5641026\tbest: 0.6500000 (43)\ttotal: 117ms\tremaining: 175ms\n",
      "71:\tlearn: 0.8463950\ttest: 0.5641026\tbest: 0.6500000 (43)\ttotal: 119ms\tremaining: 173ms\n",
      "72:\tlearn: 0.8490566\ttest: 0.5714286\tbest: 0.6500000 (43)\ttotal: 121ms\tremaining: 173ms\n",
      "73:\tlearn: 0.8490566\ttest: 0.5454545\tbest: 0.6500000 (43)\ttotal: 123ms\tremaining: 172ms\n",
      "74:\tlearn: 0.8490566\ttest: 0.5526316\tbest: 0.6500000 (43)\ttotal: 125ms\tremaining: 170ms\n",
      "75:\tlearn: 0.8444444\ttest: 0.5897436\tbest: 0.6500000 (43)\ttotal: 126ms\tremaining: 167ms\n",
      "76:\tlearn: 0.8616352\ttest: 0.5333333\tbest: 0.6500000 (43)\ttotal: 127ms\tremaining: 165ms\n",
      "77:\tlearn: 0.8652038\ttest: 0.5526316\tbest: 0.6500000 (43)\ttotal: 129ms\tremaining: 164ms\n",
      "78:\tlearn: 0.8695652\ttest: 0.5714286\tbest: 0.6500000 (43)\ttotal: 131ms\tremaining: 163ms\n",
      "79:\tlearn: 0.8679245\ttest: 0.5897436\tbest: 0.6500000 (43)\ttotal: 133ms\tremaining: 161ms\n",
      "80:\tlearn: 0.8706625\ttest: 0.5897436\tbest: 0.6500000 (43)\ttotal: 136ms\tremaining: 161ms\n",
      "81:\tlearn: 0.8706625\ttest: 0.5897436\tbest: 0.6500000 (43)\ttotal: 138ms\tremaining: 160ms\n",
      "82:\tlearn: 0.8616352\ttest: 0.5897436\tbest: 0.6500000 (43)\ttotal: 140ms\tremaining: 158ms\n",
      "83:\tlearn: 0.8670886\ttest: 0.5714286\tbest: 0.6500000 (43)\ttotal: 141ms\tremaining: 156ms\n",
      "84:\tlearn: 0.8742138\ttest: 0.5714286\tbest: 0.6500000 (43)\ttotal: 142ms\tremaining: 154ms\n",
      "85:\tlearn: 0.8616352\ttest: 0.5714286\tbest: 0.6500000 (43)\ttotal: 144ms\tremaining: 152ms\n",
      "86:\tlearn: 0.8643533\ttest: 0.5714286\tbest: 0.6500000 (43)\ttotal: 145ms\tremaining: 150ms\n",
      "87:\tlearn: 0.8643533\ttest: 0.5714286\tbest: 0.6500000 (43)\ttotal: 146ms\tremaining: 148ms\n",
      "88:\tlearn: 0.8643533\ttest: 0.5454545\tbest: 0.6500000 (43)\ttotal: 148ms\tremaining: 146ms\n",
      "89:\tlearn: 0.8785047\ttest: 0.5641026\tbest: 0.6500000 (43)\ttotal: 150ms\tremaining: 145ms\n",
      "90:\tlearn: 0.8750000\ttest: 0.5641026\tbest: 0.6500000 (43)\ttotal: 152ms\tremaining: 144ms\n",
      "91:\tlearn: 0.8847352\ttest: 0.5641026\tbest: 0.6500000 (43)\ttotal: 154ms\tremaining: 142ms\n",
      "92:\tlearn: 0.8847352\ttest: 0.5641026\tbest: 0.6500000 (43)\ttotal: 156ms\tremaining: 141ms\n",
      "93:\tlearn: 0.8881988\ttest: 0.5641026\tbest: 0.6500000 (43)\ttotal: 159ms\tremaining: 140ms\n",
      "94:\tlearn: 0.8819876\ttest: 0.5641026\tbest: 0.6500000 (43)\ttotal: 160ms\tremaining: 138ms\n",
      "95:\tlearn: 0.8847352\ttest: 0.5641026\tbest: 0.6500000 (43)\ttotal: 161ms\tremaining: 136ms\n",
      "96:\tlearn: 0.8847352\ttest: 0.5641026\tbest: 0.6500000 (43)\ttotal: 163ms\tremaining: 134ms\n",
      "97:\tlearn: 0.8875000\ttest: 0.5714286\tbest: 0.6500000 (43)\ttotal: 164ms\tremaining: 132ms\n",
      "98:\tlearn: 0.8909657\ttest: 0.5526316\tbest: 0.6500000 (43)\ttotal: 166ms\tremaining: 131ms\n",
      "99:\tlearn: 0.8881988\ttest: 0.5454545\tbest: 0.6500000 (43)\ttotal: 167ms\tremaining: 129ms\n",
      "100:\tlearn: 0.8909657\ttest: 0.5641026\tbest: 0.6500000 (43)\ttotal: 169ms\tremaining: 127ms\n",
      "101:\tlearn: 0.8944099\ttest: 0.5454545\tbest: 0.6500000 (43)\ttotal: 170ms\tremaining: 125ms\n",
      "102:\tlearn: 0.8875000\ttest: 0.5454545\tbest: 0.6500000 (43)\ttotal: 171ms\tremaining: 123ms\n",
      "103:\tlearn: 0.8875000\ttest: 0.5454545\tbest: 0.6500000 (43)\ttotal: 173ms\tremaining: 121ms\n",
      "104:\tlearn: 0.8847352\ttest: 0.5454545\tbest: 0.6500000 (43)\ttotal: 175ms\tremaining: 120ms\n",
      "105:\tlearn: 0.8812500\ttest: 0.5641026\tbest: 0.6500000 (43)\ttotal: 176ms\tremaining: 118ms\n",
      "106:\tlearn: 0.8847352\ttest: 0.5641026\tbest: 0.6500000 (43)\ttotal: 178ms\tremaining: 117ms\n",
      "107:\tlearn: 0.8847352\ttest: 0.5641026\tbest: 0.6500000 (43)\ttotal: 181ms\tremaining: 115ms\n",
      "108:\tlearn: 0.8909657\ttest: 0.5714286\tbest: 0.6500000 (43)\ttotal: 182ms\tremaining: 114ms\n",
      "109:\tlearn: 0.8909657\ttest: 0.5714286\tbest: 0.6500000 (43)\ttotal: 183ms\tremaining: 112ms\n",
      "110:\tlearn: 0.8881988\ttest: 0.5714286\tbest: 0.6500000 (43)\ttotal: 185ms\tremaining: 110ms\n",
      "111:\tlearn: 0.8881988\ttest: 0.5897436\tbest: 0.6500000 (43)\ttotal: 187ms\tremaining: 109ms\n",
      "112:\tlearn: 0.8909657\ttest: 0.5641026\tbest: 0.6500000 (43)\ttotal: 189ms\tremaining: 107ms\n",
      "113:\tlearn: 0.8978328\ttest: 0.5714286\tbest: 0.6500000 (43)\ttotal: 191ms\tremaining: 105ms\n",
      "114:\tlearn: 0.9006211\ttest: 0.5526316\tbest: 0.6500000 (43)\ttotal: 192ms\tremaining: 104ms\n",
      "115:\tlearn: 0.9040248\ttest: 0.5454545\tbest: 0.6500000 (43)\ttotal: 193ms\tremaining: 102ms\n",
      "116:\tlearn: 0.9034268\ttest: 0.5454545\tbest: 0.6500000 (43)\ttotal: 195ms\tremaining: 99.9ms\n",
      "117:\tlearn: 0.9090909\ttest: 0.5454545\tbest: 0.6500000 (43)\ttotal: 196ms\tremaining: 98.1ms\n",
      "118:\tlearn: 0.9096573\ttest: 0.5641026\tbest: 0.6500000 (43)\ttotal: 197ms\tremaining: 96.3ms\n",
      "119:\tlearn: 0.9096573\ttest: 0.5641026\tbest: 0.6500000 (43)\ttotal: 199ms\tremaining: 94.5ms\n",
      "120:\tlearn: 0.9164087\ttest: 0.5641026\tbest: 0.6500000 (43)\ttotal: 201ms\tremaining: 92.8ms\n",
      "121:\tlearn: 0.9164087\ttest: 0.5641026\tbest: 0.6500000 (43)\ttotal: 202ms\tremaining: 91.2ms\n",
      "122:\tlearn: 0.9164087\ttest: 0.5641026\tbest: 0.6500000 (43)\ttotal: 204ms\tremaining: 89.4ms\n",
      "123:\tlearn: 0.9197531\ttest: 0.5641026\tbest: 0.6500000 (43)\ttotal: 206ms\tremaining: 87.9ms\n",
      "124:\tlearn: 0.9197531\ttest: 0.5641026\tbest: 0.6500000 (43)\ttotal: 209ms\tremaining: 86.8ms\n",
      "125:\tlearn: 0.9192547\ttest: 0.5641026\tbest: 0.6500000 (43)\ttotal: 210ms\tremaining: 85ms\n",
      "126:\tlearn: 0.9192547\ttest: 0.5641026\tbest: 0.6500000 (43)\ttotal: 212ms\tremaining: 83.4ms\n",
      "127:\tlearn: 0.9192547\ttest: 0.5641026\tbest: 0.6500000 (43)\ttotal: 213ms\tremaining: 81.7ms\n",
      "128:\tlearn: 0.9226006\ttest: 0.5789474\tbest: 0.6500000 (43)\ttotal: 216ms\tremaining: 80.2ms\n",
      "129:\tlearn: 0.9226006\ttest: 0.5789474\tbest: 0.6500000 (43)\ttotal: 219ms\tremaining: 79.2ms\n",
      "130:\tlearn: 0.9226006\ttest: 0.5789474\tbest: 0.6500000 (43)\ttotal: 222ms\tremaining: 78ms\n",
      "131:\tlearn: 0.9226006\ttest: 0.5714286\tbest: 0.6500000 (43)\ttotal: 223ms\tremaining: 76.2ms\n",
      "132:\tlearn: 0.9259259\ttest: 0.5897436\tbest: 0.6500000 (43)\ttotal: 225ms\tremaining: 74.5ms\n",
      "133:\tlearn: 0.9292308\ttest: 0.5822785\tbest: 0.6500000 (43)\ttotal: 227ms\tremaining: 72.7ms\n",
      "134:\tlearn: 0.9292308\ttest: 0.5822785\tbest: 0.6500000 (43)\ttotal: 228ms\tremaining: 71ms\n",
      "135:\tlearn: 0.9292308\ttest: 0.6000000\tbest: 0.6500000 (43)\ttotal: 230ms\tremaining: 69.4ms\n",
      "136:\tlearn: 0.9292308\ttest: 0.6075949\tbest: 0.6500000 (43)\ttotal: 232ms\tremaining: 67.6ms\n",
      "137:\tlearn: 0.9292308\ttest: 0.6000000\tbest: 0.6500000 (43)\ttotal: 233ms\tremaining: 65.9ms\n",
      "138:\tlearn: 0.9292308\ttest: 0.5925926\tbest: 0.6500000 (43)\ttotal: 235ms\tremaining: 64.4ms\n",
      "139:\tlearn: 0.9292308\ttest: 0.5925926\tbest: 0.6500000 (43)\ttotal: 237ms\tremaining: 62.6ms\n",
      "140:\tlearn: 0.9292308\ttest: 0.5822785\tbest: 0.6500000 (43)\ttotal: 238ms\tremaining: 60.8ms\n",
      "141:\tlearn: 0.9292308\ttest: 0.5897436\tbest: 0.6500000 (43)\ttotal: 239ms\tremaining: 59ms\n",
      "142:\tlearn: 0.9292308\ttest: 0.5897436\tbest: 0.6500000 (43)\ttotal: 241ms\tremaining: 57.2ms\n",
      "143:\tlearn: 0.9292308\ttest: 0.5897436\tbest: 0.6500000 (43)\ttotal: 243ms\tremaining: 55.7ms\n",
      "144:\tlearn: 0.9292308\ttest: 0.5897436\tbest: 0.6500000 (43)\ttotal: 245ms\tremaining: 54.1ms\n",
      "145:\tlearn: 0.9292308\ttest: 0.5897436\tbest: 0.6500000 (43)\ttotal: 247ms\tremaining: 52.4ms\n",
      "146:\tlearn: 0.9292308\ttest: 0.5897436\tbest: 0.6500000 (43)\ttotal: 248ms\tremaining: 50.6ms\n",
      "147:\tlearn: 0.9292308\ttest: 0.5897436\tbest: 0.6500000 (43)\ttotal: 249ms\tremaining: 48.8ms\n",
      "148:\tlearn: 0.9292308\ttest: 0.6075949\tbest: 0.6500000 (43)\ttotal: 251ms\tremaining: 47.1ms\n",
      "149:\tlearn: 0.9292308\ttest: 0.5897436\tbest: 0.6500000 (43)\ttotal: 252ms\tremaining: 45.3ms\n",
      "150:\tlearn: 0.9292308\ttest: 0.5897436\tbest: 0.6500000 (43)\ttotal: 253ms\tremaining: 43.6ms\n",
      "151:\tlearn: 0.9325153\ttest: 0.5822785\tbest: 0.6500000 (43)\ttotal: 255ms\tremaining: 41.9ms\n",
      "152:\tlearn: 0.9325153\ttest: 0.5822785\tbest: 0.6500000 (43)\ttotal: 256ms\tremaining: 40.2ms\n",
      "153:\tlearn: 0.9353846\ttest: 0.5822785\tbest: 0.6500000 (43)\ttotal: 258ms\tremaining: 38.5ms\n",
      "154:\tlearn: 0.9382716\ttest: 0.5822785\tbest: 0.6500000 (43)\ttotal: 259ms\tremaining: 36.8ms\n",
      "155:\tlearn: 0.9382716\ttest: 0.5750000\tbest: 0.6500000 (43)\ttotal: 262ms\tremaining: 35.2ms\n",
      "156:\tlearn: 0.9382716\ttest: 0.5897436\tbest: 0.6500000 (43)\ttotal: 264ms\tremaining: 33.6ms\n",
      "157:\tlearn: 0.9415385\ttest: 0.5897436\tbest: 0.6500000 (43)\ttotal: 265ms\tremaining: 31.8ms\n",
      "158:\tlearn: 0.9415385\ttest: 0.5897436\tbest: 0.6500000 (43)\ttotal: 266ms\tremaining: 30.1ms\n",
      "159:\tlearn: 0.9415385\ttest: 0.5897436\tbest: 0.6500000 (43)\ttotal: 267ms\tremaining: 28.4ms\n",
      "160:\tlearn: 0.9415385\ttest: 0.5897436\tbest: 0.6500000 (43)\ttotal: 269ms\tremaining: 26.7ms\n",
      "161:\tlearn: 0.9415385\ttest: 0.5897436\tbest: 0.6500000 (43)\ttotal: 272ms\tremaining: 25.2ms\n",
      "162:\tlearn: 0.9480122\ttest: 0.5897436\tbest: 0.6500000 (43)\ttotal: 274ms\tremaining: 23.5ms\n",
      "163:\tlearn: 0.9480122\ttest: 0.5897436\tbest: 0.6500000 (43)\ttotal: 275ms\tremaining: 21.8ms\n",
      "164:\tlearn: 0.9509202\ttest: 0.5897436\tbest: 0.6500000 (43)\ttotal: 276ms\tremaining: 20.1ms\n",
      "165:\tlearn: 0.9509202\ttest: 0.5822785\tbest: 0.6500000 (43)\ttotal: 278ms\tremaining: 18.4ms\n",
      "166:\tlearn: 0.9509202\ttest: 0.5822785\tbest: 0.6500000 (43)\ttotal: 279ms\tremaining: 16.7ms\n",
      "167:\tlearn: 0.9573171\ttest: 0.6000000\tbest: 0.6500000 (43)\ttotal: 280ms\tremaining: 15ms\n",
      "168:\tlearn: 0.9604863\ttest: 0.5822785\tbest: 0.6500000 (43)\ttotal: 282ms\tremaining: 13.3ms\n",
      "169:\tlearn: 0.9541284\ttest: 0.5822785\tbest: 0.6500000 (43)\ttotal: 283ms\tremaining: 11.7ms\n",
      "170:\tlearn: 0.9602446\ttest: 0.5822785\tbest: 0.6500000 (43)\ttotal: 285ms\tremaining: 9.98ms\n",
      "171:\tlearn: 0.9602446\ttest: 0.5822785\tbest: 0.6500000 (43)\ttotal: 287ms\tremaining: 8.33ms\n",
      "172:\tlearn: 0.9570552\ttest: 0.5641026\tbest: 0.6500000 (43)\ttotal: 288ms\tremaining: 6.66ms\n",
      "173:\tlearn: 0.9570552\ttest: 0.5641026\tbest: 0.6500000 (43)\ttotal: 290ms\tremaining: 4.99ms\n",
      "174:\tlearn: 0.9634146\ttest: 0.5641026\tbest: 0.6500000 (43)\ttotal: 291ms\tremaining: 3.33ms\n",
      "175:\tlearn: 0.9634146\ttest: 0.5641026\tbest: 0.6500000 (43)\ttotal: 293ms\tremaining: 1.66ms\n",
      "176:\tlearn: 0.9634146\ttest: 0.5641026\tbest: 0.6500000 (43)\ttotal: 294ms\tremaining: 0us\n",
      "\n",
      "bestTest = 0.65\n",
      "bestIteration = 43\n",
      "\n",
      "Training on fold [3/5]\n",
      "0:\tlearn: 0.5080645\ttest: 0.4666667\tbest: 0.4666667 (0)\ttotal: 1.42ms\tremaining: 250ms\n",
      "1:\tlearn: 0.5080645\ttest: 0.4666667\tbest: 0.4666667 (0)\ttotal: 2.76ms\tremaining: 242ms\n",
      "2:\tlearn: 0.5080645\ttest: 0.4745763\tbest: 0.4745763 (2)\ttotal: 4.07ms\tremaining: 236ms\n",
      "3:\tlearn: 0.5080645\ttest: 0.4745763\tbest: 0.4745763 (2)\ttotal: 5.37ms\tremaining: 232ms\n",
      "4:\tlearn: 0.5490196\ttest: 0.5483871\tbest: 0.5483871 (4)\ttotal: 6.62ms\tremaining: 228ms\n",
      "5:\tlearn: 0.5660377\ttest: 0.5846154\tbest: 0.5846154 (5)\ttotal: 7.9ms\tremaining: 225ms\n",
      "6:\tlearn: 0.5869565\ttest: 0.6760563\tbest: 0.6760563 (6)\ttotal: 9.3ms\tremaining: 226ms\n",
      "7:\tlearn: 0.5971223\ttest: 0.7123288\tbest: 0.7123288 (7)\ttotal: 10.7ms\tremaining: 225ms\n",
      "8:\tlearn: 0.6192171\ttest: 0.7272727\tbest: 0.7272727 (8)\ttotal: 12.2ms\tremaining: 227ms\n",
      "9:\tlearn: 0.6064982\ttest: 0.7368421\tbest: 0.7368421 (9)\ttotal: 13.6ms\tremaining: 228ms\n",
      "10:\tlearn: 0.6281588\ttest: 0.7200000\tbest: 0.7368421 (9)\ttotal: 15.1ms\tremaining: 228ms\n",
      "11:\tlearn: 0.6379928\ttest: 0.7297297\tbest: 0.7368421 (9)\ttotal: 16.6ms\tremaining: 229ms\n",
      "12:\tlearn: 0.6620209\ttest: 0.7297297\tbest: 0.7368421 (9)\ttotal: 18.2ms\tremaining: 230ms\n",
      "13:\tlearn: 0.6549296\ttest: 0.7466667\tbest: 0.7466667 (13)\ttotal: 19.7ms\tremaining: 229ms\n",
      "14:\tlearn: 0.6620209\ttest: 0.7297297\tbest: 0.7466667 (13)\ttotal: 21.1ms\tremaining: 228ms\n",
      "15:\tlearn: 0.6938776\ttest: 0.7567568\tbest: 0.7567568 (15)\ttotal: 22.5ms\tremaining: 226ms\n",
      "16:\tlearn: 0.6804124\ttest: 0.7397260\tbest: 0.7567568 (15)\ttotal: 24ms\tremaining: 226ms\n",
      "17:\tlearn: 0.6824324\ttest: 0.7397260\tbest: 0.7567568 (15)\ttotal: 25.4ms\tremaining: 224ms\n",
      "18:\tlearn: 0.6938776\ttest: 0.7567568\tbest: 0.7567568 (15)\ttotal: 26.8ms\tremaining: 223ms\n",
      "19:\tlearn: 0.6938776\ttest: 0.7567568\tbest: 0.7567568 (15)\ttotal: 28.2ms\tremaining: 221ms\n",
      "20:\tlearn: 0.7006803\ttest: 0.7733333\tbest: 0.7733333 (20)\ttotal: 29.6ms\tremaining: 220ms\n",
      "21:\tlearn: 0.7123288\ttest: 0.7567568\tbest: 0.7733333 (20)\ttotal: 31ms\tremaining: 219ms\n",
      "22:\tlearn: 0.7103448\ttest: 0.7733333\tbest: 0.7733333 (20)\ttotal: 32.3ms\tremaining: 216ms\n",
      "23:\tlearn: 0.7147766\ttest: 0.7733333\tbest: 0.7733333 (20)\ttotal: 33.6ms\tremaining: 214ms\n",
      "24:\tlearn: 0.7229730\ttest: 0.7733333\tbest: 0.7733333 (20)\ttotal: 34.8ms\tremaining: 212ms\n",
      "25:\tlearn: 0.7098976\ttest: 0.7733333\tbest: 0.7733333 (20)\ttotal: 36.2ms\tremaining: 210ms\n",
      "26:\tlearn: 0.7210884\ttest: 0.7733333\tbest: 0.7733333 (20)\ttotal: 37.5ms\tremaining: 208ms\n",
      "27:\tlearn: 0.7297297\ttest: 0.7631579\tbest: 0.7733333 (20)\ttotal: 38.7ms\tremaining: 206ms\n",
      "28:\tlearn: 0.7407407\ttest: 0.7532468\tbest: 0.7733333 (20)\ttotal: 40.2ms\tremaining: 205ms\n",
      "29:\tlearn: 0.7474747\ttest: 0.7435897\tbest: 0.7733333 (20)\ttotal: 42.8ms\tremaining: 210ms\n",
      "30:\tlearn: 0.7414966\ttest: 0.7435897\tbest: 0.7733333 (20)\ttotal: 44.2ms\tremaining: 208ms\n",
      "31:\tlearn: 0.7457627\ttest: 0.7435897\tbest: 0.7733333 (20)\ttotal: 46.1ms\tremaining: 209ms\n",
      "32:\tlearn: 0.7457627\ttest: 0.7532468\tbest: 0.7733333 (20)\ttotal: 47.7ms\tremaining: 208ms\n",
      "33:\tlearn: 0.7457627\ttest: 0.7532468\tbest: 0.7733333 (20)\ttotal: 49.5ms\tremaining: 208ms\n",
      "34:\tlearn: 0.7567568\ttest: 0.7532468\tbest: 0.7733333 (20)\ttotal: 51.2ms\tremaining: 208ms\n",
      "35:\tlearn: 0.7635135\ttest: 0.7532468\tbest: 0.7733333 (20)\ttotal: 53.1ms\tremaining: 208ms\n",
      "36:\tlearn: 0.7759197\ttest: 0.7368421\tbest: 0.7733333 (20)\ttotal: 54.4ms\tremaining: 206ms\n",
      "37:\tlearn: 0.7733333\ttest: 0.7200000\tbest: 0.7733333 (20)\ttotal: 56ms\tremaining: 205ms\n",
      "38:\tlearn: 0.7748344\ttest: 0.7200000\tbest: 0.7733333 (20)\ttotal: 58.1ms\tremaining: 205ms\n",
      "39:\tlearn: 0.7868852\ttest: 0.7532468\tbest: 0.7733333 (20)\ttotal: 60.3ms\tremaining: 207ms\n",
      "40:\tlearn: 0.7894737\ttest: 0.7272727\tbest: 0.7733333 (20)\ttotal: 62ms\tremaining: 206ms\n",
      "41:\tlearn: 0.7934426\ttest: 0.7341772\tbest: 0.7733333 (20)\ttotal: 63.4ms\tremaining: 204ms\n",
      "42:\tlearn: 0.7843137\ttest: 0.7341772\tbest: 0.7733333 (20)\ttotal: 64.8ms\tremaining: 202ms\n",
      "43:\tlearn: 0.7803279\ttest: 0.7088608\tbest: 0.7733333 (20)\ttotal: 66.2ms\tremaining: 200ms\n",
      "44:\tlearn: 0.7870968\ttest: 0.7179487\tbest: 0.7733333 (20)\ttotal: 67.4ms\tremaining: 198ms\n",
      "45:\tlearn: 0.7948718\ttest: 0.7179487\tbest: 0.7733333 (20)\ttotal: 68.8ms\tremaining: 196ms\n",
      "46:\tlearn: 0.7987220\ttest: 0.7341772\tbest: 0.7733333 (20)\ttotal: 70.3ms\tremaining: 195ms\n",
      "47:\tlearn: 0.8012821\ttest: 0.7560976\tbest: 0.7733333 (20)\ttotal: 71.6ms\tremaining: 192ms\n",
      "48:\tlearn: 0.8089172\ttest: 0.7560976\tbest: 0.7733333 (20)\ttotal: 73ms\tremaining: 191ms\n",
      "49:\tlearn: 0.8190476\ttest: 0.7654321\tbest: 0.7733333 (20)\ttotal: 74.6ms\tremaining: 190ms\n",
      "50:\tlearn: 0.8164557\ttest: 0.7560976\tbest: 0.7733333 (20)\ttotal: 76.1ms\tremaining: 188ms\n",
      "51:\tlearn: 0.8138801\ttest: 0.7560976\tbest: 0.7733333 (20)\ttotal: 77.4ms\tremaining: 186ms\n",
      "52:\tlearn: 0.8164557\ttest: 0.7804878\tbest: 0.7804878 (52)\ttotal: 78.7ms\tremaining: 184ms\n",
      "53:\tlearn: 0.8164557\ttest: 0.7710843\tbest: 0.7804878 (52)\ttotal: 79.9ms\tremaining: 182ms\n",
      "54:\tlearn: 0.8101266\ttest: 0.7710843\tbest: 0.7804878 (52)\ttotal: 81.3ms\tremaining: 180ms\n",
      "55:\tlearn: 0.8164557\ttest: 0.7951807\tbest: 0.7951807 (55)\ttotal: 82.6ms\tremaining: 179ms\n",
      "56:\tlearn: 0.8190476\ttest: 0.7951807\tbest: 0.7951807 (55)\ttotal: 83.9ms\tremaining: 177ms\n",
      "57:\tlearn: 0.8138801\ttest: 0.7857143\tbest: 0.7951807 (55)\ttotal: 85.4ms\tremaining: 175ms\n",
      "58:\tlearn: 0.8176101\ttest: 0.7857143\tbest: 0.7951807 (55)\ttotal: 86.7ms\tremaining: 173ms\n",
      "59:\tlearn: 0.8312500\ttest: 0.7710843\tbest: 0.7951807 (55)\ttotal: 87.9ms\tremaining: 171ms\n",
      "60:\tlearn: 0.8375000\ttest: 0.7710843\tbest: 0.7951807 (55)\ttotal: 89.3ms\tremaining: 170ms\n",
      "61:\tlearn: 0.8348910\ttest: 0.7710843\tbest: 0.7951807 (55)\ttotal: 90.7ms\tremaining: 168ms\n",
      "62:\tlearn: 0.8301887\ttest: 0.7710843\tbest: 0.7951807 (55)\ttotal: 92ms\tremaining: 167ms\n",
      "63:\tlearn: 0.8312500\ttest: 0.7619048\tbest: 0.7951807 (55)\ttotal: 93.5ms\tremaining: 165ms\n",
      "64:\tlearn: 0.8411215\ttest: 0.7619048\tbest: 0.7951807 (55)\ttotal: 94.8ms\tremaining: 163ms\n",
      "65:\tlearn: 0.8301887\ttest: 0.7619048\tbest: 0.7951807 (55)\ttotal: 96.2ms\tremaining: 162ms\n",
      "66:\tlearn: 0.8338558\ttest: 0.7619048\tbest: 0.7951807 (55)\ttotal: 97.8ms\tremaining: 161ms\n",
      "67:\tlearn: 0.8421053\ttest: 0.7619048\tbest: 0.7951807 (55)\ttotal: 100ms\tremaining: 160ms\n",
      "68:\tlearn: 0.8447205\ttest: 0.7619048\tbest: 0.7951807 (55)\ttotal: 103ms\tremaining: 162ms\n",
      "69:\tlearn: 0.8411215\ttest: 0.7619048\tbest: 0.7951807 (55)\ttotal: 105ms\tremaining: 160ms\n",
      "70:\tlearn: 0.8447205\ttest: 0.7529412\tbest: 0.7951807 (55)\ttotal: 106ms\tremaining: 159ms\n",
      "71:\tlearn: 0.8482972\ttest: 0.7674419\tbest: 0.7951807 (55)\ttotal: 108ms\tremaining: 157ms\n",
      "72:\tlearn: 0.8482972\ttest: 0.7674419\tbest: 0.7951807 (55)\ttotal: 109ms\tremaining: 155ms\n",
      "73:\tlearn: 0.8527607\ttest: 0.7674419\tbest: 0.7951807 (55)\ttotal: 110ms\tremaining: 154ms\n",
      "74:\tlearn: 0.8482972\ttest: 0.7674419\tbest: 0.7951807 (55)\ttotal: 112ms\tremaining: 152ms\n",
      "75:\tlearn: 0.8580247\ttest: 0.7586207\tbest: 0.7951807 (55)\ttotal: 113ms\tremaining: 150ms\n",
      "76:\tlearn: 0.8580247\ttest: 0.7586207\tbest: 0.7951807 (55)\ttotal: 115ms\tremaining: 149ms\n",
      "77:\tlearn: 0.8606811\ttest: 0.7727273\tbest: 0.7951807 (55)\ttotal: 116ms\tremaining: 147ms\n",
      "78:\tlearn: 0.8606811\ttest: 0.7816092\tbest: 0.7951807 (55)\ttotal: 117ms\tremaining: 146ms\n",
      "79:\tlearn: 0.8606811\ttest: 0.7727273\tbest: 0.7951807 (55)\ttotal: 119ms\tremaining: 144ms\n",
      "80:\tlearn: 0.8615385\ttest: 0.7816092\tbest: 0.7951807 (55)\ttotal: 120ms\tremaining: 142ms\n",
      "81:\tlearn: 0.8641975\ttest: 0.7816092\tbest: 0.7951807 (55)\ttotal: 121ms\tremaining: 141ms\n",
      "82:\tlearn: 0.8641975\ttest: 0.7816092\tbest: 0.7951807 (55)\ttotal: 123ms\tremaining: 139ms\n",
      "83:\tlearn: 0.8641975\ttest: 0.7586207\tbest: 0.7951807 (55)\ttotal: 124ms\tremaining: 137ms\n",
      "84:\tlearn: 0.8668731\ttest: 0.7674419\tbest: 0.7951807 (55)\ttotal: 125ms\tremaining: 136ms\n",
      "85:\tlearn: 0.8730650\ttest: 0.7674419\tbest: 0.7951807 (55)\ttotal: 127ms\tremaining: 135ms\n",
      "86:\tlearn: 0.8730650\ttest: 0.7674419\tbest: 0.7951807 (55)\ttotal: 130ms\tremaining: 134ms\n",
      "87:\tlearn: 0.8757764\ttest: 0.7674419\tbest: 0.7951807 (55)\ttotal: 131ms\tremaining: 133ms\n",
      "88:\tlearn: 0.8757764\ttest: 0.7674419\tbest: 0.7951807 (55)\ttotal: 133ms\tremaining: 131ms\n",
      "89:\tlearn: 0.8757764\ttest: 0.7674419\tbest: 0.7951807 (55)\ttotal: 134ms\tremaining: 130ms\n",
      "90:\tlearn: 0.8757764\ttest: 0.7674419\tbest: 0.7951807 (55)\ttotal: 135ms\tremaining: 128ms\n",
      "91:\tlearn: 0.8695652\ttest: 0.7674419\tbest: 0.7951807 (55)\ttotal: 137ms\tremaining: 126ms\n",
      "92:\tlearn: 0.8687500\ttest: 0.7586207\tbest: 0.7951807 (55)\ttotal: 138ms\tremaining: 125ms\n",
      "93:\tlearn: 0.8687500\ttest: 0.7586207\tbest: 0.7951807 (55)\ttotal: 139ms\tremaining: 123ms\n",
      "94:\tlearn: 0.8722741\ttest: 0.7586207\tbest: 0.7951807 (55)\ttotal: 141ms\tremaining: 121ms\n",
      "95:\tlearn: 0.8757764\ttest: 0.7586207\tbest: 0.7951807 (55)\ttotal: 142ms\tremaining: 120ms\n",
      "96:\tlearn: 0.8757764\ttest: 0.7586207\tbest: 0.7951807 (55)\ttotal: 143ms\tremaining: 118ms\n",
      "97:\tlearn: 0.8785047\ttest: 0.7586207\tbest: 0.7951807 (55)\ttotal: 145ms\tremaining: 117ms\n",
      "98:\tlearn: 0.8881988\ttest: 0.7356322\tbest: 0.7951807 (55)\ttotal: 146ms\tremaining: 115ms\n",
      "99:\tlearn: 0.8812500\ttest: 0.7356322\tbest: 0.7951807 (55)\ttotal: 148ms\tremaining: 114ms\n",
      "100:\tlearn: 0.8847352\ttest: 0.7356322\tbest: 0.7951807 (55)\ttotal: 149ms\tremaining: 112ms\n",
      "101:\tlearn: 0.8847352\ttest: 0.7356322\tbest: 0.7951807 (55)\ttotal: 150ms\tremaining: 110ms\n",
      "102:\tlearn: 0.8847352\ttest: 0.7356322\tbest: 0.7951807 (55)\ttotal: 152ms\tremaining: 109ms\n",
      "103:\tlearn: 0.8847352\ttest: 0.7356322\tbest: 0.7951807 (55)\ttotal: 153ms\tremaining: 108ms\n",
      "104:\tlearn: 0.8944099\ttest: 0.7356322\tbest: 0.7951807 (55)\ttotal: 156ms\tremaining: 107ms\n",
      "105:\tlearn: 0.8944099\ttest: 0.7356322\tbest: 0.7951807 (55)\ttotal: 157ms\tremaining: 105ms\n",
      "106:\tlearn: 0.8944099\ttest: 0.7272727\tbest: 0.7951807 (55)\ttotal: 160ms\tremaining: 104ms\n",
      "107:\tlearn: 0.8916409\ttest: 0.7272727\tbest: 0.7951807 (55)\ttotal: 161ms\tremaining: 103ms\n",
      "108:\tlearn: 0.9024390\ttest: 0.7356322\tbest: 0.7951807 (55)\ttotal: 162ms\tremaining: 101ms\n",
      "109:\tlearn: 0.9085366\ttest: 0.7272727\tbest: 0.7951807 (55)\ttotal: 164ms\tremaining: 99.8ms\n",
      "110:\tlearn: 0.9051988\ttest: 0.7191011\tbest: 0.7951807 (55)\ttotal: 165ms\tremaining: 98.1ms\n",
      "111:\tlearn: 0.9118541\ttest: 0.7191011\tbest: 0.7951807 (55)\ttotal: 166ms\tremaining: 96.6ms\n",
      "112:\tlearn: 0.9123867\ttest: 0.7191011\tbest: 0.7951807 (55)\ttotal: 168ms\tremaining: 94.9ms\n",
      "113:\tlearn: 0.9123867\ttest: 0.7272727\tbest: 0.7951807 (55)\ttotal: 169ms\tremaining: 93.4ms\n",
      "114:\tlearn: 0.9063444\ttest: 0.7333333\tbest: 0.7951807 (55)\ttotal: 171ms\tremaining: 91.9ms\n",
      "115:\tlearn: 0.9063444\ttest: 0.7333333\tbest: 0.7951807 (55)\ttotal: 172ms\tremaining: 90.4ms\n",
      "116:\tlearn: 0.9123867\ttest: 0.7472527\tbest: 0.7951807 (55)\ttotal: 173ms\tremaining: 88.8ms\n",
      "117:\tlearn: 0.9156627\ttest: 0.7472527\tbest: 0.7951807 (55)\ttotal: 175ms\tremaining: 87.3ms\n",
      "118:\tlearn: 0.9156627\ttest: 0.7333333\tbest: 0.7951807 (55)\ttotal: 176ms\tremaining: 85.7ms\n",
      "119:\tlearn: 0.9156627\ttest: 0.7333333\tbest: 0.7951807 (55)\ttotal: 177ms\tremaining: 84.2ms\n",
      "120:\tlearn: 0.9096386\ttest: 0.7333333\tbest: 0.7951807 (55)\ttotal: 178ms\tremaining: 82.6ms\n",
      "121:\tlearn: 0.9036145\ttest: 0.7333333\tbest: 0.7951807 (55)\ttotal: 180ms\tremaining: 81.1ms\n",
      "122:\tlearn: 0.9063444\ttest: 0.7333333\tbest: 0.7951807 (55)\ttotal: 182ms\tremaining: 79.8ms\n",
      "123:\tlearn: 0.9063444\ttest: 0.7391304\tbest: 0.7951807 (55)\ttotal: 183ms\tremaining: 78.3ms\n",
      "124:\tlearn: 0.9063444\ttest: 0.7391304\tbest: 0.7951807 (55)\ttotal: 185ms\tremaining: 76.8ms\n",
      "125:\tlearn: 0.9063444\ttest: 0.7472527\tbest: 0.7951807 (55)\ttotal: 186ms\tremaining: 75.3ms\n",
      "126:\tlearn: 0.9090909\ttest: 0.7391304\tbest: 0.7951807 (55)\ttotal: 187ms\tremaining: 73.8ms\n",
      "127:\tlearn: 0.9090909\ttest: 0.7391304\tbest: 0.7951807 (55)\ttotal: 189ms\tremaining: 72.2ms\n",
      "128:\tlearn: 0.9090909\ttest: 0.7472527\tbest: 0.7951807 (55)\ttotal: 190ms\tremaining: 70.7ms\n",
      "129:\tlearn: 0.9123867\ttest: 0.7252747\tbest: 0.7951807 (55)\ttotal: 191ms\tremaining: 69.1ms\n",
      "130:\tlearn: 0.9156627\ttest: 0.7252747\tbest: 0.7951807 (55)\ttotal: 193ms\tremaining: 67.6ms\n",
      "131:\tlearn: 0.9189189\ttest: 0.7252747\tbest: 0.7951807 (55)\ttotal: 194ms\tremaining: 66.1ms\n",
      "132:\tlearn: 0.9189189\ttest: 0.7111111\tbest: 0.7951807 (55)\ttotal: 195ms\tremaining: 64.6ms\n",
      "133:\tlearn: 0.9189189\ttest: 0.7111111\tbest: 0.7951807 (55)\ttotal: 197ms\tremaining: 63.1ms\n",
      "134:\tlearn: 0.9189189\ttest: 0.7111111\tbest: 0.7951807 (55)\ttotal: 198ms\tremaining: 61.5ms\n",
      "135:\tlearn: 0.9216867\ttest: 0.7111111\tbest: 0.7951807 (55)\ttotal: 199ms\tremaining: 60.1ms\n",
      "136:\tlearn: 0.9249249\ttest: 0.7111111\tbest: 0.7951807 (55)\ttotal: 202ms\tremaining: 59.1ms\n",
      "137:\tlearn: 0.9313433\ttest: 0.7111111\tbest: 0.7951807 (55)\ttotal: 204ms\tremaining: 57.6ms\n",
      "138:\tlearn: 0.9285714\ttest: 0.7191011\tbest: 0.7951807 (55)\ttotal: 205ms\tremaining: 56.1ms\n",
      "139:\tlearn: 0.9285714\ttest: 0.7191011\tbest: 0.7951807 (55)\ttotal: 206ms\tremaining: 54.6ms\n",
      "140:\tlearn: 0.9285714\ttest: 0.7191011\tbest: 0.7951807 (55)\ttotal: 208ms\tremaining: 53.1ms\n",
      "141:\tlearn: 0.9285714\ttest: 0.7191011\tbest: 0.7951807 (55)\ttotal: 209ms\tremaining: 51.6ms\n",
      "142:\tlearn: 0.9285714\ttest: 0.7191011\tbest: 0.7951807 (55)\ttotal: 212ms\tremaining: 50.3ms\n",
      "143:\tlearn: 0.9317507\ttest: 0.7191011\tbest: 0.7951807 (55)\ttotal: 213ms\tremaining: 48.9ms\n",
      "144:\tlearn: 0.9317507\ttest: 0.7333333\tbest: 0.7951807 (55)\ttotal: 215ms\tremaining: 47.4ms\n",
      "145:\tlearn: 0.9345238\ttest: 0.7333333\tbest: 0.7951807 (55)\ttotal: 217ms\tremaining: 46ms\n",
      "146:\tlearn: 0.9373134\ttest: 0.7111111\tbest: 0.7951807 (55)\ttotal: 218ms\tremaining: 44.5ms\n",
      "147:\tlearn: 0.9404762\ttest: 0.7111111\tbest: 0.7951807 (55)\ttotal: 219ms\tremaining: 43ms\n",
      "148:\tlearn: 0.9373134\ttest: 0.7111111\tbest: 0.7951807 (55)\ttotal: 221ms\tremaining: 41.5ms\n",
      "149:\tlearn: 0.9436202\ttest: 0.7191011\tbest: 0.7951807 (55)\ttotal: 222ms\tremaining: 39.9ms\n",
      "150:\tlearn: 0.9436202\ttest: 0.7045455\tbest: 0.7951807 (55)\ttotal: 223ms\tremaining: 38.4ms\n",
      "151:\tlearn: 0.9436202\ttest: 0.7191011\tbest: 0.7951807 (55)\ttotal: 224ms\tremaining: 36.9ms\n",
      "152:\tlearn: 0.9464286\ttest: 0.7111111\tbest: 0.7951807 (55)\ttotal: 226ms\tremaining: 35.5ms\n",
      "153:\tlearn: 0.9464286\ttest: 0.7191011\tbest: 0.7951807 (55)\ttotal: 228ms\tremaining: 34ms\n",
      "154:\tlearn: 0.9436202\ttest: 0.7191011\tbest: 0.7951807 (55)\ttotal: 230ms\tremaining: 32.6ms\n",
      "155:\tlearn: 0.9432836\ttest: 0.7191011\tbest: 0.7951807 (55)\ttotal: 231ms\tremaining: 31.1ms\n",
      "156:\tlearn: 0.9436202\ttest: 0.7111111\tbest: 0.7951807 (55)\ttotal: 232ms\tremaining: 29.6ms\n",
      "157:\tlearn: 0.9495549\ttest: 0.7252747\tbest: 0.7951807 (55)\ttotal: 234ms\tremaining: 28.1ms\n",
      "158:\tlearn: 0.9495549\ttest: 0.7111111\tbest: 0.7951807 (55)\ttotal: 235ms\tremaining: 26.6ms\n",
      "159:\tlearn: 0.9495549\ttest: 0.7333333\tbest: 0.7951807 (55)\ttotal: 237ms\tremaining: 25.1ms\n",
      "160:\tlearn: 0.9557522\ttest: 0.7111111\tbest: 0.7951807 (55)\ttotal: 238ms\tremaining: 23.6ms\n",
      "161:\tlearn: 0.9526627\ttest: 0.7173913\tbest: 0.7951807 (55)\ttotal: 240ms\tremaining: 22.2ms\n",
      "162:\tlearn: 0.9529412\ttest: 0.7173913\tbest: 0.7951807 (55)\ttotal: 242ms\tremaining: 20.8ms\n",
      "163:\tlearn: 0.9560117\ttest: 0.7173913\tbest: 0.7951807 (55)\ttotal: 243ms\tremaining: 19.3ms\n",
      "164:\tlearn: 0.9560117\ttest: 0.7173913\tbest: 0.7951807 (55)\ttotal: 244ms\tremaining: 17.8ms\n",
      "165:\tlearn: 0.9560117\ttest: 0.7173913\tbest: 0.7951807 (55)\ttotal: 246ms\tremaining: 16.3ms\n",
      "166:\tlearn: 0.9560117\ttest: 0.7252747\tbest: 0.7951807 (55)\ttotal: 247ms\tremaining: 14.8ms\n",
      "167:\tlearn: 0.9560117\ttest: 0.7252747\tbest: 0.7951807 (55)\ttotal: 248ms\tremaining: 13.3ms\n",
      "168:\tlearn: 0.9618768\ttest: 0.7173913\tbest: 0.7951807 (55)\ttotal: 250ms\tremaining: 11.8ms\n",
      "169:\tlearn: 0.9588235\ttest: 0.7333333\tbest: 0.7951807 (55)\ttotal: 251ms\tremaining: 10.3ms\n",
      "170:\tlearn: 0.9588235\ttest: 0.7333333\tbest: 0.7951807 (55)\ttotal: 252ms\tremaining: 8.85ms\n",
      "171:\tlearn: 0.9588235\ttest: 0.7333333\tbest: 0.7951807 (55)\ttotal: 254ms\tremaining: 7.38ms\n",
      "172:\tlearn: 0.9618768\ttest: 0.7333333\tbest: 0.7951807 (55)\ttotal: 255ms\tremaining: 5.9ms\n",
      "173:\tlearn: 0.9649123\ttest: 0.7252747\tbest: 0.7951807 (55)\ttotal: 256ms\tremaining: 4.42ms\n",
      "174:\tlearn: 0.9649123\ttest: 0.7252747\tbest: 0.7951807 (55)\ttotal: 258ms\tremaining: 2.94ms\n",
      "175:\tlearn: 0.9649123\ttest: 0.7191011\tbest: 0.7951807 (55)\ttotal: 259ms\tremaining: 1.47ms\n",
      "176:\tlearn: 0.9649123\ttest: 0.7191011\tbest: 0.7951807 (55)\ttotal: 260ms\tremaining: 0us\n",
      "\n",
      "bestTest = 0.7951807229\n",
      "bestIteration = 55\n",
      "\n",
      "Training on fold [4/5]\n",
      "0:\tlearn: 0.6445183\ttest: 0.5882353\tbest: 0.5882353 (0)\ttotal: 1.44ms\tremaining: 254ms\n",
      "1:\tlearn: 0.6245614\ttest: 0.5833333\tbest: 0.5882353 (0)\ttotal: 2.73ms\tremaining: 239ms\n",
      "2:\tlearn: 0.6666667\ttest: 0.5882353\tbest: 0.5882353 (0)\ttotal: 3.97ms\tremaining: 230ms\n",
      "3:\tlearn: 0.6440678\ttest: 0.5866667\tbest: 0.5882353 (0)\ttotal: 5.17ms\tremaining: 224ms\n",
      "4:\tlearn: 0.6666667\ttest: 0.5783133\tbest: 0.5882353 (0)\ttotal: 6.49ms\tremaining: 223ms\n",
      "5:\tlearn: 0.6462585\ttest: 0.5866667\tbest: 0.5882353 (0)\ttotal: 7.7ms\tremaining: 220ms\n",
      "6:\tlearn: 0.6319444\ttest: 0.6111111\tbest: 0.6111111 (6)\ttotal: 9.03ms\tremaining: 219ms\n",
      "7:\tlearn: 0.6319444\ttest: 0.6111111\tbest: 0.6111111 (6)\ttotal: 10.4ms\tremaining: 219ms\n",
      "8:\tlearn: 0.6644295\ttest: 0.6111111\tbest: 0.6111111 (6)\ttotal: 11.7ms\tremaining: 218ms\n",
      "9:\tlearn: 0.6644068\ttest: 0.6111111\tbest: 0.6111111 (6)\ttotal: 13.1ms\tremaining: 219ms\n",
      "10:\tlearn: 0.6711864\ttest: 0.6301370\tbest: 0.6301370 (10)\ttotal: 14.6ms\tremaining: 221ms\n",
      "11:\tlearn: 0.6866667\ttest: 0.6400000\tbest: 0.6400000 (11)\ttotal: 16ms\tremaining: 219ms\n",
      "12:\tlearn: 0.6953642\ttest: 0.6578947\tbest: 0.6578947 (12)\ttotal: 17.4ms\tremaining: 219ms\n",
      "13:\tlearn: 0.6996700\ttest: 0.6410256\tbest: 0.6578947 (12)\ttotal: 18.6ms\tremaining: 217ms\n",
      "14:\tlearn: 0.7058824\ttest: 0.6233766\tbest: 0.6578947 (12)\ttotal: 20.1ms\tremaining: 217ms\n",
      "15:\tlearn: 0.7081967\ttest: 0.6233766\tbest: 0.6578947 (12)\ttotal: 21.4ms\tremaining: 215ms\n",
      "16:\tlearn: 0.7152318\ttest: 0.6233766\tbest: 0.6578947 (12)\ttotal: 22.8ms\tremaining: 214ms\n",
      "17:\tlearn: 0.7302632\ttest: 0.6493506\tbest: 0.6578947 (12)\ttotal: 24ms\tremaining: 212ms\n",
      "18:\tlearn: 0.7344262\ttest: 0.6493506\tbest: 0.6578947 (12)\ttotal: 25.3ms\tremaining: 210ms\n",
      "19:\tlearn: 0.7302632\ttest: 0.6410256\tbest: 0.6578947 (12)\ttotal: 26.6ms\tremaining: 209ms\n",
      "20:\tlearn: 0.7350993\ttest: 0.6582278\tbest: 0.6582278 (20)\ttotal: 27.9ms\tremaining: 207ms\n",
      "21:\tlearn: 0.7385621\ttest: 0.6582278\tbest: 0.6582278 (20)\ttotal: 29.2ms\tremaining: 206ms\n",
      "22:\tlearn: 0.7467532\ttest: 0.6410256\tbest: 0.6582278 (20)\ttotal: 30.5ms\tremaining: 205ms\n",
      "23:\tlearn: 0.7516340\ttest: 0.6410256\tbest: 0.6582278 (20)\ttotal: 31.9ms\tremaining: 203ms\n",
      "24:\tlearn: 0.7491857\ttest: 0.6493506\tbest: 0.6582278 (20)\ttotal: 33.1ms\tremaining: 201ms\n",
      "25:\tlearn: 0.7532468\ttest: 0.6410256\tbest: 0.6582278 (20)\ttotal: 34.5ms\tremaining: 200ms\n",
      "26:\tlearn: 0.7532468\ttest: 0.6410256\tbest: 0.6582278 (20)\ttotal: 35.9ms\tremaining: 199ms\n",
      "27:\tlearn: 0.7572816\ttest: 0.6500000\tbest: 0.6582278 (20)\ttotal: 37.1ms\tremaining: 198ms\n",
      "28:\tlearn: 0.7628205\ttest: 0.6500000\tbest: 0.6582278 (20)\ttotal: 38.5ms\tremaining: 196ms\n",
      "29:\tlearn: 0.7707006\ttest: 0.6500000\tbest: 0.6582278 (20)\ttotal: 39.7ms\tremaining: 195ms\n",
      "30:\tlearn: 0.7909968\ttest: 0.6172840\tbest: 0.6582278 (20)\ttotal: 41.1ms\tremaining: 193ms\n",
      "31:\tlearn: 0.7717042\ttest: 0.6172840\tbest: 0.6582278 (20)\ttotal: 42.9ms\tremaining: 194ms\n",
      "32:\tlearn: 0.7746032\ttest: 0.6341463\tbest: 0.6582278 (20)\ttotal: 45ms\tremaining: 197ms\n",
      "33:\tlearn: 0.7760252\ttest: 0.6419753\tbest: 0.6582278 (20)\ttotal: 46.7ms\tremaining: 196ms\n",
      "34:\tlearn: 0.7936508\ttest: 0.6075949\tbest: 0.6582278 (20)\ttotal: 48ms\tremaining: 195ms\n",
      "35:\tlearn: 0.7936508\ttest: 0.6250000\tbest: 0.6582278 (20)\ttotal: 49.3ms\tremaining: 193ms\n",
      "36:\tlearn: 0.7949527\ttest: 0.6075949\tbest: 0.6582278 (20)\ttotal: 50.7ms\tremaining: 192ms\n",
      "37:\tlearn: 0.8138801\ttest: 0.6419753\tbest: 0.6582278 (20)\ttotal: 51.9ms\tremaining: 190ms\n",
      "38:\tlearn: 0.8125000\ttest: 0.6419753\tbest: 0.6582278 (20)\ttotal: 53.3ms\tremaining: 188ms\n",
      "39:\tlearn: 0.8150470\ttest: 0.6419753\tbest: 0.6582278 (20)\ttotal: 54.7ms\tremaining: 187ms\n",
      "40:\tlearn: 0.8150470\ttest: 0.6506024\tbest: 0.6582278 (20)\ttotal: 56ms\tremaining: 186ms\n",
      "41:\tlearn: 0.8238994\ttest: 0.6585366\tbest: 0.6585366 (41)\ttotal: 57.2ms\tremaining: 184ms\n",
      "42:\tlearn: 0.8264984\ttest: 0.6585366\tbest: 0.6585366 (41)\ttotal: 58.7ms\tremaining: 183ms\n",
      "43:\tlearn: 0.8264984\ttest: 0.6419753\tbest: 0.6585366 (41)\ttotal: 60.1ms\tremaining: 182ms\n",
      "44:\tlearn: 0.8291139\ttest: 0.6585366\tbest: 0.6585366 (41)\ttotal: 61.4ms\tremaining: 180ms\n",
      "45:\tlearn: 0.8301887\ttest: 0.6666667\tbest: 0.6666667 (45)\ttotal: 62.5ms\tremaining: 178ms\n",
      "46:\tlearn: 0.8301887\ttest: 0.6585366\tbest: 0.6666667 (45)\ttotal: 63.7ms\tremaining: 176ms\n",
      "47:\tlearn: 0.8375000\ttest: 0.6746988\tbest: 0.6746988 (47)\ttotal: 65ms\tremaining: 175ms\n",
      "48:\tlearn: 0.8375000\ttest: 0.6419753\tbest: 0.6746988 (47)\ttotal: 66.3ms\tremaining: 173ms\n",
      "49:\tlearn: 0.8437500\ttest: 0.6419753\tbest: 0.6746988 (47)\ttotal: 67.6ms\tremaining: 172ms\n",
      "50:\tlearn: 0.8437500\ttest: 0.6419753\tbest: 0.6746988 (47)\ttotal: 69ms\tremaining: 170ms\n",
      "51:\tlearn: 0.8482972\ttest: 0.6341463\tbest: 0.6746988 (47)\ttotal: 71ms\tremaining: 171ms\n",
      "52:\tlearn: 0.8518519\ttest: 0.6265060\tbest: 0.6746988 (47)\ttotal: 73.3ms\tremaining: 172ms\n",
      "53:\tlearn: 0.8509317\ttest: 0.6190476\tbest: 0.6746988 (47)\ttotal: 75.2ms\tremaining: 171ms\n",
      "54:\tlearn: 0.8509317\ttest: 0.6097561\tbest: 0.6746988 (47)\ttotal: 76.5ms\tremaining: 170ms\n",
      "55:\tlearn: 0.8518519\ttest: 0.6172840\tbest: 0.6746988 (47)\ttotal: 77.7ms\tremaining: 168ms\n",
      "56:\tlearn: 0.8544892\ttest: 0.6265060\tbest: 0.6746988 (47)\ttotal: 79ms\tremaining: 166ms\n",
      "57:\tlearn: 0.8580247\ttest: 0.5925926\tbest: 0.6746988 (47)\ttotal: 80.3ms\tremaining: 165ms\n",
      "58:\tlearn: 0.8606811\ttest: 0.5925926\tbest: 0.6746988 (47)\ttotal: 81.9ms\tremaining: 164ms\n",
      "59:\tlearn: 0.8641975\ttest: 0.6265060\tbest: 0.6746988 (47)\ttotal: 83.2ms\tremaining: 162ms\n",
      "60:\tlearn: 0.8641975\ttest: 0.6265060\tbest: 0.6746988 (47)\ttotal: 84.6ms\tremaining: 161ms\n",
      "61:\tlearn: 0.8606811\ttest: 0.6172840\tbest: 0.6746988 (47)\ttotal: 86.3ms\tremaining: 160ms\n",
      "62:\tlearn: 0.8668731\ttest: 0.6172840\tbest: 0.6746988 (47)\ttotal: 88.2ms\tremaining: 160ms\n",
      "63:\tlearn: 0.8668731\ttest: 0.6097561\tbest: 0.6746988 (47)\ttotal: 89.7ms\tremaining: 158ms\n",
      "64:\tlearn: 0.8580247\ttest: 0.6265060\tbest: 0.6746988 (47)\ttotal: 91.3ms\tremaining: 157ms\n",
      "65:\tlearn: 0.8641975\ttest: 0.6428571\tbest: 0.6746988 (47)\ttotal: 92.7ms\tremaining: 156ms\n",
      "66:\tlearn: 0.8746177\ttest: 0.6428571\tbest: 0.6746988 (47)\ttotal: 94.3ms\tremaining: 155ms\n",
      "67:\tlearn: 0.8676923\ttest: 0.6352941\tbest: 0.6746988 (47)\ttotal: 96.9ms\tremaining: 155ms\n",
      "68:\tlearn: 0.8650307\ttest: 0.6588235\tbest: 0.6746988 (47)\ttotal: 99.5ms\tremaining: 156ms\n",
      "69:\tlearn: 0.8641975\ttest: 0.6511628\tbest: 0.6746988 (47)\ttotal: 102ms\tremaining: 156ms\n",
      "70:\tlearn: 0.8676923\ttest: 0.6511628\tbest: 0.6746988 (47)\ttotal: 105ms\tremaining: 157ms\n",
      "71:\tlearn: 0.8676923\ttest: 0.6511628\tbest: 0.6746988 (47)\ttotal: 106ms\tremaining: 155ms\n",
      "72:\tlearn: 0.8685015\ttest: 0.6585366\tbest: 0.6746988 (47)\ttotal: 108ms\tremaining: 153ms\n",
      "73:\tlearn: 0.8685015\ttest: 0.6585366\tbest: 0.6746988 (47)\ttotal: 109ms\tremaining: 151ms\n",
      "74:\tlearn: 0.8738462\ttest: 0.6585366\tbest: 0.6746988 (47)\ttotal: 110ms\tremaining: 150ms\n",
      "75:\tlearn: 0.8807339\ttest: 0.6585366\tbest: 0.6746988 (47)\ttotal: 112ms\tremaining: 148ms\n",
      "76:\tlearn: 0.8773006\ttest: 0.6585366\tbest: 0.6746988 (47)\ttotal: 113ms\tremaining: 147ms\n",
      "77:\tlearn: 0.8711656\ttest: 0.6341463\tbest: 0.6746988 (47)\ttotal: 114ms\tremaining: 145ms\n",
      "78:\tlearn: 0.8711656\ttest: 0.6506024\tbest: 0.6746988 (47)\ttotal: 115ms\tremaining: 143ms\n",
      "79:\tlearn: 0.8773006\ttest: 0.6506024\tbest: 0.6746988 (47)\ttotal: 117ms\tremaining: 141ms\n",
      "80:\tlearn: 0.8773006\ttest: 0.6506024\tbest: 0.6746988 (47)\ttotal: 118ms\tremaining: 140ms\n",
      "81:\tlearn: 0.8807339\ttest: 0.6666667\tbest: 0.6746988 (47)\ttotal: 119ms\tremaining: 138ms\n",
      "82:\tlearn: 0.8807339\ttest: 0.6666667\tbest: 0.6746988 (47)\ttotal: 120ms\tremaining: 136ms\n",
      "83:\tlearn: 0.8807339\ttest: 0.6666667\tbest: 0.6746988 (47)\ttotal: 122ms\tremaining: 135ms\n",
      "84:\tlearn: 0.8807339\ttest: 0.6666667\tbest: 0.6746988 (47)\ttotal: 123ms\tremaining: 133ms\n",
      "85:\tlearn: 0.8807339\ttest: 0.6666667\tbest: 0.6746988 (47)\ttotal: 125ms\tremaining: 132ms\n",
      "86:\tlearn: 0.8807339\ttest: 0.6666667\tbest: 0.6746988 (47)\ttotal: 126ms\tremaining: 130ms\n",
      "87:\tlearn: 0.8807339\ttest: 0.6666667\tbest: 0.6746988 (47)\ttotal: 129ms\tremaining: 130ms\n",
      "88:\tlearn: 0.8814590\ttest: 0.6588235\tbest: 0.6746988 (47)\ttotal: 130ms\tremaining: 129ms\n",
      "89:\tlearn: 0.8787879\ttest: 0.6588235\tbest: 0.6746988 (47)\ttotal: 132ms\tremaining: 128ms\n",
      "90:\tlearn: 0.8814590\ttest: 0.6588235\tbest: 0.6746988 (47)\ttotal: 134ms\tremaining: 127ms\n",
      "91:\tlearn: 0.8814590\ttest: 0.6588235\tbest: 0.6746988 (47)\ttotal: 136ms\tremaining: 125ms\n",
      "92:\tlearn: 0.8848485\ttest: 0.6588235\tbest: 0.6746988 (47)\ttotal: 137ms\tremaining: 124ms\n",
      "93:\tlearn: 0.8841463\ttest: 0.6588235\tbest: 0.6746988 (47)\ttotal: 138ms\tremaining: 122ms\n",
      "94:\tlearn: 0.8841463\ttest: 0.6588235\tbest: 0.6746988 (47)\ttotal: 140ms\tremaining: 120ms\n",
      "95:\tlearn: 0.8909091\ttest: 0.6588235\tbest: 0.6746988 (47)\ttotal: 141ms\tremaining: 119ms\n",
      "96:\tlearn: 0.8909091\ttest: 0.6588235\tbest: 0.6746988 (47)\ttotal: 143ms\tremaining: 118ms\n",
      "97:\tlearn: 0.8942598\ttest: 0.6588235\tbest: 0.6746988 (47)\ttotal: 144ms\tremaining: 116ms\n",
      "98:\tlearn: 0.8969697\ttest: 0.6588235\tbest: 0.6746988 (47)\ttotal: 145ms\tremaining: 115ms\n",
      "99:\tlearn: 0.8882175\ttest: 0.6588235\tbest: 0.6746988 (47)\ttotal: 147ms\tremaining: 113ms\n",
      "100:\tlearn: 0.8942598\ttest: 0.6511628\tbest: 0.6746988 (47)\ttotal: 148ms\tremaining: 111ms\n",
      "101:\tlearn: 0.8942598\ttest: 0.6511628\tbest: 0.6746988 (47)\ttotal: 149ms\tremaining: 110ms\n",
      "102:\tlearn: 0.8942598\ttest: 0.6511628\tbest: 0.6746988 (47)\ttotal: 151ms\tremaining: 108ms\n",
      "103:\tlearn: 0.8942598\ttest: 0.6511628\tbest: 0.6746988 (47)\ttotal: 152ms\tremaining: 107ms\n",
      "104:\tlearn: 0.8969697\ttest: 0.6511628\tbest: 0.6746988 (47)\ttotal: 154ms\tremaining: 105ms\n",
      "105:\tlearn: 0.8942598\ttest: 0.6588235\tbest: 0.6746988 (47)\ttotal: 156ms\tremaining: 105ms\n",
      "106:\tlearn: 0.9003021\ttest: 0.6588235\tbest: 0.6746988 (47)\ttotal: 158ms\tremaining: 103ms\n",
      "107:\tlearn: 0.8963415\ttest: 0.6511628\tbest: 0.6746988 (47)\ttotal: 159ms\tremaining: 102ms\n",
      "108:\tlearn: 0.8963415\ttest: 0.6024096\tbest: 0.6746988 (47)\ttotal: 161ms\tremaining: 100ms\n",
      "109:\tlearn: 0.9063444\ttest: 0.6024096\tbest: 0.6746988 (47)\ttotal: 162ms\tremaining: 98.7ms\n",
      "110:\tlearn: 0.9063444\ttest: 0.6172840\tbest: 0.6746988 (47)\ttotal: 163ms\tremaining: 97.2ms\n",
      "111:\tlearn: 0.9096386\ttest: 0.6172840\tbest: 0.6746988 (47)\ttotal: 165ms\tremaining: 95.7ms\n",
      "112:\tlearn: 0.9129129\ttest: 0.6172840\tbest: 0.6746988 (47)\ttotal: 166ms\tremaining: 94.2ms\n",
      "113:\tlearn: 0.9156627\ttest: 0.6172840\tbest: 0.6746988 (47)\ttotal: 168ms\tremaining: 92.7ms\n",
      "114:\tlearn: 0.9156627\ttest: 0.6000000\tbest: 0.6746988 (47)\ttotal: 169ms\tremaining: 91.1ms\n",
      "115:\tlearn: 0.9156627\ttest: 0.6000000\tbest: 0.6746988 (47)\ttotal: 171ms\tremaining: 89.7ms\n",
      "116:\tlearn: 0.9123867\ttest: 0.6000000\tbest: 0.6746988 (47)\ttotal: 172ms\tremaining: 88.4ms\n",
      "117:\tlearn: 0.9151515\ttest: 0.6000000\tbest: 0.6746988 (47)\ttotal: 174ms\tremaining: 86.9ms\n",
      "118:\tlearn: 0.9151515\ttest: 0.6000000\tbest: 0.6746988 (47)\ttotal: 175ms\tremaining: 85.4ms\n",
      "119:\tlearn: 0.9151515\ttest: 0.6000000\tbest: 0.6746988 (47)\ttotal: 177ms\tremaining: 83.9ms\n",
      "120:\tlearn: 0.9184290\ttest: 0.6000000\tbest: 0.6746988 (47)\ttotal: 178ms\tremaining: 82.4ms\n",
      "121:\tlearn: 0.9179331\ttest: 0.6000000\tbest: 0.6746988 (47)\ttotal: 180ms\tremaining: 80.9ms\n",
      "122:\tlearn: 0.9179331\ttest: 0.5822785\tbest: 0.6746988 (47)\ttotal: 181ms\tremaining: 79.5ms\n",
      "123:\tlearn: 0.9179331\ttest: 0.6000000\tbest: 0.6746988 (47)\ttotal: 183ms\tremaining: 78ms\n",
      "124:\tlearn: 0.9244713\ttest: 0.6000000\tbest: 0.6746988 (47)\ttotal: 185ms\tremaining: 76.8ms\n",
      "125:\tlearn: 0.9272727\ttest: 0.6075949\tbest: 0.6746988 (47)\ttotal: 187ms\tremaining: 75.7ms\n",
      "126:\tlearn: 0.9272727\ttest: 0.6075949\tbest: 0.6746988 (47)\ttotal: 188ms\tremaining: 74.1ms\n",
      "127:\tlearn: 0.9272727\ttest: 0.6075949\tbest: 0.6746988 (47)\ttotal: 190ms\tremaining: 72.6ms\n",
      "128:\tlearn: 0.9272727\ttest: 0.6075949\tbest: 0.6746988 (47)\ttotal: 191ms\tremaining: 71.2ms\n",
      "129:\tlearn: 0.9272727\ttest: 0.6000000\tbest: 0.6746988 (47)\ttotal: 193ms\tremaining: 69.6ms\n",
      "130:\tlearn: 0.9300912\ttest: 0.6000000\tbest: 0.6746988 (47)\ttotal: 194ms\tremaining: 68.1ms\n",
      "131:\tlearn: 0.9300912\ttest: 0.6000000\tbest: 0.6746988 (47)\ttotal: 195ms\tremaining: 66.6ms\n",
      "132:\tlearn: 0.9300912\ttest: 0.5822785\tbest: 0.6746988 (47)\ttotal: 197ms\tremaining: 65.1ms\n",
      "133:\tlearn: 0.9300912\ttest: 0.5897436\tbest: 0.6746988 (47)\ttotal: 199ms\tremaining: 63.7ms\n",
      "134:\tlearn: 0.9333333\ttest: 0.6075949\tbest: 0.6746988 (47)\ttotal: 201ms\tremaining: 62.5ms\n",
      "135:\tlearn: 0.9365559\ttest: 0.6075949\tbest: 0.6746988 (47)\ttotal: 202ms\tremaining: 61ms\n",
      "136:\tlearn: 0.9365559\ttest: 0.6250000\tbest: 0.6746988 (47)\ttotal: 204ms\tremaining: 59.4ms\n",
      "137:\tlearn: 0.9365559\ttest: 0.6075949\tbest: 0.6746988 (47)\ttotal: 205ms\tremaining: 57.9ms\n",
      "138:\tlearn: 0.9365559\ttest: 0.6250000\tbest: 0.6746988 (47)\ttotal: 206ms\tremaining: 56.4ms\n",
      "139:\tlearn: 0.9369369\ttest: 0.6250000\tbest: 0.6746988 (47)\ttotal: 208ms\tremaining: 54.9ms\n",
      "140:\tlearn: 0.9401198\ttest: 0.6250000\tbest: 0.6746988 (47)\ttotal: 209ms\tremaining: 53.4ms\n",
      "141:\tlearn: 0.9429429\ttest: 0.6075949\tbest: 0.6746988 (47)\ttotal: 210ms\tremaining: 51.8ms\n",
      "142:\tlearn: 0.9401198\ttest: 0.6075949\tbest: 0.6746988 (47)\ttotal: 212ms\tremaining: 50.3ms\n",
      "143:\tlearn: 0.9429429\ttest: 0.6153846\tbest: 0.6746988 (47)\ttotal: 215ms\tremaining: 49.3ms\n",
      "144:\tlearn: 0.9429429\ttest: 0.6153846\tbest: 0.6746988 (47)\ttotal: 217ms\tremaining: 47.9ms\n",
      "145:\tlearn: 0.9429429\ttest: 0.6153846\tbest: 0.6746988 (47)\ttotal: 219ms\tremaining: 46.4ms\n",
      "146:\tlearn: 0.9429429\ttest: 0.6250000\tbest: 0.6746988 (47)\ttotal: 220ms\tremaining: 44.9ms\n",
      "147:\tlearn: 0.9429429\ttest: 0.6250000\tbest: 0.6746988 (47)\ttotal: 221ms\tremaining: 43.4ms\n",
      "148:\tlearn: 0.9429429\ttest: 0.6250000\tbest: 0.6746988 (47)\ttotal: 223ms\tremaining: 41.9ms\n",
      "149:\tlearn: 0.9429429\ttest: 0.6250000\tbest: 0.6746988 (47)\ttotal: 224ms\tremaining: 40.4ms\n",
      "150:\tlearn: 0.9429429\ttest: 0.6250000\tbest: 0.6746988 (47)\ttotal: 226ms\tremaining: 38.9ms\n",
      "151:\tlearn: 0.9429429\ttest: 0.6250000\tbest: 0.6746988 (47)\ttotal: 228ms\tremaining: 37.5ms\n",
      "152:\tlearn: 0.9429429\ttest: 0.6250000\tbest: 0.6746988 (47)\ttotal: 230ms\tremaining: 36ms\n",
      "153:\tlearn: 0.9429429\ttest: 0.6250000\tbest: 0.6746988 (47)\ttotal: 231ms\tremaining: 34.5ms\n",
      "154:\tlearn: 0.9461078\ttest: 0.6250000\tbest: 0.6746988 (47)\ttotal: 233ms\tremaining: 33ms\n",
      "155:\tlearn: 0.9492537\ttest: 0.6250000\tbest: 0.6746988 (47)\ttotal: 234ms\tremaining: 31.5ms\n",
      "156:\tlearn: 0.9492537\ttest: 0.6250000\tbest: 0.6746988 (47)\ttotal: 236ms\tremaining: 30ms\n",
      "157:\tlearn: 0.9492537\ttest: 0.6250000\tbest: 0.6746988 (47)\ttotal: 237ms\tremaining: 28.5ms\n",
      "158:\tlearn: 0.9492537\ttest: 0.6250000\tbest: 0.6746988 (47)\ttotal: 239ms\tremaining: 27ms\n",
      "159:\tlearn: 0.9492537\ttest: 0.6250000\tbest: 0.6746988 (47)\ttotal: 241ms\tremaining: 25.6ms\n",
      "160:\tlearn: 0.9492537\ttest: 0.6250000\tbest: 0.6746988 (47)\ttotal: 243ms\tremaining: 24.1ms\n",
      "161:\tlearn: 0.9492537\ttest: 0.6075949\tbest: 0.6746988 (47)\ttotal: 244ms\tremaining: 22.6ms\n",
      "162:\tlearn: 0.9492537\ttest: 0.5897436\tbest: 0.6746988 (47)\ttotal: 246ms\tremaining: 21.1ms\n",
      "163:\tlearn: 0.9492537\ttest: 0.6075949\tbest: 0.6746988 (47)\ttotal: 248ms\tremaining: 19.6ms\n",
      "164:\tlearn: 0.9492537\ttest: 0.6075949\tbest: 0.6746988 (47)\ttotal: 249ms\tremaining: 18.1ms\n",
      "165:\tlearn: 0.9523810\ttest: 0.6075949\tbest: 0.6746988 (47)\ttotal: 250ms\tremaining: 16.6ms\n",
      "166:\tlearn: 0.9523810\ttest: 0.6250000\tbest: 0.6746988 (47)\ttotal: 252ms\tremaining: 15.1ms\n",
      "167:\tlearn: 0.9523810\ttest: 0.6250000\tbest: 0.6746988 (47)\ttotal: 253ms\tremaining: 13.6ms\n",
      "168:\tlearn: 0.9523810\ttest: 0.6250000\tbest: 0.6746988 (47)\ttotal: 256ms\tremaining: 12.1ms\n",
      "169:\tlearn: 0.9554896\ttest: 0.6250000\tbest: 0.6746988 (47)\ttotal: 258ms\tremaining: 10.6ms\n",
      "170:\tlearn: 0.9554896\ttest: 0.6250000\tbest: 0.6746988 (47)\ttotal: 259ms\tremaining: 9.09ms\n",
      "171:\tlearn: 0.9583333\ttest: 0.6250000\tbest: 0.6746988 (47)\ttotal: 260ms\tremaining: 7.57ms\n",
      "172:\tlearn: 0.9614243\ttest: 0.6250000\tbest: 0.6746988 (47)\ttotal: 262ms\tremaining: 6.05ms\n",
      "173:\tlearn: 0.9614243\ttest: 0.6250000\tbest: 0.6746988 (47)\ttotal: 263ms\tremaining: 4.54ms\n",
      "174:\tlearn: 0.9614243\ttest: 0.6250000\tbest: 0.6746988 (47)\ttotal: 265ms\tremaining: 3.03ms\n",
      "175:\tlearn: 0.9614243\ttest: 0.6250000\tbest: 0.6746988 (47)\ttotal: 268ms\tremaining: 1.52ms\n",
      "176:\tlearn: 0.9614243\ttest: 0.6250000\tbest: 0.6746988 (47)\ttotal: 269ms\tremaining: 0us\n",
      "\n",
      "bestTest = 0.6746987952\n",
      "bestIteration = 47\n",
      "\n"
     ]
    }
   ],
   "source": [
    "params[\"eval_metric\"] = \"F1\"\n",
    "params[\"loss_function\"] = \"Logloss\"\n",
    "\n",
    "model = CatBoostClassifier(\n",
    "    **params,\n",
    "    verbose=True\n",
    ")\n",
    "\n",
    "data = Pool(X_train, y_train)\n",
    "\n",
    "cv_results = cv(\n",
    "    params=params,\n",
    "    pool=data,\n",
    "    fold_count=5,\n",
    "    partition_random_seed=42,\n",
    "    shuffle=True,\n",
    ")\n",
    "\n",
    "cv_results.to_csv(outfolder / \"cv_results_v2.csv\", index=False)"
   ]
  },
  {
   "cell_type": "code",
   "execution_count": 7,
   "id": "318608f4",
   "metadata": {},
   "outputs": [
    {
     "data": {
      "application/vnd.plotly.v1+json": {
       "config": {
        "plotlyServerURL": "https://plot.ly"
       },
       "data": [
        {
         "line": {
          "color": "blue"
         },
         "mode": "lines",
         "name": "Mean F1 Score",
         "type": "scatter",
         "x": {
          "bdata": "AAABAAIAAwAEAAUABgAHAAgACQAKAAsADAANAA4ADwAQABEAEgATABQAFQAWABcAGAAZABoAGwAcAB0AHgAfACAAIQAiACMAJAAlACYAJwAoACkAKgArACwALQAuAC8AMAAxADIAMwA0ADUANgA3ADgAOQA6ADsAPAA9AD4APwBAAEEAQgBDAEQARQBGAEcASABJAEoASwBMAE0ATgBPAFAAUQBSAFMAVABVAFYAVwBYAFkAWgBbAFwAXQBeAF8AYABhAGIAYwBkAGUAZgBnAGgAaQBqAGsAbABtAG4AbwBwAHEAcgBzAHQAdQB2AHcAeAB5AHoAewB8AH0AfgB/AIAAgQCCAIMAhACFAIYAhwCIAIkAigCLAIwAjQCOAI8AkACRAJIAkwCUAJUAlgCXAJgAmQCaAJsAnACdAJ4AnwCgAKEAogCjAKQApQCmAKcAqACpAKoAqwCsAK0ArgCvALAA",
          "dtype": "i2"
         },
         "y": {
          "bdata": "QoYVB1Md3z8Wbq9HgBTiP0aKU9Ra3+E/KkS+GH1B4T8yHxO9dGjiP0CCzAspnOI/xinGwSii4z9pTOanjU/jP9cEh+6rpeM/JIj38t2x4z+uNf3/0+LjP3pDgx6hN+Q/DUJnssog5D8COfZ+8DPkP1LOSlT3G+Q/FiicBML14z8YSRw4m4LkP/IiLHqPr+Q/fHoCKFiF5D8mYM5Am3PkP/c7DnC83+Q/DtMfwO7N5D/GLOkK1QnlP3exIoDiVOU/AQvNJAEc5T8PrdZhXQ7lP9vZIhnk+eQ/A28ldI5W5T8+yPC1LXLlPwodFo+1VeU/VqjOZQww5T+tyycjWD7lP4ZJpP2YIOU/VbjHVSEg5T+Ploh+v87kP5uDB1NR3OQ/lE5/Rva/5D9drIpbstzkP12siluy3OQ/Ti7KBl/05D+YNecy89fkPw8xRUsFHOU/Ii+SQzn95D+qDrAIj8fkP3ZME5+V1eQ/MvaBGVAP5T8eTTfx+QPlP6Vwkz+QUeU//orD7pHW5D9GIHp0jcfkPx9MjIZt1OQ/zOgJCB7k5D9D5EM/C+PkP0GX4vo8geQ/ZL6GdQac5D/ENoE6l7LkP1bxiYHe3eQ/bUmbq8uW5D8JbWFqibLkP+PvR2hFp+Q/eu4QzoTE5D9rYfq3Ra7kP/13c8wSo+Q/IIIoTw6K5D9KLTj0mMTkPz0WPta94+Q/Gn8fSkzX5D/irvEBCrnkPzcRhiRqB+U/ziF0CSrv5D+a2MtveuDkP9Fp4nY8+OQ/+nme9wQc5T/pbWPwrcrkP0ExyD+L7eQ/itfWvVf95D82EkV8dpXkP7fii0IiheQ/zHYZHAD45D9r2EzHZNXkP8KR7MjT1OQ/MWJYnGDz5D8ctgjbZd7kPy+szk4/seQ/kGcqL3Om5D9tk88ss7/kP778JrmdxOQ/Em0R1Xvk5D+MOFk43rHkP49UVDzNxeQ/j1RUPM3F5D+PVFQ8zcXkP5THGeb3weQ/UW1TXlm35D9FyD8QBs3kP8iA9jVKsuQ/yID2NUqy5D9a7AVsIKDkP8yPUFCqW+Q/8d7QZsta5D9/4WM0u3HkP7pGJ8OiceQ/aBkZb9FI5D8ut5zcNmLkP5aeiBEXmuQ/PGvYwjHF5D/Kj8ues8bkPxYBneeOr+Q/pkR7YNNp5D9GHbQtzEzkP+3eE2YzZ+Q/4oiRxy+b5D9ChmcnLXHkP2ALt1KRiuQ/tFAyYGdD5D+a2xccpTfkP25DyFVzTuQ/bkPIVXNO5D/eX+vXFXPkP+FR2acyVuQ/fCLOw7xu5D98Is7DvG7kP39sMdKzUeQ/j46Wb8iY5D95pfJSlXzkP0nPL7fphuQ//ivVDiFC5D/G20Sxe2PkP4rSeF5xbOQ/BH5VzLYs5D9ZtvVdTjfkP5S1R8H8KuQ/h6peg3n54z+oZe7alwjkPxu3ORmcM+Q/Gl/E2sEz5D9kduP01WvkPxpfxNrBM+Q/zYmkpnpN5D/sSeDzgWzkP2kxD81lK+Q/2oO4mSk/5D+5yChCCzDkP+82MmFyW+Q/SfoNcCGA5D/v4IocUnXkP3JsqWuqYOQ/cmypa6pg5D9XsgnqzZXkP91WOwCReOQ/FhMr6bdg5D9TCEnoVWzkP0I3Oqc+X+Q/UwhJ6FVs5D/67sWUhmHkP81I08OZVeQ/cmypa6pg5D9+BycS33fkP3JsqWuqYOQ/RbsdbOKP5D/LhSy/eWvkP9f2WKM/WeQ/QfiPPQA85D/X9lijP1nkP9f2WKM/WeQ/TqhmiwRN5D9O0rdNc3bkP3s6uqirpOQ/PvIkmHt/5D+m8XgqmpnkP6bxeCqameQ/pvF4KpqZ5D81kYm5apfkP8f2FbM2iuQ/x/YVszaK5D9JWfDZybXkP+I5q6XqwOQ/",
          "dtype": "f8"
         }
        },
        {
         "fill": "toself",
         "fillcolor": "rgba(0, 0, 255, 0.2)",
         "line": {
          "color": "rgba(255, 255, 255, 0)"
         },
         "showlegend": false,
         "type": "scatter",
         "x": {
          "bdata": "AAABAAIAAwAEAAUABgAHAAgACQAKAAsADAANAA4ADwAQABEAEgATABQAFQAWABcAGAAZABoAGwAcAB0AHgAfACAAIQAiACMAJAAlACYAJwAoACkAKgArACwALQAuAC8AMAAxADIAMwA0ADUANgA3ADgAOQA6ADsAPAA9AD4APwBAAEEAQgBDAEQARQBGAEcASABJAEoASwBMAE0ATgBPAFAAUQBSAFMAVABVAFYAVwBYAFkAWgBbAFwAXQBeAF8AYABhAGIAYwBkAGUAZgBnAGgAaQBqAGsAbABtAG4AbwBwAHEAcgBzAHQAdQB2AHcAeAB5AHoAewB8AH0AfgB/AIAAgQCCAIMAhACFAIYAhwCIAIkAigCLAIwAjQCOAI8AkACRAJIAkwCUAJUAlgCXAJgAmQCaAJsAnACdAJ4AnwCgAKEAogCjAKQApQCmAKcAqACpAKoAqwCsAK0ArgCvALAAsACvAK4ArQCsAKsAqgCpAKgApwCmAKUApACjAKIAoQCgAJ8AngCdAJwAmwCaAJkAmACXAJYAlQCUAJMAkgCRAJAAjwCOAI0AjACLAIoAiQCIAIcAhgCFAIQAgwCCAIEAgAB/AH4AfQB8AHsAegB5AHgAdwB2AHUAdABzAHIAcQBwAG8AbgBtAGwAawBqAGkAaABnAGYAZQBkAGMAYgBhAGAAXwBeAF0AXABbAFoAWQBYAFcAVgBVAFQAUwBSAFEAUABPAE4ATQBMAEsASgBJAEgARwBGAEUARABDAEIAQQBAAD8APgA9ADwAOwA6ADkAOAA3ADYANQA0ADMAMgAxADAALwAuAC0ALAArACoAKQAoACcAJgAlACQAIwAiACEAIAAfAB4AHQAcABsAGgAZABgAFwAWABUAFAATABIAEQAQAA8ADgANAAwACwAKAAkACAAHAAYABQAEAAMAAgABAAAA",
          "dtype": "i2"
         },
         "y": {
          "bdata": "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",
          "dtype": "f8"
         }
        }
       ],
       "layout": {
        "template": {
         "data": {
          "bar": [
           {
            "error_x": {
             "color": "#2a3f5f"
            },
            "error_y": {
             "color": "#2a3f5f"
            },
            "marker": {
             "line": {
              "color": "white",
              "width": 0.5
             },
             "pattern": {
              "fillmode": "overlay",
              "size": 10,
              "solidity": 0.2
             }
            },
            "type": "bar"
           }
          ],
          "barpolar": [
           {
            "marker": {
             "line": {
              "color": "white",
              "width": 0.5
             },
             "pattern": {
              "fillmode": "overlay",
              "size": 10,
              "solidity": 0.2
             }
            },
            "type": "barpolar"
           }
          ],
          "carpet": [
           {
            "aaxis": {
             "endlinecolor": "#2a3f5f",
             "gridcolor": "#C8D4E3",
             "linecolor": "#C8D4E3",
             "minorgridcolor": "#C8D4E3",
             "startlinecolor": "#2a3f5f"
            },
            "baxis": {
             "endlinecolor": "#2a3f5f",
             "gridcolor": "#C8D4E3",
             "linecolor": "#C8D4E3",
             "minorgridcolor": "#C8D4E3",
             "startlinecolor": "#2a3f5f"
            },
            "type": "carpet"
           }
          ],
          "choropleth": [
           {
            "colorbar": {
             "outlinewidth": 0,
             "ticks": ""
            },
            "type": "choropleth"
           }
          ],
          "contour": [
           {
            "colorbar": {
             "outlinewidth": 0,
             "ticks": ""
            },
            "colorscale": [
             [
              0,
              "#0d0887"
             ],
             [
              0.1111111111111111,
              "#46039f"
             ],
             [
              0.2222222222222222,
              "#7201a8"
             ],
             [
              0.3333333333333333,
              "#9c179e"
             ],
             [
              0.4444444444444444,
              "#bd3786"
             ],
             [
              0.5555555555555556,
              "#d8576b"
             ],
             [
              0.6666666666666666,
              "#ed7953"
             ],
             [
              0.7777777777777778,
              "#fb9f3a"
             ],
             [
              0.8888888888888888,
              "#fdca26"
             ],
             [
              1,
              "#f0f921"
             ]
            ],
            "type": "contour"
           }
          ],
          "contourcarpet": [
           {
            "colorbar": {
             "outlinewidth": 0,
             "ticks": ""
            },
            "type": "contourcarpet"
           }
          ],
          "heatmap": [
           {
            "colorbar": {
             "outlinewidth": 0,
             "ticks": ""
            },
            "colorscale": [
             [
              0,
              "#0d0887"
             ],
             [
              0.1111111111111111,
              "#46039f"
             ],
             [
              0.2222222222222222,
              "#7201a8"
             ],
             [
              0.3333333333333333,
              "#9c179e"
             ],
             [
              0.4444444444444444,
              "#bd3786"
             ],
             [
              0.5555555555555556,
              "#d8576b"
             ],
             [
              0.6666666666666666,
              "#ed7953"
             ],
             [
              0.7777777777777778,
              "#fb9f3a"
             ],
             [
              0.8888888888888888,
              "#fdca26"
             ],
             [
              1,
              "#f0f921"
             ]
            ],
            "type": "heatmap"
           }
          ],
          "histogram": [
           {
            "marker": {
             "pattern": {
              "fillmode": "overlay",
              "size": 10,
              "solidity": 0.2
             }
            },
            "type": "histogram"
           }
          ],
          "histogram2d": [
           {
            "colorbar": {
             "outlinewidth": 0,
             "ticks": ""
            },
            "colorscale": [
             [
              0,
              "#0d0887"
             ],
             [
              0.1111111111111111,
              "#46039f"
             ],
             [
              0.2222222222222222,
              "#7201a8"
             ],
             [
              0.3333333333333333,
              "#9c179e"
             ],
             [
              0.4444444444444444,
              "#bd3786"
             ],
             [
              0.5555555555555556,
              "#d8576b"
             ],
             [
              0.6666666666666666,
              "#ed7953"
             ],
             [
              0.7777777777777778,
              "#fb9f3a"
             ],
             [
              0.8888888888888888,
              "#fdca26"
             ],
             [
              1,
              "#f0f921"
             ]
            ],
            "type": "histogram2d"
           }
          ],
          "histogram2dcontour": [
           {
            "colorbar": {
             "outlinewidth": 0,
             "ticks": ""
            },
            "colorscale": [
             [
              0,
              "#0d0887"
             ],
             [
              0.1111111111111111,
              "#46039f"
             ],
             [
              0.2222222222222222,
              "#7201a8"
             ],
             [
              0.3333333333333333,
              "#9c179e"
             ],
             [
              0.4444444444444444,
              "#bd3786"
             ],
             [
              0.5555555555555556,
              "#d8576b"
             ],
             [
              0.6666666666666666,
              "#ed7953"
             ],
             [
              0.7777777777777778,
              "#fb9f3a"
             ],
             [
              0.8888888888888888,
              "#fdca26"
             ],
             [
              1,
              "#f0f921"
             ]
            ],
            "type": "histogram2dcontour"
           }
          ],
          "mesh3d": [
           {
            "colorbar": {
             "outlinewidth": 0,
             "ticks": ""
            },
            "type": "mesh3d"
           }
          ],
          "parcoords": [
           {
            "line": {
             "colorbar": {
              "outlinewidth": 0,
              "ticks": ""
             }
            },
            "type": "parcoords"
           }
          ],
          "pie": [
           {
            "automargin": true,
            "type": "pie"
           }
          ],
          "scatter": [
           {
            "fillpattern": {
             "fillmode": "overlay",
             "size": 10,
             "solidity": 0.2
            },
            "type": "scatter"
           }
          ],
          "scatter3d": [
           {
            "line": {
             "colorbar": {
              "outlinewidth": 0,
              "ticks": ""
             }
            },
            "marker": {
             "colorbar": {
              "outlinewidth": 0,
              "ticks": ""
             }
            },
            "type": "scatter3d"
           }
          ],
          "scattercarpet": [
           {
            "marker": {
             "colorbar": {
              "outlinewidth": 0,
              "ticks": ""
             }
            },
            "type": "scattercarpet"
           }
          ],
          "scattergeo": [
           {
            "marker": {
             "colorbar": {
              "outlinewidth": 0,
              "ticks": ""
             }
            },
            "type": "scattergeo"
           }
          ],
          "scattergl": [
           {
            "marker": {
             "colorbar": {
              "outlinewidth": 0,
              "ticks": ""
             }
            },
            "type": "scattergl"
           }
          ],
          "scattermap": [
           {
            "marker": {
             "colorbar": {
              "outlinewidth": 0,
              "ticks": ""
             }
            },
            "type": "scattermap"
           }
          ],
          "scattermapbox": [
           {
            "marker": {
             "colorbar": {
              "outlinewidth": 0,
              "ticks": ""
             }
            },
            "type": "scattermapbox"
           }
          ],
          "scatterpolar": [
           {
            "marker": {
             "colorbar": {
              "outlinewidth": 0,
              "ticks": ""
             }
            },
            "type": "scatterpolar"
           }
          ],
          "scatterpolargl": [
           {
            "marker": {
             "colorbar": {
              "outlinewidth": 0,
              "ticks": ""
             }
            },
            "type": "scatterpolargl"
           }
          ],
          "scatterternary": [
           {
            "marker": {
             "colorbar": {
              "outlinewidth": 0,
              "ticks": ""
             }
            },
            "type": "scatterternary"
           }
          ],
          "surface": [
           {
            "colorbar": {
             "outlinewidth": 0,
             "ticks": ""
            },
            "colorscale": [
             [
              0,
              "#0d0887"
             ],
             [
              0.1111111111111111,
              "#46039f"
             ],
             [
              0.2222222222222222,
              "#7201a8"
             ],
             [
              0.3333333333333333,
              "#9c179e"
             ],
             [
              0.4444444444444444,
              "#bd3786"
             ],
             [
              0.5555555555555556,
              "#d8576b"
             ],
             [
              0.6666666666666666,
              "#ed7953"
             ],
             [
              0.7777777777777778,
              "#fb9f3a"
             ],
             [
              0.8888888888888888,
              "#fdca26"
             ],
             [
              1,
              "#f0f921"
             ]
            ],
            "type": "surface"
           }
          ],
          "table": [
           {
            "cells": {
             "fill": {
              "color": "#EBF0F8"
             },
             "line": {
              "color": "white"
             }
            },
            "header": {
             "fill": {
              "color": "#C8D4E3"
             },
             "line": {
              "color": "white"
             }
            },
            "type": "table"
           }
          ]
         },
         "layout": {
          "annotationdefaults": {
           "arrowcolor": "#2a3f5f",
           "arrowhead": 0,
           "arrowwidth": 1
          },
          "autotypenumbers": "strict",
          "coloraxis": {
           "colorbar": {
            "outlinewidth": 0,
            "ticks": ""
           }
          },
          "colorscale": {
           "diverging": [
            [
             0,
             "#8e0152"
            ],
            [
             0.1,
             "#c51b7d"
            ],
            [
             0.2,
             "#de77ae"
            ],
            [
             0.3,
             "#f1b6da"
            ],
            [
             0.4,
             "#fde0ef"
            ],
            [
             0.5,
             "#f7f7f7"
            ],
            [
             0.6,
             "#e6f5d0"
            ],
            [
             0.7,
             "#b8e186"
            ],
            [
             0.8,
             "#7fbc41"
            ],
            [
             0.9,
             "#4d9221"
            ],
            [
             1,
             "#276419"
            ]
           ],
           "sequential": [
            [
             0,
             "#0d0887"
            ],
            [
             0.1111111111111111,
             "#46039f"
            ],
            [
             0.2222222222222222,
             "#7201a8"
            ],
            [
             0.3333333333333333,
             "#9c179e"
            ],
            [
             0.4444444444444444,
             "#bd3786"
            ],
            [
             0.5555555555555556,
             "#d8576b"
            ],
            [
             0.6666666666666666,
             "#ed7953"
            ],
            [
             0.7777777777777778,
             "#fb9f3a"
            ],
            [
             0.8888888888888888,
             "#fdca26"
            ],
            [
             1,
             "#f0f921"
            ]
           ],
           "sequentialminus": [
            [
             0,
             "#0d0887"
            ],
            [
             0.1111111111111111,
             "#46039f"
            ],
            [
             0.2222222222222222,
             "#7201a8"
            ],
            [
             0.3333333333333333,
             "#9c179e"
            ],
            [
             0.4444444444444444,
             "#bd3786"
            ],
            [
             0.5555555555555556,
             "#d8576b"
            ],
            [
             0.6666666666666666,
             "#ed7953"
            ],
            [
             0.7777777777777778,
             "#fb9f3a"
            ],
            [
             0.8888888888888888,
             "#fdca26"
            ],
            [
             1,
             "#f0f921"
            ]
           ]
          },
          "colorway": [
           "#636efa",
           "#EF553B",
           "#00cc96",
           "#ab63fa",
           "#FFA15A",
           "#19d3f3",
           "#FF6692",
           "#B6E880",
           "#FF97FF",
           "#FECB52"
          ],
          "font": {
           "color": "#2a3f5f"
          },
          "geo": {
           "bgcolor": "white",
           "lakecolor": "white",
           "landcolor": "white",
           "showlakes": true,
           "showland": true,
           "subunitcolor": "#C8D4E3"
          },
          "hoverlabel": {
           "align": "left"
          },
          "hovermode": "closest",
          "mapbox": {
           "style": "light"
          },
          "paper_bgcolor": "white",
          "plot_bgcolor": "white",
          "polar": {
           "angularaxis": {
            "gridcolor": "#EBF0F8",
            "linecolor": "#EBF0F8",
            "ticks": ""
           },
           "bgcolor": "white",
           "radialaxis": {
            "gridcolor": "#EBF0F8",
            "linecolor": "#EBF0F8",
            "ticks": ""
           }
          },
          "scene": {
           "xaxis": {
            "backgroundcolor": "white",
            "gridcolor": "#DFE8F3",
            "gridwidth": 2,
            "linecolor": "#EBF0F8",
            "showbackground": true,
            "ticks": "",
            "zerolinecolor": "#EBF0F8"
           },
           "yaxis": {
            "backgroundcolor": "white",
            "gridcolor": "#DFE8F3",
            "gridwidth": 2,
            "linecolor": "#EBF0F8",
            "showbackground": true,
            "ticks": "",
            "zerolinecolor": "#EBF0F8"
           },
           "zaxis": {
            "backgroundcolor": "white",
            "gridcolor": "#DFE8F3",
            "gridwidth": 2,
            "linecolor": "#EBF0F8",
            "showbackground": true,
            "ticks": "",
            "zerolinecolor": "#EBF0F8"
           }
          },
          "shapedefaults": {
           "line": {
            "color": "#2a3f5f"
           }
          },
          "ternary": {
           "aaxis": {
            "gridcolor": "#DFE8F3",
            "linecolor": "#A2B1C6",
            "ticks": ""
           },
           "baxis": {
            "gridcolor": "#DFE8F3",
            "linecolor": "#A2B1C6",
            "ticks": ""
           },
           "bgcolor": "white",
           "caxis": {
            "gridcolor": "#DFE8F3",
            "linecolor": "#A2B1C6",
            "ticks": ""
           }
          },
          "title": {
           "x": 0.05
          },
          "xaxis": {
           "automargin": true,
           "gridcolor": "#EBF0F8",
           "linecolor": "#EBF0F8",
           "ticks": "",
           "title": {
            "standoff": 15
           },
           "zerolinecolor": "#EBF0F8",
           "zerolinewidth": 2
          },
          "yaxis": {
           "automargin": true,
           "gridcolor": "#EBF0F8",
           "linecolor": "#EBF0F8",
           "ticks": "",
           "title": {
            "standoff": 15
           },
           "zerolinecolor": "#EBF0F8",
           "zerolinewidth": 2
          }
         }
        },
        "title": {
         "text": "Cross-Validation (N=5) Mean F1 score with Error Bands"
        },
        "xaxis": {
         "title": {
          "text": "Training Steps"
         }
        },
        "yaxis": {
         "range": [
          0.5,
          1
         ],
         "title": {
          "text": "Performance Score"
         }
        }
       }
      }
     },
     "metadata": {},
     "output_type": "display_data"
    }
   ],
   "source": [
    "import plotly.graph_objects as go\n",
    "\n",
    "# Create figure\n",
    "fig = go.Figure()\n",
    "\n",
    "# Add mean performance line\n",
    "fig.add_trace(\n",
    "    go.Scatter(\n",
    "        x=cv_results[\"iterations\"], y=cv_results[\"test-F1-mean\"], mode=\"lines\", name=\"Mean F1 Score\", line=dict(color=\"blue\")\n",
    "    )\n",
    ")\n",
    "\n",
    "# Add shaded error region\n",
    "fig.add_trace(\n",
    "    go.Scatter(\n",
    "        x=pd.concat([cv_results[\"iterations\"], cv_results[\"iterations\"][::-1]]),\n",
    "        y=pd.concat([cv_results[\"test-F1-mean\"]+cv_results[\"test-F1-std\"], \n",
    "                     cv_results[\"test-F1-mean\"]-cv_results[\"test-F1-std\"]]),\n",
    "        fill=\"toself\", \n",
    "        fillcolor=\"rgba(0, 0, 255, 0.2)\",\n",
    "        line=dict(color=\"rgba(255, 255, 255, 0)\"),\n",
    "        showlegend=False\n",
    "    )\n",
    ")\n",
    "\n",
    "# Customize layout\n",
    "fig.update_layout(\n",
    "    title=\"Cross-Validation (N=5) Mean F1 score with Error Bands\",\n",
    "    xaxis_title=\"Training Steps\",\n",
    "    yaxis_title=\"Performance Score\",\n",
    "    template=\"plotly_white\",\n",
    "    yaxis=dict(range=[0.5, 1])\n",
    ")\n",
    "\n",
    "fig.show()\n",
    "\n",
    "fig.write_image(outfolder / \"test_f1_v2.png\")"
   ]
  },
  {
   "cell_type": "code",
   "execution_count": 8,
   "id": "afb08f19",
   "metadata": {},
   "outputs": [
    {
     "data": {
      "application/vnd.plotly.v1+json": {
       "config": {
        "plotlyServerURL": "https://plot.ly"
       },
       "data": [
        {
         "line": {
          "color": "blue"
         },
         "mode": "lines",
         "name": "Mean logloss",
         "type": "scatter",
         "x": {
          "bdata": "AAABAAIAAwAEAAUABgAHAAgACQAKAAsADAANAA4ADwAQABEAEgATABQAFQAWABcAGAAZABoAGwAcAB0AHgAfACAAIQAiACMAJAAlACYAJwAoACkAKgArACwALQAuAC8AMAAxADIAMwA0ADUANgA3ADgAOQA6ADsAPAA9AD4APwBAAEEAQgBDAEQARQBGAEcASABJAEoASwBMAE0ATgBPAFAAUQBSAFMAVABVAFYAVwBYAFkAWgBbAFwAXQBeAF8AYABhAGIAYwBkAGUAZgBnAGgAaQBqAGsAbABtAG4AbwBwAHEAcgBzAHQAdQB2AHcAeAB5AHoAewB8AH0AfgB/AIAAgQCCAIMAhACFAIYAhwCIAIkAigCLAIwAjQCOAI8AkACRAJIAkwCUAJUAlgCXAJgAmQCaAJsAnACdAJ4AnwCgAKEAogCjAKQApQCmAKcAqACpAKoAqwCsAK0ArgCvALAA",
          "dtype": "i2"
         },
         "y": {
          "bdata": "xWu8uk/I4z+0NxxhD/rhP9873BfSNeE/bgjdHBi/4D/gejz+yGfgP6rHWSRBA+A/Mw6oeICR3z/the6KtiHfP80JIW6/FN8/JlK6XrPh3j9TaP0EfJLePwWbkqpATN4/w9EBxCw03j8C1HXuny/ePw2qABSp690/yGj35am+3T9VxpFhXIDdP2oFbex2fd0/oiyjb+Vq3T/rhlRA6obdP7Z4AvVgXN0/XqsQOxdq3T+K+n1k/0zdPxUedT4FMd0/Yn2O4fop3T92X+KioEjdP2AZVYQvY90/irkV3i9f3T9IoVtL2XzdPwYrwSzde90/y5Bu/ARk3T8uKxI+4W3dP92U568dhd0/jVQhXdag3T8LWc828Z3dP5ZDirN1kN0/sPNAMUWl3T/AS7QCXaPdP9o5RJaUv90/phoHOCXH3T+iaMkmgdXdPwJ2gCZu4d0/aj8rhjb23T9YZ0hyAhTeP3OeFVdnIt4/BQGuPOww3j+VBmHaBQneP/rYIHMT+90/rS9WHUYp3j/4VG3yrj7eP2o+1JVoSN4/itJqiQdh3j87b9mptm7eP1rtjJB5cd4/8s4+yHth3j99BmlBO2XeP4ahEgNAYN4/lt6FA+lG3j/TQ92GDm3eP5AlWp16dd4/KIQ8Q4Na3j+tfvOfbGbeP6rMGEJmY94/i6PmgSqU3j/zVFvOy6/eP4i9G3SxrN4/upWYkqen3j8jRFND0qTeP3iZ92kknt4/sPUnXpeh3j/NeYqgV6/eP334hinaid4/Y9JBpnuP3j8GzyqH+oveP+CuFHopr94/8gW2uMTi3j86qgt43PDeP/DEcuWm8N4/q5zv8bkE3z/mh2aK1BLfPz1Ng6SoFt8/+z9xW+Mi3z8bkkruzR7fP1iXCBzxJ98/2P/3SMFO3z+rIqBvuWbfP7sWltfLat8/HQew/nSC3z84ANZoO27fP14hlIEOad8/s20nRcuT3z9qG/7B/qDfP1hq2q1fpd8/+8qFcrLA3z+4m5oixuDfP7vpBk7gDuA/8hyPBvEO4D8CMTSmkiHgP2gjTSm1HuA/SFYgsmgg4D+OXoVMFCngPyKx/PACMuA//W7a5UE44D9kvJ5xSDzgP8SJr8L7OuA/kFka8nZB4D+AjBQH7TXgP60t1oIHNuA/l4unx8tE4D8MRGv0QjzgPxhN97EoNuA/OM/hmQw14D/W9hc+LjzgP83orkWNN+A/ZRcpvpQ04D9Arf2+o0/gP0qtDk2AVOA/suU3Ow9o4D+WbdZWE2HgP4uEMztGWOA/S+rS8aFf4D/hPSOhSl3gP410kFL/Y+A/Ft2OEBtr4D/zUEnD6XngP6UYnjNEc+A/FuK7V+F74D+mNK/QRIbgP5bFdPrSiOA/Ayf+4jeP4D81NkCkXJXgPzUKmEikjeA/1HG9cUql4D8NMU3vMZTgPzXC2mwckuA/VNX6UTqG4D/axqU1um3gP+hPiVdBe+A/OUDjxYyO4D/iahGtXofgPzr67hmwjeA/aULkIEWV4D9lD6iJtp7gP17XdvkoouA/x+mouNmi4D9CZb9ZqqHgP3du3bnqqOA/qqRV8WSm4D8v/c1TGKfgP4AzJRuGsOA/OpLuTxbM4D+JXZ7UaNTgP/x4898n2OA/jmwA7Pnp4D/OZXNlufTgP6CFkyzI9+A/Q2O93DX64D+qvlbXevrgP42gmPVB9OA/U/tG7uDr4D8keBNWvgDhP3rkmc3qBuE/qtZf2Fb84D9Sem8OEAPhP7umfXu7A+E/87TC41sT4T94ByoAyRThP0gFBMhcEuE/qraTQ6kk4T8ZhcA4MSLhPxto1GhWH+E/+LUghZ0l4T+e2mm08TPhP3iNvG/XMeE/WlkjUG044T9lxpEBsEXhPyHE/kg9ROE/",
          "dtype": "f8"
         }
        },
        {
         "fill": "toself",
         "fillcolor": "rgba(0, 0, 255, 0.2)",
         "line": {
          "color": "rgba(255, 255, 255, 0)"
         },
         "showlegend": false,
         "type": "scatter",
         "x": {
          "bdata": "AAABAAIAAwAEAAUABgAHAAgACQAKAAsADAANAA4ADwAQABEAEgATABQAFQAWABcAGAAZABoAGwAcAB0AHgAfACAAIQAiACMAJAAlACYAJwAoACkAKgArACwALQAuAC8AMAAxADIAMwA0ADUANgA3ADgAOQA6ADsAPAA9AD4APwBAAEEAQgBDAEQARQBGAEcASABJAEoASwBMAE0ATgBPAFAAUQBSAFMAVABVAFYAVwBYAFkAWgBbAFwAXQBeAF8AYABhAGIAYwBkAGUAZgBnAGgAaQBqAGsAbABtAG4AbwBwAHEAcgBzAHQAdQB2AHcAeAB5AHoAewB8AH0AfgB/AIAAgQCCAIMAhACFAIYAhwCIAIkAigCLAIwAjQCOAI8AkACRAJIAkwCUAJUAlgCXAJgAmQCaAJsAnACdAJ4AnwCgAKEAogCjAKQApQCmAKcAqACpAKoAqwCsAK0ArgCvALAAsACvAK4ArQCsAKsAqgCpAKgApwCmAKUApACjAKIAoQCgAJ8AngCdAJwAmwCaAJkAmACXAJYAlQCUAJMAkgCRAJAAjwCOAI0AjACLAIoAiQCIAIcAhgCFAIQAgwCCAIEAgAB/AH4AfQB8AHsAegB5AHgAdwB2AHUAdABzAHIAcQBwAG8AbgBtAGwAawBqAGkAaABnAGYAZQBkAGMAYgBhAGAAXwBeAF0AXABbAFoAWQBYAFcAVgBVAFQAUwBSAFEAUABPAE4ATQBMAEsASgBJAEgARwBGAEUARABDAEIAQQBAAD8APgA9ADwAOwA6ADkAOAA3ADYANQA0ADMAMgAxADAALwAuAC0ALAArACoAKQAoACcAJgAlACQAIwAiACEAIAAfAB4AHQAcABsAGgAZABgAFwAWABUAFAATABIAEQAQAA8ADgANAAwACwAKAAkACAAHAAYABQAEAAMAAgABAAAA",
          "dtype": "i2"
         },
         "y": {
          "bdata": "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",
          "dtype": "f8"
         }
        }
       ],
       "layout": {
        "template": {
         "data": {
          "bar": [
           {
            "error_x": {
             "color": "#2a3f5f"
            },
            "error_y": {
             "color": "#2a3f5f"
            },
            "marker": {
             "line": {
              "color": "white",
              "width": 0.5
             },
             "pattern": {
              "fillmode": "overlay",
              "size": 10,
              "solidity": 0.2
             }
            },
            "type": "bar"
           }
          ],
          "barpolar": [
           {
            "marker": {
             "line": {
              "color": "white",
              "width": 0.5
             },
             "pattern": {
              "fillmode": "overlay",
              "size": 10,
              "solidity": 0.2
             }
            },
            "type": "barpolar"
           }
          ],
          "carpet": [
           {
            "aaxis": {
             "endlinecolor": "#2a3f5f",
             "gridcolor": "#C8D4E3",
             "linecolor": "#C8D4E3",
             "minorgridcolor": "#C8D4E3",
             "startlinecolor": "#2a3f5f"
            },
            "baxis": {
             "endlinecolor": "#2a3f5f",
             "gridcolor": "#C8D4E3",
             "linecolor": "#C8D4E3",
             "minorgridcolor": "#C8D4E3",
             "startlinecolor": "#2a3f5f"
            },
            "type": "carpet"
           }
          ],
          "choropleth": [
           {
            "colorbar": {
             "outlinewidth": 0,
             "ticks": ""
            },
            "type": "choropleth"
           }
          ],
          "contour": [
           {
            "colorbar": {
             "outlinewidth": 0,
             "ticks": ""
            },
            "colorscale": [
             [
              0,
              "#0d0887"
             ],
             [
              0.1111111111111111,
              "#46039f"
             ],
             [
              0.2222222222222222,
              "#7201a8"
             ],
             [
              0.3333333333333333,
              "#9c179e"
             ],
             [
              0.4444444444444444,
              "#bd3786"
             ],
             [
              0.5555555555555556,
              "#d8576b"
             ],
             [
              0.6666666666666666,
              "#ed7953"
             ],
             [
              0.7777777777777778,
              "#fb9f3a"
             ],
             [
              0.8888888888888888,
              "#fdca26"
             ],
             [
              1,
              "#f0f921"
             ]
            ],
            "type": "contour"
           }
          ],
          "contourcarpet": [
           {
            "colorbar": {
             "outlinewidth": 0,
             "ticks": ""
            },
            "type": "contourcarpet"
           }
          ],
          "heatmap": [
           {
            "colorbar": {
             "outlinewidth": 0,
             "ticks": ""
            },
            "colorscale": [
             [
              0,
              "#0d0887"
             ],
             [
              0.1111111111111111,
              "#46039f"
             ],
             [
              0.2222222222222222,
              "#7201a8"
             ],
             [
              0.3333333333333333,
              "#9c179e"
             ],
             [
              0.4444444444444444,
              "#bd3786"
             ],
             [
              0.5555555555555556,
              "#d8576b"
             ],
             [
              0.6666666666666666,
              "#ed7953"
             ],
             [
              0.7777777777777778,
              "#fb9f3a"
             ],
             [
              0.8888888888888888,
              "#fdca26"
             ],
             [
              1,
              "#f0f921"
             ]
            ],
            "type": "heatmap"
           }
          ],
          "histogram": [
           {
            "marker": {
             "pattern": {
              "fillmode": "overlay",
              "size": 10,
              "solidity": 0.2
             }
            },
            "type": "histogram"
           }
          ],
          "histogram2d": [
           {
            "colorbar": {
             "outlinewidth": 0,
             "ticks": ""
            },
            "colorscale": [
             [
              0,
              "#0d0887"
             ],
             [
              0.1111111111111111,
              "#46039f"
             ],
             [
              0.2222222222222222,
              "#7201a8"
             ],
             [
              0.3333333333333333,
              "#9c179e"
             ],
             [
              0.4444444444444444,
              "#bd3786"
             ],
             [
              0.5555555555555556,
              "#d8576b"
             ],
             [
              0.6666666666666666,
              "#ed7953"
             ],
             [
              0.7777777777777778,
              "#fb9f3a"
             ],
             [
              0.8888888888888888,
              "#fdca26"
             ],
             [
              1,
              "#f0f921"
             ]
            ],
            "type": "histogram2d"
           }
          ],
          "histogram2dcontour": [
           {
            "colorbar": {
             "outlinewidth": 0,
             "ticks": ""
            },
            "colorscale": [
             [
              0,
              "#0d0887"
             ],
             [
              0.1111111111111111,
              "#46039f"
             ],
             [
              0.2222222222222222,
              "#7201a8"
             ],
             [
              0.3333333333333333,
              "#9c179e"
             ],
             [
              0.4444444444444444,
              "#bd3786"
             ],
             [
              0.5555555555555556,
              "#d8576b"
             ],
             [
              0.6666666666666666,
              "#ed7953"
             ],
             [
              0.7777777777777778,
              "#fb9f3a"
             ],
             [
              0.8888888888888888,
              "#fdca26"
             ],
             [
              1,
              "#f0f921"
             ]
            ],
            "type": "histogram2dcontour"
           }
          ],
          "mesh3d": [
           {
            "colorbar": {
             "outlinewidth": 0,
             "ticks": ""
            },
            "type": "mesh3d"
           }
          ],
          "parcoords": [
           {
            "line": {
             "colorbar": {
              "outlinewidth": 0,
              "ticks": ""
             }
            },
            "type": "parcoords"
           }
          ],
          "pie": [
           {
            "automargin": true,
            "type": "pie"
           }
          ],
          "scatter": [
           {
            "fillpattern": {
             "fillmode": "overlay",
             "size": 10,
             "solidity": 0.2
            },
            "type": "scatter"
           }
          ],
          "scatter3d": [
           {
            "line": {
             "colorbar": {
              "outlinewidth": 0,
              "ticks": ""
             }
            },
            "marker": {
             "colorbar": {
              "outlinewidth": 0,
              "ticks": ""
             }
            },
            "type": "scatter3d"
           }
          ],
          "scattercarpet": [
           {
            "marker": {
             "colorbar": {
              "outlinewidth": 0,
              "ticks": ""
             }
            },
            "type": "scattercarpet"
           }
          ],
          "scattergeo": [
           {
            "marker": {
             "colorbar": {
              "outlinewidth": 0,
              "ticks": ""
             }
            },
            "type": "scattergeo"
           }
          ],
          "scattergl": [
           {
            "marker": {
             "colorbar": {
              "outlinewidth": 0,
              "ticks": ""
             }
            },
            "type": "scattergl"
           }
          ],
          "scattermap": [
           {
            "marker": {
             "colorbar": {
              "outlinewidth": 0,
              "ticks": ""
             }
            },
            "type": "scattermap"
           }
          ],
          "scattermapbox": [
           {
            "marker": {
             "colorbar": {
              "outlinewidth": 0,
              "ticks": ""
             }
            },
            "type": "scattermapbox"
           }
          ],
          "scatterpolar": [
           {
            "marker": {
             "colorbar": {
              "outlinewidth": 0,
              "ticks": ""
             }
            },
            "type": "scatterpolar"
           }
          ],
          "scatterpolargl": [
           {
            "marker": {
             "colorbar": {
              "outlinewidth": 0,
              "ticks": ""
             }
            },
            "type": "scatterpolargl"
           }
          ],
          "scatterternary": [
           {
            "marker": {
             "colorbar": {
              "outlinewidth": 0,
              "ticks": ""
             }
            },
            "type": "scatterternary"
           }
          ],
          "surface": [
           {
            "colorbar": {
             "outlinewidth": 0,
             "ticks": ""
            },
            "colorscale": [
             [
              0,
              "#0d0887"
             ],
             [
              0.1111111111111111,
              "#46039f"
             ],
             [
              0.2222222222222222,
              "#7201a8"
             ],
             [
              0.3333333333333333,
              "#9c179e"
             ],
             [
              0.4444444444444444,
              "#bd3786"
             ],
             [
              0.5555555555555556,
              "#d8576b"
             ],
             [
              0.6666666666666666,
              "#ed7953"
             ],
             [
              0.7777777777777778,
              "#fb9f3a"
             ],
             [
              0.8888888888888888,
              "#fdca26"
             ],
             [
              1,
              "#f0f921"
             ]
            ],
            "type": "surface"
           }
          ],
          "table": [
           {
            "cells": {
             "fill": {
              "color": "#EBF0F8"
             },
             "line": {
              "color": "white"
             }
            },
            "header": {
             "fill": {
              "color": "#C8D4E3"
             },
             "line": {
              "color": "white"
             }
            },
            "type": "table"
           }
          ]
         },
         "layout": {
          "annotationdefaults": {
           "arrowcolor": "#2a3f5f",
           "arrowhead": 0,
           "arrowwidth": 1
          },
          "autotypenumbers": "strict",
          "coloraxis": {
           "colorbar": {
            "outlinewidth": 0,
            "ticks": ""
           }
          },
          "colorscale": {
           "diverging": [
            [
             0,
             "#8e0152"
            ],
            [
             0.1,
             "#c51b7d"
            ],
            [
             0.2,
             "#de77ae"
            ],
            [
             0.3,
             "#f1b6da"
            ],
            [
             0.4,
             "#fde0ef"
            ],
            [
             0.5,
             "#f7f7f7"
            ],
            [
             0.6,
             "#e6f5d0"
            ],
            [
             0.7,
             "#b8e186"
            ],
            [
             0.8,
             "#7fbc41"
            ],
            [
             0.9,
             "#4d9221"
            ],
            [
             1,
             "#276419"
            ]
           ],
           "sequential": [
            [
             0,
             "#0d0887"
            ],
            [
             0.1111111111111111,
             "#46039f"
            ],
            [
             0.2222222222222222,
             "#7201a8"
            ],
            [
             0.3333333333333333,
             "#9c179e"
            ],
            [
             0.4444444444444444,
             "#bd3786"
            ],
            [
             0.5555555555555556,
             "#d8576b"
            ],
            [
             0.6666666666666666,
             "#ed7953"
            ],
            [
             0.7777777777777778,
             "#fb9f3a"
            ],
            [
             0.8888888888888888,
             "#fdca26"
            ],
            [
             1,
             "#f0f921"
            ]
           ],
           "sequentialminus": [
            [
             0,
             "#0d0887"
            ],
            [
             0.1111111111111111,
             "#46039f"
            ],
            [
             0.2222222222222222,
             "#7201a8"
            ],
            [
             0.3333333333333333,
             "#9c179e"
            ],
            [
             0.4444444444444444,
             "#bd3786"
            ],
            [
             0.5555555555555556,
             "#d8576b"
            ],
            [
             0.6666666666666666,
             "#ed7953"
            ],
            [
             0.7777777777777778,
             "#fb9f3a"
            ],
            [
             0.8888888888888888,
             "#fdca26"
            ],
            [
             1,
             "#f0f921"
            ]
           ]
          },
          "colorway": [
           "#636efa",
           "#EF553B",
           "#00cc96",
           "#ab63fa",
           "#FFA15A",
           "#19d3f3",
           "#FF6692",
           "#B6E880",
           "#FF97FF",
           "#FECB52"
          ],
          "font": {
           "color": "#2a3f5f"
          },
          "geo": {
           "bgcolor": "white",
           "lakecolor": "white",
           "landcolor": "white",
           "showlakes": true,
           "showland": true,
           "subunitcolor": "#C8D4E3"
          },
          "hoverlabel": {
           "align": "left"
          },
          "hovermode": "closest",
          "mapbox": {
           "style": "light"
          },
          "paper_bgcolor": "white",
          "plot_bgcolor": "white",
          "polar": {
           "angularaxis": {
            "gridcolor": "#EBF0F8",
            "linecolor": "#EBF0F8",
            "ticks": ""
           },
           "bgcolor": "white",
           "radialaxis": {
            "gridcolor": "#EBF0F8",
            "linecolor": "#EBF0F8",
            "ticks": ""
           }
          },
          "scene": {
           "xaxis": {
            "backgroundcolor": "white",
            "gridcolor": "#DFE8F3",
            "gridwidth": 2,
            "linecolor": "#EBF0F8",
            "showbackground": true,
            "ticks": "",
            "zerolinecolor": "#EBF0F8"
           },
           "yaxis": {
            "backgroundcolor": "white",
            "gridcolor": "#DFE8F3",
            "gridwidth": 2,
            "linecolor": "#EBF0F8",
            "showbackground": true,
            "ticks": "",
            "zerolinecolor": "#EBF0F8"
           },
           "zaxis": {
            "backgroundcolor": "white",
            "gridcolor": "#DFE8F3",
            "gridwidth": 2,
            "linecolor": "#EBF0F8",
            "showbackground": true,
            "ticks": "",
            "zerolinecolor": "#EBF0F8"
           }
          },
          "shapedefaults": {
           "line": {
            "color": "#2a3f5f"
           }
          },
          "ternary": {
           "aaxis": {
            "gridcolor": "#DFE8F3",
            "linecolor": "#A2B1C6",
            "ticks": ""
           },
           "baxis": {
            "gridcolor": "#DFE8F3",
            "linecolor": "#A2B1C6",
            "ticks": ""
           },
           "bgcolor": "white",
           "caxis": {
            "gridcolor": "#DFE8F3",
            "linecolor": "#A2B1C6",
            "ticks": ""
           }
          },
          "title": {
           "x": 0.05
          },
          "xaxis": {
           "automargin": true,
           "gridcolor": "#EBF0F8",
           "linecolor": "#EBF0F8",
           "ticks": "",
           "title": {
            "standoff": 15
           },
           "zerolinecolor": "#EBF0F8",
           "zerolinewidth": 2
          },
          "yaxis": {
           "automargin": true,
           "gridcolor": "#EBF0F8",
           "linecolor": "#EBF0F8",
           "ticks": "",
           "title": {
            "standoff": 15
           },
           "zerolinecolor": "#EBF0F8",
           "zerolinewidth": 2
          }
         }
        },
        "title": {
         "text": "Cross-Validation (N=5) Mean Logloss with Error Bands"
        },
        "xaxis": {
         "title": {
          "text": "Training Steps"
         }
        },
        "yaxis": {
         "title": {
          "text": "Logloss"
         }
        }
       }
      }
     },
     "metadata": {},
     "output_type": "display_data"
    }
   ],
   "source": [
    "import plotly.graph_objects as go\n",
    "\n",
    "# Create figure\n",
    "fig = go.Figure()\n",
    "\n",
    "# Add mean performance line\n",
    "fig.add_trace(\n",
    "    go.Scatter(\n",
    "        x=cv_results[\"iterations\"], y=cv_results[\"test-Logloss-mean\"], mode=\"lines\", name=\"Mean logloss\", line=dict(color=\"blue\")\n",
    "    )\n",
    ")\n",
    "\n",
    "# Add shaded error region\n",
    "fig.add_trace(\n",
    "    go.Scatter(\n",
    "        x=pd.concat([cv_results[\"iterations\"], cv_results[\"iterations\"][::-1]]),\n",
    "        y=pd.concat([cv_results[\"test-Logloss-mean\"]+cv_results[\"test-Logloss-std\"], \n",
    "                     cv_results[\"test-Logloss-mean\"]-cv_results[\"test-Logloss-std\"]]),\n",
    "        fill=\"toself\", \n",
    "        fillcolor=\"rgba(0, 0, 255, 0.2)\",\n",
    "        line=dict(color=\"rgba(255, 255, 255, 0)\"),\n",
    "        showlegend=False\n",
    "    )\n",
    ")\n",
    "\n",
    "# Customize layout\n",
    "fig.update_layout(\n",
    "    title=\"Cross-Validation (N=5) Mean Logloss with Error Bands\",\n",
    "    xaxis_title=\"Training Steps\",\n",
    "    yaxis_title=\"Logloss\",\n",
    "    template=\"plotly_white\"\n",
    ")\n",
    "\n",
    "fig.show()\n",
    "\n",
    "fig.write_image(outfolder / \"test_logloss_v2.png\")"
   ]
  },
  {
   "cell_type": "code",
   "execution_count": 9,
   "id": "604fcc8e",
   "metadata": {},
   "outputs": [
    {
     "data": {
      "application/vnd.jupyter.widget-view+json": {
       "model_id": "55bdb419336240c9868b19d5c378b3b4",
       "version_major": 2,
       "version_minor": 0
      },
      "text/plain": [
       "MetricVisualizer(layout=Layout(align_self='stretch', height='500px'))"
      ]
     },
     "metadata": {},
     "output_type": "display_data"
    },
    {
     "name": "stdout",
     "output_type": "stream",
     "text": [
      "0:\tlearn: 0.5549133\ttotal: 753us\tremaining: 133ms\n",
      "50:\tlearn: 0.7621483\ttotal: 77.6ms\tremaining: 192ms\n",
      "100:\tlearn: 0.8190955\ttotal: 109ms\tremaining: 82.4ms\n",
      "150:\tlearn: 0.8585608\ttotal: 135ms\tremaining: 23.2ms\n",
      "176:\tlearn: 0.8811881\ttotal: 148ms\tremaining: 0us\n"
     ]
    },
    {
     "data": {
      "text/plain": [
       "['results\\\\model_params_v2.pkl']"
      ]
     },
     "execution_count": 9,
     "metadata": {},
     "output_type": "execute_result"
    }
   ],
   "source": [
    "model.fit(\n",
    "    X_train,\n",
    "    y_train,\n",
    "    verbose_eval=50,\n",
    "    early_stopping_rounds=50,\n",
    "    use_best_model=False,\n",
    "    plot=True\n",
    ")\n",
    "\n",
    "model.save_model(outfolder / 'catboost_model_diabetes_v2.cbm')\n",
    "joblib.dump(params, outfolder / 'model_params_v2.pkl')"
   ]
  },
  {
   "cell_type": "code",
   "execution_count": 10,
   "id": "fd29e0d9",
   "metadata": {},
   "outputs": [
    {
     "data": {
      "text/plain": [
       "array([1, 0, 0, 0, 1, 1, 0, 1, 1, 0, 0, 1, 0, 0, 0, 1, 0, 0, 1, 0, 0, 0,\n",
       "       0, 0, 1, 1, 0, 0, 0, 0, 1, 1, 1, 1, 1, 1, 1, 1, 0, 1, 0, 0, 1, 0,\n",
       "       0, 1, 1, 0, 0, 1, 0, 1, 1, 0, 0, 0, 0, 0, 0, 1, 1, 0, 0, 1, 0, 1,\n",
       "       0, 1, 0, 1, 1, 0, 0, 0, 0, 0, 0, 0, 0, 0, 1, 0, 0, 0, 0, 1, 1, 0,\n",
       "       0, 0, 0, 0, 0, 1, 1, 1, 1, 0, 1, 0, 1, 0, 1, 1, 1, 0, 0, 1, 0, 1,\n",
       "       0, 1, 0, 1, 0, 1, 1, 1, 0, 1, 0, 0, 0, 0, 0, 0, 0, 1, 1, 1, 1, 1,\n",
       "       0, 0, 1, 0, 0, 1, 1, 0, 0, 0, 0, 0, 0, 0, 0, 0, 0, 1, 0, 0, 0, 0])"
      ]
     },
     "execution_count": 10,
     "metadata": {},
     "output_type": "execute_result"
    }
   ],
   "source": [
    "model.predict(df_test)"
   ]
  },
  {
   "cell_type": "code",
   "execution_count": 11,
   "id": "66b0a6b9",
   "metadata": {},
   "outputs": [],
   "source": [
    "preds = model.predict(df_test[X_train.columns])"
   ]
  },
  {
   "cell_type": "code",
   "execution_count": 12,
   "id": "f189f6ef",
   "metadata": {},
   "outputs": [
    {
     "data": {
      "image/png": "[encoded data removed]",
      "text/plain": [
       "<Figure size 800x470 with 2 Axes>"
      ]
     },
     "metadata": {},
     "output_type": "display_data"
    }
   ],
   "source": [
    "import shap\n",
    "import matplotlib.pyplot as plt\n",
    "explainer = shap.TreeExplainer(model)\n",
    "shap_values = explainer.shap_values(df_test)\n",
    "\n",
    "shap.summary_plot(shap_values, df_test, show=False)\n",
    "plt.savefig(outfolder / \"test_shap_overall_v2.png\")"
   ]
  },
  {
   "cell_type": "code",
   "execution_count": 13,
   "id": "2e209949",
   "metadata": {},
   "outputs": [],
   "source": [
    "df_test[\"target\"] = preds\n",
    "df_test.to_csv(outfolder / \"predictions_v2.csv\", index=False)"
   ]
  }
 ],
 "metadata": {
  "kernelspec": {
   "display_name": "Python 3",
   "language": "python",
   "name": "python3"
  },
  "language_info": {
   "codemirror_mode": {
    "name": "ipython",
    "version": 3
   },
   "file_extension": ".py",
   "mimetype": "text/x-python",
   "name": "python",
   "nbconvert_exporter": "python",
   "pygments_lexer": "ipython3",
   "version": "3.11.9"
  }
 },
 "nbformat": 4,
 "nbformat_minor": 5
}
